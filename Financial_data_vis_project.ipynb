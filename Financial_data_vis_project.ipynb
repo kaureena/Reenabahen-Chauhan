{
  "nbformat": 4,
  "nbformat_minor": 0,
  "metadata": {
    "colab": {
      "provenance": [],
      "include_colab_link": true
    },
    "kernelspec": {
      "name": "python3",
      "display_name": "Python 3"
    },
    "language_info": {
      "name": "python"
    },
    "widgets": {
      "application/vnd.jupyter.widget-state+json": {
        "b9c2142bd1c74321bb655cb70f71a5c3": {
          "model_module": "@jupyter-widgets/controls",
          "model_name": "HBoxModel",
          "model_module_version": "1.5.0",
          "state": {
            "_dom_classes": [],
            "_model_module": "@jupyter-widgets/controls",
            "_model_module_version": "1.5.0",
            "_model_name": "HBoxModel",
            "_view_count": null,
            "_view_module": "@jupyter-widgets/controls",
            "_view_module_version": "1.5.0",
            "_view_name": "HBoxView",
            "box_style": "",
            "children": [
              "IPY_MODEL_988f52fe2f954130a48b566ea178c5a0",
              "IPY_MODEL_d331c812433744fd8435002e879eb30c",
              "IPY_MODEL_13d280c86f4d4359b2f588c1e16f4347"
            ],
            "layout": "IPY_MODEL_01a46c9c55334e05862a5d1d91a558ac"
          }
        },
        "988f52fe2f954130a48b566ea178c5a0": {
          "model_module": "@jupyter-widgets/controls",
          "model_name": "HTMLModel",
          "model_module_version": "1.5.0",
          "state": {
            "_dom_classes": [],
            "_model_module": "@jupyter-widgets/controls",
            "_model_module_version": "1.5.0",
            "_model_name": "HTMLModel",
            "_view_count": null,
            "_view_module": "@jupyter-widgets/controls",
            "_view_module_version": "1.5.0",
            "_view_name": "HTMLView",
            "description": "",
            "description_tooltip": null,
            "layout": "IPY_MODEL_c48c5800a19f41118e9e09e4b6bcf7f6",
            "placeholder": "​",
            "style": "IPY_MODEL_3e5941ae935542de8286707c5e268e69",
            "value": "100%"
          }
        },
        "d331c812433744fd8435002e879eb30c": {
          "model_module": "@jupyter-widgets/controls",
          "model_name": "FloatProgressModel",
          "model_module_version": "1.5.0",
          "state": {
            "_dom_classes": [],
            "_model_module": "@jupyter-widgets/controls",
            "_model_module_version": "1.5.0",
            "_model_name": "FloatProgressModel",
            "_view_count": null,
            "_view_module": "@jupyter-widgets/controls",
            "_view_module_version": "1.5.0",
            "_view_name": "ProgressView",
            "bar_style": "success",
            "description": "",
            "description_tooltip": null,
            "layout": "IPY_MODEL_2df9ecb03ca143ada1f5cf9c40e45fa9",
            "max": 10,
            "min": 0,
            "orientation": "horizontal",
            "style": "IPY_MODEL_5df4152f155f4a0aa42e05af59fbf361",
            "value": 10
          }
        },
        "13d280c86f4d4359b2f588c1e16f4347": {
          "model_module": "@jupyter-widgets/controls",
          "model_name": "HTMLModel",
          "model_module_version": "1.5.0",
          "state": {
            "_dom_classes": [],
            "_model_module": "@jupyter-widgets/controls",
            "_model_module_version": "1.5.0",
            "_model_name": "HTMLModel",
            "_view_count": null,
            "_view_module": "@jupyter-widgets/controls",
            "_view_module_version": "1.5.0",
            "_view_name": "HTMLView",
            "description": "",
            "description_tooltip": null,
            "layout": "IPY_MODEL_ca9c89fa6ade49f48f3e16e1e8e77403",
            "placeholder": "​",
            "style": "IPY_MODEL_115d861c812a46dcbaedeee62bf11b71",
            "value": " 10/10 [00:19&lt;00:00,  2.04s/it]"
          }
        },
        "01a46c9c55334e05862a5d1d91a558ac": {
          "model_module": "@jupyter-widgets/base",
          "model_name": "LayoutModel",
          "model_module_version": "1.2.0",
          "state": {
            "_model_module": "@jupyter-widgets/base",
            "_model_module_version": "1.2.0",
            "_model_name": "LayoutModel",
            "_view_count": null,
            "_view_module": "@jupyter-widgets/base",
            "_view_module_version": "1.2.0",
            "_view_name": "LayoutView",
            "align_content": null,
            "align_items": null,
            "align_self": null,
            "border": null,
            "bottom": null,
            "display": null,
            "flex": null,
            "flex_flow": null,
            "grid_area": null,
            "grid_auto_columns": null,
            "grid_auto_flow": null,
            "grid_auto_rows": null,
            "grid_column": null,
            "grid_gap": null,
            "grid_row": null,
            "grid_template_areas": null,
            "grid_template_columns": null,
            "grid_template_rows": null,
            "height": null,
            "justify_content": null,
            "justify_items": null,
            "left": null,
            "margin": null,
            "max_height": null,
            "max_width": null,
            "min_height": null,
            "min_width": null,
            "object_fit": null,
            "object_position": null,
            "order": null,
            "overflow": null,
            "overflow_x": null,
            "overflow_y": null,
            "padding": null,
            "right": null,
            "top": null,
            "visibility": null,
            "width": null
          }
        },
        "c48c5800a19f41118e9e09e4b6bcf7f6": {
          "model_module": "@jupyter-widgets/base",
          "model_name": "LayoutModel",
          "model_module_version": "1.2.0",
          "state": {
            "_model_module": "@jupyter-widgets/base",
            "_model_module_version": "1.2.0",
            "_model_name": "LayoutModel",
            "_view_count": null,
            "_view_module": "@jupyter-widgets/base",
            "_view_module_version": "1.2.0",
            "_view_name": "LayoutView",
            "align_content": null,
            "align_items": null,
            "align_self": null,
            "border": null,
            "bottom": null,
            "display": null,
            "flex": null,
            "flex_flow": null,
            "grid_area": null,
            "grid_auto_columns": null,
            "grid_auto_flow": null,
            "grid_auto_rows": null,
            "grid_column": null,
            "grid_gap": null,
            "grid_row": null,
            "grid_template_areas": null,
            "grid_template_columns": null,
            "grid_template_rows": null,
            "height": null,
            "justify_content": null,
            "justify_items": null,
            "left": null,
            "margin": null,
            "max_height": null,
            "max_width": null,
            "min_height": null,
            "min_width": null,
            "object_fit": null,
            "object_position": null,
            "order": null,
            "overflow": null,
            "overflow_x": null,
            "overflow_y": null,
            "padding": null,
            "right": null,
            "top": null,
            "visibility": null,
            "width": null
          }
        },
        "3e5941ae935542de8286707c5e268e69": {
          "model_module": "@jupyter-widgets/controls",
          "model_name": "DescriptionStyleModel",
          "model_module_version": "1.5.0",
          "state": {
            "_model_module": "@jupyter-widgets/controls",
            "_model_module_version": "1.5.0",
            "_model_name": "DescriptionStyleModel",
            "_view_count": null,
            "_view_module": "@jupyter-widgets/base",
            "_view_module_version": "1.2.0",
            "_view_name": "StyleView",
            "description_width": ""
          }
        },
        "2df9ecb03ca143ada1f5cf9c40e45fa9": {
          "model_module": "@jupyter-widgets/base",
          "model_name": "LayoutModel",
          "model_module_version": "1.2.0",
          "state": {
            "_model_module": "@jupyter-widgets/base",
            "_model_module_version": "1.2.0",
            "_model_name": "LayoutModel",
            "_view_count": null,
            "_view_module": "@jupyter-widgets/base",
            "_view_module_version": "1.2.0",
            "_view_name": "LayoutView",
            "align_content": null,
            "align_items": null,
            "align_self": null,
            "border": null,
            "bottom": null,
            "display": null,
            "flex": null,
            "flex_flow": null,
            "grid_area": null,
            "grid_auto_columns": null,
            "grid_auto_flow": null,
            "grid_auto_rows": null,
            "grid_column": null,
            "grid_gap": null,
            "grid_row": null,
            "grid_template_areas": null,
            "grid_template_columns": null,
            "grid_template_rows": null,
            "height": null,
            "justify_content": null,
            "justify_items": null,
            "left": null,
            "margin": null,
            "max_height": null,
            "max_width": null,
            "min_height": null,
            "min_width": null,
            "object_fit": null,
            "object_position": null,
            "order": null,
            "overflow": null,
            "overflow_x": null,
            "overflow_y": null,
            "padding": null,
            "right": null,
            "top": null,
            "visibility": null,
            "width": null
          }
        },
        "5df4152f155f4a0aa42e05af59fbf361": {
          "model_module": "@jupyter-widgets/controls",
          "model_name": "ProgressStyleModel",
          "model_module_version": "1.5.0",
          "state": {
            "_model_module": "@jupyter-widgets/controls",
            "_model_module_version": "1.5.0",
            "_model_name": "ProgressStyleModel",
            "_view_count": null,
            "_view_module": "@jupyter-widgets/base",
            "_view_module_version": "1.2.0",
            "_view_name": "StyleView",
            "bar_color": null,
            "description_width": ""
          }
        },
        "ca9c89fa6ade49f48f3e16e1e8e77403": {
          "model_module": "@jupyter-widgets/base",
          "model_name": "LayoutModel",
          "model_module_version": "1.2.0",
          "state": {
            "_model_module": "@jupyter-widgets/base",
            "_model_module_version": "1.2.0",
            "_model_name": "LayoutModel",
            "_view_count": null,
            "_view_module": "@jupyter-widgets/base",
            "_view_module_version": "1.2.0",
            "_view_name": "LayoutView",
            "align_content": null,
            "align_items": null,
            "align_self": null,
            "border": null,
            "bottom": null,
            "display": null,
            "flex": null,
            "flex_flow": null,
            "grid_area": null,
            "grid_auto_columns": null,
            "grid_auto_flow": null,
            "grid_auto_rows": null,
            "grid_column": null,
            "grid_gap": null,
            "grid_row": null,
            "grid_template_areas": null,
            "grid_template_columns": null,
            "grid_template_rows": null,
            "height": null,
            "justify_content": null,
            "justify_items": null,
            "left": null,
            "margin": null,
            "max_height": null,
            "max_width": null,
            "min_height": null,
            "min_width": null,
            "object_fit": null,
            "object_position": null,
            "order": null,
            "overflow": null,
            "overflow_x": null,
            "overflow_y": null,
            "padding": null,
            "right": null,
            "top": null,
            "visibility": null,
            "width": null
          }
        },
        "115d861c812a46dcbaedeee62bf11b71": {
          "model_module": "@jupyter-widgets/controls",
          "model_name": "DescriptionStyleModel",
          "model_module_version": "1.5.0",
          "state": {
            "_model_module": "@jupyter-widgets/controls",
            "_model_module_version": "1.5.0",
            "_model_name": "DescriptionStyleModel",
            "_view_count": null,
            "_view_module": "@jupyter-widgets/base",
            "_view_module_version": "1.2.0",
            "_view_name": "StyleView",
            "description_width": ""
          }
        }
      }
    }
  },
  "cells": [
    {
      "cell_type": "markdown",
      "metadata": {
        "id": "view-in-github",
        "colab_type": "text"
      },
      "source": [
        "<a href=\"https://colab.research.google.com/github/kaureena/Reenabahen-Chauhan/blob/main/Financial_data_vis_project.ipynb\" target=\"_parent\"><img src=\"https://colab.research.google.com/assets/colab-badge.svg\" alt=\"Open In Colab\"/></a>"
      ]
    },
    {
      "cell_type": "code",
      "execution_count": 1,
      "metadata": {
        "colab": {
          "base_uri": "https://localhost:8080/"
        },
        "id": "r05sKJ7L6VDC",
        "outputId": "12842a56-6d81-445a-ad21-02fe7de7794b"
      },
      "outputs": [
        {
          "output_type": "stream",
          "name": "stdout",
          "text": [
            "Requirement already satisfied: yfinance in /usr/local/lib/python3.10/dist-packages (0.2.43)\n",
            "Requirement already satisfied: plotly in /usr/local/lib/python3.10/dist-packages (5.15.0)\n",
            "Requirement already satisfied: scikit-learn in /usr/local/lib/python3.10/dist-packages (1.3.2)\n",
            "Requirement already satisfied: statsmodels in /usr/local/lib/python3.10/dist-packages (0.14.2)\n",
            "Requirement already satisfied: tensorflow in /usr/local/lib/python3.10/dist-packages (2.17.0)\n",
            "Collecting shap\n",
            "  Downloading shap-0.46.0-cp310-cp310-manylinux_2_12_x86_64.manylinux2010_x86_64.manylinux_2_17_x86_64.manylinux2014_x86_64.whl.metadata (24 kB)\n",
            "Requirement already satisfied: pandas>=1.3.0 in /usr/local/lib/python3.10/dist-packages (from yfinance) (2.1.4)\n",
            "Requirement already satisfied: numpy>=1.16.5 in /usr/local/lib/python3.10/dist-packages (from yfinance) (1.26.4)\n",
            "Requirement already satisfied: requests>=2.31 in /usr/local/lib/python3.10/dist-packages (from yfinance) (2.32.3)\n",
            "Requirement already satisfied: multitasking>=0.0.7 in /usr/local/lib/python3.10/dist-packages (from yfinance) (0.0.11)\n",
            "Requirement already satisfied: lxml>=4.9.1 in /usr/local/lib/python3.10/dist-packages (from yfinance) (4.9.4)\n",
            "Requirement already satisfied: platformdirs>=2.0.0 in /usr/local/lib/python3.10/dist-packages (from yfinance) (4.2.2)\n",
            "Requirement already satisfied: pytz>=2022.5 in /usr/local/lib/python3.10/dist-packages (from yfinance) (2024.1)\n",
            "Requirement already satisfied: frozendict>=2.3.4 in /usr/local/lib/python3.10/dist-packages (from yfinance) (2.4.4)\n",
            "Requirement already satisfied: peewee>=3.16.2 in /usr/local/lib/python3.10/dist-packages (from yfinance) (3.17.6)\n",
            "Requirement already satisfied: beautifulsoup4>=4.11.1 in /usr/local/lib/python3.10/dist-packages (from yfinance) (4.12.3)\n",
            "Requirement already satisfied: html5lib>=1.1 in /usr/local/lib/python3.10/dist-packages (from yfinance) (1.1)\n",
            "Requirement already satisfied: tenacity>=6.2.0 in /usr/local/lib/python3.10/dist-packages (from plotly) (9.0.0)\n",
            "Requirement already satisfied: packaging in /usr/local/lib/python3.10/dist-packages (from plotly) (24.1)\n",
            "Requirement already satisfied: scipy>=1.5.0 in /usr/local/lib/python3.10/dist-packages (from scikit-learn) (1.13.1)\n",
            "Requirement already satisfied: joblib>=1.1.1 in /usr/local/lib/python3.10/dist-packages (from scikit-learn) (1.4.2)\n",
            "Requirement already satisfied: threadpoolctl>=2.0.0 in /usr/local/lib/python3.10/dist-packages (from scikit-learn) (3.5.0)\n",
            "Requirement already satisfied: patsy>=0.5.6 in /usr/local/lib/python3.10/dist-packages (from statsmodels) (0.5.6)\n",
            "Requirement already satisfied: absl-py>=1.0.0 in /usr/local/lib/python3.10/dist-packages (from tensorflow) (1.4.0)\n",
            "Requirement already satisfied: astunparse>=1.6.0 in /usr/local/lib/python3.10/dist-packages (from tensorflow) (1.6.3)\n",
            "Requirement already satisfied: flatbuffers>=24.3.25 in /usr/local/lib/python3.10/dist-packages (from tensorflow) (24.3.25)\n",
            "Requirement already satisfied: gast!=0.5.0,!=0.5.1,!=0.5.2,>=0.2.1 in /usr/local/lib/python3.10/dist-packages (from tensorflow) (0.6.0)\n",
            "Requirement already satisfied: google-pasta>=0.1.1 in /usr/local/lib/python3.10/dist-packages (from tensorflow) (0.2.0)\n",
            "Requirement already satisfied: h5py>=3.10.0 in /usr/local/lib/python3.10/dist-packages (from tensorflow) (3.11.0)\n",
            "Requirement already satisfied: libclang>=13.0.0 in /usr/local/lib/python3.10/dist-packages (from tensorflow) (18.1.1)\n",
            "Requirement already satisfied: ml-dtypes<0.5.0,>=0.3.1 in /usr/local/lib/python3.10/dist-packages (from tensorflow) (0.4.0)\n",
            "Requirement already satisfied: opt-einsum>=2.3.2 in /usr/local/lib/python3.10/dist-packages (from tensorflow) (3.3.0)\n",
            "Requirement already satisfied: protobuf!=4.21.0,!=4.21.1,!=4.21.2,!=4.21.3,!=4.21.4,!=4.21.5,<5.0.0dev,>=3.20.3 in /usr/local/lib/python3.10/dist-packages (from tensorflow) (3.20.3)\n",
            "Requirement already satisfied: setuptools in /usr/local/lib/python3.10/dist-packages (from tensorflow) (71.0.4)\n",
            "Requirement already satisfied: six>=1.12.0 in /usr/local/lib/python3.10/dist-packages (from tensorflow) (1.16.0)\n",
            "Requirement already satisfied: termcolor>=1.1.0 in /usr/local/lib/python3.10/dist-packages (from tensorflow) (2.4.0)\n",
            "Requirement already satisfied: typing-extensions>=3.6.6 in /usr/local/lib/python3.10/dist-packages (from tensorflow) (4.12.2)\n",
            "Requirement already satisfied: wrapt>=1.11.0 in /usr/local/lib/python3.10/dist-packages (from tensorflow) (1.16.0)\n",
            "Requirement already satisfied: grpcio<2.0,>=1.24.3 in /usr/local/lib/python3.10/dist-packages (from tensorflow) (1.64.1)\n",
            "Requirement already satisfied: tensorboard<2.18,>=2.17 in /usr/local/lib/python3.10/dist-packages (from tensorflow) (2.17.0)\n",
            "Requirement already satisfied: keras>=3.2.0 in /usr/local/lib/python3.10/dist-packages (from tensorflow) (3.4.1)\n",
            "Requirement already satisfied: tensorflow-io-gcs-filesystem>=0.23.1 in /usr/local/lib/python3.10/dist-packages (from tensorflow) (0.37.1)\n",
            "Requirement already satisfied: tqdm>=4.27.0 in /usr/local/lib/python3.10/dist-packages (from shap) (4.66.5)\n",
            "Collecting slicer==0.0.8 (from shap)\n",
            "  Downloading slicer-0.0.8-py3-none-any.whl.metadata (4.0 kB)\n",
            "Requirement already satisfied: numba in /usr/local/lib/python3.10/dist-packages (from shap) (0.60.0)\n",
            "Requirement already satisfied: cloudpickle in /usr/local/lib/python3.10/dist-packages (from shap) (2.2.1)\n",
            "Requirement already satisfied: wheel<1.0,>=0.23.0 in /usr/local/lib/python3.10/dist-packages (from astunparse>=1.6.0->tensorflow) (0.44.0)\n",
            "Requirement already satisfied: soupsieve>1.2 in /usr/local/lib/python3.10/dist-packages (from beautifulsoup4>=4.11.1->yfinance) (2.6)\n",
            "Requirement already satisfied: webencodings in /usr/local/lib/python3.10/dist-packages (from html5lib>=1.1->yfinance) (0.5.1)\n",
            "Requirement already satisfied: rich in /usr/local/lib/python3.10/dist-packages (from keras>=3.2.0->tensorflow) (13.8.0)\n",
            "Requirement already satisfied: namex in /usr/local/lib/python3.10/dist-packages (from keras>=3.2.0->tensorflow) (0.0.8)\n",
            "Requirement already satisfied: optree in /usr/local/lib/python3.10/dist-packages (from keras>=3.2.0->tensorflow) (0.12.1)\n",
            "Requirement already satisfied: python-dateutil>=2.8.2 in /usr/local/lib/python3.10/dist-packages (from pandas>=1.3.0->yfinance) (2.8.2)\n",
            "Requirement already satisfied: tzdata>=2022.1 in /usr/local/lib/python3.10/dist-packages (from pandas>=1.3.0->yfinance) (2024.1)\n",
            "Requirement already satisfied: charset-normalizer<4,>=2 in /usr/local/lib/python3.10/dist-packages (from requests>=2.31->yfinance) (3.3.2)\n",
            "Requirement already satisfied: idna<4,>=2.5 in /usr/local/lib/python3.10/dist-packages (from requests>=2.31->yfinance) (3.8)\n",
            "Requirement already satisfied: urllib3<3,>=1.21.1 in /usr/local/lib/python3.10/dist-packages (from requests>=2.31->yfinance) (2.0.7)\n",
            "Requirement already satisfied: certifi>=2017.4.17 in /usr/local/lib/python3.10/dist-packages (from requests>=2.31->yfinance) (2024.8.30)\n",
            "Requirement already satisfied: markdown>=2.6.8 in /usr/local/lib/python3.10/dist-packages (from tensorboard<2.18,>=2.17->tensorflow) (3.7)\n",
            "Requirement already satisfied: tensorboard-data-server<0.8.0,>=0.7.0 in /usr/local/lib/python3.10/dist-packages (from tensorboard<2.18,>=2.17->tensorflow) (0.7.2)\n",
            "Requirement already satisfied: werkzeug>=1.0.1 in /usr/local/lib/python3.10/dist-packages (from tensorboard<2.18,>=2.17->tensorflow) (3.0.4)\n",
            "Requirement already satisfied: llvmlite<0.44,>=0.43.0dev0 in /usr/local/lib/python3.10/dist-packages (from numba->shap) (0.43.0)\n",
            "Requirement already satisfied: MarkupSafe>=2.1.1 in /usr/local/lib/python3.10/dist-packages (from werkzeug>=1.0.1->tensorboard<2.18,>=2.17->tensorflow) (2.1.5)\n",
            "Requirement already satisfied: markdown-it-py>=2.2.0 in /usr/local/lib/python3.10/dist-packages (from rich->keras>=3.2.0->tensorflow) (3.0.0)\n",
            "Requirement already satisfied: pygments<3.0.0,>=2.13.0 in /usr/local/lib/python3.10/dist-packages (from rich->keras>=3.2.0->tensorflow) (2.16.1)\n",
            "Requirement already satisfied: mdurl~=0.1 in /usr/local/lib/python3.10/dist-packages (from markdown-it-py>=2.2.0->rich->keras>=3.2.0->tensorflow) (0.1.2)\n",
            "Downloading shap-0.46.0-cp310-cp310-manylinux_2_12_x86_64.manylinux2010_x86_64.manylinux_2_17_x86_64.manylinux2014_x86_64.whl (540 kB)\n",
            "\u001b[2K   \u001b[90m━━━━━━━━━━━━━━━━━━━━━━━━━━━━━━━━━━━━━━━━\u001b[0m \u001b[32m540.1/540.1 kB\u001b[0m \u001b[31m9.8 MB/s\u001b[0m eta \u001b[36m0:00:00\u001b[0m\n",
            "\u001b[?25hDownloading slicer-0.0.8-py3-none-any.whl (15 kB)\n",
            "Installing collected packages: slicer, shap\n",
            "Successfully installed shap-0.46.0 slicer-0.0.8\n",
            "                                  Open         High          Low        Close  \\\n",
            "Datetime                                                                        \n",
            "2024-09-06 08:00:00+01:00  8241.709961  8241.709961  8218.290039  8223.030273   \n",
            "2024-09-06 08:01:00+01:00  8223.269531  8226.690430  8223.269531  8225.280273   \n",
            "2024-09-06 08:02:00+01:00  8225.139648  8225.139648  8221.790039  8222.009766   \n",
            "2024-09-06 08:03:00+01:00  8222.230469  8222.730469  8218.750000  8218.799805   \n",
            "2024-09-06 08:04:00+01:00  8219.169922  8220.639648  8218.000000  8220.120117   \n",
            "...                                ...          ...          ...          ...   \n",
            "2024-09-06 10:14:00+01:00  8199.000000  8199.000000  8196.490234  8196.490234   \n",
            "2024-09-06 10:15:00+01:00  8196.459961  8196.679688  8196.120117  8196.599609   \n",
            "2024-09-06 10:16:00+01:00  8196.570312  8197.290039  8196.530273  8197.290039   \n",
            "2024-09-06 10:17:00+01:00  8197.200195  8197.490234  8196.940430  8197.330078   \n",
            "2024-09-06 10:18:00+01:00  8198.780273  8198.780273  8198.780273  8198.780273   \n",
            "\n",
            "                           Volume  Dividends  Stock Splits  \n",
            "Datetime                                                    \n",
            "2024-09-06 08:00:00+01:00       0        0.0           0.0  \n",
            "2024-09-06 08:01:00+01:00       0        0.0           0.0  \n",
            "2024-09-06 08:02:00+01:00       0        0.0           0.0  \n",
            "2024-09-06 08:03:00+01:00       0        0.0           0.0  \n",
            "2024-09-06 08:04:00+01:00       0        0.0           0.0  \n",
            "...                           ...        ...           ...  \n",
            "2024-09-06 10:14:00+01:00       0        0.0           0.0  \n",
            "2024-09-06 10:15:00+01:00       0        0.0           0.0  \n",
            "2024-09-06 10:16:00+01:00       0        0.0           0.0  \n",
            "2024-09-06 10:17:00+01:00       0        0.0           0.0  \n",
            "2024-09-06 10:18:00+01:00       0        0.0           0.0  \n",
            "\n",
            "[138 rows x 7 columns]\n"
          ]
        }
      ],
      "source": [
        "!pip install yfinance plotly scikit-learn statsmodels tensorflow shap\n",
        "\n",
        "import yfinance as yf\n",
        "import pandas as pd\n",
        "import plotly.graph_objects as go\n",
        "from plotly.subplots import make_subplots\n",
        "from datetime import datetime, timedelta\n",
        "import time\n",
        "from sklearn.model_selection import train_test_split\n",
        "from sklearn.linear_model import LinearRegression\n",
        "from sklearn.metrics import mean_squared_error, mean_absolute_error\n",
        "from sklearn.preprocessing import MinMaxScaler\n",
        "from statsmodels.tsa.arima.model import ARIMA\n",
        "import numpy as np\n",
        "import tensorflow as tf\n",
        "from tensorflow.keras.models import Sequential\n",
        "from tensorflow.keras.layers import Dense, LSTM\n",
        "import math\n",
        "import shap\n",
        "import warnings\n",
        "\n",
        "\n",
        "\n",
        "def fetch_ftse100_data(period='1d', interval='1m'):\n",
        "    ftse100 = yf.Ticker(\"^FTSE\")\n",
        "    data = ftse100.history(period=period, interval=interval)\n",
        "    return data\n",
        "\n",
        "data = fetch_ftse100_data()\n",
        "print(data)\n",
        "# Suppress all warnings\n",
        "warnings.filterwarnings(\"ignore\")"
      ]
    },
    {
      "cell_type": "markdown",
      "source": [
        "**A 20-period moving commonplace modified into plotted to easy out\n",
        "short-term charge fluctuations and highlight longer-time period developments.**\n",
        "\n"
      ],
      "metadata": {
        "id": "2mQoLaIOf1oC"
      }
    },
    {
      "cell_type": "markdown",
      "source": [
        "**Adding Moving Average**"
      ],
      "metadata": {
        "id": "KmMFKn9tQcFH"
      }
    },
    {
      "cell_type": "code",
      "source": [
        "data['Moving Average'] = data['Close'].rolling(window=20).mean()"
      ],
      "metadata": {
        "id": "AfbEGytsOQAs"
      },
      "execution_count": 2,
      "outputs": []
    },
    {
      "cell_type": "markdown",
      "source": [
        "**Linear Regression Model**"
      ],
      "metadata": {
        "id": "3-EElcinQXyq"
      }
    },
    {
      "cell_type": "markdown",
      "source": [
        "**Predict today's price using Linear Regression**"
      ],
      "metadata": {
        "id": "Di25koua-wDM"
      }
    },
    {
      "cell_type": "code",
      "source": [
        "data['Shifted Close'] = data['Close'].shift(-1)\n",
        "data.dropna(inplace=True)\n",
        "\n",
        "X = data[['Close']]\n",
        "y = data['Shifted Close']\n",
        "\n",
        "X_train, X_test, y_train, y_test = train_test_split(X, y, test_size=0.2, random_state=42)\n",
        "linear_model = LinearRegression()\n",
        "linear_model.fit(X_train, y_train)\n",
        "\n",
        "y_pred = linear_model.predict(X_test)\n",
        "mse = mean_squared_error(y_test, y_pred)\n",
        "print(f\"Linear Regression Mean Squared Error: {mse}\")\n",
        "# Suppress all warnings\n",
        "warnings.filterwarnings(\"ignore\")\n"
      ],
      "metadata": {
        "colab": {
          "base_uri": "https://localhost:8080/"
        },
        "id": "31Q_qP3Y4JiE",
        "outputId": "4998d67b-30dc-408e-9d68-3aa122020ece"
      },
      "execution_count": 3,
      "outputs": [
        {
          "output_type": "stream",
          "name": "stdout",
          "text": [
            "Linear Regression Mean Squared Error: 2.2386743654258288\n"
          ]
        }
      ]
    },
    {
      "cell_type": "code",
      "source": [
        "today_price_lr = linear_model.predict([[data['Close'].iloc[-1]]])[0]\n",
        "print(f\"Predicted Today's Price using Linear Regression: {today_price_lr:.2f}\")"
      ],
      "metadata": {
        "colab": {
          "base_uri": "https://localhost:8080/"
        },
        "id": "ypPZ8fbw-sWg",
        "outputId": "dfd2c4ca-9671-4f68-9a3f-aff44715c5d9"
      },
      "execution_count": 4,
      "outputs": [
        {
          "output_type": "stream",
          "name": "stdout",
          "text": [
            "Predicted Today's Price using Linear Regression: 8197.51\n"
          ]
        }
      ]
    },
    {
      "cell_type": "markdown",
      "source": [
        " **The ARIMA model, having been informed on ancient FTSE100 data, ended up used to forecast the following 10 minutes of index values. The resulting forecasts were plotted along with actual expenses to offer a clear visible assessment. While ARIMA supplied a sincere approach to forecasting primarily based absolutely mostly on historical patterns**\n"
      ],
      "metadata": {
        "id": "gPZDkTx9i-sm"
      }
    },
    {
      "cell_type": "markdown",
      "source": [
        "\n",
        "\n",
        "**ARIMA Model**"
      ],
      "metadata": {
        "id": "cGx0XHcXQUPv"
      }
    },
    {
      "cell_type": "code",
      "source": [
        "def train_arima_model(data):\n",
        "    model = ARIMA(data['Close'], order=(5, 1, 0))\n",
        "    model_fit = model.fit()\n",
        "    return model_fit\n",
        "arima_model = train_arima_model(data)\n",
        "# Suppress all warnings\n",
        "warnings.filterwarnings(\"ignore\")"
      ],
      "metadata": {
        "id": "cS21yXY1Obhr"
      },
      "execution_count": 5,
      "outputs": []
    },
    {
      "cell_type": "markdown",
      "source": [
        "**the LSTM model was employed to wait for destiny FTSE100 values, leveraging its capability to analyze complicated temporal styles from the statistics. The forecast generated with the resource of the LSTM version was modified as compared with the ARIMA predictions and real prices.\n",
        "the LSTM version verified advanced modern-day typical performance in taking pix complex patterns and inclinations, as contemplated in its lower mistakes metrics. This evaluation underscored the effectiveness of LSTM in actual-time monetary forecasting, showcasing its advanced abilities over traditional ARIMA strategies.**"
      ],
      "metadata": {
        "id": "OFWRu2nVliir"
      }
    },
    {
      "cell_type": "markdown",
      "source": [
        "**LSTM Model Preparation**"
      ],
      "metadata": {
        "id": "_Y-sliOnQPkU"
      }
    },
    {
      "cell_type": "code",
      "source": [
        "def preprocess_lstm_data(data):\n",
        "    scaler = MinMaxScaler(feature_range=(0, 1))\n",
        "    scaled_data = scaler.fit_transform(data['Close'].values.reshape(-1, 1))\n",
        "    X, y = [], []\n",
        "    for i in range(60, len(scaled_data)):\n",
        "        X.append(scaled_data[i-60:i])\n",
        "        y.append(scaled_data[i])\n",
        "    X, y = np.array(X), np.array(y)\n",
        "    return X, y, scaler\n",
        "\n",
        "X_lstm, y_lstm, scaler = preprocess_lstm_data(data)\n",
        "\n",
        "def train_lstm_model(X, y):\n",
        "    model = Sequential()\n",
        "    model.add(LSTM(units=50, return_sequences=True, input_shape=(X.shape[1], 1)))\n",
        "    model.add(LSTM(units=50))\n",
        "    model.add(Dense(1))\n",
        "    model.compile(optimizer='adam', loss='mean_squared_error')\n",
        "    model.fit(X, y, epochs=5, batch_size=32, verbose=0)\n",
        "    return model\n",
        "\n",
        "lstm_model = train_lstm_model(X_lstm, y_lstm)\n",
        "# Suppress all warnings\n",
        "warnings.filterwarnings(\"ignore\")"
      ],
      "metadata": {
        "id": "gY8DQ0HEOvN4"
      },
      "execution_count": 6,
      "outputs": []
    },
    {
      "cell_type": "markdown",
      "source": [
        "**Predictions with ARIMA**"
      ],
      "metadata": {
        "id": "EGH3wmqZQLY1"
      }
    },
    {
      "cell_type": "code",
      "source": [
        "def predict_with_arima(model_fit, steps=10):\n",
        "    forecast = model_fit.forecast(steps=steps)\n",
        "    return forecast"
      ],
      "metadata": {
        "id": "EYXOEvoBOzWT"
      },
      "execution_count": 7,
      "outputs": []
    },
    {
      "cell_type": "markdown",
      "source": [
        "**Predictions with LSTM**"
      ],
      "metadata": {
        "id": "AuhxoTaSQFGG"
      }
    },
    {
      "cell_type": "code",
      "source": [
        "def predict_with_lstm(model, scaler, data, steps=10):\n",
        "    last_60_days = data['Close'][-60:].values.reshape(-1, 1)\n",
        "    scaled_last_60_days = scaler.transform(last_60_days)\n",
        "    X_input = np.array([scaled_last_60_days])\n",
        "    predictions = []\n",
        "\n",
        "    for _ in range(steps):\n",
        "        pred = model.predict(X_input)[0][0]\n",
        "        predictions.append(pred)\n",
        "\n",
        "        new_data = np.roll(X_input, shift=-1, axis=1)\n",
        "        new_data[0, -1, 0] = pred\n",
        "        X_input = new_data\n",
        "\n",
        "    return scaler.inverse_transform(np.array(predictions).reshape(-1, 1)).flatten()\n",
        "\n",
        "# Predict today's price using LSTM\n",
        "today_price_lstm = predict_with_lstm(lstm_model, scaler, data, steps=1)[0]\n",
        "print(f\"Predicted Today's Price using LSTM: {today_price_lstm:.2f}\")\n",
        "# Suppress all warnings\n",
        "warnings.filterwarnings(\"ignore\")"
      ],
      "metadata": {
        "colab": {
          "base_uri": "https://localhost:8080/"
        },
        "id": "cIoSDGCVO3gK",
        "outputId": "0f618d22-21c7-4231-b611-c0931ebbd1cb"
      },
      "execution_count": 8,
      "outputs": [
        {
          "output_type": "stream",
          "name": "stdout",
          "text": [
            "\u001b[1m1/1\u001b[0m \u001b[32m━━━━━━━━━━━━━━━━━━━━\u001b[0m\u001b[37m\u001b[0m \u001b[1m0s\u001b[0m 294ms/step\n",
            "Predicted Today's Price using LSTM: 8200.84\n"
          ]
        }
      ]
    },
    {
      "cell_type": "markdown",
      "source": [
        "**Forecasting for future steps**"
      ],
      "metadata": {
        "id": "l7ljCVnXFNk1"
      }
    },
    {
      "cell_type": "code",
      "source": [
        "future_steps = 10\n",
        "arima_forecast = predict_with_arima(arima_model, steps=future_steps)\n",
        "lstm_forecast = predict_with_lstm(lstm_model, scaler, data, steps=future_steps)\n",
        "\n",
        "forecast_index = pd.date_range(start=data.index[-1] + pd.Timedelta(minutes=1), periods=future_steps, freq='1min')\n",
        "# Suppress all warnings\n",
        "warnings.filterwarnings(\"ignore\")"
      ],
      "metadata": {
        "colab": {
          "base_uri": "https://localhost:8080/"
        },
        "id": "WBSXZXx5FD0m",
        "outputId": "7f7c0107-a7a6-4152-8afb-b33cf94818dd"
      },
      "execution_count": 9,
      "outputs": [
        {
          "output_type": "stream",
          "name": "stdout",
          "text": [
            "\u001b[1m1/1\u001b[0m \u001b[32m━━━━━━━━━━━━━━━━━━━━\u001b[0m\u001b[37m\u001b[0m \u001b[1m0s\u001b[0m 41ms/step\n",
            "\u001b[1m1/1\u001b[0m \u001b[32m━━━━━━━━━━━━━━━━━━━━\u001b[0m\u001b[37m\u001b[0m \u001b[1m0s\u001b[0m 45ms/step\n",
            "\u001b[1m1/1\u001b[0m \u001b[32m━━━━━━━━━━━━━━━━━━━━\u001b[0m\u001b[37m\u001b[0m \u001b[1m0s\u001b[0m 32ms/step\n",
            "\u001b[1m1/1\u001b[0m \u001b[32m━━━━━━━━━━━━━━━━━━━━\u001b[0m\u001b[37m\u001b[0m \u001b[1m0s\u001b[0m 29ms/step\n",
            "\u001b[1m1/1\u001b[0m \u001b[32m━━━━━━━━━━━━━━━━━━━━\u001b[0m\u001b[37m\u001b[0m \u001b[1m0s\u001b[0m 25ms/step\n",
            "\u001b[1m1/1\u001b[0m \u001b[32m━━━━━━━━━━━━━━━━━━━━\u001b[0m\u001b[37m\u001b[0m \u001b[1m0s\u001b[0m 26ms/step\n",
            "\u001b[1m1/1\u001b[0m \u001b[32m━━━━━━━━━━━━━━━━━━━━\u001b[0m\u001b[37m\u001b[0m \u001b[1m0s\u001b[0m 24ms/step\n",
            "\u001b[1m1/1\u001b[0m \u001b[32m━━━━━━━━━━━━━━━━━━━━\u001b[0m\u001b[37m\u001b[0m \u001b[1m0s\u001b[0m 24ms/step\n",
            "\u001b[1m1/1\u001b[0m \u001b[32m━━━━━━━━━━━━━━━━━━━━\u001b[0m\u001b[37m\u001b[0m \u001b[1m0s\u001b[0m 30ms/step\n",
            "\u001b[1m1/1\u001b[0m \u001b[32m━━━━━━━━━━━━━━━━━━━━\u001b[0m\u001b[37m\u001b[0m \u001b[1m0s\u001b[0m 24ms/step\n"
          ]
        }
      ]
    },
    {
      "cell_type": "markdown",
      "source": [
        "**. The Mean Absolute Error (MAE) and Root Mean Square Error (RMSE) of the ARIMA predictions were calculated to quantify the model's forecasting accuracy. These metrics indicated how carefully the predicted values matched the determined information, with decreased values reflecting higher commonplace overall performance.**\n",
        "\n",
        "**The MAE and RMSE for the LSTM model were also computed, imparting a diploma of its predictive accuracy**"
      ],
      "metadata": {
        "id": "gCZPONlHmtru"
      }
    },
    {
      "cell_type": "markdown",
      "source": [
        "**Model Accuracy**"
      ],
      "metadata": {
        "id": "1nlAa_cBP757"
      }
    },
    {
      "cell_type": "code",
      "source": [
        "# ARIMA Model Accuracy\n",
        "arima_mae = mean_absolute_error(data['Close'][-future_steps:], arima_forecast)\n",
        "arima_rmse = math.sqrt(mean_squared_error(data['Close'][-future_steps:], arima_forecast))\n",
        "print(f\"ARIMA Model - MAE: {arima_mae:.2f}, RMSE: {arima_rmse:.2f}\")\n",
        "\n",
        "# LSTM Model Accuracy\n",
        "lstm_mae = mean_absolute_error(data['Close'][-future_steps:], lstm_forecast)\n",
        "lstm_rmse = math.sqrt(mean_squared_error(data['Close'][-future_steps:], lstm_forecast))\n",
        "print(f\"LSTM Model - MAE: {lstm_mae:.2f}, RMSE: {lstm_rmse:.2f}\")\n",
        "# Suppress all warnings\n",
        "warnings.filterwarnings(\"ignore\")"
      ],
      "metadata": {
        "colab": {
          "base_uri": "https://localhost:8080/"
        },
        "id": "_rP8o0AxO-iR",
        "outputId": "a67ce6c5-e8af-4161-f7d8-1142bb4f3e68"
      },
      "execution_count": 10,
      "outputs": [
        {
          "output_type": "stream",
          "name": "stdout",
          "text": [
            "ARIMA Model - MAE: 2.72, RMSE: 3.56\n",
            "LSTM Model - MAE: 2.32, RMSE: 2.66\n"
          ]
        }
      ]
    },
    {
      "cell_type": "markdown",
      "source": [
        "**The improvements in the model interpretability are brought by the integration of SHAP (SHapley Additive exPlanations) in the LSTM-based financial prediction model. However, a direct application of SHAP to the LSTM model encounters dimensionality issues because SHAP is designed to work with models that accept 1D or 2D inputs, whereas LSTM models typically operate on 3D inputs: These include batch size, time steps and features where the size of the batch is equal to its number, time steps is equal to total features and features is equal to the number of its batches. Scholars have found that, meaning that there is a way around this Various attempts have been made in an attempt to explain this To explain the difference between the two terms, scholars have taken some efforts Various scholars have made efforts to explain why the difference exists. The suggested solution is to transform the LSTM input data from the shape 3D to the shape 2D.**"
      ],
      "metadata": {
        "id": "F2m-M6MboN80"
      }
    },
    {
      "cell_type": "markdown",
      "source": [
        "**SHAP Explanation for LSTM**"
      ],
      "metadata": {
        "id": "gKdxKYyxkLlp"
      }
    },
    {
      "cell_type": "code",
      "source": [
        "import shap\n",
        "\n",
        "def get_reshaped_lstm_data(X_lstm):\n",
        "    return X_lstm.reshape(X_lstm.shape[0], X_lstm.shape[1] * X_lstm.shape[2])\n",
        "\n",
        "reshaped_X_lstm = get_reshaped_lstm_data(X_lstm)\n",
        "\n",
        "# Train a simple Dense model on reshaped data for SHAP explanation\n",
        "def train_dense_model(X, y):\n",
        "    model = Sequential()\n",
        "    model.add(Dense(units=50, input_dim=X.shape[1], activation='relu'))\n",
        "    model.add(Dense(units=1))\n",
        "    model.compile(optimizer='adam', loss='mean_squared_error')\n",
        "    model.fit(X, y, epochs=5, batch_size=32, verbose=0)\n",
        "    return model\n",
        "\n",
        "dense_model = train_dense_model(reshaped_X_lstm, y_lstm)\n",
        "\n",
        "#SHAP Explanation for LSTM (Flattened Input)\n",
        "\n",
        "explainer_lstm = shap.KernelExplainer(dense_model.predict, reshaped_X_lstm[:100])\n",
        "shap_values_lstm = explainer_lstm.shap_values(reshaped_X_lstm[:10], nsamples=100)\n",
        "\n",
        "# SHAP summary plot for the Dense model\n",
        "shap.summary_plot(shap_values_lstm, reshaped_X_lstm[:10])\n",
        "\n",
        "# Suppress all warnings\n",
        "warnings.filterwarnings(\"ignore\")"
      ],
      "metadata": {
        "colab": {
          "base_uri": "https://localhost:8080/",
          "height": 1000,
          "referenced_widgets": [
            "b9c2142bd1c74321bb655cb70f71a5c3",
            "988f52fe2f954130a48b566ea178c5a0",
            "d331c812433744fd8435002e879eb30c",
            "13d280c86f4d4359b2f588c1e16f4347",
            "01a46c9c55334e05862a5d1d91a558ac",
            "c48c5800a19f41118e9e09e4b6bcf7f6",
            "3e5941ae935542de8286707c5e268e69",
            "2df9ecb03ca143ada1f5cf9c40e45fa9",
            "5df4152f155f4a0aa42e05af59fbf361",
            "ca9c89fa6ade49f48f3e16e1e8e77403",
            "115d861c812a46dcbaedeee62bf11b71"
          ]
        },
        "id": "g3sIqdpFkNAH",
        "outputId": "dc8e2e06-790b-475f-bafb-ffd887c4ce57"
      },
      "execution_count": 12,
      "outputs": [
        {
          "output_type": "stream",
          "name": "stdout",
          "text": [
            "\u001b[1m2/2\u001b[0m \u001b[32m━━━━━━━━━━━━━━━━━━━━\u001b[0m\u001b[37m\u001b[0m \u001b[1m0s\u001b[0m 43ms/step\n"
          ]
        },
        {
          "output_type": "display_data",
          "data": {
            "text/plain": [
              "  0%|          | 0/10 [00:00<?, ?it/s]"
            ],
            "application/vnd.jupyter.widget-view+json": {
              "version_major": 2,
              "version_minor": 0,
              "model_id": "b9c2142bd1c74321bb655cb70f71a5c3"
            }
          },
          "metadata": {}
        },
        {
          "output_type": "stream",
          "name": "stdout",
          "text": [
            "\u001b[1m1/1\u001b[0m \u001b[32m━━━━━━━━━━━━━━━━━━━━\u001b[0m\u001b[37m\u001b[0m \u001b[1m0s\u001b[0m 51ms/step\n",
            "\u001b[1m182/182\u001b[0m \u001b[32m━━━━━━━━━━━━━━━━━━━━\u001b[0m\u001b[37m\u001b[0m \u001b[1m0s\u001b[0m 2ms/step\n",
            "\u001b[1m1/1\u001b[0m \u001b[32m━━━━━━━━━━━━━━━━━━━━\u001b[0m\u001b[37m\u001b[0m \u001b[1m0s\u001b[0m 30ms/step\n",
            "\u001b[1m182/182\u001b[0m \u001b[32m━━━━━━━━━━━━━━━━━━━━\u001b[0m\u001b[37m\u001b[0m \u001b[1m0s\u001b[0m 2ms/step\n",
            "\u001b[1m1/1\u001b[0m \u001b[32m━━━━━━━━━━━━━━━━━━━━\u001b[0m\u001b[37m\u001b[0m \u001b[1m0s\u001b[0m 78ms/step\n",
            "\u001b[1m182/182\u001b[0m \u001b[32m━━━━━━━━━━━━━━━━━━━━\u001b[0m\u001b[37m\u001b[0m \u001b[1m0s\u001b[0m 2ms/step\n",
            "\u001b[1m1/1\u001b[0m \u001b[32m━━━━━━━━━━━━━━━━━━━━\u001b[0m\u001b[37m\u001b[0m \u001b[1m0s\u001b[0m 48ms/step\n",
            "\u001b[1m182/182\u001b[0m \u001b[32m━━━━━━━━━━━━━━━━━━━━\u001b[0m\u001b[37m\u001b[0m \u001b[1m1s\u001b[0m 3ms/step\n",
            "\u001b[1m1/1\u001b[0m \u001b[32m━━━━━━━━━━━━━━━━━━━━\u001b[0m\u001b[37m\u001b[0m \u001b[1m0s\u001b[0m 35ms/step\n",
            "\u001b[1m182/182\u001b[0m \u001b[32m━━━━━━━━━━━━━━━━━━━━\u001b[0m\u001b[37m\u001b[0m \u001b[1m1s\u001b[0m 3ms/step\n",
            "\u001b[1m1/1\u001b[0m \u001b[32m━━━━━━━━━━━━━━━━━━━━\u001b[0m\u001b[37m\u001b[0m \u001b[1m0s\u001b[0m 167ms/step\n",
            "\u001b[1m182/182\u001b[0m \u001b[32m━━━━━━━━━━━━━━━━━━━━\u001b[0m\u001b[37m\u001b[0m \u001b[1m1s\u001b[0m 4ms/step\n",
            "\u001b[1m1/1\u001b[0m \u001b[32m━━━━━━━━━━━━━━━━━━━━\u001b[0m\u001b[37m\u001b[0m \u001b[1m0s\u001b[0m 150ms/step\n",
            "\u001b[1m182/182\u001b[0m \u001b[32m━━━━━━━━━━━━━━━━━━━━\u001b[0m\u001b[37m\u001b[0m \u001b[1m1s\u001b[0m 7ms/step\n",
            "\u001b[1m1/1\u001b[0m \u001b[32m━━━━━━━━━━━━━━━━━━━━\u001b[0m\u001b[37m\u001b[0m \u001b[1m0s\u001b[0m 31ms/step\n",
            "\u001b[1m182/182\u001b[0m \u001b[32m━━━━━━━━━━━━━━━━━━━━\u001b[0m\u001b[37m\u001b[0m \u001b[1m0s\u001b[0m 2ms/step\n",
            "\u001b[1m1/1\u001b[0m \u001b[32m━━━━━━━━━━━━━━━━━━━━\u001b[0m\u001b[37m\u001b[0m \u001b[1m0s\u001b[0m 44ms/step\n",
            "\u001b[1m182/182\u001b[0m \u001b[32m━━━━━━━━━━━━━━━━━━━━\u001b[0m\u001b[37m\u001b[0m \u001b[1m1s\u001b[0m 3ms/step\n",
            "\u001b[1m1/1\u001b[0m \u001b[32m━━━━━━━━━━━━━━━━━━━━\u001b[0m\u001b[37m\u001b[0m \u001b[1m0s\u001b[0m 60ms/step\n",
            "\u001b[1m182/182\u001b[0m \u001b[32m━━━━━━━━━━━━━━━━━━━━\u001b[0m\u001b[37m\u001b[0m \u001b[1m1s\u001b[0m 3ms/step\n"
          ]
        },
        {
          "output_type": "display_data",
          "data": {
            "text/plain": [
              "<Figure size 1150x660 with 1 Axes>"
            ],
            "image/png": "[encoded data removed]"
          },
          "metadata": {}
        }
      ]
    },
    {
      "cell_type": "markdown",
      "source": [
        "**Specifically, the line chart used to represent the FTSE100 Index is an effective line of inquiry in analyzing behavior in the market over a given period. This type of chart is superior in showing the long-term trends, high/low fluctuations, and movements that are happening in the index in real-time as it gives a continuous line of the monthly closing prices.**"
      ],
      "metadata": {
        "id": "WWoxJM3vpVTE"
      }
    },
    {
      "cell_type": "markdown",
      "source": [
        "**Visualization**\n",
        "*Line Chart*"
      ],
      "metadata": {
        "id": "SAJK-0XnP2-4"
      }
    },
    {
      "cell_type": "code",
      "source": [
        "warnings.filterwarnings(\"ignore\")\n",
        "line_fig = go.Figure()\n",
        "line_fig.add_trace(go.Scatter(x=data.index, y=data['Close'], mode='lines', name='FTSE100 Line'))\n",
        "line_fig.add_trace(go.Scatter(x=[data.index[-1] + pd.Timedelta(minutes=1)], y=[today_price_lr], mode='markers', name='Predicted LR Price'))\n",
        "line_fig.add_trace(go.Scatter(x=[data.index[-1] + pd.Timedelta(minutes=1)], y=[today_price_lstm], mode='markers', name='Predicted LSTM Price'))\n",
        "line_fig.update_layout(title='FTSE100 Index - Line Chart with Predicted Price', xaxis_title='Time', yaxis_title='Price')\n",
        "line_fig.show()"
      ],
      "metadata": {
        "colab": {
          "base_uri": "https://localhost:8080/",
          "height": 542
        },
        "id": "9HqzJgSPPI6P",
        "outputId": "c94445f9-64ac-4d78-9b4a-ae561dc6f8ef"
      },
      "execution_count": 13,
      "outputs": [
        {
          "output_type": "display_data",
          "data": {
            "text/html": [
              "<html>\n",
              "<head><meta charset=\"utf-8\" /></head>\n",
              "<body>\n",
              "    <div>            <script src=\"https://cdnjs.cloudflare.com/ajax/libs/mathjax/2.7.5/MathJax.js?config=TeX-AMS-MML_SVG\"></script><script type=\"text/javascript\">if (window.MathJax && window.MathJax.Hub && window.MathJax.Hub.Config) {window.MathJax.Hub.Config({SVG: {font: \"STIX-Web\"}});}</script>                <script type=\"text/javascript\">window.PlotlyConfig = {MathJaxConfig: 'local'};</script>\n",
              "        <script charset=\"utf-8\" src=\"https://cdn.plot.ly/plotly-2.24.1.min.js\"></script>                <div id=\"e70f6d5d-9999-4bbc-92f8-6c4e304bf83e\" class=\"plotly-graph-div\" style=\"height:525px; width:100%;\"></div>            <script type=\"text/javascript\">                                    window.PLOTLYENV=window.PLOTLYENV || {};                                    if (document.getElementById(\"e70f6d5d-9999-4bbc-92f8-6c4e304bf83e\")) {                    Plotly.newPlot(                        \"e70f6d5d-9999-4bbc-92f8-6c4e304bf83e\",                        [{\"mode\":\"lines\",\"name\":\"FTSE100 Line\",\"x\":[\"2024-09-06T08:20:00+01:00\",\"2024-09-06T08:21:00+01:00\",\"2024-09-06T08:22:00+01:00\",\"2024-09-06T08:23:00+01:00\",\"2024-09-06T08:24:00+01:00\",\"2024-09-06T08:25:00+01:00\",\"2024-09-06T08:26:00+01:00\",\"2024-09-06T08:27:00+01:00\",\"2024-09-06T08:28:00+01:00\",\"2024-09-06T08:29:00+01:00\",\"2024-09-06T08:30:00+01:00\",\"2024-09-06T08:31:00+01:00\",\"2024-09-06T08:32:00+01:00\",\"2024-09-06T08:33:00+01:00\",\"2024-09-06T08:34:00+01:00\",\"2024-09-06T08:35:00+01:00\",\"2024-09-06T08:36:00+01:00\",\"2024-09-06T08:37:00+01:00\",\"2024-09-06T08:38:00+01:00\",\"2024-09-06T08:39:00+01:00\",\"2024-09-06T08:40:00+01:00\",\"2024-09-06T08:41:00+01:00\",\"2024-09-06T08:42:00+01:00\",\"2024-09-06T08:43:00+01:00\",\"2024-09-06T08:44:00+01:00\",\"2024-09-06T08:45:00+01:00\",\"2024-09-06T08:46:00+01:00\",\"2024-09-06T08:47:00+01:00\",\"2024-09-06T08:48:00+01:00\",\"2024-09-06T08:49:00+01:00\",\"2024-09-06T08:50:00+01:00\",\"2024-09-06T08:51:00+01:00\",\"2024-09-06T08:52:00+01:00\",\"2024-09-06T08:53:00+01:00\",\"2024-09-06T08:54:00+01:00\",\"2024-09-06T08:55:00+01:00\",\"2024-09-06T08:56:00+01:00\",\"2024-09-06T08:57:00+01:00\",\"2024-09-06T08:58:00+01:00\",\"2024-09-06T08:59:00+01:00\",\"2024-09-06T09:00:00+01:00\",\"2024-09-06T09:01:00+01:00\",\"2024-09-06T09:02:00+01:00\",\"2024-09-06T09:03:00+01:00\",\"2024-09-06T09:04:00+01:00\",\"2024-09-06T09:05:00+01:00\",\"2024-09-06T09:06:00+01:00\",\"2024-09-06T09:07:00+01:00\",\"2024-09-06T09:08:00+01:00\",\"2024-09-06T09:09:00+01:00\",\"2024-09-06T09:10:00+01:00\",\"2024-09-06T09:11:00+01:00\",\"2024-09-06T09:12:00+01:00\",\"2024-09-06T09:13:00+01:00\",\"2024-09-06T09:14:00+01:00\",\"2024-09-06T09:15:00+01:00\",\"2024-09-06T09:16:00+01:00\",\"2024-09-06T09:17:00+01:00\",\"2024-09-06T09:18:00+01:00\",\"2024-09-06T09:19:00+01:00\",\"2024-09-06T09:20:00+01:00\",\"2024-09-06T09:21:00+01:00\",\"2024-09-06T09:22:00+01:00\",\"2024-09-06T09:23:00+01:00\",\"2024-09-06T09:24:00+01:00\",\"2024-09-06T09:25:00+01:00\",\"2024-09-06T09:26:00+01:00\",\"2024-09-06T09:27:00+01:00\",\"2024-09-06T09:28:00+01:00\",\"2024-09-06T09:29:00+01:00\",\"2024-09-06T09:30:00+01:00\",\"2024-09-06T09:31:00+01:00\",\"2024-09-06T09:32:00+01:00\",\"2024-09-06T09:33:00+01:00\",\"2024-09-06T09:34:00+01:00\",\"2024-09-06T09:35:00+01:00\",\"2024-09-06T09:36:00+01:00\",\"2024-09-06T09:37:00+01:00\",\"2024-09-06T09:38:00+01:00\",\"2024-09-06T09:39:00+01:00\",\"2024-09-06T09:40:00+01:00\",\"2024-09-06T09:41:00+01:00\",\"2024-09-06T09:42:00+01:00\",\"2024-09-06T09:43:00+01:00\",\"2024-09-06T09:44:00+01:00\",\"2024-09-06T09:45:00+01:00\",\"2024-09-06T09:46:00+01:00\",\"2024-09-06T09:47:00+01:00\",\"2024-09-06T09:48:00+01:00\",\"2024-09-06T09:49:00+01:00\",\"2024-09-06T09:50:00+01:00\",\"2024-09-06T09:51:00+01:00\",\"2024-09-06T09:52:00+01:00\",\"2024-09-06T09:53:00+01:00\",\"2024-09-06T09:54:00+01:00\",\"2024-09-06T09:55:00+01:00\",\"2024-09-06T09:56:00+01:00\",\"2024-09-06T09:57:00+01:00\",\"2024-09-06T09:58:00+01:00\",\"2024-09-06T09:59:00+01:00\",\"2024-09-06T10:00:00+01:00\",\"2024-09-06T10:01:00+01:00\",\"2024-09-06T10:02:00+01:00\",\"2024-09-06T10:03:00+01:00\",\"2024-09-06T10:04:00+01:00\",\"2024-09-06T10:05:00+01:00\",\"2024-09-06T10:06:00+01:00\",\"2024-09-06T10:07:00+01:00\",\"2024-09-06T10:08:00+01:00\",\"2024-09-06T10:09:00+01:00\",\"2024-09-06T10:10:00+01:00\",\"2024-09-06T10:11:00+01:00\",\"2024-09-06T10:12:00+01:00\",\"2024-09-06T10:13:00+01:00\",\"2024-09-06T10:14:00+01:00\",\"2024-09-06T10:15:00+01:00\",\"2024-09-06T10:16:00+01:00\",\"2024-09-06T10:17:00+01:00\"],\"y\":[8193.3798828125,8197.9404296875,8198.490234375,8199.7802734375,8196.919921875,8198.3896484375,8200.0703125,8201.3095703125,8203.5302734375,8205.509765625,8203.8095703125,8204.1396484375,8203.2001953125,8204.98046875,8209.8701171875,8211.6796875,8213.3798828125,8211.919921875,8213.1904296875,8210.240234375,8210.009765625,8210.759765625,8208.58984375,8208.6103515625,8208.1396484375,8205.8701171875,8204.9404296875,8204.3095703125,8204.9296875,8205.2900390625,8202.349609375,8201.4501953125,8201.080078125,8200.0703125,8199.150390625,8201.419921875,8204.08984375,8210.1796875,8212.91015625,8214.259765625,8215.41015625,8214.8701171875,8212.7900390625,8215.3095703125,8216.7001953125,8217.5595703125,8218.7802734375,8218.5498046875,8219.9501953125,8220.900390625,8220.6201171875,8220.7099609375,8221.650390625,8223.0498046875,8222.2099609375,8222.650390625,8222.5595703125,8222.0595703125,8218.1201171875,8217.1796875,8215.740234375,8215.3203125,8214.9697265625,8214.0400390625,8214.3203125,8213.48046875,8211.849609375,8208.2802734375,8209.5302734375,8210.3701171875,8212.3798828125,8212.740234375,8212.4404296875,8211.6103515625,8211.740234375,8208.169921875,8206.5498046875,8203.5,8203.4501953125,8201.3701171875,8200.2197265625,8201.25,8199.0498046875,8199.0302734375,8197.8603515625,8198.8701171875,8197.3701171875,8196.26953125,8196.51953125,8198.509765625,8197.33984375,8198.01953125,8197.1796875,8196.7900390625,8196.509765625,8196.33984375,8196.83984375,8198.2802734375,8198.8203125,8200.26953125,8203.26953125,8203.240234375,8203.7998046875,8204.8896484375,8204.990234375,8203.83984375,8204.2001953125,8204.8701171875,8204.759765625,8202.3095703125,8201.1298828125,8201.7197265625,8200.8701171875,8198.9296875,8196.490234375,8196.599609375,8197.2900390625,8197.330078125],\"type\":\"scatter\"},{\"mode\":\"markers\",\"name\":\"Predicted LR Price\",\"x\":[\"2024-09-06T10:18:00+01:00\"],\"y\":[8197.507420713886],\"type\":\"scatter\"},{\"mode\":\"markers\",\"name\":\"Predicted LSTM Price\",\"x\":[\"2024-09-06T10:18:00+01:00\"],\"y\":[8200.837890625],\"type\":\"scatter\"}],                        {\"template\":{\"data\":{\"histogram2dcontour\":[{\"type\":\"histogram2dcontour\",\"colorbar\":{\"outlinewidth\":0,\"ticks\":\"\"},\"colorscale\":[[0.0,\"#0d0887\"],[0.1111111111111111,\"#46039f\"],[0.2222222222222222,\"#7201a8\"],[0.3333333333333333,\"#9c179e\"],[0.4444444444444444,\"#bd3786\"],[0.5555555555555556,\"#d8576b\"],[0.6666666666666666,\"#ed7953\"],[0.7777777777777778,\"#fb9f3a\"],[0.8888888888888888,\"#fdca26\"],[1.0,\"#f0f921\"]]}],\"choropleth\":[{\"type\":\"choropleth\",\"colorbar\":{\"outlinewidth\":0,\"ticks\":\"\"}}],\"histogram2d\":[{\"type\":\"histogram2d\",\"colorbar\":{\"outlinewidth\":0,\"ticks\":\"\"},\"colorscale\":[[0.0,\"#0d0887\"],[0.1111111111111111,\"#46039f\"],[0.2222222222222222,\"#7201a8\"],[0.3333333333333333,\"#9c179e\"],[0.4444444444444444,\"#bd3786\"],[0.5555555555555556,\"#d8576b\"],[0.6666666666666666,\"#ed7953\"],[0.7777777777777778,\"#fb9f3a\"],[0.8888888888888888,\"#fdca26\"],[1.0,\"#f0f921\"]]}],\"heatmap\":[{\"type\":\"heatmap\",\"colorbar\":{\"outlinewidth\":0,\"ticks\":\"\"},\"colorscale\":[[0.0,\"#0d0887\"],[0.1111111111111111,\"#46039f\"],[0.2222222222222222,\"#7201a8\"],[0.3333333333333333,\"#9c179e\"],[0.4444444444444444,\"#bd3786\"],[0.5555555555555556,\"#d8576b\"],[0.6666666666666666,\"#ed7953\"],[0.7777777777777778,\"#fb9f3a\"],[0.8888888888888888,\"#fdca26\"],[1.0,\"#f0f921\"]]}],\"heatmapgl\":[{\"type\":\"heatmapgl\",\"colorbar\":{\"outlinewidth\":0,\"ticks\":\"\"},\"colorscale\":[[0.0,\"#0d0887\"],[0.1111111111111111,\"#46039f\"],[0.2222222222222222,\"#7201a8\"],[0.3333333333333333,\"#9c179e\"],[0.4444444444444444,\"#bd3786\"],[0.5555555555555556,\"#d8576b\"],[0.6666666666666666,\"#ed7953\"],[0.7777777777777778,\"#fb9f3a\"],[0.8888888888888888,\"#fdca26\"],[1.0,\"#f0f921\"]]}],\"contourcarpet\":[{\"type\":\"contourcarpet\",\"colorbar\":{\"outlinewidth\":0,\"ticks\":\"\"}}],\"contour\":[{\"type\":\"contour\",\"colorbar\":{\"outlinewidth\":0,\"ticks\":\"\"},\"colorscale\":[[0.0,\"#0d0887\"],[0.1111111111111111,\"#46039f\"],[0.2222222222222222,\"#7201a8\"],[0.3333333333333333,\"#9c179e\"],[0.4444444444444444,\"#bd3786\"],[0.5555555555555556,\"#d8576b\"],[0.6666666666666666,\"#ed7953\"],[0.7777777777777778,\"#fb9f3a\"],[0.8888888888888888,\"#fdca26\"],[1.0,\"#f0f921\"]]}],\"surface\":[{\"type\":\"surface\",\"colorbar\":{\"outlinewidth\":0,\"ticks\":\"\"},\"colorscale\":[[0.0,\"#0d0887\"],[0.1111111111111111,\"#46039f\"],[0.2222222222222222,\"#7201a8\"],[0.3333333333333333,\"#9c179e\"],[0.4444444444444444,\"#bd3786\"],[0.5555555555555556,\"#d8576b\"],[0.6666666666666666,\"#ed7953\"],[0.7777777777777778,\"#fb9f3a\"],[0.8888888888888888,\"#fdca26\"],[1.0,\"#f0f921\"]]}],\"mesh3d\":[{\"type\":\"mesh3d\",\"colorbar\":{\"outlinewidth\":0,\"ticks\":\"\"}}],\"scatter\":[{\"fillpattern\":{\"fillmode\":\"overlay\",\"size\":10,\"solidity\":0.2},\"type\":\"scatter\"}],\"parcoords\":[{\"type\":\"parcoords\",\"line\":{\"colorbar\":{\"outlinewidth\":0,\"ticks\":\"\"}}}],\"scatterpolargl\":[{\"type\":\"scatterpolargl\",\"marker\":{\"colorbar\":{\"outlinewidth\":0,\"ticks\":\"\"}}}],\"bar\":[{\"error_x\":{\"color\":\"#2a3f5f\"},\"error_y\":{\"color\":\"#2a3f5f\"},\"marker\":{\"line\":{\"color\":\"#E5ECF6\",\"width\":0.5},\"pattern\":{\"fillmode\":\"overlay\",\"size\":10,\"solidity\":0.2}},\"type\":\"bar\"}],\"scattergeo\":[{\"type\":\"scattergeo\",\"marker\":{\"colorbar\":{\"outlinewidth\":0,\"ticks\":\"\"}}}],\"scatterpolar\":[{\"type\":\"scatterpolar\",\"marker\":{\"colorbar\":{\"outlinewidth\":0,\"ticks\":\"\"}}}],\"histogram\":[{\"marker\":{\"pattern\":{\"fillmode\":\"overlay\",\"size\":10,\"solidity\":0.2}},\"type\":\"histogram\"}],\"scattergl\":[{\"type\":\"scattergl\",\"marker\":{\"colorbar\":{\"outlinewidth\":0,\"ticks\":\"\"}}}],\"scatter3d\":[{\"type\":\"scatter3d\",\"line\":{\"colorbar\":{\"outlinewidth\":0,\"ticks\":\"\"}},\"marker\":{\"colorbar\":{\"outlinewidth\":0,\"ticks\":\"\"}}}],\"scattermapbox\":[{\"type\":\"scattermapbox\",\"marker\":{\"colorbar\":{\"outlinewidth\":0,\"ticks\":\"\"}}}],\"scatterternary\":[{\"type\":\"scatterternary\",\"marker\":{\"colorbar\":{\"outlinewidth\":0,\"ticks\":\"\"}}}],\"scattercarpet\":[{\"type\":\"scattercarpet\",\"marker\":{\"colorbar\":{\"outlinewidth\":0,\"ticks\":\"\"}}}],\"carpet\":[{\"aaxis\":{\"endlinecolor\":\"#2a3f5f\",\"gridcolor\":\"white\",\"linecolor\":\"white\",\"minorgridcolor\":\"white\",\"startlinecolor\":\"#2a3f5f\"},\"baxis\":{\"endlinecolor\":\"#2a3f5f\",\"gridcolor\":\"white\",\"linecolor\":\"white\",\"minorgridcolor\":\"white\",\"startlinecolor\":\"#2a3f5f\"},\"type\":\"carpet\"}],\"table\":[{\"cells\":{\"fill\":{\"color\":\"#EBF0F8\"},\"line\":{\"color\":\"white\"}},\"header\":{\"fill\":{\"color\":\"#C8D4E3\"},\"line\":{\"color\":\"white\"}},\"type\":\"table\"}],\"barpolar\":[{\"marker\":{\"line\":{\"color\":\"#E5ECF6\",\"width\":0.5},\"pattern\":{\"fillmode\":\"overlay\",\"size\":10,\"solidity\":0.2}},\"type\":\"barpolar\"}],\"pie\":[{\"automargin\":true,\"type\":\"pie\"}]},\"layout\":{\"autotypenumbers\":\"strict\",\"colorway\":[\"#636efa\",\"#EF553B\",\"#00cc96\",\"#ab63fa\",\"#FFA15A\",\"#19d3f3\",\"#FF6692\",\"#B6E880\",\"#FF97FF\",\"#FECB52\"],\"font\":{\"color\":\"#2a3f5f\"},\"hovermode\":\"closest\",\"hoverlabel\":{\"align\":\"left\"},\"paper_bgcolor\":\"white\",\"plot_bgcolor\":\"#E5ECF6\",\"polar\":{\"bgcolor\":\"#E5ECF6\",\"angularaxis\":{\"gridcolor\":\"white\",\"linecolor\":\"white\",\"ticks\":\"\"},\"radialaxis\":{\"gridcolor\":\"white\",\"linecolor\":\"white\",\"ticks\":\"\"}},\"ternary\":{\"bgcolor\":\"#E5ECF6\",\"aaxis\":{\"gridcolor\":\"white\",\"linecolor\":\"white\",\"ticks\":\"\"},\"baxis\":{\"gridcolor\":\"white\",\"linecolor\":\"white\",\"ticks\":\"\"},\"caxis\":{\"gridcolor\":\"white\",\"linecolor\":\"white\",\"ticks\":\"\"}},\"coloraxis\":{\"colorbar\":{\"outlinewidth\":0,\"ticks\":\"\"}},\"colorscale\":{\"sequential\":[[0.0,\"#0d0887\"],[0.1111111111111111,\"#46039f\"],[0.2222222222222222,\"#7201a8\"],[0.3333333333333333,\"#9c179e\"],[0.4444444444444444,\"#bd3786\"],[0.5555555555555556,\"#d8576b\"],[0.6666666666666666,\"#ed7953\"],[0.7777777777777778,\"#fb9f3a\"],[0.8888888888888888,\"#fdca26\"],[1.0,\"#f0f921\"]],\"sequentialminus\":[[0.0,\"#0d0887\"],[0.1111111111111111,\"#46039f\"],[0.2222222222222222,\"#7201a8\"],[0.3333333333333333,\"#9c179e\"],[0.4444444444444444,\"#bd3786\"],[0.5555555555555556,\"#d8576b\"],[0.6666666666666666,\"#ed7953\"],[0.7777777777777778,\"#fb9f3a\"],[0.8888888888888888,\"#fdca26\"],[1.0,\"#f0f921\"]],\"diverging\":[[0,\"#8e0152\"],[0.1,\"#c51b7d\"],[0.2,\"#de77ae\"],[0.3,\"#f1b6da\"],[0.4,\"#fde0ef\"],[0.5,\"#f7f7f7\"],[0.6,\"#e6f5d0\"],[0.7,\"#b8e186\"],[0.8,\"#7fbc41\"],[0.9,\"#4d9221\"],[1,\"#276419\"]]},\"xaxis\":{\"gridcolor\":\"white\",\"linecolor\":\"white\",\"ticks\":\"\",\"title\":{\"standoff\":15},\"zerolinecolor\":\"white\",\"automargin\":true,\"zerolinewidth\":2},\"yaxis\":{\"gridcolor\":\"white\",\"linecolor\":\"white\",\"ticks\":\"\",\"title\":{\"standoff\":15},\"zerolinecolor\":\"white\",\"automargin\":true,\"zerolinewidth\":2},\"scene\":{\"xaxis\":{\"backgroundcolor\":\"#E5ECF6\",\"gridcolor\":\"white\",\"linecolor\":\"white\",\"showbackground\":true,\"ticks\":\"\",\"zerolinecolor\":\"white\",\"gridwidth\":2},\"yaxis\":{\"backgroundcolor\":\"#E5ECF6\",\"gridcolor\":\"white\",\"linecolor\":\"white\",\"showbackground\":true,\"ticks\":\"\",\"zerolinecolor\":\"white\",\"gridwidth\":2},\"zaxis\":{\"backgroundcolor\":\"#E5ECF6\",\"gridcolor\":\"white\",\"linecolor\":\"white\",\"showbackground\":true,\"ticks\":\"\",\"zerolinecolor\":\"white\",\"gridwidth\":2}},\"shapedefaults\":{\"line\":{\"color\":\"#2a3f5f\"}},\"annotationdefaults\":{\"arrowcolor\":\"#2a3f5f\",\"arrowhead\":0,\"arrowwidth\":1},\"geo\":{\"bgcolor\":\"white\",\"landcolor\":\"#E5ECF6\",\"subunitcolor\":\"white\",\"showland\":true,\"showlakes\":true,\"lakecolor\":\"white\"},\"title\":{\"x\":0.05},\"mapbox\":{\"style\":\"light\"}}},\"title\":{\"text\":\"FTSE100 Index - Line Chart with Predicted Price\"},\"xaxis\":{\"title\":{\"text\":\"Time\"}},\"yaxis\":{\"title\":{\"text\":\"Price\"}}},                        {\"responsive\": true}                    ).then(function(){\n",
              "                            \n",
              "var gd = document.getElementById('e70f6d5d-9999-4bbc-92f8-6c4e304bf83e');\n",
              "var x = new MutationObserver(function (mutations, observer) {{\n",
              "        var display = window.getComputedStyle(gd).display;\n",
              "        if (!display || display === 'none') {{\n",
              "            console.log([gd, 'removed!']);\n",
              "            Plotly.purge(gd);\n",
              "            observer.disconnect();\n",
              "        }}\n",
              "}});\n",
              "\n",
              "// Listen for the removal of the full notebook cells\n",
              "var notebookContainer = gd.closest('#notebook-container');\n",
              "if (notebookContainer) {{\n",
              "    x.observe(notebookContainer, {childList: true});\n",
              "}}\n",
              "\n",
              "// Listen for the clearing of the current output cell\n",
              "var outputEl = gd.closest('.output');\n",
              "if (outputEl) {{\n",
              "    x.observe(outputEl, {childList: true});\n",
              "}}\n",
              "\n",
              "                        })                };                            </script>        </div>\n",
              "</body>\n",
              "</html>"
            ]
          },
          "metadata": {}
        }
      ]
    },
    {
      "cell_type": "markdown",
      "source": [
        "**One of the key blessings of the candlestick chart is its capability to deliver market sentiment through coloration-coded candles—green for bullish and red for bearish. This visible differentiation permits shoppers to briefly gauge the prevailing marketplace sentiment**"
      ],
      "metadata": {
        "id": "Vn4cMWCfplwe"
      }
    },
    {
      "cell_type": "markdown",
      "source": [
        "*Candlestick Chart*"
      ],
      "metadata": {
        "id": "1MY3FMtPPvNo"
      }
    },
    {
      "cell_type": "code",
      "source": [
        "candle_fig = go.Figure()\n",
        "candle_fig.add_trace(go.Candlestick(x=data.index, open=data['Open'], high=data['High'], low=data['Low'], close=data['Close'], name='FTSE100 Candlestick'))\n",
        "candle_fig.update_layout(title='FTSE100 Index - Candlestick Chart', xaxis_title='Time', yaxis_title='Price')\n",
        "candle_fig.show()\n",
        "# Suppress all warnings\n",
        "warnings.filterwarnings(\"ignore\")"
      ],
      "metadata": {
        "colab": {
          "base_uri": "https://localhost:8080/",
          "height": 542
        },
        "id": "rGvkbur1PNZ_",
        "outputId": "658a9537-b99d-4292-b16e-dcd8de7f1061"
      },
      "execution_count": 14,
      "outputs": [
        {
          "output_type": "display_data",
          "data": {
            "text/html": [
              "<html>\n",
              "<head><meta charset=\"utf-8\" /></head>\n",
              "<body>\n",
              "    <div>            <script src=\"https://cdnjs.cloudflare.com/ajax/libs/mathjax/2.7.5/MathJax.js?config=TeX-AMS-MML_SVG\"></script><script type=\"text/javascript\">if (window.MathJax && window.MathJax.Hub && window.MathJax.Hub.Config) {window.MathJax.Hub.Config({SVG: {font: \"STIX-Web\"}});}</script>                <script type=\"text/javascript\">window.PlotlyConfig = {MathJaxConfig: 'local'};</script>\n",
              "        <script charset=\"utf-8\" src=\"https://cdn.plot.ly/plotly-2.24.1.min.js\"></script>                <div id=\"59f201ba-32bc-44ab-9d01-07cc9fe88117\" class=\"plotly-graph-div\" style=\"height:525px; width:100%;\"></div>            <script type=\"text/javascript\">                                    window.PLOTLYENV=window.PLOTLYENV || {};                                    if (document.getElementById(\"59f201ba-32bc-44ab-9d01-07cc9fe88117\")) {                    Plotly.newPlot(                        \"59f201ba-32bc-44ab-9d01-07cc9fe88117\",                        [{\"close\":[8193.3798828125,8197.9404296875,8198.490234375,8199.7802734375,8196.919921875,8198.3896484375,8200.0703125,8201.3095703125,8203.5302734375,8205.509765625,8203.8095703125,8204.1396484375,8203.2001953125,8204.98046875,8209.8701171875,8211.6796875,8213.3798828125,8211.919921875,8213.1904296875,8210.240234375,8210.009765625,8210.759765625,8208.58984375,8208.6103515625,8208.1396484375,8205.8701171875,8204.9404296875,8204.3095703125,8204.9296875,8205.2900390625,8202.349609375,8201.4501953125,8201.080078125,8200.0703125,8199.150390625,8201.419921875,8204.08984375,8210.1796875,8212.91015625,8214.259765625,8215.41015625,8214.8701171875,8212.7900390625,8215.3095703125,8216.7001953125,8217.5595703125,8218.7802734375,8218.5498046875,8219.9501953125,8220.900390625,8220.6201171875,8220.7099609375,8221.650390625,8223.0498046875,8222.2099609375,8222.650390625,8222.5595703125,8222.0595703125,8218.1201171875,8217.1796875,8215.740234375,8215.3203125,8214.9697265625,8214.0400390625,8214.3203125,8213.48046875,8211.849609375,8208.2802734375,8209.5302734375,8210.3701171875,8212.3798828125,8212.740234375,8212.4404296875,8211.6103515625,8211.740234375,8208.169921875,8206.5498046875,8203.5,8203.4501953125,8201.3701171875,8200.2197265625,8201.25,8199.0498046875,8199.0302734375,8197.8603515625,8198.8701171875,8197.3701171875,8196.26953125,8196.51953125,8198.509765625,8197.33984375,8198.01953125,8197.1796875,8196.7900390625,8196.509765625,8196.33984375,8196.83984375,8198.2802734375,8198.8203125,8200.26953125,8203.26953125,8203.240234375,8203.7998046875,8204.8896484375,8204.990234375,8203.83984375,8204.2001953125,8204.8701171875,8204.759765625,8202.3095703125,8201.1298828125,8201.7197265625,8200.8701171875,8198.9296875,8196.490234375,8196.599609375,8197.2900390625,8197.330078125],\"high\":[8193.3798828125,8198.73046875,8198.509765625,8200.5400390625,8200.0400390625,8198.3896484375,8200.919921875,8202.009765625,8203.849609375,8205.509765625,8205.6298828125,8204.1396484375,8204.5595703125,8204.98046875,8209.8701171875,8211.6904296875,8213.76953125,8213.7001953125,8213.3603515625,8213.33984375,8210.4599609375,8210.8701171875,8210.8203125,8208.6103515625,8208.66015625,8208.1298828125,8206.099609375,8205.0,8205.0,8205.9697265625,8205.0302734375,8202.259765625,8201.7099609375,8201.1796875,8200.6904296875,8201.419921875,8204.08984375,8210.1796875,8213.080078125,8214.6201171875,8215.490234375,8216.490234375,8214.8798828125,8215.5,8216.7998046875,8217.6103515625,8219.48046875,8218.76953125,8219.9501953125,8221.48046875,8221.3701171875,8221.4599609375,8221.650390625,8223.0498046875,8223.349609375,8222.8095703125,8223.009765625,8222.580078125,8222.0703125,8218.2802734375,8217.23046875,8215.7802734375,8215.4404296875,8215.1201171875,8214.3203125,8214.419921875,8213.3603515625,8211.849609375,8209.5302734375,8210.3701171875,8212.58984375,8212.740234375,8212.7900390625,8212.8896484375,8211.9599609375,8211.6796875,8208.080078125,8206.400390625,8203.66015625,8203.4296875,8201.8603515625,8201.25,8201.330078125,8199.259765625,8199.0,8198.9296875,8198.9501953125,8197.330078125,8196.6396484375,8199.0703125,8198.3701171875,8198.3701171875,8198.0,8197.01953125,8196.759765625,8197.080078125,8196.8896484375,8198.6796875,8198.8203125,8200.26953125,8203.41015625,8203.26953125,8204.1298828125,8204.8896484375,8205.3701171875,8205.330078125,8204.2001953125,8204.8896484375,8205.400390625,8204.7197265625,8202.51953125,8201.7197265625,8201.83984375,8200.8095703125,8199.0,8196.6796875,8197.2900390625,8197.490234375],\"low\":[8189.08984375,8193.2998046875,8197.4599609375,8197.830078125,8196.51953125,8197.009765625,8198.3701171875,8199.9697265625,8201.25,8203.5595703125,8202.419921875,8202.1298828125,8202.830078125,8203.349609375,8205.01953125,8209.73046875,8211.740234375,8211.919921875,8211.6796875,8210.240234375,8209.8095703125,8209.919921875,8208.58984375,8207.4599609375,8208.1396484375,8205.8701171875,8204.9296875,8204.0,8203.3896484375,8205.1796875,8202.349609375,8200.8095703125,8200.419921875,8200.0,8199.150390625,8199.23046875,8201.330078125,8204.3095703125,8210.1396484375,8212.91015625,8214.23046875,8214.7998046875,8212.4501953125,8213.0595703125,8215.419921875,8216.7001953125,8217.6103515625,8218.349609375,8218.41015625,8220.0400390625,8220.6201171875,8220.3798828125,8220.509765625,8221.7099609375,8222.2099609375,8221.830078125,8222.4501953125,8222.0595703125,8218.1201171875,8217.099609375,8215.6103515625,8215.0595703125,8214.9697265625,8214.0400390625,8213.75,8213.48046875,8211.6396484375,8208.2802734375,8207.6904296875,8209.2900390625,8210.419921875,8211.650390625,8212.4404296875,8211.58984375,8211.330078125,8208.169921875,8206.5498046875,8203.5,8203.1298828125,8201.0498046875,8200.2197265625,8200.150390625,8199.0,8198.98046875,8197.849609375,8198.1904296875,8197.240234375,8196.26953125,8196.1103515625,8196.650390625,8197.33984375,8197.1796875,8197.08984375,8196.58984375,8196.1796875,8195.66015625,8196.330078125,8196.8701171875,8198.150390625,8198.7998046875,8199.759765625,8202.669921875,8203.259765625,8203.919921875,8204.6103515625,8203.83984375,8203.400390625,8204.2001953125,8204.6904296875,8202.3095703125,8201.1298828125,8200.8896484375,8200.7998046875,8198.9296875,8196.490234375,8196.1201171875,8196.5302734375,8196.9404296875],\"name\":\"FTSE100 Candlestick\",\"open\":[8191.0,8193.2998046875,8197.91015625,8198.5400390625,8199.900390625,8197.009765625,8198.48046875,8199.9697265625,8201.25,8203.5595703125,8205.5,8203.849609375,8204.1103515625,8203.349609375,8205.01953125,8209.759765625,8211.740234375,8213.41015625,8211.830078125,8213.33984375,8210.240234375,8209.9697265625,8210.8203125,8208.580078125,8208.5498046875,8208.1298828125,8205.9404296875,8205.0,8204.240234375,8205.1796875,8205.0302734375,8202.259765625,8201.5,8201.0703125,8200.23046875,8199.23046875,8201.400390625,8204.3203125,8210.1396484375,8213.01953125,8214.2998046875,8215.41015625,8214.8798828125,8213.0595703125,8215.419921875,8216.7001953125,8217.6103515625,8218.76953125,8218.5302734375,8220.0400390625,8221.0302734375,8220.3798828125,8220.650390625,8221.7099609375,8223.1396484375,8222.23046875,8222.7099609375,8222.5595703125,8222.0703125,8218.1396484375,8217.23046875,8215.7802734375,8215.2998046875,8214.91015625,8213.9404296875,8214.3896484375,8213.3603515625,8211.8095703125,8208.16015625,8209.5302734375,8210.419921875,8212.3798828125,8212.7900390625,8212.4599609375,8211.599609375,8211.6796875,8208.0595703125,8206.400390625,8203.5498046875,8203.4296875,8201.48046875,8200.23046875,8201.3203125,8199.009765625,8199.0,8198.1904296875,8198.9501953125,8197.330078125,8196.26953125,8196.650390625,8198.3701171875,8197.2001953125,8198.0,8196.9599609375,8196.759765625,8196.580078125,8196.330078125,8196.8701171875,8198.150390625,8198.7998046875,8200.2197265625,8202.9697265625,8203.4697265625,8203.919921875,8204.9599609375,8204.9697265625,8203.8203125,8204.2001953125,8204.8203125,8204.7197265625,8202.3798828125,8200.91015625,8201.83984375,8200.8095703125,8199.0,8196.4599609375,8196.5703125,8197.2001953125],\"x\":[\"2024-09-06T08:20:00+01:00\",\"2024-09-06T08:21:00+01:00\",\"2024-09-06T08:22:00+01:00\",\"2024-09-06T08:23:00+01:00\",\"2024-09-06T08:24:00+01:00\",\"2024-09-06T08:25:00+01:00\",\"2024-09-06T08:26:00+01:00\",\"2024-09-06T08:27:00+01:00\",\"2024-09-06T08:28:00+01:00\",\"2024-09-06T08:29:00+01:00\",\"2024-09-06T08:30:00+01:00\",\"2024-09-06T08:31:00+01:00\",\"2024-09-06T08:32:00+01:00\",\"2024-09-06T08:33:00+01:00\",\"2024-09-06T08:34:00+01:00\",\"2024-09-06T08:35:00+01:00\",\"2024-09-06T08:36:00+01:00\",\"2024-09-06T08:37:00+01:00\",\"2024-09-06T08:38:00+01:00\",\"2024-09-06T08:39:00+01:00\",\"2024-09-06T08:40:00+01:00\",\"2024-09-06T08:41:00+01:00\",\"2024-09-06T08:42:00+01:00\",\"2024-09-06T08:43:00+01:00\",\"2024-09-06T08:44:00+01:00\",\"2024-09-06T08:45:00+01:00\",\"2024-09-06T08:46:00+01:00\",\"2024-09-06T08:47:00+01:00\",\"2024-09-06T08:48:00+01:00\",\"2024-09-06T08:49:00+01:00\",\"2024-09-06T08:50:00+01:00\",\"2024-09-06T08:51:00+01:00\",\"2024-09-06T08:52:00+01:00\",\"2024-09-06T08:53:00+01:00\",\"2024-09-06T08:54:00+01:00\",\"2024-09-06T08:55:00+01:00\",\"2024-09-06T08:56:00+01:00\",\"2024-09-06T08:57:00+01:00\",\"2024-09-06T08:58:00+01:00\",\"2024-09-06T08:59:00+01:00\",\"2024-09-06T09:00:00+01:00\",\"2024-09-06T09:01:00+01:00\",\"2024-09-06T09:02:00+01:00\",\"2024-09-06T09:03:00+01:00\",\"2024-09-06T09:04:00+01:00\",\"2024-09-06T09:05:00+01:00\",\"2024-09-06T09:06:00+01:00\",\"2024-09-06T09:07:00+01:00\",\"2024-09-06T09:08:00+01:00\",\"2024-09-06T09:09:00+01:00\",\"2024-09-06T09:10:00+01:00\",\"2024-09-06T09:11:00+01:00\",\"2024-09-06T09:12:00+01:00\",\"2024-09-06T09:13:00+01:00\",\"2024-09-06T09:14:00+01:00\",\"2024-09-06T09:15:00+01:00\",\"2024-09-06T09:16:00+01:00\",\"2024-09-06T09:17:00+01:00\",\"2024-09-06T09:18:00+01:00\",\"2024-09-06T09:19:00+01:00\",\"2024-09-06T09:20:00+01:00\",\"2024-09-06T09:21:00+01:00\",\"2024-09-06T09:22:00+01:00\",\"2024-09-06T09:23:00+01:00\",\"2024-09-06T09:24:00+01:00\",\"2024-09-06T09:25:00+01:00\",\"2024-09-06T09:26:00+01:00\",\"2024-09-06T09:27:00+01:00\",\"2024-09-06T09:28:00+01:00\",\"2024-09-06T09:29:00+01:00\",\"2024-09-06T09:30:00+01:00\",\"2024-09-06T09:31:00+01:00\",\"2024-09-06T09:32:00+01:00\",\"2024-09-06T09:33:00+01:00\",\"2024-09-06T09:34:00+01:00\",\"2024-09-06T09:35:00+01:00\",\"2024-09-06T09:36:00+01:00\",\"2024-09-06T09:37:00+01:00\",\"2024-09-06T09:38:00+01:00\",\"2024-09-06T09:39:00+01:00\",\"2024-09-06T09:40:00+01:00\",\"2024-09-06T09:41:00+01:00\",\"2024-09-06T09:42:00+01:00\",\"2024-09-06T09:43:00+01:00\",\"2024-09-06T09:44:00+01:00\",\"2024-09-06T09:45:00+01:00\",\"2024-09-06T09:46:00+01:00\",\"2024-09-06T09:47:00+01:00\",\"2024-09-06T09:48:00+01:00\",\"2024-09-06T09:49:00+01:00\",\"2024-09-06T09:50:00+01:00\",\"2024-09-06T09:51:00+01:00\",\"2024-09-06T09:52:00+01:00\",\"2024-09-06T09:53:00+01:00\",\"2024-09-06T09:54:00+01:00\",\"2024-09-06T09:55:00+01:00\",\"2024-09-06T09:56:00+01:00\",\"2024-09-06T09:57:00+01:00\",\"2024-09-06T09:58:00+01:00\",\"2024-09-06T09:59:00+01:00\",\"2024-09-06T10:00:00+01:00\",\"2024-09-06T10:01:00+01:00\",\"2024-09-06T10:02:00+01:00\",\"2024-09-06T10:03:00+01:00\",\"2024-09-06T10:04:00+01:00\",\"2024-09-06T10:05:00+01:00\",\"2024-09-06T10:06:00+01:00\",\"2024-09-06T10:07:00+01:00\",\"2024-09-06T10:08:00+01:00\",\"2024-09-06T10:09:00+01:00\",\"2024-09-06T10:10:00+01:00\",\"2024-09-06T10:11:00+01:00\",\"2024-09-06T10:12:00+01:00\",\"2024-09-06T10:13:00+01:00\",\"2024-09-06T10:14:00+01:00\",\"2024-09-06T10:15:00+01:00\",\"2024-09-06T10:16:00+01:00\",\"2024-09-06T10:17:00+01:00\"],\"type\":\"candlestick\"}],                        {\"template\":{\"data\":{\"histogram2dcontour\":[{\"type\":\"histogram2dcontour\",\"colorbar\":{\"outlinewidth\":0,\"ticks\":\"\"},\"colorscale\":[[0.0,\"#0d0887\"],[0.1111111111111111,\"#46039f\"],[0.2222222222222222,\"#7201a8\"],[0.3333333333333333,\"#9c179e\"],[0.4444444444444444,\"#bd3786\"],[0.5555555555555556,\"#d8576b\"],[0.6666666666666666,\"#ed7953\"],[0.7777777777777778,\"#fb9f3a\"],[0.8888888888888888,\"#fdca26\"],[1.0,\"#f0f921\"]]}],\"choropleth\":[{\"type\":\"choropleth\",\"colorbar\":{\"outlinewidth\":0,\"ticks\":\"\"}}],\"histogram2d\":[{\"type\":\"histogram2d\",\"colorbar\":{\"outlinewidth\":0,\"ticks\":\"\"},\"colorscale\":[[0.0,\"#0d0887\"],[0.1111111111111111,\"#46039f\"],[0.2222222222222222,\"#7201a8\"],[0.3333333333333333,\"#9c179e\"],[0.4444444444444444,\"#bd3786\"],[0.5555555555555556,\"#d8576b\"],[0.6666666666666666,\"#ed7953\"],[0.7777777777777778,\"#fb9f3a\"],[0.8888888888888888,\"#fdca26\"],[1.0,\"#f0f921\"]]}],\"heatmap\":[{\"type\":\"heatmap\",\"colorbar\":{\"outlinewidth\":0,\"ticks\":\"\"},\"colorscale\":[[0.0,\"#0d0887\"],[0.1111111111111111,\"#46039f\"],[0.2222222222222222,\"#7201a8\"],[0.3333333333333333,\"#9c179e\"],[0.4444444444444444,\"#bd3786\"],[0.5555555555555556,\"#d8576b\"],[0.6666666666666666,\"#ed7953\"],[0.7777777777777778,\"#fb9f3a\"],[0.8888888888888888,\"#fdca26\"],[1.0,\"#f0f921\"]]}],\"heatmapgl\":[{\"type\":\"heatmapgl\",\"colorbar\":{\"outlinewidth\":0,\"ticks\":\"\"},\"colorscale\":[[0.0,\"#0d0887\"],[0.1111111111111111,\"#46039f\"],[0.2222222222222222,\"#7201a8\"],[0.3333333333333333,\"#9c179e\"],[0.4444444444444444,\"#bd3786\"],[0.5555555555555556,\"#d8576b\"],[0.6666666666666666,\"#ed7953\"],[0.7777777777777778,\"#fb9f3a\"],[0.8888888888888888,\"#fdca26\"],[1.0,\"#f0f921\"]]}],\"contourcarpet\":[{\"type\":\"contourcarpet\",\"colorbar\":{\"outlinewidth\":0,\"ticks\":\"\"}}],\"contour\":[{\"type\":\"contour\",\"colorbar\":{\"outlinewidth\":0,\"ticks\":\"\"},\"colorscale\":[[0.0,\"#0d0887\"],[0.1111111111111111,\"#46039f\"],[0.2222222222222222,\"#7201a8\"],[0.3333333333333333,\"#9c179e\"],[0.4444444444444444,\"#bd3786\"],[0.5555555555555556,\"#d8576b\"],[0.6666666666666666,\"#ed7953\"],[0.7777777777777778,\"#fb9f3a\"],[0.8888888888888888,\"#fdca26\"],[1.0,\"#f0f921\"]]}],\"surface\":[{\"type\":\"surface\",\"colorbar\":{\"outlinewidth\":0,\"ticks\":\"\"},\"colorscale\":[[0.0,\"#0d0887\"],[0.1111111111111111,\"#46039f\"],[0.2222222222222222,\"#7201a8\"],[0.3333333333333333,\"#9c179e\"],[0.4444444444444444,\"#bd3786\"],[0.5555555555555556,\"#d8576b\"],[0.6666666666666666,\"#ed7953\"],[0.7777777777777778,\"#fb9f3a\"],[0.8888888888888888,\"#fdca26\"],[1.0,\"#f0f921\"]]}],\"mesh3d\":[{\"type\":\"mesh3d\",\"colorbar\":{\"outlinewidth\":0,\"ticks\":\"\"}}],\"scatter\":[{\"fillpattern\":{\"fillmode\":\"overlay\",\"size\":10,\"solidity\":0.2},\"type\":\"scatter\"}],\"parcoords\":[{\"type\":\"parcoords\",\"line\":{\"colorbar\":{\"outlinewidth\":0,\"ticks\":\"\"}}}],\"scatterpolargl\":[{\"type\":\"scatterpolargl\",\"marker\":{\"colorbar\":{\"outlinewidth\":0,\"ticks\":\"\"}}}],\"bar\":[{\"error_x\":{\"color\":\"#2a3f5f\"},\"error_y\":{\"color\":\"#2a3f5f\"},\"marker\":{\"line\":{\"color\":\"#E5ECF6\",\"width\":0.5},\"pattern\":{\"fillmode\":\"overlay\",\"size\":10,\"solidity\":0.2}},\"type\":\"bar\"}],\"scattergeo\":[{\"type\":\"scattergeo\",\"marker\":{\"colorbar\":{\"outlinewidth\":0,\"ticks\":\"\"}}}],\"scatterpolar\":[{\"type\":\"scatterpolar\",\"marker\":{\"colorbar\":{\"outlinewidth\":0,\"ticks\":\"\"}}}],\"histogram\":[{\"marker\":{\"pattern\":{\"fillmode\":\"overlay\",\"size\":10,\"solidity\":0.2}},\"type\":\"histogram\"}],\"scattergl\":[{\"type\":\"scattergl\",\"marker\":{\"colorbar\":{\"outlinewidth\":0,\"ticks\":\"\"}}}],\"scatter3d\":[{\"type\":\"scatter3d\",\"line\":{\"colorbar\":{\"outlinewidth\":0,\"ticks\":\"\"}},\"marker\":{\"colorbar\":{\"outlinewidth\":0,\"ticks\":\"\"}}}],\"scattermapbox\":[{\"type\":\"scattermapbox\",\"marker\":{\"colorbar\":{\"outlinewidth\":0,\"ticks\":\"\"}}}],\"scatterternary\":[{\"type\":\"scatterternary\",\"marker\":{\"colorbar\":{\"outlinewidth\":0,\"ticks\":\"\"}}}],\"scattercarpet\":[{\"type\":\"scattercarpet\",\"marker\":{\"colorbar\":{\"outlinewidth\":0,\"ticks\":\"\"}}}],\"carpet\":[{\"aaxis\":{\"endlinecolor\":\"#2a3f5f\",\"gridcolor\":\"white\",\"linecolor\":\"white\",\"minorgridcolor\":\"white\",\"startlinecolor\":\"#2a3f5f\"},\"baxis\":{\"endlinecolor\":\"#2a3f5f\",\"gridcolor\":\"white\",\"linecolor\":\"white\",\"minorgridcolor\":\"white\",\"startlinecolor\":\"#2a3f5f\"},\"type\":\"carpet\"}],\"table\":[{\"cells\":{\"fill\":{\"color\":\"#EBF0F8\"},\"line\":{\"color\":\"white\"}},\"header\":{\"fill\":{\"color\":\"#C8D4E3\"},\"line\":{\"color\":\"white\"}},\"type\":\"table\"}],\"barpolar\":[{\"marker\":{\"line\":{\"color\":\"#E5ECF6\",\"width\":0.5},\"pattern\":{\"fillmode\":\"overlay\",\"size\":10,\"solidity\":0.2}},\"type\":\"barpolar\"}],\"pie\":[{\"automargin\":true,\"type\":\"pie\"}]},\"layout\":{\"autotypenumbers\":\"strict\",\"colorway\":[\"#636efa\",\"#EF553B\",\"#00cc96\",\"#ab63fa\",\"#FFA15A\",\"#19d3f3\",\"#FF6692\",\"#B6E880\",\"#FF97FF\",\"#FECB52\"],\"font\":{\"color\":\"#2a3f5f\"},\"hovermode\":\"closest\",\"hoverlabel\":{\"align\":\"left\"},\"paper_bgcolor\":\"white\",\"plot_bgcolor\":\"#E5ECF6\",\"polar\":{\"bgcolor\":\"#E5ECF6\",\"angularaxis\":{\"gridcolor\":\"white\",\"linecolor\":\"white\",\"ticks\":\"\"},\"radialaxis\":{\"gridcolor\":\"white\",\"linecolor\":\"white\",\"ticks\":\"\"}},\"ternary\":{\"bgcolor\":\"#E5ECF6\",\"aaxis\":{\"gridcolor\":\"white\",\"linecolor\":\"white\",\"ticks\":\"\"},\"baxis\":{\"gridcolor\":\"white\",\"linecolor\":\"white\",\"ticks\":\"\"},\"caxis\":{\"gridcolor\":\"white\",\"linecolor\":\"white\",\"ticks\":\"\"}},\"coloraxis\":{\"colorbar\":{\"outlinewidth\":0,\"ticks\":\"\"}},\"colorscale\":{\"sequential\":[[0.0,\"#0d0887\"],[0.1111111111111111,\"#46039f\"],[0.2222222222222222,\"#7201a8\"],[0.3333333333333333,\"#9c179e\"],[0.4444444444444444,\"#bd3786\"],[0.5555555555555556,\"#d8576b\"],[0.6666666666666666,\"#ed7953\"],[0.7777777777777778,\"#fb9f3a\"],[0.8888888888888888,\"#fdca26\"],[1.0,\"#f0f921\"]],\"sequentialminus\":[[0.0,\"#0d0887\"],[0.1111111111111111,\"#46039f\"],[0.2222222222222222,\"#7201a8\"],[0.3333333333333333,\"#9c179e\"],[0.4444444444444444,\"#bd3786\"],[0.5555555555555556,\"#d8576b\"],[0.6666666666666666,\"#ed7953\"],[0.7777777777777778,\"#fb9f3a\"],[0.8888888888888888,\"#fdca26\"],[1.0,\"#f0f921\"]],\"diverging\":[[0,\"#8e0152\"],[0.1,\"#c51b7d\"],[0.2,\"#de77ae\"],[0.3,\"#f1b6da\"],[0.4,\"#fde0ef\"],[0.5,\"#f7f7f7\"],[0.6,\"#e6f5d0\"],[0.7,\"#b8e186\"],[0.8,\"#7fbc41\"],[0.9,\"#4d9221\"],[1,\"#276419\"]]},\"xaxis\":{\"gridcolor\":\"white\",\"linecolor\":\"white\",\"ticks\":\"\",\"title\":{\"standoff\":15},\"zerolinecolor\":\"white\",\"automargin\":true,\"zerolinewidth\":2},\"yaxis\":{\"gridcolor\":\"white\",\"linecolor\":\"white\",\"ticks\":\"\",\"title\":{\"standoff\":15},\"zerolinecolor\":\"white\",\"automargin\":true,\"zerolinewidth\":2},\"scene\":{\"xaxis\":{\"backgroundcolor\":\"#E5ECF6\",\"gridcolor\":\"white\",\"linecolor\":\"white\",\"showbackground\":true,\"ticks\":\"\",\"zerolinecolor\":\"white\",\"gridwidth\":2},\"yaxis\":{\"backgroundcolor\":\"#E5ECF6\",\"gridcolor\":\"white\",\"linecolor\":\"white\",\"showbackground\":true,\"ticks\":\"\",\"zerolinecolor\":\"white\",\"gridwidth\":2},\"zaxis\":{\"backgroundcolor\":\"#E5ECF6\",\"gridcolor\":\"white\",\"linecolor\":\"white\",\"showbackground\":true,\"ticks\":\"\",\"zerolinecolor\":\"white\",\"gridwidth\":2}},\"shapedefaults\":{\"line\":{\"color\":\"#2a3f5f\"}},\"annotationdefaults\":{\"arrowcolor\":\"#2a3f5f\",\"arrowhead\":0,\"arrowwidth\":1},\"geo\":{\"bgcolor\":\"white\",\"landcolor\":\"#E5ECF6\",\"subunitcolor\":\"white\",\"showland\":true,\"showlakes\":true,\"lakecolor\":\"white\"},\"title\":{\"x\":0.05},\"mapbox\":{\"style\":\"light\"}}},\"title\":{\"text\":\"FTSE100 Index - Candlestick Chart\"},\"xaxis\":{\"title\":{\"text\":\"Time\"}},\"yaxis\":{\"title\":{\"text\":\"Price\"}}},                        {\"responsive\": true}                    ).then(function(){\n",
              "                            \n",
              "var gd = document.getElementById('59f201ba-32bc-44ab-9d01-07cc9fe88117');\n",
              "var x = new MutationObserver(function (mutations, observer) {{\n",
              "        var display = window.getComputedStyle(gd).display;\n",
              "        if (!display || display === 'none') {{\n",
              "            console.log([gd, 'removed!']);\n",
              "            Plotly.purge(gd);\n",
              "            observer.disconnect();\n",
              "        }}\n",
              "}});\n",
              "\n",
              "// Listen for the removal of the full notebook cells\n",
              "var notebookContainer = gd.closest('#notebook-container');\n",
              "if (notebookContainer) {{\n",
              "    x.observe(notebookContainer, {childList: true});\n",
              "}}\n",
              "\n",
              "// Listen for the clearing of the current output cell\n",
              "var outputEl = gd.closest('.output');\n",
              "if (outputEl) {{\n",
              "    x.observe(outputEl, {childList: true});\n",
              "}}\n",
              "\n",
              "                        })                };                            </script>        </div>\n",
              "</body>\n",
              "</html>"
            ]
          },
          "metadata": {}
        }
      ]
    },
    {
      "cell_type": "markdown",
      "source": [
        "**The moving average chart, especially, the 20-length transfer, is not unusual, is one of the most important tools of technical analysis, which eliminates short-term volatility of prices and highlights the direction of long-term trends.**"
      ],
      "metadata": {
        "id": "TCZbeBTcqyzk"
      }
    },
    {
      "cell_type": "markdown",
      "source": [
        "*Moving Average*"
      ],
      "metadata": {
        "id": "-fAJQ1AsPqbL"
      }
    },
    {
      "cell_type": "code",
      "source": [
        "ma_fig = go.Figure()\n",
        "ma_fig.add_trace(go.Scatter(x=data.index, y=data['Moving Average'], mode='lines', name='Moving Average'))\n",
        "ma_fig.update_layout(title='FTSE100 Index - 20-Period Moving Average', xaxis_title='Time', yaxis_title='Price')\n",
        "ma_fig.show()\n",
        "# Suppress all warnings\n",
        "warnings.filterwarnings(\"ignore\")"
      ],
      "metadata": {
        "colab": {
          "base_uri": "https://localhost:8080/",
          "height": 542
        },
        "id": "djKG0HgVPPik",
        "outputId": "dd00274f-97c4-437e-d4d4-42e70c10d9c5"
      },
      "execution_count": 15,
      "outputs": [
        {
          "output_type": "display_data",
          "data": {
            "text/html": [
              "<html>\n",
              "<head><meta charset=\"utf-8\" /></head>\n",
              "<body>\n",
              "    <div>            <script src=\"https://cdnjs.cloudflare.com/ajax/libs/mathjax/2.7.5/MathJax.js?config=TeX-AMS-MML_SVG\"></script><script type=\"text/javascript\">if (window.MathJax && window.MathJax.Hub && window.MathJax.Hub.Config) {window.MathJax.Hub.Config({SVG: {font: \"STIX-Web\"}});}</script>                <script type=\"text/javascript\">window.PlotlyConfig = {MathJaxConfig: 'local'};</script>\n",
              "        <script charset=\"utf-8\" src=\"https://cdn.plot.ly/plotly-2.24.1.min.js\"></script>                <div id=\"de526718-df52-4b0a-891d-59f2cf1d4e5e\" class=\"plotly-graph-div\" style=\"height:525px; width:100%;\"></div>            <script type=\"text/javascript\">                                    window.PLOTLYENV=window.PLOTLYENV || {};                                    if (document.getElementById(\"de526718-df52-4b0a-891d-59f2cf1d4e5e\")) {                    Plotly.newPlot(                        \"de526718-df52-4b0a-891d-59f2cf1d4e5e\",                        [{\"mode\":\"lines\",\"name\":\"Moving Average\",\"x\":[\"2024-09-06T08:20:00+01:00\",\"2024-09-06T08:21:00+01:00\",\"2024-09-06T08:22:00+01:00\",\"2024-09-06T08:23:00+01:00\",\"2024-09-06T08:24:00+01:00\",\"2024-09-06T08:25:00+01:00\",\"2024-09-06T08:26:00+01:00\",\"2024-09-06T08:27:00+01:00\",\"2024-09-06T08:28:00+01:00\",\"2024-09-06T08:29:00+01:00\",\"2024-09-06T08:30:00+01:00\",\"2024-09-06T08:31:00+01:00\",\"2024-09-06T08:32:00+01:00\",\"2024-09-06T08:33:00+01:00\",\"2024-09-06T08:34:00+01:00\",\"2024-09-06T08:35:00+01:00\",\"2024-09-06T08:36:00+01:00\",\"2024-09-06T08:37:00+01:00\",\"2024-09-06T08:38:00+01:00\",\"2024-09-06T08:39:00+01:00\",\"2024-09-06T08:40:00+01:00\",\"2024-09-06T08:41:00+01:00\",\"2024-09-06T08:42:00+01:00\",\"2024-09-06T08:43:00+01:00\",\"2024-09-06T08:44:00+01:00\",\"2024-09-06T08:45:00+01:00\",\"2024-09-06T08:46:00+01:00\",\"2024-09-06T08:47:00+01:00\",\"2024-09-06T08:48:00+01:00\",\"2024-09-06T08:49:00+01:00\",\"2024-09-06T08:50:00+01:00\",\"2024-09-06T08:51:00+01:00\",\"2024-09-06T08:52:00+01:00\",\"2024-09-06T08:53:00+01:00\",\"2024-09-06T08:54:00+01:00\",\"2024-09-06T08:55:00+01:00\",\"2024-09-06T08:56:00+01:00\",\"2024-09-06T08:57:00+01:00\",\"2024-09-06T08:58:00+01:00\",\"2024-09-06T08:59:00+01:00\",\"2024-09-06T09:00:00+01:00\",\"2024-09-06T09:01:00+01:00\",\"2024-09-06T09:02:00+01:00\",\"2024-09-06T09:03:00+01:00\",\"2024-09-06T09:04:00+01:00\",\"2024-09-06T09:05:00+01:00\",\"2024-09-06T09:06:00+01:00\",\"2024-09-06T09:07:00+01:00\",\"2024-09-06T09:08:00+01:00\",\"2024-09-06T09:09:00+01:00\",\"2024-09-06T09:10:00+01:00\",\"2024-09-06T09:11:00+01:00\",\"2024-09-06T09:12:00+01:00\",\"2024-09-06T09:13:00+01:00\",\"2024-09-06T09:14:00+01:00\",\"2024-09-06T09:15:00+01:00\",\"2024-09-06T09:16:00+01:00\",\"2024-09-06T09:17:00+01:00\",\"2024-09-06T09:18:00+01:00\",\"2024-09-06T09:19:00+01:00\",\"2024-09-06T09:20:00+01:00\",\"2024-09-06T09:21:00+01:00\",\"2024-09-06T09:22:00+01:00\",\"2024-09-06T09:23:00+01:00\",\"2024-09-06T09:24:00+01:00\",\"2024-09-06T09:25:00+01:00\",\"2024-09-06T09:26:00+01:00\",\"2024-09-06T09:27:00+01:00\",\"2024-09-06T09:28:00+01:00\",\"2024-09-06T09:29:00+01:00\",\"2024-09-06T09:30:00+01:00\",\"2024-09-06T09:31:00+01:00\",\"2024-09-06T09:32:00+01:00\",\"2024-09-06T09:33:00+01:00\",\"2024-09-06T09:34:00+01:00\",\"2024-09-06T09:35:00+01:00\",\"2024-09-06T09:36:00+01:00\",\"2024-09-06T09:37:00+01:00\",\"2024-09-06T09:38:00+01:00\",\"2024-09-06T09:39:00+01:00\",\"2024-09-06T09:40:00+01:00\",\"2024-09-06T09:41:00+01:00\",\"2024-09-06T09:42:00+01:00\",\"2024-09-06T09:43:00+01:00\",\"2024-09-06T09:44:00+01:00\",\"2024-09-06T09:45:00+01:00\",\"2024-09-06T09:46:00+01:00\",\"2024-09-06T09:47:00+01:00\",\"2024-09-06T09:48:00+01:00\",\"2024-09-06T09:49:00+01:00\",\"2024-09-06T09:50:00+01:00\",\"2024-09-06T09:51:00+01:00\",\"2024-09-06T09:52:00+01:00\",\"2024-09-06T09:53:00+01:00\",\"2024-09-06T09:54:00+01:00\",\"2024-09-06T09:55:00+01:00\",\"2024-09-06T09:56:00+01:00\",\"2024-09-06T09:57:00+01:00\",\"2024-09-06T09:58:00+01:00\",\"2024-09-06T09:59:00+01:00\",\"2024-09-06T10:00:00+01:00\",\"2024-09-06T10:01:00+01:00\",\"2024-09-06T10:02:00+01:00\",\"2024-09-06T10:03:00+01:00\",\"2024-09-06T10:04:00+01:00\",\"2024-09-06T10:05:00+01:00\",\"2024-09-06T10:06:00+01:00\",\"2024-09-06T10:07:00+01:00\",\"2024-09-06T10:08:00+01:00\",\"2024-09-06T10:09:00+01:00\",\"2024-09-06T10:10:00+01:00\",\"2024-09-06T10:11:00+01:00\",\"2024-09-06T10:12:00+01:00\",\"2024-09-06T10:13:00+01:00\",\"2024-09-06T10:14:00+01:00\",\"2024-09-06T10:15:00+01:00\",\"2024-09-06T10:16:00+01:00\",\"2024-09-06T10:17:00+01:00\"],\"y\":[8209.668041992187,8208.413549804687,8207.074047851562,8205.962573242188,8204.868579101563,8203.782055664062,8202.712573242188,8202.009545898438,8201.416040039063,8200.854516601563,8200.421997070312,8200.067456054687,8199.820971679688,8199.707983398437,8200.019995117187,8200.674487304688,8201.419995117187,8202.243481445312,8203.146508789063,8204.0865234375,8204.918017578126,8205.558984375,8206.06396484375,8206.50546875,8207.066455078126,8207.440478515626,8207.683984375,8207.833984375,8207.903955078125,8207.89296875,8207.819970703125,8207.685498046874,8207.5794921875,8207.333984375,8206.797998046875,8206.285009765625,8205.8205078125,8205.73349609375,8205.719482421875,8205.920458984376,8206.190478515626,8206.39599609375,8206.606005859376,8206.940966796876,8207.368994140625,8207.953466796875,8208.645458984374,8209.357470703126,8210.10849609375,8210.889013671875,8211.8025390625,8212.76552734375,8213.79404296875,8214.943017578125,8216.09599609375,8217.15751953125,8218.081005859374,8218.675,8218.935498046874,8219.081494140624,8219.097998046875,8219.1205078125,8219.2294921875,8219.166015625,8219.047021484375,8218.84306640625,8218.496533203124,8217.983056640625,8217.462060546875,8216.935546875,8216.52353515625,8216.125048828126,8215.66455078125,8215.092578125,8214.569091796875,8213.845068359375,8213.044580078125,8212.1166015625,8211.38310546875,8210.592626953125,8209.8166015625,8209.1130859375,8208.31708984375,8207.5666015625,8206.743603515624,8206.0130859375,8205.289111328126,8204.68857421875,8204.038037109374,8203.44501953125,8202.693017578125,8201.956982421874,8201.1939453125,8200.4529296875,8199.69140625,8199.09990234375,8198.614404296875,8198.35341796875,8198.121923828125,8198.06689453125,8198.219384765625,8198.318896484376,8198.556396484375,8198.849365234375,8199.205859375,8199.454345703125,8199.795849609374,8200.22587890625,8200.637890625,8200.827880859375,8201.0173828125,8201.202392578125,8201.3869140625,8201.493896484375,8201.492919921875,8201.505908203126,8201.52841796875,8201.480908203124],\"type\":\"scatter\"}],                        {\"template\":{\"data\":{\"histogram2dcontour\":[{\"type\":\"histogram2dcontour\",\"colorbar\":{\"outlinewidth\":0,\"ticks\":\"\"},\"colorscale\":[[0.0,\"#0d0887\"],[0.1111111111111111,\"#46039f\"],[0.2222222222222222,\"#7201a8\"],[0.3333333333333333,\"#9c179e\"],[0.4444444444444444,\"#bd3786\"],[0.5555555555555556,\"#d8576b\"],[0.6666666666666666,\"#ed7953\"],[0.7777777777777778,\"#fb9f3a\"],[0.8888888888888888,\"#fdca26\"],[1.0,\"#f0f921\"]]}],\"choropleth\":[{\"type\":\"choropleth\",\"colorbar\":{\"outlinewidth\":0,\"ticks\":\"\"}}],\"histogram2d\":[{\"type\":\"histogram2d\",\"colorbar\":{\"outlinewidth\":0,\"ticks\":\"\"},\"colorscale\":[[0.0,\"#0d0887\"],[0.1111111111111111,\"#46039f\"],[0.2222222222222222,\"#7201a8\"],[0.3333333333333333,\"#9c179e\"],[0.4444444444444444,\"#bd3786\"],[0.5555555555555556,\"#d8576b\"],[0.6666666666666666,\"#ed7953\"],[0.7777777777777778,\"#fb9f3a\"],[0.8888888888888888,\"#fdca26\"],[1.0,\"#f0f921\"]]}],\"heatmap\":[{\"type\":\"heatmap\",\"colorbar\":{\"outlinewidth\":0,\"ticks\":\"\"},\"colorscale\":[[0.0,\"#0d0887\"],[0.1111111111111111,\"#46039f\"],[0.2222222222222222,\"#7201a8\"],[0.3333333333333333,\"#9c179e\"],[0.4444444444444444,\"#bd3786\"],[0.5555555555555556,\"#d8576b\"],[0.6666666666666666,\"#ed7953\"],[0.7777777777777778,\"#fb9f3a\"],[0.8888888888888888,\"#fdca26\"],[1.0,\"#f0f921\"]]}],\"heatmapgl\":[{\"type\":\"heatmapgl\",\"colorbar\":{\"outlinewidth\":0,\"ticks\":\"\"},\"colorscale\":[[0.0,\"#0d0887\"],[0.1111111111111111,\"#46039f\"],[0.2222222222222222,\"#7201a8\"],[0.3333333333333333,\"#9c179e\"],[0.4444444444444444,\"#bd3786\"],[0.5555555555555556,\"#d8576b\"],[0.6666666666666666,\"#ed7953\"],[0.7777777777777778,\"#fb9f3a\"],[0.8888888888888888,\"#fdca26\"],[1.0,\"#f0f921\"]]}],\"contourcarpet\":[{\"type\":\"contourcarpet\",\"colorbar\":{\"outlinewidth\":0,\"ticks\":\"\"}}],\"contour\":[{\"type\":\"contour\",\"colorbar\":{\"outlinewidth\":0,\"ticks\":\"\"},\"colorscale\":[[0.0,\"#0d0887\"],[0.1111111111111111,\"#46039f\"],[0.2222222222222222,\"#7201a8\"],[0.3333333333333333,\"#9c179e\"],[0.4444444444444444,\"#bd3786\"],[0.5555555555555556,\"#d8576b\"],[0.6666666666666666,\"#ed7953\"],[0.7777777777777778,\"#fb9f3a\"],[0.8888888888888888,\"#fdca26\"],[1.0,\"#f0f921\"]]}],\"surface\":[{\"type\":\"surface\",\"colorbar\":{\"outlinewidth\":0,\"ticks\":\"\"},\"colorscale\":[[0.0,\"#0d0887\"],[0.1111111111111111,\"#46039f\"],[0.2222222222222222,\"#7201a8\"],[0.3333333333333333,\"#9c179e\"],[0.4444444444444444,\"#bd3786\"],[0.5555555555555556,\"#d8576b\"],[0.6666666666666666,\"#ed7953\"],[0.7777777777777778,\"#fb9f3a\"],[0.8888888888888888,\"#fdca26\"],[1.0,\"#f0f921\"]]}],\"mesh3d\":[{\"type\":\"mesh3d\",\"colorbar\":{\"outlinewidth\":0,\"ticks\":\"\"}}],\"scatter\":[{\"fillpattern\":{\"fillmode\":\"overlay\",\"size\":10,\"solidity\":0.2},\"type\":\"scatter\"}],\"parcoords\":[{\"type\":\"parcoords\",\"line\":{\"colorbar\":{\"outlinewidth\":0,\"ticks\":\"\"}}}],\"scatterpolargl\":[{\"type\":\"scatterpolargl\",\"marker\":{\"colorbar\":{\"outlinewidth\":0,\"ticks\":\"\"}}}],\"bar\":[{\"error_x\":{\"color\":\"#2a3f5f\"},\"error_y\":{\"color\":\"#2a3f5f\"},\"marker\":{\"line\":{\"color\":\"#E5ECF6\",\"width\":0.5},\"pattern\":{\"fillmode\":\"overlay\",\"size\":10,\"solidity\":0.2}},\"type\":\"bar\"}],\"scattergeo\":[{\"type\":\"scattergeo\",\"marker\":{\"colorbar\":{\"outlinewidth\":0,\"ticks\":\"\"}}}],\"scatterpolar\":[{\"type\":\"scatterpolar\",\"marker\":{\"colorbar\":{\"outlinewidth\":0,\"ticks\":\"\"}}}],\"histogram\":[{\"marker\":{\"pattern\":{\"fillmode\":\"overlay\",\"size\":10,\"solidity\":0.2}},\"type\":\"histogram\"}],\"scattergl\":[{\"type\":\"scattergl\",\"marker\":{\"colorbar\":{\"outlinewidth\":0,\"ticks\":\"\"}}}],\"scatter3d\":[{\"type\":\"scatter3d\",\"line\":{\"colorbar\":{\"outlinewidth\":0,\"ticks\":\"\"}},\"marker\":{\"colorbar\":{\"outlinewidth\":0,\"ticks\":\"\"}}}],\"scattermapbox\":[{\"type\":\"scattermapbox\",\"marker\":{\"colorbar\":{\"outlinewidth\":0,\"ticks\":\"\"}}}],\"scatterternary\":[{\"type\":\"scatterternary\",\"marker\":{\"colorbar\":{\"outlinewidth\":0,\"ticks\":\"\"}}}],\"scattercarpet\":[{\"type\":\"scattercarpet\",\"marker\":{\"colorbar\":{\"outlinewidth\":0,\"ticks\":\"\"}}}],\"carpet\":[{\"aaxis\":{\"endlinecolor\":\"#2a3f5f\",\"gridcolor\":\"white\",\"linecolor\":\"white\",\"minorgridcolor\":\"white\",\"startlinecolor\":\"#2a3f5f\"},\"baxis\":{\"endlinecolor\":\"#2a3f5f\",\"gridcolor\":\"white\",\"linecolor\":\"white\",\"minorgridcolor\":\"white\",\"startlinecolor\":\"#2a3f5f\"},\"type\":\"carpet\"}],\"table\":[{\"cells\":{\"fill\":{\"color\":\"#EBF0F8\"},\"line\":{\"color\":\"white\"}},\"header\":{\"fill\":{\"color\":\"#C8D4E3\"},\"line\":{\"color\":\"white\"}},\"type\":\"table\"}],\"barpolar\":[{\"marker\":{\"line\":{\"color\":\"#E5ECF6\",\"width\":0.5},\"pattern\":{\"fillmode\":\"overlay\",\"size\":10,\"solidity\":0.2}},\"type\":\"barpolar\"}],\"pie\":[{\"automargin\":true,\"type\":\"pie\"}]},\"layout\":{\"autotypenumbers\":\"strict\",\"colorway\":[\"#636efa\",\"#EF553B\",\"#00cc96\",\"#ab63fa\",\"#FFA15A\",\"#19d3f3\",\"#FF6692\",\"#B6E880\",\"#FF97FF\",\"#FECB52\"],\"font\":{\"color\":\"#2a3f5f\"},\"hovermode\":\"closest\",\"hoverlabel\":{\"align\":\"left\"},\"paper_bgcolor\":\"white\",\"plot_bgcolor\":\"#E5ECF6\",\"polar\":{\"bgcolor\":\"#E5ECF6\",\"angularaxis\":{\"gridcolor\":\"white\",\"linecolor\":\"white\",\"ticks\":\"\"},\"radialaxis\":{\"gridcolor\":\"white\",\"linecolor\":\"white\",\"ticks\":\"\"}},\"ternary\":{\"bgcolor\":\"#E5ECF6\",\"aaxis\":{\"gridcolor\":\"white\",\"linecolor\":\"white\",\"ticks\":\"\"},\"baxis\":{\"gridcolor\":\"white\",\"linecolor\":\"white\",\"ticks\":\"\"},\"caxis\":{\"gridcolor\":\"white\",\"linecolor\":\"white\",\"ticks\":\"\"}},\"coloraxis\":{\"colorbar\":{\"outlinewidth\":0,\"ticks\":\"\"}},\"colorscale\":{\"sequential\":[[0.0,\"#0d0887\"],[0.1111111111111111,\"#46039f\"],[0.2222222222222222,\"#7201a8\"],[0.3333333333333333,\"#9c179e\"],[0.4444444444444444,\"#bd3786\"],[0.5555555555555556,\"#d8576b\"],[0.6666666666666666,\"#ed7953\"],[0.7777777777777778,\"#fb9f3a\"],[0.8888888888888888,\"#fdca26\"],[1.0,\"#f0f921\"]],\"sequentialminus\":[[0.0,\"#0d0887\"],[0.1111111111111111,\"#46039f\"],[0.2222222222222222,\"#7201a8\"],[0.3333333333333333,\"#9c179e\"],[0.4444444444444444,\"#bd3786\"],[0.5555555555555556,\"#d8576b\"],[0.6666666666666666,\"#ed7953\"],[0.7777777777777778,\"#fb9f3a\"],[0.8888888888888888,\"#fdca26\"],[1.0,\"#f0f921\"]],\"diverging\":[[0,\"#8e0152\"],[0.1,\"#c51b7d\"],[0.2,\"#de77ae\"],[0.3,\"#f1b6da\"],[0.4,\"#fde0ef\"],[0.5,\"#f7f7f7\"],[0.6,\"#e6f5d0\"],[0.7,\"#b8e186\"],[0.8,\"#7fbc41\"],[0.9,\"#4d9221\"],[1,\"#276419\"]]},\"xaxis\":{\"gridcolor\":\"white\",\"linecolor\":\"white\",\"ticks\":\"\",\"title\":{\"standoff\":15},\"zerolinecolor\":\"white\",\"automargin\":true,\"zerolinewidth\":2},\"yaxis\":{\"gridcolor\":\"white\",\"linecolor\":\"white\",\"ticks\":\"\",\"title\":{\"standoff\":15},\"zerolinecolor\":\"white\",\"automargin\":true,\"zerolinewidth\":2},\"scene\":{\"xaxis\":{\"backgroundcolor\":\"#E5ECF6\",\"gridcolor\":\"white\",\"linecolor\":\"white\",\"showbackground\":true,\"ticks\":\"\",\"zerolinecolor\":\"white\",\"gridwidth\":2},\"yaxis\":{\"backgroundcolor\":\"#E5ECF6\",\"gridcolor\":\"white\",\"linecolor\":\"white\",\"showbackground\":true,\"ticks\":\"\",\"zerolinecolor\":\"white\",\"gridwidth\":2},\"zaxis\":{\"backgroundcolor\":\"#E5ECF6\",\"gridcolor\":\"white\",\"linecolor\":\"white\",\"showbackground\":true,\"ticks\":\"\",\"zerolinecolor\":\"white\",\"gridwidth\":2}},\"shapedefaults\":{\"line\":{\"color\":\"#2a3f5f\"}},\"annotationdefaults\":{\"arrowcolor\":\"#2a3f5f\",\"arrowhead\":0,\"arrowwidth\":1},\"geo\":{\"bgcolor\":\"white\",\"landcolor\":\"#E5ECF6\",\"subunitcolor\":\"white\",\"showland\":true,\"showlakes\":true,\"lakecolor\":\"white\"},\"title\":{\"x\":0.05},\"mapbox\":{\"style\":\"light\"}}},\"title\":{\"text\":\"FTSE100 Index - 20-Period Moving Average\"},\"xaxis\":{\"title\":{\"text\":\"Time\"}},\"yaxis\":{\"title\":{\"text\":\"Price\"}}},                        {\"responsive\": true}                    ).then(function(){\n",
              "                            \n",
              "var gd = document.getElementById('de526718-df52-4b0a-891d-59f2cf1d4e5e');\n",
              "var x = new MutationObserver(function (mutations, observer) {{\n",
              "        var display = window.getComputedStyle(gd).display;\n",
              "        if (!display || display === 'none') {{\n",
              "            console.log([gd, 'removed!']);\n",
              "            Plotly.purge(gd);\n",
              "            observer.disconnect();\n",
              "        }}\n",
              "}});\n",
              "\n",
              "// Listen for the removal of the full notebook cells\n",
              "var notebookContainer = gd.closest('#notebook-container');\n",
              "if (notebookContainer) {{\n",
              "    x.observe(notebookContainer, {childList: true});\n",
              "}}\n",
              "\n",
              "// Listen for the clearing of the current output cell\n",
              "var outputEl = gd.closest('.output');\n",
              "if (outputEl) {{\n",
              "    x.observe(outputEl, {childList: true});\n",
              "}}\n",
              "\n",
              "                        })                };                            </script>        </div>\n",
              "</body>\n",
              "</html>"
            ]
          },
          "metadata": {}
        }
      ]
    },
    {
      "cell_type": "markdown",
      "source": [
        "*Linear Regression Prediction Plot*"
      ],
      "metadata": {
        "id": "fCct-wQaPle7"
      }
    },
    {
      "cell_type": "markdown",
      "source": [
        "**Linear Regression assumes linearity between the independent and dependent variables it is not always true in case of financial data. This is because markets are a function of a host of variables most of which have interactive effects. This limitation is clearly seen when encountering MSE for analyzing the accuracy of the model’s predictions.**"
      ],
      "metadata": {
        "id": "NE8sASkjqC71"
      }
    },
    {
      "cell_type": "code",
      "source": [
        "data['Predicted Close'] = linear_model.predict(data[['Close']])\n",
        "lr_fig = go.Figure()\n",
        "lr_fig.add_trace(go.Scatter(x=data.index, y=data['Predicted Close'], mode='lines', name='Linear Regression Prediction'))\n",
        "lr_fig.update_layout(title='FTSE100 Index - Linear Regression Prediction', xaxis_title='Time', yaxis_title='Price')\n",
        "lr_fig.show()\n",
        "# Suppress all warnings\n",
        "warnings.filterwarnings(\"ignore\")"
      ],
      "metadata": {
        "colab": {
          "base_uri": "https://localhost:8080/",
          "height": 542
        },
        "id": "hAANREpmPRkM",
        "outputId": "50246a7f-1dbd-486b-be40-008c1dafd185"
      },
      "execution_count": 16,
      "outputs": [
        {
          "output_type": "display_data",
          "data": {
            "text/html": [
              "<html>\n",
              "<head><meta charset=\"utf-8\" /></head>\n",
              "<body>\n",
              "    <div>            <script src=\"https://cdnjs.cloudflare.com/ajax/libs/mathjax/2.7.5/MathJax.js?config=TeX-AMS-MML_SVG\"></script><script type=\"text/javascript\">if (window.MathJax && window.MathJax.Hub && window.MathJax.Hub.Config) {window.MathJax.Hub.Config({SVG: {font: \"STIX-Web\"}});}</script>                <script type=\"text/javascript\">window.PlotlyConfig = {MathJaxConfig: 'local'};</script>\n",
              "        <script charset=\"utf-8\" src=\"https://cdn.plot.ly/plotly-2.24.1.min.js\"></script>                <div id=\"4107efc0-830c-4102-b2aa-d90cce7e39b4\" class=\"plotly-graph-div\" style=\"height:525px; width:100%;\"></div>            <script type=\"text/javascript\">                                    window.PLOTLYENV=window.PLOTLYENV || {};                                    if (document.getElementById(\"4107efc0-830c-4102-b2aa-d90cce7e39b4\")) {                    Plotly.newPlot(                        \"4107efc0-830c-4102-b2aa-d90cce7e39b4\",                        [{\"mode\":\"lines\",\"name\":\"Linear Regression Prediction\",\"x\":[\"2024-09-06T08:20:00+01:00\",\"2024-09-06T08:21:00+01:00\",\"2024-09-06T08:22:00+01:00\",\"2024-09-06T08:23:00+01:00\",\"2024-09-06T08:24:00+01:00\",\"2024-09-06T08:25:00+01:00\",\"2024-09-06T08:26:00+01:00\",\"2024-09-06T08:27:00+01:00\",\"2024-09-06T08:28:00+01:00\",\"2024-09-06T08:29:00+01:00\",\"2024-09-06T08:30:00+01:00\",\"2024-09-06T08:31:00+01:00\",\"2024-09-06T08:32:00+01:00\",\"2024-09-06T08:33:00+01:00\",\"2024-09-06T08:34:00+01:00\",\"2024-09-06T08:35:00+01:00\",\"2024-09-06T08:36:00+01:00\",\"2024-09-06T08:37:00+01:00\",\"2024-09-06T08:38:00+01:00\",\"2024-09-06T08:39:00+01:00\",\"2024-09-06T08:40:00+01:00\",\"2024-09-06T08:41:00+01:00\",\"2024-09-06T08:42:00+01:00\",\"2024-09-06T08:43:00+01:00\",\"2024-09-06T08:44:00+01:00\",\"2024-09-06T08:45:00+01:00\",\"2024-09-06T08:46:00+01:00\",\"2024-09-06T08:47:00+01:00\",\"2024-09-06T08:48:00+01:00\",\"2024-09-06T08:49:00+01:00\",\"2024-09-06T08:50:00+01:00\",\"2024-09-06T08:51:00+01:00\",\"2024-09-06T08:52:00+01:00\",\"2024-09-06T08:53:00+01:00\",\"2024-09-06T08:54:00+01:00\",\"2024-09-06T08:55:00+01:00\",\"2024-09-06T08:56:00+01:00\",\"2024-09-06T08:57:00+01:00\",\"2024-09-06T08:58:00+01:00\",\"2024-09-06T08:59:00+01:00\",\"2024-09-06T09:00:00+01:00\",\"2024-09-06T09:01:00+01:00\",\"2024-09-06T09:02:00+01:00\",\"2024-09-06T09:03:00+01:00\",\"2024-09-06T09:04:00+01:00\",\"2024-09-06T09:05:00+01:00\",\"2024-09-06T09:06:00+01:00\",\"2024-09-06T09:07:00+01:00\",\"2024-09-06T09:08:00+01:00\",\"2024-09-06T09:09:00+01:00\",\"2024-09-06T09:10:00+01:00\",\"2024-09-06T09:11:00+01:00\",\"2024-09-06T09:12:00+01:00\",\"2024-09-06T09:13:00+01:00\",\"2024-09-06T09:14:00+01:00\",\"2024-09-06T09:15:00+01:00\",\"2024-09-06T09:16:00+01:00\",\"2024-09-06T09:17:00+01:00\",\"2024-09-06T09:18:00+01:00\",\"2024-09-06T09:19:00+01:00\",\"2024-09-06T09:20:00+01:00\",\"2024-09-06T09:21:00+01:00\",\"2024-09-06T09:22:00+01:00\",\"2024-09-06T09:23:00+01:00\",\"2024-09-06T09:24:00+01:00\",\"2024-09-06T09:25:00+01:00\",\"2024-09-06T09:26:00+01:00\",\"2024-09-06T09:27:00+01:00\",\"2024-09-06T09:28:00+01:00\",\"2024-09-06T09:29:00+01:00\",\"2024-09-06T09:30:00+01:00\",\"2024-09-06T09:31:00+01:00\",\"2024-09-06T09:32:00+01:00\",\"2024-09-06T09:33:00+01:00\",\"2024-09-06T09:34:00+01:00\",\"2024-09-06T09:35:00+01:00\",\"2024-09-06T09:36:00+01:00\",\"2024-09-06T09:37:00+01:00\",\"2024-09-06T09:38:00+01:00\",\"2024-09-06T09:39:00+01:00\",\"2024-09-06T09:40:00+01:00\",\"2024-09-06T09:41:00+01:00\",\"2024-09-06T09:42:00+01:00\",\"2024-09-06T09:43:00+01:00\",\"2024-09-06T09:44:00+01:00\",\"2024-09-06T09:45:00+01:00\",\"2024-09-06T09:46:00+01:00\",\"2024-09-06T09:47:00+01:00\",\"2024-09-06T09:48:00+01:00\",\"2024-09-06T09:49:00+01:00\",\"2024-09-06T09:50:00+01:00\",\"2024-09-06T09:51:00+01:00\",\"2024-09-06T09:52:00+01:00\",\"2024-09-06T09:53:00+01:00\",\"2024-09-06T09:54:00+01:00\",\"2024-09-06T09:55:00+01:00\",\"2024-09-06T09:56:00+01:00\",\"2024-09-06T09:57:00+01:00\",\"2024-09-06T09:58:00+01:00\",\"2024-09-06T09:59:00+01:00\",\"2024-09-06T10:00:00+01:00\",\"2024-09-06T10:01:00+01:00\",\"2024-09-06T10:02:00+01:00\",\"2024-09-06T10:03:00+01:00\",\"2024-09-06T10:04:00+01:00\",\"2024-09-06T10:05:00+01:00\",\"2024-09-06T10:06:00+01:00\",\"2024-09-06T10:07:00+01:00\",\"2024-09-06T10:08:00+01:00\",\"2024-09-06T10:09:00+01:00\",\"2024-09-06T10:10:00+01:00\",\"2024-09-06T10:11:00+01:00\",\"2024-09-06T10:12:00+01:00\",\"2024-09-06T10:13:00+01:00\",\"2024-09-06T10:14:00+01:00\",\"2024-09-06T10:15:00+01:00\",\"2024-09-06T10:16:00+01:00\",\"2024-09-06T10:17:00+01:00\"],\"y\":[8193.635246597732,8198.105717085356,8198.644662456776,8199.909221667516,8197.10536555226,8198.546063214759,8200.19353210324,8201.408313055872,8203.58515457383,8205.525549365779,8203.858934993412,8204.182493671104,8203.261595896136,8205.006706752441,8209.799778643563,8211.573607725695,8213.240222098062,8211.809097177507,8213.05451090436,8210.162585563221,8209.936668853356,8210.671855434615,8208.544792174765,8208.564894932848,8208.10348877117,8205.878783543496,8204.967458510473,8204.349059380922,8204.956928494335,8205.31016267205,8202.427810072857,8201.54616053986,8201.1833536202,8200.19353210324,8199.29177981216,8201.516485039832,8204.133672687192,8210.103234563172,8212.77977321058,8214.102726147175,8215.23039514812,8214.701022518644,8212.662028484676,8215.131795906102,8216.49495435886,8217.33735564989,8218.53394839283,8218.308031682962,8219.680762877664,8220.61219066877,8220.337452974989,8220.425522200869,8221.347377250031,8222.719151170537,8221.895895363396,8222.327626025048,8222.238599524972,8221.748475137465,8217.88683103745,8216.964975988287,8215.553953825813,8215.142325922241,8214.798664486469,8213.887339453446,8214.162077147224,8213.338821340081,8211.740173435513,8208.241336255156,8209.466647223928,8210.28990303107,8212.259973323045,8212.613207500763,8212.319324323096,8211.505641257896,8211.632958725746,8208.133164271196,8206.545046382766,8203.555479073802,8203.506658089891,8201.467664055923,8200.339995054976,8201.349919330016,8199.19318057014,8199.174035086253,8198.02722060142,8199.01704211838,8197.546668955856,8196.46782093882,8196.712883132575,8198.663807940666,8197.51699345583,8198.183256295099,8197.360000487957,8196.97804808441,8196.703310390632,8196.536744680814,8197.026869068322,8198.438848504991,8198.968221134468,8200.388816038887,8203.329562363935,8203.300844138106,8203.849362251469,8204.917680252365,8205.016279494384,8203.888610493439,8204.241844671153,8204.89853476848,8204.790362784517,8202.388561830889,8201.23217460411,8201.810368217499,8200.977539668413,8199.075435844235,8196.684164906745,8196.791379616512,8197.46817247192,8197.507420713886],\"type\":\"scatter\"}],                        {\"template\":{\"data\":{\"histogram2dcontour\":[{\"type\":\"histogram2dcontour\",\"colorbar\":{\"outlinewidth\":0,\"ticks\":\"\"},\"colorscale\":[[0.0,\"#0d0887\"],[0.1111111111111111,\"#46039f\"],[0.2222222222222222,\"#7201a8\"],[0.3333333333333333,\"#9c179e\"],[0.4444444444444444,\"#bd3786\"],[0.5555555555555556,\"#d8576b\"],[0.6666666666666666,\"#ed7953\"],[0.7777777777777778,\"#fb9f3a\"],[0.8888888888888888,\"#fdca26\"],[1.0,\"#f0f921\"]]}],\"choropleth\":[{\"type\":\"choropleth\",\"colorbar\":{\"outlinewidth\":0,\"ticks\":\"\"}}],\"histogram2d\":[{\"type\":\"histogram2d\",\"colorbar\":{\"outlinewidth\":0,\"ticks\":\"\"},\"colorscale\":[[0.0,\"#0d0887\"],[0.1111111111111111,\"#46039f\"],[0.2222222222222222,\"#7201a8\"],[0.3333333333333333,\"#9c179e\"],[0.4444444444444444,\"#bd3786\"],[0.5555555555555556,\"#d8576b\"],[0.6666666666666666,\"#ed7953\"],[0.7777777777777778,\"#fb9f3a\"],[0.8888888888888888,\"#fdca26\"],[1.0,\"#f0f921\"]]}],\"heatmap\":[{\"type\":\"heatmap\",\"colorbar\":{\"outlinewidth\":0,\"ticks\":\"\"},\"colorscale\":[[0.0,\"#0d0887\"],[0.1111111111111111,\"#46039f\"],[0.2222222222222222,\"#7201a8\"],[0.3333333333333333,\"#9c179e\"],[0.4444444444444444,\"#bd3786\"],[0.5555555555555556,\"#d8576b\"],[0.6666666666666666,\"#ed7953\"],[0.7777777777777778,\"#fb9f3a\"],[0.8888888888888888,\"#fdca26\"],[1.0,\"#f0f921\"]]}],\"heatmapgl\":[{\"type\":\"heatmapgl\",\"colorbar\":{\"outlinewidth\":0,\"ticks\":\"\"},\"colorscale\":[[0.0,\"#0d0887\"],[0.1111111111111111,\"#46039f\"],[0.2222222222222222,\"#7201a8\"],[0.3333333333333333,\"#9c179e\"],[0.4444444444444444,\"#bd3786\"],[0.5555555555555556,\"#d8576b\"],[0.6666666666666666,\"#ed7953\"],[0.7777777777777778,\"#fb9f3a\"],[0.8888888888888888,\"#fdca26\"],[1.0,\"#f0f921\"]]}],\"contourcarpet\":[{\"type\":\"contourcarpet\",\"colorbar\":{\"outlinewidth\":0,\"ticks\":\"\"}}],\"contour\":[{\"type\":\"contour\",\"colorbar\":{\"outlinewidth\":0,\"ticks\":\"\"},\"colorscale\":[[0.0,\"#0d0887\"],[0.1111111111111111,\"#46039f\"],[0.2222222222222222,\"#7201a8\"],[0.3333333333333333,\"#9c179e\"],[0.4444444444444444,\"#bd3786\"],[0.5555555555555556,\"#d8576b\"],[0.6666666666666666,\"#ed7953\"],[0.7777777777777778,\"#fb9f3a\"],[0.8888888888888888,\"#fdca26\"],[1.0,\"#f0f921\"]]}],\"surface\":[{\"type\":\"surface\",\"colorbar\":{\"outlinewidth\":0,\"ticks\":\"\"},\"colorscale\":[[0.0,\"#0d0887\"],[0.1111111111111111,\"#46039f\"],[0.2222222222222222,\"#7201a8\"],[0.3333333333333333,\"#9c179e\"],[0.4444444444444444,\"#bd3786\"],[0.5555555555555556,\"#d8576b\"],[0.6666666666666666,\"#ed7953\"],[0.7777777777777778,\"#fb9f3a\"],[0.8888888888888888,\"#fdca26\"],[1.0,\"#f0f921\"]]}],\"mesh3d\":[{\"type\":\"mesh3d\",\"colorbar\":{\"outlinewidth\":0,\"ticks\":\"\"}}],\"scatter\":[{\"fillpattern\":{\"fillmode\":\"overlay\",\"size\":10,\"solidity\":0.2},\"type\":\"scatter\"}],\"parcoords\":[{\"type\":\"parcoords\",\"line\":{\"colorbar\":{\"outlinewidth\":0,\"ticks\":\"\"}}}],\"scatterpolargl\":[{\"type\":\"scatterpolargl\",\"marker\":{\"colorbar\":{\"outlinewidth\":0,\"ticks\":\"\"}}}],\"bar\":[{\"error_x\":{\"color\":\"#2a3f5f\"},\"error_y\":{\"color\":\"#2a3f5f\"},\"marker\":{\"line\":{\"color\":\"#E5ECF6\",\"width\":0.5},\"pattern\":{\"fillmode\":\"overlay\",\"size\":10,\"solidity\":0.2}},\"type\":\"bar\"}],\"scattergeo\":[{\"type\":\"scattergeo\",\"marker\":{\"colorbar\":{\"outlinewidth\":0,\"ticks\":\"\"}}}],\"scatterpolar\":[{\"type\":\"scatterpolar\",\"marker\":{\"colorbar\":{\"outlinewidth\":0,\"ticks\":\"\"}}}],\"histogram\":[{\"marker\":{\"pattern\":{\"fillmode\":\"overlay\",\"size\":10,\"solidity\":0.2}},\"type\":\"histogram\"}],\"scattergl\":[{\"type\":\"scattergl\",\"marker\":{\"colorbar\":{\"outlinewidth\":0,\"ticks\":\"\"}}}],\"scatter3d\":[{\"type\":\"scatter3d\",\"line\":{\"colorbar\":{\"outlinewidth\":0,\"ticks\":\"\"}},\"marker\":{\"colorbar\":{\"outlinewidth\":0,\"ticks\":\"\"}}}],\"scattermapbox\":[{\"type\":\"scattermapbox\",\"marker\":{\"colorbar\":{\"outlinewidth\":0,\"ticks\":\"\"}}}],\"scatterternary\":[{\"type\":\"scatterternary\",\"marker\":{\"colorbar\":{\"outlinewidth\":0,\"ticks\":\"\"}}}],\"scattercarpet\":[{\"type\":\"scattercarpet\",\"marker\":{\"colorbar\":{\"outlinewidth\":0,\"ticks\":\"\"}}}],\"carpet\":[{\"aaxis\":{\"endlinecolor\":\"#2a3f5f\",\"gridcolor\":\"white\",\"linecolor\":\"white\",\"minorgridcolor\":\"white\",\"startlinecolor\":\"#2a3f5f\"},\"baxis\":{\"endlinecolor\":\"#2a3f5f\",\"gridcolor\":\"white\",\"linecolor\":\"white\",\"minorgridcolor\":\"white\",\"startlinecolor\":\"#2a3f5f\"},\"type\":\"carpet\"}],\"table\":[{\"cells\":{\"fill\":{\"color\":\"#EBF0F8\"},\"line\":{\"color\":\"white\"}},\"header\":{\"fill\":{\"color\":\"#C8D4E3\"},\"line\":{\"color\":\"white\"}},\"type\":\"table\"}],\"barpolar\":[{\"marker\":{\"line\":{\"color\":\"#E5ECF6\",\"width\":0.5},\"pattern\":{\"fillmode\":\"overlay\",\"size\":10,\"solidity\":0.2}},\"type\":\"barpolar\"}],\"pie\":[{\"automargin\":true,\"type\":\"pie\"}]},\"layout\":{\"autotypenumbers\":\"strict\",\"colorway\":[\"#636efa\",\"#EF553B\",\"#00cc96\",\"#ab63fa\",\"#FFA15A\",\"#19d3f3\",\"#FF6692\",\"#B6E880\",\"#FF97FF\",\"#FECB52\"],\"font\":{\"color\":\"#2a3f5f\"},\"hovermode\":\"closest\",\"hoverlabel\":{\"align\":\"left\"},\"paper_bgcolor\":\"white\",\"plot_bgcolor\":\"#E5ECF6\",\"polar\":{\"bgcolor\":\"#E5ECF6\",\"angularaxis\":{\"gridcolor\":\"white\",\"linecolor\":\"white\",\"ticks\":\"\"},\"radialaxis\":{\"gridcolor\":\"white\",\"linecolor\":\"white\",\"ticks\":\"\"}},\"ternary\":{\"bgcolor\":\"#E5ECF6\",\"aaxis\":{\"gridcolor\":\"white\",\"linecolor\":\"white\",\"ticks\":\"\"},\"baxis\":{\"gridcolor\":\"white\",\"linecolor\":\"white\",\"ticks\":\"\"},\"caxis\":{\"gridcolor\":\"white\",\"linecolor\":\"white\",\"ticks\":\"\"}},\"coloraxis\":{\"colorbar\":{\"outlinewidth\":0,\"ticks\":\"\"}},\"colorscale\":{\"sequential\":[[0.0,\"#0d0887\"],[0.1111111111111111,\"#46039f\"],[0.2222222222222222,\"#7201a8\"],[0.3333333333333333,\"#9c179e\"],[0.4444444444444444,\"#bd3786\"],[0.5555555555555556,\"#d8576b\"],[0.6666666666666666,\"#ed7953\"],[0.7777777777777778,\"#fb9f3a\"],[0.8888888888888888,\"#fdca26\"],[1.0,\"#f0f921\"]],\"sequentialminus\":[[0.0,\"#0d0887\"],[0.1111111111111111,\"#46039f\"],[0.2222222222222222,\"#7201a8\"],[0.3333333333333333,\"#9c179e\"],[0.4444444444444444,\"#bd3786\"],[0.5555555555555556,\"#d8576b\"],[0.6666666666666666,\"#ed7953\"],[0.7777777777777778,\"#fb9f3a\"],[0.8888888888888888,\"#fdca26\"],[1.0,\"#f0f921\"]],\"diverging\":[[0,\"#8e0152\"],[0.1,\"#c51b7d\"],[0.2,\"#de77ae\"],[0.3,\"#f1b6da\"],[0.4,\"#fde0ef\"],[0.5,\"#f7f7f7\"],[0.6,\"#e6f5d0\"],[0.7,\"#b8e186\"],[0.8,\"#7fbc41\"],[0.9,\"#4d9221\"],[1,\"#276419\"]]},\"xaxis\":{\"gridcolor\":\"white\",\"linecolor\":\"white\",\"ticks\":\"\",\"title\":{\"standoff\":15},\"zerolinecolor\":\"white\",\"automargin\":true,\"zerolinewidth\":2},\"yaxis\":{\"gridcolor\":\"white\",\"linecolor\":\"white\",\"ticks\":\"\",\"title\":{\"standoff\":15},\"zerolinecolor\":\"white\",\"automargin\":true,\"zerolinewidth\":2},\"scene\":{\"xaxis\":{\"backgroundcolor\":\"#E5ECF6\",\"gridcolor\":\"white\",\"linecolor\":\"white\",\"showbackground\":true,\"ticks\":\"\",\"zerolinecolor\":\"white\",\"gridwidth\":2},\"yaxis\":{\"backgroundcolor\":\"#E5ECF6\",\"gridcolor\":\"white\",\"linecolor\":\"white\",\"showbackground\":true,\"ticks\":\"\",\"zerolinecolor\":\"white\",\"gridwidth\":2},\"zaxis\":{\"backgroundcolor\":\"#E5ECF6\",\"gridcolor\":\"white\",\"linecolor\":\"white\",\"showbackground\":true,\"ticks\":\"\",\"zerolinecolor\":\"white\",\"gridwidth\":2}},\"shapedefaults\":{\"line\":{\"color\":\"#2a3f5f\"}},\"annotationdefaults\":{\"arrowcolor\":\"#2a3f5f\",\"arrowhead\":0,\"arrowwidth\":1},\"geo\":{\"bgcolor\":\"white\",\"landcolor\":\"#E5ECF6\",\"subunitcolor\":\"white\",\"showland\":true,\"showlakes\":true,\"lakecolor\":\"white\"},\"title\":{\"x\":0.05},\"mapbox\":{\"style\":\"light\"}}},\"title\":{\"text\":\"FTSE100 Index - Linear Regression Prediction\"},\"xaxis\":{\"title\":{\"text\":\"Time\"}},\"yaxis\":{\"title\":{\"text\":\"Price\"}}},                        {\"responsive\": true}                    ).then(function(){\n",
              "                            \n",
              "var gd = document.getElementById('4107efc0-830c-4102-b2aa-d90cce7e39b4');\n",
              "var x = new MutationObserver(function (mutations, observer) {{\n",
              "        var display = window.getComputedStyle(gd).display;\n",
              "        if (!display || display === 'none') {{\n",
              "            console.log([gd, 'removed!']);\n",
              "            Plotly.purge(gd);\n",
              "            observer.disconnect();\n",
              "        }}\n",
              "}});\n",
              "\n",
              "// Listen for the removal of the full notebook cells\n",
              "var notebookContainer = gd.closest('#notebook-container');\n",
              "if (notebookContainer) {{\n",
              "    x.observe(notebookContainer, {childList: true});\n",
              "}}\n",
              "\n",
              "// Listen for the clearing of the current output cell\n",
              "var outputEl = gd.closest('.output');\n",
              "if (outputEl) {{\n",
              "    x.observe(outputEl, {childList: true});\n",
              "}}\n",
              "\n",
              "                        })                };                            </script>        </div>\n",
              "</body>\n",
              "</html>"
            ]
          },
          "metadata": {}
        }
      ]
    },
    {
      "cell_type": "markdown",
      "source": [
        "**ARIMA model is the second type of code snippet introduced that is also a next level statistical model constructed for time series data only. ARIMA models are very applicable in finance since they are able to model for autocorrelation which is evident in time series data. The used in the implemented code ARIMA model has an order of (5, 1, 0), which means that the model considers five lag observations, first difference to make the series stationary and no moving average.**"
      ],
      "metadata": {
        "id": "k5pPYjr_qi7J"
      }
    },
    {
      "cell_type": "markdown",
      "source": [
        "*ARIMA Forecast Plot*"
      ],
      "metadata": {
        "id": "bD7gAtWgPgGS"
      }
    },
    {
      "cell_type": "code",
      "source": [
        "arima_fig = go.Figure()\n",
        "arima_fig.add_trace(go.Scatter(x=forecast_index, y=arima_forecast, mode='lines', name='ARIMA Forecast'))\n",
        "arima_fig.update_layout(title=f'FTSE100 Index - ARIMA Forecast (MAE: {arima_mae:.2f}, RMSE: {arima_rmse:.2f})', xaxis_title='Time', yaxis_title='Price')\n",
        "arima_fig.show()\n",
        "# Suppress all warnings\n",
        "warnings.filterwarnings(\"ignore\")"
      ],
      "metadata": {
        "colab": {
          "base_uri": "https://localhost:8080/",
          "height": 542
        },
        "id": "kP5AKtt7PTmX",
        "outputId": "b9259853-6e01-4072-d8c8-1f9b3e60f2bb"
      },
      "execution_count": 17,
      "outputs": [
        {
          "output_type": "display_data",
          "data": {
            "text/html": [
              "<html>\n",
              "<head><meta charset=\"utf-8\" /></head>\n",
              "<body>\n",
              "    <div>            <script src=\"https://cdnjs.cloudflare.com/ajax/libs/mathjax/2.7.5/MathJax.js?config=TeX-AMS-MML_SVG\"></script><script type=\"text/javascript\">if (window.MathJax && window.MathJax.Hub && window.MathJax.Hub.Config) {window.MathJax.Hub.Config({SVG: {font: \"STIX-Web\"}});}</script>                <script type=\"text/javascript\">window.PlotlyConfig = {MathJaxConfig: 'local'};</script>\n",
              "        <script charset=\"utf-8\" src=\"https://cdn.plot.ly/plotly-2.24.1.min.js\"></script>                <div id=\"6a806469-3b73-4df3-b0a3-dfa79da1ab7b\" class=\"plotly-graph-div\" style=\"height:525px; width:100%;\"></div>            <script type=\"text/javascript\">                                    window.PLOTLYENV=window.PLOTLYENV || {};                                    if (document.getElementById(\"6a806469-3b73-4df3-b0a3-dfa79da1ab7b\")) {                    Plotly.newPlot(                        \"6a806469-3b73-4df3-b0a3-dfa79da1ab7b\",                        [{\"mode\":\"lines\",\"name\":\"ARIMA Forecast\",\"x\":[\"2024-09-06T10:18:00+01:00\",\"2024-09-06T10:19:00+01:00\",\"2024-09-06T10:20:00+01:00\",\"2024-09-06T10:21:00+01:00\",\"2024-09-06T10:22:00+01:00\",\"2024-09-06T10:23:00+01:00\",\"2024-09-06T10:24:00+01:00\",\"2024-09-06T10:25:00+01:00\",\"2024-09-06T10:26:00+01:00\",\"2024-09-06T10:27:00+01:00\"],\"y\":[8197.413215773215,8197.380242072013,8197.39243786103,8197.388302257985,8197.39301467746,8197.392732297436,8197.39375753765,8197.393660607902,8197.393872439348,8197.393861533383],\"type\":\"scatter\"}],                        {\"template\":{\"data\":{\"histogram2dcontour\":[{\"type\":\"histogram2dcontour\",\"colorbar\":{\"outlinewidth\":0,\"ticks\":\"\"},\"colorscale\":[[0.0,\"#0d0887\"],[0.1111111111111111,\"#46039f\"],[0.2222222222222222,\"#7201a8\"],[0.3333333333333333,\"#9c179e\"],[0.4444444444444444,\"#bd3786\"],[0.5555555555555556,\"#d8576b\"],[0.6666666666666666,\"#ed7953\"],[0.7777777777777778,\"#fb9f3a\"],[0.8888888888888888,\"#fdca26\"],[1.0,\"#f0f921\"]]}],\"choropleth\":[{\"type\":\"choropleth\",\"colorbar\":{\"outlinewidth\":0,\"ticks\":\"\"}}],\"histogram2d\":[{\"type\":\"histogram2d\",\"colorbar\":{\"outlinewidth\":0,\"ticks\":\"\"},\"colorscale\":[[0.0,\"#0d0887\"],[0.1111111111111111,\"#46039f\"],[0.2222222222222222,\"#7201a8\"],[0.3333333333333333,\"#9c179e\"],[0.4444444444444444,\"#bd3786\"],[0.5555555555555556,\"#d8576b\"],[0.6666666666666666,\"#ed7953\"],[0.7777777777777778,\"#fb9f3a\"],[0.8888888888888888,\"#fdca26\"],[1.0,\"#f0f921\"]]}],\"heatmap\":[{\"type\":\"heatmap\",\"colorbar\":{\"outlinewidth\":0,\"ticks\":\"\"},\"colorscale\":[[0.0,\"#0d0887\"],[0.1111111111111111,\"#46039f\"],[0.2222222222222222,\"#7201a8\"],[0.3333333333333333,\"#9c179e\"],[0.4444444444444444,\"#bd3786\"],[0.5555555555555556,\"#d8576b\"],[0.6666666666666666,\"#ed7953\"],[0.7777777777777778,\"#fb9f3a\"],[0.8888888888888888,\"#fdca26\"],[1.0,\"#f0f921\"]]}],\"heatmapgl\":[{\"type\":\"heatmapgl\",\"colorbar\":{\"outlinewidth\":0,\"ticks\":\"\"},\"colorscale\":[[0.0,\"#0d0887\"],[0.1111111111111111,\"#46039f\"],[0.2222222222222222,\"#7201a8\"],[0.3333333333333333,\"#9c179e\"],[0.4444444444444444,\"#bd3786\"],[0.5555555555555556,\"#d8576b\"],[0.6666666666666666,\"#ed7953\"],[0.7777777777777778,\"#fb9f3a\"],[0.8888888888888888,\"#fdca26\"],[1.0,\"#f0f921\"]]}],\"contourcarpet\":[{\"type\":\"contourcarpet\",\"colorbar\":{\"outlinewidth\":0,\"ticks\":\"\"}}],\"contour\":[{\"type\":\"contour\",\"colorbar\":{\"outlinewidth\":0,\"ticks\":\"\"},\"colorscale\":[[0.0,\"#0d0887\"],[0.1111111111111111,\"#46039f\"],[0.2222222222222222,\"#7201a8\"],[0.3333333333333333,\"#9c179e\"],[0.4444444444444444,\"#bd3786\"],[0.5555555555555556,\"#d8576b\"],[0.6666666666666666,\"#ed7953\"],[0.7777777777777778,\"#fb9f3a\"],[0.8888888888888888,\"#fdca26\"],[1.0,\"#f0f921\"]]}],\"surface\":[{\"type\":\"surface\",\"colorbar\":{\"outlinewidth\":0,\"ticks\":\"\"},\"colorscale\":[[0.0,\"#0d0887\"],[0.1111111111111111,\"#46039f\"],[0.2222222222222222,\"#7201a8\"],[0.3333333333333333,\"#9c179e\"],[0.4444444444444444,\"#bd3786\"],[0.5555555555555556,\"#d8576b\"],[0.6666666666666666,\"#ed7953\"],[0.7777777777777778,\"#fb9f3a\"],[0.8888888888888888,\"#fdca26\"],[1.0,\"#f0f921\"]]}],\"mesh3d\":[{\"type\":\"mesh3d\",\"colorbar\":{\"outlinewidth\":0,\"ticks\":\"\"}}],\"scatter\":[{\"fillpattern\":{\"fillmode\":\"overlay\",\"size\":10,\"solidity\":0.2},\"type\":\"scatter\"}],\"parcoords\":[{\"type\":\"parcoords\",\"line\":{\"colorbar\":{\"outlinewidth\":0,\"ticks\":\"\"}}}],\"scatterpolargl\":[{\"type\":\"scatterpolargl\",\"marker\":{\"colorbar\":{\"outlinewidth\":0,\"ticks\":\"\"}}}],\"bar\":[{\"error_x\":{\"color\":\"#2a3f5f\"},\"error_y\":{\"color\":\"#2a3f5f\"},\"marker\":{\"line\":{\"color\":\"#E5ECF6\",\"width\":0.5},\"pattern\":{\"fillmode\":\"overlay\",\"size\":10,\"solidity\":0.2}},\"type\":\"bar\"}],\"scattergeo\":[{\"type\":\"scattergeo\",\"marker\":{\"colorbar\":{\"outlinewidth\":0,\"ticks\":\"\"}}}],\"scatterpolar\":[{\"type\":\"scatterpolar\",\"marker\":{\"colorbar\":{\"outlinewidth\":0,\"ticks\":\"\"}}}],\"histogram\":[{\"marker\":{\"pattern\":{\"fillmode\":\"overlay\",\"size\":10,\"solidity\":0.2}},\"type\":\"histogram\"}],\"scattergl\":[{\"type\":\"scattergl\",\"marker\":{\"colorbar\":{\"outlinewidth\":0,\"ticks\":\"\"}}}],\"scatter3d\":[{\"type\":\"scatter3d\",\"line\":{\"colorbar\":{\"outlinewidth\":0,\"ticks\":\"\"}},\"marker\":{\"colorbar\":{\"outlinewidth\":0,\"ticks\":\"\"}}}],\"scattermapbox\":[{\"type\":\"scattermapbox\",\"marker\":{\"colorbar\":{\"outlinewidth\":0,\"ticks\":\"\"}}}],\"scatterternary\":[{\"type\":\"scatterternary\",\"marker\":{\"colorbar\":{\"outlinewidth\":0,\"ticks\":\"\"}}}],\"scattercarpet\":[{\"type\":\"scattercarpet\",\"marker\":{\"colorbar\":{\"outlinewidth\":0,\"ticks\":\"\"}}}],\"carpet\":[{\"aaxis\":{\"endlinecolor\":\"#2a3f5f\",\"gridcolor\":\"white\",\"linecolor\":\"white\",\"minorgridcolor\":\"white\",\"startlinecolor\":\"#2a3f5f\"},\"baxis\":{\"endlinecolor\":\"#2a3f5f\",\"gridcolor\":\"white\",\"linecolor\":\"white\",\"minorgridcolor\":\"white\",\"startlinecolor\":\"#2a3f5f\"},\"type\":\"carpet\"}],\"table\":[{\"cells\":{\"fill\":{\"color\":\"#EBF0F8\"},\"line\":{\"color\":\"white\"}},\"header\":{\"fill\":{\"color\":\"#C8D4E3\"},\"line\":{\"color\":\"white\"}},\"type\":\"table\"}],\"barpolar\":[{\"marker\":{\"line\":{\"color\":\"#E5ECF6\",\"width\":0.5},\"pattern\":{\"fillmode\":\"overlay\",\"size\":10,\"solidity\":0.2}},\"type\":\"barpolar\"}],\"pie\":[{\"automargin\":true,\"type\":\"pie\"}]},\"layout\":{\"autotypenumbers\":\"strict\",\"colorway\":[\"#636efa\",\"#EF553B\",\"#00cc96\",\"#ab63fa\",\"#FFA15A\",\"#19d3f3\",\"#FF6692\",\"#B6E880\",\"#FF97FF\",\"#FECB52\"],\"font\":{\"color\":\"#2a3f5f\"},\"hovermode\":\"closest\",\"hoverlabel\":{\"align\":\"left\"},\"paper_bgcolor\":\"white\",\"plot_bgcolor\":\"#E5ECF6\",\"polar\":{\"bgcolor\":\"#E5ECF6\",\"angularaxis\":{\"gridcolor\":\"white\",\"linecolor\":\"white\",\"ticks\":\"\"},\"radialaxis\":{\"gridcolor\":\"white\",\"linecolor\":\"white\",\"ticks\":\"\"}},\"ternary\":{\"bgcolor\":\"#E5ECF6\",\"aaxis\":{\"gridcolor\":\"white\",\"linecolor\":\"white\",\"ticks\":\"\"},\"baxis\":{\"gridcolor\":\"white\",\"linecolor\":\"white\",\"ticks\":\"\"},\"caxis\":{\"gridcolor\":\"white\",\"linecolor\":\"white\",\"ticks\":\"\"}},\"coloraxis\":{\"colorbar\":{\"outlinewidth\":0,\"ticks\":\"\"}},\"colorscale\":{\"sequential\":[[0.0,\"#0d0887\"],[0.1111111111111111,\"#46039f\"],[0.2222222222222222,\"#7201a8\"],[0.3333333333333333,\"#9c179e\"],[0.4444444444444444,\"#bd3786\"],[0.5555555555555556,\"#d8576b\"],[0.6666666666666666,\"#ed7953\"],[0.7777777777777778,\"#fb9f3a\"],[0.8888888888888888,\"#fdca26\"],[1.0,\"#f0f921\"]],\"sequentialminus\":[[0.0,\"#0d0887\"],[0.1111111111111111,\"#46039f\"],[0.2222222222222222,\"#7201a8\"],[0.3333333333333333,\"#9c179e\"],[0.4444444444444444,\"#bd3786\"],[0.5555555555555556,\"#d8576b\"],[0.6666666666666666,\"#ed7953\"],[0.7777777777777778,\"#fb9f3a\"],[0.8888888888888888,\"#fdca26\"],[1.0,\"#f0f921\"]],\"diverging\":[[0,\"#8e0152\"],[0.1,\"#c51b7d\"],[0.2,\"#de77ae\"],[0.3,\"#f1b6da\"],[0.4,\"#fde0ef\"],[0.5,\"#f7f7f7\"],[0.6,\"#e6f5d0\"],[0.7,\"#b8e186\"],[0.8,\"#7fbc41\"],[0.9,\"#4d9221\"],[1,\"#276419\"]]},\"xaxis\":{\"gridcolor\":\"white\",\"linecolor\":\"white\",\"ticks\":\"\",\"title\":{\"standoff\":15},\"zerolinecolor\":\"white\",\"automargin\":true,\"zerolinewidth\":2},\"yaxis\":{\"gridcolor\":\"white\",\"linecolor\":\"white\",\"ticks\":\"\",\"title\":{\"standoff\":15},\"zerolinecolor\":\"white\",\"automargin\":true,\"zerolinewidth\":2},\"scene\":{\"xaxis\":{\"backgroundcolor\":\"#E5ECF6\",\"gridcolor\":\"white\",\"linecolor\":\"white\",\"showbackground\":true,\"ticks\":\"\",\"zerolinecolor\":\"white\",\"gridwidth\":2},\"yaxis\":{\"backgroundcolor\":\"#E5ECF6\",\"gridcolor\":\"white\",\"linecolor\":\"white\",\"showbackground\":true,\"ticks\":\"\",\"zerolinecolor\":\"white\",\"gridwidth\":2},\"zaxis\":{\"backgroundcolor\":\"#E5ECF6\",\"gridcolor\":\"white\",\"linecolor\":\"white\",\"showbackground\":true,\"ticks\":\"\",\"zerolinecolor\":\"white\",\"gridwidth\":2}},\"shapedefaults\":{\"line\":{\"color\":\"#2a3f5f\"}},\"annotationdefaults\":{\"arrowcolor\":\"#2a3f5f\",\"arrowhead\":0,\"arrowwidth\":1},\"geo\":{\"bgcolor\":\"white\",\"landcolor\":\"#E5ECF6\",\"subunitcolor\":\"white\",\"showland\":true,\"showlakes\":true,\"lakecolor\":\"white\"},\"title\":{\"x\":0.05},\"mapbox\":{\"style\":\"light\"}}},\"title\":{\"text\":\"FTSE100 Index - ARIMA Forecast (MAE: 2.72, RMSE: 3.56)\"},\"xaxis\":{\"title\":{\"text\":\"Time\"}},\"yaxis\":{\"title\":{\"text\":\"Price\"}}},                        {\"responsive\": true}                    ).then(function(){\n",
              "                            \n",
              "var gd = document.getElementById('6a806469-3b73-4df3-b0a3-dfa79da1ab7b');\n",
              "var x = new MutationObserver(function (mutations, observer) {{\n",
              "        var display = window.getComputedStyle(gd).display;\n",
              "        if (!display || display === 'none') {{\n",
              "            console.log([gd, 'removed!']);\n",
              "            Plotly.purge(gd);\n",
              "            observer.disconnect();\n",
              "        }}\n",
              "}});\n",
              "\n",
              "// Listen for the removal of the full notebook cells\n",
              "var notebookContainer = gd.closest('#notebook-container');\n",
              "if (notebookContainer) {{\n",
              "    x.observe(notebookContainer, {childList: true});\n",
              "}}\n",
              "\n",
              "// Listen for the clearing of the current output cell\n",
              "var outputEl = gd.closest('.output');\n",
              "if (outputEl) {{\n",
              "    x.observe(outputEl, {childList: true});\n",
              "}}\n",
              "\n",
              "                        })                };                            </script>        </div>\n",
              "</body>\n",
              "</html>"
            ]
          },
          "metadata": {}
        }
      ]
    },
    {
      "cell_type": "markdown",
      "source": [
        "*LSTM Forecast Plot*"
      ],
      "metadata": {
        "id": "BYEMYIkyPX9x"
      }
    },
    {
      "cell_type": "markdown",
      "source": [
        "**There is the most complex LSTM, which is a kind of RNN, intended for analysis of sequential data. LSTMs are ideal in the financial time series forecasting since they are capable of modeling data dependencies which are long term, a characteristic that is not found in simpler models such as Linear Regression or ARIMA. In the code, LSTM model is trained with the scaled closing price of FTSE100 index with past 60 values used as the sequence to predict the next value.**"
      ],
      "metadata": {
        "id": "rCExavjbq4M7"
      }
    },
    {
      "cell_type": "code",
      "source": [
        "lstm_fig = go.Figure()\n",
        "lstm_fig.add_trace(go.Scatter(x=forecast_index, y=lstm_forecast, mode='lines', name='LSTM Forecast'))\n",
        "lstm_fig.update_layout(title=f'FTSE100 Index - LSTM Forecast (MAE: {lstm_mae:.2f}, RMSE: {lstm_rmse:.2f})', xaxis_title='Time', yaxis_title='Price')\n",
        "lstm_fig.show()\n",
        "# Suppress all warnings\n",
        "warnings.filterwarnings(\"ignore\")"
      ],
      "metadata": {
        "colab": {
          "base_uri": "https://localhost:8080/",
          "height": 542
        },
        "id": "CPEu9uQ4PVnE",
        "outputId": "15a1729e-a9e6-48a8-b15a-7ba0868f929b"
      },
      "execution_count": 18,
      "outputs": [
        {
          "output_type": "display_data",
          "data": {
            "text/html": [
              "<html>\n",
              "<head><meta charset=\"utf-8\" /></head>\n",
              "<body>\n",
              "    <div>            <script src=\"https://cdnjs.cloudflare.com/ajax/libs/mathjax/2.7.5/MathJax.js?config=TeX-AMS-MML_SVG\"></script><script type=\"text/javascript\">if (window.MathJax && window.MathJax.Hub && window.MathJax.Hub.Config) {window.MathJax.Hub.Config({SVG: {font: \"STIX-Web\"}});}</script>                <script type=\"text/javascript\">window.PlotlyConfig = {MathJaxConfig: 'local'};</script>\n",
              "        <script charset=\"utf-8\" src=\"https://cdn.plot.ly/plotly-2.24.1.min.js\"></script>                <div id=\"0be4e19d-02cd-430d-aee6-8900ac1478c0\" class=\"plotly-graph-div\" style=\"height:525px; width:100%;\"></div>            <script type=\"text/javascript\">                                    window.PLOTLYENV=window.PLOTLYENV || {};                                    if (document.getElementById(\"0be4e19d-02cd-430d-aee6-8900ac1478c0\")) {                    Plotly.newPlot(                        \"0be4e19d-02cd-430d-aee6-8900ac1478c0\",                        [{\"mode\":\"lines\",\"name\":\"LSTM Forecast\",\"x\":[\"2024-09-06T10:18:00+01:00\",\"2024-09-06T10:19:00+01:00\",\"2024-09-06T10:20:00+01:00\",\"2024-09-06T10:21:00+01:00\",\"2024-09-06T10:22:00+01:00\",\"2024-09-06T10:23:00+01:00\",\"2024-09-06T10:24:00+01:00\",\"2024-09-06T10:25:00+01:00\",\"2024-09-06T10:26:00+01:00\",\"2024-09-06T10:27:00+01:00\"],\"y\":[8200.837890625,8200.64453125,8200.517578125,8200.4375,8200.3916015625,8200.369140625,8200.361328125,8200.3662109375,8200.376953125,8200.392578125],\"type\":\"scatter\"}],                        {\"template\":{\"data\":{\"histogram2dcontour\":[{\"type\":\"histogram2dcontour\",\"colorbar\":{\"outlinewidth\":0,\"ticks\":\"\"},\"colorscale\":[[0.0,\"#0d0887\"],[0.1111111111111111,\"#46039f\"],[0.2222222222222222,\"#7201a8\"],[0.3333333333333333,\"#9c179e\"],[0.4444444444444444,\"#bd3786\"],[0.5555555555555556,\"#d8576b\"],[0.6666666666666666,\"#ed7953\"],[0.7777777777777778,\"#fb9f3a\"],[0.8888888888888888,\"#fdca26\"],[1.0,\"#f0f921\"]]}],\"choropleth\":[{\"type\":\"choropleth\",\"colorbar\":{\"outlinewidth\":0,\"ticks\":\"\"}}],\"histogram2d\":[{\"type\":\"histogram2d\",\"colorbar\":{\"outlinewidth\":0,\"ticks\":\"\"},\"colorscale\":[[0.0,\"#0d0887\"],[0.1111111111111111,\"#46039f\"],[0.2222222222222222,\"#7201a8\"],[0.3333333333333333,\"#9c179e\"],[0.4444444444444444,\"#bd3786\"],[0.5555555555555556,\"#d8576b\"],[0.6666666666666666,\"#ed7953\"],[0.7777777777777778,\"#fb9f3a\"],[0.8888888888888888,\"#fdca26\"],[1.0,\"#f0f921\"]]}],\"heatmap\":[{\"type\":\"heatmap\",\"colorbar\":{\"outlinewidth\":0,\"ticks\":\"\"},\"colorscale\":[[0.0,\"#0d0887\"],[0.1111111111111111,\"#46039f\"],[0.2222222222222222,\"#7201a8\"],[0.3333333333333333,\"#9c179e\"],[0.4444444444444444,\"#bd3786\"],[0.5555555555555556,\"#d8576b\"],[0.6666666666666666,\"#ed7953\"],[0.7777777777777778,\"#fb9f3a\"],[0.8888888888888888,\"#fdca26\"],[1.0,\"#f0f921\"]]}],\"heatmapgl\":[{\"type\":\"heatmapgl\",\"colorbar\":{\"outlinewidth\":0,\"ticks\":\"\"},\"colorscale\":[[0.0,\"#0d0887\"],[0.1111111111111111,\"#46039f\"],[0.2222222222222222,\"#7201a8\"],[0.3333333333333333,\"#9c179e\"],[0.4444444444444444,\"#bd3786\"],[0.5555555555555556,\"#d8576b\"],[0.6666666666666666,\"#ed7953\"],[0.7777777777777778,\"#fb9f3a\"],[0.8888888888888888,\"#fdca26\"],[1.0,\"#f0f921\"]]}],\"contourcarpet\":[{\"type\":\"contourcarpet\",\"colorbar\":{\"outlinewidth\":0,\"ticks\":\"\"}}],\"contour\":[{\"type\":\"contour\",\"colorbar\":{\"outlinewidth\":0,\"ticks\":\"\"},\"colorscale\":[[0.0,\"#0d0887\"],[0.1111111111111111,\"#46039f\"],[0.2222222222222222,\"#7201a8\"],[0.3333333333333333,\"#9c179e\"],[0.4444444444444444,\"#bd3786\"],[0.5555555555555556,\"#d8576b\"],[0.6666666666666666,\"#ed7953\"],[0.7777777777777778,\"#fb9f3a\"],[0.8888888888888888,\"#fdca26\"],[1.0,\"#f0f921\"]]}],\"surface\":[{\"type\":\"surface\",\"colorbar\":{\"outlinewidth\":0,\"ticks\":\"\"},\"colorscale\":[[0.0,\"#0d0887\"],[0.1111111111111111,\"#46039f\"],[0.2222222222222222,\"#7201a8\"],[0.3333333333333333,\"#9c179e\"],[0.4444444444444444,\"#bd3786\"],[0.5555555555555556,\"#d8576b\"],[0.6666666666666666,\"#ed7953\"],[0.7777777777777778,\"#fb9f3a\"],[0.8888888888888888,\"#fdca26\"],[1.0,\"#f0f921\"]]}],\"mesh3d\":[{\"type\":\"mesh3d\",\"colorbar\":{\"outlinewidth\":0,\"ticks\":\"\"}}],\"scatter\":[{\"fillpattern\":{\"fillmode\":\"overlay\",\"size\":10,\"solidity\":0.2},\"type\":\"scatter\"}],\"parcoords\":[{\"type\":\"parcoords\",\"line\":{\"colorbar\":{\"outlinewidth\":0,\"ticks\":\"\"}}}],\"scatterpolargl\":[{\"type\":\"scatterpolargl\",\"marker\":{\"colorbar\":{\"outlinewidth\":0,\"ticks\":\"\"}}}],\"bar\":[{\"error_x\":{\"color\":\"#2a3f5f\"},\"error_y\":{\"color\":\"#2a3f5f\"},\"marker\":{\"line\":{\"color\":\"#E5ECF6\",\"width\":0.5},\"pattern\":{\"fillmode\":\"overlay\",\"size\":10,\"solidity\":0.2}},\"type\":\"bar\"}],\"scattergeo\":[{\"type\":\"scattergeo\",\"marker\":{\"colorbar\":{\"outlinewidth\":0,\"ticks\":\"\"}}}],\"scatterpolar\":[{\"type\":\"scatterpolar\",\"marker\":{\"colorbar\":{\"outlinewidth\":0,\"ticks\":\"\"}}}],\"histogram\":[{\"marker\":{\"pattern\":{\"fillmode\":\"overlay\",\"size\":10,\"solidity\":0.2}},\"type\":\"histogram\"}],\"scattergl\":[{\"type\":\"scattergl\",\"marker\":{\"colorbar\":{\"outlinewidth\":0,\"ticks\":\"\"}}}],\"scatter3d\":[{\"type\":\"scatter3d\",\"line\":{\"colorbar\":{\"outlinewidth\":0,\"ticks\":\"\"}},\"marker\":{\"colorbar\":{\"outlinewidth\":0,\"ticks\":\"\"}}}],\"scattermapbox\":[{\"type\":\"scattermapbox\",\"marker\":{\"colorbar\":{\"outlinewidth\":0,\"ticks\":\"\"}}}],\"scatterternary\":[{\"type\":\"scatterternary\",\"marker\":{\"colorbar\":{\"outlinewidth\":0,\"ticks\":\"\"}}}],\"scattercarpet\":[{\"type\":\"scattercarpet\",\"marker\":{\"colorbar\":{\"outlinewidth\":0,\"ticks\":\"\"}}}],\"carpet\":[{\"aaxis\":{\"endlinecolor\":\"#2a3f5f\",\"gridcolor\":\"white\",\"linecolor\":\"white\",\"minorgridcolor\":\"white\",\"startlinecolor\":\"#2a3f5f\"},\"baxis\":{\"endlinecolor\":\"#2a3f5f\",\"gridcolor\":\"white\",\"linecolor\":\"white\",\"minorgridcolor\":\"white\",\"startlinecolor\":\"#2a3f5f\"},\"type\":\"carpet\"}],\"table\":[{\"cells\":{\"fill\":{\"color\":\"#EBF0F8\"},\"line\":{\"color\":\"white\"}},\"header\":{\"fill\":{\"color\":\"#C8D4E3\"},\"line\":{\"color\":\"white\"}},\"type\":\"table\"}],\"barpolar\":[{\"marker\":{\"line\":{\"color\":\"#E5ECF6\",\"width\":0.5},\"pattern\":{\"fillmode\":\"overlay\",\"size\":10,\"solidity\":0.2}},\"type\":\"barpolar\"}],\"pie\":[{\"automargin\":true,\"type\":\"pie\"}]},\"layout\":{\"autotypenumbers\":\"strict\",\"colorway\":[\"#636efa\",\"#EF553B\",\"#00cc96\",\"#ab63fa\",\"#FFA15A\",\"#19d3f3\",\"#FF6692\",\"#B6E880\",\"#FF97FF\",\"#FECB52\"],\"font\":{\"color\":\"#2a3f5f\"},\"hovermode\":\"closest\",\"hoverlabel\":{\"align\":\"left\"},\"paper_bgcolor\":\"white\",\"plot_bgcolor\":\"#E5ECF6\",\"polar\":{\"bgcolor\":\"#E5ECF6\",\"angularaxis\":{\"gridcolor\":\"white\",\"linecolor\":\"white\",\"ticks\":\"\"},\"radialaxis\":{\"gridcolor\":\"white\",\"linecolor\":\"white\",\"ticks\":\"\"}},\"ternary\":{\"bgcolor\":\"#E5ECF6\",\"aaxis\":{\"gridcolor\":\"white\",\"linecolor\":\"white\",\"ticks\":\"\"},\"baxis\":{\"gridcolor\":\"white\",\"linecolor\":\"white\",\"ticks\":\"\"},\"caxis\":{\"gridcolor\":\"white\",\"linecolor\":\"white\",\"ticks\":\"\"}},\"coloraxis\":{\"colorbar\":{\"outlinewidth\":0,\"ticks\":\"\"}},\"colorscale\":{\"sequential\":[[0.0,\"#0d0887\"],[0.1111111111111111,\"#46039f\"],[0.2222222222222222,\"#7201a8\"],[0.3333333333333333,\"#9c179e\"],[0.4444444444444444,\"#bd3786\"],[0.5555555555555556,\"#d8576b\"],[0.6666666666666666,\"#ed7953\"],[0.7777777777777778,\"#fb9f3a\"],[0.8888888888888888,\"#fdca26\"],[1.0,\"#f0f921\"]],\"sequentialminus\":[[0.0,\"#0d0887\"],[0.1111111111111111,\"#46039f\"],[0.2222222222222222,\"#7201a8\"],[0.3333333333333333,\"#9c179e\"],[0.4444444444444444,\"#bd3786\"],[0.5555555555555556,\"#d8576b\"],[0.6666666666666666,\"#ed7953\"],[0.7777777777777778,\"#fb9f3a\"],[0.8888888888888888,\"#fdca26\"],[1.0,\"#f0f921\"]],\"diverging\":[[0,\"#8e0152\"],[0.1,\"#c51b7d\"],[0.2,\"#de77ae\"],[0.3,\"#f1b6da\"],[0.4,\"#fde0ef\"],[0.5,\"#f7f7f7\"],[0.6,\"#e6f5d0\"],[0.7,\"#b8e186\"],[0.8,\"#7fbc41\"],[0.9,\"#4d9221\"],[1,\"#276419\"]]},\"xaxis\":{\"gridcolor\":\"white\",\"linecolor\":\"white\",\"ticks\":\"\",\"title\":{\"standoff\":15},\"zerolinecolor\":\"white\",\"automargin\":true,\"zerolinewidth\":2},\"yaxis\":{\"gridcolor\":\"white\",\"linecolor\":\"white\",\"ticks\":\"\",\"title\":{\"standoff\":15},\"zerolinecolor\":\"white\",\"automargin\":true,\"zerolinewidth\":2},\"scene\":{\"xaxis\":{\"backgroundcolor\":\"#E5ECF6\",\"gridcolor\":\"white\",\"linecolor\":\"white\",\"showbackground\":true,\"ticks\":\"\",\"zerolinecolor\":\"white\",\"gridwidth\":2},\"yaxis\":{\"backgroundcolor\":\"#E5ECF6\",\"gridcolor\":\"white\",\"linecolor\":\"white\",\"showbackground\":true,\"ticks\":\"\",\"zerolinecolor\":\"white\",\"gridwidth\":2},\"zaxis\":{\"backgroundcolor\":\"#E5ECF6\",\"gridcolor\":\"white\",\"linecolor\":\"white\",\"showbackground\":true,\"ticks\":\"\",\"zerolinecolor\":\"white\",\"gridwidth\":2}},\"shapedefaults\":{\"line\":{\"color\":\"#2a3f5f\"}},\"annotationdefaults\":{\"arrowcolor\":\"#2a3f5f\",\"arrowhead\":0,\"arrowwidth\":1},\"geo\":{\"bgcolor\":\"white\",\"landcolor\":\"#E5ECF6\",\"subunitcolor\":\"white\",\"showland\":true,\"showlakes\":true,\"lakecolor\":\"white\"},\"title\":{\"x\":0.05},\"mapbox\":{\"style\":\"light\"}}},\"title\":{\"text\":\"FTSE100 Index - LSTM Forecast (MAE: 2.32, RMSE: 2.66)\"},\"xaxis\":{\"title\":{\"text\":\"Time\"}},\"yaxis\":{\"title\":{\"text\":\"Price\"}}},                        {\"responsive\": true}                    ).then(function(){\n",
              "                            \n",
              "var gd = document.getElementById('0be4e19d-02cd-430d-aee6-8900ac1478c0');\n",
              "var x = new MutationObserver(function (mutations, observer) {{\n",
              "        var display = window.getComputedStyle(gd).display;\n",
              "        if (!display || display === 'none') {{\n",
              "            console.log([gd, 'removed!']);\n",
              "            Plotly.purge(gd);\n",
              "            observer.disconnect();\n",
              "        }}\n",
              "}});\n",
              "\n",
              "// Listen for the removal of the full notebook cells\n",
              "var notebookContainer = gd.closest('#notebook-container');\n",
              "if (notebookContainer) {{\n",
              "    x.observe(notebookContainer, {childList: true});\n",
              "}}\n",
              "\n",
              "// Listen for the clearing of the current output cell\n",
              "var outputEl = gd.closest('.output');\n",
              "if (outputEl) {{\n",
              "    x.observe(outputEl, {childList: true});\n",
              "}}\n",
              "\n",
              "                        })                };                            </script>        </div>\n",
              "</body>\n",
              "</html>"
            ]
          },
          "metadata": {}
        }
      ]
    }
  ]
}