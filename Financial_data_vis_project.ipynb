{
  "nbformat": 4,
  "nbformat_minor": 0,
  "metadata": {
    "colab": {
      "provenance": [],
      "include_colab_link": true
    },
    "kernelspec": {
      "name": "python3",
      "display_name": "Python 3"
    },
    "language_info": {
      "name": "python"
    },
    "widgets": {
      "application/vnd.jupyter.widget-state+json": {
        "3fe0f2439b0449708b661ec8638eed76": {
          "model_module": "@jupyter-widgets/controls",
          "model_name": "HBoxModel",
          "model_module_version": "1.5.0",
          "state": {
            "_dom_classes": [],
            "_model_module": "@jupyter-widgets/controls",
            "_model_module_version": "1.5.0",
            "_model_name": "HBoxModel",
            "_view_count": null,
            "_view_module": "@jupyter-widgets/controls",
            "_view_module_version": "1.5.0",
            "_view_name": "HBoxView",
            "box_style": "",
            "children": [
              "IPY_MODEL_70ea5ee0a084467e9073a09f10479e4b",
              "IPY_MODEL_d58967f8d071479cbbc03715ad8ce7fb",
              "IPY_MODEL_2d05f67e6b4f49a6a6cefe1cb63b65a1"
            ],
            "layout": "IPY_MODEL_8bbadf791aa643e6acf0c137e73b9c88"
          }
        },
        "70ea5ee0a084467e9073a09f10479e4b": {
          "model_module": "@jupyter-widgets/controls",
          "model_name": "HTMLModel",
          "model_module_version": "1.5.0",
          "state": {
            "_dom_classes": [],
            "_model_module": "@jupyter-widgets/controls",
            "_model_module_version": "1.5.0",
            "_model_name": "HTMLModel",
            "_view_count": null,
            "_view_module": "@jupyter-widgets/controls",
            "_view_module_version": "1.5.0",
            "_view_name": "HTMLView",
            "description": "",
            "description_tooltip": null,
            "layout": "IPY_MODEL_cbfac52cfcec41768c1fce4818774e10",
            "placeholder": "​",
            "style": "IPY_MODEL_6a2fbbf9e78744a6813bc50c41092e24",
            "value": "100%"
          }
        },
        "d58967f8d071479cbbc03715ad8ce7fb": {
          "model_module": "@jupyter-widgets/controls",
          "model_name": "FloatProgressModel",
          "model_module_version": "1.5.0",
          "state": {
            "_dom_classes": [],
            "_model_module": "@jupyter-widgets/controls",
            "_model_module_version": "1.5.0",
            "_model_name": "FloatProgressModel",
            "_view_count": null,
            "_view_module": "@jupyter-widgets/controls",
            "_view_module_version": "1.5.0",
            "_view_name": "ProgressView",
            "bar_style": "success",
            "description": "",
            "description_tooltip": null,
            "layout": "IPY_MODEL_7198faf1fdb64551adc9f322ab02f389",
            "max": 10,
            "min": 0,
            "orientation": "horizontal",
            "style": "IPY_MODEL_dcd46518b6f44fc5b11da6c946d18b8b",
            "value": 10
          }
        },
        "2d05f67e6b4f49a6a6cefe1cb63b65a1": {
          "model_module": "@jupyter-widgets/controls",
          "model_name": "HTMLModel",
          "model_module_version": "1.5.0",
          "state": {
            "_dom_classes": [],
            "_model_module": "@jupyter-widgets/controls",
            "_model_module_version": "1.5.0",
            "_model_name": "HTMLModel",
            "_view_count": null,
            "_view_module": "@jupyter-widgets/controls",
            "_view_module_version": "1.5.0",
            "_view_name": "HTMLView",
            "description": "",
            "description_tooltip": null,
            "layout": "IPY_MODEL_aa643e60f281409d901aa60f28c93d3b",
            "placeholder": "​",
            "style": "IPY_MODEL_2137339e4cac405287068ead502b8a0e",
            "value": " 10/10 [00:13&lt;00:00,  1.22s/it]"
          }
        },
        "8bbadf791aa643e6acf0c137e73b9c88": {
          "model_module": "@jupyter-widgets/base",
          "model_name": "LayoutModel",
          "model_module_version": "1.2.0",
          "state": {
            "_model_module": "@jupyter-widgets/base",
            "_model_module_version": "1.2.0",
            "_model_name": "LayoutModel",
            "_view_count": null,
            "_view_module": "@jupyter-widgets/base",
            "_view_module_version": "1.2.0",
            "_view_name": "LayoutView",
            "align_content": null,
            "align_items": null,
            "align_self": null,
            "border": null,
            "bottom": null,
            "display": null,
            "flex": null,
            "flex_flow": null,
            "grid_area": null,
            "grid_auto_columns": null,
            "grid_auto_flow": null,
            "grid_auto_rows": null,
            "grid_column": null,
            "grid_gap": null,
            "grid_row": null,
            "grid_template_areas": null,
            "grid_template_columns": null,
            "grid_template_rows": null,
            "height": null,
            "justify_content": null,
            "justify_items": null,
            "left": null,
            "margin": null,
            "max_height": null,
            "max_width": null,
            "min_height": null,
            "min_width": null,
            "object_fit": null,
            "object_position": null,
            "order": null,
            "overflow": null,
            "overflow_x": null,
            "overflow_y": null,
            "padding": null,
            "right": null,
            "top": null,
            "visibility": null,
            "width": null
          }
        },
        "cbfac52cfcec41768c1fce4818774e10": {
          "model_module": "@jupyter-widgets/base",
          "model_name": "LayoutModel",
          "model_module_version": "1.2.0",
          "state": {
            "_model_module": "@jupyter-widgets/base",
            "_model_module_version": "1.2.0",
            "_model_name": "LayoutModel",
            "_view_count": null,
            "_view_module": "@jupyter-widgets/base",
            "_view_module_version": "1.2.0",
            "_view_name": "LayoutView",
            "align_content": null,
            "align_items": null,
            "align_self": null,
            "border": null,
            "bottom": null,
            "display": null,
            "flex": null,
            "flex_flow": null,
            "grid_area": null,
            "grid_auto_columns": null,
            "grid_auto_flow": null,
            "grid_auto_rows": null,
            "grid_column": null,
            "grid_gap": null,
            "grid_row": null,
            "grid_template_areas": null,
            "grid_template_columns": null,
            "grid_template_rows": null,
            "height": null,
            "justify_content": null,
            "justify_items": null,
            "left": null,
            "margin": null,
            "max_height": null,
            "max_width": null,
            "min_height": null,
            "min_width": null,
            "object_fit": null,
            "object_position": null,
            "order": null,
            "overflow": null,
            "overflow_x": null,
            "overflow_y": null,
            "padding": null,
            "right": null,
            "top": null,
            "visibility": null,
            "width": null
          }
        },
        "6a2fbbf9e78744a6813bc50c41092e24": {
          "model_module": "@jupyter-widgets/controls",
          "model_name": "DescriptionStyleModel",
          "model_module_version": "1.5.0",
          "state": {
            "_model_module": "@jupyter-widgets/controls",
            "_model_module_version": "1.5.0",
            "_model_name": "DescriptionStyleModel",
            "_view_count": null,
            "_view_module": "@jupyter-widgets/base",
            "_view_module_version": "1.2.0",
            "_view_name": "StyleView",
            "description_width": ""
          }
        },
        "7198faf1fdb64551adc9f322ab02f389": {
          "model_module": "@jupyter-widgets/base",
          "model_name": "LayoutModel",
          "model_module_version": "1.2.0",
          "state": {
            "_model_module": "@jupyter-widgets/base",
            "_model_module_version": "1.2.0",
            "_model_name": "LayoutModel",
            "_view_count": null,
            "_view_module": "@jupyter-widgets/base",
            "_view_module_version": "1.2.0",
            "_view_name": "LayoutView",
            "align_content": null,
            "align_items": null,
            "align_self": null,
            "border": null,
            "bottom": null,
            "display": null,
            "flex": null,
            "flex_flow": null,
            "grid_area": null,
            "grid_auto_columns": null,
            "grid_auto_flow": null,
            "grid_auto_rows": null,
            "grid_column": null,
            "grid_gap": null,
            "grid_row": null,
            "grid_template_areas": null,
            "grid_template_columns": null,
            "grid_template_rows": null,
            "height": null,
            "justify_content": null,
            "justify_items": null,
            "left": null,
            "margin": null,
            "max_height": null,
            "max_width": null,
            "min_height": null,
            "min_width": null,
            "object_fit": null,
            "object_position": null,
            "order": null,
            "overflow": null,
            "overflow_x": null,
            "overflow_y": null,
            "padding": null,
            "right": null,
            "top": null,
            "visibility": null,
            "width": null
          }
        },
        "dcd46518b6f44fc5b11da6c946d18b8b": {
          "model_module": "@jupyter-widgets/controls",
          "model_name": "ProgressStyleModel",
          "model_module_version": "1.5.0",
          "state": {
            "_model_module": "@jupyter-widgets/controls",
            "_model_module_version": "1.5.0",
            "_model_name": "ProgressStyleModel",
            "_view_count": null,
            "_view_module": "@jupyter-widgets/base",
            "_view_module_version": "1.2.0",
            "_view_name": "StyleView",
            "bar_color": null,
            "description_width": ""
          }
        },
        "aa643e60f281409d901aa60f28c93d3b": {
          "model_module": "@jupyter-widgets/base",
          "model_name": "LayoutModel",
          "model_module_version": "1.2.0",
          "state": {
            "_model_module": "@jupyter-widgets/base",
            "_model_module_version": "1.2.0",
            "_model_name": "LayoutModel",
            "_view_count": null,
            "_view_module": "@jupyter-widgets/base",
            "_view_module_version": "1.2.0",
            "_view_name": "LayoutView",
            "align_content": null,
            "align_items": null,
            "align_self": null,
            "border": null,
            "bottom": null,
            "display": null,
            "flex": null,
            "flex_flow": null,
            "grid_area": null,
            "grid_auto_columns": null,
            "grid_auto_flow": null,
            "grid_auto_rows": null,
            "grid_column": null,
            "grid_gap": null,
            "grid_row": null,
            "grid_template_areas": null,
            "grid_template_columns": null,
            "grid_template_rows": null,
            "height": null,
            "justify_content": null,
            "justify_items": null,
            "left": null,
            "margin": null,
            "max_height": null,
            "max_width": null,
            "min_height": null,
            "min_width": null,
            "object_fit": null,
            "object_position": null,
            "order": null,
            "overflow": null,
            "overflow_x": null,
            "overflow_y": null,
            "padding": null,
            "right": null,
            "top": null,
            "visibility": null,
            "width": null
          }
        },
        "2137339e4cac405287068ead502b8a0e": {
          "model_module": "@jupyter-widgets/controls",
          "model_name": "DescriptionStyleModel",
          "model_module_version": "1.5.0",
          "state": {
            "_model_module": "@jupyter-widgets/controls",
            "_model_module_version": "1.5.0",
            "_model_name": "DescriptionStyleModel",
            "_view_count": null,
            "_view_module": "@jupyter-widgets/base",
            "_view_module_version": "1.2.0",
            "_view_name": "StyleView",
            "description_width": ""
          }
        }
      }
    }
  },
  "cells": [
    {
      "cell_type": "markdown",
      "metadata": {
        "id": "view-in-github",
        "colab_type": "text"
      },
      "source": [
        "<a href=\"https://colab.research.google.com/github/kaureena/Reenabahen-Chauhan/blob/main/Financial_data_vis_project.ipynb\" target=\"_parent\"><img src=\"https://colab.research.google.com/assets/colab-badge.svg\" alt=\"Open In Colab\"/></a>"
      ]
    },
    {
      "cell_type": "code",
      "execution_count": 22,
      "metadata": {
        "colab": {
          "base_uri": "https://localhost:8080/"
        },
        "id": "r05sKJ7L6VDC",
        "outputId": "44b11622-be31-4e73-d178-91fa4ab6e03e"
      },
      "outputs": [
        {
          "output_type": "stream",
          "name": "stdout",
          "text": [
            "Requirement already satisfied: yfinance in /usr/local/lib/python3.10/dist-packages (0.2.43)\n",
            "Requirement already satisfied: plotly in /usr/local/lib/python3.10/dist-packages (5.15.0)\n",
            "Requirement already satisfied: scikit-learn in /usr/local/lib/python3.10/dist-packages (1.3.2)\n",
            "Requirement already satisfied: statsmodels in /usr/local/lib/python3.10/dist-packages (0.14.2)\n",
            "Requirement already satisfied: tensorflow in /usr/local/lib/python3.10/dist-packages (2.17.0)\n",
            "Requirement already satisfied: shap in /usr/local/lib/python3.10/dist-packages (0.46.0)\n",
            "Requirement already satisfied: pandas>=1.3.0 in /usr/local/lib/python3.10/dist-packages (from yfinance) (2.1.4)\n",
            "Requirement already satisfied: numpy>=1.16.5 in /usr/local/lib/python3.10/dist-packages (from yfinance) (1.26.4)\n",
            "Requirement already satisfied: requests>=2.31 in /usr/local/lib/python3.10/dist-packages (from yfinance) (2.32.3)\n",
            "Requirement already satisfied: multitasking>=0.0.7 in /usr/local/lib/python3.10/dist-packages (from yfinance) (0.0.11)\n",
            "Requirement already satisfied: lxml>=4.9.1 in /usr/local/lib/python3.10/dist-packages (from yfinance) (4.9.4)\n",
            "Requirement already satisfied: platformdirs>=2.0.0 in /usr/local/lib/python3.10/dist-packages (from yfinance) (4.2.2)\n",
            "Requirement already satisfied: pytz>=2022.5 in /usr/local/lib/python3.10/dist-packages (from yfinance) (2024.1)\n",
            "Requirement already satisfied: frozendict>=2.3.4 in /usr/local/lib/python3.10/dist-packages (from yfinance) (2.4.4)\n",
            "Requirement already satisfied: peewee>=3.16.2 in /usr/local/lib/python3.10/dist-packages (from yfinance) (3.17.6)\n",
            "Requirement already satisfied: beautifulsoup4>=4.11.1 in /usr/local/lib/python3.10/dist-packages (from yfinance) (4.12.3)\n",
            "Requirement already satisfied: html5lib>=1.1 in /usr/local/lib/python3.10/dist-packages (from yfinance) (1.1)\n",
            "Requirement already satisfied: tenacity>=6.2.0 in /usr/local/lib/python3.10/dist-packages (from plotly) (9.0.0)\n",
            "Requirement already satisfied: packaging in /usr/local/lib/python3.10/dist-packages (from plotly) (24.1)\n",
            "Requirement already satisfied: scipy>=1.5.0 in /usr/local/lib/python3.10/dist-packages (from scikit-learn) (1.13.1)\n",
            "Requirement already satisfied: joblib>=1.1.1 in /usr/local/lib/python3.10/dist-packages (from scikit-learn) (1.4.2)\n",
            "Requirement already satisfied: threadpoolctl>=2.0.0 in /usr/local/lib/python3.10/dist-packages (from scikit-learn) (3.5.0)\n",
            "Requirement already satisfied: patsy>=0.5.6 in /usr/local/lib/python3.10/dist-packages (from statsmodels) (0.5.6)\n",
            "Requirement already satisfied: absl-py>=1.0.0 in /usr/local/lib/python3.10/dist-packages (from tensorflow) (1.4.0)\n",
            "Requirement already satisfied: astunparse>=1.6.0 in /usr/local/lib/python3.10/dist-packages (from tensorflow) (1.6.3)\n",
            "Requirement already satisfied: flatbuffers>=24.3.25 in /usr/local/lib/python3.10/dist-packages (from tensorflow) (24.3.25)\n",
            "Requirement already satisfied: gast!=0.5.0,!=0.5.1,!=0.5.2,>=0.2.1 in /usr/local/lib/python3.10/dist-packages (from tensorflow) (0.6.0)\n",
            "Requirement already satisfied: google-pasta>=0.1.1 in /usr/local/lib/python3.10/dist-packages (from tensorflow) (0.2.0)\n",
            "Requirement already satisfied: h5py>=3.10.0 in /usr/local/lib/python3.10/dist-packages (from tensorflow) (3.11.0)\n",
            "Requirement already satisfied: libclang>=13.0.0 in /usr/local/lib/python3.10/dist-packages (from tensorflow) (18.1.1)\n",
            "Requirement already satisfied: ml-dtypes<0.5.0,>=0.3.1 in /usr/local/lib/python3.10/dist-packages (from tensorflow) (0.4.0)\n",
            "Requirement already satisfied: opt-einsum>=2.3.2 in /usr/local/lib/python3.10/dist-packages (from tensorflow) (3.3.0)\n",
            "Requirement already satisfied: protobuf!=4.21.0,!=4.21.1,!=4.21.2,!=4.21.3,!=4.21.4,!=4.21.5,<5.0.0dev,>=3.20.3 in /usr/local/lib/python3.10/dist-packages (from tensorflow) (3.20.3)\n",
            "Requirement already satisfied: setuptools in /usr/local/lib/python3.10/dist-packages (from tensorflow) (71.0.4)\n",
            "Requirement already satisfied: six>=1.12.0 in /usr/local/lib/python3.10/dist-packages (from tensorflow) (1.16.0)\n",
            "Requirement already satisfied: termcolor>=1.1.0 in /usr/local/lib/python3.10/dist-packages (from tensorflow) (2.4.0)\n",
            "Requirement already satisfied: typing-extensions>=3.6.6 in /usr/local/lib/python3.10/dist-packages (from tensorflow) (4.12.2)\n",
            "Requirement already satisfied: wrapt>=1.11.0 in /usr/local/lib/python3.10/dist-packages (from tensorflow) (1.16.0)\n",
            "Requirement already satisfied: grpcio<2.0,>=1.24.3 in /usr/local/lib/python3.10/dist-packages (from tensorflow) (1.64.1)\n",
            "Requirement already satisfied: tensorboard<2.18,>=2.17 in /usr/local/lib/python3.10/dist-packages (from tensorflow) (2.17.0)\n",
            "Requirement already satisfied: keras>=3.2.0 in /usr/local/lib/python3.10/dist-packages (from tensorflow) (3.4.1)\n",
            "Requirement already satisfied: tensorflow-io-gcs-filesystem>=0.23.1 in /usr/local/lib/python3.10/dist-packages (from tensorflow) (0.37.1)\n",
            "Requirement already satisfied: tqdm>=4.27.0 in /usr/local/lib/python3.10/dist-packages (from shap) (4.66.5)\n",
            "Requirement already satisfied: slicer==0.0.8 in /usr/local/lib/python3.10/dist-packages (from shap) (0.0.8)\n",
            "Requirement already satisfied: numba in /usr/local/lib/python3.10/dist-packages (from shap) (0.60.0)\n",
            "Requirement already satisfied: cloudpickle in /usr/local/lib/python3.10/dist-packages (from shap) (2.2.1)\n",
            "Requirement already satisfied: wheel<1.0,>=0.23.0 in /usr/local/lib/python3.10/dist-packages (from astunparse>=1.6.0->tensorflow) (0.44.0)\n",
            "Requirement already satisfied: soupsieve>1.2 in /usr/local/lib/python3.10/dist-packages (from beautifulsoup4>=4.11.1->yfinance) (2.6)\n",
            "Requirement already satisfied: webencodings in /usr/local/lib/python3.10/dist-packages (from html5lib>=1.1->yfinance) (0.5.1)\n",
            "Requirement already satisfied: rich in /usr/local/lib/python3.10/dist-packages (from keras>=3.2.0->tensorflow) (13.8.0)\n",
            "Requirement already satisfied: namex in /usr/local/lib/python3.10/dist-packages (from keras>=3.2.0->tensorflow) (0.0.8)\n",
            "Requirement already satisfied: optree in /usr/local/lib/python3.10/dist-packages (from keras>=3.2.0->tensorflow) (0.12.1)\n",
            "Requirement already satisfied: python-dateutil>=2.8.2 in /usr/local/lib/python3.10/dist-packages (from pandas>=1.3.0->yfinance) (2.8.2)\n",
            "Requirement already satisfied: tzdata>=2022.1 in /usr/local/lib/python3.10/dist-packages (from pandas>=1.3.0->yfinance) (2024.1)\n",
            "Requirement already satisfied: charset-normalizer<4,>=2 in /usr/local/lib/python3.10/dist-packages (from requests>=2.31->yfinance) (3.3.2)\n",
            "Requirement already satisfied: idna<4,>=2.5 in /usr/local/lib/python3.10/dist-packages (from requests>=2.31->yfinance) (3.8)\n",
            "Requirement already satisfied: urllib3<3,>=1.21.1 in /usr/local/lib/python3.10/dist-packages (from requests>=2.31->yfinance) (2.0.7)\n",
            "Requirement already satisfied: certifi>=2017.4.17 in /usr/local/lib/python3.10/dist-packages (from requests>=2.31->yfinance) (2024.8.30)\n",
            "Requirement already satisfied: markdown>=2.6.8 in /usr/local/lib/python3.10/dist-packages (from tensorboard<2.18,>=2.17->tensorflow) (3.7)\n",
            "Requirement already satisfied: tensorboard-data-server<0.8.0,>=0.7.0 in /usr/local/lib/python3.10/dist-packages (from tensorboard<2.18,>=2.17->tensorflow) (0.7.2)\n",
            "Requirement already satisfied: werkzeug>=1.0.1 in /usr/local/lib/python3.10/dist-packages (from tensorboard<2.18,>=2.17->tensorflow) (3.0.4)\n",
            "Requirement already satisfied: llvmlite<0.44,>=0.43.0dev0 in /usr/local/lib/python3.10/dist-packages (from numba->shap) (0.43.0)\n",
            "Requirement already satisfied: MarkupSafe>=2.1.1 in /usr/local/lib/python3.10/dist-packages (from werkzeug>=1.0.1->tensorboard<2.18,>=2.17->tensorflow) (2.1.5)\n",
            "Requirement already satisfied: markdown-it-py>=2.2.0 in /usr/local/lib/python3.10/dist-packages (from rich->keras>=3.2.0->tensorflow) (3.0.0)\n",
            "Requirement already satisfied: pygments<3.0.0,>=2.13.0 in /usr/local/lib/python3.10/dist-packages (from rich->keras>=3.2.0->tensorflow) (2.16.1)\n",
            "Requirement already satisfied: mdurl~=0.1 in /usr/local/lib/python3.10/dist-packages (from markdown-it-py>=2.2.0->rich->keras>=3.2.0->tensorflow) (0.1.2)\n",
            "                                  Open         High          Low        Close  \\\n",
            "Datetime                                                                        \n",
            "2024-09-05 08:00:00+01:00  8269.599609  8269.599609  8244.410156  8244.980469   \n",
            "2024-09-05 08:01:00+01:00  8244.990234  8255.089844  8244.740234  8254.200195   \n",
            "2024-09-05 08:02:00+01:00  8253.820312  8253.879883  8251.330078  8253.839844   \n",
            "2024-09-05 08:03:00+01:00  8253.639648  8256.490234  8253.599609  8255.750000   \n",
            "2024-09-05 08:04:00+01:00  8255.849609  8257.799805  8255.849609  8257.299805   \n",
            "...                                ...          ...          ...          ...   \n",
            "2024-09-05 16:25:00+01:00  8257.000000  8258.959961  8256.610352  8256.620117   \n",
            "2024-09-05 16:26:00+01:00  8256.690430  8257.040039  8256.360352  8256.650391   \n",
            "2024-09-05 16:27:00+01:00  8256.549805  8256.549805  8255.169922  8255.969727   \n",
            "2024-09-05 16:28:00+01:00  8256.000000  8256.190430  8253.919922  8254.040039   \n",
            "2024-09-05 16:29:00+01:00  8254.150391  8254.179688  8251.419922  8251.849609   \n",
            "\n",
            "                           Volume  Dividends  Stock Splits  \n",
            "Datetime                                                    \n",
            "2024-09-05 08:00:00+01:00       0        0.0           0.0  \n",
            "2024-09-05 08:01:00+01:00       0        0.0           0.0  \n",
            "2024-09-05 08:02:00+01:00       0        0.0           0.0  \n",
            "2024-09-05 08:03:00+01:00       0        0.0           0.0  \n",
            "2024-09-05 08:04:00+01:00       0        0.0           0.0  \n",
            "...                           ...        ...           ...  \n",
            "2024-09-05 16:25:00+01:00       0        0.0           0.0  \n",
            "2024-09-05 16:26:00+01:00       0        0.0           0.0  \n",
            "2024-09-05 16:27:00+01:00       0        0.0           0.0  \n",
            "2024-09-05 16:28:00+01:00       0        0.0           0.0  \n",
            "2024-09-05 16:29:00+01:00       0        0.0           0.0  \n",
            "\n",
            "[509 rows x 7 columns]\n"
          ]
        }
      ],
      "source": [
        "!pip install yfinance plotly scikit-learn statsmodels tensorflow shap\n",
        "\n",
        "import yfinance as yf\n",
        "import pandas as pd\n",
        "import plotly.graph_objects as go\n",
        "from plotly.subplots import make_subplots\n",
        "from datetime import datetime, timedelta\n",
        "import time\n",
        "from sklearn.model_selection import train_test_split\n",
        "from sklearn.linear_model import LinearRegression\n",
        "from sklearn.metrics import mean_squared_error, mean_absolute_error\n",
        "from sklearn.preprocessing import MinMaxScaler\n",
        "from statsmodels.tsa.arima.model import ARIMA\n",
        "import numpy as np\n",
        "import tensorflow as tf\n",
        "from tensorflow.keras.models import Sequential\n",
        "from tensorflow.keras.layers import Dense, LSTM\n",
        "import math\n",
        "import shap\n",
        "import warnings\n",
        "\n",
        "\n",
        "\n",
        "def fetch_ftse100_data(period='1d', interval='1m'):\n",
        "    ftse100 = yf.Ticker(\"^FTSE\")\n",
        "    data = ftse100.history(period=period, interval=interval)\n",
        "    return data\n",
        "\n",
        "data = fetch_ftse100_data()\n",
        "print(data)\n",
        "# Suppress all warnings\n",
        "warnings.filterwarnings(\"ignore\")"
      ]
    },
    {
      "cell_type": "markdown",
      "source": [
        "**A 20-period moving commonplace modified into plotted to easy out\n",
        "short-term charge fluctuations and highlight longer-time period developments.**\n",
        "\n"
      ],
      "metadata": {
        "id": "2mQoLaIOf1oC"
      }
    },
    {
      "cell_type": "markdown",
      "source": [
        "**Adding Moving Average**"
      ],
      "metadata": {
        "id": "KmMFKn9tQcFH"
      }
    },
    {
      "cell_type": "code",
      "source": [
        "data['Moving Average'] = data['Close'].rolling(window=20).mean()"
      ],
      "metadata": {
        "id": "AfbEGytsOQAs"
      },
      "execution_count": 21,
      "outputs": []
    },
    {
      "cell_type": "markdown",
      "source": [
        "**Linear Regression Model**"
      ],
      "metadata": {
        "id": "3-EElcinQXyq"
      }
    },
    {
      "cell_type": "markdown",
      "source": [
        "**Predict today's price using Linear Regression**"
      ],
      "metadata": {
        "id": "Di25koua-wDM"
      }
    },
    {
      "cell_type": "code",
      "source": [
        "data['Shifted Close'] = data['Close'].shift(-1)\n",
        "data.dropna(inplace=True)\n",
        "\n",
        "X = data[['Close']]\n",
        "y = data['Shifted Close']\n",
        "\n",
        "X_train, X_test, y_train, y_test = train_test_split(X, y, test_size=0.2, random_state=42)\n",
        "linear_model = LinearRegression()\n",
        "linear_model.fit(X_train, y_train)\n",
        "\n",
        "y_pred = linear_model.predict(X_test)\n",
        "mse = mean_squared_error(y_test, y_pred)\n",
        "print(f\"Linear Regression Mean Squared Error: {mse}\")\n",
        "# Suppress all warnings\n",
        "warnings.filterwarnings(\"ignore\")\n"
      ],
      "metadata": {
        "colab": {
          "base_uri": "https://localhost:8080/"
        },
        "id": "31Q_qP3Y4JiE",
        "outputId": "ad3afd60-81c6-4b8a-e326-0d1821d02082"
      },
      "execution_count": 3,
      "outputs": [
        {
          "output_type": "stream",
          "name": "stdout",
          "text": [
            "Linear Regression Mean Squared Error: 2.0814523775184046\n"
          ]
        }
      ]
    },
    {
      "cell_type": "code",
      "source": [
        "today_price_lr = linear_model.predict([[data['Close'].iloc[-1]]])[0]\n",
        "print(f\"Predicted Today's Price using Linear Regression: {today_price_lr:.2f}\")"
      ],
      "metadata": {
        "colab": {
          "base_uri": "https://localhost:8080/"
        },
        "id": "ypPZ8fbw-sWg",
        "outputId": "247a2d4e-8421-4e85-ef53-d3bcc912f49c"
      },
      "execution_count": 4,
      "outputs": [
        {
          "output_type": "stream",
          "name": "stdout",
          "text": [
            "Predicted Today's Price using Linear Regression: 8254.21\n"
          ]
        },
        {
          "output_type": "stream",
          "name": "stderr",
          "text": [
            "/usr/local/lib/python3.10/dist-packages/sklearn/base.py:465: UserWarning: X does not have valid feature names, but LinearRegression was fitted with feature names\n",
            "  warnings.warn(\n"
          ]
        }
      ]
    },
    {
      "cell_type": "markdown",
      "source": [
        " **The ARIMA model, having been informed on ancient FTSE100 data, ended up used to forecast the following 10 minutes of index values. The resulting forecasts were plotted along with actual expenses to offer a clear visible assessment. While ARIMA supplied a sincere approach to forecasting primarily based absolutely mostly on historical patterns**\n"
      ],
      "metadata": {
        "id": "gPZDkTx9i-sm"
      }
    },
    {
      "cell_type": "markdown",
      "source": [
        "\n",
        "\n",
        "**ARIMA Model**"
      ],
      "metadata": {
        "id": "cGx0XHcXQUPv"
      }
    },
    {
      "cell_type": "code",
      "source": [
        "def train_arima_model(data):\n",
        "    model = ARIMA(data['Close'], order=(5, 1, 0))\n",
        "    model_fit = model.fit()\n",
        "    return model_fit\n",
        "arima_model = train_arima_model(data)\n",
        "# Suppress all warnings\n",
        "warnings.filterwarnings(\"ignore\")"
      ],
      "metadata": {
        "colab": {
          "base_uri": "https://localhost:8080/"
        },
        "id": "cS21yXY1Obhr",
        "outputId": "5b8bf8c9-a6ba-439e-b3f0-67dd4c90a5e4"
      },
      "execution_count": 5,
      "outputs": [
        {
          "output_type": "stream",
          "name": "stderr",
          "text": [
            "/usr/local/lib/python3.10/dist-packages/statsmodels/tsa/base/tsa_model.py:473: ValueWarning: A date index has been provided, but it has no associated frequency information and so will be ignored when e.g. forecasting.\n",
            "  self._init_dates(dates, freq)\n",
            "/usr/local/lib/python3.10/dist-packages/statsmodels/tsa/base/tsa_model.py:473: ValueWarning: A date index has been provided, but it has no associated frequency information and so will be ignored when e.g. forecasting.\n",
            "  self._init_dates(dates, freq)\n",
            "/usr/local/lib/python3.10/dist-packages/statsmodels/tsa/base/tsa_model.py:473: ValueWarning: A date index has been provided, but it has no associated frequency information and so will be ignored when e.g. forecasting.\n",
            "  self._init_dates(dates, freq)\n"
          ]
        }
      ]
    },
    {
      "cell_type": "markdown",
      "source": [
        "**the LSTM model was employed to wait for destiny FTSE100 values, leveraging its capability to analyze complicated temporal styles from the statistics. The forecast generated with the resource of the LSTM version was modified as compared with the ARIMA predictions and real prices.\n",
        "the LSTM version verified advanced modern-day typical performance in taking pix complex patterns and inclinations, as contemplated in its lower mistakes metrics. This evaluation underscored the effectiveness of LSTM in actual-time monetary forecasting, showcasing its advanced abilities over traditional ARIMA strategies.**"
      ],
      "metadata": {
        "id": "OFWRu2nVliir"
      }
    },
    {
      "cell_type": "markdown",
      "source": [
        "**LSTM Model Preparation**"
      ],
      "metadata": {
        "id": "_Y-sliOnQPkU"
      }
    },
    {
      "cell_type": "code",
      "source": [
        "def preprocess_lstm_data(data):\n",
        "    scaler = MinMaxScaler(feature_range=(0, 1))\n",
        "    scaled_data = scaler.fit_transform(data['Close'].values.reshape(-1, 1))\n",
        "    X, y = [], []\n",
        "    for i in range(60, len(scaled_data)):\n",
        "        X.append(scaled_data[i-60:i])\n",
        "        y.append(scaled_data[i])\n",
        "    X, y = np.array(X), np.array(y)\n",
        "    return X, y, scaler\n",
        "\n",
        "X_lstm, y_lstm, scaler = preprocess_lstm_data(data)\n",
        "\n",
        "def train_lstm_model(X, y):\n",
        "    model = Sequential()\n",
        "    model.add(LSTM(units=50, return_sequences=True, input_shape=(X.shape[1], 1)))\n",
        "    model.add(LSTM(units=50))\n",
        "    model.add(Dense(1))\n",
        "    model.compile(optimizer='adam', loss='mean_squared_error')\n",
        "    model.fit(X, y, epochs=5, batch_size=32, verbose=0)\n",
        "    return model\n",
        "\n",
        "lstm_model = train_lstm_model(X_lstm, y_lstm)\n",
        "# Suppress all warnings\n",
        "warnings.filterwarnings(\"ignore\")"
      ],
      "metadata": {
        "colab": {
          "base_uri": "https://localhost:8080/"
        },
        "id": "gY8DQ0HEOvN4",
        "outputId": "3ab98d89-5f64-47dd-a0c9-c817e356700c"
      },
      "execution_count": 6,
      "outputs": [
        {
          "output_type": "stream",
          "name": "stderr",
          "text": [
            "/usr/local/lib/python3.10/dist-packages/keras/src/layers/rnn/rnn.py:204: UserWarning: Do not pass an `input_shape`/`input_dim` argument to a layer. When using Sequential models, prefer using an `Input(shape)` object as the first layer in the model instead.\n",
            "  super().__init__(**kwargs)\n"
          ]
        }
      ]
    },
    {
      "cell_type": "markdown",
      "source": [
        "**Predictions with ARIMA**"
      ],
      "metadata": {
        "id": "EGH3wmqZQLY1"
      }
    },
    {
      "cell_type": "code",
      "source": [
        "def predict_with_arima(model_fit, steps=10):\n",
        "    forecast = model_fit.forecast(steps=steps)\n",
        "    return forecast"
      ],
      "metadata": {
        "id": "EYXOEvoBOzWT"
      },
      "execution_count": 7,
      "outputs": []
    },
    {
      "cell_type": "markdown",
      "source": [
        "**Predictions with LSTM**"
      ],
      "metadata": {
        "id": "AuhxoTaSQFGG"
      }
    },
    {
      "cell_type": "code",
      "source": [
        "def predict_with_lstm(model, scaler, data, steps=10):\n",
        "    last_60_days = data['Close'][-60:].values.reshape(-1, 1)\n",
        "    scaled_last_60_days = scaler.transform(last_60_days)\n",
        "    X_input = np.array([scaled_last_60_days])\n",
        "    predictions = []\n",
        "\n",
        "    for _ in range(steps):\n",
        "        pred = model.predict(X_input)[0][0]\n",
        "        predictions.append(pred)\n",
        "\n",
        "        new_data = np.roll(X_input, shift=-1, axis=1)\n",
        "        new_data[0, -1, 0] = pred\n",
        "        X_input = new_data\n",
        "\n",
        "    return scaler.inverse_transform(np.array(predictions).reshape(-1, 1)).flatten()\n",
        "\n",
        "# Predict today's price using LSTM\n",
        "today_price_lstm = predict_with_lstm(lstm_model, scaler, data, steps=1)[0]\n",
        "print(f\"Predicted Today's Price using LSTM: {today_price_lstm:.2f}\")\n",
        "# Suppress all warnings\n",
        "warnings.filterwarnings(\"ignore\")"
      ],
      "metadata": {
        "colab": {
          "base_uri": "https://localhost:8080/"
        },
        "id": "cIoSDGCVO3gK",
        "outputId": "df6ea83b-c54f-4a82-8295-744ec52ccd44"
      },
      "execution_count": 8,
      "outputs": [
        {
          "output_type": "stream",
          "name": "stdout",
          "text": [
            "\u001b[1m1/1\u001b[0m \u001b[32m━━━━━━━━━━━━━━━━━━━━\u001b[0m\u001b[37m\u001b[0m \u001b[1m0s\u001b[0m 325ms/step\n",
            "Predicted Today's Price using LSTM: 8259.68\n"
          ]
        }
      ]
    },
    {
      "cell_type": "markdown",
      "source": [
        "**Forecasting for future steps**"
      ],
      "metadata": {
        "id": "l7ljCVnXFNk1"
      }
    },
    {
      "cell_type": "code",
      "source": [
        "future_steps = 10\n",
        "arima_forecast = predict_with_arima(arima_model, steps=future_steps)\n",
        "lstm_forecast = predict_with_lstm(lstm_model, scaler, data, steps=future_steps)\n",
        "\n",
        "forecast_index = pd.date_range(start=data.index[-1] + pd.Timedelta(minutes=1), periods=future_steps, freq='1min')\n",
        "# Suppress all warnings\n",
        "warnings.filterwarnings(\"ignore\")"
      ],
      "metadata": {
        "colab": {
          "base_uri": "https://localhost:8080/"
        },
        "id": "WBSXZXx5FD0m",
        "outputId": "0855186c-484d-4b03-fb29-8f0079153a9e"
      },
      "execution_count": 9,
      "outputs": [
        {
          "output_type": "stream",
          "name": "stdout",
          "text": [
            "\u001b[1m1/1\u001b[0m \u001b[32m━━━━━━━━━━━━━━━━━━━━\u001b[0m\u001b[37m\u001b[0m \u001b[1m0s\u001b[0m 28ms/step\n",
            "\u001b[1m1/1\u001b[0m \u001b[32m━━━━━━━━━━━━━━━━━━━━\u001b[0m\u001b[37m\u001b[0m \u001b[1m0s\u001b[0m 26ms/step\n"
          ]
        },
        {
          "output_type": "stream",
          "name": "stderr",
          "text": [
            "/usr/local/lib/python3.10/dist-packages/statsmodels/tsa/base/tsa_model.py:836: ValueWarning: No supported index is available. Prediction results will be given with an integer index beginning at `start`.\n",
            "  return get_prediction_index(\n",
            "/usr/local/lib/python3.10/dist-packages/statsmodels/tsa/base/tsa_model.py:836: FutureWarning: No supported index is available. In the next version, calling this method in a model without a supported index will result in an exception.\n",
            "  return get_prediction_index(\n"
          ]
        },
        {
          "output_type": "stream",
          "name": "stdout",
          "text": [
            "\u001b[1m1/1\u001b[0m \u001b[32m━━━━━━━━━━━━━━━━━━━━\u001b[0m\u001b[37m\u001b[0m \u001b[1m0s\u001b[0m 23ms/step\n",
            "\u001b[1m1/1\u001b[0m \u001b[32m━━━━━━━━━━━━━━━━━━━━\u001b[0m\u001b[37m\u001b[0m \u001b[1m0s\u001b[0m 25ms/step\n",
            "\u001b[1m1/1\u001b[0m \u001b[32m━━━━━━━━━━━━━━━━━━━━\u001b[0m\u001b[37m\u001b[0m \u001b[1m0s\u001b[0m 23ms/step\n",
            "\u001b[1m1/1\u001b[0m \u001b[32m━━━━━━━━━━━━━━━━━━━━\u001b[0m\u001b[37m\u001b[0m \u001b[1m0s\u001b[0m 30ms/step\n",
            "\u001b[1m1/1\u001b[0m \u001b[32m━━━━━━━━━━━━━━━━━━━━\u001b[0m\u001b[37m\u001b[0m \u001b[1m0s\u001b[0m 23ms/step\n",
            "\u001b[1m1/1\u001b[0m \u001b[32m━━━━━━━━━━━━━━━━━━━━\u001b[0m\u001b[37m\u001b[0m \u001b[1m0s\u001b[0m 23ms/step\n",
            "\u001b[1m1/1\u001b[0m \u001b[32m━━━━━━━━━━━━━━━━━━━━\u001b[0m\u001b[37m\u001b[0m \u001b[1m0s\u001b[0m 25ms/step\n",
            "\u001b[1m1/1\u001b[0m \u001b[32m━━━━━━━━━━━━━━━━━━━━\u001b[0m\u001b[37m\u001b[0m \u001b[1m0s\u001b[0m 23ms/step\n"
          ]
        }
      ]
    },
    {
      "cell_type": "markdown",
      "source": [
        "**. The Mean Absolute Error (MAE) and Root Mean Square Error (RMSE) of the ARIMA predictions were calculated to quantify the model's forecasting accuracy. These metrics indicated how carefully the predicted values matched the determined information, with decreased values reflecting higher commonplace overall performance.**\n",
        "\n",
        "**The MAE and RMSE for the LSTM model were also computed, imparting a diploma of its predictive accuracy**"
      ],
      "metadata": {
        "id": "gCZPONlHmtru"
      }
    },
    {
      "cell_type": "markdown",
      "source": [
        "**Model Accuracy**"
      ],
      "metadata": {
        "id": "1nlAa_cBP757"
      }
    },
    {
      "cell_type": "code",
      "source": [
        "# ARIMA Model Accuracy\n",
        "arima_mae = mean_absolute_error(data['Close'][-future_steps:], arima_forecast)\n",
        "arima_rmse = math.sqrt(mean_squared_error(data['Close'][-future_steps:], arima_forecast))\n",
        "print(f\"ARIMA Model - MAE: {arima_mae:.2f}, RMSE: {arima_rmse:.2f}\")\n",
        "\n",
        "# LSTM Model Accuracy\n",
        "lstm_mae = mean_absolute_error(data['Close'][-future_steps:], lstm_forecast)\n",
        "lstm_rmse = math.sqrt(mean_squared_error(data['Close'][-future_steps:], lstm_forecast))\n",
        "print(f\"LSTM Model - MAE: {lstm_mae:.2f}, RMSE: {lstm_rmse:.2f}\")\n",
        "# Suppress all warnings\n",
        "warnings.filterwarnings(\"ignore\")"
      ],
      "metadata": {
        "colab": {
          "base_uri": "https://localhost:8080/"
        },
        "id": "_rP8o0AxO-iR",
        "outputId": "97dd8978-e761-4d1c-c26a-c22ff5836658"
      },
      "execution_count": 10,
      "outputs": [
        {
          "output_type": "stream",
          "name": "stdout",
          "text": [
            "ARIMA Model - MAE: 4.21, RMSE: 4.77\n",
            "LSTM Model - MAE: 1.98, RMSE: 2.46\n"
          ]
        }
      ]
    },
    {
      "cell_type": "code",
      "source": [
        "!pip install prophet\n"
      ],
      "metadata": {
        "colab": {
          "base_uri": "https://localhost:8080/"
        },
        "id": "BLoMSCOMqfkz",
        "outputId": "651abfa9-b000-47ee-f9a9-ca396ffd4b00"
      },
      "execution_count": 11,
      "outputs": [
        {
          "output_type": "stream",
          "name": "stdout",
          "text": [
            "Requirement already satisfied: prophet in /usr/local/lib/python3.10/dist-packages (1.1.5)\n",
            "Requirement already satisfied: cmdstanpy>=1.0.4 in /usr/local/lib/python3.10/dist-packages (from prophet) (1.2.4)\n",
            "Requirement already satisfied: numpy>=1.15.4 in /usr/local/lib/python3.10/dist-packages (from prophet) (1.26.4)\n",
            "Requirement already satisfied: matplotlib>=2.0.0 in /usr/local/lib/python3.10/dist-packages (from prophet) (3.7.1)\n",
            "Requirement already satisfied: pandas>=1.0.4 in /usr/local/lib/python3.10/dist-packages (from prophet) (2.1.4)\n",
            "Requirement already satisfied: holidays>=0.25 in /usr/local/lib/python3.10/dist-packages (from prophet) (0.55)\n",
            "Requirement already satisfied: tqdm>=4.36.1 in /usr/local/lib/python3.10/dist-packages (from prophet) (4.66.5)\n",
            "Requirement already satisfied: importlib-resources in /usr/local/lib/python3.10/dist-packages (from prophet) (6.4.4)\n",
            "Requirement already satisfied: stanio<2.0.0,>=0.4.0 in /usr/local/lib/python3.10/dist-packages (from cmdstanpy>=1.0.4->prophet) (0.5.1)\n",
            "Requirement already satisfied: python-dateutil in /usr/local/lib/python3.10/dist-packages (from holidays>=0.25->prophet) (2.8.2)\n",
            "Requirement already satisfied: contourpy>=1.0.1 in /usr/local/lib/python3.10/dist-packages (from matplotlib>=2.0.0->prophet) (1.3.0)\n",
            "Requirement already satisfied: cycler>=0.10 in /usr/local/lib/python3.10/dist-packages (from matplotlib>=2.0.0->prophet) (0.12.1)\n",
            "Requirement already satisfied: fonttools>=4.22.0 in /usr/local/lib/python3.10/dist-packages (from matplotlib>=2.0.0->prophet) (4.53.1)\n",
            "Requirement already satisfied: kiwisolver>=1.0.1 in /usr/local/lib/python3.10/dist-packages (from matplotlib>=2.0.0->prophet) (1.4.5)\n",
            "Requirement already satisfied: packaging>=20.0 in /usr/local/lib/python3.10/dist-packages (from matplotlib>=2.0.0->prophet) (24.1)\n",
            "Requirement already satisfied: pillow>=6.2.0 in /usr/local/lib/python3.10/dist-packages (from matplotlib>=2.0.0->prophet) (9.4.0)\n",
            "Requirement already satisfied: pyparsing>=2.3.1 in /usr/local/lib/python3.10/dist-packages (from matplotlib>=2.0.0->prophet) (3.1.4)\n",
            "Requirement already satisfied: pytz>=2020.1 in /usr/local/lib/python3.10/dist-packages (from pandas>=1.0.4->prophet) (2024.1)\n",
            "Requirement already satisfied: tzdata>=2022.1 in /usr/local/lib/python3.10/dist-packages (from pandas>=1.0.4->prophet) (2024.1)\n",
            "Requirement already satisfied: six>=1.5 in /usr/local/lib/python3.10/dist-packages (from python-dateutil->holidays>=0.25->prophet) (1.16.0)\n"
          ]
        }
      ]
    },
    {
      "cell_type": "code",
      "source": [
        "\n",
        "from prophet import Prophet\n",
        "\n",
        "# Convert the index to datetime, if not already done\n",
        "data.index = pd.to_datetime(data.index)\n",
        "\n",
        "# Function to prepare data for Prophet\n",
        "def prepare_data_for_prophet(data):\n",
        "    prophet_data = data[['Close']].reset_index()  # Reset index to convert Datetime from index to a column\n",
        "    prophet_data[prophet_data.columns[0]] = prophet_data[prophet_data.columns[0]].dt.tz_localize(None)\n",
        "    prophet_data.rename(columns={prophet_data.columns[0]: 'ds', 'Close': 'y'}, inplace=True)  # Rename columns for Prophet\n",
        "    return prophet_data\n",
        "\n",
        "# Prepare the data\n",
        "prophet_data = prepare_data_for_prophet(data)\n",
        "\n",
        "def train_prophet_model(data):\n",
        "    model = Prophet(daily_seasonality=False)\n",
        "    model.add_seasonality(name='monthly', period=30.5, fourier_order=5)\n",
        "    model.fit(data)\n",
        "    return model\n",
        "\n",
        "# Train the Prophet model\n",
        "prophet_model = train_prophet_model(prophet_data)\n",
        "\n",
        "def predict_with_prophet(model, periods=10):\n",
        "    future = model.make_future_dataframe(periods=periods, freq='D')\n",
        "    forecast = model.predict(future)\n",
        "    return forecast[['ds', 'yhat']].tail(periods)\n",
        "\n",
        "# Make predictions using Prophet\n",
        "prophet_forecast = predict_with_prophet(prophet_model, periods=10)\n",
        "print(f\"Prophet Model - Predicted future prices:\\n{prophet_forecast}\")\n",
        "# Suppress all warnings\n",
        "warnings.filterwarnings(\"ignore\")"
      ],
      "metadata": {
        "colab": {
          "base_uri": "https://localhost:8080/"
        },
        "id": "ze8_KorjvdmP",
        "outputId": "8ff0cdd8-ab1c-4a31-a663-ea5bec32f7fa"
      },
      "execution_count": 12,
      "outputs": [
        {
          "output_type": "stream",
          "name": "stderr",
          "text": [
            "INFO:prophet:Disabling yearly seasonality. Run prophet with yearly_seasonality=True to override this.\n",
            "INFO:prophet:Disabling weekly seasonality. Run prophet with weekly_seasonality=True to override this.\n",
            "DEBUG:cmdstanpy:input tempfile: /tmp/tmp4ta7y89z/wut9zvdg.json\n",
            "DEBUG:cmdstanpy:input tempfile: /tmp/tmp4ta7y89z/ckz2iq1g.json\n",
            "DEBUG:cmdstanpy:idx 0\n",
            "DEBUG:cmdstanpy:running CmdStan, num_threads: None\n",
            "DEBUG:cmdstanpy:CmdStan args: ['/usr/local/lib/python3.10/dist-packages/prophet/stan_model/prophet_model.bin', 'random', 'seed=27526', 'data', 'file=/tmp/tmp4ta7y89z/wut9zvdg.json', 'init=/tmp/tmp4ta7y89z/ckz2iq1g.json', 'output', 'file=/tmp/tmp4ta7y89z/prophet_model_k75002z/prophet_model-20240905223803.csv', 'method=optimize', 'algorithm=lbfgs', 'iter=10000']\n",
            "22:38:03 - cmdstanpy - INFO - Chain [1] start processing\n",
            "INFO:cmdstanpy:Chain [1] start processing\n",
            "22:38:04 - cmdstanpy - INFO - Chain [1] done processing\n",
            "INFO:cmdstanpy:Chain [1] done processing\n"
          ]
        },
        {
          "output_type": "stream",
          "name": "stdout",
          "text": [
            "Prophet Model - Predicted future prices:\n",
            "                     ds         yhat\n",
            "489 2024-09-06 16:28:00  7910.176650\n",
            "490 2024-09-07 16:28:00  7252.395555\n",
            "491 2024-09-08 16:28:00  6774.192047\n",
            "492 2024-09-09 16:28:00  6794.246647\n",
            "493 2024-09-10 16:28:00  7181.069691\n",
            "494 2024-09-11 16:28:00  7486.926596\n",
            "495 2024-09-12 16:28:00  7364.066727\n",
            "496 2024-09-13 16:28:00  6868.068767\n",
            "497 2024-09-14 16:28:00  6373.416602\n",
            "498 2024-09-15 16:28:00  6201.115023\n"
          ]
        }
      ]
    },
    {
      "cell_type": "markdown",
      "source": [
        "**The improvements in the model interpretability are brought by the integration of SHAP (SHapley Additive exPlanations) in the LSTM-based financial prediction model. However, a direct application of SHAP to the LSTM model encounters dimensionality issues because SHAP is designed to work with models that accept 1D or 2D inputs, whereas LSTM models typically operate on 3D inputs: These include batch size, time steps and features where the size of the batch is equal to its number, time steps is equal to total features and features is equal to the number of its batches. Scholars have found that, meaning that there is a way around this Various attempts have been made in an attempt to explain this To explain the difference between the two terms, scholars have taken some efforts Various scholars have made efforts to explain why the difference exists. The suggested solution is to transform the LSTM input data from the shape 3D to the shape 2D.**"
      ],
      "metadata": {
        "id": "F2m-M6MboN80"
      }
    },
    {
      "cell_type": "markdown",
      "source": [
        "**SHAP Explanation for LSTM**"
      ],
      "metadata": {
        "id": "gKdxKYyxkLlp"
      }
    },
    {
      "cell_type": "code",
      "source": [
        "import shap\n",
        "\n",
        "def get_reshaped_lstm_data(X_lstm):\n",
        "    return X_lstm.reshape(X_lstm.shape[0], X_lstm.shape[1] * X_lstm.shape[2])\n",
        "\n",
        "reshaped_X_lstm = get_reshaped_lstm_data(X_lstm)\n",
        "\n",
        "# Train a simple Dense model on reshaped data for SHAP explanation\n",
        "def train_dense_model(X, y):\n",
        "    model = Sequential()\n",
        "    model.add(Dense(units=50, input_dim=X.shape[1], activation='relu'))\n",
        "    model.add(Dense(units=1))\n",
        "    model.compile(optimizer='adam', loss='mean_squared_error')\n",
        "    model.fit(X, y, epochs=5, batch_size=32, verbose=0)\n",
        "    return model\n",
        "\n",
        "dense_model = train_dense_model(reshaped_X_lstm, y_lstm)\n",
        "\n",
        "#SHAP Explanation for LSTM (Flattened Input)\n",
        "\n",
        "explainer_lstm = shap.KernelExplainer(dense_model.predict, reshaped_X_lstm[:100])\n",
        "shap_values_lstm = explainer_lstm.shap_values(reshaped_X_lstm[:10], nsamples=100)\n",
        "\n",
        "# SHAP summary plot for the Dense model\n",
        "shap.summary_plot(shap_values_lstm, reshaped_X_lstm[:10])\n",
        "\n",
        "# Suppress all warnings\n",
        "warnings.filterwarnings(\"ignore\")"
      ],
      "metadata": {
        "colab": {
          "base_uri": "https://localhost:8080/",
          "height": 1000,
          "referenced_widgets": [
            "3fe0f2439b0449708b661ec8638eed76",
            "70ea5ee0a084467e9073a09f10479e4b",
            "d58967f8d071479cbbc03715ad8ce7fb",
            "2d05f67e6b4f49a6a6cefe1cb63b65a1",
            "8bbadf791aa643e6acf0c137e73b9c88",
            "cbfac52cfcec41768c1fce4818774e10",
            "6a2fbbf9e78744a6813bc50c41092e24",
            "7198faf1fdb64551adc9f322ab02f389",
            "dcd46518b6f44fc5b11da6c946d18b8b",
            "aa643e60f281409d901aa60f28c93d3b",
            "2137339e4cac405287068ead502b8a0e"
          ]
        },
        "id": "g3sIqdpFkNAH",
        "outputId": "d7b23c92-39a4-4c5d-ea6f-7ab078fa6dae"
      },
      "execution_count": 13,
      "outputs": [
        {
          "output_type": "stream",
          "name": "stderr",
          "text": [
            "/usr/local/lib/python3.10/dist-packages/keras/src/layers/core/dense.py:87: UserWarning: Do not pass an `input_shape`/`input_dim` argument to a layer. When using Sequential models, prefer using an `Input(shape)` object as the first layer in the model instead.\n",
            "  super().__init__(activity_regularizer=activity_regularizer, **kwargs)\n"
          ]
        },
        {
          "output_type": "stream",
          "name": "stdout",
          "text": [
            "\u001b[1m4/4\u001b[0m \u001b[32m━━━━━━━━━━━━━━━━━━━━\u001b[0m\u001b[37m\u001b[0m \u001b[1m0s\u001b[0m 11ms/step\n"
          ]
        },
        {
          "output_type": "display_data",
          "data": {
            "text/plain": [
              "  0%|          | 0/10 [00:00<?, ?it/s]"
            ],
            "application/vnd.jupyter.widget-view+json": {
              "version_major": 2,
              "version_minor": 0,
              "model_id": "3fe0f2439b0449708b661ec8638eed76"
            }
          },
          "metadata": {}
        },
        {
          "output_type": "stream",
          "name": "stdout",
          "text": [
            "\u001b[1m1/1\u001b[0m \u001b[32m━━━━━━━━━━━━━━━━━━━━\u001b[0m\u001b[37m\u001b[0m \u001b[1m0s\u001b[0m 19ms/step\n",
            "\u001b[1m313/313\u001b[0m \u001b[32m━━━━━━━━━━━━━━━━━━━━\u001b[0m\u001b[37m\u001b[0m \u001b[1m0s\u001b[0m 1ms/step\n",
            "\u001b[1m1/1\u001b[0m \u001b[32m━━━━━━━━━━━━━━━━━━━━\u001b[0m\u001b[37m\u001b[0m \u001b[1m0s\u001b[0m 35ms/step\n",
            "\u001b[1m313/313\u001b[0m \u001b[32m━━━━━━━━━━━━━━━━━━━━\u001b[0m\u001b[37m\u001b[0m \u001b[1m1s\u001b[0m 2ms/step\n",
            "\u001b[1m1/1\u001b[0m \u001b[32m━━━━━━━━━━━━━━━━━━━━\u001b[0m\u001b[37m\u001b[0m \u001b[1m0s\u001b[0m 35ms/step\n",
            "\u001b[1m313/313\u001b[0m \u001b[32m━━━━━━━━━━━━━━━━━━━━\u001b[0m\u001b[37m\u001b[0m \u001b[1m1s\u001b[0m 2ms/step\n",
            "\u001b[1m1/1\u001b[0m \u001b[32m━━━━━━━━━━━━━━━━━━━━\u001b[0m\u001b[37m\u001b[0m \u001b[1m0s\u001b[0m 27ms/step\n",
            "\u001b[1m313/313\u001b[0m \u001b[32m━━━━━━━━━━━━━━━━━━━━\u001b[0m\u001b[37m\u001b[0m \u001b[1m1s\u001b[0m 2ms/step\n",
            "\u001b[1m1/1\u001b[0m \u001b[32m━━━━━━━━━━━━━━━━━━━━\u001b[0m\u001b[37m\u001b[0m \u001b[1m0s\u001b[0m 23ms/step\n",
            "\u001b[1m313/313\u001b[0m \u001b[32m━━━━━━━━━━━━━━━━━━━━\u001b[0m\u001b[37m\u001b[0m \u001b[1m1s\u001b[0m 3ms/step\n",
            "\u001b[1m1/1\u001b[0m \u001b[32m━━━━━━━━━━━━━━━━━━━━\u001b[0m\u001b[37m\u001b[0m \u001b[1m0s\u001b[0m 80ms/step\n",
            "\u001b[1m313/313\u001b[0m \u001b[32m━━━━━━━━━━━━━━━━━━━━\u001b[0m\u001b[37m\u001b[0m \u001b[1m1s\u001b[0m 2ms/step\n",
            "\u001b[1m1/1\u001b[0m \u001b[32m━━━━━━━━━━━━━━━━━━━━\u001b[0m\u001b[37m\u001b[0m \u001b[1m0s\u001b[0m 20ms/step\n",
            "\u001b[1m313/313\u001b[0m \u001b[32m━━━━━━━━━━━━━━━━━━━━\u001b[0m\u001b[37m\u001b[0m \u001b[1m0s\u001b[0m 1ms/step\n",
            "\u001b[1m1/1\u001b[0m \u001b[32m━━━━━━━━━━━━━━━━━━━━\u001b[0m\u001b[37m\u001b[0m \u001b[1m0s\u001b[0m 18ms/step\n",
            "\u001b[1m313/313\u001b[0m \u001b[32m━━━━━━━━━━━━━━━━━━━━\u001b[0m\u001b[37m\u001b[0m \u001b[1m0s\u001b[0m 1ms/step\n",
            "\u001b[1m1/1\u001b[0m \u001b[32m━━━━━━━━━━━━━━━━━━━━\u001b[0m\u001b[37m\u001b[0m \u001b[1m0s\u001b[0m 19ms/step\n",
            "\u001b[1m313/313\u001b[0m \u001b[32m━━━━━━━━━━━━━━━━━━━━\u001b[0m\u001b[37m\u001b[0m \u001b[1m0s\u001b[0m 1ms/step\n",
            "\u001b[1m1/1\u001b[0m \u001b[32m━━━━━━━━━━━━━━━━━━━━\u001b[0m\u001b[37m\u001b[0m \u001b[1m0s\u001b[0m 20ms/step\n",
            "\u001b[1m313/313\u001b[0m \u001b[32m━━━━━━━━━━━━━━━━━━━━\u001b[0m\u001b[37m\u001b[0m \u001b[1m0s\u001b[0m 1ms/step\n"
          ]
        },
        {
          "output_type": "display_data",
          "data": {
            "text/plain": [
              "<Figure size 1150x660 with 1 Axes>"
            ],
            "image/png": "[encoded data removed]"
          },
          "metadata": {}
        }
      ]
    },
    {
      "cell_type": "markdown",
      "source": [
        "**Specifically, the line chart used to represent the FTSE100 Index is an effective line of inquiry in analyzing behavior in the market over a given period. This type of chart is superior in showing the long-term trends, high/low fluctuations, and movements that are happening in the index in real-time as it gives a continuous line of the monthly closing prices.**"
      ],
      "metadata": {
        "id": "WWoxJM3vpVTE"
      }
    },
    {
      "cell_type": "markdown",
      "source": [
        "**Visualization**\n",
        "*Line Chart*"
      ],
      "metadata": {
        "id": "SAJK-0XnP2-4"
      }
    },
    {
      "cell_type": "code",
      "source": [
        "warnings.filterwarnings(\"ignore\")\n",
        "line_fig = go.Figure()\n",
        "line_fig.add_trace(go.Scatter(x=data.index, y=data['Close'], mode='lines', name='FTSE100 Line'))\n",
        "line_fig.add_trace(go.Scatter(x=[data.index[-1] + pd.Timedelta(minutes=1)], y=[today_price_lr], mode='markers', name='Predicted LR Price'))\n",
        "line_fig.add_trace(go.Scatter(x=[data.index[-1] + pd.Timedelta(minutes=1)], y=[today_price_lstm], mode='markers', name='Predicted LSTM Price'))\n",
        "line_fig.update_layout(title='FTSE100 Index - Line Chart with Predicted Price', xaxis_title='Time', yaxis_title='Price')\n",
        "line_fig.show()"
      ],
      "metadata": {
        "colab": {
          "base_uri": "https://localhost:8080/",
          "height": 542
        },
        "id": "9HqzJgSPPI6P",
        "outputId": "86681c84-614c-4104-f925-3ca186849208"
      },
      "execution_count": 23,
      "outputs": [
        {
          "output_type": "display_data",
          "data": {
            "text/html": [
              "<html>\n",
              "<head><meta charset=\"utf-8\" /></head>\n",
              "<body>\n",
              "    <div>            <script src=\"https://cdnjs.cloudflare.com/ajax/libs/mathjax/2.7.5/MathJax.js?config=TeX-AMS-MML_SVG\"></script><script type=\"text/javascript\">if (window.MathJax && window.MathJax.Hub && window.MathJax.Hub.Config) {window.MathJax.Hub.Config({SVG: {font: \"STIX-Web\"}});}</script>                <script type=\"text/javascript\">window.PlotlyConfig = {MathJaxConfig: 'local'};</script>\n",
              "        <script charset=\"utf-8\" src=\"https://cdn.plot.ly/plotly-2.24.1.min.js\"></script>                <div id=\"96b57a7a-0464-45be-ad49-194d50c84876\" class=\"plotly-graph-div\" style=\"height:525px; width:100%;\"></div>            <script type=\"text/javascript\">                                    window.PLOTLYENV=window.PLOTLYENV || {};                                    if (document.getElementById(\"96b57a7a-0464-45be-ad49-194d50c84876\")) {                    Plotly.newPlot(                        \"96b57a7a-0464-45be-ad49-194d50c84876\",                        [{\"mode\":\"lines\",\"name\":\"FTSE100 Line\",\"x\":[\"2024-09-05T08:00:00+01:00\",\"2024-09-05T08:01:00+01:00\",\"2024-09-05T08:02:00+01:00\",\"2024-09-05T08:03:00+01:00\",\"2024-09-05T08:04:00+01:00\",\"2024-09-05T08:05:00+01:00\",\"2024-09-05T08:06:00+01:00\",\"2024-09-05T08:07:00+01:00\",\"2024-09-05T08:08:00+01:00\",\"2024-09-05T08:09:00+01:00\",\"2024-09-05T08:10:00+01:00\",\"2024-09-05T08:11:00+01:00\",\"2024-09-05T08:12:00+01:00\",\"2024-09-05T08:13:00+01:00\",\"2024-09-05T08:14:00+01:00\",\"2024-09-05T08:15:00+01:00\",\"2024-09-05T08:16:00+01:00\",\"2024-09-05T08:17:00+01:00\",\"2024-09-05T08:18:00+01:00\",\"2024-09-05T08:19:00+01:00\",\"2024-09-05T08:20:00+01:00\",\"2024-09-05T08:21:00+01:00\",\"2024-09-05T08:22:00+01:00\",\"2024-09-05T08:23:00+01:00\",\"2024-09-05T08:24:00+01:00\",\"2024-09-05T08:25:00+01:00\",\"2024-09-05T08:26:00+01:00\",\"2024-09-05T08:27:00+01:00\",\"2024-09-05T08:28:00+01:00\",\"2024-09-05T08:29:00+01:00\",\"2024-09-05T08:30:00+01:00\",\"2024-09-05T08:31:00+01:00\",\"2024-09-05T08:32:00+01:00\",\"2024-09-05T08:33:00+01:00\",\"2024-09-05T08:34:00+01:00\",\"2024-09-05T08:35:00+01:00\",\"2024-09-05T08:36:00+01:00\",\"2024-09-05T08:37:00+01:00\",\"2024-09-05T08:38:00+01:00\",\"2024-09-05T08:39:00+01:00\",\"2024-09-05T08:40:00+01:00\",\"2024-09-05T08:41:00+01:00\",\"2024-09-05T08:42:00+01:00\",\"2024-09-05T08:43:00+01:00\",\"2024-09-05T08:44:00+01:00\",\"2024-09-05T08:45:00+01:00\",\"2024-09-05T08:46:00+01:00\",\"2024-09-05T08:47:00+01:00\",\"2024-09-05T08:48:00+01:00\",\"2024-09-05T08:49:00+01:00\",\"2024-09-05T08:50:00+01:00\",\"2024-09-05T08:51:00+01:00\",\"2024-09-05T08:52:00+01:00\",\"2024-09-05T08:53:00+01:00\",\"2024-09-05T08:54:00+01:00\",\"2024-09-05T08:55:00+01:00\",\"2024-09-05T08:56:00+01:00\",\"2024-09-05T08:57:00+01:00\",\"2024-09-05T08:58:00+01:00\",\"2024-09-05T08:59:00+01:00\",\"2024-09-05T09:00:00+01:00\",\"2024-09-05T09:01:00+01:00\",\"2024-09-05T09:02:00+01:00\",\"2024-09-05T09:03:00+01:00\",\"2024-09-05T09:04:00+01:00\",\"2024-09-05T09:05:00+01:00\",\"2024-09-05T09:06:00+01:00\",\"2024-09-05T09:07:00+01:00\",\"2024-09-05T09:08:00+01:00\",\"2024-09-05T09:09:00+01:00\",\"2024-09-05T09:10:00+01:00\",\"2024-09-05T09:11:00+01:00\",\"2024-09-05T09:12:00+01:00\",\"2024-09-05T09:13:00+01:00\",\"2024-09-05T09:14:00+01:00\",\"2024-09-05T09:15:00+01:00\",\"2024-09-05T09:16:00+01:00\",\"2024-09-05T09:17:00+01:00\",\"2024-09-05T09:18:00+01:00\",\"2024-09-05T09:19:00+01:00\",\"2024-09-05T09:20:00+01:00\",\"2024-09-05T09:21:00+01:00\",\"2024-09-05T09:22:00+01:00\",\"2024-09-05T09:23:00+01:00\",\"2024-09-05T09:24:00+01:00\",\"2024-09-05T09:25:00+01:00\",\"2024-09-05T09:26:00+01:00\",\"2024-09-05T09:27:00+01:00\",\"2024-09-05T09:28:00+01:00\",\"2024-09-05T09:29:00+01:00\",\"2024-09-05T09:30:00+01:00\",\"2024-09-05T09:31:00+01:00\",\"2024-09-05T09:32:00+01:00\",\"2024-09-05T09:33:00+01:00\",\"2024-09-05T09:34:00+01:00\",\"2024-09-05T09:35:00+01:00\",\"2024-09-05T09:36:00+01:00\",\"2024-09-05T09:37:00+01:00\",\"2024-09-05T09:38:00+01:00\",\"2024-09-05T09:39:00+01:00\",\"2024-09-05T09:40:00+01:00\",\"2024-09-05T09:41:00+01:00\",\"2024-09-05T09:42:00+01:00\",\"2024-09-05T09:43:00+01:00\",\"2024-09-05T09:44:00+01:00\",\"2024-09-05T09:45:00+01:00\",\"2024-09-05T09:46:00+01:00\",\"2024-09-05T09:47:00+01:00\",\"2024-09-05T09:48:00+01:00\",\"2024-09-05T09:49:00+01:00\",\"2024-09-05T09:50:00+01:00\",\"2024-09-05T09:51:00+01:00\",\"2024-09-05T09:52:00+01:00\",\"2024-09-05T09:53:00+01:00\",\"2024-09-05T09:54:00+01:00\",\"2024-09-05T09:55:00+01:00\",\"2024-09-05T09:56:00+01:00\",\"2024-09-05T09:57:00+01:00\",\"2024-09-05T09:58:00+01:00\",\"2024-09-05T09:59:00+01:00\",\"2024-09-05T10:00:00+01:00\",\"2024-09-05T10:01:00+01:00\",\"2024-09-05T10:02:00+01:00\",\"2024-09-05T10:03:00+01:00\",\"2024-09-05T10:04:00+01:00\",\"2024-09-05T10:05:00+01:00\",\"2024-09-05T10:06:00+01:00\",\"2024-09-05T10:07:00+01:00\",\"2024-09-05T10:08:00+01:00\",\"2024-09-05T10:09:00+01:00\",\"2024-09-05T10:10:00+01:00\",\"2024-09-05T10:11:00+01:00\",\"2024-09-05T10:12:00+01:00\",\"2024-09-05T10:13:00+01:00\",\"2024-09-05T10:14:00+01:00\",\"2024-09-05T10:15:00+01:00\",\"2024-09-05T10:16:00+01:00\",\"2024-09-05T10:17:00+01:00\",\"2024-09-05T10:18:00+01:00\",\"2024-09-05T10:19:00+01:00\",\"2024-09-05T10:20:00+01:00\",\"2024-09-05T10:21:00+01:00\",\"2024-09-05T10:22:00+01:00\",\"2024-09-05T10:23:00+01:00\",\"2024-09-05T10:24:00+01:00\",\"2024-09-05T10:25:00+01:00\",\"2024-09-05T10:26:00+01:00\",\"2024-09-05T10:27:00+01:00\",\"2024-09-05T10:28:00+01:00\",\"2024-09-05T10:29:00+01:00\",\"2024-09-05T10:30:00+01:00\",\"2024-09-05T10:31:00+01:00\",\"2024-09-05T10:32:00+01:00\",\"2024-09-05T10:33:00+01:00\",\"2024-09-05T10:34:00+01:00\",\"2024-09-05T10:35:00+01:00\",\"2024-09-05T10:36:00+01:00\",\"2024-09-05T10:37:00+01:00\",\"2024-09-05T10:38:00+01:00\",\"2024-09-05T10:39:00+01:00\",\"2024-09-05T10:40:00+01:00\",\"2024-09-05T10:41:00+01:00\",\"2024-09-05T10:42:00+01:00\",\"2024-09-05T10:43:00+01:00\",\"2024-09-05T10:44:00+01:00\",\"2024-09-05T10:45:00+01:00\",\"2024-09-05T10:46:00+01:00\",\"2024-09-05T10:47:00+01:00\",\"2024-09-05T10:48:00+01:00\",\"2024-09-05T10:49:00+01:00\",\"2024-09-05T10:50:00+01:00\",\"2024-09-05T10:51:00+01:00\",\"2024-09-05T10:52:00+01:00\",\"2024-09-05T10:53:00+01:00\",\"2024-09-05T10:54:00+01:00\",\"2024-09-05T10:55:00+01:00\",\"2024-09-05T10:56:00+01:00\",\"2024-09-05T10:57:00+01:00\",\"2024-09-05T10:58:00+01:00\",\"2024-09-05T10:59:00+01:00\",\"2024-09-05T11:00:00+01:00\",\"2024-09-05T11:01:00+01:00\",\"2024-09-05T11:02:00+01:00\",\"2024-09-05T11:03:00+01:00\",\"2024-09-05T11:04:00+01:00\",\"2024-09-05T11:05:00+01:00\",\"2024-09-05T11:06:00+01:00\",\"2024-09-05T11:07:00+01:00\",\"2024-09-05T11:08:00+01:00\",\"2024-09-05T11:09:00+01:00\",\"2024-09-05T11:10:00+01:00\",\"2024-09-05T11:11:00+01:00\",\"2024-09-05T11:12:00+01:00\",\"2024-09-05T11:13:00+01:00\",\"2024-09-05T11:14:00+01:00\",\"2024-09-05T11:15:00+01:00\",\"2024-09-05T11:16:00+01:00\",\"2024-09-05T11:17:00+01:00\",\"2024-09-05T11:18:00+01:00\",\"2024-09-05T11:19:00+01:00\",\"2024-09-05T11:20:00+01:00\",\"2024-09-05T11:21:00+01:00\",\"2024-09-05T11:22:00+01:00\",\"2024-09-05T11:23:00+01:00\",\"2024-09-05T11:24:00+01:00\",\"2024-09-05T11:25:00+01:00\",\"2024-09-05T11:26:00+01:00\",\"2024-09-05T11:27:00+01:00\",\"2024-09-05T11:28:00+01:00\",\"2024-09-05T11:29:00+01:00\",\"2024-09-05T11:30:00+01:00\",\"2024-09-05T11:31:00+01:00\",\"2024-09-05T11:32:00+01:00\",\"2024-09-05T11:33:00+01:00\",\"2024-09-05T11:34:00+01:00\",\"2024-09-05T11:35:00+01:00\",\"2024-09-05T11:36:00+01:00\",\"2024-09-05T11:37:00+01:00\",\"2024-09-05T11:38:00+01:00\",\"2024-09-05T11:39:00+01:00\",\"2024-09-05T11:40:00+01:00\",\"2024-09-05T11:41:00+01:00\",\"2024-09-05T11:42:00+01:00\",\"2024-09-05T11:43:00+01:00\",\"2024-09-05T11:44:00+01:00\",\"2024-09-05T11:45:00+01:00\",\"2024-09-05T11:46:00+01:00\",\"2024-09-05T11:47:00+01:00\",\"2024-09-05T11:48:00+01:00\",\"2024-09-05T11:49:00+01:00\",\"2024-09-05T11:50:00+01:00\",\"2024-09-05T11:51:00+01:00\",\"2024-09-05T11:52:00+01:00\",\"2024-09-05T11:53:00+01:00\",\"2024-09-05T11:54:00+01:00\",\"2024-09-05T11:55:00+01:00\",\"2024-09-05T11:56:00+01:00\",\"2024-09-05T11:57:00+01:00\",\"2024-09-05T11:58:00+01:00\",\"2024-09-05T11:59:00+01:00\",\"2024-09-05T12:00:00+01:00\",\"2024-09-05T12:01:00+01:00\",\"2024-09-05T12:02:00+01:00\",\"2024-09-05T12:03:00+01:00\",\"2024-09-05T12:04:00+01:00\",\"2024-09-05T12:05:00+01:00\",\"2024-09-05T12:06:00+01:00\",\"2024-09-05T12:07:00+01:00\",\"2024-09-05T12:08:00+01:00\",\"2024-09-05T12:09:00+01:00\",\"2024-09-05T12:10:00+01:00\",\"2024-09-05T12:11:00+01:00\",\"2024-09-05T12:12:00+01:00\",\"2024-09-05T12:13:00+01:00\",\"2024-09-05T12:14:00+01:00\",\"2024-09-05T12:15:00+01:00\",\"2024-09-05T12:16:00+01:00\",\"2024-09-05T12:17:00+01:00\",\"2024-09-05T12:18:00+01:00\",\"2024-09-05T12:19:00+01:00\",\"2024-09-05T12:20:00+01:00\",\"2024-09-05T12:21:00+01:00\",\"2024-09-05T12:22:00+01:00\",\"2024-09-05T12:23:00+01:00\",\"2024-09-05T12:24:00+01:00\",\"2024-09-05T12:25:00+01:00\",\"2024-09-05T12:26:00+01:00\",\"2024-09-05T12:27:00+01:00\",\"2024-09-05T12:28:00+01:00\",\"2024-09-05T12:29:00+01:00\",\"2024-09-05T12:30:00+01:00\",\"2024-09-05T12:31:00+01:00\",\"2024-09-05T12:32:00+01:00\",\"2024-09-05T12:33:00+01:00\",\"2024-09-05T12:34:00+01:00\",\"2024-09-05T12:35:00+01:00\",\"2024-09-05T12:36:00+01:00\",\"2024-09-05T12:37:00+01:00\",\"2024-09-05T12:38:00+01:00\",\"2024-09-05T12:39:00+01:00\",\"2024-09-05T12:40:00+01:00\",\"2024-09-05T12:41:00+01:00\",\"2024-09-05T12:42:00+01:00\",\"2024-09-05T12:43:00+01:00\",\"2024-09-05T12:44:00+01:00\",\"2024-09-05T12:45:00+01:00\",\"2024-09-05T12:46:00+01:00\",\"2024-09-05T12:47:00+01:00\",\"2024-09-05T12:48:00+01:00\",\"2024-09-05T12:49:00+01:00\",\"2024-09-05T12:50:00+01:00\",\"2024-09-05T12:51:00+01:00\",\"2024-09-05T12:52:00+01:00\",\"2024-09-05T12:53:00+01:00\",\"2024-09-05T12:54:00+01:00\",\"2024-09-05T12:55:00+01:00\",\"2024-09-05T12:56:00+01:00\",\"2024-09-05T12:57:00+01:00\",\"2024-09-05T12:58:00+01:00\",\"2024-09-05T12:59:00+01:00\",\"2024-09-05T13:00:00+01:00\",\"2024-09-05T13:01:00+01:00\",\"2024-09-05T13:02:00+01:00\",\"2024-09-05T13:03:00+01:00\",\"2024-09-05T13:04:00+01:00\",\"2024-09-05T13:05:00+01:00\",\"2024-09-05T13:06:00+01:00\",\"2024-09-05T13:07:00+01:00\",\"2024-09-05T13:08:00+01:00\",\"2024-09-05T13:09:00+01:00\",\"2024-09-05T13:10:00+01:00\",\"2024-09-05T13:11:00+01:00\",\"2024-09-05T13:12:00+01:00\",\"2024-09-05T13:13:00+01:00\",\"2024-09-05T13:14:00+01:00\",\"2024-09-05T13:15:00+01:00\",\"2024-09-05T13:16:00+01:00\",\"2024-09-05T13:17:00+01:00\",\"2024-09-05T13:18:00+01:00\",\"2024-09-05T13:19:00+01:00\",\"2024-09-05T13:20:00+01:00\",\"2024-09-05T13:21:00+01:00\",\"2024-09-05T13:22:00+01:00\",\"2024-09-05T13:23:00+01:00\",\"2024-09-05T13:24:00+01:00\",\"2024-09-05T13:25:00+01:00\",\"2024-09-05T13:26:00+01:00\",\"2024-09-05T13:27:00+01:00\",\"2024-09-05T13:28:00+01:00\",\"2024-09-05T13:29:00+01:00\",\"2024-09-05T13:30:00+01:00\",\"2024-09-05T13:31:00+01:00\",\"2024-09-05T13:32:00+01:00\",\"2024-09-05T13:33:00+01:00\",\"2024-09-05T13:34:00+01:00\",\"2024-09-05T13:35:00+01:00\",\"2024-09-05T13:36:00+01:00\",\"2024-09-05T13:37:00+01:00\",\"2024-09-05T13:38:00+01:00\",\"2024-09-05T13:39:00+01:00\",\"2024-09-05T13:40:00+01:00\",\"2024-09-05T13:41:00+01:00\",\"2024-09-05T13:42:00+01:00\",\"2024-09-05T13:43:00+01:00\",\"2024-09-05T13:44:00+01:00\",\"2024-09-05T13:45:00+01:00\",\"2024-09-05T13:46:00+01:00\",\"2024-09-05T13:47:00+01:00\",\"2024-09-05T13:48:00+01:00\",\"2024-09-05T13:49:00+01:00\",\"2024-09-05T13:50:00+01:00\",\"2024-09-05T13:51:00+01:00\",\"2024-09-05T13:52:00+01:00\",\"2024-09-05T13:53:00+01:00\",\"2024-09-05T13:54:00+01:00\",\"2024-09-05T13:55:00+01:00\",\"2024-09-05T13:56:00+01:00\",\"2024-09-05T13:57:00+01:00\",\"2024-09-05T13:58:00+01:00\",\"2024-09-05T13:59:00+01:00\",\"2024-09-05T14:00:00+01:00\",\"2024-09-05T14:01:00+01:00\",\"2024-09-05T14:02:00+01:00\",\"2024-09-05T14:03:00+01:00\",\"2024-09-05T14:04:00+01:00\",\"2024-09-05T14:05:00+01:00\",\"2024-09-05T14:06:00+01:00\",\"2024-09-05T14:07:00+01:00\",\"2024-09-05T14:08:00+01:00\",\"2024-09-05T14:09:00+01:00\",\"2024-09-05T14:10:00+01:00\",\"2024-09-05T14:11:00+01:00\",\"2024-09-05T14:12:00+01:00\",\"2024-09-05T14:13:00+01:00\",\"2024-09-05T14:14:00+01:00\",\"2024-09-05T14:15:00+01:00\",\"2024-09-05T14:16:00+01:00\",\"2024-09-05T14:17:00+01:00\",\"2024-09-05T14:18:00+01:00\",\"2024-09-05T14:19:00+01:00\",\"2024-09-05T14:20:00+01:00\",\"2024-09-05T14:21:00+01:00\",\"2024-09-05T14:22:00+01:00\",\"2024-09-05T14:23:00+01:00\",\"2024-09-05T14:24:00+01:00\",\"2024-09-05T14:25:00+01:00\",\"2024-09-05T14:26:00+01:00\",\"2024-09-05T14:27:00+01:00\",\"2024-09-05T14:28:00+01:00\",\"2024-09-05T14:29:00+01:00\",\"2024-09-05T14:30:00+01:00\",\"2024-09-05T14:31:00+01:00\",\"2024-09-05T14:32:00+01:00\",\"2024-09-05T14:33:00+01:00\",\"2024-09-05T14:34:00+01:00\",\"2024-09-05T14:35:00+01:00\",\"2024-09-05T14:36:00+01:00\",\"2024-09-05T14:37:00+01:00\",\"2024-09-05T14:38:00+01:00\",\"2024-09-05T14:39:00+01:00\",\"2024-09-05T14:40:00+01:00\",\"2024-09-05T14:41:00+01:00\",\"2024-09-05T14:42:00+01:00\",\"2024-09-05T14:43:00+01:00\",\"2024-09-05T14:44:00+01:00\",\"2024-09-05T14:45:00+01:00\",\"2024-09-05T14:46:00+01:00\",\"2024-09-05T14:47:00+01:00\",\"2024-09-05T14:48:00+01:00\",\"2024-09-05T14:49:00+01:00\",\"2024-09-05T14:50:00+01:00\",\"2024-09-05T14:51:00+01:00\",\"2024-09-05T14:52:00+01:00\",\"2024-09-05T14:53:00+01:00\",\"2024-09-05T14:54:00+01:00\",\"2024-09-05T14:55:00+01:00\",\"2024-09-05T14:56:00+01:00\",\"2024-09-05T14:57:00+01:00\",\"2024-09-05T14:58:00+01:00\",\"2024-09-05T14:59:00+01:00\",\"2024-09-05T15:00:00+01:00\",\"2024-09-05T15:01:00+01:00\",\"2024-09-05T15:02:00+01:00\",\"2024-09-05T15:03:00+01:00\",\"2024-09-05T15:04:00+01:00\",\"2024-09-05T15:05:00+01:00\",\"2024-09-05T15:06:00+01:00\",\"2024-09-05T15:07:00+01:00\",\"2024-09-05T15:08:00+01:00\",\"2024-09-05T15:09:00+01:00\",\"2024-09-05T15:10:00+01:00\",\"2024-09-05T15:11:00+01:00\",\"2024-09-05T15:12:00+01:00\",\"2024-09-05T15:13:00+01:00\",\"2024-09-05T15:14:00+01:00\",\"2024-09-05T15:15:00+01:00\",\"2024-09-05T15:16:00+01:00\",\"2024-09-05T15:17:00+01:00\",\"2024-09-05T15:18:00+01:00\",\"2024-09-05T15:19:00+01:00\",\"2024-09-05T15:20:00+01:00\",\"2024-09-05T15:21:00+01:00\",\"2024-09-05T15:22:00+01:00\",\"2024-09-05T15:24:00+01:00\",\"2024-09-05T15:25:00+01:00\",\"2024-09-05T15:26:00+01:00\",\"2024-09-05T15:27:00+01:00\",\"2024-09-05T15:28:00+01:00\",\"2024-09-05T15:29:00+01:00\",\"2024-09-05T15:30:00+01:00\",\"2024-09-05T15:31:00+01:00\",\"2024-09-05T15:32:00+01:00\",\"2024-09-05T15:33:00+01:00\",\"2024-09-05T15:34:00+01:00\",\"2024-09-05T15:35:00+01:00\",\"2024-09-05T15:36:00+01:00\",\"2024-09-05T15:37:00+01:00\",\"2024-09-05T15:38:00+01:00\",\"2024-09-05T15:39:00+01:00\",\"2024-09-05T15:40:00+01:00\",\"2024-09-05T15:41:00+01:00\",\"2024-09-05T15:42:00+01:00\",\"2024-09-05T15:43:00+01:00\",\"2024-09-05T15:44:00+01:00\",\"2024-09-05T15:45:00+01:00\",\"2024-09-05T15:46:00+01:00\",\"2024-09-05T15:47:00+01:00\",\"2024-09-05T15:48:00+01:00\",\"2024-09-05T15:49:00+01:00\",\"2024-09-05T15:50:00+01:00\",\"2024-09-05T15:51:00+01:00\",\"2024-09-05T15:52:00+01:00\",\"2024-09-05T15:53:00+01:00\",\"2024-09-05T15:54:00+01:00\",\"2024-09-05T15:55:00+01:00\",\"2024-09-05T15:56:00+01:00\",\"2024-09-05T15:57:00+01:00\",\"2024-09-05T15:58:00+01:00\",\"2024-09-05T15:59:00+01:00\",\"2024-09-05T16:00:00+01:00\",\"2024-09-05T16:01:00+01:00\",\"2024-09-05T16:02:00+01:00\",\"2024-09-05T16:03:00+01:00\",\"2024-09-05T16:04:00+01:00\",\"2024-09-05T16:05:00+01:00\",\"2024-09-05T16:06:00+01:00\",\"2024-09-05T16:07:00+01:00\",\"2024-09-05T16:08:00+01:00\",\"2024-09-05T16:09:00+01:00\",\"2024-09-05T16:10:00+01:00\",\"2024-09-05T16:11:00+01:00\",\"2024-09-05T16:12:00+01:00\",\"2024-09-05T16:13:00+01:00\",\"2024-09-05T16:14:00+01:00\",\"2024-09-05T16:15:00+01:00\",\"2024-09-05T16:16:00+01:00\",\"2024-09-05T16:17:00+01:00\",\"2024-09-05T16:18:00+01:00\",\"2024-09-05T16:19:00+01:00\",\"2024-09-05T16:20:00+01:00\",\"2024-09-05T16:21:00+01:00\",\"2024-09-05T16:22:00+01:00\",\"2024-09-05T16:23:00+01:00\",\"2024-09-05T16:24:00+01:00\",\"2024-09-05T16:25:00+01:00\",\"2024-09-05T16:26:00+01:00\",\"2024-09-05T16:27:00+01:00\",\"2024-09-05T16:28:00+01:00\",\"2024-09-05T16:29:00+01:00\"],\"y\":[8244.98046875,8254.2001953125,8253.83984375,8255.75,8257.2998046875,8254.8701171875,8257.75,8251.0400390625,8263.41015625,8262.66015625,8267.9296875,8272.0498046875,8266.900390625,8266.5,8268.3603515625,8271.759765625,8272.349609375,8271.169921875,8270.23046875,8271.599609375,8273.5302734375,8272.0400390625,8272.0302734375,8273.3603515625,8272.76953125,8270.759765625,8272.509765625,8272.51953125,8272.2802734375,8271.849609375,8273.349609375,8274.4501953125,8274.099609375,8273.8701171875,8272.830078125,8270.0,8269.5400390625,8270.16015625,8271.4501953125,8271.5595703125,8269.849609375,8271.6904296875,8272.0400390625,8271.8203125,8273.400390625,8275.400390625,8276.3203125,8276.990234375,8276.8203125,8278.650390625,8278.2998046875,8275.9296875,8276.25,8275.3896484375,8273.3701171875,8275.1298828125,8274.75,8276.5302734375,8279.009765625,8280.2001953125,8280.009765625,8279.5595703125,8279.669921875,8280.9296875,8280.259765625,8280.4697265625,8281.1298828125,8279.1103515625,8277.9501953125,8279.2998046875,8279.5,8280.2099609375,8281.2900390625,8280.8203125,8278.599609375,8279.8701171875,8280.41015625,8280.4697265625,8277.9404296875,8279.2001953125,8278.5703125,8278.5595703125,8277.259765625,8277.6201171875,8278.599609375,8278.080078125,8277.1796875,8278.169921875,8279.580078125,8280.5498046875,8280.3896484375,8279.169921875,8276.990234375,8275.01953125,8274.41015625,8274.8896484375,8277.599609375,8279.73046875,8279.259765625,8280.2998046875,8282.830078125,8284.0498046875,8282.6298828125,8283.2900390625,8281.6396484375,8282.0400390625,8282.1796875,8282.919921875,8284.1201171875,8283.7099609375,8285.1396484375,8284.0703125,8284.150390625,8283.73046875,8283.4296875,8282.7099609375,8280.169921875,8280.6796875,8281.3203125,8281.25,8279.3798828125,8278.650390625,8278.669921875,8278.66015625,8277.8603515625,8276.650390625,8277.990234375,8278.830078125,8276.41015625,8276.25,8275.7998046875,8275.080078125,8275.580078125,8275.26953125,8275.509765625,8276.5498046875,8276.330078125,8276.0,8275.509765625,8275.8203125,8276.650390625,8275.51953125,8273.6396484375,8271.6904296875,8269.900390625,8268.150390625,8268.3798828125,8267.580078125,8265.169921875,8266.4501953125,8267.349609375,8269.150390625,8269.099609375,8268.9697265625,8268.5498046875,8268.5498046875,8268.740234375,8271.080078125,8273.2998046875,8275.830078125,8276.5,8276.3701171875,8277.0703125,8278.6796875,8279.7197265625,8279.4501953125,8279.240234375,8278.009765625,8278.169921875,8279.0703125,8279.58984375,8279.1201171875,8278.4296875,8276.2998046875,8275.759765625,8276.1904296875,8275.6796875,8275.4697265625,8274.66015625,8274.6103515625,8274.33984375,8274.400390625,8274.759765625,8274.6103515625,8275.6904296875,8277.509765625,8277.7998046875,8279.5400390625,8278.669921875,8278.7197265625,8277.5302734375,8276.740234375,8277.150390625,8276.259765625,8276.5595703125,8276.830078125,8275.7001953125,8275.0,8274.48046875,8273.990234375,8272.08984375,8271.099609375,8269.349609375,8268.8896484375,8267.9501953125,8266.599609375,8267.01953125,8266.849609375,8265.5595703125,8264.7998046875,8262.080078125,8260.1298828125,8257.599609375,8258.009765625,8255.7802734375,8254.5400390625,8253.98046875,8256.8603515625,8256.5302734375,8256.08984375,8257.5595703125,8258.1796875,8257.26953125,8257.01953125,8255.0595703125,8256.8701171875,8256.4599609375,8255.8798828125,8255.490234375,8255.3896484375,8255.1103515625,8255.0,8254.5703125,8253.83984375,8253.8701171875,8253.2802734375,8254.4697265625,8255.6796875,8256.9697265625,8257.51953125,8256.3896484375,8260.2099609375,8261.0400390625,8260.5498046875,8262.2900390625,8260.73046875,8260.66015625,8258.8095703125,8257.7197265625,8257.51953125,8256.830078125,8257.169921875,8257.259765625,8259.25,8259.8095703125,8261.41015625,8260.1904296875,8258.830078125,8256.83984375,8255.5,8256.26953125,8257.2802734375,8258.6904296875,8259.9296875,8259.509765625,8257.900390625,8258.23046875,8256.2197265625,8258.1201171875,8259.3896484375,8260.099609375,8261.48046875,8261.48046875,8261.3701171875,8261.7998046875,8262.2998046875,8261.4404296875,8261.0703125,8261.580078125,8262.0400390625,8261.009765625,8260.3203125,8258.3095703125,8258.8798828125,8261.75,8261.8701171875,8262.6796875,8261.330078125,8260.6904296875,8261.08984375,8260.2197265625,8259.3701171875,8258.4697265625,8258.919921875,8258.4501953125,8259.0703125,8257.5703125,8257.8701171875,8257.6904296875,8258.6298828125,8260.8896484375,8261.0703125,8260.650390625,8259.6298828125,8258.51953125,8257.4599609375,8259.0498046875,8257.9404296875,8256.9599609375,8258.099609375,8258.259765625,8258.5703125,8260.2900390625,8262.099609375,8264.33984375,8252.7001953125,8252.7900390625,8251.25,8251.0302734375,8249.6103515625,8249.8095703125,8247.6201171875,8246.6298828125,8246.240234375,8246.9404296875,8247.2900390625,8249.1298828125,8251.419921875,8251.91015625,8252.4296875,8256.5703125,8255.5703125,8257.150390625,8257.080078125,8258.400390625,8260.8798828125,8259.83984375,8255.25,8256.490234375,8256.0595703125,8256.6201171875,8257.919921875,8257.98046875,8259.4404296875,8260.099609375,8259.8798828125,8260.990234375,8265.2197265625,8265.4599609375,8265.25,8265.419921875,8262.599609375,8261.6904296875,8263.1904296875,8262.3095703125,8265.51953125,8267.009765625,8267.099609375,8266.740234375,8265.8203125,8265.7998046875,8267.9404296875,8266.990234375,8268.830078125,8267.740234375,8264.8798828125,8263.9697265625,8265.509765625,8265.169921875,8266.6103515625,8265.169921875,8264.9697265625,8265.1103515625,8264.91015625,8265.0498046875,8265.349609375,8264.2802734375,8263.8896484375,8262.5498046875,8261.8896484375,8261.759765625,8261.5,8263.3798828125,8261.5703125,8262.0,8261.6103515625,8262.6201171875,8262.4404296875,8262.75,8264.9404296875,8267.6904296875,8264.7900390625,8261.7099609375,8261.2001953125,8255.66015625,8256.2802734375,8256.01953125,8256.5703125,8256.6904296875,8258.0400390625,8260.0595703125,8262.419921875,8264.4697265625,8265.0703125,8265.2802734375,8267.2099609375,8263.6103515625,8261.849609375,8262.5,8261.7900390625,8262.2001953125,8262.08984375,8260.4599609375,8259.5703125,8260.5703125,8263.2900390625,8264.0302734375,8262.580078125,8263.7998046875,8265.080078125,8269.5595703125,8270.669921875,8272.169921875,8272.0703125,8272.8203125,8272.830078125,8272.9404296875,8272.1904296875,8273.740234375,8274.169921875,8272.0703125,8267.650390625,8268.1103515625,8268.330078125,8268.3203125,8265.0400390625,8267.16015625,8268.0595703125,8269.7197265625,8269.01953125,8269.33984375,8271.5400390625,8271.76953125,8269.16015625,8269.23046875,8270.849609375,8269.66015625,8269.91015625,8268.009765625,8271.009765625,8272.0498046875,8271.6396484375,8273.3095703125,8274.6796875,8274.8798828125,8275.3798828125,8276.150390625,8277.33984375,8277.2900390625,8274.6796875,8275.0703125,8276.099609375,8278.8701171875,8276.08984375,8273.830078125,8273.2001953125,8271.9404296875,8270.7197265625,8268.4599609375,8265.5400390625,8266.330078125,8265.4501953125,8265.419921875,8265.5703125,8267.08984375,8266.4296875,8267.9599609375,8267.7998046875,8268.8095703125,8268.7001953125,8263.830078125,8265.25,8267.259765625,8268.1298828125,8267.1396484375,8268.1298828125,8265.2197265625,8268.1201171875,8267.419921875,8266.1796875,8266.2900390625,8265.099609375,8260.48046875,8259.2900390625,8259.25,8262.0,8261.9599609375,8261.6796875,8260.5498046875,8261.33984375,8259.4501953125,8260.169921875,8258.8896484375,8257.080078125,8256.6201171875,8256.650390625,8255.9697265625,8254.0400390625,8251.849609375],\"type\":\"scatter\"},{\"mode\":\"markers\",\"name\":\"Predicted LR Price\",\"x\":[\"2024-09-05T16:30:00+01:00\"],\"y\":[8254.212435668456],\"type\":\"scatter\"},{\"mode\":\"markers\",\"name\":\"Predicted LSTM Price\",\"x\":[\"2024-09-05T16:30:00+01:00\"],\"y\":[8259.6767578125],\"type\":\"scatter\"}],                        {\"template\":{\"data\":{\"histogram2dcontour\":[{\"type\":\"histogram2dcontour\",\"colorbar\":{\"outlinewidth\":0,\"ticks\":\"\"},\"colorscale\":[[0.0,\"#0d0887\"],[0.1111111111111111,\"#46039f\"],[0.2222222222222222,\"#7201a8\"],[0.3333333333333333,\"#9c179e\"],[0.4444444444444444,\"#bd3786\"],[0.5555555555555556,\"#d8576b\"],[0.6666666666666666,\"#ed7953\"],[0.7777777777777778,\"#fb9f3a\"],[0.8888888888888888,\"#fdca26\"],[1.0,\"#f0f921\"]]}],\"choropleth\":[{\"type\":\"choropleth\",\"colorbar\":{\"outlinewidth\":0,\"ticks\":\"\"}}],\"histogram2d\":[{\"type\":\"histogram2d\",\"colorbar\":{\"outlinewidth\":0,\"ticks\":\"\"},\"colorscale\":[[0.0,\"#0d0887\"],[0.1111111111111111,\"#46039f\"],[0.2222222222222222,\"#7201a8\"],[0.3333333333333333,\"#9c179e\"],[0.4444444444444444,\"#bd3786\"],[0.5555555555555556,\"#d8576b\"],[0.6666666666666666,\"#ed7953\"],[0.7777777777777778,\"#fb9f3a\"],[0.8888888888888888,\"#fdca26\"],[1.0,\"#f0f921\"]]}],\"heatmap\":[{\"type\":\"heatmap\",\"colorbar\":{\"outlinewidth\":0,\"ticks\":\"\"},\"colorscale\":[[0.0,\"#0d0887\"],[0.1111111111111111,\"#46039f\"],[0.2222222222222222,\"#7201a8\"],[0.3333333333333333,\"#9c179e\"],[0.4444444444444444,\"#bd3786\"],[0.5555555555555556,\"#d8576b\"],[0.6666666666666666,\"#ed7953\"],[0.7777777777777778,\"#fb9f3a\"],[0.8888888888888888,\"#fdca26\"],[1.0,\"#f0f921\"]]}],\"heatmapgl\":[{\"type\":\"heatmapgl\",\"colorbar\":{\"outlinewidth\":0,\"ticks\":\"\"},\"colorscale\":[[0.0,\"#0d0887\"],[0.1111111111111111,\"#46039f\"],[0.2222222222222222,\"#7201a8\"],[0.3333333333333333,\"#9c179e\"],[0.4444444444444444,\"#bd3786\"],[0.5555555555555556,\"#d8576b\"],[0.6666666666666666,\"#ed7953\"],[0.7777777777777778,\"#fb9f3a\"],[0.8888888888888888,\"#fdca26\"],[1.0,\"#f0f921\"]]}],\"contourcarpet\":[{\"type\":\"contourcarpet\",\"colorbar\":{\"outlinewidth\":0,\"ticks\":\"\"}}],\"contour\":[{\"type\":\"contour\",\"colorbar\":{\"outlinewidth\":0,\"ticks\":\"\"},\"colorscale\":[[0.0,\"#0d0887\"],[0.1111111111111111,\"#46039f\"],[0.2222222222222222,\"#7201a8\"],[0.3333333333333333,\"#9c179e\"],[0.4444444444444444,\"#bd3786\"],[0.5555555555555556,\"#d8576b\"],[0.6666666666666666,\"#ed7953\"],[0.7777777777777778,\"#fb9f3a\"],[0.8888888888888888,\"#fdca26\"],[1.0,\"#f0f921\"]]}],\"surface\":[{\"type\":\"surface\",\"colorbar\":{\"outlinewidth\":0,\"ticks\":\"\"},\"colorscale\":[[0.0,\"#0d0887\"],[0.1111111111111111,\"#46039f\"],[0.2222222222222222,\"#7201a8\"],[0.3333333333333333,\"#9c179e\"],[0.4444444444444444,\"#bd3786\"],[0.5555555555555556,\"#d8576b\"],[0.6666666666666666,\"#ed7953\"],[0.7777777777777778,\"#fb9f3a\"],[0.8888888888888888,\"#fdca26\"],[1.0,\"#f0f921\"]]}],\"mesh3d\":[{\"type\":\"mesh3d\",\"colorbar\":{\"outlinewidth\":0,\"ticks\":\"\"}}],\"scatter\":[{\"fillpattern\":{\"fillmode\":\"overlay\",\"size\":10,\"solidity\":0.2},\"type\":\"scatter\"}],\"parcoords\":[{\"type\":\"parcoords\",\"line\":{\"colorbar\":{\"outlinewidth\":0,\"ticks\":\"\"}}}],\"scatterpolargl\":[{\"type\":\"scatterpolargl\",\"marker\":{\"colorbar\":{\"outlinewidth\":0,\"ticks\":\"\"}}}],\"bar\":[{\"error_x\":{\"color\":\"#2a3f5f\"},\"error_y\":{\"color\":\"#2a3f5f\"},\"marker\":{\"line\":{\"color\":\"#E5ECF6\",\"width\":0.5},\"pattern\":{\"fillmode\":\"overlay\",\"size\":10,\"solidity\":0.2}},\"type\":\"bar\"}],\"scattergeo\":[{\"type\":\"scattergeo\",\"marker\":{\"colorbar\":{\"outlinewidth\":0,\"ticks\":\"\"}}}],\"scatterpolar\":[{\"type\":\"scatterpolar\",\"marker\":{\"colorbar\":{\"outlinewidth\":0,\"ticks\":\"\"}}}],\"histogram\":[{\"marker\":{\"pattern\":{\"fillmode\":\"overlay\",\"size\":10,\"solidity\":0.2}},\"type\":\"histogram\"}],\"scattergl\":[{\"type\":\"scattergl\",\"marker\":{\"colorbar\":{\"outlinewidth\":0,\"ticks\":\"\"}}}],\"scatter3d\":[{\"type\":\"scatter3d\",\"line\":{\"colorbar\":{\"outlinewidth\":0,\"ticks\":\"\"}},\"marker\":{\"colorbar\":{\"outlinewidth\":0,\"ticks\":\"\"}}}],\"scattermapbox\":[{\"type\":\"scattermapbox\",\"marker\":{\"colorbar\":{\"outlinewidth\":0,\"ticks\":\"\"}}}],\"scatterternary\":[{\"type\":\"scatterternary\",\"marker\":{\"colorbar\":{\"outlinewidth\":0,\"ticks\":\"\"}}}],\"scattercarpet\":[{\"type\":\"scattercarpet\",\"marker\":{\"colorbar\":{\"outlinewidth\":0,\"ticks\":\"\"}}}],\"carpet\":[{\"aaxis\":{\"endlinecolor\":\"#2a3f5f\",\"gridcolor\":\"white\",\"linecolor\":\"white\",\"minorgridcolor\":\"white\",\"startlinecolor\":\"#2a3f5f\"},\"baxis\":{\"endlinecolor\":\"#2a3f5f\",\"gridcolor\":\"white\",\"linecolor\":\"white\",\"minorgridcolor\":\"white\",\"startlinecolor\":\"#2a3f5f\"},\"type\":\"carpet\"}],\"table\":[{\"cells\":{\"fill\":{\"color\":\"#EBF0F8\"},\"line\":{\"color\":\"white\"}},\"header\":{\"fill\":{\"color\":\"#C8D4E3\"},\"line\":{\"color\":\"white\"}},\"type\":\"table\"}],\"barpolar\":[{\"marker\":{\"line\":{\"color\":\"#E5ECF6\",\"width\":0.5},\"pattern\":{\"fillmode\":\"overlay\",\"size\":10,\"solidity\":0.2}},\"type\":\"barpolar\"}],\"pie\":[{\"automargin\":true,\"type\":\"pie\"}]},\"layout\":{\"autotypenumbers\":\"strict\",\"colorway\":[\"#636efa\",\"#EF553B\",\"#00cc96\",\"#ab63fa\",\"#FFA15A\",\"#19d3f3\",\"#FF6692\",\"#B6E880\",\"#FF97FF\",\"#FECB52\"],\"font\":{\"color\":\"#2a3f5f\"},\"hovermode\":\"closest\",\"hoverlabel\":{\"align\":\"left\"},\"paper_bgcolor\":\"white\",\"plot_bgcolor\":\"#E5ECF6\",\"polar\":{\"bgcolor\":\"#E5ECF6\",\"angularaxis\":{\"gridcolor\":\"white\",\"linecolor\":\"white\",\"ticks\":\"\"},\"radialaxis\":{\"gridcolor\":\"white\",\"linecolor\":\"white\",\"ticks\":\"\"}},\"ternary\":{\"bgcolor\":\"#E5ECF6\",\"aaxis\":{\"gridcolor\":\"white\",\"linecolor\":\"white\",\"ticks\":\"\"},\"baxis\":{\"gridcolor\":\"white\",\"linecolor\":\"white\",\"ticks\":\"\"},\"caxis\":{\"gridcolor\":\"white\",\"linecolor\":\"white\",\"ticks\":\"\"}},\"coloraxis\":{\"colorbar\":{\"outlinewidth\":0,\"ticks\":\"\"}},\"colorscale\":{\"sequential\":[[0.0,\"#0d0887\"],[0.1111111111111111,\"#46039f\"],[0.2222222222222222,\"#7201a8\"],[0.3333333333333333,\"#9c179e\"],[0.4444444444444444,\"#bd3786\"],[0.5555555555555556,\"#d8576b\"],[0.6666666666666666,\"#ed7953\"],[0.7777777777777778,\"#fb9f3a\"],[0.8888888888888888,\"#fdca26\"],[1.0,\"#f0f921\"]],\"sequentialminus\":[[0.0,\"#0d0887\"],[0.1111111111111111,\"#46039f\"],[0.2222222222222222,\"#7201a8\"],[0.3333333333333333,\"#9c179e\"],[0.4444444444444444,\"#bd3786\"],[0.5555555555555556,\"#d8576b\"],[0.6666666666666666,\"#ed7953\"],[0.7777777777777778,\"#fb9f3a\"],[0.8888888888888888,\"#fdca26\"],[1.0,\"#f0f921\"]],\"diverging\":[[0,\"#8e0152\"],[0.1,\"#c51b7d\"],[0.2,\"#de77ae\"],[0.3,\"#f1b6da\"],[0.4,\"#fde0ef\"],[0.5,\"#f7f7f7\"],[0.6,\"#e6f5d0\"],[0.7,\"#b8e186\"],[0.8,\"#7fbc41\"],[0.9,\"#4d9221\"],[1,\"#276419\"]]},\"xaxis\":{\"gridcolor\":\"white\",\"linecolor\":\"white\",\"ticks\":\"\",\"title\":{\"standoff\":15},\"zerolinecolor\":\"white\",\"automargin\":true,\"zerolinewidth\":2},\"yaxis\":{\"gridcolor\":\"white\",\"linecolor\":\"white\",\"ticks\":\"\",\"title\":{\"standoff\":15},\"zerolinecolor\":\"white\",\"automargin\":true,\"zerolinewidth\":2},\"scene\":{\"xaxis\":{\"backgroundcolor\":\"#E5ECF6\",\"gridcolor\":\"white\",\"linecolor\":\"white\",\"showbackground\":true,\"ticks\":\"\",\"zerolinecolor\":\"white\",\"gridwidth\":2},\"yaxis\":{\"backgroundcolor\":\"#E5ECF6\",\"gridcolor\":\"white\",\"linecolor\":\"white\",\"showbackground\":true,\"ticks\":\"\",\"zerolinecolor\":\"white\",\"gridwidth\":2},\"zaxis\":{\"backgroundcolor\":\"#E5ECF6\",\"gridcolor\":\"white\",\"linecolor\":\"white\",\"showbackground\":true,\"ticks\":\"\",\"zerolinecolor\":\"white\",\"gridwidth\":2}},\"shapedefaults\":{\"line\":{\"color\":\"#2a3f5f\"}},\"annotationdefaults\":{\"arrowcolor\":\"#2a3f5f\",\"arrowhead\":0,\"arrowwidth\":1},\"geo\":{\"bgcolor\":\"white\",\"landcolor\":\"#E5ECF6\",\"subunitcolor\":\"white\",\"showland\":true,\"showlakes\":true,\"lakecolor\":\"white\"},\"title\":{\"x\":0.05},\"mapbox\":{\"style\":\"light\"}}},\"title\":{\"text\":\"FTSE100 Index - Line Chart with Predicted Price\"},\"xaxis\":{\"title\":{\"text\":\"Time\"}},\"yaxis\":{\"title\":{\"text\":\"Price\"}}},                        {\"responsive\": true}                    ).then(function(){\n",
              "                            \n",
              "var gd = document.getElementById('96b57a7a-0464-45be-ad49-194d50c84876');\n",
              "var x = new MutationObserver(function (mutations, observer) {{\n",
              "        var display = window.getComputedStyle(gd).display;\n",
              "        if (!display || display === 'none') {{\n",
              "            console.log([gd, 'removed!']);\n",
              "            Plotly.purge(gd);\n",
              "            observer.disconnect();\n",
              "        }}\n",
              "}});\n",
              "\n",
              "// Listen for the removal of the full notebook cells\n",
              "var notebookContainer = gd.closest('#notebook-container');\n",
              "if (notebookContainer) {{\n",
              "    x.observe(notebookContainer, {childList: true});\n",
              "}}\n",
              "\n",
              "// Listen for the clearing of the current output cell\n",
              "var outputEl = gd.closest('.output');\n",
              "if (outputEl) {{\n",
              "    x.observe(outputEl, {childList: true});\n",
              "}}\n",
              "\n",
              "                        })                };                            </script>        </div>\n",
              "</body>\n",
              "</html>"
            ]
          },
          "metadata": {}
        }
      ]
    },
    {
      "cell_type": "markdown",
      "source": [
        "**One of the key blessings of the candlestick chart is its capability to deliver market sentiment through coloration-coded candles—green for bullish and red for bearish. This visible differentiation permits shoppers to briefly gauge the prevailing marketplace sentiment**"
      ],
      "metadata": {
        "id": "Vn4cMWCfplwe"
      }
    },
    {
      "cell_type": "markdown",
      "source": [
        "*Candlestick Chart*"
      ],
      "metadata": {
        "id": "1MY3FMtPPvNo"
      }
    },
    {
      "cell_type": "code",
      "source": [
        "candle_fig = go.Figure()\n",
        "candle_fig.add_trace(go.Candlestick(x=data.index, open=data['Open'], high=data['High'], low=data['Low'], close=data['Close'], name='FTSE100 Candlestick'))\n",
        "candle_fig.update_layout(title='FTSE100 Index - Candlestick Chart', xaxis_title='Time', yaxis_title='Price')\n",
        "candle_fig.show()\n",
        "# Suppress all warnings\n",
        "warnings.filterwarnings(\"ignore\")"
      ],
      "metadata": {
        "colab": {
          "base_uri": "https://localhost:8080/",
          "height": 542
        },
        "id": "rGvkbur1PNZ_",
        "outputId": "fc491fe6-8e09-4b8f-82c8-d529480b786c"
      },
      "execution_count": 15,
      "outputs": [
        {
          "output_type": "display_data",
          "data": {
            "text/html": [
              "<html>\n",
              "<head><meta charset=\"utf-8\" /></head>\n",
              "<body>\n",
              "    <div>            <script src=\"https://cdnjs.cloudflare.com/ajax/libs/mathjax/2.7.5/MathJax.js?config=TeX-AMS-MML_SVG\"></script><script type=\"text/javascript\">if (window.MathJax && window.MathJax.Hub && window.MathJax.Hub.Config) {window.MathJax.Hub.Config({SVG: {font: \"STIX-Web\"}});}</script>                <script type=\"text/javascript\">window.PlotlyConfig = {MathJaxConfig: 'local'};</script>\n",
              "        <script charset=\"utf-8\" src=\"https://cdn.plot.ly/plotly-2.24.1.min.js\"></script>                <div id=\"3ec8dc25-2178-48e4-bd66-175829127dd5\" class=\"plotly-graph-div\" style=\"height:525px; width:100%;\"></div>            <script type=\"text/javascript\">                                    window.PLOTLYENV=window.PLOTLYENV || {};                                    if (document.getElementById(\"3ec8dc25-2178-48e4-bd66-175829127dd5\")) {                    Plotly.newPlot(                        \"3ec8dc25-2178-48e4-bd66-175829127dd5\",                        [{\"close\":[8271.599609375,8273.5302734375,8272.0400390625,8272.0302734375,8273.3603515625,8272.76953125,8270.759765625,8272.509765625,8272.51953125,8272.2802734375,8271.849609375,8273.349609375,8274.4501953125,8274.099609375,8273.8701171875,8272.830078125,8270.0,8269.5400390625,8270.16015625,8271.4501953125,8271.5595703125,8269.849609375,8271.6904296875,8272.0400390625,8271.8203125,8273.400390625,8275.400390625,8276.3203125,8276.990234375,8276.8203125,8278.650390625,8278.2998046875,8275.9296875,8276.25,8275.3896484375,8273.3701171875,8275.1298828125,8274.75,8276.5302734375,8279.009765625,8280.2001953125,8280.009765625,8279.5595703125,8279.669921875,8280.9296875,8280.259765625,8280.4697265625,8281.1298828125,8279.1103515625,8277.9501953125,8279.2998046875,8279.5,8280.2099609375,8281.2900390625,8280.8203125,8278.599609375,8279.8701171875,8280.41015625,8280.4697265625,8277.9404296875,8279.2001953125,8278.5703125,8278.5595703125,8277.259765625,8277.6201171875,8278.599609375,8278.080078125,8277.1796875,8278.169921875,8279.580078125,8280.5498046875,8280.3896484375,8279.169921875,8276.990234375,8275.01953125,8274.41015625,8274.8896484375,8277.599609375,8279.73046875,8279.259765625,8280.2998046875,8282.830078125,8284.0498046875,8282.6298828125,8283.2900390625,8281.6396484375,8282.0400390625,8282.1796875,8282.919921875,8284.1201171875,8283.7099609375,8285.1396484375,8284.0703125,8284.150390625,8283.73046875,8283.4296875,8282.7099609375,8280.169921875,8280.6796875,8281.3203125,8281.25,8279.3798828125,8278.650390625,8278.669921875,8278.66015625,8277.8603515625,8276.650390625,8277.990234375,8278.830078125,8276.41015625,8276.25,8275.7998046875,8275.080078125,8275.580078125,8275.26953125,8275.509765625,8276.5498046875,8276.330078125,8276.0,8275.509765625,8275.8203125,8276.650390625,8275.51953125,8273.6396484375,8271.6904296875,8269.900390625,8268.150390625,8268.3798828125,8267.580078125,8265.169921875,8266.4501953125,8267.349609375,8269.150390625,8269.099609375,8268.9697265625,8268.5498046875,8268.5498046875,8268.740234375,8271.080078125,8273.2998046875,8275.830078125,8276.5,8276.3701171875,8277.0703125,8278.6796875,8279.7197265625,8279.4501953125,8279.240234375,8278.009765625,8278.169921875,8279.0703125,8279.58984375,8279.1201171875,8278.4296875,8276.2998046875,8275.759765625,8276.1904296875,8275.6796875,8275.4697265625,8274.66015625,8274.6103515625,8274.33984375,8274.400390625,8274.759765625,8274.6103515625,8275.6904296875,8277.509765625,8277.7998046875,8279.5400390625,8278.669921875,8278.7197265625,8277.5302734375,8276.740234375,8277.150390625,8276.259765625,8276.5595703125,8276.830078125,8275.7001953125,8275.0,8274.48046875,8273.990234375,8272.08984375,8271.099609375,8269.349609375,8268.8896484375,8267.9501953125,8266.599609375,8267.01953125,8266.849609375,8265.5595703125,8264.7998046875,8262.080078125,8260.1298828125,8257.599609375,8258.009765625,8255.7802734375,8254.5400390625,8253.98046875,8256.8603515625,8256.5302734375,8256.08984375,8257.5595703125,8258.1796875,8257.26953125,8257.01953125,8255.0595703125,8256.8701171875,8256.4599609375,8255.8798828125,8255.490234375,8255.3896484375,8255.1103515625,8255.0,8254.5703125,8253.83984375,8253.8701171875,8253.2802734375,8254.4697265625,8255.6796875,8256.9697265625,8257.51953125,8256.3896484375,8260.2099609375,8261.0400390625,8260.5498046875,8262.2900390625,8260.73046875,8260.66015625,8258.8095703125,8257.7197265625,8257.51953125,8256.830078125,8257.169921875,8257.259765625,8259.25,8259.8095703125,8261.41015625,8260.1904296875,8258.830078125,8256.83984375,8255.5,8256.26953125,8257.2802734375,8258.6904296875,8259.9296875,8259.509765625,8257.900390625,8258.23046875,8256.2197265625,8258.1201171875,8259.3896484375,8260.099609375,8261.48046875,8261.48046875,8261.3701171875,8261.7998046875,8262.2998046875,8261.4404296875,8261.0703125,8261.580078125,8262.0400390625,8261.009765625,8260.3203125,8258.3095703125,8258.8798828125,8261.75,8261.8701171875,8262.6796875,8261.330078125,8260.6904296875,8261.08984375,8260.2197265625,8259.3701171875,8258.4697265625,8258.919921875,8258.4501953125,8259.0703125,8257.5703125,8257.8701171875,8257.6904296875,8258.6298828125,8260.8896484375,8261.0703125,8260.650390625,8259.6298828125,8258.51953125,8257.4599609375,8259.0498046875,8257.9404296875,8256.9599609375,8258.099609375,8258.259765625,8258.5703125,8260.2900390625,8262.099609375,8264.33984375,8252.7001953125,8252.7900390625,8251.25,8251.0302734375,8249.6103515625,8249.8095703125,8247.6201171875,8246.6298828125,8246.240234375,8246.9404296875,8247.2900390625,8249.1298828125,8251.419921875,8251.91015625,8252.4296875,8256.5703125,8255.5703125,8257.150390625,8257.080078125,8258.400390625,8260.8798828125,8259.83984375,8255.25,8256.490234375,8256.0595703125,8256.6201171875,8257.919921875,8257.98046875,8259.4404296875,8260.099609375,8259.8798828125,8260.990234375,8265.2197265625,8265.4599609375,8265.25,8265.419921875,8262.599609375,8261.6904296875,8263.1904296875,8262.3095703125,8265.51953125,8267.009765625,8267.099609375,8266.740234375,8265.8203125,8265.7998046875,8267.9404296875,8266.990234375,8268.830078125,8267.740234375,8264.8798828125,8263.9697265625,8265.509765625,8265.169921875,8266.6103515625,8265.169921875,8264.9697265625,8265.1103515625,8264.91015625,8265.0498046875,8265.349609375,8264.2802734375,8263.8896484375,8262.5498046875,8261.8896484375,8261.759765625,8261.5,8263.3798828125,8261.5703125,8262.0,8261.6103515625,8262.6201171875,8262.4404296875,8262.75,8264.9404296875,8267.6904296875,8264.7900390625,8261.7099609375,8261.2001953125,8255.66015625,8256.2802734375,8256.01953125,8256.5703125,8256.6904296875,8258.0400390625,8260.0595703125,8262.419921875,8264.4697265625,8265.0703125,8265.2802734375,8267.2099609375,8263.6103515625,8261.849609375,8262.5,8261.7900390625,8262.2001953125,8262.08984375,8260.4599609375,8259.5703125,8260.5703125,8263.2900390625,8264.0302734375,8262.580078125,8263.7998046875,8265.080078125,8269.5595703125,8270.669921875,8272.169921875,8272.0703125,8272.8203125,8272.830078125,8272.9404296875,8272.1904296875,8273.740234375,8274.169921875,8272.0703125,8267.650390625,8268.1103515625,8268.330078125,8268.3203125,8265.0400390625,8267.16015625,8268.0595703125,8269.7197265625,8269.01953125,8269.33984375,8271.5400390625,8271.76953125,8269.16015625,8269.23046875,8270.849609375,8269.66015625,8269.91015625,8268.009765625,8271.009765625,8272.0498046875,8271.6396484375,8273.3095703125,8274.6796875,8274.8798828125,8275.3798828125,8276.150390625,8277.33984375,8277.2900390625,8274.6796875,8275.0703125,8276.099609375,8278.8701171875,8276.08984375,8273.830078125,8273.2001953125,8271.9404296875,8270.7197265625,8268.4599609375,8265.5400390625,8266.330078125,8265.4501953125,8265.419921875,8265.5703125,8267.08984375,8266.4296875,8267.9599609375,8267.7998046875,8268.8095703125,8268.7001953125,8263.830078125,8265.25,8267.259765625,8268.1298828125,8267.1396484375,8268.1298828125,8265.2197265625,8268.1201171875,8267.419921875,8266.1796875,8266.2900390625,8265.099609375,8260.48046875,8259.2900390625,8259.25,8262.0,8261.9599609375,8261.6796875,8260.5498046875,8261.33984375,8259.4501953125,8260.169921875,8258.8896484375,8257.080078125,8256.6201171875,8256.650390625,8255.9697265625,8254.0400390625],\"high\":[8272.2001953125,8273.849609375,8273.5302734375,8273.0,8273.8603515625,8273.41015625,8272.83984375,8272.509765625,8273.0595703125,8272.41015625,8274.1201171875,8273.650390625,8274.4501953125,8275.169921875,8274.5498046875,8274.5400390625,8272.830078125,8270.6201171875,8270.16015625,8271.5595703125,8271.5595703125,8271.8203125,8271.6904296875,8272.6796875,8272.2197265625,8273.759765625,8275.41015625,8276.3203125,8277.23046875,8277.0498046875,8278.830078125,8278.669921875,8278.2900390625,8277.259765625,8276.51953125,8275.349609375,8275.58984375,8275.2197265625,8276.5302734375,8279.009765625,8280.26953125,8280.919921875,8280.830078125,8280.6201171875,8281.240234375,8280.919921875,8280.5595703125,8281.26953125,8281.419921875,8279.1103515625,8279.2998046875,8280.6396484375,8280.41015625,8281.5498046875,8281.6904296875,8280.7001953125,8280.3896484375,8280.41015625,8280.73046875,8280.8603515625,8279.48046875,8280.1201171875,8278.5595703125,8279.25,8278.080078125,8278.73046875,8279.8798828125,8278.3701171875,8278.169921875,8279.740234375,8280.75,8280.83984375,8280.5595703125,8279.3095703125,8276.8701171875,8275.4697265625,8275.150390625,8277.599609375,8279.8798828125,8279.9296875,8280.2998046875,8282.830078125,8284.1904296875,8284.0703125,8283.4296875,8283.1201171875,8282.33984375,8282.3701171875,8282.919921875,8284.1201171875,8284.4404296875,8285.5498046875,8285.400390625,8284.2197265625,8284.0302734375,8284.099609375,8283.8798828125,8282.6396484375,8281.080078125,8281.51953125,8281.3603515625,8281.3095703125,8280.0400390625,8278.669921875,8278.9404296875,8278.5498046875,8277.8603515625,8277.990234375,8279.009765625,8278.900390625,8277.41015625,8276.4404296875,8275.7099609375,8275.669921875,8275.4501953125,8275.73046875,8276.66015625,8276.7197265625,8276.580078125,8275.98046875,8276.16015625,8276.669921875,8276.990234375,8275.490234375,8273.759765625,8272.08984375,8270.009765625,8268.6103515625,8269.169921875,8267.8896484375,8266.48046875,8267.4697265625,8269.150390625,8269.9697265625,8269.330078125,8269.2802734375,8268.9404296875,8268.740234375,8271.080078125,8273.2998046875,8275.830078125,8276.509765625,8276.76953125,8277.08984375,8278.830078125,8279.83984375,8279.98046875,8279.4697265625,8279.3603515625,8278.3203125,8279.26953125,8279.7197265625,8279.349609375,8279.26953125,8278.2900390625,8276.3603515625,8276.3203125,8276.580078125,8276.490234375,8275.3701171875,8275.1298828125,8274.76953125,8274.9501953125,8274.7802734375,8275.3603515625,8275.759765625,8277.51953125,8278.099609375,8279.5400390625,8279.58984375,8278.8896484375,8278.9697265625,8277.5595703125,8277.5,8277.150390625,8276.75,8278.1904296875,8276.98046875,8275.7197265625,8274.48046875,8274.650390625,8273.990234375,8272.51953125,8271.0400390625,8270.0,8268.919921875,8267.91015625,8267.1298828125,8267.76953125,8266.8095703125,8266.33984375,8264.8603515625,8261.7998046875,8259.9296875,8259.1396484375,8258.3896484375,8256.26953125,8254.7802734375,8256.900390625,8257.0595703125,8256.98046875,8257.5595703125,8258.1904296875,8258.3095703125,8257.8896484375,8257.1103515625,8256.8798828125,8256.900390625,8256.849609375,8256.9599609375,8255.6298828125,8255.9599609375,8256.080078125,8255.16015625,8254.5595703125,8253.9404296875,8253.91015625,8254.4697265625,8255.6796875,8257.240234375,8257.9404296875,8257.4697265625,8260.2099609375,8261.6201171875,8261.01953125,8262.4501953125,8262.2099609375,8261.48046875,8260.740234375,8258.9697265625,8258.080078125,8257.8798828125,8257.5400390625,8257.5703125,8259.599609375,8259.830078125,8261.41015625,8261.41015625,8260.16015625,8259.0400390625,8256.76953125,8256.419921875,8257.330078125,8258.6904296875,8259.98046875,8259.9296875,8259.73046875,8258.23046875,8258.150390625,8258.1201171875,8259.419921875,8260.599609375,8261.830078125,8261.48046875,8261.5302734375,8262.8203125,8262.3896484375,8262.330078125,8261.5595703125,8262.0703125,8262.509765625,8261.7998046875,8261.0703125,8260.1796875,8258.8798828125,8261.75,8262.1904296875,8262.8203125,8262.9599609375,8261.5302734375,8261.25,8261.009765625,8260.080078125,8259.509765625,8259.41015625,8258.919921875,8259.400390625,8259.0,8257.8701171875,8258.419921875,8258.75,8260.8896484375,8261.5498046875,8261.240234375,8260.8798828125,8259.5498046875,8258.5595703125,8259.240234375,8259.0,8258.1103515625,8258.1396484375,8258.6298828125,8258.650390625,8260.2900390625,8262.150390625,8264.349609375,8264.2998046875,8253.4296875,8253.6796875,8251.830078125,8251.4599609375,8250.1396484375,8250.41015625,8247.5302734375,8246.75,8247.240234375,8247.7099609375,8249.259765625,8251.419921875,8252.2998046875,8252.4296875,8259.1904296875,8256.5302734375,8258.91015625,8258.6904296875,8258.5,8260.8798828125,8261.66015625,8259.8203125,8256.490234375,8256.5302734375,8256.76953125,8258.2900390625,8258.0595703125,8259.4404296875,8260.1298828125,8261.6201171875,8261.0302734375,8265.2197265625,8266.0703125,8265.419921875,8265.5595703125,8265.41015625,8262.7998046875,8263.419921875,8263.5400390625,8265.51953125,8267.0302734375,8267.4501953125,8267.330078125,8266.7001953125,8267.0400390625,8267.9404296875,8268.9404296875,8268.8896484375,8269.2900390625,8267.9404296875,8264.7900390625,8265.8203125,8265.650390625,8266.830078125,8266.8095703125,8265.33984375,8265.650390625,8265.2197265625,8265.0498046875,8265.6396484375,8265.4501953125,8264.3095703125,8263.919921875,8262.8798828125,8262.580078125,8262.1103515625,8263.41015625,8263.5,8262.349609375,8261.9501953125,8262.9501953125,8263.3896484375,8263.0703125,8264.9404296875,8268.240234375,8268.2099609375,8265.01953125,8261.849609375,8261.0400390625,8256.2802734375,8257.7197265625,8257.0302734375,8257.9404296875,8258.8798828125,8260.0595703125,8262.9501953125,8265.1103515625,8266.4296875,8265.9404296875,8268.41015625,8267.240234375,8263.580078125,8262.5,8263.669921875,8262.6796875,8262.490234375,8262.83984375,8260.759765625,8260.76953125,8263.2900390625,8265.099609375,8264.240234375,8263.7998046875,8265.26953125,8271.3798828125,8271.91015625,8272.8095703125,8272.0703125,8273.16015625,8273.41015625,8272.9404296875,8273.4296875,8273.740234375,8274.33984375,8274.48046875,8272.6396484375,8268.830078125,8269.400390625,8269.4501953125,8268.1103515625,8267.6201171875,8268.3896484375,8270.1201171875,8269.6796875,8270.169921875,8271.5400390625,8272.51953125,8269.830078125,8270.0703125,8270.849609375,8271.23046875,8270.150390625,8269.8798828125,8271.33984375,8273.2001953125,8272.0498046875,8274.2998046875,8274.7197265625,8275.33984375,8275.5595703125,8276.6201171875,8277.650390625,8278.009765625,8277.2802734375,8275.7099609375,8276.240234375,8278.919921875,8279.01953125,8276.1201171875,8274.1201171875,8273.0595703125,8271.9501953125,8270.6298828125,8268.330078125,8266.330078125,8266.3603515625,8265.4599609375,8265.5703125,8267.1796875,8267.3203125,8267.9599609375,8268.009765625,8268.8095703125,8269.8896484375,8268.740234375,8265.5302734375,8267.3095703125,8268.4404296875,8268.1396484375,8268.400390625,8268.16015625,8268.25,8268.48046875,8268.01953125,8266.58984375,8266.7900390625,8265.099609375,8260.4697265625,8260.8095703125,8262.41015625,8262.5703125,8261.990234375,8261.740234375,8262.41015625,8261.7197265625,8260.4296875,8260.1904296875,8258.919921875,8258.9599609375,8257.0400390625,8256.5498046875,8256.1904296875],\"low\":[8271.3798828125,8271.990234375,8271.830078125,8272.0302734375,8271.9404296875,8272.08984375,8270.1103515625,8270.240234375,8272.2001953125,8271.099609375,8271.76953125,8271.33984375,8273.25,8274.099609375,8273.8603515625,8272.830078125,8270.0,8269.5,8268.76953125,8269.2900390625,8270.5498046875,8269.849609375,8269.9404296875,8271.080078125,8271.2001953125,8271.2802734375,8272.48046875,8275.08984375,8276.1298828125,8276.599609375,8276.8798828125,8278.2998046875,8275.8203125,8276.009765625,8275.3701171875,8273.25,8273.0,8274.3701171875,8274.7099609375,8276.5498046875,8278.9404296875,8279.2099609375,8279.3603515625,8279.2998046875,8279.58984375,8280.0302734375,8280.009765625,8280.349609375,8279.1103515625,8277.9501953125,8277.9599609375,8279.2001953125,8279.33984375,8280.099609375,8280.7998046875,8278.259765625,8278.3896484375,8279.7802734375,8280.009765625,8277.7197265625,8277.75,8278.5703125,8277.8203125,8277.259765625,8277.150390625,8277.5498046875,8278.080078125,8276.91015625,8277.2197265625,8278.76953125,8279.7197265625,8279.9296875,8279.169921875,8276.4501953125,8274.83984375,8273.990234375,8274.419921875,8274.7099609375,8277.740234375,8279.259765625,8279.080078125,8280.2900390625,8282.8603515625,8282.419921875,8282.259765625,8281.6298828125,8281.51953125,8281.919921875,8282.330078125,8282.990234375,8283.669921875,8283.9404296875,8283.759765625,8283.8798828125,8283.4404296875,8283.2998046875,8282.4404296875,8280.0302734375,8280.509765625,8280.7197265625,8281.1396484375,8278.7001953125,8278.3701171875,8278.1103515625,8278.3701171875,8277.4599609375,8276.5,8276.51953125,8277.7900390625,8276.41015625,8276.1396484375,8275.75,8274.830078125,8274.8798828125,8274.4501953125,8275.419921875,8275.509765625,8276.1796875,8275.7802734375,8274.830078125,8275.41015625,8275.259765625,8275.51953125,8273.6396484375,8271.669921875,8269.7900390625,8267.1103515625,8267.740234375,8267.4599609375,8265.0595703125,8265.3203125,8266.3701171875,8267.0302734375,8269.099609375,8268.83984375,8268.4501953125,8268.3701171875,8268.2998046875,8269.4404296875,8271.1201171875,8272.990234375,8275.349609375,8276.2900390625,8276.1298828125,8277.1103515625,8278.5498046875,8279.4296875,8278.8798828125,8277.740234375,8277.9296875,8278.009765625,8278.9404296875,8278.759765625,8278.4296875,8276.2998046875,8275.759765625,8275.3896484375,8275.41015625,8275.4697265625,8274.599609375,8274.4296875,8274.330078125,8273.75,8274.1298828125,8274.5703125,8274.2001953125,8275.7099609375,8277.599609375,8277.5302734375,8278.51953125,8278.3701171875,8277.5302734375,8276.740234375,8276.580078125,8276.25,8276.169921875,8276.5400390625,8275.7001953125,8275.0,8273.8798828125,8273.8798828125,8272.0703125,8270.8203125,8269.349609375,8268.8896484375,8267.9501953125,8266.580078125,8266.3798828125,8266.830078125,8265.5498046875,8264.7998046875,8261.58984375,8259.9501953125,8257.599609375,8257.419921875,8255.7802734375,8254.5,8253.98046875,8253.8798828125,8256.3095703125,8255.7802734375,8255.8701171875,8257.58984375,8256.3701171875,8257.01953125,8255.0302734375,8254.759765625,8255.7900390625,8255.8798828125,8255.490234375,8255.099609375,8254.98046875,8255.0,8254.2197265625,8252.900390625,8253.2001953125,8252.8603515625,8253.1796875,8254.2099609375,8255.6201171875,8256.9697265625,8256.169921875,8257.75,8260.3095703125,8259.51953125,8260.4296875,8260.73046875,8260.66015625,8258.25,8257.7197265625,8257.16015625,8256.7802734375,8256.8896484375,8256.9599609375,8257.26953125,8259.240234375,8259.8203125,8260.1904296875,8258.419921875,8256.599609375,8255.1796875,8255.41015625,8256.349609375,8257.259765625,8258.669921875,8259.0,8257.900390625,8257.3798828125,8256.0,8256.2197265625,8258.150390625,8258.75,8260.0302734375,8260.509765625,8260.26953125,8261.0,8261.0302734375,8260.8896484375,8259.9296875,8261.0302734375,8261.3896484375,8260.6396484375,8260.2998046875,8258.1796875,8258.150390625,8258.8896484375,8261.66015625,8261.7802734375,8261.2099609375,8260.26953125,8260.6298828125,8260.1201171875,8259.23046875,8258.3701171875,8258.33984375,8257.8603515625,8258.2001953125,8257.4296875,8257.0703125,8257.669921875,8257.7001953125,8258.3203125,8260.9501953125,8260.080078125,8259.3203125,8258.2802734375,8257.3603515625,8257.4404296875,8257.9404296875,8256.900390625,8256.9697265625,8258.01953125,8257.6201171875,8258.1396484375,8260.3203125,8262.1904296875,8252.7001953125,8252.400390625,8251.25,8251.0302734375,8249.6103515625,8249.0595703125,8247.6201171875,8246.0302734375,8245.76953125,8245.9599609375,8246.330078125,8247.25,8249.240234375,8251.4599609375,8251.7998046875,8252.669921875,8254.669921875,8255.7998046875,8256.900390625,8256.240234375,8258.0595703125,8259.83984375,8254.759765625,8255.169921875,8255.6298828125,8255.58984375,8255.759765625,8257.6396484375,8257.7998046875,8259.3603515625,8259.8798828125,8259.75,8261.1103515625,8264.8798828125,8264.9404296875,8264.9599609375,8262.580078125,8261.6904296875,8261.76953125,8262.26953125,8262.259765625,8265.509765625,8267.009765625,8266.740234375,8265.6396484375,8265.6396484375,8265.669921875,8266.9404296875,8267.0595703125,8267.740234375,8264.7900390625,8263.1201171875,8263.9599609375,8265.169921875,8265.150390625,8265.009765625,8264.6904296875,8264.9697265625,8264.7900390625,8264.3603515625,8264.669921875,8264.0595703125,8263.6201171875,8262.5302734375,8261.8896484375,8261.759765625,8261.4501953125,8261.51953125,8261.5595703125,8261.5,8261.2900390625,8261.330078125,8262.4404296875,8262.01953125,8262.75,8264.9599609375,8264.76953125,8261.6201171875,8260.4404296875,8255.66015625,8253.3798828125,8256.01953125,8255.66015625,8256.2900390625,8256.5302734375,8256.1201171875,8260.6396484375,8262.6904296875,8264.6201171875,8264.8701171875,8265.23046875,8263.6103515625,8261.6201171875,8261.099609375,8261.7802734375,8261.23046875,8261.1201171875,8260.4599609375,8259.5703125,8259.330078125,8260.4697265625,8263.5703125,8262.490234375,8262.08984375,8263.830078125,8266.8603515625,8269.669921875,8270.6103515625,8270.2001953125,8271.150390625,8272.3896484375,8270.51953125,8272.16015625,8272.2197265625,8273.490234375,8272.0703125,8267.650390625,8266.8701171875,8268.1201171875,8267.5595703125,8265.0400390625,8265.099609375,8267.1796875,8268.08984375,8268.8203125,8268.98046875,8269.4599609375,8271.3701171875,8268.9501953125,8268.8603515625,8269.1298828125,8269.66015625,8269.150390625,8267.2802734375,8268.33984375,8271.080078125,8271.3095703125,8271.8798828125,8272.75,8274.33984375,8274.48046875,8275.33984375,8275.73046875,8277.2900390625,8274.6796875,8274.5703125,8274.8896484375,8276.3095703125,8276.0302734375,8273.830078125,8273.2001953125,8271.9404296875,8270.3896484375,8268.4501953125,8264.990234375,8265.51953125,8265.33984375,8265.419921875,8264.8701171875,8265.6298828125,8266.009765625,8266.3701171875,8266.8095703125,8267.900390625,8267.669921875,8263.740234375,8263.6201171875,8265.2900390625,8267.1298828125,8266.8896484375,8267.169921875,8265.1796875,8264.76953125,8267.0595703125,8266.1103515625,8266.01953125,8265.099609375,8260.23046875,8257.419921875,8259.25,8259.349609375,8261.740234375,8260.8603515625,8260.08984375,8260.599609375,8259.4296875,8259.3203125,8258.8896484375,8256.6201171875,8256.6103515625,8256.3603515625,8255.169921875,8253.919921875],\"name\":\"FTSE100 Candlestick\",\"open\":[8271.3798828125,8271.990234375,8273.5302734375,8272.0400390625,8271.9404296875,8273.41015625,8272.83984375,8270.76953125,8272.5498046875,8272.3203125,8272.2099609375,8271.8896484375,8273.349609375,8274.509765625,8274.08984375,8274.01953125,8272.830078125,8269.9599609375,8269.5703125,8270.25,8271.2802734375,8271.6103515625,8269.9404296875,8271.8095703125,8271.83984375,8271.8203125,8273.51953125,8275.33984375,8276.2998046875,8277.0498046875,8276.8798828125,8278.669921875,8278.2900390625,8276.080078125,8276.23046875,8275.349609375,8273.25,8275.2197265625,8274.7099609375,8276.599609375,8279.169921875,8280.3798828125,8280.16015625,8279.6201171875,8279.740234375,8280.849609375,8280.23046875,8280.509765625,8281.2001953125,8278.98046875,8277.9599609375,8279.3603515625,8279.6298828125,8280.16015625,8281.2900390625,8280.7001953125,8278.5302734375,8279.9404296875,8280.48046875,8280.419921875,8277.7900390625,8279.2001953125,8278.4697265625,8278.8203125,8277.2802734375,8277.6298828125,8278.91015625,8278.240234375,8277.2197265625,8278.7998046875,8279.7197265625,8280.3095703125,8280.4599609375,8279.3095703125,8276.8701171875,8275.0703125,8274.5302734375,8274.8896484375,8277.740234375,8279.6103515625,8279.2001953125,8280.330078125,8282.8603515625,8284.0703125,8282.6298828125,8283.1201171875,8281.740234375,8281.9501953125,8282.330078125,8282.990234375,8284.0498046875,8283.9404296875,8285.400390625,8284.080078125,8283.9697265625,8283.9599609375,8283.330078125,8282.6396484375,8280.509765625,8280.7197265625,8281.33984375,8281.2099609375,8279.41015625,8278.599609375,8278.7001953125,8278.5498046875,8277.73046875,8276.5595703125,8277.9501953125,8278.900390625,8276.259765625,8276.2001953125,8275.7099609375,8275.0703125,8275.4501953125,8275.419921875,8275.5595703125,8276.5498046875,8276.5498046875,8275.98046875,8275.419921875,8275.98046875,8276.650390625,8275.490234375,8273.58984375,8271.73046875,8269.9296875,8268.23046875,8268.4296875,8267.580078125,8265.4296875,8266.4697265625,8267.3603515625,8269.2900390625,8269.0703125,8268.849609375,8268.6201171875,8268.509765625,8269.4404296875,8271.1201171875,8273.330078125,8275.8896484375,8276.5302734375,8276.3701171875,8277.1103515625,8278.5498046875,8279.7099609375,8279.3701171875,8279.25,8278.0595703125,8278.1796875,8278.98046875,8279.349609375,8279.099609375,8278.2900390625,8276.26953125,8275.740234375,8276.25,8275.75,8275.3701171875,8274.6796875,8274.4404296875,8274.2900390625,8274.3896484375,8274.75,8274.599609375,8275.7099609375,8277.6103515625,8277.6298828125,8279.48046875,8278.6103515625,8278.740234375,8277.5400390625,8276.740234375,8277.150390625,8276.23046875,8276.5400390625,8276.9697265625,8275.7197265625,8274.2197265625,8274.48046875,8273.9296875,8272.0595703125,8271.0302734375,8269.3798828125,8268.919921875,8267.91015625,8266.5703125,8267.0595703125,8266.7802734375,8265.580078125,8264.8603515625,8261.490234375,8259.76953125,8257.4697265625,8258.0,8255.7900390625,8254.6396484375,8253.8798828125,8257.0595703125,8256.4501953125,8256.240234375,8257.66015625,8257.9404296875,8257.1103515625,8257.01953125,8255.080078125,8256.900390625,8256.4697265625,8256.1396484375,8255.4599609375,8255.4296875,8255.3896484375,8255.01953125,8254.5595703125,8253.8095703125,8253.8798828125,8253.25,8254.490234375,8255.6904296875,8256.9697265625,8257.4697265625,8257.75,8260.3095703125,8261.01953125,8260.58984375,8262.2099609375,8260.759765625,8260.740234375,8258.9697265625,8257.7900390625,8257.48046875,8256.98046875,8257.1796875,8257.3203125,8259.26953125,8259.8203125,8261.3701171875,8260.16015625,8258.9501953125,8256.73046875,8255.41015625,8256.349609375,8257.33984375,8258.6904296875,8259.9296875,8259.73046875,8257.759765625,8258.150390625,8256.2197265625,8258.150390625,8259.2197265625,8260.0302734375,8261.4404296875,8261.5302734375,8261.2900390625,8261.48046875,8262.2998046875,8261.51953125,8261.0302734375,8261.509765625,8261.7998046875,8260.98046875,8260.1103515625,8258.2998046875,8258.8896484375,8261.849609375,8261.98046875,8262.5703125,8261.3896484375,8260.6904296875,8261.009765625,8260.080078125,8259.41015625,8258.33984375,8258.91015625,8258.330078125,8259.0,8257.5498046875,8258.0,8257.7197265625,8258.6396484375,8260.9501953125,8261.16015625,8260.7001953125,8259.5498046875,8258.5595703125,8257.4404296875,8259.0,8257.849609375,8256.98046875,8258.099609375,8258.26953125,8258.51953125,8260.3203125,8262.2001953125,8264.2998046875,8252.599609375,8252.900390625,8251.830078125,8250.849609375,8249.6796875,8249.650390625,8247.5302734375,8246.6201171875,8246.2802734375,8246.98046875,8247.3095703125,8249.240234375,8251.4599609375,8251.9296875,8252.669921875,8256.5302734375,8255.7998046875,8257.0703125,8257.0400390625,8258.25,8260.7802734375,8259.8203125,8255.1796875,8256.5302734375,8256.0595703125,8256.6298828125,8257.8798828125,8257.9501953125,8259.3603515625,8260.419921875,8259.8603515625,8261.1103515625,8265.3203125,8265.1904296875,8265.2802734375,8265.41015625,8262.58984375,8261.76953125,8263.1904296875,8262.2900390625,8265.509765625,8267.0400390625,8267.16015625,8266.7001953125,8266.0703125,8265.669921875,8268.0400390625,8267.1201171875,8268.7900390625,8267.9404296875,8264.7900390625,8263.9599609375,8265.490234375,8265.150390625,8266.669921875,8265.2099609375,8264.9697265625,8265.2197265625,8264.7802734375,8264.9501953125,8265.4501953125,8264.25,8263.919921875,8262.5703125,8261.91015625,8261.7802734375,8261.51953125,8263.349609375,8261.5703125,8261.8798828125,8261.6103515625,8262.6201171875,8262.3798828125,8262.75,8264.98046875,8267.6201171875,8264.8603515625,8261.7900390625,8261.01953125,8255.48046875,8256.1201171875,8255.9599609375,8256.5400390625,8256.7001953125,8258.01953125,8260.6396484375,8262.73046875,8264.6201171875,8265.0595703125,8265.2900390625,8267.240234375,8263.580078125,8261.76953125,8262.5703125,8261.9697265625,8261.650390625,8262.2001953125,8260.580078125,8259.5498046875,8260.6298828125,8263.5703125,8264.0498046875,8262.5595703125,8264.0400390625,8266.9501953125,8269.73046875,8270.6103515625,8271.91015625,8272.01953125,8272.6904296875,8272.759765625,8272.98046875,8272.2197265625,8273.8095703125,8274.3603515625,8272.3203125,8267.599609375,8268.1201171875,8268.5,8268.1103515625,8265.099609375,8267.2998046875,8268.08984375,8269.6796875,8268.98046875,8269.4599609375,8271.4501953125,8269.16015625,8269.2900390625,8269.1298828125,8271.23046875,8269.650390625,8269.8798828125,8268.33984375,8271.080078125,8271.8095703125,8271.8798828125,8273.2197265625,8274.759765625,8274.73046875,8275.33984375,8275.900390625,8277.349609375,8277.2802734375,8274.5703125,8275.0302734375,8276.3095703125,8278.83984375,8276.0400390625,8273.7900390625,8273.0302734375,8271.9501953125,8270.6298828125,8268.330078125,8265.58984375,8266.25,8265.4599609375,8264.91015625,8265.6298828125,8267.1396484375,8266.5703125,8267.9599609375,8267.900390625,8268.8203125,8268.73046875,8263.740234375,8265.2900390625,8267.2197265625,8268.1396484375,8267.169921875,8268.16015625,8265.169921875,8268.23046875,8267.5498046875,8266.2998046875,8266.2802734375,8265.099609375,8260.4501953125,8259.330078125,8259.3701171875,8262.009765625,8261.98046875,8261.7099609375,8260.599609375,8261.349609375,8259.3203125,8260.1904296875,8258.830078125,8257.0,8256.6904296875,8256.5498046875,8256.0],\"x\":[\"2024-09-05T08:19:00+01:00\",\"2024-09-05T08:20:00+01:00\",\"2024-09-05T08:21:00+01:00\",\"2024-09-05T08:22:00+01:00\",\"2024-09-05T08:23:00+01:00\",\"2024-09-05T08:24:00+01:00\",\"2024-09-05T08:25:00+01:00\",\"2024-09-05T08:26:00+01:00\",\"2024-09-05T08:27:00+01:00\",\"2024-09-05T08:28:00+01:00\",\"2024-09-05T08:29:00+01:00\",\"2024-09-05T08:30:00+01:00\",\"2024-09-05T08:31:00+01:00\",\"2024-09-05T08:32:00+01:00\",\"2024-09-05T08:33:00+01:00\",\"2024-09-05T08:34:00+01:00\",\"2024-09-05T08:35:00+01:00\",\"2024-09-05T08:36:00+01:00\",\"2024-09-05T08:37:00+01:00\",\"2024-09-05T08:38:00+01:00\",\"2024-09-05T08:39:00+01:00\",\"2024-09-05T08:40:00+01:00\",\"2024-09-05T08:41:00+01:00\",\"2024-09-05T08:42:00+01:00\",\"2024-09-05T08:43:00+01:00\",\"2024-09-05T08:44:00+01:00\",\"2024-09-05T08:45:00+01:00\",\"2024-09-05T08:46:00+01:00\",\"2024-09-05T08:47:00+01:00\",\"2024-09-05T08:48:00+01:00\",\"2024-09-05T08:49:00+01:00\",\"2024-09-05T08:50:00+01:00\",\"2024-09-05T08:51:00+01:00\",\"2024-09-05T08:52:00+01:00\",\"2024-09-05T08:53:00+01:00\",\"2024-09-05T08:54:00+01:00\",\"2024-09-05T08:55:00+01:00\",\"2024-09-05T08:56:00+01:00\",\"2024-09-05T08:57:00+01:00\",\"2024-09-05T08:58:00+01:00\",\"2024-09-05T08:59:00+01:00\",\"2024-09-05T09:00:00+01:00\",\"2024-09-05T09:01:00+01:00\",\"2024-09-05T09:02:00+01:00\",\"2024-09-05T09:03:00+01:00\",\"2024-09-05T09:04:00+01:00\",\"2024-09-05T09:05:00+01:00\",\"2024-09-05T09:06:00+01:00\",\"2024-09-05T09:07:00+01:00\",\"2024-09-05T09:08:00+01:00\",\"2024-09-05T09:09:00+01:00\",\"2024-09-05T09:10:00+01:00\",\"2024-09-05T09:11:00+01:00\",\"2024-09-05T09:12:00+01:00\",\"2024-09-05T09:13:00+01:00\",\"2024-09-05T09:14:00+01:00\",\"2024-09-05T09:15:00+01:00\",\"2024-09-05T09:16:00+01:00\",\"2024-09-05T09:17:00+01:00\",\"2024-09-05T09:18:00+01:00\",\"2024-09-05T09:19:00+01:00\",\"2024-09-05T09:20:00+01:00\",\"2024-09-05T09:21:00+01:00\",\"2024-09-05T09:22:00+01:00\",\"2024-09-05T09:23:00+01:00\",\"2024-09-05T09:24:00+01:00\",\"2024-09-05T09:25:00+01:00\",\"2024-09-05T09:26:00+01:00\",\"2024-09-05T09:27:00+01:00\",\"2024-09-05T09:28:00+01:00\",\"2024-09-05T09:29:00+01:00\",\"2024-09-05T09:30:00+01:00\",\"2024-09-05T09:31:00+01:00\",\"2024-09-05T09:32:00+01:00\",\"2024-09-05T09:33:00+01:00\",\"2024-09-05T09:34:00+01:00\",\"2024-09-05T09:35:00+01:00\",\"2024-09-05T09:36:00+01:00\",\"2024-09-05T09:37:00+01:00\",\"2024-09-05T09:38:00+01:00\",\"2024-09-05T09:39:00+01:00\",\"2024-09-05T09:40:00+01:00\",\"2024-09-05T09:41:00+01:00\",\"2024-09-05T09:42:00+01:00\",\"2024-09-05T09:43:00+01:00\",\"2024-09-05T09:44:00+01:00\",\"2024-09-05T09:45:00+01:00\",\"2024-09-05T09:46:00+01:00\",\"2024-09-05T09:47:00+01:00\",\"2024-09-05T09:48:00+01:00\",\"2024-09-05T09:49:00+01:00\",\"2024-09-05T09:50:00+01:00\",\"2024-09-05T09:51:00+01:00\",\"2024-09-05T09:52:00+01:00\",\"2024-09-05T09:53:00+01:00\",\"2024-09-05T09:54:00+01:00\",\"2024-09-05T09:55:00+01:00\",\"2024-09-05T09:56:00+01:00\",\"2024-09-05T09:57:00+01:00\",\"2024-09-05T09:58:00+01:00\",\"2024-09-05T09:59:00+01:00\",\"2024-09-05T10:00:00+01:00\",\"2024-09-05T10:01:00+01:00\",\"2024-09-05T10:02:00+01:00\",\"2024-09-05T10:03:00+01:00\",\"2024-09-05T10:04:00+01:00\",\"2024-09-05T10:05:00+01:00\",\"2024-09-05T10:06:00+01:00\",\"2024-09-05T10:07:00+01:00\",\"2024-09-05T10:08:00+01:00\",\"2024-09-05T10:09:00+01:00\",\"2024-09-05T10:10:00+01:00\",\"2024-09-05T10:11:00+01:00\",\"2024-09-05T10:12:00+01:00\",\"2024-09-05T10:13:00+01:00\",\"2024-09-05T10:14:00+01:00\",\"2024-09-05T10:15:00+01:00\",\"2024-09-05T10:16:00+01:00\",\"2024-09-05T10:17:00+01:00\",\"2024-09-05T10:18:00+01:00\",\"2024-09-05T10:19:00+01:00\",\"2024-09-05T10:20:00+01:00\",\"2024-09-05T10:21:00+01:00\",\"2024-09-05T10:22:00+01:00\",\"2024-09-05T10:23:00+01:00\",\"2024-09-05T10:24:00+01:00\",\"2024-09-05T10:25:00+01:00\",\"2024-09-05T10:26:00+01:00\",\"2024-09-05T10:27:00+01:00\",\"2024-09-05T10:28:00+01:00\",\"2024-09-05T10:29:00+01:00\",\"2024-09-05T10:30:00+01:00\",\"2024-09-05T10:31:00+01:00\",\"2024-09-05T10:32:00+01:00\",\"2024-09-05T10:33:00+01:00\",\"2024-09-05T10:34:00+01:00\",\"2024-09-05T10:35:00+01:00\",\"2024-09-05T10:36:00+01:00\",\"2024-09-05T10:37:00+01:00\",\"2024-09-05T10:38:00+01:00\",\"2024-09-05T10:39:00+01:00\",\"2024-09-05T10:40:00+01:00\",\"2024-09-05T10:41:00+01:00\",\"2024-09-05T10:42:00+01:00\",\"2024-09-05T10:43:00+01:00\",\"2024-09-05T10:44:00+01:00\",\"2024-09-05T10:45:00+01:00\",\"2024-09-05T10:46:00+01:00\",\"2024-09-05T10:47:00+01:00\",\"2024-09-05T10:48:00+01:00\",\"2024-09-05T10:49:00+01:00\",\"2024-09-05T10:50:00+01:00\",\"2024-09-05T10:51:00+01:00\",\"2024-09-05T10:52:00+01:00\",\"2024-09-05T10:53:00+01:00\",\"2024-09-05T10:54:00+01:00\",\"2024-09-05T10:55:00+01:00\",\"2024-09-05T10:56:00+01:00\",\"2024-09-05T10:57:00+01:00\",\"2024-09-05T10:58:00+01:00\",\"2024-09-05T10:59:00+01:00\",\"2024-09-05T11:00:00+01:00\",\"2024-09-05T11:01:00+01:00\",\"2024-09-05T11:02:00+01:00\",\"2024-09-05T11:03:00+01:00\",\"2024-09-05T11:04:00+01:00\",\"2024-09-05T11:05:00+01:00\",\"2024-09-05T11:06:00+01:00\",\"2024-09-05T11:07:00+01:00\",\"2024-09-05T11:08:00+01:00\",\"2024-09-05T11:09:00+01:00\",\"2024-09-05T11:10:00+01:00\",\"2024-09-05T11:11:00+01:00\",\"2024-09-05T11:12:00+01:00\",\"2024-09-05T11:13:00+01:00\",\"2024-09-05T11:14:00+01:00\",\"2024-09-05T11:15:00+01:00\",\"2024-09-05T11:16:00+01:00\",\"2024-09-05T11:17:00+01:00\",\"2024-09-05T11:18:00+01:00\",\"2024-09-05T11:19:00+01:00\",\"2024-09-05T11:20:00+01:00\",\"2024-09-05T11:21:00+01:00\",\"2024-09-05T11:22:00+01:00\",\"2024-09-05T11:23:00+01:00\",\"2024-09-05T11:24:00+01:00\",\"2024-09-05T11:25:00+01:00\",\"2024-09-05T11:26:00+01:00\",\"2024-09-05T11:27:00+01:00\",\"2024-09-05T11:28:00+01:00\",\"2024-09-05T11:29:00+01:00\",\"2024-09-05T11:30:00+01:00\",\"2024-09-05T11:31:00+01:00\",\"2024-09-05T11:32:00+01:00\",\"2024-09-05T11:33:00+01:00\",\"2024-09-05T11:34:00+01:00\",\"2024-09-05T11:35:00+01:00\",\"2024-09-05T11:36:00+01:00\",\"2024-09-05T11:37:00+01:00\",\"2024-09-05T11:38:00+01:00\",\"2024-09-05T11:39:00+01:00\",\"2024-09-05T11:40:00+01:00\",\"2024-09-05T11:41:00+01:00\",\"2024-09-05T11:42:00+01:00\",\"2024-09-05T11:43:00+01:00\",\"2024-09-05T11:44:00+01:00\",\"2024-09-05T11:45:00+01:00\",\"2024-09-05T11:46:00+01:00\",\"2024-09-05T11:47:00+01:00\",\"2024-09-05T11:48:00+01:00\",\"2024-09-05T11:49:00+01:00\",\"2024-09-05T11:50:00+01:00\",\"2024-09-05T11:51:00+01:00\",\"2024-09-05T11:52:00+01:00\",\"2024-09-05T11:53:00+01:00\",\"2024-09-05T11:54:00+01:00\",\"2024-09-05T11:55:00+01:00\",\"2024-09-05T11:56:00+01:00\",\"2024-09-05T11:57:00+01:00\",\"2024-09-05T11:58:00+01:00\",\"2024-09-05T11:59:00+01:00\",\"2024-09-05T12:00:00+01:00\",\"2024-09-05T12:01:00+01:00\",\"2024-09-05T12:02:00+01:00\",\"2024-09-05T12:03:00+01:00\",\"2024-09-05T12:04:00+01:00\",\"2024-09-05T12:05:00+01:00\",\"2024-09-05T12:06:00+01:00\",\"2024-09-05T12:07:00+01:00\",\"2024-09-05T12:08:00+01:00\",\"2024-09-05T12:09:00+01:00\",\"2024-09-05T12:10:00+01:00\",\"2024-09-05T12:11:00+01:00\",\"2024-09-05T12:12:00+01:00\",\"2024-09-05T12:13:00+01:00\",\"2024-09-05T12:14:00+01:00\",\"2024-09-05T12:15:00+01:00\",\"2024-09-05T12:16:00+01:00\",\"2024-09-05T12:17:00+01:00\",\"2024-09-05T12:18:00+01:00\",\"2024-09-05T12:19:00+01:00\",\"2024-09-05T12:20:00+01:00\",\"2024-09-05T12:21:00+01:00\",\"2024-09-05T12:22:00+01:00\",\"2024-09-05T12:23:00+01:00\",\"2024-09-05T12:24:00+01:00\",\"2024-09-05T12:25:00+01:00\",\"2024-09-05T12:26:00+01:00\",\"2024-09-05T12:27:00+01:00\",\"2024-09-05T12:28:00+01:00\",\"2024-09-05T12:29:00+01:00\",\"2024-09-05T12:30:00+01:00\",\"2024-09-05T12:31:00+01:00\",\"2024-09-05T12:32:00+01:00\",\"2024-09-05T12:33:00+01:00\",\"2024-09-05T12:34:00+01:00\",\"2024-09-05T12:35:00+01:00\",\"2024-09-05T12:36:00+01:00\",\"2024-09-05T12:37:00+01:00\",\"2024-09-05T12:38:00+01:00\",\"2024-09-05T12:39:00+01:00\",\"2024-09-05T12:40:00+01:00\",\"2024-09-05T12:41:00+01:00\",\"2024-09-05T12:42:00+01:00\",\"2024-09-05T12:43:00+01:00\",\"2024-09-05T12:44:00+01:00\",\"2024-09-05T12:45:00+01:00\",\"2024-09-05T12:46:00+01:00\",\"2024-09-05T12:47:00+01:00\",\"2024-09-05T12:48:00+01:00\",\"2024-09-05T12:49:00+01:00\",\"2024-09-05T12:50:00+01:00\",\"2024-09-05T12:51:00+01:00\",\"2024-09-05T12:52:00+01:00\",\"2024-09-05T12:53:00+01:00\",\"2024-09-05T12:54:00+01:00\",\"2024-09-05T12:55:00+01:00\",\"2024-09-05T12:56:00+01:00\",\"2024-09-05T12:57:00+01:00\",\"2024-09-05T12:58:00+01:00\",\"2024-09-05T12:59:00+01:00\",\"2024-09-05T13:00:00+01:00\",\"2024-09-05T13:01:00+01:00\",\"2024-09-05T13:02:00+01:00\",\"2024-09-05T13:03:00+01:00\",\"2024-09-05T13:04:00+01:00\",\"2024-09-05T13:05:00+01:00\",\"2024-09-05T13:06:00+01:00\",\"2024-09-05T13:07:00+01:00\",\"2024-09-05T13:08:00+01:00\",\"2024-09-05T13:09:00+01:00\",\"2024-09-05T13:10:00+01:00\",\"2024-09-05T13:11:00+01:00\",\"2024-09-05T13:12:00+01:00\",\"2024-09-05T13:13:00+01:00\",\"2024-09-05T13:14:00+01:00\",\"2024-09-05T13:15:00+01:00\",\"2024-09-05T13:16:00+01:00\",\"2024-09-05T13:17:00+01:00\",\"2024-09-05T13:18:00+01:00\",\"2024-09-05T13:19:00+01:00\",\"2024-09-05T13:20:00+01:00\",\"2024-09-05T13:21:00+01:00\",\"2024-09-05T13:22:00+01:00\",\"2024-09-05T13:23:00+01:00\",\"2024-09-05T13:24:00+01:00\",\"2024-09-05T13:25:00+01:00\",\"2024-09-05T13:26:00+01:00\",\"2024-09-05T13:27:00+01:00\",\"2024-09-05T13:28:00+01:00\",\"2024-09-05T13:29:00+01:00\",\"2024-09-05T13:30:00+01:00\",\"2024-09-05T13:31:00+01:00\",\"2024-09-05T13:32:00+01:00\",\"2024-09-05T13:33:00+01:00\",\"2024-09-05T13:34:00+01:00\",\"2024-09-05T13:35:00+01:00\",\"2024-09-05T13:36:00+01:00\",\"2024-09-05T13:37:00+01:00\",\"2024-09-05T13:38:00+01:00\",\"2024-09-05T13:39:00+01:00\",\"2024-09-05T13:40:00+01:00\",\"2024-09-05T13:41:00+01:00\",\"2024-09-05T13:42:00+01:00\",\"2024-09-05T13:43:00+01:00\",\"2024-09-05T13:44:00+01:00\",\"2024-09-05T13:45:00+01:00\",\"2024-09-05T13:46:00+01:00\",\"2024-09-05T13:47:00+01:00\",\"2024-09-05T13:48:00+01:00\",\"2024-09-05T13:49:00+01:00\",\"2024-09-05T13:50:00+01:00\",\"2024-09-05T13:51:00+01:00\",\"2024-09-05T13:52:00+01:00\",\"2024-09-05T13:53:00+01:00\",\"2024-09-05T13:54:00+01:00\",\"2024-09-05T13:55:00+01:00\",\"2024-09-05T13:56:00+01:00\",\"2024-09-05T13:57:00+01:00\",\"2024-09-05T13:58:00+01:00\",\"2024-09-05T13:59:00+01:00\",\"2024-09-05T14:00:00+01:00\",\"2024-09-05T14:01:00+01:00\",\"2024-09-05T14:02:00+01:00\",\"2024-09-05T14:03:00+01:00\",\"2024-09-05T14:04:00+01:00\",\"2024-09-05T14:05:00+01:00\",\"2024-09-05T14:06:00+01:00\",\"2024-09-05T14:07:00+01:00\",\"2024-09-05T14:08:00+01:00\",\"2024-09-05T14:09:00+01:00\",\"2024-09-05T14:10:00+01:00\",\"2024-09-05T14:11:00+01:00\",\"2024-09-05T14:12:00+01:00\",\"2024-09-05T14:13:00+01:00\",\"2024-09-05T14:14:00+01:00\",\"2024-09-05T14:15:00+01:00\",\"2024-09-05T14:16:00+01:00\",\"2024-09-05T14:17:00+01:00\",\"2024-09-05T14:18:00+01:00\",\"2024-09-05T14:19:00+01:00\",\"2024-09-05T14:20:00+01:00\",\"2024-09-05T14:21:00+01:00\",\"2024-09-05T14:22:00+01:00\",\"2024-09-05T14:23:00+01:00\",\"2024-09-05T14:24:00+01:00\",\"2024-09-05T14:25:00+01:00\",\"2024-09-05T14:26:00+01:00\",\"2024-09-05T14:27:00+01:00\",\"2024-09-05T14:28:00+01:00\",\"2024-09-05T14:29:00+01:00\",\"2024-09-05T14:30:00+01:00\",\"2024-09-05T14:31:00+01:00\",\"2024-09-05T14:32:00+01:00\",\"2024-09-05T14:33:00+01:00\",\"2024-09-05T14:34:00+01:00\",\"2024-09-05T14:35:00+01:00\",\"2024-09-05T14:36:00+01:00\",\"2024-09-05T14:37:00+01:00\",\"2024-09-05T14:38:00+01:00\",\"2024-09-05T14:39:00+01:00\",\"2024-09-05T14:40:00+01:00\",\"2024-09-05T14:41:00+01:00\",\"2024-09-05T14:42:00+01:00\",\"2024-09-05T14:43:00+01:00\",\"2024-09-05T14:44:00+01:00\",\"2024-09-05T14:45:00+01:00\",\"2024-09-05T14:46:00+01:00\",\"2024-09-05T14:47:00+01:00\",\"2024-09-05T14:48:00+01:00\",\"2024-09-05T14:49:00+01:00\",\"2024-09-05T14:50:00+01:00\",\"2024-09-05T14:51:00+01:00\",\"2024-09-05T14:52:00+01:00\",\"2024-09-05T14:53:00+01:00\",\"2024-09-05T14:54:00+01:00\",\"2024-09-05T14:55:00+01:00\",\"2024-09-05T14:56:00+01:00\",\"2024-09-05T14:57:00+01:00\",\"2024-09-05T14:58:00+01:00\",\"2024-09-05T14:59:00+01:00\",\"2024-09-05T15:00:00+01:00\",\"2024-09-05T15:01:00+01:00\",\"2024-09-05T15:02:00+01:00\",\"2024-09-05T15:03:00+01:00\",\"2024-09-05T15:04:00+01:00\",\"2024-09-05T15:05:00+01:00\",\"2024-09-05T15:06:00+01:00\",\"2024-09-05T15:07:00+01:00\",\"2024-09-05T15:08:00+01:00\",\"2024-09-05T15:09:00+01:00\",\"2024-09-05T15:10:00+01:00\",\"2024-09-05T15:11:00+01:00\",\"2024-09-05T15:12:00+01:00\",\"2024-09-05T15:13:00+01:00\",\"2024-09-05T15:14:00+01:00\",\"2024-09-05T15:15:00+01:00\",\"2024-09-05T15:16:00+01:00\",\"2024-09-05T15:17:00+01:00\",\"2024-09-05T15:18:00+01:00\",\"2024-09-05T15:19:00+01:00\",\"2024-09-05T15:20:00+01:00\",\"2024-09-05T15:21:00+01:00\",\"2024-09-05T15:22:00+01:00\",\"2024-09-05T15:24:00+01:00\",\"2024-09-05T15:25:00+01:00\",\"2024-09-05T15:26:00+01:00\",\"2024-09-05T15:27:00+01:00\",\"2024-09-05T15:28:00+01:00\",\"2024-09-05T15:29:00+01:00\",\"2024-09-05T15:30:00+01:00\",\"2024-09-05T15:31:00+01:00\",\"2024-09-05T15:32:00+01:00\",\"2024-09-05T15:33:00+01:00\",\"2024-09-05T15:34:00+01:00\",\"2024-09-05T15:35:00+01:00\",\"2024-09-05T15:36:00+01:00\",\"2024-09-05T15:37:00+01:00\",\"2024-09-05T15:38:00+01:00\",\"2024-09-05T15:39:00+01:00\",\"2024-09-05T15:40:00+01:00\",\"2024-09-05T15:41:00+01:00\",\"2024-09-05T15:42:00+01:00\",\"2024-09-05T15:43:00+01:00\",\"2024-09-05T15:44:00+01:00\",\"2024-09-05T15:45:00+01:00\",\"2024-09-05T15:46:00+01:00\",\"2024-09-05T15:47:00+01:00\",\"2024-09-05T15:48:00+01:00\",\"2024-09-05T15:49:00+01:00\",\"2024-09-05T15:50:00+01:00\",\"2024-09-05T15:51:00+01:00\",\"2024-09-05T15:52:00+01:00\",\"2024-09-05T15:53:00+01:00\",\"2024-09-05T15:54:00+01:00\",\"2024-09-05T15:55:00+01:00\",\"2024-09-05T15:56:00+01:00\",\"2024-09-05T15:57:00+01:00\",\"2024-09-05T15:58:00+01:00\",\"2024-09-05T15:59:00+01:00\",\"2024-09-05T16:00:00+01:00\",\"2024-09-05T16:01:00+01:00\",\"2024-09-05T16:02:00+01:00\",\"2024-09-05T16:03:00+01:00\",\"2024-09-05T16:04:00+01:00\",\"2024-09-05T16:05:00+01:00\",\"2024-09-05T16:06:00+01:00\",\"2024-09-05T16:07:00+01:00\",\"2024-09-05T16:08:00+01:00\",\"2024-09-05T16:09:00+01:00\",\"2024-09-05T16:10:00+01:00\",\"2024-09-05T16:11:00+01:00\",\"2024-09-05T16:12:00+01:00\",\"2024-09-05T16:13:00+01:00\",\"2024-09-05T16:14:00+01:00\",\"2024-09-05T16:15:00+01:00\",\"2024-09-05T16:16:00+01:00\",\"2024-09-05T16:17:00+01:00\",\"2024-09-05T16:18:00+01:00\",\"2024-09-05T16:19:00+01:00\",\"2024-09-05T16:20:00+01:00\",\"2024-09-05T16:21:00+01:00\",\"2024-09-05T16:22:00+01:00\",\"2024-09-05T16:23:00+01:00\",\"2024-09-05T16:24:00+01:00\",\"2024-09-05T16:25:00+01:00\",\"2024-09-05T16:26:00+01:00\",\"2024-09-05T16:27:00+01:00\",\"2024-09-05T16:28:00+01:00\"],\"type\":\"candlestick\"}],                        {\"template\":{\"data\":{\"histogram2dcontour\":[{\"type\":\"histogram2dcontour\",\"colorbar\":{\"outlinewidth\":0,\"ticks\":\"\"},\"colorscale\":[[0.0,\"#0d0887\"],[0.1111111111111111,\"#46039f\"],[0.2222222222222222,\"#7201a8\"],[0.3333333333333333,\"#9c179e\"],[0.4444444444444444,\"#bd3786\"],[0.5555555555555556,\"#d8576b\"],[0.6666666666666666,\"#ed7953\"],[0.7777777777777778,\"#fb9f3a\"],[0.8888888888888888,\"#fdca26\"],[1.0,\"#f0f921\"]]}],\"choropleth\":[{\"type\":\"choropleth\",\"colorbar\":{\"outlinewidth\":0,\"ticks\":\"\"}}],\"histogram2d\":[{\"type\":\"histogram2d\",\"colorbar\":{\"outlinewidth\":0,\"ticks\":\"\"},\"colorscale\":[[0.0,\"#0d0887\"],[0.1111111111111111,\"#46039f\"],[0.2222222222222222,\"#7201a8\"],[0.3333333333333333,\"#9c179e\"],[0.4444444444444444,\"#bd3786\"],[0.5555555555555556,\"#d8576b\"],[0.6666666666666666,\"#ed7953\"],[0.7777777777777778,\"#fb9f3a\"],[0.8888888888888888,\"#fdca26\"],[1.0,\"#f0f921\"]]}],\"heatmap\":[{\"type\":\"heatmap\",\"colorbar\":{\"outlinewidth\":0,\"ticks\":\"\"},\"colorscale\":[[0.0,\"#0d0887\"],[0.1111111111111111,\"#46039f\"],[0.2222222222222222,\"#7201a8\"],[0.3333333333333333,\"#9c179e\"],[0.4444444444444444,\"#bd3786\"],[0.5555555555555556,\"#d8576b\"],[0.6666666666666666,\"#ed7953\"],[0.7777777777777778,\"#fb9f3a\"],[0.8888888888888888,\"#fdca26\"],[1.0,\"#f0f921\"]]}],\"heatmapgl\":[{\"type\":\"heatmapgl\",\"colorbar\":{\"outlinewidth\":0,\"ticks\":\"\"},\"colorscale\":[[0.0,\"#0d0887\"],[0.1111111111111111,\"#46039f\"],[0.2222222222222222,\"#7201a8\"],[0.3333333333333333,\"#9c179e\"],[0.4444444444444444,\"#bd3786\"],[0.5555555555555556,\"#d8576b\"],[0.6666666666666666,\"#ed7953\"],[0.7777777777777778,\"#fb9f3a\"],[0.8888888888888888,\"#fdca26\"],[1.0,\"#f0f921\"]]}],\"contourcarpet\":[{\"type\":\"contourcarpet\",\"colorbar\":{\"outlinewidth\":0,\"ticks\":\"\"}}],\"contour\":[{\"type\":\"contour\",\"colorbar\":{\"outlinewidth\":0,\"ticks\":\"\"},\"colorscale\":[[0.0,\"#0d0887\"],[0.1111111111111111,\"#46039f\"],[0.2222222222222222,\"#7201a8\"],[0.3333333333333333,\"#9c179e\"],[0.4444444444444444,\"#bd3786\"],[0.5555555555555556,\"#d8576b\"],[0.6666666666666666,\"#ed7953\"],[0.7777777777777778,\"#fb9f3a\"],[0.8888888888888888,\"#fdca26\"],[1.0,\"#f0f921\"]]}],\"surface\":[{\"type\":\"surface\",\"colorbar\":{\"outlinewidth\":0,\"ticks\":\"\"},\"colorscale\":[[0.0,\"#0d0887\"],[0.1111111111111111,\"#46039f\"],[0.2222222222222222,\"#7201a8\"],[0.3333333333333333,\"#9c179e\"],[0.4444444444444444,\"#bd3786\"],[0.5555555555555556,\"#d8576b\"],[0.6666666666666666,\"#ed7953\"],[0.7777777777777778,\"#fb9f3a\"],[0.8888888888888888,\"#fdca26\"],[1.0,\"#f0f921\"]]}],\"mesh3d\":[{\"type\":\"mesh3d\",\"colorbar\":{\"outlinewidth\":0,\"ticks\":\"\"}}],\"scatter\":[{\"fillpattern\":{\"fillmode\":\"overlay\",\"size\":10,\"solidity\":0.2},\"type\":\"scatter\"}],\"parcoords\":[{\"type\":\"parcoords\",\"line\":{\"colorbar\":{\"outlinewidth\":0,\"ticks\":\"\"}}}],\"scatterpolargl\":[{\"type\":\"scatterpolargl\",\"marker\":{\"colorbar\":{\"outlinewidth\":0,\"ticks\":\"\"}}}],\"bar\":[{\"error_x\":{\"color\":\"#2a3f5f\"},\"error_y\":{\"color\":\"#2a3f5f\"},\"marker\":{\"line\":{\"color\":\"#E5ECF6\",\"width\":0.5},\"pattern\":{\"fillmode\":\"overlay\",\"size\":10,\"solidity\":0.2}},\"type\":\"bar\"}],\"scattergeo\":[{\"type\":\"scattergeo\",\"marker\":{\"colorbar\":{\"outlinewidth\":0,\"ticks\":\"\"}}}],\"scatterpolar\":[{\"type\":\"scatterpolar\",\"marker\":{\"colorbar\":{\"outlinewidth\":0,\"ticks\":\"\"}}}],\"histogram\":[{\"marker\":{\"pattern\":{\"fillmode\":\"overlay\",\"size\":10,\"solidity\":0.2}},\"type\":\"histogram\"}],\"scattergl\":[{\"type\":\"scattergl\",\"marker\":{\"colorbar\":{\"outlinewidth\":0,\"ticks\":\"\"}}}],\"scatter3d\":[{\"type\":\"scatter3d\",\"line\":{\"colorbar\":{\"outlinewidth\":0,\"ticks\":\"\"}},\"marker\":{\"colorbar\":{\"outlinewidth\":0,\"ticks\":\"\"}}}],\"scattermapbox\":[{\"type\":\"scattermapbox\",\"marker\":{\"colorbar\":{\"outlinewidth\":0,\"ticks\":\"\"}}}],\"scatterternary\":[{\"type\":\"scatterternary\",\"marker\":{\"colorbar\":{\"outlinewidth\":0,\"ticks\":\"\"}}}],\"scattercarpet\":[{\"type\":\"scattercarpet\",\"marker\":{\"colorbar\":{\"outlinewidth\":0,\"ticks\":\"\"}}}],\"carpet\":[{\"aaxis\":{\"endlinecolor\":\"#2a3f5f\",\"gridcolor\":\"white\",\"linecolor\":\"white\",\"minorgridcolor\":\"white\",\"startlinecolor\":\"#2a3f5f\"},\"baxis\":{\"endlinecolor\":\"#2a3f5f\",\"gridcolor\":\"white\",\"linecolor\":\"white\",\"minorgridcolor\":\"white\",\"startlinecolor\":\"#2a3f5f\"},\"type\":\"carpet\"}],\"table\":[{\"cells\":{\"fill\":{\"color\":\"#EBF0F8\"},\"line\":{\"color\":\"white\"}},\"header\":{\"fill\":{\"color\":\"#C8D4E3\"},\"line\":{\"color\":\"white\"}},\"type\":\"table\"}],\"barpolar\":[{\"marker\":{\"line\":{\"color\":\"#E5ECF6\",\"width\":0.5},\"pattern\":{\"fillmode\":\"overlay\",\"size\":10,\"solidity\":0.2}},\"type\":\"barpolar\"}],\"pie\":[{\"automargin\":true,\"type\":\"pie\"}]},\"layout\":{\"autotypenumbers\":\"strict\",\"colorway\":[\"#636efa\",\"#EF553B\",\"#00cc96\",\"#ab63fa\",\"#FFA15A\",\"#19d3f3\",\"#FF6692\",\"#B6E880\",\"#FF97FF\",\"#FECB52\"],\"font\":{\"color\":\"#2a3f5f\"},\"hovermode\":\"closest\",\"hoverlabel\":{\"align\":\"left\"},\"paper_bgcolor\":\"white\",\"plot_bgcolor\":\"#E5ECF6\",\"polar\":{\"bgcolor\":\"#E5ECF6\",\"angularaxis\":{\"gridcolor\":\"white\",\"linecolor\":\"white\",\"ticks\":\"\"},\"radialaxis\":{\"gridcolor\":\"white\",\"linecolor\":\"white\",\"ticks\":\"\"}},\"ternary\":{\"bgcolor\":\"#E5ECF6\",\"aaxis\":{\"gridcolor\":\"white\",\"linecolor\":\"white\",\"ticks\":\"\"},\"baxis\":{\"gridcolor\":\"white\",\"linecolor\":\"white\",\"ticks\":\"\"},\"caxis\":{\"gridcolor\":\"white\",\"linecolor\":\"white\",\"ticks\":\"\"}},\"coloraxis\":{\"colorbar\":{\"outlinewidth\":0,\"ticks\":\"\"}},\"colorscale\":{\"sequential\":[[0.0,\"#0d0887\"],[0.1111111111111111,\"#46039f\"],[0.2222222222222222,\"#7201a8\"],[0.3333333333333333,\"#9c179e\"],[0.4444444444444444,\"#bd3786\"],[0.5555555555555556,\"#d8576b\"],[0.6666666666666666,\"#ed7953\"],[0.7777777777777778,\"#fb9f3a\"],[0.8888888888888888,\"#fdca26\"],[1.0,\"#f0f921\"]],\"sequentialminus\":[[0.0,\"#0d0887\"],[0.1111111111111111,\"#46039f\"],[0.2222222222222222,\"#7201a8\"],[0.3333333333333333,\"#9c179e\"],[0.4444444444444444,\"#bd3786\"],[0.5555555555555556,\"#d8576b\"],[0.6666666666666666,\"#ed7953\"],[0.7777777777777778,\"#fb9f3a\"],[0.8888888888888888,\"#fdca26\"],[1.0,\"#f0f921\"]],\"diverging\":[[0,\"#8e0152\"],[0.1,\"#c51b7d\"],[0.2,\"#de77ae\"],[0.3,\"#f1b6da\"],[0.4,\"#fde0ef\"],[0.5,\"#f7f7f7\"],[0.6,\"#e6f5d0\"],[0.7,\"#b8e186\"],[0.8,\"#7fbc41\"],[0.9,\"#4d9221\"],[1,\"#276419\"]]},\"xaxis\":{\"gridcolor\":\"white\",\"linecolor\":\"white\",\"ticks\":\"\",\"title\":{\"standoff\":15},\"zerolinecolor\":\"white\",\"automargin\":true,\"zerolinewidth\":2},\"yaxis\":{\"gridcolor\":\"white\",\"linecolor\":\"white\",\"ticks\":\"\",\"title\":{\"standoff\":15},\"zerolinecolor\":\"white\",\"automargin\":true,\"zerolinewidth\":2},\"scene\":{\"xaxis\":{\"backgroundcolor\":\"#E5ECF6\",\"gridcolor\":\"white\",\"linecolor\":\"white\",\"showbackground\":true,\"ticks\":\"\",\"zerolinecolor\":\"white\",\"gridwidth\":2},\"yaxis\":{\"backgroundcolor\":\"#E5ECF6\",\"gridcolor\":\"white\",\"linecolor\":\"white\",\"showbackground\":true,\"ticks\":\"\",\"zerolinecolor\":\"white\",\"gridwidth\":2},\"zaxis\":{\"backgroundcolor\":\"#E5ECF6\",\"gridcolor\":\"white\",\"linecolor\":\"white\",\"showbackground\":true,\"ticks\":\"\",\"zerolinecolor\":\"white\",\"gridwidth\":2}},\"shapedefaults\":{\"line\":{\"color\":\"#2a3f5f\"}},\"annotationdefaults\":{\"arrowcolor\":\"#2a3f5f\",\"arrowhead\":0,\"arrowwidth\":1},\"geo\":{\"bgcolor\":\"white\",\"landcolor\":\"#E5ECF6\",\"subunitcolor\":\"white\",\"showland\":true,\"showlakes\":true,\"lakecolor\":\"white\"},\"title\":{\"x\":0.05},\"mapbox\":{\"style\":\"light\"}}},\"title\":{\"text\":\"FTSE100 Index - Candlestick Chart\"},\"xaxis\":{\"title\":{\"text\":\"Time\"}},\"yaxis\":{\"title\":{\"text\":\"Price\"}}},                        {\"responsive\": true}                    ).then(function(){\n",
              "                            \n",
              "var gd = document.getElementById('3ec8dc25-2178-48e4-bd66-175829127dd5');\n",
              "var x = new MutationObserver(function (mutations, observer) {{\n",
              "        var display = window.getComputedStyle(gd).display;\n",
              "        if (!display || display === 'none') {{\n",
              "            console.log([gd, 'removed!']);\n",
              "            Plotly.purge(gd);\n",
              "            observer.disconnect();\n",
              "        }}\n",
              "}});\n",
              "\n",
              "// Listen for the removal of the full notebook cells\n",
              "var notebookContainer = gd.closest('#notebook-container');\n",
              "if (notebookContainer) {{\n",
              "    x.observe(notebookContainer, {childList: true});\n",
              "}}\n",
              "\n",
              "// Listen for the clearing of the current output cell\n",
              "var outputEl = gd.closest('.output');\n",
              "if (outputEl) {{\n",
              "    x.observe(outputEl, {childList: true});\n",
              "}}\n",
              "\n",
              "                        })                };                            </script>        </div>\n",
              "</body>\n",
              "</html>"
            ]
          },
          "metadata": {}
        }
      ]
    },
    {
      "cell_type": "markdown",
      "source": [
        "*Moving Average*"
      ],
      "metadata": {
        "id": "-fAJQ1AsPqbL"
      }
    },
    {
      "cell_type": "code",
      "source": [
        "ma_fig = go.Figure()\n",
        "ma_fig.add_trace(go.Scatter(x=data.index, y=data['Moving Average'], mode='lines', name='Moving Average'))\n",
        "ma_fig.update_layout(title='FTSE100 Index - 20-Period Moving Average', xaxis_title='Time', yaxis_title='Price')\n",
        "ma_fig.show()\n",
        "# Suppress all warnings\n",
        "warnings.filterwarnings(\"ignore\")"
      ],
      "metadata": {
        "colab": {
          "base_uri": "https://localhost:8080/",
          "height": 542
        },
        "id": "djKG0HgVPPik",
        "outputId": "db9c558a-fd78-4cf3-e75e-c07831a2d9fa"
      },
      "execution_count": 16,
      "outputs": [
        {
          "output_type": "display_data",
          "data": {
            "text/html": [
              "<html>\n",
              "<head><meta charset=\"utf-8\" /></head>\n",
              "<body>\n",
              "    <div>            <script src=\"https://cdnjs.cloudflare.com/ajax/libs/mathjax/2.7.5/MathJax.js?config=TeX-AMS-MML_SVG\"></script><script type=\"text/javascript\">if (window.MathJax && window.MathJax.Hub && window.MathJax.Hub.Config) {window.MathJax.Hub.Config({SVG: {font: \"STIX-Web\"}});}</script>                <script type=\"text/javascript\">window.PlotlyConfig = {MathJaxConfig: 'local'};</script>\n",
              "        <script charset=\"utf-8\" src=\"https://cdn.plot.ly/plotly-2.24.1.min.js\"></script>                <div id=\"00de9139-157c-4c79-95e9-bd3b481e7094\" class=\"plotly-graph-div\" style=\"height:525px; width:100%;\"></div>            <script type=\"text/javascript\">                                    window.PLOTLYENV=window.PLOTLYENV || {};                                    if (document.getElementById(\"00de9139-157c-4c79-95e9-bd3b481e7094\")) {                    Plotly.newPlot(                        \"00de9139-157c-4c79-95e9-bd3b481e7094\",                        [{\"mode\":\"lines\",\"name\":\"Moving Average\",\"x\":[\"2024-09-05T08:19:00+01:00\",\"2024-09-05T08:20:00+01:00\",\"2024-09-05T08:21:00+01:00\",\"2024-09-05T08:22:00+01:00\",\"2024-09-05T08:23:00+01:00\",\"2024-09-05T08:24:00+01:00\",\"2024-09-05T08:25:00+01:00\",\"2024-09-05T08:26:00+01:00\",\"2024-09-05T08:27:00+01:00\",\"2024-09-05T08:28:00+01:00\",\"2024-09-05T08:29:00+01:00\",\"2024-09-05T08:30:00+01:00\",\"2024-09-05T08:31:00+01:00\",\"2024-09-05T08:32:00+01:00\",\"2024-09-05T08:33:00+01:00\",\"2024-09-05T08:34:00+01:00\",\"2024-09-05T08:35:00+01:00\",\"2024-09-05T08:36:00+01:00\",\"2024-09-05T08:37:00+01:00\",\"2024-09-05T08:38:00+01:00\",\"2024-09-05T08:39:00+01:00\",\"2024-09-05T08:40:00+01:00\",\"2024-09-05T08:41:00+01:00\",\"2024-09-05T08:42:00+01:00\",\"2024-09-05T08:43:00+01:00\",\"2024-09-05T08:44:00+01:00\",\"2024-09-05T08:45:00+01:00\",\"2024-09-05T08:46:00+01:00\",\"2024-09-05T08:47:00+01:00\",\"2024-09-05T08:48:00+01:00\",\"2024-09-05T08:49:00+01:00\",\"2024-09-05T08:50:00+01:00\",\"2024-09-05T08:51:00+01:00\",\"2024-09-05T08:52:00+01:00\",\"2024-09-05T08:53:00+01:00\",\"2024-09-05T08:54:00+01:00\",\"2024-09-05T08:55:00+01:00\",\"2024-09-05T08:56:00+01:00\",\"2024-09-05T08:57:00+01:00\",\"2024-09-05T08:58:00+01:00\",\"2024-09-05T08:59:00+01:00\",\"2024-09-05T09:00:00+01:00\",\"2024-09-05T09:01:00+01:00\",\"2024-09-05T09:02:00+01:00\",\"2024-09-05T09:03:00+01:00\",\"2024-09-05T09:04:00+01:00\",\"2024-09-05T09:05:00+01:00\",\"2024-09-05T09:06:00+01:00\",\"2024-09-05T09:07:00+01:00\",\"2024-09-05T09:08:00+01:00\",\"2024-09-05T09:09:00+01:00\",\"2024-09-05T09:10:00+01:00\",\"2024-09-05T09:11:00+01:00\",\"2024-09-05T09:12:00+01:00\",\"2024-09-05T09:13:00+01:00\",\"2024-09-05T09:14:00+01:00\",\"2024-09-05T09:15:00+01:00\",\"2024-09-05T09:16:00+01:00\",\"2024-09-05T09:17:00+01:00\",\"2024-09-05T09:18:00+01:00\",\"2024-09-05T09:19:00+01:00\",\"2024-09-05T09:20:00+01:00\",\"2024-09-05T09:21:00+01:00\",\"2024-09-05T09:22:00+01:00\",\"2024-09-05T09:23:00+01:00\",\"2024-09-05T09:24:00+01:00\",\"2024-09-05T09:25:00+01:00\",\"2024-09-05T09:26:00+01:00\",\"2024-09-05T09:27:00+01:00\",\"2024-09-05T09:28:00+01:00\",\"2024-09-05T09:29:00+01:00\",\"2024-09-05T09:30:00+01:00\",\"2024-09-05T09:31:00+01:00\",\"2024-09-05T09:32:00+01:00\",\"2024-09-05T09:33:00+01:00\",\"2024-09-05T09:34:00+01:00\",\"2024-09-05T09:35:00+01:00\",\"2024-09-05T09:36:00+01:00\",\"2024-09-05T09:37:00+01:00\",\"2024-09-05T09:38:00+01:00\",\"2024-09-05T09:39:00+01:00\",\"2024-09-05T09:40:00+01:00\",\"2024-09-05T09:41:00+01:00\",\"2024-09-05T09:42:00+01:00\",\"2024-09-05T09:43:00+01:00\",\"2024-09-05T09:44:00+01:00\",\"2024-09-05T09:45:00+01:00\",\"2024-09-05T09:46:00+01:00\",\"2024-09-05T09:47:00+01:00\",\"2024-09-05T09:48:00+01:00\",\"2024-09-05T09:49:00+01:00\",\"2024-09-05T09:50:00+01:00\",\"2024-09-05T09:51:00+01:00\",\"2024-09-05T09:52:00+01:00\",\"2024-09-05T09:53:00+01:00\",\"2024-09-05T09:54:00+01:00\",\"2024-09-05T09:55:00+01:00\",\"2024-09-05T09:56:00+01:00\",\"2024-09-05T09:57:00+01:00\",\"2024-09-05T09:58:00+01:00\",\"2024-09-05T09:59:00+01:00\",\"2024-09-05T10:00:00+01:00\",\"2024-09-05T10:01:00+01:00\",\"2024-09-05T10:02:00+01:00\",\"2024-09-05T10:03:00+01:00\",\"2024-09-05T10:04:00+01:00\",\"2024-09-05T10:05:00+01:00\",\"2024-09-05T10:06:00+01:00\",\"2024-09-05T10:07:00+01:00\",\"2024-09-05T10:08:00+01:00\",\"2024-09-05T10:09:00+01:00\",\"2024-09-05T10:10:00+01:00\",\"2024-09-05T10:11:00+01:00\",\"2024-09-05T10:12:00+01:00\",\"2024-09-05T10:13:00+01:00\",\"2024-09-05T10:14:00+01:00\",\"2024-09-05T10:15:00+01:00\",\"2024-09-05T10:16:00+01:00\",\"2024-09-05T10:17:00+01:00\",\"2024-09-05T10:18:00+01:00\",\"2024-09-05T10:19:00+01:00\",\"2024-09-05T10:20:00+01:00\",\"2024-09-05T10:21:00+01:00\",\"2024-09-05T10:22:00+01:00\",\"2024-09-05T10:23:00+01:00\",\"2024-09-05T10:24:00+01:00\",\"2024-09-05T10:25:00+01:00\",\"2024-09-05T10:26:00+01:00\",\"2024-09-05T10:27:00+01:00\",\"2024-09-05T10:28:00+01:00\",\"2024-09-05T10:29:00+01:00\",\"2024-09-05T10:30:00+01:00\",\"2024-09-05T10:31:00+01:00\",\"2024-09-05T10:32:00+01:00\",\"2024-09-05T10:33:00+01:00\",\"2024-09-05T10:34:00+01:00\",\"2024-09-05T10:35:00+01:00\",\"2024-09-05T10:36:00+01:00\",\"2024-09-05T10:37:00+01:00\",\"2024-09-05T10:38:00+01:00\",\"2024-09-05T10:39:00+01:00\",\"2024-09-05T10:40:00+01:00\",\"2024-09-05T10:41:00+01:00\",\"2024-09-05T10:42:00+01:00\",\"2024-09-05T10:43:00+01:00\",\"2024-09-05T10:44:00+01:00\",\"2024-09-05T10:45:00+01:00\",\"2024-09-05T10:46:00+01:00\",\"2024-09-05T10:47:00+01:00\",\"2024-09-05T10:48:00+01:00\",\"2024-09-05T10:49:00+01:00\",\"2024-09-05T10:50:00+01:00\",\"2024-09-05T10:51:00+01:00\",\"2024-09-05T10:52:00+01:00\",\"2024-09-05T10:53:00+01:00\",\"2024-09-05T10:54:00+01:00\",\"2024-09-05T10:55:00+01:00\",\"2024-09-05T10:56:00+01:00\",\"2024-09-05T10:57:00+01:00\",\"2024-09-05T10:58:00+01:00\",\"2024-09-05T10:59:00+01:00\",\"2024-09-05T11:00:00+01:00\",\"2024-09-05T11:01:00+01:00\",\"2024-09-05T11:02:00+01:00\",\"2024-09-05T11:03:00+01:00\",\"2024-09-05T11:04:00+01:00\",\"2024-09-05T11:05:00+01:00\",\"2024-09-05T11:06:00+01:00\",\"2024-09-05T11:07:00+01:00\",\"2024-09-05T11:08:00+01:00\",\"2024-09-05T11:09:00+01:00\",\"2024-09-05T11:10:00+01:00\",\"2024-09-05T11:11:00+01:00\",\"2024-09-05T11:12:00+01:00\",\"2024-09-05T11:13:00+01:00\",\"2024-09-05T11:14:00+01:00\",\"2024-09-05T11:15:00+01:00\",\"2024-09-05T11:16:00+01:00\",\"2024-09-05T11:17:00+01:00\",\"2024-09-05T11:18:00+01:00\",\"2024-09-05T11:19:00+01:00\",\"2024-09-05T11:20:00+01:00\",\"2024-09-05T11:21:00+01:00\",\"2024-09-05T11:22:00+01:00\",\"2024-09-05T11:23:00+01:00\",\"2024-09-05T11:24:00+01:00\",\"2024-09-05T11:25:00+01:00\",\"2024-09-05T11:26:00+01:00\",\"2024-09-05T11:27:00+01:00\",\"2024-09-05T11:28:00+01:00\",\"2024-09-05T11:29:00+01:00\",\"2024-09-05T11:30:00+01:00\",\"2024-09-05T11:31:00+01:00\",\"2024-09-05T11:32:00+01:00\",\"2024-09-05T11:33:00+01:00\",\"2024-09-05T11:34:00+01:00\",\"2024-09-05T11:35:00+01:00\",\"2024-09-05T11:36:00+01:00\",\"2024-09-05T11:37:00+01:00\",\"2024-09-05T11:38:00+01:00\",\"2024-09-05T11:39:00+01:00\",\"2024-09-05T11:40:00+01:00\",\"2024-09-05T11:41:00+01:00\",\"2024-09-05T11:42:00+01:00\",\"2024-09-05T11:43:00+01:00\",\"2024-09-05T11:44:00+01:00\",\"2024-09-05T11:45:00+01:00\",\"2024-09-05T11:46:00+01:00\",\"2024-09-05T11:47:00+01:00\",\"2024-09-05T11:48:00+01:00\",\"2024-09-05T11:49:00+01:00\",\"2024-09-05T11:50:00+01:00\",\"2024-09-05T11:51:00+01:00\",\"2024-09-05T11:52:00+01:00\",\"2024-09-05T11:53:00+01:00\",\"2024-09-05T11:54:00+01:00\",\"2024-09-05T11:55:00+01:00\",\"2024-09-05T11:56:00+01:00\",\"2024-09-05T11:57:00+01:00\",\"2024-09-05T11:58:00+01:00\",\"2024-09-05T11:59:00+01:00\",\"2024-09-05T12:00:00+01:00\",\"2024-09-05T12:01:00+01:00\",\"2024-09-05T12:02:00+01:00\",\"2024-09-05T12:03:00+01:00\",\"2024-09-05T12:04:00+01:00\",\"2024-09-05T12:05:00+01:00\",\"2024-09-05T12:06:00+01:00\",\"2024-09-05T12:07:00+01:00\",\"2024-09-05T12:08:00+01:00\",\"2024-09-05T12:09:00+01:00\",\"2024-09-05T12:10:00+01:00\",\"2024-09-05T12:11:00+01:00\",\"2024-09-05T12:12:00+01:00\",\"2024-09-05T12:13:00+01:00\",\"2024-09-05T12:14:00+01:00\",\"2024-09-05T12:15:00+01:00\",\"2024-09-05T12:16:00+01:00\",\"2024-09-05T12:17:00+01:00\",\"2024-09-05T12:18:00+01:00\",\"2024-09-05T12:19:00+01:00\",\"2024-09-05T12:20:00+01:00\",\"2024-09-05T12:21:00+01:00\",\"2024-09-05T12:22:00+01:00\",\"2024-09-05T12:23:00+01:00\",\"2024-09-05T12:24:00+01:00\",\"2024-09-05T12:25:00+01:00\",\"2024-09-05T12:26:00+01:00\",\"2024-09-05T12:27:00+01:00\",\"2024-09-05T12:28:00+01:00\",\"2024-09-05T12:29:00+01:00\",\"2024-09-05T12:30:00+01:00\",\"2024-09-05T12:31:00+01:00\",\"2024-09-05T12:32:00+01:00\",\"2024-09-05T12:33:00+01:00\",\"2024-09-05T12:34:00+01:00\",\"2024-09-05T12:35:00+01:00\",\"2024-09-05T12:36:00+01:00\",\"2024-09-05T12:37:00+01:00\",\"2024-09-05T12:38:00+01:00\",\"2024-09-05T12:39:00+01:00\",\"2024-09-05T12:40:00+01:00\",\"2024-09-05T12:41:00+01:00\",\"2024-09-05T12:42:00+01:00\",\"2024-09-05T12:43:00+01:00\",\"2024-09-05T12:44:00+01:00\",\"2024-09-05T12:45:00+01:00\",\"2024-09-05T12:46:00+01:00\",\"2024-09-05T12:47:00+01:00\",\"2024-09-05T12:48:00+01:00\",\"2024-09-05T12:49:00+01:00\",\"2024-09-05T12:50:00+01:00\",\"2024-09-05T12:51:00+01:00\",\"2024-09-05T12:52:00+01:00\",\"2024-09-05T12:53:00+01:00\",\"2024-09-05T12:54:00+01:00\",\"2024-09-05T12:55:00+01:00\",\"2024-09-05T12:56:00+01:00\",\"2024-09-05T12:57:00+01:00\",\"2024-09-05T12:58:00+01:00\",\"2024-09-05T12:59:00+01:00\",\"2024-09-05T13:00:00+01:00\",\"2024-09-05T13:01:00+01:00\",\"2024-09-05T13:02:00+01:00\",\"2024-09-05T13:03:00+01:00\",\"2024-09-05T13:04:00+01:00\",\"2024-09-05T13:05:00+01:00\",\"2024-09-05T13:06:00+01:00\",\"2024-09-05T13:07:00+01:00\",\"2024-09-05T13:08:00+01:00\",\"2024-09-05T13:09:00+01:00\",\"2024-09-05T13:10:00+01:00\",\"2024-09-05T13:11:00+01:00\",\"2024-09-05T13:12:00+01:00\",\"2024-09-05T13:13:00+01:00\",\"2024-09-05T13:14:00+01:00\",\"2024-09-05T13:15:00+01:00\",\"2024-09-05T13:16:00+01:00\",\"2024-09-05T13:17:00+01:00\",\"2024-09-05T13:18:00+01:00\",\"2024-09-05T13:19:00+01:00\",\"2024-09-05T13:20:00+01:00\",\"2024-09-05T13:21:00+01:00\",\"2024-09-05T13:22:00+01:00\",\"2024-09-05T13:23:00+01:00\",\"2024-09-05T13:24:00+01:00\",\"2024-09-05T13:25:00+01:00\",\"2024-09-05T13:26:00+01:00\",\"2024-09-05T13:27:00+01:00\",\"2024-09-05T13:28:00+01:00\",\"2024-09-05T13:29:00+01:00\",\"2024-09-05T13:30:00+01:00\",\"2024-09-05T13:31:00+01:00\",\"2024-09-05T13:32:00+01:00\",\"2024-09-05T13:33:00+01:00\",\"2024-09-05T13:34:00+01:00\",\"2024-09-05T13:35:00+01:00\",\"2024-09-05T13:36:00+01:00\",\"2024-09-05T13:37:00+01:00\",\"2024-09-05T13:38:00+01:00\",\"2024-09-05T13:39:00+01:00\",\"2024-09-05T13:40:00+01:00\",\"2024-09-05T13:41:00+01:00\",\"2024-09-05T13:42:00+01:00\",\"2024-09-05T13:43:00+01:00\",\"2024-09-05T13:44:00+01:00\",\"2024-09-05T13:45:00+01:00\",\"2024-09-05T13:46:00+01:00\",\"2024-09-05T13:47:00+01:00\",\"2024-09-05T13:48:00+01:00\",\"2024-09-05T13:49:00+01:00\",\"2024-09-05T13:50:00+01:00\",\"2024-09-05T13:51:00+01:00\",\"2024-09-05T13:52:00+01:00\",\"2024-09-05T13:53:00+01:00\",\"2024-09-05T13:54:00+01:00\",\"2024-09-05T13:55:00+01:00\",\"2024-09-05T13:56:00+01:00\",\"2024-09-05T13:57:00+01:00\",\"2024-09-05T13:58:00+01:00\",\"2024-09-05T13:59:00+01:00\",\"2024-09-05T14:00:00+01:00\",\"2024-09-05T14:01:00+01:00\",\"2024-09-05T14:02:00+01:00\",\"2024-09-05T14:03:00+01:00\",\"2024-09-05T14:04:00+01:00\",\"2024-09-05T14:05:00+01:00\",\"2024-09-05T14:06:00+01:00\",\"2024-09-05T14:07:00+01:00\",\"2024-09-05T14:08:00+01:00\",\"2024-09-05T14:09:00+01:00\",\"2024-09-05T14:10:00+01:00\",\"2024-09-05T14:11:00+01:00\",\"2024-09-05T14:12:00+01:00\",\"2024-09-05T14:13:00+01:00\",\"2024-09-05T14:14:00+01:00\",\"2024-09-05T14:15:00+01:00\",\"2024-09-05T14:16:00+01:00\",\"2024-09-05T14:17:00+01:00\",\"2024-09-05T14:18:00+01:00\",\"2024-09-05T14:19:00+01:00\",\"2024-09-05T14:20:00+01:00\",\"2024-09-05T14:21:00+01:00\",\"2024-09-05T14:22:00+01:00\",\"2024-09-05T14:23:00+01:00\",\"2024-09-05T14:24:00+01:00\",\"2024-09-05T14:25:00+01:00\",\"2024-09-05T14:26:00+01:00\",\"2024-09-05T14:27:00+01:00\",\"2024-09-05T14:28:00+01:00\",\"2024-09-05T14:29:00+01:00\",\"2024-09-05T14:30:00+01:00\",\"2024-09-05T14:31:00+01:00\",\"2024-09-05T14:32:00+01:00\",\"2024-09-05T14:33:00+01:00\",\"2024-09-05T14:34:00+01:00\",\"2024-09-05T14:35:00+01:00\",\"2024-09-05T14:36:00+01:00\",\"2024-09-05T14:37:00+01:00\",\"2024-09-05T14:38:00+01:00\",\"2024-09-05T14:39:00+01:00\",\"2024-09-05T14:40:00+01:00\",\"2024-09-05T14:41:00+01:00\",\"2024-09-05T14:42:00+01:00\",\"2024-09-05T14:43:00+01:00\",\"2024-09-05T14:44:00+01:00\",\"2024-09-05T14:45:00+01:00\",\"2024-09-05T14:46:00+01:00\",\"2024-09-05T14:47:00+01:00\",\"2024-09-05T14:48:00+01:00\",\"2024-09-05T14:49:00+01:00\",\"2024-09-05T14:50:00+01:00\",\"2024-09-05T14:51:00+01:00\",\"2024-09-05T14:52:00+01:00\",\"2024-09-05T14:53:00+01:00\",\"2024-09-05T14:54:00+01:00\",\"2024-09-05T14:55:00+01:00\",\"2024-09-05T14:56:00+01:00\",\"2024-09-05T14:57:00+01:00\",\"2024-09-05T14:58:00+01:00\",\"2024-09-05T14:59:00+01:00\",\"2024-09-05T15:00:00+01:00\",\"2024-09-05T15:01:00+01:00\",\"2024-09-05T15:02:00+01:00\",\"2024-09-05T15:03:00+01:00\",\"2024-09-05T15:04:00+01:00\",\"2024-09-05T15:05:00+01:00\",\"2024-09-05T15:06:00+01:00\",\"2024-09-05T15:07:00+01:00\",\"2024-09-05T15:08:00+01:00\",\"2024-09-05T15:09:00+01:00\",\"2024-09-05T15:10:00+01:00\",\"2024-09-05T15:11:00+01:00\",\"2024-09-05T15:12:00+01:00\",\"2024-09-05T15:13:00+01:00\",\"2024-09-05T15:14:00+01:00\",\"2024-09-05T15:15:00+01:00\",\"2024-09-05T15:16:00+01:00\",\"2024-09-05T15:17:00+01:00\",\"2024-09-05T15:18:00+01:00\",\"2024-09-05T15:19:00+01:00\",\"2024-09-05T15:20:00+01:00\",\"2024-09-05T15:21:00+01:00\",\"2024-09-05T15:22:00+01:00\",\"2024-09-05T15:24:00+01:00\",\"2024-09-05T15:25:00+01:00\",\"2024-09-05T15:26:00+01:00\",\"2024-09-05T15:27:00+01:00\",\"2024-09-05T15:28:00+01:00\",\"2024-09-05T15:29:00+01:00\",\"2024-09-05T15:30:00+01:00\",\"2024-09-05T15:31:00+01:00\",\"2024-09-05T15:32:00+01:00\",\"2024-09-05T15:33:00+01:00\",\"2024-09-05T15:34:00+01:00\",\"2024-09-05T15:35:00+01:00\",\"2024-09-05T15:36:00+01:00\",\"2024-09-05T15:37:00+01:00\",\"2024-09-05T15:38:00+01:00\",\"2024-09-05T15:39:00+01:00\",\"2024-09-05T15:40:00+01:00\",\"2024-09-05T15:41:00+01:00\",\"2024-09-05T15:42:00+01:00\",\"2024-09-05T15:43:00+01:00\",\"2024-09-05T15:44:00+01:00\",\"2024-09-05T15:45:00+01:00\",\"2024-09-05T15:46:00+01:00\",\"2024-09-05T15:47:00+01:00\",\"2024-09-05T15:48:00+01:00\",\"2024-09-05T15:49:00+01:00\",\"2024-09-05T15:50:00+01:00\",\"2024-09-05T15:51:00+01:00\",\"2024-09-05T15:52:00+01:00\",\"2024-09-05T15:53:00+01:00\",\"2024-09-05T15:54:00+01:00\",\"2024-09-05T15:55:00+01:00\",\"2024-09-05T15:56:00+01:00\",\"2024-09-05T15:57:00+01:00\",\"2024-09-05T15:58:00+01:00\",\"2024-09-05T15:59:00+01:00\",\"2024-09-05T16:00:00+01:00\",\"2024-09-05T16:01:00+01:00\",\"2024-09-05T16:02:00+01:00\",\"2024-09-05T16:03:00+01:00\",\"2024-09-05T16:04:00+01:00\",\"2024-09-05T16:05:00+01:00\",\"2024-09-05T16:06:00+01:00\",\"2024-09-05T16:07:00+01:00\",\"2024-09-05T16:08:00+01:00\",\"2024-09-05T16:09:00+01:00\",\"2024-09-05T16:10:00+01:00\",\"2024-09-05T16:11:00+01:00\",\"2024-09-05T16:12:00+01:00\",\"2024-09-05T16:13:00+01:00\",\"2024-09-05T16:14:00+01:00\",\"2024-09-05T16:15:00+01:00\",\"2024-09-05T16:16:00+01:00\",\"2024-09-05T16:17:00+01:00\",\"2024-09-05T16:18:00+01:00\",\"2024-09-05T16:19:00+01:00\",\"2024-09-05T16:20:00+01:00\",\"2024-09-05T16:21:00+01:00\",\"2024-09-05T16:22:00+01:00\",\"2024-09-05T16:23:00+01:00\",\"2024-09-05T16:24:00+01:00\",\"2024-09-05T16:25:00+01:00\",\"2024-09-05T16:26:00+01:00\",\"2024-09-05T16:27:00+01:00\",\"2024-09-05T16:28:00+01:00\"],\"y\":[8262.73251953125,8264.160009765625,8265.052001953125,8265.9615234375,8266.842041015625,8267.61552734375,8268.410009765625,8269.147998046876,8270.22197265625,8270.665478515624,8271.124951171874,8271.395947265624,8271.515966796875,8271.875927734374,8272.24443359375,8272.467919921875,8272.379931640626,8272.239453125,8272.18896484375,8272.249951171874,8272.24794921875,8272.063916015624,8272.046435546876,8272.046923828126,8271.969921875,8272.00146484375,8272.23349609375,8272.4240234375,8272.64755859375,8272.874560546876,8273.214599609375,8273.462109375,8273.536083984374,8273.643603515626,8273.719580078125,8273.74658203125,8274.003076171875,8274.26357421875,8274.582080078126,8274.96005859375,8275.39208984375,8275.90009765625,8276.2935546875,8276.675048828125,8277.130517578125,8277.473486328125,8277.726953125,8277.967431640625,8278.0734375,8278.129931640626,8278.16240234375,8278.222412109375,8278.43642578125,8278.688427734374,8278.9599609375,8279.221435546875,8279.458447265624,8279.741455078125,8279.938427734374,8279.8849609375,8279.8349609375,8279.76298828125,8279.71298828125,8279.59248046875,8279.427001953125,8279.343994140625,8279.22451171875,8279.027001953125,8278.97998046875,8279.061474609374,8279.123974609374,8279.16845703125,8279.116455078125,8278.90146484375,8278.61142578125,8278.401953125,8278.1529296875,8278.01240234375,8277.975439453125,8278.04140625,8278.09638671875,8278.309375,8278.58388671875,8278.852392578125,8279.135888671875,8279.287890625,8279.485888671876,8279.735888671876,8279.973388671875,8280.200390625,8280.3583984375,8280.5958984375,8280.84091796875,8281.19892578125,8281.63447265625,8282.08544921875,8282.47646484375,8282.60498046875,8282.65244140625,8282.75546875,8282.802978515625,8282.63046875,8282.360498046875,8282.1625,8281.931005859375,8281.742041015625,8281.47255859375,8281.2630859375,8281.05859375,8280.673095703125,8280.30009765625,8279.83310546875,8279.38359375,8278.955078125,8278.53203125,8278.13603515625,8277.82802734375,8277.63603515625,8277.40205078125,8277.1115234375,8276.8400390625,8276.703564453124,8276.547021484375,8276.2955078125,8275.947021484375,8275.5490234375,8275.1240234375,8274.643505859374,8274.081005859374,8273.518994140624,8273.02900390625,8272.606494140626,8272.310009765624,8271.985986328125,8271.67099609375,8271.322998046875,8270.922998046875,8270.543505859376,8270.297509765625,8270.18701171875,8270.1875,8270.17998046875,8270.222509765625,8270.39404296875,8270.743505859375,8271.23447265625,8271.799462890625,8272.34248046875,8272.86396484375,8273.51396484375,8274.144970703124,8274.756982421875,8275.25546875,8275.72197265625,8276.0884765625,8276.448974609375,8276.831005859374,8277.177978515625,8277.3974609375,8277.465478515625,8277.4044921875,8277.296484375,8277.197998046875,8277.082470703124,8276.87900390625,8276.6775390625,8276.580517578124,8276.50849609375,8276.585009765626,8276.610009765625,8276.59248046875,8276.489501953125,8276.3705078125,8276.30654296875,8276.304541015625,8276.34453125,8276.376513671876,8276.3775390625,8276.354052734376,8276.345068359375,8276.3140625,8276.2015625,8276.0365234375,8275.766015625,8275.47998046875,8275.09296875,8274.5474609375,8274.008447265625,8273.37392578125,8272.718408203125,8272.022412109374,8271.24990234375,8270.419384765624,8269.441845703124,8268.529345703126,8267.490380859375,8266.37587890625,8265.289892578125,8264.38291015625,8263.485400390626,8262.590380859376,8261.8638671875,8261.21787109375,8260.6138671875,8260.020361328125,8259.375830078125,8258.88935546875,8258.361376953126,8257.812890625,8257.309423828125,8256.838916015626,8256.4904296875,8256.233935546876,8256.082470703124,8255.873974609374,8255.778466796875,8255.715478515625,8255.73994140625,8255.680908203125,8255.702880859375,8255.774365234374,8255.715869140626,8255.8173828125,8256.005908203126,8256.182421875,8256.5439453125,8256.736962890625,8256.94697265625,8257.09345703125,8257.204931640625,8257.31142578125,8257.397412109374,8257.505908203126,8257.640380859375,8257.910888671875,8258.207861328125,8258.61435546875,8258.900390625,8259.05791015625,8259.051416015625,8258.950439453125,8258.94443359375,8258.79794921875,8258.68046875,8258.649462890626,8258.51044921875,8258.3689453125,8258.2474609375,8258.11796875,8258.13798828125,8258.231494140626,8258.394970703124,8258.610498046875,8258.821533203125,8258.9275390625,8259.02705078125,8259.071533203125,8259.134033203125,8259.246044921874,8259.483056640625,8259.81005859375,8260.0470703125,8260.199072265625,8260.180029296875,8260.1275390625,8260.23955078125,8260.438037109376,8260.660498046875,8260.916015625,8261.04453125,8261.129541015625,8261.135546875,8261.030029296875,8260.8794921875,8260.756982421875,8260.589501953125,8260.42802734375,8260.234521484375,8260.07451171875,8259.880029296875,8259.709521484376,8259.703515625,8259.741015625,8259.858056640625,8259.895556640626,8259.734033203125,8259.513525390625,8259.33203125,8259.162548828124,8258.976025390624,8258.826513671875,8258.728515625,8258.688525390626,8258.779541015625,8258.938525390626,8259.2330078125,8258.914501953124,8258.67548828125,8258.344482421875,8258.011474609375,8257.560498046874,8257.006494140625,8256.333984375,8255.632958984375,8254.9634765625,8254.384521484375,8253.876025390626,8253.380029296875,8253.05400390625,8252.801513671875,8252.518017578124,8252.433544921874,8252.283544921875,8252.1265625,8251.8755859375,8251.57861328125,8251.98759765625,8252.340087890625,8252.540087890626,8252.8130859375,8253.135546875,8253.47607421875,8253.991064453125,8254.55859375,8255.218603515625,8255.8765625,8256.5060546875,8257.099072265624,8257.7890625,8258.466552734375,8259.107568359375,8259.550048828125,8259.901513671875,8260.128515625,8260.434033203124,8260.6294921875,8260.861474609375,8261.219970703125,8261.812451171874,8262.324951171875,8262.81298828125,8263.27197265625,8263.772998046876,8264.223486328125,8264.69296875,8265.075,8265.325,8265.473974609375,8265.4884765625,8265.473974609375,8265.5419921875,8265.5294921875,8265.647998046876,8265.818994140625,8265.90498046875,8266.0419921875,8266.03349609375,8265.897021484376,8265.7365234375,8265.527001953125,8265.33046875,8265.128466796876,8264.8064453125,8264.625927734374,8264.262939453125,8263.975927734375,8263.812451171874,8263.744970703125,8263.59150390625,8263.4705078125,8263.38701171875,8263.513037109375,8263.504052734375,8263.334033203126,8263.14853515625,8262.679052734375,8262.2255859375,8261.812548828126,8261.44658203125,8261.15361328125,8260.9611328125,8260.876123046875,8260.922119140625,8260.976611328126,8261.151611328125,8261.315625,8261.59560546875,8261.6451171875,8261.615576171875,8261.603076171876,8261.445556640625,8261.171044921875,8261.03603515625,8260.97353515625,8260.892041015624,8261.137548828125,8261.488037109375,8261.88857421875,8262.1890625,8262.54453125,8262.896533203126,8263.371533203124,8263.784033203125,8264.16904296875,8264.51904296875,8264.896044921876,8265.17705078125,8265.6435546875,8266.160595703124,8266.722607421874,8267.3416015625,8267.835107421875,8268.113134765625,8268.495654296876,8268.933642578126,8269.321142578125,8269.408642578124,8269.56513671875,8269.839111328125,8270.135107421875,8270.332080078126,8270.32109375,8270.364599609375,8270.344580078125,8270.199072265625,8270.019580078126,8269.920556640625,8269.75654296875,8269.642529296874,8269.356005859376,8269.197998046875,8269.19697265625,8269.396435546874,8269.656396484375,8269.973876953125,8270.30185546875,8270.81884765625,8271.268359375,8271.732373046874,8272.110888671876,8272.393896484375,8272.680419921875,8272.9083984375,8273.263427734375,8273.609912109376,8273.839892578126,8273.957421875,8274.071435546875,8274.1119140625,8274.134423828125,8273.8609375,8273.574951171875,8273.265478515625,8272.87099609375,8272.41552734375,8272.026025390625,8271.578515625,8271.168994140626,8270.6919921875,8270.26796875,8269.968994140625,8269.406982421875,8268.864501953125,8268.283984375,8267.885986328125,8267.55146484375,8267.29794921875,8266.9619140625,8266.83193359375,8266.779931640625,8266.8119140625,8266.809912109375,8266.7923828125,8266.54541015625,8266.231396484374,8265.839404296876,8265.617919921875,8265.317919921876,8265.0119140625,8264.59892578125,8264.230908203124,8264.0119140625,8263.75791015625,8263.339404296876,8262.7869140625,8262.2609375,8261.686962890624,8261.224462890625,8260.520458984374],\"type\":\"scatter\"}],                        {\"template\":{\"data\":{\"histogram2dcontour\":[{\"type\":\"histogram2dcontour\",\"colorbar\":{\"outlinewidth\":0,\"ticks\":\"\"},\"colorscale\":[[0.0,\"#0d0887\"],[0.1111111111111111,\"#46039f\"],[0.2222222222222222,\"#7201a8\"],[0.3333333333333333,\"#9c179e\"],[0.4444444444444444,\"#bd3786\"],[0.5555555555555556,\"#d8576b\"],[0.6666666666666666,\"#ed7953\"],[0.7777777777777778,\"#fb9f3a\"],[0.8888888888888888,\"#fdca26\"],[1.0,\"#f0f921\"]]}],\"choropleth\":[{\"type\":\"choropleth\",\"colorbar\":{\"outlinewidth\":0,\"ticks\":\"\"}}],\"histogram2d\":[{\"type\":\"histogram2d\",\"colorbar\":{\"outlinewidth\":0,\"ticks\":\"\"},\"colorscale\":[[0.0,\"#0d0887\"],[0.1111111111111111,\"#46039f\"],[0.2222222222222222,\"#7201a8\"],[0.3333333333333333,\"#9c179e\"],[0.4444444444444444,\"#bd3786\"],[0.5555555555555556,\"#d8576b\"],[0.6666666666666666,\"#ed7953\"],[0.7777777777777778,\"#fb9f3a\"],[0.8888888888888888,\"#fdca26\"],[1.0,\"#f0f921\"]]}],\"heatmap\":[{\"type\":\"heatmap\",\"colorbar\":{\"outlinewidth\":0,\"ticks\":\"\"},\"colorscale\":[[0.0,\"#0d0887\"],[0.1111111111111111,\"#46039f\"],[0.2222222222222222,\"#7201a8\"],[0.3333333333333333,\"#9c179e\"],[0.4444444444444444,\"#bd3786\"],[0.5555555555555556,\"#d8576b\"],[0.6666666666666666,\"#ed7953\"],[0.7777777777777778,\"#fb9f3a\"],[0.8888888888888888,\"#fdca26\"],[1.0,\"#f0f921\"]]}],\"heatmapgl\":[{\"type\":\"heatmapgl\",\"colorbar\":{\"outlinewidth\":0,\"ticks\":\"\"},\"colorscale\":[[0.0,\"#0d0887\"],[0.1111111111111111,\"#46039f\"],[0.2222222222222222,\"#7201a8\"],[0.3333333333333333,\"#9c179e\"],[0.4444444444444444,\"#bd3786\"],[0.5555555555555556,\"#d8576b\"],[0.6666666666666666,\"#ed7953\"],[0.7777777777777778,\"#fb9f3a\"],[0.8888888888888888,\"#fdca26\"],[1.0,\"#f0f921\"]]}],\"contourcarpet\":[{\"type\":\"contourcarpet\",\"colorbar\":{\"outlinewidth\":0,\"ticks\":\"\"}}],\"contour\":[{\"type\":\"contour\",\"colorbar\":{\"outlinewidth\":0,\"ticks\":\"\"},\"colorscale\":[[0.0,\"#0d0887\"],[0.1111111111111111,\"#46039f\"],[0.2222222222222222,\"#7201a8\"],[0.3333333333333333,\"#9c179e\"],[0.4444444444444444,\"#bd3786\"],[0.5555555555555556,\"#d8576b\"],[0.6666666666666666,\"#ed7953\"],[0.7777777777777778,\"#fb9f3a\"],[0.8888888888888888,\"#fdca26\"],[1.0,\"#f0f921\"]]}],\"surface\":[{\"type\":\"surface\",\"colorbar\":{\"outlinewidth\":0,\"ticks\":\"\"},\"colorscale\":[[0.0,\"#0d0887\"],[0.1111111111111111,\"#46039f\"],[0.2222222222222222,\"#7201a8\"],[0.3333333333333333,\"#9c179e\"],[0.4444444444444444,\"#bd3786\"],[0.5555555555555556,\"#d8576b\"],[0.6666666666666666,\"#ed7953\"],[0.7777777777777778,\"#fb9f3a\"],[0.8888888888888888,\"#fdca26\"],[1.0,\"#f0f921\"]]}],\"mesh3d\":[{\"type\":\"mesh3d\",\"colorbar\":{\"outlinewidth\":0,\"ticks\":\"\"}}],\"scatter\":[{\"fillpattern\":{\"fillmode\":\"overlay\",\"size\":10,\"solidity\":0.2},\"type\":\"scatter\"}],\"parcoords\":[{\"type\":\"parcoords\",\"line\":{\"colorbar\":{\"outlinewidth\":0,\"ticks\":\"\"}}}],\"scatterpolargl\":[{\"type\":\"scatterpolargl\",\"marker\":{\"colorbar\":{\"outlinewidth\":0,\"ticks\":\"\"}}}],\"bar\":[{\"error_x\":{\"color\":\"#2a3f5f\"},\"error_y\":{\"color\":\"#2a3f5f\"},\"marker\":{\"line\":{\"color\":\"#E5ECF6\",\"width\":0.5},\"pattern\":{\"fillmode\":\"overlay\",\"size\":10,\"solidity\":0.2}},\"type\":\"bar\"}],\"scattergeo\":[{\"type\":\"scattergeo\",\"marker\":{\"colorbar\":{\"outlinewidth\":0,\"ticks\":\"\"}}}],\"scatterpolar\":[{\"type\":\"scatterpolar\",\"marker\":{\"colorbar\":{\"outlinewidth\":0,\"ticks\":\"\"}}}],\"histogram\":[{\"marker\":{\"pattern\":{\"fillmode\":\"overlay\",\"size\":10,\"solidity\":0.2}},\"type\":\"histogram\"}],\"scattergl\":[{\"type\":\"scattergl\",\"marker\":{\"colorbar\":{\"outlinewidth\":0,\"ticks\":\"\"}}}],\"scatter3d\":[{\"type\":\"scatter3d\",\"line\":{\"colorbar\":{\"outlinewidth\":0,\"ticks\":\"\"}},\"marker\":{\"colorbar\":{\"outlinewidth\":0,\"ticks\":\"\"}}}],\"scattermapbox\":[{\"type\":\"scattermapbox\",\"marker\":{\"colorbar\":{\"outlinewidth\":0,\"ticks\":\"\"}}}],\"scatterternary\":[{\"type\":\"scatterternary\",\"marker\":{\"colorbar\":{\"outlinewidth\":0,\"ticks\":\"\"}}}],\"scattercarpet\":[{\"type\":\"scattercarpet\",\"marker\":{\"colorbar\":{\"outlinewidth\":0,\"ticks\":\"\"}}}],\"carpet\":[{\"aaxis\":{\"endlinecolor\":\"#2a3f5f\",\"gridcolor\":\"white\",\"linecolor\":\"white\",\"minorgridcolor\":\"white\",\"startlinecolor\":\"#2a3f5f\"},\"baxis\":{\"endlinecolor\":\"#2a3f5f\",\"gridcolor\":\"white\",\"linecolor\":\"white\",\"minorgridcolor\":\"white\",\"startlinecolor\":\"#2a3f5f\"},\"type\":\"carpet\"}],\"table\":[{\"cells\":{\"fill\":{\"color\":\"#EBF0F8\"},\"line\":{\"color\":\"white\"}},\"header\":{\"fill\":{\"color\":\"#C8D4E3\"},\"line\":{\"color\":\"white\"}},\"type\":\"table\"}],\"barpolar\":[{\"marker\":{\"line\":{\"color\":\"#E5ECF6\",\"width\":0.5},\"pattern\":{\"fillmode\":\"overlay\",\"size\":10,\"solidity\":0.2}},\"type\":\"barpolar\"}],\"pie\":[{\"automargin\":true,\"type\":\"pie\"}]},\"layout\":{\"autotypenumbers\":\"strict\",\"colorway\":[\"#636efa\",\"#EF553B\",\"#00cc96\",\"#ab63fa\",\"#FFA15A\",\"#19d3f3\",\"#FF6692\",\"#B6E880\",\"#FF97FF\",\"#FECB52\"],\"font\":{\"color\":\"#2a3f5f\"},\"hovermode\":\"closest\",\"hoverlabel\":{\"align\":\"left\"},\"paper_bgcolor\":\"white\",\"plot_bgcolor\":\"#E5ECF6\",\"polar\":{\"bgcolor\":\"#E5ECF6\",\"angularaxis\":{\"gridcolor\":\"white\",\"linecolor\":\"white\",\"ticks\":\"\"},\"radialaxis\":{\"gridcolor\":\"white\",\"linecolor\":\"white\",\"ticks\":\"\"}},\"ternary\":{\"bgcolor\":\"#E5ECF6\",\"aaxis\":{\"gridcolor\":\"white\",\"linecolor\":\"white\",\"ticks\":\"\"},\"baxis\":{\"gridcolor\":\"white\",\"linecolor\":\"white\",\"ticks\":\"\"},\"caxis\":{\"gridcolor\":\"white\",\"linecolor\":\"white\",\"ticks\":\"\"}},\"coloraxis\":{\"colorbar\":{\"outlinewidth\":0,\"ticks\":\"\"}},\"colorscale\":{\"sequential\":[[0.0,\"#0d0887\"],[0.1111111111111111,\"#46039f\"],[0.2222222222222222,\"#7201a8\"],[0.3333333333333333,\"#9c179e\"],[0.4444444444444444,\"#bd3786\"],[0.5555555555555556,\"#d8576b\"],[0.6666666666666666,\"#ed7953\"],[0.7777777777777778,\"#fb9f3a\"],[0.8888888888888888,\"#fdca26\"],[1.0,\"#f0f921\"]],\"sequentialminus\":[[0.0,\"#0d0887\"],[0.1111111111111111,\"#46039f\"],[0.2222222222222222,\"#7201a8\"],[0.3333333333333333,\"#9c179e\"],[0.4444444444444444,\"#bd3786\"],[0.5555555555555556,\"#d8576b\"],[0.6666666666666666,\"#ed7953\"],[0.7777777777777778,\"#fb9f3a\"],[0.8888888888888888,\"#fdca26\"],[1.0,\"#f0f921\"]],\"diverging\":[[0,\"#8e0152\"],[0.1,\"#c51b7d\"],[0.2,\"#de77ae\"],[0.3,\"#f1b6da\"],[0.4,\"#fde0ef\"],[0.5,\"#f7f7f7\"],[0.6,\"#e6f5d0\"],[0.7,\"#b8e186\"],[0.8,\"#7fbc41\"],[0.9,\"#4d9221\"],[1,\"#276419\"]]},\"xaxis\":{\"gridcolor\":\"white\",\"linecolor\":\"white\",\"ticks\":\"\",\"title\":{\"standoff\":15},\"zerolinecolor\":\"white\",\"automargin\":true,\"zerolinewidth\":2},\"yaxis\":{\"gridcolor\":\"white\",\"linecolor\":\"white\",\"ticks\":\"\",\"title\":{\"standoff\":15},\"zerolinecolor\":\"white\",\"automargin\":true,\"zerolinewidth\":2},\"scene\":{\"xaxis\":{\"backgroundcolor\":\"#E5ECF6\",\"gridcolor\":\"white\",\"linecolor\":\"white\",\"showbackground\":true,\"ticks\":\"\",\"zerolinecolor\":\"white\",\"gridwidth\":2},\"yaxis\":{\"backgroundcolor\":\"#E5ECF6\",\"gridcolor\":\"white\",\"linecolor\":\"white\",\"showbackground\":true,\"ticks\":\"\",\"zerolinecolor\":\"white\",\"gridwidth\":2},\"zaxis\":{\"backgroundcolor\":\"#E5ECF6\",\"gridcolor\":\"white\",\"linecolor\":\"white\",\"showbackground\":true,\"ticks\":\"\",\"zerolinecolor\":\"white\",\"gridwidth\":2}},\"shapedefaults\":{\"line\":{\"color\":\"#2a3f5f\"}},\"annotationdefaults\":{\"arrowcolor\":\"#2a3f5f\",\"arrowhead\":0,\"arrowwidth\":1},\"geo\":{\"bgcolor\":\"white\",\"landcolor\":\"#E5ECF6\",\"subunitcolor\":\"white\",\"showland\":true,\"showlakes\":true,\"lakecolor\":\"white\"},\"title\":{\"x\":0.05},\"mapbox\":{\"style\":\"light\"}}},\"title\":{\"text\":\"FTSE100 Index - 20-Period Moving Average\"},\"xaxis\":{\"title\":{\"text\":\"Time\"}},\"yaxis\":{\"title\":{\"text\":\"Price\"}}},                        {\"responsive\": true}                    ).then(function(){\n",
              "                            \n",
              "var gd = document.getElementById('00de9139-157c-4c79-95e9-bd3b481e7094');\n",
              "var x = new MutationObserver(function (mutations, observer) {{\n",
              "        var display = window.getComputedStyle(gd).display;\n",
              "        if (!display || display === 'none') {{\n",
              "            console.log([gd, 'removed!']);\n",
              "            Plotly.purge(gd);\n",
              "            observer.disconnect();\n",
              "        }}\n",
              "}});\n",
              "\n",
              "// Listen for the removal of the full notebook cells\n",
              "var notebookContainer = gd.closest('#notebook-container');\n",
              "if (notebookContainer) {{\n",
              "    x.observe(notebookContainer, {childList: true});\n",
              "}}\n",
              "\n",
              "// Listen for the clearing of the current output cell\n",
              "var outputEl = gd.closest('.output');\n",
              "if (outputEl) {{\n",
              "    x.observe(outputEl, {childList: true});\n",
              "}}\n",
              "\n",
              "                        })                };                            </script>        </div>\n",
              "</body>\n",
              "</html>"
            ]
          },
          "metadata": {}
        }
      ]
    },
    {
      "cell_type": "markdown",
      "source": [
        "*Linear Regression Prediction Plot*"
      ],
      "metadata": {
        "id": "fCct-wQaPle7"
      }
    },
    {
      "cell_type": "markdown",
      "source": [
        "**Linear Regression assumes linearity between the independent and dependent variables it is not always true in case of financial data. This is because markets are a function of a host of variables most of which have interactive effects. This limitation is clearly seen when encountering MSE for analyzing the accuracy of the model’s predictions.**"
      ],
      "metadata": {
        "id": "NE8sASkjqC71"
      }
    },
    {
      "cell_type": "code",
      "source": [
        "data['Predicted Close'] = linear_model.predict(data[['Close']])\n",
        "lr_fig = go.Figure()\n",
        "lr_fig.add_trace(go.Scatter(x=data.index, y=data['Predicted Close'], mode='lines', name='Linear Regression Prediction'))\n",
        "lr_fig.update_layout(title='FTSE100 Index - Linear Regression Prediction', xaxis_title='Time', yaxis_title='Price')\n",
        "lr_fig.show()\n",
        "# Suppress all warnings\n",
        "warnings.filterwarnings(\"ignore\")"
      ],
      "metadata": {
        "colab": {
          "base_uri": "https://localhost:8080/",
          "height": 542
        },
        "id": "hAANREpmPRkM",
        "outputId": "9d9f1e8c-2d7c-470a-8343-d580cbc0a1e4"
      },
      "execution_count": 17,
      "outputs": [
        {
          "output_type": "display_data",
          "data": {
            "text/html": [
              "<html>\n",
              "<head><meta charset=\"utf-8\" /></head>\n",
              "<body>\n",
              "    <div>            <script src=\"https://cdnjs.cloudflare.com/ajax/libs/mathjax/2.7.5/MathJax.js?config=TeX-AMS-MML_SVG\"></script><script type=\"text/javascript\">if (window.MathJax && window.MathJax.Hub && window.MathJax.Hub.Config) {window.MathJax.Hub.Config({SVG: {font: \"STIX-Web\"}});}</script>                <script type=\"text/javascript\">window.PlotlyConfig = {MathJaxConfig: 'local'};</script>\n",
              "        <script charset=\"utf-8\" src=\"https://cdn.plot.ly/plotly-2.24.1.min.js\"></script>                <div id=\"087eb6a5-8bb8-4ed3-9bc6-0dc1fe0eea46\" class=\"plotly-graph-div\" style=\"height:525px; width:100%;\"></div>            <script type=\"text/javascript\">                                    window.PLOTLYENV=window.PLOTLYENV || {};                                    if (document.getElementById(\"087eb6a5-8bb8-4ed3-9bc6-0dc1fe0eea46\")) {                    Plotly.newPlot(                        \"087eb6a5-8bb8-4ed3-9bc6-0dc1fe0eea46\",                        [{\"mode\":\"lines\",\"name\":\"Linear Regression Prediction\",\"x\":[\"2024-09-05T08:19:00+01:00\",\"2024-09-05T08:20:00+01:00\",\"2024-09-05T08:21:00+01:00\",\"2024-09-05T08:22:00+01:00\",\"2024-09-05T08:23:00+01:00\",\"2024-09-05T08:24:00+01:00\",\"2024-09-05T08:25:00+01:00\",\"2024-09-05T08:26:00+01:00\",\"2024-09-05T08:27:00+01:00\",\"2024-09-05T08:28:00+01:00\",\"2024-09-05T08:29:00+01:00\",\"2024-09-05T08:30:00+01:00\",\"2024-09-05T08:31:00+01:00\",\"2024-09-05T08:32:00+01:00\",\"2024-09-05T08:33:00+01:00\",\"2024-09-05T08:34:00+01:00\",\"2024-09-05T08:35:00+01:00\",\"2024-09-05T08:36:00+01:00\",\"2024-09-05T08:37:00+01:00\",\"2024-09-05T08:38:00+01:00\",\"2024-09-05T08:39:00+01:00\",\"2024-09-05T08:40:00+01:00\",\"2024-09-05T08:41:00+01:00\",\"2024-09-05T08:42:00+01:00\",\"2024-09-05T08:43:00+01:00\",\"2024-09-05T08:44:00+01:00\",\"2024-09-05T08:45:00+01:00\",\"2024-09-05T08:46:00+01:00\",\"2024-09-05T08:47:00+01:00\",\"2024-09-05T08:48:00+01:00\",\"2024-09-05T08:49:00+01:00\",\"2024-09-05T08:50:00+01:00\",\"2024-09-05T08:51:00+01:00\",\"2024-09-05T08:52:00+01:00\",\"2024-09-05T08:53:00+01:00\",\"2024-09-05T08:54:00+01:00\",\"2024-09-05T08:55:00+01:00\",\"2024-09-05T08:56:00+01:00\",\"2024-09-05T08:57:00+01:00\",\"2024-09-05T08:58:00+01:00\",\"2024-09-05T08:59:00+01:00\",\"2024-09-05T09:00:00+01:00\",\"2024-09-05T09:01:00+01:00\",\"2024-09-05T09:02:00+01:00\",\"2024-09-05T09:03:00+01:00\",\"2024-09-05T09:04:00+01:00\",\"2024-09-05T09:05:00+01:00\",\"2024-09-05T09:06:00+01:00\",\"2024-09-05T09:07:00+01:00\",\"2024-09-05T09:08:00+01:00\",\"2024-09-05T09:09:00+01:00\",\"2024-09-05T09:10:00+01:00\",\"2024-09-05T09:11:00+01:00\",\"2024-09-05T09:12:00+01:00\",\"2024-09-05T09:13:00+01:00\",\"2024-09-05T09:14:00+01:00\",\"2024-09-05T09:15:00+01:00\",\"2024-09-05T09:16:00+01:00\",\"2024-09-05T09:17:00+01:00\",\"2024-09-05T09:18:00+01:00\",\"2024-09-05T09:19:00+01:00\",\"2024-09-05T09:20:00+01:00\",\"2024-09-05T09:21:00+01:00\",\"2024-09-05T09:22:00+01:00\",\"2024-09-05T09:23:00+01:00\",\"2024-09-05T09:24:00+01:00\",\"2024-09-05T09:25:00+01:00\",\"2024-09-05T09:26:00+01:00\",\"2024-09-05T09:27:00+01:00\",\"2024-09-05T09:28:00+01:00\",\"2024-09-05T09:29:00+01:00\",\"2024-09-05T09:30:00+01:00\",\"2024-09-05T09:31:00+01:00\",\"2024-09-05T09:32:00+01:00\",\"2024-09-05T09:33:00+01:00\",\"2024-09-05T09:34:00+01:00\",\"2024-09-05T09:35:00+01:00\",\"2024-09-05T09:36:00+01:00\",\"2024-09-05T09:37:00+01:00\",\"2024-09-05T09:38:00+01:00\",\"2024-09-05T09:39:00+01:00\",\"2024-09-05T09:40:00+01:00\",\"2024-09-05T09:41:00+01:00\",\"2024-09-05T09:42:00+01:00\",\"2024-09-05T09:43:00+01:00\",\"2024-09-05T09:44:00+01:00\",\"2024-09-05T09:45:00+01:00\",\"2024-09-05T09:46:00+01:00\",\"2024-09-05T09:47:00+01:00\",\"2024-09-05T09:48:00+01:00\",\"2024-09-05T09:49:00+01:00\",\"2024-09-05T09:50:00+01:00\",\"2024-09-05T09:51:00+01:00\",\"2024-09-05T09:52:00+01:00\",\"2024-09-05T09:53:00+01:00\",\"2024-09-05T09:54:00+01:00\",\"2024-09-05T09:55:00+01:00\",\"2024-09-05T09:56:00+01:00\",\"2024-09-05T09:57:00+01:00\",\"2024-09-05T09:58:00+01:00\",\"2024-09-05T09:59:00+01:00\",\"2024-09-05T10:00:00+01:00\",\"2024-09-05T10:01:00+01:00\",\"2024-09-05T10:02:00+01:00\",\"2024-09-05T10:03:00+01:00\",\"2024-09-05T10:04:00+01:00\",\"2024-09-05T10:05:00+01:00\",\"2024-09-05T10:06:00+01:00\",\"2024-09-05T10:07:00+01:00\",\"2024-09-05T10:08:00+01:00\",\"2024-09-05T10:09:00+01:00\",\"2024-09-05T10:10:00+01:00\",\"2024-09-05T10:11:00+01:00\",\"2024-09-05T10:12:00+01:00\",\"2024-09-05T10:13:00+01:00\",\"2024-09-05T10:14:00+01:00\",\"2024-09-05T10:15:00+01:00\",\"2024-09-05T10:16:00+01:00\",\"2024-09-05T10:17:00+01:00\",\"2024-09-05T10:18:00+01:00\",\"2024-09-05T10:19:00+01:00\",\"2024-09-05T10:20:00+01:00\",\"2024-09-05T10:21:00+01:00\",\"2024-09-05T10:22:00+01:00\",\"2024-09-05T10:23:00+01:00\",\"2024-09-05T10:24:00+01:00\",\"2024-09-05T10:25:00+01:00\",\"2024-09-05T10:26:00+01:00\",\"2024-09-05T10:27:00+01:00\",\"2024-09-05T10:28:00+01:00\",\"2024-09-05T10:29:00+01:00\",\"2024-09-05T10:30:00+01:00\",\"2024-09-05T10:31:00+01:00\",\"2024-09-05T10:32:00+01:00\",\"2024-09-05T10:33:00+01:00\",\"2024-09-05T10:34:00+01:00\",\"2024-09-05T10:35:00+01:00\",\"2024-09-05T10:36:00+01:00\",\"2024-09-05T10:37:00+01:00\",\"2024-09-05T10:38:00+01:00\",\"2024-09-05T10:39:00+01:00\",\"2024-09-05T10:40:00+01:00\",\"2024-09-05T10:41:00+01:00\",\"2024-09-05T10:42:00+01:00\",\"2024-09-05T10:43:00+01:00\",\"2024-09-05T10:44:00+01:00\",\"2024-09-05T10:45:00+01:00\",\"2024-09-05T10:46:00+01:00\",\"2024-09-05T10:47:00+01:00\",\"2024-09-05T10:48:00+01:00\",\"2024-09-05T10:49:00+01:00\",\"2024-09-05T10:50:00+01:00\",\"2024-09-05T10:51:00+01:00\",\"2024-09-05T10:52:00+01:00\",\"2024-09-05T10:53:00+01:00\",\"2024-09-05T10:54:00+01:00\",\"2024-09-05T10:55:00+01:00\",\"2024-09-05T10:56:00+01:00\",\"2024-09-05T10:57:00+01:00\",\"2024-09-05T10:58:00+01:00\",\"2024-09-05T10:59:00+01:00\",\"2024-09-05T11:00:00+01:00\",\"2024-09-05T11:01:00+01:00\",\"2024-09-05T11:02:00+01:00\",\"2024-09-05T11:03:00+01:00\",\"2024-09-05T11:04:00+01:00\",\"2024-09-05T11:05:00+01:00\",\"2024-09-05T11:06:00+01:00\",\"2024-09-05T11:07:00+01:00\",\"2024-09-05T11:08:00+01:00\",\"2024-09-05T11:09:00+01:00\",\"2024-09-05T11:10:00+01:00\",\"2024-09-05T11:11:00+01:00\",\"2024-09-05T11:12:00+01:00\",\"2024-09-05T11:13:00+01:00\",\"2024-09-05T11:14:00+01:00\",\"2024-09-05T11:15:00+01:00\",\"2024-09-05T11:16:00+01:00\",\"2024-09-05T11:17:00+01:00\",\"2024-09-05T11:18:00+01:00\",\"2024-09-05T11:19:00+01:00\",\"2024-09-05T11:20:00+01:00\",\"2024-09-05T11:21:00+01:00\",\"2024-09-05T11:22:00+01:00\",\"2024-09-05T11:23:00+01:00\",\"2024-09-05T11:24:00+01:00\",\"2024-09-05T11:25:00+01:00\",\"2024-09-05T11:26:00+01:00\",\"2024-09-05T11:27:00+01:00\",\"2024-09-05T11:28:00+01:00\",\"2024-09-05T11:29:00+01:00\",\"2024-09-05T11:30:00+01:00\",\"2024-09-05T11:31:00+01:00\",\"2024-09-05T11:32:00+01:00\",\"2024-09-05T11:33:00+01:00\",\"2024-09-05T11:34:00+01:00\",\"2024-09-05T11:35:00+01:00\",\"2024-09-05T11:36:00+01:00\",\"2024-09-05T11:37:00+01:00\",\"2024-09-05T11:38:00+01:00\",\"2024-09-05T11:39:00+01:00\",\"2024-09-05T11:40:00+01:00\",\"2024-09-05T11:41:00+01:00\",\"2024-09-05T11:42:00+01:00\",\"2024-09-05T11:43:00+01:00\",\"2024-09-05T11:44:00+01:00\",\"2024-09-05T11:45:00+01:00\",\"2024-09-05T11:46:00+01:00\",\"2024-09-05T11:47:00+01:00\",\"2024-09-05T11:48:00+01:00\",\"2024-09-05T11:49:00+01:00\",\"2024-09-05T11:50:00+01:00\",\"2024-09-05T11:51:00+01:00\",\"2024-09-05T11:52:00+01:00\",\"2024-09-05T11:53:00+01:00\",\"2024-09-05T11:54:00+01:00\",\"2024-09-05T11:55:00+01:00\",\"2024-09-05T11:56:00+01:00\",\"2024-09-05T11:57:00+01:00\",\"2024-09-05T11:58:00+01:00\",\"2024-09-05T11:59:00+01:00\",\"2024-09-05T12:00:00+01:00\",\"2024-09-05T12:01:00+01:00\",\"2024-09-05T12:02:00+01:00\",\"2024-09-05T12:03:00+01:00\",\"2024-09-05T12:04:00+01:00\",\"2024-09-05T12:05:00+01:00\",\"2024-09-05T12:06:00+01:00\",\"2024-09-05T12:07:00+01:00\",\"2024-09-05T12:08:00+01:00\",\"2024-09-05T12:09:00+01:00\",\"2024-09-05T12:10:00+01:00\",\"2024-09-05T12:11:00+01:00\",\"2024-09-05T12:12:00+01:00\",\"2024-09-05T12:13:00+01:00\",\"2024-09-05T12:14:00+01:00\",\"2024-09-05T12:15:00+01:00\",\"2024-09-05T12:16:00+01:00\",\"2024-09-05T12:17:00+01:00\",\"2024-09-05T12:18:00+01:00\",\"2024-09-05T12:19:00+01:00\",\"2024-09-05T12:20:00+01:00\",\"2024-09-05T12:21:00+01:00\",\"2024-09-05T12:22:00+01:00\",\"2024-09-05T12:23:00+01:00\",\"2024-09-05T12:24:00+01:00\",\"2024-09-05T12:25:00+01:00\",\"2024-09-05T12:26:00+01:00\",\"2024-09-05T12:27:00+01:00\",\"2024-09-05T12:28:00+01:00\",\"2024-09-05T12:29:00+01:00\",\"2024-09-05T12:30:00+01:00\",\"2024-09-05T12:31:00+01:00\",\"2024-09-05T12:32:00+01:00\",\"2024-09-05T12:33:00+01:00\",\"2024-09-05T12:34:00+01:00\",\"2024-09-05T12:35:00+01:00\",\"2024-09-05T12:36:00+01:00\",\"2024-09-05T12:37:00+01:00\",\"2024-09-05T12:38:00+01:00\",\"2024-09-05T12:39:00+01:00\",\"2024-09-05T12:40:00+01:00\",\"2024-09-05T12:41:00+01:00\",\"2024-09-05T12:42:00+01:00\",\"2024-09-05T12:43:00+01:00\",\"2024-09-05T12:44:00+01:00\",\"2024-09-05T12:45:00+01:00\",\"2024-09-05T12:46:00+01:00\",\"2024-09-05T12:47:00+01:00\",\"2024-09-05T12:48:00+01:00\",\"2024-09-05T12:49:00+01:00\",\"2024-09-05T12:50:00+01:00\",\"2024-09-05T12:51:00+01:00\",\"2024-09-05T12:52:00+01:00\",\"2024-09-05T12:53:00+01:00\",\"2024-09-05T12:54:00+01:00\",\"2024-09-05T12:55:00+01:00\",\"2024-09-05T12:56:00+01:00\",\"2024-09-05T12:57:00+01:00\",\"2024-09-05T12:58:00+01:00\",\"2024-09-05T12:59:00+01:00\",\"2024-09-05T13:00:00+01:00\",\"2024-09-05T13:01:00+01:00\",\"2024-09-05T13:02:00+01:00\",\"2024-09-05T13:03:00+01:00\",\"2024-09-05T13:04:00+01:00\",\"2024-09-05T13:05:00+01:00\",\"2024-09-05T13:06:00+01:00\",\"2024-09-05T13:07:00+01:00\",\"2024-09-05T13:08:00+01:00\",\"2024-09-05T13:09:00+01:00\",\"2024-09-05T13:10:00+01:00\",\"2024-09-05T13:11:00+01:00\",\"2024-09-05T13:12:00+01:00\",\"2024-09-05T13:13:00+01:00\",\"2024-09-05T13:14:00+01:00\",\"2024-09-05T13:15:00+01:00\",\"2024-09-05T13:16:00+01:00\",\"2024-09-05T13:17:00+01:00\",\"2024-09-05T13:18:00+01:00\",\"2024-09-05T13:19:00+01:00\",\"2024-09-05T13:20:00+01:00\",\"2024-09-05T13:21:00+01:00\",\"2024-09-05T13:22:00+01:00\",\"2024-09-05T13:23:00+01:00\",\"2024-09-05T13:24:00+01:00\",\"2024-09-05T13:25:00+01:00\",\"2024-09-05T13:26:00+01:00\",\"2024-09-05T13:27:00+01:00\",\"2024-09-05T13:28:00+01:00\",\"2024-09-05T13:29:00+01:00\",\"2024-09-05T13:30:00+01:00\",\"2024-09-05T13:31:00+01:00\",\"2024-09-05T13:32:00+01:00\",\"2024-09-05T13:33:00+01:00\",\"2024-09-05T13:34:00+01:00\",\"2024-09-05T13:35:00+01:00\",\"2024-09-05T13:36:00+01:00\",\"2024-09-05T13:37:00+01:00\",\"2024-09-05T13:38:00+01:00\",\"2024-09-05T13:39:00+01:00\",\"2024-09-05T13:40:00+01:00\",\"2024-09-05T13:41:00+01:00\",\"2024-09-05T13:42:00+01:00\",\"2024-09-05T13:43:00+01:00\",\"2024-09-05T13:44:00+01:00\",\"2024-09-05T13:45:00+01:00\",\"2024-09-05T13:46:00+01:00\",\"2024-09-05T13:47:00+01:00\",\"2024-09-05T13:48:00+01:00\",\"2024-09-05T13:49:00+01:00\",\"2024-09-05T13:50:00+01:00\",\"2024-09-05T13:51:00+01:00\",\"2024-09-05T13:52:00+01:00\",\"2024-09-05T13:53:00+01:00\",\"2024-09-05T13:54:00+01:00\",\"2024-09-05T13:55:00+01:00\",\"2024-09-05T13:56:00+01:00\",\"2024-09-05T13:57:00+01:00\",\"2024-09-05T13:58:00+01:00\",\"2024-09-05T13:59:00+01:00\",\"2024-09-05T14:00:00+01:00\",\"2024-09-05T14:01:00+01:00\",\"2024-09-05T14:02:00+01:00\",\"2024-09-05T14:03:00+01:00\",\"2024-09-05T14:04:00+01:00\",\"2024-09-05T14:05:00+01:00\",\"2024-09-05T14:06:00+01:00\",\"2024-09-05T14:07:00+01:00\",\"2024-09-05T14:08:00+01:00\",\"2024-09-05T14:09:00+01:00\",\"2024-09-05T14:10:00+01:00\",\"2024-09-05T14:11:00+01:00\",\"2024-09-05T14:12:00+01:00\",\"2024-09-05T14:13:00+01:00\",\"2024-09-05T14:14:00+01:00\",\"2024-09-05T14:15:00+01:00\",\"2024-09-05T14:16:00+01:00\",\"2024-09-05T14:17:00+01:00\",\"2024-09-05T14:18:00+01:00\",\"2024-09-05T14:19:00+01:00\",\"2024-09-05T14:20:00+01:00\",\"2024-09-05T14:21:00+01:00\",\"2024-09-05T14:22:00+01:00\",\"2024-09-05T14:23:00+01:00\",\"2024-09-05T14:24:00+01:00\",\"2024-09-05T14:25:00+01:00\",\"2024-09-05T14:26:00+01:00\",\"2024-09-05T14:27:00+01:00\",\"2024-09-05T14:28:00+01:00\",\"2024-09-05T14:29:00+01:00\",\"2024-09-05T14:30:00+01:00\",\"2024-09-05T14:31:00+01:00\",\"2024-09-05T14:32:00+01:00\",\"2024-09-05T14:33:00+01:00\",\"2024-09-05T14:34:00+01:00\",\"2024-09-05T14:35:00+01:00\",\"2024-09-05T14:36:00+01:00\",\"2024-09-05T14:37:00+01:00\",\"2024-09-05T14:38:00+01:00\",\"2024-09-05T14:39:00+01:00\",\"2024-09-05T14:40:00+01:00\",\"2024-09-05T14:41:00+01:00\",\"2024-09-05T14:42:00+01:00\",\"2024-09-05T14:43:00+01:00\",\"2024-09-05T14:44:00+01:00\",\"2024-09-05T14:45:00+01:00\",\"2024-09-05T14:46:00+01:00\",\"2024-09-05T14:47:00+01:00\",\"2024-09-05T14:48:00+01:00\",\"2024-09-05T14:49:00+01:00\",\"2024-09-05T14:50:00+01:00\",\"2024-09-05T14:51:00+01:00\",\"2024-09-05T14:52:00+01:00\",\"2024-09-05T14:53:00+01:00\",\"2024-09-05T14:54:00+01:00\",\"2024-09-05T14:55:00+01:00\",\"2024-09-05T14:56:00+01:00\",\"2024-09-05T14:57:00+01:00\",\"2024-09-05T14:58:00+01:00\",\"2024-09-05T14:59:00+01:00\",\"2024-09-05T15:00:00+01:00\",\"2024-09-05T15:01:00+01:00\",\"2024-09-05T15:02:00+01:00\",\"2024-09-05T15:03:00+01:00\",\"2024-09-05T15:04:00+01:00\",\"2024-09-05T15:05:00+01:00\",\"2024-09-05T15:06:00+01:00\",\"2024-09-05T15:07:00+01:00\",\"2024-09-05T15:08:00+01:00\",\"2024-09-05T15:09:00+01:00\",\"2024-09-05T15:10:00+01:00\",\"2024-09-05T15:11:00+01:00\",\"2024-09-05T15:12:00+01:00\",\"2024-09-05T15:13:00+01:00\",\"2024-09-05T15:14:00+01:00\",\"2024-09-05T15:15:00+01:00\",\"2024-09-05T15:16:00+01:00\",\"2024-09-05T15:17:00+01:00\",\"2024-09-05T15:18:00+01:00\",\"2024-09-05T15:19:00+01:00\",\"2024-09-05T15:20:00+01:00\",\"2024-09-05T15:21:00+01:00\",\"2024-09-05T15:22:00+01:00\",\"2024-09-05T15:24:00+01:00\",\"2024-09-05T15:25:00+01:00\",\"2024-09-05T15:26:00+01:00\",\"2024-09-05T15:27:00+01:00\",\"2024-09-05T15:28:00+01:00\",\"2024-09-05T15:29:00+01:00\",\"2024-09-05T15:30:00+01:00\",\"2024-09-05T15:31:00+01:00\",\"2024-09-05T15:32:00+01:00\",\"2024-09-05T15:33:00+01:00\",\"2024-09-05T15:34:00+01:00\",\"2024-09-05T15:35:00+01:00\",\"2024-09-05T15:36:00+01:00\",\"2024-09-05T15:37:00+01:00\",\"2024-09-05T15:38:00+01:00\",\"2024-09-05T15:39:00+01:00\",\"2024-09-05T15:40:00+01:00\",\"2024-09-05T15:41:00+01:00\",\"2024-09-05T15:42:00+01:00\",\"2024-09-05T15:43:00+01:00\",\"2024-09-05T15:44:00+01:00\",\"2024-09-05T15:45:00+01:00\",\"2024-09-05T15:46:00+01:00\",\"2024-09-05T15:47:00+01:00\",\"2024-09-05T15:48:00+01:00\",\"2024-09-05T15:49:00+01:00\",\"2024-09-05T15:50:00+01:00\",\"2024-09-05T15:51:00+01:00\",\"2024-09-05T15:52:00+01:00\",\"2024-09-05T15:53:00+01:00\",\"2024-09-05T15:54:00+01:00\",\"2024-09-05T15:55:00+01:00\",\"2024-09-05T15:56:00+01:00\",\"2024-09-05T15:57:00+01:00\",\"2024-09-05T15:58:00+01:00\",\"2024-09-05T15:59:00+01:00\",\"2024-09-05T16:00:00+01:00\",\"2024-09-05T16:01:00+01:00\",\"2024-09-05T16:02:00+01:00\",\"2024-09-05T16:03:00+01:00\",\"2024-09-05T16:04:00+01:00\",\"2024-09-05T16:05:00+01:00\",\"2024-09-05T16:06:00+01:00\",\"2024-09-05T16:07:00+01:00\",\"2024-09-05T16:08:00+01:00\",\"2024-09-05T16:09:00+01:00\",\"2024-09-05T16:10:00+01:00\",\"2024-09-05T16:11:00+01:00\",\"2024-09-05T16:12:00+01:00\",\"2024-09-05T16:13:00+01:00\",\"2024-09-05T16:14:00+01:00\",\"2024-09-05T16:15:00+01:00\",\"2024-09-05T16:16:00+01:00\",\"2024-09-05T16:17:00+01:00\",\"2024-09-05T16:18:00+01:00\",\"2024-09-05T16:19:00+01:00\",\"2024-09-05T16:20:00+01:00\",\"2024-09-05T16:21:00+01:00\",\"2024-09-05T16:22:00+01:00\",\"2024-09-05T16:23:00+01:00\",\"2024-09-05T16:24:00+01:00\",\"2024-09-05T16:25:00+01:00\",\"2024-09-05T16:26:00+01:00\",\"2024-09-05T16:27:00+01:00\",\"2024-09-05T16:28:00+01:00\"],\"y\":[8271.513977706487,8273.416271717342,8271.9479355208,8271.938313396313,8273.248846751289,8272.666708219895,8270.686475000704,8272.410759708571,8272.420381833057,8272.184639783152,8271.760304093325,8273.238262414354,8274.322675843912,8273.977241574868,8273.751121649451,8272.726365391707,8269.937873715702,8269.484671652419,8270.09567655727,8271.366759201854,8271.474526996095,8269.78969299862,8271.603463464206,8271.9479355208,8271.731437719867,8273.28829746168,8275.258908556385,8276.165312682955,8276.825390422684,8276.65796545663,8278.461151585281,8278.11571731624,8275.78042770352,8276.096033386657,8275.24832421945,8273.258468875774,8274.992375708127,8274.618075065628,8276.3721883594,8278.81524576636,8279.988182741188,8279.800551313714,8279.356971374915,8279.465701381607,8280.70695544028,8280.046877700552,8280.253753376997,8280.904208992242,8278.914353648564,8277.771245259646,8279.101022863591,8279.298276415551,8279.997804865674,8281.06201183381,8280.59918764604,8278.411116537955,8279.662954933567,8280.195058417634,8280.253753376997,8277.76162313516,8279.002877193834,8278.382250164497,8278.371665827563,8277.090961058493,8277.446017452023,8278.411116537955,8277.899219515308,8277.01205963771,8277.987743060577,8279.377177836335,8280.332654797781,8280.174851956213,8278.973048607928,8276.825390422684,8274.883645701437,8274.28322513352,8274.755671445775,8277.425810990602,8279.525358553417,8279.0615721532,8280.086328410944,8282.579420865231,8283.781224213515,8282.38216731327,8283.032622928517,8281.406483890405,8281.800990994325,8281.938587374472,8282.667944410501,8283.850503509813,8283.446374281408,8284.855053306139,8283.801430674936,8283.88033209572,8283.466580742828,8283.170219308664,8282.461068734054,8279.958354155282,8280.460629053443,8281.091840419716,8281.022561123418,8279.179924284375,8278.461151585281,8278.480395834253,8278.470773709767,8277.682721714375,8276.490540490577,8277.810695970038,8278.63819867582,8276.253836228225,8276.096033386657,8275.652453447858,8274.94330287325,8275.435955646924,8275.129972088274,8275.366676350626,8276.391432608372,8276.17493480744,8275.849706999817,8275.366676350626,8275.672659909278,8276.490540490577,8275.376298475114,8273.524039511583,8271.603463464206,8269.839728045947,8268.11544333808,8268.341563263499,8267.553511268106,8265.178770944995,8266.44023146509,8267.32642913024,8269.100748885434,8269.050713838107,8268.922739582446,8268.508988229552,8268.508988229552,8268.696619657027,8271.00208068384,8273.189189579476,8275.682282033764,8276.342359773495,8276.214385517833,8276.904291843468,8278.490017958738,8279.514774216485,8279.249203580674,8279.042327904228,8277.82994021901,8277.987743060577,8278.874902938172,8279.386799960821,8278.92397577305,8278.2436915719,8276.145106221535,8275.613002737466,8276.037338427293,8275.534101316682,8275.327225640234,8274.529551520358,8274.48047868548,8274.213945837222,8274.273603009035,8274.627697190113,8274.48047868548,8275.544685653616,8277.337287445333,8277.623064542562,8279.337727125943,8278.480395834253,8278.52946866913,8277.357493906753,8276.579064035846,8276.983193264252,8276.105655511143,8276.401054732858,8276.667587581116,8275.554307778102,8274.864401452465,8274.352504429819,8273.869473780627,8271.997008355678,8271.021324932812,8269.297040224945,8268.843838161662,8267.91818978612,8266.587449969726,8267.001201322619,8266.833776356563,8265.562693711981,8264.814092426981,8262.134330757668,8260.212792497841,8257.719700043554,8258.12382927196,8255.927098251836,8254.705088442133,8254.153740709091,8256.991305219974,8256.666077412352,8256.232119598038,8257.680249333162,8258.291254238015,8257.39447223593,8257.148145849093,8255.21698546478,8257.00092734446,8256.596798116054,8256.025243921593,8255.641321154606,8255.542213272402,8255.267020512107,8255.158290505417,8254.73491702804,8254.015182116495,8254.0450107024,8253.463834383456,8254.635809145835,8255.827990369631,8257.099073014215,8257.64079862277,8256.527518819756,8260.291693918625,8261.109574499922,8260.626543850733,8262.341206434114,8260.804553153721,8260.735273857423,8258.911881267351,8257.83805217473,8257.64079862277,8256.961476634067,8257.296326566175,8257.384850111444,8259.345839081663,8259.897186814705,8261.474253017937,8260.272449669654,8258.932087728772,8256.971098758553,8255.650943279092,8256.40916668858,8257.405056572865,8258.794491348624,8260.015538945881,8259.601787592988,8258.016061477718,8258.341289285341,8256.360093853702,8258.232559278651,8259.483435461812,8260.182963911935,8261.543532314236,8261.543532314236,8261.434802307545,8261.858175784924,8262.3508285586,8261.504081603844,8261.139403085828,8261.641677983991,8262.094880047276,8261.079745914016,8260.400423925315,8258.419228493676,8258.98116056365,8261.809102950047,8261.927455081222,8262.725129201099,8261.395351597153,8260.765102443329,8261.1586473348,8260.301316043111,8259.464191212839,8258.577031335244,8259.020611274042,8258.557787086273,8259.168791991124,8257.690833670094,8257.986232891812,8257.809185801272,8258.734834176812,8260.96139378284,8261.139403085828,8260.725651732937,8259.720139724164,8258.626104170122,8257.582103663404,8259.148585529703,8258.05551218811,8257.089450889729,8258.21235281723,8258.370155658798,8258.676139217449,8260.37059533941,8262.15357500664,8264.360890363696,8252.892280188997,8252.980803734266,8251.463394702845,8251.246896901914,8249.847840001668,8250.04413134118,8247.88685103145,8246.911167608581,8246.527244841596,8247.217151167233,8247.561623223828,8249.374431476965,8251.630819668899,8252.113850318088,8252.625747340737,8256.705528122744,8255.72022257539,8257.277082317203,8257.207803020905,8258.508714251395,8260.951771658354,8259.927015400612,8255.404616892254,8256.62662670196,8256.202291012132,8256.754600957622,8258.03530572669,8258.094962898502,8259.533470509137,8260.182963911935,8259.966466111004,8261.060501665044,8265.227843779874,8265.464548042226,8265.25767236578,8265.425097331834,8262.646227780315,8261.750407990681,8263.22836631171,8262.360450683085,8265.52324300159,8266.991579198133,8267.080102743403,8266.726008562322,8265.819604435754,8265.799397974333,8267.908567661634,8266.97233494916,8268.785143202296,8267.711314109674,8264.892993847765,8263.996211845682,8265.513620877104,8265.178770944995,8266.598034306659,8265.178770944995,8264.981517393035,8265.120075985631,8264.922822433671,8265.060418813819,8265.355818035536,8264.302195404332,8263.917310424898,8262.597154945437,8261.946699330194,8261.818725074532,8261.562776563207,8263.415035526736,8261.632055859505,8262.055429336884,8261.671506569897,8262.666434241735,8262.489387151196,8262.794408497397,8264.952651019577,8267.662241274797,8264.804470302495,8261.769652239655,8261.26737734149,8255.80874612066,8256.419751025514,8256.16284030174,8256.705528122744,8256.82388025392,8258.153657857867,8260.143513201543,8262.469180689775,8264.488864619358,8265.080625275239,8265.287500951687,8267.188832750093,8263.642117664604,8261.907248619802,8262.54808211056,8261.848553660438,8262.252682888844,8262.143952882154,8260.538020305463,8259.6614447648,8260.646750312153,8263.326511981466,8264.055869017495,8262.626983531343,8263.828786879629,8265.090247399725,8269.50391590139,8270.597951455435,8272.075909776462,8271.977764106707,8272.716743267221,8272.726365391707,8272.835095398397,8272.096116237883,8273.623147393788,8274.046520871167,8271.977764106707,8267.622790564405,8268.075992627688,8268.29249042862,8268.282868304133,8265.050796689333,8267.139759915215,8268.025957580361,8269.661718742958,8268.971812417323,8269.287418100459,8271.455282747123,8271.68140267254,8269.11037100992,8269.179650306218,8270.774998545974,8269.603023783595,8269.849350170432,8267.976884745483,8270.932801387542,8271.957557645286,8271.553428416879,8273.198811703962,8274.54879576933,8274.74604932129,8275.238702094965,8275.997887716901,8277.169862479277,8277.1207896444,8274.54879576933,8274.933680748763,8275.947852669575,8278.677649386213,8275.938230545089,8273.71167093906,8273.09104390972,8271.849789851043,8270.647024290312,8268.420464684283,8265.54344946301,8266.321879333915,8265.45492591774,8265.425097331834,8265.573278048916,8267.070480618917,8266.42002500367,8267.927811910606,8267.770009069038,8268.764936740878,8268.657168946635,8263.858615465535,8265.25767236578,8267.23790558497,8268.09523687666,8267.119553453795,8268.09523687666,8265.227843779874,8268.085614752174,8267.395708426538,8266.173698616833,8266.282428623523,8265.109491648696,8260.558226766883,8259.385289792055,8259.345839081663,8262.055429336884,8262.015978626492,8261.739823653748,8260.626543850733,8261.40497372164,8259.543092633625,8260.252243208233,8258.990782688135,8257.207803020905,8256.754600957622,8256.784429543528,8256.113767466863,8254.212435668456],\"type\":\"scatter\"}],                        {\"template\":{\"data\":{\"histogram2dcontour\":[{\"type\":\"histogram2dcontour\",\"colorbar\":{\"outlinewidth\":0,\"ticks\":\"\"},\"colorscale\":[[0.0,\"#0d0887\"],[0.1111111111111111,\"#46039f\"],[0.2222222222222222,\"#7201a8\"],[0.3333333333333333,\"#9c179e\"],[0.4444444444444444,\"#bd3786\"],[0.5555555555555556,\"#d8576b\"],[0.6666666666666666,\"#ed7953\"],[0.7777777777777778,\"#fb9f3a\"],[0.8888888888888888,\"#fdca26\"],[1.0,\"#f0f921\"]]}],\"choropleth\":[{\"type\":\"choropleth\",\"colorbar\":{\"outlinewidth\":0,\"ticks\":\"\"}}],\"histogram2d\":[{\"type\":\"histogram2d\",\"colorbar\":{\"outlinewidth\":0,\"ticks\":\"\"},\"colorscale\":[[0.0,\"#0d0887\"],[0.1111111111111111,\"#46039f\"],[0.2222222222222222,\"#7201a8\"],[0.3333333333333333,\"#9c179e\"],[0.4444444444444444,\"#bd3786\"],[0.5555555555555556,\"#d8576b\"],[0.6666666666666666,\"#ed7953\"],[0.7777777777777778,\"#fb9f3a\"],[0.8888888888888888,\"#fdca26\"],[1.0,\"#f0f921\"]]}],\"heatmap\":[{\"type\":\"heatmap\",\"colorbar\":{\"outlinewidth\":0,\"ticks\":\"\"},\"colorscale\":[[0.0,\"#0d0887\"],[0.1111111111111111,\"#46039f\"],[0.2222222222222222,\"#7201a8\"],[0.3333333333333333,\"#9c179e\"],[0.4444444444444444,\"#bd3786\"],[0.5555555555555556,\"#d8576b\"],[0.6666666666666666,\"#ed7953\"],[0.7777777777777778,\"#fb9f3a\"],[0.8888888888888888,\"#fdca26\"],[1.0,\"#f0f921\"]]}],\"heatmapgl\":[{\"type\":\"heatmapgl\",\"colorbar\":{\"outlinewidth\":0,\"ticks\":\"\"},\"colorscale\":[[0.0,\"#0d0887\"],[0.1111111111111111,\"#46039f\"],[0.2222222222222222,\"#7201a8\"],[0.3333333333333333,\"#9c179e\"],[0.4444444444444444,\"#bd3786\"],[0.5555555555555556,\"#d8576b\"],[0.6666666666666666,\"#ed7953\"],[0.7777777777777778,\"#fb9f3a\"],[0.8888888888888888,\"#fdca26\"],[1.0,\"#f0f921\"]]}],\"contourcarpet\":[{\"type\":\"contourcarpet\",\"colorbar\":{\"outlinewidth\":0,\"ticks\":\"\"}}],\"contour\":[{\"type\":\"contour\",\"colorbar\":{\"outlinewidth\":0,\"ticks\":\"\"},\"colorscale\":[[0.0,\"#0d0887\"],[0.1111111111111111,\"#46039f\"],[0.2222222222222222,\"#7201a8\"],[0.3333333333333333,\"#9c179e\"],[0.4444444444444444,\"#bd3786\"],[0.5555555555555556,\"#d8576b\"],[0.6666666666666666,\"#ed7953\"],[0.7777777777777778,\"#fb9f3a\"],[0.8888888888888888,\"#fdca26\"],[1.0,\"#f0f921\"]]}],\"surface\":[{\"type\":\"surface\",\"colorbar\":{\"outlinewidth\":0,\"ticks\":\"\"},\"colorscale\":[[0.0,\"#0d0887\"],[0.1111111111111111,\"#46039f\"],[0.2222222222222222,\"#7201a8\"],[0.3333333333333333,\"#9c179e\"],[0.4444444444444444,\"#bd3786\"],[0.5555555555555556,\"#d8576b\"],[0.6666666666666666,\"#ed7953\"],[0.7777777777777778,\"#fb9f3a\"],[0.8888888888888888,\"#fdca26\"],[1.0,\"#f0f921\"]]}],\"mesh3d\":[{\"type\":\"mesh3d\",\"colorbar\":{\"outlinewidth\":0,\"ticks\":\"\"}}],\"scatter\":[{\"fillpattern\":{\"fillmode\":\"overlay\",\"size\":10,\"solidity\":0.2},\"type\":\"scatter\"}],\"parcoords\":[{\"type\":\"parcoords\",\"line\":{\"colorbar\":{\"outlinewidth\":0,\"ticks\":\"\"}}}],\"scatterpolargl\":[{\"type\":\"scatterpolargl\",\"marker\":{\"colorbar\":{\"outlinewidth\":0,\"ticks\":\"\"}}}],\"bar\":[{\"error_x\":{\"color\":\"#2a3f5f\"},\"error_y\":{\"color\":\"#2a3f5f\"},\"marker\":{\"line\":{\"color\":\"#E5ECF6\",\"width\":0.5},\"pattern\":{\"fillmode\":\"overlay\",\"size\":10,\"solidity\":0.2}},\"type\":\"bar\"}],\"scattergeo\":[{\"type\":\"scattergeo\",\"marker\":{\"colorbar\":{\"outlinewidth\":0,\"ticks\":\"\"}}}],\"scatterpolar\":[{\"type\":\"scatterpolar\",\"marker\":{\"colorbar\":{\"outlinewidth\":0,\"ticks\":\"\"}}}],\"histogram\":[{\"marker\":{\"pattern\":{\"fillmode\":\"overlay\",\"size\":10,\"solidity\":0.2}},\"type\":\"histogram\"}],\"scattergl\":[{\"type\":\"scattergl\",\"marker\":{\"colorbar\":{\"outlinewidth\":0,\"ticks\":\"\"}}}],\"scatter3d\":[{\"type\":\"scatter3d\",\"line\":{\"colorbar\":{\"outlinewidth\":0,\"ticks\":\"\"}},\"marker\":{\"colorbar\":{\"outlinewidth\":0,\"ticks\":\"\"}}}],\"scattermapbox\":[{\"type\":\"scattermapbox\",\"marker\":{\"colorbar\":{\"outlinewidth\":0,\"ticks\":\"\"}}}],\"scatterternary\":[{\"type\":\"scatterternary\",\"marker\":{\"colorbar\":{\"outlinewidth\":0,\"ticks\":\"\"}}}],\"scattercarpet\":[{\"type\":\"scattercarpet\",\"marker\":{\"colorbar\":{\"outlinewidth\":0,\"ticks\":\"\"}}}],\"carpet\":[{\"aaxis\":{\"endlinecolor\":\"#2a3f5f\",\"gridcolor\":\"white\",\"linecolor\":\"white\",\"minorgridcolor\":\"white\",\"startlinecolor\":\"#2a3f5f\"},\"baxis\":{\"endlinecolor\":\"#2a3f5f\",\"gridcolor\":\"white\",\"linecolor\":\"white\",\"minorgridcolor\":\"white\",\"startlinecolor\":\"#2a3f5f\"},\"type\":\"carpet\"}],\"table\":[{\"cells\":{\"fill\":{\"color\":\"#EBF0F8\"},\"line\":{\"color\":\"white\"}},\"header\":{\"fill\":{\"color\":\"#C8D4E3\"},\"line\":{\"color\":\"white\"}},\"type\":\"table\"}],\"barpolar\":[{\"marker\":{\"line\":{\"color\":\"#E5ECF6\",\"width\":0.5},\"pattern\":{\"fillmode\":\"overlay\",\"size\":10,\"solidity\":0.2}},\"type\":\"barpolar\"}],\"pie\":[{\"automargin\":true,\"type\":\"pie\"}]},\"layout\":{\"autotypenumbers\":\"strict\",\"colorway\":[\"#636efa\",\"#EF553B\",\"#00cc96\",\"#ab63fa\",\"#FFA15A\",\"#19d3f3\",\"#FF6692\",\"#B6E880\",\"#FF97FF\",\"#FECB52\"],\"font\":{\"color\":\"#2a3f5f\"},\"hovermode\":\"closest\",\"hoverlabel\":{\"align\":\"left\"},\"paper_bgcolor\":\"white\",\"plot_bgcolor\":\"#E5ECF6\",\"polar\":{\"bgcolor\":\"#E5ECF6\",\"angularaxis\":{\"gridcolor\":\"white\",\"linecolor\":\"white\",\"ticks\":\"\"},\"radialaxis\":{\"gridcolor\":\"white\",\"linecolor\":\"white\",\"ticks\":\"\"}},\"ternary\":{\"bgcolor\":\"#E5ECF6\",\"aaxis\":{\"gridcolor\":\"white\",\"linecolor\":\"white\",\"ticks\":\"\"},\"baxis\":{\"gridcolor\":\"white\",\"linecolor\":\"white\",\"ticks\":\"\"},\"caxis\":{\"gridcolor\":\"white\",\"linecolor\":\"white\",\"ticks\":\"\"}},\"coloraxis\":{\"colorbar\":{\"outlinewidth\":0,\"ticks\":\"\"}},\"colorscale\":{\"sequential\":[[0.0,\"#0d0887\"],[0.1111111111111111,\"#46039f\"],[0.2222222222222222,\"#7201a8\"],[0.3333333333333333,\"#9c179e\"],[0.4444444444444444,\"#bd3786\"],[0.5555555555555556,\"#d8576b\"],[0.6666666666666666,\"#ed7953\"],[0.7777777777777778,\"#fb9f3a\"],[0.8888888888888888,\"#fdca26\"],[1.0,\"#f0f921\"]],\"sequentialminus\":[[0.0,\"#0d0887\"],[0.1111111111111111,\"#46039f\"],[0.2222222222222222,\"#7201a8\"],[0.3333333333333333,\"#9c179e\"],[0.4444444444444444,\"#bd3786\"],[0.5555555555555556,\"#d8576b\"],[0.6666666666666666,\"#ed7953\"],[0.7777777777777778,\"#fb9f3a\"],[0.8888888888888888,\"#fdca26\"],[1.0,\"#f0f921\"]],\"diverging\":[[0,\"#8e0152\"],[0.1,\"#c51b7d\"],[0.2,\"#de77ae\"],[0.3,\"#f1b6da\"],[0.4,\"#fde0ef\"],[0.5,\"#f7f7f7\"],[0.6,\"#e6f5d0\"],[0.7,\"#b8e186\"],[0.8,\"#7fbc41\"],[0.9,\"#4d9221\"],[1,\"#276419\"]]},\"xaxis\":{\"gridcolor\":\"white\",\"linecolor\":\"white\",\"ticks\":\"\",\"title\":{\"standoff\":15},\"zerolinecolor\":\"white\",\"automargin\":true,\"zerolinewidth\":2},\"yaxis\":{\"gridcolor\":\"white\",\"linecolor\":\"white\",\"ticks\":\"\",\"title\":{\"standoff\":15},\"zerolinecolor\":\"white\",\"automargin\":true,\"zerolinewidth\":2},\"scene\":{\"xaxis\":{\"backgroundcolor\":\"#E5ECF6\",\"gridcolor\":\"white\",\"linecolor\":\"white\",\"showbackground\":true,\"ticks\":\"\",\"zerolinecolor\":\"white\",\"gridwidth\":2},\"yaxis\":{\"backgroundcolor\":\"#E5ECF6\",\"gridcolor\":\"white\",\"linecolor\":\"white\",\"showbackground\":true,\"ticks\":\"\",\"zerolinecolor\":\"white\",\"gridwidth\":2},\"zaxis\":{\"backgroundcolor\":\"#E5ECF6\",\"gridcolor\":\"white\",\"linecolor\":\"white\",\"showbackground\":true,\"ticks\":\"\",\"zerolinecolor\":\"white\",\"gridwidth\":2}},\"shapedefaults\":{\"line\":{\"color\":\"#2a3f5f\"}},\"annotationdefaults\":{\"arrowcolor\":\"#2a3f5f\",\"arrowhead\":0,\"arrowwidth\":1},\"geo\":{\"bgcolor\":\"white\",\"landcolor\":\"#E5ECF6\",\"subunitcolor\":\"white\",\"showland\":true,\"showlakes\":true,\"lakecolor\":\"white\"},\"title\":{\"x\":0.05},\"mapbox\":{\"style\":\"light\"}}},\"title\":{\"text\":\"FTSE100 Index - Linear Regression Prediction\"},\"xaxis\":{\"title\":{\"text\":\"Time\"}},\"yaxis\":{\"title\":{\"text\":\"Price\"}}},                        {\"responsive\": true}                    ).then(function(){\n",
              "                            \n",
              "var gd = document.getElementById('087eb6a5-8bb8-4ed3-9bc6-0dc1fe0eea46');\n",
              "var x = new MutationObserver(function (mutations, observer) {{\n",
              "        var display = window.getComputedStyle(gd).display;\n",
              "        if (!display || display === 'none') {{\n",
              "            console.log([gd, 'removed!']);\n",
              "            Plotly.purge(gd);\n",
              "            observer.disconnect();\n",
              "        }}\n",
              "}});\n",
              "\n",
              "// Listen for the removal of the full notebook cells\n",
              "var notebookContainer = gd.closest('#notebook-container');\n",
              "if (notebookContainer) {{\n",
              "    x.observe(notebookContainer, {childList: true});\n",
              "}}\n",
              "\n",
              "// Listen for the clearing of the current output cell\n",
              "var outputEl = gd.closest('.output');\n",
              "if (outputEl) {{\n",
              "    x.observe(outputEl, {childList: true});\n",
              "}}\n",
              "\n",
              "                        })                };                            </script>        </div>\n",
              "</body>\n",
              "</html>"
            ]
          },
          "metadata": {}
        }
      ]
    },
    {
      "cell_type": "markdown",
      "source": [
        "**ARIMA model is the second type of code snippet introduced that is also a next level statistical model constructed for time series data only. ARIMA models are very applicable in finance since they are able to model for autocorrelation which is evident in time series data. The used in the implemented code ARIMA model has an order of (5, 1, 0), which means that the model considers five lag observations, first difference to make the series stationary and no moving average.**"
      ],
      "metadata": {
        "id": "k5pPYjr_qi7J"
      }
    },
    {
      "cell_type": "markdown",
      "source": [
        "*ARIMA Forecast Plot*"
      ],
      "metadata": {
        "id": "bD7gAtWgPgGS"
      }
    },
    {
      "cell_type": "code",
      "source": [
        "arima_fig = go.Figure()\n",
        "arima_fig.add_trace(go.Scatter(x=forecast_index, y=arima_forecast, mode='lines', name='ARIMA Forecast'))\n",
        "arima_fig.update_layout(title=f'FTSE100 Index - ARIMA Forecast (MAE: {arima_mae:.2f}, RMSE: {arima_rmse:.2f})', xaxis_title='Time', yaxis_title='Price')\n",
        "arima_fig.show()\n",
        "# Suppress all warnings\n",
        "warnings.filterwarnings(\"ignore\")"
      ],
      "metadata": {
        "colab": {
          "base_uri": "https://localhost:8080/",
          "height": 542
        },
        "id": "kP5AKtt7PTmX",
        "outputId": "cd1e347f-1540-41b6-c8d4-83a672baeb3d"
      },
      "execution_count": 18,
      "outputs": [
        {
          "output_type": "display_data",
          "data": {
            "text/html": [
              "<html>\n",
              "<head><meta charset=\"utf-8\" /></head>\n",
              "<body>\n",
              "    <div>            <script src=\"https://cdnjs.cloudflare.com/ajax/libs/mathjax/2.7.5/MathJax.js?config=TeX-AMS-MML_SVG\"></script><script type=\"text/javascript\">if (window.MathJax && window.MathJax.Hub && window.MathJax.Hub.Config) {window.MathJax.Hub.Config({SVG: {font: \"STIX-Web\"}});}</script>                <script type=\"text/javascript\">window.PlotlyConfig = {MathJaxConfig: 'local'};</script>\n",
              "        <script charset=\"utf-8\" src=\"https://cdn.plot.ly/plotly-2.24.1.min.js\"></script>                <div id=\"c9352d81-3d6a-49cf-839a-9f7bed68308f\" class=\"plotly-graph-div\" style=\"height:525px; width:100%;\"></div>            <script type=\"text/javascript\">                                    window.PLOTLYENV=window.PLOTLYENV || {};                                    if (document.getElementById(\"c9352d81-3d6a-49cf-839a-9f7bed68308f\")) {                    Plotly.newPlot(                        \"c9352d81-3d6a-49cf-839a-9f7bed68308f\",                        [{\"mode\":\"lines\",\"name\":\"ARIMA Forecast\",\"x\":[\"2024-09-05T16:29:00+01:00\",\"2024-09-05T16:30:00+01:00\",\"2024-09-05T16:31:00+01:00\",\"2024-09-05T16:32:00+01:00\",\"2024-09-05T16:33:00+01:00\",\"2024-09-05T16:34:00+01:00\",\"2024-09-05T16:35:00+01:00\",\"2024-09-05T16:36:00+01:00\",\"2024-09-05T16:37:00+01:00\",\"2024-09-05T16:38:00+01:00\"],\"y\":[8253.886171078522,8253.850892636003,8253.843065193225,8253.817784316663,8253.862312300535,8253.869158510783,8253.871614027164,8253.871290012201,8253.87290075755,8253.87201791681],\"type\":\"scatter\"}],                        {\"template\":{\"data\":{\"histogram2dcontour\":[{\"type\":\"histogram2dcontour\",\"colorbar\":{\"outlinewidth\":0,\"ticks\":\"\"},\"colorscale\":[[0.0,\"#0d0887\"],[0.1111111111111111,\"#46039f\"],[0.2222222222222222,\"#7201a8\"],[0.3333333333333333,\"#9c179e\"],[0.4444444444444444,\"#bd3786\"],[0.5555555555555556,\"#d8576b\"],[0.6666666666666666,\"#ed7953\"],[0.7777777777777778,\"#fb9f3a\"],[0.8888888888888888,\"#fdca26\"],[1.0,\"#f0f921\"]]}],\"choropleth\":[{\"type\":\"choropleth\",\"colorbar\":{\"outlinewidth\":0,\"ticks\":\"\"}}],\"histogram2d\":[{\"type\":\"histogram2d\",\"colorbar\":{\"outlinewidth\":0,\"ticks\":\"\"},\"colorscale\":[[0.0,\"#0d0887\"],[0.1111111111111111,\"#46039f\"],[0.2222222222222222,\"#7201a8\"],[0.3333333333333333,\"#9c179e\"],[0.4444444444444444,\"#bd3786\"],[0.5555555555555556,\"#d8576b\"],[0.6666666666666666,\"#ed7953\"],[0.7777777777777778,\"#fb9f3a\"],[0.8888888888888888,\"#fdca26\"],[1.0,\"#f0f921\"]]}],\"heatmap\":[{\"type\":\"heatmap\",\"colorbar\":{\"outlinewidth\":0,\"ticks\":\"\"},\"colorscale\":[[0.0,\"#0d0887\"],[0.1111111111111111,\"#46039f\"],[0.2222222222222222,\"#7201a8\"],[0.3333333333333333,\"#9c179e\"],[0.4444444444444444,\"#bd3786\"],[0.5555555555555556,\"#d8576b\"],[0.6666666666666666,\"#ed7953\"],[0.7777777777777778,\"#fb9f3a\"],[0.8888888888888888,\"#fdca26\"],[1.0,\"#f0f921\"]]}],\"heatmapgl\":[{\"type\":\"heatmapgl\",\"colorbar\":{\"outlinewidth\":0,\"ticks\":\"\"},\"colorscale\":[[0.0,\"#0d0887\"],[0.1111111111111111,\"#46039f\"],[0.2222222222222222,\"#7201a8\"],[0.3333333333333333,\"#9c179e\"],[0.4444444444444444,\"#bd3786\"],[0.5555555555555556,\"#d8576b\"],[0.6666666666666666,\"#ed7953\"],[0.7777777777777778,\"#fb9f3a\"],[0.8888888888888888,\"#fdca26\"],[1.0,\"#f0f921\"]]}],\"contourcarpet\":[{\"type\":\"contourcarpet\",\"colorbar\":{\"outlinewidth\":0,\"ticks\":\"\"}}],\"contour\":[{\"type\":\"contour\",\"colorbar\":{\"outlinewidth\":0,\"ticks\":\"\"},\"colorscale\":[[0.0,\"#0d0887\"],[0.1111111111111111,\"#46039f\"],[0.2222222222222222,\"#7201a8\"],[0.3333333333333333,\"#9c179e\"],[0.4444444444444444,\"#bd3786\"],[0.5555555555555556,\"#d8576b\"],[0.6666666666666666,\"#ed7953\"],[0.7777777777777778,\"#fb9f3a\"],[0.8888888888888888,\"#fdca26\"],[1.0,\"#f0f921\"]]}],\"surface\":[{\"type\":\"surface\",\"colorbar\":{\"outlinewidth\":0,\"ticks\":\"\"},\"colorscale\":[[0.0,\"#0d0887\"],[0.1111111111111111,\"#46039f\"],[0.2222222222222222,\"#7201a8\"],[0.3333333333333333,\"#9c179e\"],[0.4444444444444444,\"#bd3786\"],[0.5555555555555556,\"#d8576b\"],[0.6666666666666666,\"#ed7953\"],[0.7777777777777778,\"#fb9f3a\"],[0.8888888888888888,\"#fdca26\"],[1.0,\"#f0f921\"]]}],\"mesh3d\":[{\"type\":\"mesh3d\",\"colorbar\":{\"outlinewidth\":0,\"ticks\":\"\"}}],\"scatter\":[{\"fillpattern\":{\"fillmode\":\"overlay\",\"size\":10,\"solidity\":0.2},\"type\":\"scatter\"}],\"parcoords\":[{\"type\":\"parcoords\",\"line\":{\"colorbar\":{\"outlinewidth\":0,\"ticks\":\"\"}}}],\"scatterpolargl\":[{\"type\":\"scatterpolargl\",\"marker\":{\"colorbar\":{\"outlinewidth\":0,\"ticks\":\"\"}}}],\"bar\":[{\"error_x\":{\"color\":\"#2a3f5f\"},\"error_y\":{\"color\":\"#2a3f5f\"},\"marker\":{\"line\":{\"color\":\"#E5ECF6\",\"width\":0.5},\"pattern\":{\"fillmode\":\"overlay\",\"size\":10,\"solidity\":0.2}},\"type\":\"bar\"}],\"scattergeo\":[{\"type\":\"scattergeo\",\"marker\":{\"colorbar\":{\"outlinewidth\":0,\"ticks\":\"\"}}}],\"scatterpolar\":[{\"type\":\"scatterpolar\",\"marker\":{\"colorbar\":{\"outlinewidth\":0,\"ticks\":\"\"}}}],\"histogram\":[{\"marker\":{\"pattern\":{\"fillmode\":\"overlay\",\"size\":10,\"solidity\":0.2}},\"type\":\"histogram\"}],\"scattergl\":[{\"type\":\"scattergl\",\"marker\":{\"colorbar\":{\"outlinewidth\":0,\"ticks\":\"\"}}}],\"scatter3d\":[{\"type\":\"scatter3d\",\"line\":{\"colorbar\":{\"outlinewidth\":0,\"ticks\":\"\"}},\"marker\":{\"colorbar\":{\"outlinewidth\":0,\"ticks\":\"\"}}}],\"scattermapbox\":[{\"type\":\"scattermapbox\",\"marker\":{\"colorbar\":{\"outlinewidth\":0,\"ticks\":\"\"}}}],\"scatterternary\":[{\"type\":\"scatterternary\",\"marker\":{\"colorbar\":{\"outlinewidth\":0,\"ticks\":\"\"}}}],\"scattercarpet\":[{\"type\":\"scattercarpet\",\"marker\":{\"colorbar\":{\"outlinewidth\":0,\"ticks\":\"\"}}}],\"carpet\":[{\"aaxis\":{\"endlinecolor\":\"#2a3f5f\",\"gridcolor\":\"white\",\"linecolor\":\"white\",\"minorgridcolor\":\"white\",\"startlinecolor\":\"#2a3f5f\"},\"baxis\":{\"endlinecolor\":\"#2a3f5f\",\"gridcolor\":\"white\",\"linecolor\":\"white\",\"minorgridcolor\":\"white\",\"startlinecolor\":\"#2a3f5f\"},\"type\":\"carpet\"}],\"table\":[{\"cells\":{\"fill\":{\"color\":\"#EBF0F8\"},\"line\":{\"color\":\"white\"}},\"header\":{\"fill\":{\"color\":\"#C8D4E3\"},\"line\":{\"color\":\"white\"}},\"type\":\"table\"}],\"barpolar\":[{\"marker\":{\"line\":{\"color\":\"#E5ECF6\",\"width\":0.5},\"pattern\":{\"fillmode\":\"overlay\",\"size\":10,\"solidity\":0.2}},\"type\":\"barpolar\"}],\"pie\":[{\"automargin\":true,\"type\":\"pie\"}]},\"layout\":{\"autotypenumbers\":\"strict\",\"colorway\":[\"#636efa\",\"#EF553B\",\"#00cc96\",\"#ab63fa\",\"#FFA15A\",\"#19d3f3\",\"#FF6692\",\"#B6E880\",\"#FF97FF\",\"#FECB52\"],\"font\":{\"color\":\"#2a3f5f\"},\"hovermode\":\"closest\",\"hoverlabel\":{\"align\":\"left\"},\"paper_bgcolor\":\"white\",\"plot_bgcolor\":\"#E5ECF6\",\"polar\":{\"bgcolor\":\"#E5ECF6\",\"angularaxis\":{\"gridcolor\":\"white\",\"linecolor\":\"white\",\"ticks\":\"\"},\"radialaxis\":{\"gridcolor\":\"white\",\"linecolor\":\"white\",\"ticks\":\"\"}},\"ternary\":{\"bgcolor\":\"#E5ECF6\",\"aaxis\":{\"gridcolor\":\"white\",\"linecolor\":\"white\",\"ticks\":\"\"},\"baxis\":{\"gridcolor\":\"white\",\"linecolor\":\"white\",\"ticks\":\"\"},\"caxis\":{\"gridcolor\":\"white\",\"linecolor\":\"white\",\"ticks\":\"\"}},\"coloraxis\":{\"colorbar\":{\"outlinewidth\":0,\"ticks\":\"\"}},\"colorscale\":{\"sequential\":[[0.0,\"#0d0887\"],[0.1111111111111111,\"#46039f\"],[0.2222222222222222,\"#7201a8\"],[0.3333333333333333,\"#9c179e\"],[0.4444444444444444,\"#bd3786\"],[0.5555555555555556,\"#d8576b\"],[0.6666666666666666,\"#ed7953\"],[0.7777777777777778,\"#fb9f3a\"],[0.8888888888888888,\"#fdca26\"],[1.0,\"#f0f921\"]],\"sequentialminus\":[[0.0,\"#0d0887\"],[0.1111111111111111,\"#46039f\"],[0.2222222222222222,\"#7201a8\"],[0.3333333333333333,\"#9c179e\"],[0.4444444444444444,\"#bd3786\"],[0.5555555555555556,\"#d8576b\"],[0.6666666666666666,\"#ed7953\"],[0.7777777777777778,\"#fb9f3a\"],[0.8888888888888888,\"#fdca26\"],[1.0,\"#f0f921\"]],\"diverging\":[[0,\"#8e0152\"],[0.1,\"#c51b7d\"],[0.2,\"#de77ae\"],[0.3,\"#f1b6da\"],[0.4,\"#fde0ef\"],[0.5,\"#f7f7f7\"],[0.6,\"#e6f5d0\"],[0.7,\"#b8e186\"],[0.8,\"#7fbc41\"],[0.9,\"#4d9221\"],[1,\"#276419\"]]},\"xaxis\":{\"gridcolor\":\"white\",\"linecolor\":\"white\",\"ticks\":\"\",\"title\":{\"standoff\":15},\"zerolinecolor\":\"white\",\"automargin\":true,\"zerolinewidth\":2},\"yaxis\":{\"gridcolor\":\"white\",\"linecolor\":\"white\",\"ticks\":\"\",\"title\":{\"standoff\":15},\"zerolinecolor\":\"white\",\"automargin\":true,\"zerolinewidth\":2},\"scene\":{\"xaxis\":{\"backgroundcolor\":\"#E5ECF6\",\"gridcolor\":\"white\",\"linecolor\":\"white\",\"showbackground\":true,\"ticks\":\"\",\"zerolinecolor\":\"white\",\"gridwidth\":2},\"yaxis\":{\"backgroundcolor\":\"#E5ECF6\",\"gridcolor\":\"white\",\"linecolor\":\"white\",\"showbackground\":true,\"ticks\":\"\",\"zerolinecolor\":\"white\",\"gridwidth\":2},\"zaxis\":{\"backgroundcolor\":\"#E5ECF6\",\"gridcolor\":\"white\",\"linecolor\":\"white\",\"showbackground\":true,\"ticks\":\"\",\"zerolinecolor\":\"white\",\"gridwidth\":2}},\"shapedefaults\":{\"line\":{\"color\":\"#2a3f5f\"}},\"annotationdefaults\":{\"arrowcolor\":\"#2a3f5f\",\"arrowhead\":0,\"arrowwidth\":1},\"geo\":{\"bgcolor\":\"white\",\"landcolor\":\"#E5ECF6\",\"subunitcolor\":\"white\",\"showland\":true,\"showlakes\":true,\"lakecolor\":\"white\"},\"title\":{\"x\":0.05},\"mapbox\":{\"style\":\"light\"}}},\"title\":{\"text\":\"FTSE100 Index - ARIMA Forecast (MAE: 4.21, RMSE: 4.77)\"},\"xaxis\":{\"title\":{\"text\":\"Time\"}},\"yaxis\":{\"title\":{\"text\":\"Price\"}}},                        {\"responsive\": true}                    ).then(function(){\n",
              "                            \n",
              "var gd = document.getElementById('c9352d81-3d6a-49cf-839a-9f7bed68308f');\n",
              "var x = new MutationObserver(function (mutations, observer) {{\n",
              "        var display = window.getComputedStyle(gd).display;\n",
              "        if (!display || display === 'none') {{\n",
              "            console.log([gd, 'removed!']);\n",
              "            Plotly.purge(gd);\n",
              "            observer.disconnect();\n",
              "        }}\n",
              "}});\n",
              "\n",
              "// Listen for the removal of the full notebook cells\n",
              "var notebookContainer = gd.closest('#notebook-container');\n",
              "if (notebookContainer) {{\n",
              "    x.observe(notebookContainer, {childList: true});\n",
              "}}\n",
              "\n",
              "// Listen for the clearing of the current output cell\n",
              "var outputEl = gd.closest('.output');\n",
              "if (outputEl) {{\n",
              "    x.observe(outputEl, {childList: true});\n",
              "}}\n",
              "\n",
              "                        })                };                            </script>        </div>\n",
              "</body>\n",
              "</html>"
            ]
          },
          "metadata": {}
        }
      ]
    },
    {
      "cell_type": "markdown",
      "source": [
        "*LSTM Forecast Plot*"
      ],
      "metadata": {
        "id": "BYEMYIkyPX9x"
      }
    },
    {
      "cell_type": "markdown",
      "source": [
        "**There is the most complex LSTM, which is a kind of RNN, intended for analysis of sequential data. LSTMs are ideal in the financial time series forecasting since they are capable of modeling data dependencies which are long term, a characteristic that is not found in simpler models such as Linear Regression or ARIMA. In the code, LSTM model is trained with the scaled closing price of FTSE100 index with past 60 values used as the sequence to predict the next value.**"
      ],
      "metadata": {
        "id": "rCExavjbq4M7"
      }
    },
    {
      "cell_type": "code",
      "source": [
        "lstm_fig = go.Figure()\n",
        "lstm_fig.add_trace(go.Scatter(x=forecast_index, y=lstm_forecast, mode='lines', name='LSTM Forecast'))\n",
        "lstm_fig.update_layout(title=f'FTSE100 Index - LSTM Forecast (MAE: {lstm_mae:.2f}, RMSE: {lstm_rmse:.2f})', xaxis_title='Time', yaxis_title='Price')\n",
        "lstm_fig.show()\n",
        "# Suppress all warnings\n",
        "warnings.filterwarnings(\"ignore\")"
      ],
      "metadata": {
        "colab": {
          "base_uri": "https://localhost:8080/",
          "height": 542
        },
        "id": "CPEu9uQ4PVnE",
        "outputId": "b9d860c3-1fd7-41bc-ea2c-507a2785e7cf"
      },
      "execution_count": 19,
      "outputs": [
        {
          "output_type": "display_data",
          "data": {
            "text/html": [
              "<html>\n",
              "<head><meta charset=\"utf-8\" /></head>\n",
              "<body>\n",
              "    <div>            <script src=\"https://cdnjs.cloudflare.com/ajax/libs/mathjax/2.7.5/MathJax.js?config=TeX-AMS-MML_SVG\"></script><script type=\"text/javascript\">if (window.MathJax && window.MathJax.Hub && window.MathJax.Hub.Config) {window.MathJax.Hub.Config({SVG: {font: \"STIX-Web\"}});}</script>                <script type=\"text/javascript\">window.PlotlyConfig = {MathJaxConfig: 'local'};</script>\n",
              "        <script charset=\"utf-8\" src=\"https://cdn.plot.ly/plotly-2.24.1.min.js\"></script>                <div id=\"f58cc290-79ea-46eb-a0f6-9cd712ffe6a9\" class=\"plotly-graph-div\" style=\"height:525px; width:100%;\"></div>            <script type=\"text/javascript\">                                    window.PLOTLYENV=window.PLOTLYENV || {};                                    if (document.getElementById(\"f58cc290-79ea-46eb-a0f6-9cd712ffe6a9\")) {                    Plotly.newPlot(                        \"f58cc290-79ea-46eb-a0f6-9cd712ffe6a9\",                        [{\"mode\":\"lines\",\"name\":\"LSTM Forecast\",\"x\":[\"2024-09-05T16:29:00+01:00\",\"2024-09-05T16:30:00+01:00\",\"2024-09-05T16:31:00+01:00\",\"2024-09-05T16:32:00+01:00\",\"2024-09-05T16:33:00+01:00\",\"2024-09-05T16:34:00+01:00\",\"2024-09-05T16:35:00+01:00\",\"2024-09-05T16:36:00+01:00\",\"2024-09-05T16:37:00+01:00\",\"2024-09-05T16:38:00+01:00\"],\"y\":[8259.6767578125,8259.3525390625,8259.16015625,8259.0625,8259.0302734375,8259.04296875,8259.0849609375,8259.1474609375,8259.2216796875,8259.3046875],\"type\":\"scatter\"}],                        {\"template\":{\"data\":{\"histogram2dcontour\":[{\"type\":\"histogram2dcontour\",\"colorbar\":{\"outlinewidth\":0,\"ticks\":\"\"},\"colorscale\":[[0.0,\"#0d0887\"],[0.1111111111111111,\"#46039f\"],[0.2222222222222222,\"#7201a8\"],[0.3333333333333333,\"#9c179e\"],[0.4444444444444444,\"#bd3786\"],[0.5555555555555556,\"#d8576b\"],[0.6666666666666666,\"#ed7953\"],[0.7777777777777778,\"#fb9f3a\"],[0.8888888888888888,\"#fdca26\"],[1.0,\"#f0f921\"]]}],\"choropleth\":[{\"type\":\"choropleth\",\"colorbar\":{\"outlinewidth\":0,\"ticks\":\"\"}}],\"histogram2d\":[{\"type\":\"histogram2d\",\"colorbar\":{\"outlinewidth\":0,\"ticks\":\"\"},\"colorscale\":[[0.0,\"#0d0887\"],[0.1111111111111111,\"#46039f\"],[0.2222222222222222,\"#7201a8\"],[0.3333333333333333,\"#9c179e\"],[0.4444444444444444,\"#bd3786\"],[0.5555555555555556,\"#d8576b\"],[0.6666666666666666,\"#ed7953\"],[0.7777777777777778,\"#fb9f3a\"],[0.8888888888888888,\"#fdca26\"],[1.0,\"#f0f921\"]]}],\"heatmap\":[{\"type\":\"heatmap\",\"colorbar\":{\"outlinewidth\":0,\"ticks\":\"\"},\"colorscale\":[[0.0,\"#0d0887\"],[0.1111111111111111,\"#46039f\"],[0.2222222222222222,\"#7201a8\"],[0.3333333333333333,\"#9c179e\"],[0.4444444444444444,\"#bd3786\"],[0.5555555555555556,\"#d8576b\"],[0.6666666666666666,\"#ed7953\"],[0.7777777777777778,\"#fb9f3a\"],[0.8888888888888888,\"#fdca26\"],[1.0,\"#f0f921\"]]}],\"heatmapgl\":[{\"type\":\"heatmapgl\",\"colorbar\":{\"outlinewidth\":0,\"ticks\":\"\"},\"colorscale\":[[0.0,\"#0d0887\"],[0.1111111111111111,\"#46039f\"],[0.2222222222222222,\"#7201a8\"],[0.3333333333333333,\"#9c179e\"],[0.4444444444444444,\"#bd3786\"],[0.5555555555555556,\"#d8576b\"],[0.6666666666666666,\"#ed7953\"],[0.7777777777777778,\"#fb9f3a\"],[0.8888888888888888,\"#fdca26\"],[1.0,\"#f0f921\"]]}],\"contourcarpet\":[{\"type\":\"contourcarpet\",\"colorbar\":{\"outlinewidth\":0,\"ticks\":\"\"}}],\"contour\":[{\"type\":\"contour\",\"colorbar\":{\"outlinewidth\":0,\"ticks\":\"\"},\"colorscale\":[[0.0,\"#0d0887\"],[0.1111111111111111,\"#46039f\"],[0.2222222222222222,\"#7201a8\"],[0.3333333333333333,\"#9c179e\"],[0.4444444444444444,\"#bd3786\"],[0.5555555555555556,\"#d8576b\"],[0.6666666666666666,\"#ed7953\"],[0.7777777777777778,\"#fb9f3a\"],[0.8888888888888888,\"#fdca26\"],[1.0,\"#f0f921\"]]}],\"surface\":[{\"type\":\"surface\",\"colorbar\":{\"outlinewidth\":0,\"ticks\":\"\"},\"colorscale\":[[0.0,\"#0d0887\"],[0.1111111111111111,\"#46039f\"],[0.2222222222222222,\"#7201a8\"],[0.3333333333333333,\"#9c179e\"],[0.4444444444444444,\"#bd3786\"],[0.5555555555555556,\"#d8576b\"],[0.6666666666666666,\"#ed7953\"],[0.7777777777777778,\"#fb9f3a\"],[0.8888888888888888,\"#fdca26\"],[1.0,\"#f0f921\"]]}],\"mesh3d\":[{\"type\":\"mesh3d\",\"colorbar\":{\"outlinewidth\":0,\"ticks\":\"\"}}],\"scatter\":[{\"fillpattern\":{\"fillmode\":\"overlay\",\"size\":10,\"solidity\":0.2},\"type\":\"scatter\"}],\"parcoords\":[{\"type\":\"parcoords\",\"line\":{\"colorbar\":{\"outlinewidth\":0,\"ticks\":\"\"}}}],\"scatterpolargl\":[{\"type\":\"scatterpolargl\",\"marker\":{\"colorbar\":{\"outlinewidth\":0,\"ticks\":\"\"}}}],\"bar\":[{\"error_x\":{\"color\":\"#2a3f5f\"},\"error_y\":{\"color\":\"#2a3f5f\"},\"marker\":{\"line\":{\"color\":\"#E5ECF6\",\"width\":0.5},\"pattern\":{\"fillmode\":\"overlay\",\"size\":10,\"solidity\":0.2}},\"type\":\"bar\"}],\"scattergeo\":[{\"type\":\"scattergeo\",\"marker\":{\"colorbar\":{\"outlinewidth\":0,\"ticks\":\"\"}}}],\"scatterpolar\":[{\"type\":\"scatterpolar\",\"marker\":{\"colorbar\":{\"outlinewidth\":0,\"ticks\":\"\"}}}],\"histogram\":[{\"marker\":{\"pattern\":{\"fillmode\":\"overlay\",\"size\":10,\"solidity\":0.2}},\"type\":\"histogram\"}],\"scattergl\":[{\"type\":\"scattergl\",\"marker\":{\"colorbar\":{\"outlinewidth\":0,\"ticks\":\"\"}}}],\"scatter3d\":[{\"type\":\"scatter3d\",\"line\":{\"colorbar\":{\"outlinewidth\":0,\"ticks\":\"\"}},\"marker\":{\"colorbar\":{\"outlinewidth\":0,\"ticks\":\"\"}}}],\"scattermapbox\":[{\"type\":\"scattermapbox\",\"marker\":{\"colorbar\":{\"outlinewidth\":0,\"ticks\":\"\"}}}],\"scatterternary\":[{\"type\":\"scatterternary\",\"marker\":{\"colorbar\":{\"outlinewidth\":0,\"ticks\":\"\"}}}],\"scattercarpet\":[{\"type\":\"scattercarpet\",\"marker\":{\"colorbar\":{\"outlinewidth\":0,\"ticks\":\"\"}}}],\"carpet\":[{\"aaxis\":{\"endlinecolor\":\"#2a3f5f\",\"gridcolor\":\"white\",\"linecolor\":\"white\",\"minorgridcolor\":\"white\",\"startlinecolor\":\"#2a3f5f\"},\"baxis\":{\"endlinecolor\":\"#2a3f5f\",\"gridcolor\":\"white\",\"linecolor\":\"white\",\"minorgridcolor\":\"white\",\"startlinecolor\":\"#2a3f5f\"},\"type\":\"carpet\"}],\"table\":[{\"cells\":{\"fill\":{\"color\":\"#EBF0F8\"},\"line\":{\"color\":\"white\"}},\"header\":{\"fill\":{\"color\":\"#C8D4E3\"},\"line\":{\"color\":\"white\"}},\"type\":\"table\"}],\"barpolar\":[{\"marker\":{\"line\":{\"color\":\"#E5ECF6\",\"width\":0.5},\"pattern\":{\"fillmode\":\"overlay\",\"size\":10,\"solidity\":0.2}},\"type\":\"barpolar\"}],\"pie\":[{\"automargin\":true,\"type\":\"pie\"}]},\"layout\":{\"autotypenumbers\":\"strict\",\"colorway\":[\"#636efa\",\"#EF553B\",\"#00cc96\",\"#ab63fa\",\"#FFA15A\",\"#19d3f3\",\"#FF6692\",\"#B6E880\",\"#FF97FF\",\"#FECB52\"],\"font\":{\"color\":\"#2a3f5f\"},\"hovermode\":\"closest\",\"hoverlabel\":{\"align\":\"left\"},\"paper_bgcolor\":\"white\",\"plot_bgcolor\":\"#E5ECF6\",\"polar\":{\"bgcolor\":\"#E5ECF6\",\"angularaxis\":{\"gridcolor\":\"white\",\"linecolor\":\"white\",\"ticks\":\"\"},\"radialaxis\":{\"gridcolor\":\"white\",\"linecolor\":\"white\",\"ticks\":\"\"}},\"ternary\":{\"bgcolor\":\"#E5ECF6\",\"aaxis\":{\"gridcolor\":\"white\",\"linecolor\":\"white\",\"ticks\":\"\"},\"baxis\":{\"gridcolor\":\"white\",\"linecolor\":\"white\",\"ticks\":\"\"},\"caxis\":{\"gridcolor\":\"white\",\"linecolor\":\"white\",\"ticks\":\"\"}},\"coloraxis\":{\"colorbar\":{\"outlinewidth\":0,\"ticks\":\"\"}},\"colorscale\":{\"sequential\":[[0.0,\"#0d0887\"],[0.1111111111111111,\"#46039f\"],[0.2222222222222222,\"#7201a8\"],[0.3333333333333333,\"#9c179e\"],[0.4444444444444444,\"#bd3786\"],[0.5555555555555556,\"#d8576b\"],[0.6666666666666666,\"#ed7953\"],[0.7777777777777778,\"#fb9f3a\"],[0.8888888888888888,\"#fdca26\"],[1.0,\"#f0f921\"]],\"sequentialminus\":[[0.0,\"#0d0887\"],[0.1111111111111111,\"#46039f\"],[0.2222222222222222,\"#7201a8\"],[0.3333333333333333,\"#9c179e\"],[0.4444444444444444,\"#bd3786\"],[0.5555555555555556,\"#d8576b\"],[0.6666666666666666,\"#ed7953\"],[0.7777777777777778,\"#fb9f3a\"],[0.8888888888888888,\"#fdca26\"],[1.0,\"#f0f921\"]],\"diverging\":[[0,\"#8e0152\"],[0.1,\"#c51b7d\"],[0.2,\"#de77ae\"],[0.3,\"#f1b6da\"],[0.4,\"#fde0ef\"],[0.5,\"#f7f7f7\"],[0.6,\"#e6f5d0\"],[0.7,\"#b8e186\"],[0.8,\"#7fbc41\"],[0.9,\"#4d9221\"],[1,\"#276419\"]]},\"xaxis\":{\"gridcolor\":\"white\",\"linecolor\":\"white\",\"ticks\":\"\",\"title\":{\"standoff\":15},\"zerolinecolor\":\"white\",\"automargin\":true,\"zerolinewidth\":2},\"yaxis\":{\"gridcolor\":\"white\",\"linecolor\":\"white\",\"ticks\":\"\",\"title\":{\"standoff\":15},\"zerolinecolor\":\"white\",\"automargin\":true,\"zerolinewidth\":2},\"scene\":{\"xaxis\":{\"backgroundcolor\":\"#E5ECF6\",\"gridcolor\":\"white\",\"linecolor\":\"white\",\"showbackground\":true,\"ticks\":\"\",\"zerolinecolor\":\"white\",\"gridwidth\":2},\"yaxis\":{\"backgroundcolor\":\"#E5ECF6\",\"gridcolor\":\"white\",\"linecolor\":\"white\",\"showbackground\":true,\"ticks\":\"\",\"zerolinecolor\":\"white\",\"gridwidth\":2},\"zaxis\":{\"backgroundcolor\":\"#E5ECF6\",\"gridcolor\":\"white\",\"linecolor\":\"white\",\"showbackground\":true,\"ticks\":\"\",\"zerolinecolor\":\"white\",\"gridwidth\":2}},\"shapedefaults\":{\"line\":{\"color\":\"#2a3f5f\"}},\"annotationdefaults\":{\"arrowcolor\":\"#2a3f5f\",\"arrowhead\":0,\"arrowwidth\":1},\"geo\":{\"bgcolor\":\"white\",\"landcolor\":\"#E5ECF6\",\"subunitcolor\":\"white\",\"showland\":true,\"showlakes\":true,\"lakecolor\":\"white\"},\"title\":{\"x\":0.05},\"mapbox\":{\"style\":\"light\"}}},\"title\":{\"text\":\"FTSE100 Index - LSTM Forecast (MAE: 1.98, RMSE: 2.46)\"},\"xaxis\":{\"title\":{\"text\":\"Time\"}},\"yaxis\":{\"title\":{\"text\":\"Price\"}}},                        {\"responsive\": true}                    ).then(function(){\n",
              "                            \n",
              "var gd = document.getElementById('f58cc290-79ea-46eb-a0f6-9cd712ffe6a9');\n",
              "var x = new MutationObserver(function (mutations, observer) {{\n",
              "        var display = window.getComputedStyle(gd).display;\n",
              "        if (!display || display === 'none') {{\n",
              "            console.log([gd, 'removed!']);\n",
              "            Plotly.purge(gd);\n",
              "            observer.disconnect();\n",
              "        }}\n",
              "}});\n",
              "\n",
              "// Listen for the removal of the full notebook cells\n",
              "var notebookContainer = gd.closest('#notebook-container');\n",
              "if (notebookContainer) {{\n",
              "    x.observe(notebookContainer, {childList: true});\n",
              "}}\n",
              "\n",
              "// Listen for the clearing of the current output cell\n",
              "var outputEl = gd.closest('.output');\n",
              "if (outputEl) {{\n",
              "    x.observe(outputEl, {childList: true});\n",
              "}}\n",
              "\n",
              "                        })                };                            </script>        </div>\n",
              "</body>\n",
              "</html>"
            ]
          },
          "metadata": {}
        }
      ]
    },
    {
      "cell_type": "code",
      "source": [
        "prophet_forecast['ds'] = pd.to_datetime(prophet_forecast['ds'])\n",
        "prophet_fig = go.Figure()\n",
        "prophet_fig.add_trace(go.Scatter(x=prophet_forecast['ds'], y=prophet_forecast['yhat'], mode='lines', name='Prophet Forecast'))\n",
        "prophet_fig.update_layout(title='FTSE100 Index - Prophet Forecast (Long-Term)', xaxis_title='Date', yaxis_title='Predicted Price')\n",
        "prophet_fig.show()\n",
        "# Suppress all warnings\n",
        "warnings.filterwarnings(\"ignore\")"
      ],
      "metadata": {
        "colab": {
          "base_uri": "https://localhost:8080/",
          "height": 631
        },
        "id": "m0UxRQ-momsw",
        "outputId": "f422c063-5ef0-4237-eb0a-6044e2ca693b"
      },
      "execution_count": 20,
      "outputs": [
        {
          "output_type": "stream",
          "name": "stderr",
          "text": [
            "/usr/local/lib/python3.10/dist-packages/_plotly_utils/basevalidators.py:105: FutureWarning:\n",
            "\n",
            "The behavior of DatetimeProperties.to_pydatetime is deprecated, in a future version this will return a Series containing python datetime objects instead of an ndarray. To retain the old behavior, call `np.array` on the result\n",
            "\n"
          ]
        },
        {
          "output_type": "display_data",
          "data": {
            "text/html": [
              "<html>\n",
              "<head><meta charset=\"utf-8\" /></head>\n",
              "<body>\n",
              "    <div>            <script src=\"https://cdnjs.cloudflare.com/ajax/libs/mathjax/2.7.5/MathJax.js?config=TeX-AMS-MML_SVG\"></script><script type=\"text/javascript\">if (window.MathJax && window.MathJax.Hub && window.MathJax.Hub.Config) {window.MathJax.Hub.Config({SVG: {font: \"STIX-Web\"}});}</script>                <script type=\"text/javascript\">window.PlotlyConfig = {MathJaxConfig: 'local'};</script>\n",
              "        <script charset=\"utf-8\" src=\"https://cdn.plot.ly/plotly-2.24.1.min.js\"></script>                <div id=\"a904a05f-ed71-4791-be45-17a3f9710a56\" class=\"plotly-graph-div\" style=\"height:525px; width:100%;\"></div>            <script type=\"text/javascript\">                                    window.PLOTLYENV=window.PLOTLYENV || {};                                    if (document.getElementById(\"a904a05f-ed71-4791-be45-17a3f9710a56\")) {                    Plotly.newPlot(                        \"a904a05f-ed71-4791-be45-17a3f9710a56\",                        [{\"mode\":\"lines\",\"name\":\"Prophet Forecast\",\"x\":[\"2024-09-06T16:28:00\",\"2024-09-07T16:28:00\",\"2024-09-08T16:28:00\",\"2024-09-09T16:28:00\",\"2024-09-10T16:28:00\",\"2024-09-11T16:28:00\",\"2024-09-12T16:28:00\",\"2024-09-13T16:28:00\",\"2024-09-14T16:28:00\",\"2024-09-15T16:28:00\"],\"y\":[7910.176649817351,7252.395554750443,6774.192046673229,6794.246647400341,7181.069691043217,7486.9265963214275,7364.066727476393,6868.068767456068,6373.416601723355,6201.115023364357],\"type\":\"scatter\"}],                        {\"template\":{\"data\":{\"histogram2dcontour\":[{\"type\":\"histogram2dcontour\",\"colorbar\":{\"outlinewidth\":0,\"ticks\":\"\"},\"colorscale\":[[0.0,\"#0d0887\"],[0.1111111111111111,\"#46039f\"],[0.2222222222222222,\"#7201a8\"],[0.3333333333333333,\"#9c179e\"],[0.4444444444444444,\"#bd3786\"],[0.5555555555555556,\"#d8576b\"],[0.6666666666666666,\"#ed7953\"],[0.7777777777777778,\"#fb9f3a\"],[0.8888888888888888,\"#fdca26\"],[1.0,\"#f0f921\"]]}],\"choropleth\":[{\"type\":\"choropleth\",\"colorbar\":{\"outlinewidth\":0,\"ticks\":\"\"}}],\"histogram2d\":[{\"type\":\"histogram2d\",\"colorbar\":{\"outlinewidth\":0,\"ticks\":\"\"},\"colorscale\":[[0.0,\"#0d0887\"],[0.1111111111111111,\"#46039f\"],[0.2222222222222222,\"#7201a8\"],[0.3333333333333333,\"#9c179e\"],[0.4444444444444444,\"#bd3786\"],[0.5555555555555556,\"#d8576b\"],[0.6666666666666666,\"#ed7953\"],[0.7777777777777778,\"#fb9f3a\"],[0.8888888888888888,\"#fdca26\"],[1.0,\"#f0f921\"]]}],\"heatmap\":[{\"type\":\"heatmap\",\"colorbar\":{\"outlinewidth\":0,\"ticks\":\"\"},\"colorscale\":[[0.0,\"#0d0887\"],[0.1111111111111111,\"#46039f\"],[0.2222222222222222,\"#7201a8\"],[0.3333333333333333,\"#9c179e\"],[0.4444444444444444,\"#bd3786\"],[0.5555555555555556,\"#d8576b\"],[0.6666666666666666,\"#ed7953\"],[0.7777777777777778,\"#fb9f3a\"],[0.8888888888888888,\"#fdca26\"],[1.0,\"#f0f921\"]]}],\"heatmapgl\":[{\"type\":\"heatmapgl\",\"colorbar\":{\"outlinewidth\":0,\"ticks\":\"\"},\"colorscale\":[[0.0,\"#0d0887\"],[0.1111111111111111,\"#46039f\"],[0.2222222222222222,\"#7201a8\"],[0.3333333333333333,\"#9c179e\"],[0.4444444444444444,\"#bd3786\"],[0.5555555555555556,\"#d8576b\"],[0.6666666666666666,\"#ed7953\"],[0.7777777777777778,\"#fb9f3a\"],[0.8888888888888888,\"#fdca26\"],[1.0,\"#f0f921\"]]}],\"contourcarpet\":[{\"type\":\"contourcarpet\",\"colorbar\":{\"outlinewidth\":0,\"ticks\":\"\"}}],\"contour\":[{\"type\":\"contour\",\"colorbar\":{\"outlinewidth\":0,\"ticks\":\"\"},\"colorscale\":[[0.0,\"#0d0887\"],[0.1111111111111111,\"#46039f\"],[0.2222222222222222,\"#7201a8\"],[0.3333333333333333,\"#9c179e\"],[0.4444444444444444,\"#bd3786\"],[0.5555555555555556,\"#d8576b\"],[0.6666666666666666,\"#ed7953\"],[0.7777777777777778,\"#fb9f3a\"],[0.8888888888888888,\"#fdca26\"],[1.0,\"#f0f921\"]]}],\"surface\":[{\"type\":\"surface\",\"colorbar\":{\"outlinewidth\":0,\"ticks\":\"\"},\"colorscale\":[[0.0,\"#0d0887\"],[0.1111111111111111,\"#46039f\"],[0.2222222222222222,\"#7201a8\"],[0.3333333333333333,\"#9c179e\"],[0.4444444444444444,\"#bd3786\"],[0.5555555555555556,\"#d8576b\"],[0.6666666666666666,\"#ed7953\"],[0.7777777777777778,\"#fb9f3a\"],[0.8888888888888888,\"#fdca26\"],[1.0,\"#f0f921\"]]}],\"mesh3d\":[{\"type\":\"mesh3d\",\"colorbar\":{\"outlinewidth\":0,\"ticks\":\"\"}}],\"scatter\":[{\"fillpattern\":{\"fillmode\":\"overlay\",\"size\":10,\"solidity\":0.2},\"type\":\"scatter\"}],\"parcoords\":[{\"type\":\"parcoords\",\"line\":{\"colorbar\":{\"outlinewidth\":0,\"ticks\":\"\"}}}],\"scatterpolargl\":[{\"type\":\"scatterpolargl\",\"marker\":{\"colorbar\":{\"outlinewidth\":0,\"ticks\":\"\"}}}],\"bar\":[{\"error_x\":{\"color\":\"#2a3f5f\"},\"error_y\":{\"color\":\"#2a3f5f\"},\"marker\":{\"line\":{\"color\":\"#E5ECF6\",\"width\":0.5},\"pattern\":{\"fillmode\":\"overlay\",\"size\":10,\"solidity\":0.2}},\"type\":\"bar\"}],\"scattergeo\":[{\"type\":\"scattergeo\",\"marker\":{\"colorbar\":{\"outlinewidth\":0,\"ticks\":\"\"}}}],\"scatterpolar\":[{\"type\":\"scatterpolar\",\"marker\":{\"colorbar\":{\"outlinewidth\":0,\"ticks\":\"\"}}}],\"histogram\":[{\"marker\":{\"pattern\":{\"fillmode\":\"overlay\",\"size\":10,\"solidity\":0.2}},\"type\":\"histogram\"}],\"scattergl\":[{\"type\":\"scattergl\",\"marker\":{\"colorbar\":{\"outlinewidth\":0,\"ticks\":\"\"}}}],\"scatter3d\":[{\"type\":\"scatter3d\",\"line\":{\"colorbar\":{\"outlinewidth\":0,\"ticks\":\"\"}},\"marker\":{\"colorbar\":{\"outlinewidth\":0,\"ticks\":\"\"}}}],\"scattermapbox\":[{\"type\":\"scattermapbox\",\"marker\":{\"colorbar\":{\"outlinewidth\":0,\"ticks\":\"\"}}}],\"scatterternary\":[{\"type\":\"scatterternary\",\"marker\":{\"colorbar\":{\"outlinewidth\":0,\"ticks\":\"\"}}}],\"scattercarpet\":[{\"type\":\"scattercarpet\",\"marker\":{\"colorbar\":{\"outlinewidth\":0,\"ticks\":\"\"}}}],\"carpet\":[{\"aaxis\":{\"endlinecolor\":\"#2a3f5f\",\"gridcolor\":\"white\",\"linecolor\":\"white\",\"minorgridcolor\":\"white\",\"startlinecolor\":\"#2a3f5f\"},\"baxis\":{\"endlinecolor\":\"#2a3f5f\",\"gridcolor\":\"white\",\"linecolor\":\"white\",\"minorgridcolor\":\"white\",\"startlinecolor\":\"#2a3f5f\"},\"type\":\"carpet\"}],\"table\":[{\"cells\":{\"fill\":{\"color\":\"#EBF0F8\"},\"line\":{\"color\":\"white\"}},\"header\":{\"fill\":{\"color\":\"#C8D4E3\"},\"line\":{\"color\":\"white\"}},\"type\":\"table\"}],\"barpolar\":[{\"marker\":{\"line\":{\"color\":\"#E5ECF6\",\"width\":0.5},\"pattern\":{\"fillmode\":\"overlay\",\"size\":10,\"solidity\":0.2}},\"type\":\"barpolar\"}],\"pie\":[{\"automargin\":true,\"type\":\"pie\"}]},\"layout\":{\"autotypenumbers\":\"strict\",\"colorway\":[\"#636efa\",\"#EF553B\",\"#00cc96\",\"#ab63fa\",\"#FFA15A\",\"#19d3f3\",\"#FF6692\",\"#B6E880\",\"#FF97FF\",\"#FECB52\"],\"font\":{\"color\":\"#2a3f5f\"},\"hovermode\":\"closest\",\"hoverlabel\":{\"align\":\"left\"},\"paper_bgcolor\":\"white\",\"plot_bgcolor\":\"#E5ECF6\",\"polar\":{\"bgcolor\":\"#E5ECF6\",\"angularaxis\":{\"gridcolor\":\"white\",\"linecolor\":\"white\",\"ticks\":\"\"},\"radialaxis\":{\"gridcolor\":\"white\",\"linecolor\":\"white\",\"ticks\":\"\"}},\"ternary\":{\"bgcolor\":\"#E5ECF6\",\"aaxis\":{\"gridcolor\":\"white\",\"linecolor\":\"white\",\"ticks\":\"\"},\"baxis\":{\"gridcolor\":\"white\",\"linecolor\":\"white\",\"ticks\":\"\"},\"caxis\":{\"gridcolor\":\"white\",\"linecolor\":\"white\",\"ticks\":\"\"}},\"coloraxis\":{\"colorbar\":{\"outlinewidth\":0,\"ticks\":\"\"}},\"colorscale\":{\"sequential\":[[0.0,\"#0d0887\"],[0.1111111111111111,\"#46039f\"],[0.2222222222222222,\"#7201a8\"],[0.3333333333333333,\"#9c179e\"],[0.4444444444444444,\"#bd3786\"],[0.5555555555555556,\"#d8576b\"],[0.6666666666666666,\"#ed7953\"],[0.7777777777777778,\"#fb9f3a\"],[0.8888888888888888,\"#fdca26\"],[1.0,\"#f0f921\"]],\"sequentialminus\":[[0.0,\"#0d0887\"],[0.1111111111111111,\"#46039f\"],[0.2222222222222222,\"#7201a8\"],[0.3333333333333333,\"#9c179e\"],[0.4444444444444444,\"#bd3786\"],[0.5555555555555556,\"#d8576b\"],[0.6666666666666666,\"#ed7953\"],[0.7777777777777778,\"#fb9f3a\"],[0.8888888888888888,\"#fdca26\"],[1.0,\"#f0f921\"]],\"diverging\":[[0,\"#8e0152\"],[0.1,\"#c51b7d\"],[0.2,\"#de77ae\"],[0.3,\"#f1b6da\"],[0.4,\"#fde0ef\"],[0.5,\"#f7f7f7\"],[0.6,\"#e6f5d0\"],[0.7,\"#b8e186\"],[0.8,\"#7fbc41\"],[0.9,\"#4d9221\"],[1,\"#276419\"]]},\"xaxis\":{\"gridcolor\":\"white\",\"linecolor\":\"white\",\"ticks\":\"\",\"title\":{\"standoff\":15},\"zerolinecolor\":\"white\",\"automargin\":true,\"zerolinewidth\":2},\"yaxis\":{\"gridcolor\":\"white\",\"linecolor\":\"white\",\"ticks\":\"\",\"title\":{\"standoff\":15},\"zerolinecolor\":\"white\",\"automargin\":true,\"zerolinewidth\":2},\"scene\":{\"xaxis\":{\"backgroundcolor\":\"#E5ECF6\",\"gridcolor\":\"white\",\"linecolor\":\"white\",\"showbackground\":true,\"ticks\":\"\",\"zerolinecolor\":\"white\",\"gridwidth\":2},\"yaxis\":{\"backgroundcolor\":\"#E5ECF6\",\"gridcolor\":\"white\",\"linecolor\":\"white\",\"showbackground\":true,\"ticks\":\"\",\"zerolinecolor\":\"white\",\"gridwidth\":2},\"zaxis\":{\"backgroundcolor\":\"#E5ECF6\",\"gridcolor\":\"white\",\"linecolor\":\"white\",\"showbackground\":true,\"ticks\":\"\",\"zerolinecolor\":\"white\",\"gridwidth\":2}},\"shapedefaults\":{\"line\":{\"color\":\"#2a3f5f\"}},\"annotationdefaults\":{\"arrowcolor\":\"#2a3f5f\",\"arrowhead\":0,\"arrowwidth\":1},\"geo\":{\"bgcolor\":\"white\",\"landcolor\":\"#E5ECF6\",\"subunitcolor\":\"white\",\"showland\":true,\"showlakes\":true,\"lakecolor\":\"white\"},\"title\":{\"x\":0.05},\"mapbox\":{\"style\":\"light\"}}},\"title\":{\"text\":\"FTSE100 Index - Prophet Forecast (Long-Term)\"},\"xaxis\":{\"title\":{\"text\":\"Date\"}},\"yaxis\":{\"title\":{\"text\":\"Predicted Price\"}}},                        {\"responsive\": true}                    ).then(function(){\n",
              "                            \n",
              "var gd = document.getElementById('a904a05f-ed71-4791-be45-17a3f9710a56');\n",
              "var x = new MutationObserver(function (mutations, observer) {{\n",
              "        var display = window.getComputedStyle(gd).display;\n",
              "        if (!display || display === 'none') {{\n",
              "            console.log([gd, 'removed!']);\n",
              "            Plotly.purge(gd);\n",
              "            observer.disconnect();\n",
              "        }}\n",
              "}});\n",
              "\n",
              "// Listen for the removal of the full notebook cells\n",
              "var notebookContainer = gd.closest('#notebook-container');\n",
              "if (notebookContainer) {{\n",
              "    x.observe(notebookContainer, {childList: true});\n",
              "}}\n",
              "\n",
              "// Listen for the clearing of the current output cell\n",
              "var outputEl = gd.closest('.output');\n",
              "if (outputEl) {{\n",
              "    x.observe(outputEl, {childList: true});\n",
              "}}\n",
              "\n",
              "                        })                };                            </script>        </div>\n",
              "</body>\n",
              "</html>"
            ]
          },
          "metadata": {}
        }
      ]
    }
  ]
}