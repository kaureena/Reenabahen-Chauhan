{
  "nbformat": 4,
  "nbformat_minor": 0,
  "metadata": {
    "colab": {
      "provenance": []
    },
    "kernelspec": {
      "name": "python3",
      "display_name": "Python 3"
    },
    "language_info": {
      "name": "python"
    },
    "widgets": {
      "application/vnd.jupyter.widget-state+json": {
        "67db82e95c2c4e4bb65cf681c4d50fdf": {
          "model_module": "@jupyter-widgets/controls",
          "model_name": "HBoxModel",
          "model_module_version": "1.5.0",
          "state": {
            "_dom_classes": [],
            "_model_module": "@jupyter-widgets/controls",
            "_model_module_version": "1.5.0",
            "_model_name": "HBoxModel",
            "_view_count": null,
            "_view_module": "@jupyter-widgets/controls",
            "_view_module_version": "1.5.0",
            "_view_name": "HBoxView",
            "box_style": "",
            "children": [
              "IPY_MODEL_e78f065639be4938b469a2a2485965f7",
              "IPY_MODEL_ba4623125911458f8fda1a076be52446",
              "IPY_MODEL_abc8cd5eca444a54a69ba75721cc85fd"
            ],
            "layout": "IPY_MODEL_552922da7c6d4400aa8cb55e420e2d78"
          }
        },
        "e78f065639be4938b469a2a2485965f7": {
          "model_module": "@jupyter-widgets/controls",
          "model_name": "HTMLModel",
          "model_module_version": "1.5.0",
          "state": {
            "_dom_classes": [],
            "_model_module": "@jupyter-widgets/controls",
            "_model_module_version": "1.5.0",
            "_model_name": "HTMLModel",
            "_view_count": null,
            "_view_module": "@jupyter-widgets/controls",
            "_view_module_version": "1.5.0",
            "_view_name": "HTMLView",
            "description": "",
            "description_tooltip": null,
            "layout": "IPY_MODEL_562cb629a1cc454daa6c9e9f21f06f89",
            "placeholder": "​",
            "style": "IPY_MODEL_8e31c81ce25c407b8adf8d8a228dfbfd",
            "value": "100%"
          }
        },
        "ba4623125911458f8fda1a076be52446": {
          "model_module": "@jupyter-widgets/controls",
          "model_name": "FloatProgressModel",
          "model_module_version": "1.5.0",
          "state": {
            "_dom_classes": [],
            "_model_module": "@jupyter-widgets/controls",
            "_model_module_version": "1.5.0",
            "_model_name": "FloatProgressModel",
            "_view_count": null,
            "_view_module": "@jupyter-widgets/controls",
            "_view_module_version": "1.5.0",
            "_view_name": "ProgressView",
            "bar_style": "success",
            "description": "",
            "description_tooltip": null,
            "layout": "IPY_MODEL_55caf836a84a4152ac795c781314aeb4",
            "max": 10,
            "min": 0,
            "orientation": "horizontal",
            "style": "IPY_MODEL_0ee8376e27c9461498a35f7962e802ed",
            "value": 10
          }
        },
        "abc8cd5eca444a54a69ba75721cc85fd": {
          "model_module": "@jupyter-widgets/controls",
          "model_name": "HTMLModel",
          "model_module_version": "1.5.0",
          "state": {
            "_dom_classes": [],
            "_model_module": "@jupyter-widgets/controls",
            "_model_module_version": "1.5.0",
            "_model_name": "HTMLModel",
            "_view_count": null,
            "_view_module": "@jupyter-widgets/controls",
            "_view_module_version": "1.5.0",
            "_view_name": "HTMLView",
            "description": "",
            "description_tooltip": null,
            "layout": "IPY_MODEL_34be5c7f013a4ac7b355a582be7ad069",
            "placeholder": "​",
            "style": "IPY_MODEL_03bba56fdf3d499e810c10f7554a692f",
            "value": " 10/10 [00:12&lt;00:00,  1.15s/it]"
          }
        },
        "552922da7c6d4400aa8cb55e420e2d78": {
          "model_module": "@jupyter-widgets/base",
          "model_name": "LayoutModel",
          "model_module_version": "1.2.0",
          "state": {
            "_model_module": "@jupyter-widgets/base",
            "_model_module_version": "1.2.0",
            "_model_name": "LayoutModel",
            "_view_count": null,
            "_view_module": "@jupyter-widgets/base",
            "_view_module_version": "1.2.0",
            "_view_name": "LayoutView",
            "align_content": null,
            "align_items": null,
            "align_self": null,
            "border": null,
            "bottom": null,
            "display": null,
            "flex": null,
            "flex_flow": null,
            "grid_area": null,
            "grid_auto_columns": null,
            "grid_auto_flow": null,
            "grid_auto_rows": null,
            "grid_column": null,
            "grid_gap": null,
            "grid_row": null,
            "grid_template_areas": null,
            "grid_template_columns": null,
            "grid_template_rows": null,
            "height": null,
            "justify_content": null,
            "justify_items": null,
            "left": null,
            "margin": null,
            "max_height": null,
            "max_width": null,
            "min_height": null,
            "min_width": null,
            "object_fit": null,
            "object_position": null,
            "order": null,
            "overflow": null,
            "overflow_x": null,
            "overflow_y": null,
            "padding": null,
            "right": null,
            "top": null,
            "visibility": null,
            "width": null
          }
        },
        "562cb629a1cc454daa6c9e9f21f06f89": {
          "model_module": "@jupyter-widgets/base",
          "model_name": "LayoutModel",
          "model_module_version": "1.2.0",
          "state": {
            "_model_module": "@jupyter-widgets/base",
            "_model_module_version": "1.2.0",
            "_model_name": "LayoutModel",
            "_view_count": null,
            "_view_module": "@jupyter-widgets/base",
            "_view_module_version": "1.2.0",
            "_view_name": "LayoutView",
            "align_content": null,
            "align_items": null,
            "align_self": null,
            "border": null,
            "bottom": null,
            "display": null,
            "flex": null,
            "flex_flow": null,
            "grid_area": null,
            "grid_auto_columns": null,
            "grid_auto_flow": null,
            "grid_auto_rows": null,
            "grid_column": null,
            "grid_gap": null,
            "grid_row": null,
            "grid_template_areas": null,
            "grid_template_columns": null,
            "grid_template_rows": null,
            "height": null,
            "justify_content": null,
            "justify_items": null,
            "left": null,
            "margin": null,
            "max_height": null,
            "max_width": null,
            "min_height": null,
            "min_width": null,
            "object_fit": null,
            "object_position": null,
            "order": null,
            "overflow": null,
            "overflow_x": null,
            "overflow_y": null,
            "padding": null,
            "right": null,
            "top": null,
            "visibility": null,
            "width": null
          }
        },
        "8e31c81ce25c407b8adf8d8a228dfbfd": {
          "model_module": "@jupyter-widgets/controls",
          "model_name": "DescriptionStyleModel",
          "model_module_version": "1.5.0",
          "state": {
            "_model_module": "@jupyter-widgets/controls",
            "_model_module_version": "1.5.0",
            "_model_name": "DescriptionStyleModel",
            "_view_count": null,
            "_view_module": "@jupyter-widgets/base",
            "_view_module_version": "1.2.0",
            "_view_name": "StyleView",
            "description_width": ""
          }
        },
        "55caf836a84a4152ac795c781314aeb4": {
          "model_module": "@jupyter-widgets/base",
          "model_name": "LayoutModel",
          "model_module_version": "1.2.0",
          "state": {
            "_model_module": "@jupyter-widgets/base",
            "_model_module_version": "1.2.0",
            "_model_name": "LayoutModel",
            "_view_count": null,
            "_view_module": "@jupyter-widgets/base",
            "_view_module_version": "1.2.0",
            "_view_name": "LayoutView",
            "align_content": null,
            "align_items": null,
            "align_self": null,
            "border": null,
            "bottom": null,
            "display": null,
            "flex": null,
            "flex_flow": null,
            "grid_area": null,
            "grid_auto_columns": null,
            "grid_auto_flow": null,
            "grid_auto_rows": null,
            "grid_column": null,
            "grid_gap": null,
            "grid_row": null,
            "grid_template_areas": null,
            "grid_template_columns": null,
            "grid_template_rows": null,
            "height": null,
            "justify_content": null,
            "justify_items": null,
            "left": null,
            "margin": null,
            "max_height": null,
            "max_width": null,
            "min_height": null,
            "min_width": null,
            "object_fit": null,
            "object_position": null,
            "order": null,
            "overflow": null,
            "overflow_x": null,
            "overflow_y": null,
            "padding": null,
            "right": null,
            "top": null,
            "visibility": null,
            "width": null
          }
        },
        "0ee8376e27c9461498a35f7962e802ed": {
          "model_module": "@jupyter-widgets/controls",
          "model_name": "ProgressStyleModel",
          "model_module_version": "1.5.0",
          "state": {
            "_model_module": "@jupyter-widgets/controls",
            "_model_module_version": "1.5.0",
            "_model_name": "ProgressStyleModel",
            "_view_count": null,
            "_view_module": "@jupyter-widgets/base",
            "_view_module_version": "1.2.0",
            "_view_name": "StyleView",
            "bar_color": null,
            "description_width": ""
          }
        },
        "34be5c7f013a4ac7b355a582be7ad069": {
          "model_module": "@jupyter-widgets/base",
          "model_name": "LayoutModel",
          "model_module_version": "1.2.0",
          "state": {
            "_model_module": "@jupyter-widgets/base",
            "_model_module_version": "1.2.0",
            "_model_name": "LayoutModel",
            "_view_count": null,
            "_view_module": "@jupyter-widgets/base",
            "_view_module_version": "1.2.0",
            "_view_name": "LayoutView",
            "align_content": null,
            "align_items": null,
            "align_self": null,
            "border": null,
            "bottom": null,
            "display": null,
            "flex": null,
            "flex_flow": null,
            "grid_area": null,
            "grid_auto_columns": null,
            "grid_auto_flow": null,
            "grid_auto_rows": null,
            "grid_column": null,
            "grid_gap": null,
            "grid_row": null,
            "grid_template_areas": null,
            "grid_template_columns": null,
            "grid_template_rows": null,
            "height": null,
            "justify_content": null,
            "justify_items": null,
            "left": null,
            "margin": null,
            "max_height": null,
            "max_width": null,
            "min_height": null,
            "min_width": null,
            "object_fit": null,
            "object_position": null,
            "order": null,
            "overflow": null,
            "overflow_x": null,
            "overflow_y": null,
            "padding": null,
            "right": null,
            "top": null,
            "visibility": null,
            "width": null
          }
        },
        "03bba56fdf3d499e810c10f7554a692f": {
          "model_module": "@jupyter-widgets/controls",
          "model_name": "DescriptionStyleModel",
          "model_module_version": "1.5.0",
          "state": {
            "_model_module": "@jupyter-widgets/controls",
            "_model_module_version": "1.5.0",
            "_model_name": "DescriptionStyleModel",
            "_view_count": null,
            "_view_module": "@jupyter-widgets/base",
            "_view_module_version": "1.2.0",
            "_view_name": "StyleView",
            "description_width": ""
          }
        }
      }
    }
  },
  "cells": [
    {
      "cell_type": "code",
      "execution_count": 86,
      "metadata": {
        "colab": {
          "base_uri": "https://localhost:8080/"
        },
        "id": "r05sKJ7L6VDC",
        "outputId": "dc53a592-ee15-4cf0-ea59-a32d9b658174"
      },
      "outputs": [
        {
          "output_type": "stream",
          "name": "stdout",
          "text": [
            "Requirement already satisfied: yfinance in /usr/local/lib/python3.10/dist-packages (0.2.43)\n",
            "Requirement already satisfied: plotly in /usr/local/lib/python3.10/dist-packages (5.15.0)\n",
            "Requirement already satisfied: scikit-learn in /usr/local/lib/python3.10/dist-packages (1.3.2)\n",
            "Requirement already satisfied: statsmodels in /usr/local/lib/python3.10/dist-packages (0.14.2)\n",
            "Requirement already satisfied: tensorflow in /usr/local/lib/python3.10/dist-packages (2.17.0)\n",
            "Requirement already satisfied: shap in /usr/local/lib/python3.10/dist-packages (0.46.0)\n",
            "Requirement already satisfied: pandas>=1.3.0 in /usr/local/lib/python3.10/dist-packages (from yfinance) (2.1.4)\n",
            "Requirement already satisfied: numpy>=1.16.5 in /usr/local/lib/python3.10/dist-packages (from yfinance) (1.26.4)\n",
            "Requirement already satisfied: requests>=2.31 in /usr/local/lib/python3.10/dist-packages (from yfinance) (2.32.3)\n",
            "Requirement already satisfied: multitasking>=0.0.7 in /usr/local/lib/python3.10/dist-packages (from yfinance) (0.0.11)\n",
            "Requirement already satisfied: lxml>=4.9.1 in /usr/local/lib/python3.10/dist-packages (from yfinance) (4.9.4)\n",
            "Requirement already satisfied: platformdirs>=2.0.0 in /usr/local/lib/python3.10/dist-packages (from yfinance) (4.2.2)\n",
            "Requirement already satisfied: pytz>=2022.5 in /usr/local/lib/python3.10/dist-packages (from yfinance) (2024.1)\n",
            "Requirement already satisfied: frozendict>=2.3.4 in /usr/local/lib/python3.10/dist-packages (from yfinance) (2.4.4)\n",
            "Requirement already satisfied: peewee>=3.16.2 in /usr/local/lib/python3.10/dist-packages (from yfinance) (3.17.6)\n",
            "Requirement already satisfied: beautifulsoup4>=4.11.1 in /usr/local/lib/python3.10/dist-packages (from yfinance) (4.12.3)\n",
            "Requirement already satisfied: html5lib>=1.1 in /usr/local/lib/python3.10/dist-packages (from yfinance) (1.1)\n",
            "Requirement already satisfied: tenacity>=6.2.0 in /usr/local/lib/python3.10/dist-packages (from plotly) (9.0.0)\n",
            "Requirement already satisfied: packaging in /usr/local/lib/python3.10/dist-packages (from plotly) (24.1)\n",
            "Requirement already satisfied: scipy>=1.5.0 in /usr/local/lib/python3.10/dist-packages (from scikit-learn) (1.13.1)\n",
            "Requirement already satisfied: joblib>=1.1.1 in /usr/local/lib/python3.10/dist-packages (from scikit-learn) (1.4.2)\n",
            "Requirement already satisfied: threadpoolctl>=2.0.0 in /usr/local/lib/python3.10/dist-packages (from scikit-learn) (3.5.0)\n",
            "Requirement already satisfied: patsy>=0.5.6 in /usr/local/lib/python3.10/dist-packages (from statsmodels) (0.5.6)\n",
            "Requirement already satisfied: absl-py>=1.0.0 in /usr/local/lib/python3.10/dist-packages (from tensorflow) (1.4.0)\n",
            "Requirement already satisfied: astunparse>=1.6.0 in /usr/local/lib/python3.10/dist-packages (from tensorflow) (1.6.3)\n",
            "Requirement already satisfied: flatbuffers>=24.3.25 in /usr/local/lib/python3.10/dist-packages (from tensorflow) (24.3.25)\n",
            "Requirement already satisfied: gast!=0.5.0,!=0.5.1,!=0.5.2,>=0.2.1 in /usr/local/lib/python3.10/dist-packages (from tensorflow) (0.6.0)\n",
            "Requirement already satisfied: google-pasta>=0.1.1 in /usr/local/lib/python3.10/dist-packages (from tensorflow) (0.2.0)\n",
            "Requirement already satisfied: h5py>=3.10.0 in /usr/local/lib/python3.10/dist-packages (from tensorflow) (3.11.0)\n",
            "Requirement already satisfied: libclang>=13.0.0 in /usr/local/lib/python3.10/dist-packages (from tensorflow) (18.1.1)\n",
            "Requirement already satisfied: ml-dtypes<0.5.0,>=0.3.1 in /usr/local/lib/python3.10/dist-packages (from tensorflow) (0.4.0)\n",
            "Requirement already satisfied: opt-einsum>=2.3.2 in /usr/local/lib/python3.10/dist-packages (from tensorflow) (3.3.0)\n",
            "Requirement already satisfied: protobuf!=4.21.0,!=4.21.1,!=4.21.2,!=4.21.3,!=4.21.4,!=4.21.5,<5.0.0dev,>=3.20.3 in /usr/local/lib/python3.10/dist-packages (from tensorflow) (3.20.3)\n",
            "Requirement already satisfied: setuptools in /usr/local/lib/python3.10/dist-packages (from tensorflow) (71.0.4)\n",
            "Requirement already satisfied: six>=1.12.0 in /usr/local/lib/python3.10/dist-packages (from tensorflow) (1.16.0)\n",
            "Requirement already satisfied: termcolor>=1.1.0 in /usr/local/lib/python3.10/dist-packages (from tensorflow) (2.4.0)\n",
            "Requirement already satisfied: typing-extensions>=3.6.6 in /usr/local/lib/python3.10/dist-packages (from tensorflow) (4.12.2)\n",
            "Requirement already satisfied: wrapt>=1.11.0 in /usr/local/lib/python3.10/dist-packages (from tensorflow) (1.16.0)\n",
            "Requirement already satisfied: grpcio<2.0,>=1.24.3 in /usr/local/lib/python3.10/dist-packages (from tensorflow) (1.64.1)\n",
            "Requirement already satisfied: tensorboard<2.18,>=2.17 in /usr/local/lib/python3.10/dist-packages (from tensorflow) (2.17.0)\n",
            "Requirement already satisfied: keras>=3.2.0 in /usr/local/lib/python3.10/dist-packages (from tensorflow) (3.4.1)\n",
            "Requirement already satisfied: tensorflow-io-gcs-filesystem>=0.23.1 in /usr/local/lib/python3.10/dist-packages (from tensorflow) (0.37.1)\n",
            "Requirement already satisfied: tqdm>=4.27.0 in /usr/local/lib/python3.10/dist-packages (from shap) (4.66.5)\n",
            "Requirement already satisfied: slicer==0.0.8 in /usr/local/lib/python3.10/dist-packages (from shap) (0.0.8)\n",
            "Requirement already satisfied: numba in /usr/local/lib/python3.10/dist-packages (from shap) (0.60.0)\n",
            "Requirement already satisfied: cloudpickle in /usr/local/lib/python3.10/dist-packages (from shap) (2.2.1)\n",
            "Requirement already satisfied: wheel<1.0,>=0.23.0 in /usr/local/lib/python3.10/dist-packages (from astunparse>=1.6.0->tensorflow) (0.44.0)\n",
            "Requirement already satisfied: soupsieve>1.2 in /usr/local/lib/python3.10/dist-packages (from beautifulsoup4>=4.11.1->yfinance) (2.6)\n",
            "Requirement already satisfied: webencodings in /usr/local/lib/python3.10/dist-packages (from html5lib>=1.1->yfinance) (0.5.1)\n",
            "Requirement already satisfied: rich in /usr/local/lib/python3.10/dist-packages (from keras>=3.2.0->tensorflow) (13.8.0)\n",
            "Requirement already satisfied: namex in /usr/local/lib/python3.10/dist-packages (from keras>=3.2.0->tensorflow) (0.0.8)\n",
            "Requirement already satisfied: optree in /usr/local/lib/python3.10/dist-packages (from keras>=3.2.0->tensorflow) (0.12.1)\n",
            "Requirement already satisfied: python-dateutil>=2.8.2 in /usr/local/lib/python3.10/dist-packages (from pandas>=1.3.0->yfinance) (2.8.2)\n",
            "Requirement already satisfied: tzdata>=2022.1 in /usr/local/lib/python3.10/dist-packages (from pandas>=1.3.0->yfinance) (2024.1)\n",
            "Requirement already satisfied: charset-normalizer<4,>=2 in /usr/local/lib/python3.10/dist-packages (from requests>=2.31->yfinance) (3.3.2)\n",
            "Requirement already satisfied: idna<4,>=2.5 in /usr/local/lib/python3.10/dist-packages (from requests>=2.31->yfinance) (3.8)\n",
            "Requirement already satisfied: urllib3<3,>=1.21.1 in /usr/local/lib/python3.10/dist-packages (from requests>=2.31->yfinance) (2.0.7)\n",
            "Requirement already satisfied: certifi>=2017.4.17 in /usr/local/lib/python3.10/dist-packages (from requests>=2.31->yfinance) (2024.8.30)\n",
            "Requirement already satisfied: markdown>=2.6.8 in /usr/local/lib/python3.10/dist-packages (from tensorboard<2.18,>=2.17->tensorflow) (3.7)\n",
            "Requirement already satisfied: tensorboard-data-server<0.8.0,>=0.7.0 in /usr/local/lib/python3.10/dist-packages (from tensorboard<2.18,>=2.17->tensorflow) (0.7.2)\n",
            "Requirement already satisfied: werkzeug>=1.0.1 in /usr/local/lib/python3.10/dist-packages (from tensorboard<2.18,>=2.17->tensorflow) (3.0.4)\n",
            "Requirement already satisfied: llvmlite<0.44,>=0.43.0dev0 in /usr/local/lib/python3.10/dist-packages (from numba->shap) (0.43.0)\n",
            "Requirement already satisfied: MarkupSafe>=2.1.1 in /usr/local/lib/python3.10/dist-packages (from werkzeug>=1.0.1->tensorboard<2.18,>=2.17->tensorflow) (2.1.5)\n",
            "Requirement already satisfied: markdown-it-py>=2.2.0 in /usr/local/lib/python3.10/dist-packages (from rich->keras>=3.2.0->tensorflow) (3.0.0)\n",
            "Requirement already satisfied: pygments<3.0.0,>=2.13.0 in /usr/local/lib/python3.10/dist-packages (from rich->keras>=3.2.0->tensorflow) (2.16.1)\n",
            "Requirement already satisfied: mdurl~=0.1 in /usr/local/lib/python3.10/dist-packages (from markdown-it-py>=2.2.0->rich->keras>=3.2.0->tensorflow) (0.1.2)\n",
            "                                  Open         High          Low        Close  \\\n",
            "Datetime                                                                        \n",
            "2024-09-04 08:00:00+01:00  8298.459961  8298.459961  8220.790039  8220.790039   \n",
            "2024-09-04 08:01:00+01:00  8221.009766  8231.490234  8219.290039  8231.490234   \n",
            "2024-09-04 08:02:00+01:00  8231.799805  8231.799805  8225.419922  8229.209961   \n",
            "2024-09-04 08:03:00+01:00  8229.019531  8232.049805  8228.660156  8230.150391   \n",
            "2024-09-04 08:04:00+01:00  8229.759766  8233.330078  8229.469727  8232.980469   \n",
            "...                                ...          ...          ...          ...   \n",
            "2024-09-04 16:25:00+01:00  8269.940430  8270.099609  8268.790039  8270.099609   \n",
            "2024-09-04 16:26:00+01:00  8270.129883  8270.259766  8267.820312  8267.849609   \n",
            "2024-09-04 16:27:00+01:00  8267.809570  8268.040039  8267.450195  8267.509766   \n",
            "2024-09-04 16:28:00+01:00  8267.370117  8267.370117  8265.639648  8266.419922   \n",
            "2024-09-04 16:29:00+01:00  8266.440430  8266.589844  8263.250000  8263.500000   \n",
            "\n",
            "                           Volume  Dividends  Stock Splits  \n",
            "Datetime                                                    \n",
            "2024-09-04 08:00:00+01:00       0        0.0           0.0  \n",
            "2024-09-04 08:01:00+01:00       0        0.0           0.0  \n",
            "2024-09-04 08:02:00+01:00       0        0.0           0.0  \n",
            "2024-09-04 08:03:00+01:00       0        0.0           0.0  \n",
            "2024-09-04 08:04:00+01:00       0        0.0           0.0  \n",
            "...                           ...        ...           ...  \n",
            "2024-09-04 16:25:00+01:00       0        0.0           0.0  \n",
            "2024-09-04 16:26:00+01:00       0        0.0           0.0  \n",
            "2024-09-04 16:27:00+01:00       0        0.0           0.0  \n",
            "2024-09-04 16:28:00+01:00       0        0.0           0.0  \n",
            "2024-09-04 16:29:00+01:00       0        0.0           0.0  \n",
            "\n",
            "[510 rows x 7 columns]\n"
          ]
        }
      ],
      "source": [
        "!pip install yfinance plotly scikit-learn statsmodels tensorflow shap\n",
        "\n",
        "import yfinance as yf\n",
        "import pandas as pd\n",
        "import plotly.graph_objects as go\n",
        "from plotly.subplots import make_subplots\n",
        "from datetime import datetime, timedelta\n",
        "import time\n",
        "from sklearn.model_selection import train_test_split\n",
        "from sklearn.linear_model import LinearRegression\n",
        "from sklearn.metrics import mean_squared_error, mean_absolute_error\n",
        "from sklearn.preprocessing import MinMaxScaler\n",
        "from statsmodels.tsa.arima.model import ARIMA\n",
        "import numpy as np\n",
        "import tensorflow as tf\n",
        "from tensorflow.keras.models import Sequential\n",
        "from tensorflow.keras.layers import Dense, LSTM\n",
        "import math\n",
        "import shap\n",
        "\n",
        "def fetch_ftse100_data(period='1d', interval='1m'):\n",
        "    ftse100 = yf.Ticker(\"^FTSE\")\n",
        "    data = ftse100.history(period=period, interval=interval)\n",
        "    return data\n",
        "\n",
        "data = fetch_ftse100_data()\n",
        "print(data)"
      ]
    },
    {
      "cell_type": "code",
      "source": [],
      "metadata": {
        "id": "Qs5RiX7Jkwm2"
      },
      "execution_count": null,
      "outputs": []
    },
    {
      "cell_type": "markdown",
      "source": [
        "**Adding Moving Average**"
      ],
      "metadata": {
        "id": "KmMFKn9tQcFH"
      }
    },
    {
      "cell_type": "code",
      "source": [
        "data['Moving Average'] = data['Close'].rolling(window=20).mean()"
      ],
      "metadata": {
        "id": "AfbEGytsOQAs"
      },
      "execution_count": 87,
      "outputs": []
    },
    {
      "cell_type": "markdown",
      "source": [
        "**Linear Regression Model**"
      ],
      "metadata": {
        "id": "3-EElcinQXyq"
      }
    },
    {
      "cell_type": "markdown",
      "source": [
        "**Predict today's price using Linear Regression**"
      ],
      "metadata": {
        "id": "Di25koua-wDM"
      }
    },
    {
      "cell_type": "code",
      "source": [
        "data['Shifted Close'] = data['Close'].shift(-1)\n",
        "data.dropna(inplace=True)\n",
        "\n",
        "X = data[['Close']]\n",
        "y = data['Shifted Close']\n",
        "\n",
        "X_train, X_test, y_train, y_test = train_test_split(X, y, test_size=0.2, random_state=42)\n",
        "linear_model = LinearRegression()\n",
        "linear_model.fit(X_train, y_train)\n",
        "\n",
        "y_pred = linear_model.predict(X_test)\n",
        "mse = mean_squared_error(y_test, y_pred)\n",
        "print(f\"Linear Regression Mean Squared Error: {mse}\")\n",
        "\n"
      ],
      "metadata": {
        "colab": {
          "base_uri": "https://localhost:8080/"
        },
        "id": "31Q_qP3Y4JiE",
        "outputId": "7e5ab931-abea-4e76-f700-3c4948d2c812"
      },
      "execution_count": 88,
      "outputs": [
        {
          "output_type": "stream",
          "name": "stdout",
          "text": [
            "Linear Regression Mean Squared Error: 2.62317695774672\n"
          ]
        }
      ]
    },
    {
      "cell_type": "code",
      "source": [
        "today_price_lr = linear_model.predict([[data['Close'].iloc[-1]]])[0]\n",
        "print(f\"Predicted Today's Price using Linear Regression: {today_price_lr:.2f}\")"
      ],
      "metadata": {
        "colab": {
          "base_uri": "https://localhost:8080/"
        },
        "id": "ypPZ8fbw-sWg",
        "outputId": "4f35612f-8392-41af-fd55-1aa016828415"
      },
      "execution_count": 89,
      "outputs": [
        {
          "output_type": "stream",
          "name": "stdout",
          "text": [
            "Predicted Today's Price using Linear Regression: 8266.25\n"
          ]
        },
        {
          "output_type": "stream",
          "name": "stderr",
          "text": [
            "/usr/local/lib/python3.10/dist-packages/sklearn/base.py:465: UserWarning:\n",
            "\n",
            "X does not have valid feature names, but LinearRegression was fitted with feature names\n",
            "\n"
          ]
        }
      ]
    },
    {
      "cell_type": "markdown",
      "source": [
        "**ARIMA Model**"
      ],
      "metadata": {
        "id": "cGx0XHcXQUPv"
      }
    },
    {
      "cell_type": "code",
      "source": [
        "def train_arima_model(data):\n",
        "    model = ARIMA(data['Close'], order=(5, 1, 0))\n",
        "    model_fit = model.fit()\n",
        "    return model_fit\n",
        "arima_model = train_arima_model(data)"
      ],
      "metadata": {
        "colab": {
          "base_uri": "https://localhost:8080/"
        },
        "id": "cS21yXY1Obhr",
        "outputId": "c682ae98-62d7-4835-d1bb-720310132acd"
      },
      "execution_count": 90,
      "outputs": [
        {
          "output_type": "stream",
          "name": "stderr",
          "text": [
            "/usr/local/lib/python3.10/dist-packages/statsmodels/tsa/base/tsa_model.py:473: ValueWarning:\n",
            "\n",
            "No frequency information was provided, so inferred frequency T will be used.\n",
            "\n",
            "/usr/local/lib/python3.10/dist-packages/statsmodels/tsa/base/tsa_model.py:473: ValueWarning:\n",
            "\n",
            "No frequency information was provided, so inferred frequency T will be used.\n",
            "\n",
            "/usr/local/lib/python3.10/dist-packages/statsmodels/tsa/base/tsa_model.py:473: ValueWarning:\n",
            "\n",
            "No frequency information was provided, so inferred frequency T will be used.\n",
            "\n"
          ]
        }
      ]
    },
    {
      "cell_type": "markdown",
      "source": [
        "**LSTM Model Preparation**"
      ],
      "metadata": {
        "id": "_Y-sliOnQPkU"
      }
    },
    {
      "cell_type": "code",
      "source": [
        "def preprocess_lstm_data(data):\n",
        "    scaler = MinMaxScaler(feature_range=(0, 1))\n",
        "    scaled_data = scaler.fit_transform(data['Close'].values.reshape(-1, 1))\n",
        "    X, y = [], []\n",
        "    for i in range(60, len(scaled_data)):\n",
        "        X.append(scaled_data[i-60:i])\n",
        "        y.append(scaled_data[i])\n",
        "    X, y = np.array(X), np.array(y)\n",
        "    return X, y, scaler\n",
        "\n",
        "X_lstm, y_lstm, scaler = preprocess_lstm_data(data)\n",
        "\n",
        "def train_lstm_model(X, y):\n",
        "    model = Sequential()\n",
        "    model.add(LSTM(units=50, return_sequences=True, input_shape=(X.shape[1], 1)))\n",
        "    model.add(LSTM(units=50))\n",
        "    model.add(Dense(1))\n",
        "    model.compile(optimizer='adam', loss='mean_squared_error')\n",
        "    model.fit(X, y, epochs=5, batch_size=32, verbose=0)\n",
        "    return model\n",
        "\n",
        "lstm_model = train_lstm_model(X_lstm, y_lstm)"
      ],
      "metadata": {
        "colab": {
          "base_uri": "https://localhost:8080/"
        },
        "id": "gY8DQ0HEOvN4",
        "outputId": "4d5ea1a3-222c-47b8-a75b-c4675bcbd324"
      },
      "execution_count": 91,
      "outputs": [
        {
          "output_type": "stream",
          "name": "stderr",
          "text": [
            "/usr/local/lib/python3.10/dist-packages/keras/src/layers/rnn/rnn.py:204: UserWarning:\n",
            "\n",
            "Do not pass an `input_shape`/`input_dim` argument to a layer. When using Sequential models, prefer using an `Input(shape)` object as the first layer in the model instead.\n",
            "\n"
          ]
        }
      ]
    },
    {
      "cell_type": "markdown",
      "source": [
        "**Predictions with ARIMA**"
      ],
      "metadata": {
        "id": "EGH3wmqZQLY1"
      }
    },
    {
      "cell_type": "code",
      "source": [
        "def predict_with_arima(model_fit, steps=10):\n",
        "    forecast = model_fit.forecast(steps=steps)\n",
        "    return forecast"
      ],
      "metadata": {
        "id": "EYXOEvoBOzWT"
      },
      "execution_count": 92,
      "outputs": []
    },
    {
      "cell_type": "markdown",
      "source": [
        "**Predictions with LSTM**"
      ],
      "metadata": {
        "id": "AuhxoTaSQFGG"
      }
    },
    {
      "cell_type": "code",
      "source": [
        "def predict_with_lstm(model, scaler, data, steps=10):\n",
        "    last_60_days = data['Close'][-60:].values.reshape(-1, 1)\n",
        "    scaled_last_60_days = scaler.transform(last_60_days)\n",
        "    X_input = np.array([scaled_last_60_days])\n",
        "    predictions = []\n",
        "\n",
        "    for _ in range(steps):\n",
        "        pred = model.predict(X_input)[0][0]\n",
        "        predictions.append(pred)\n",
        "\n",
        "        new_data = np.roll(X_input, shift=-1, axis=1)\n",
        "        new_data[0, -1, 0] = pred\n",
        "        X_input = new_data\n",
        "\n",
        "    return scaler.inverse_transform(np.array(predictions).reshape(-1, 1)).flatten()\n",
        "\n",
        "# Predict today's price using LSTM\n",
        "today_price_lstm = predict_with_lstm(lstm_model, scaler, data, steps=1)[0]\n",
        "print(f\"Predicted Today's Price using LSTM: {today_price_lstm:.2f}\")"
      ],
      "metadata": {
        "colab": {
          "base_uri": "https://localhost:8080/"
        },
        "id": "cIoSDGCVO3gK",
        "outputId": "6695bb2b-86fd-48cf-cfe1-5839bd56313c"
      },
      "execution_count": 93,
      "outputs": [
        {
          "output_type": "stream",
          "name": "stdout",
          "text": [
            "\u001b[1m1/1\u001b[0m \u001b[32m━━━━━━━━━━━━━━━━━━━━\u001b[0m\u001b[37m\u001b[0m \u001b[1m0s\u001b[0m 285ms/step\n",
            "Predicted Today's Price using LSTM: 8268.87\n"
          ]
        }
      ]
    },
    {
      "cell_type": "markdown",
      "source": [
        "**Forecasting for future steps**"
      ],
      "metadata": {
        "id": "l7ljCVnXFNk1"
      }
    },
    {
      "cell_type": "code",
      "source": [
        "future_steps = 10\n",
        "arima_forecast = predict_with_arima(arima_model, steps=future_steps)\n",
        "lstm_forecast = predict_with_lstm(lstm_model, scaler, data, steps=future_steps)\n",
        "\n",
        "forecast_index = pd.date_range(start=data.index[-1] + pd.Timedelta(minutes=1), periods=future_steps, freq='1min')"
      ],
      "metadata": {
        "colab": {
          "base_uri": "https://localhost:8080/"
        },
        "id": "WBSXZXx5FD0m",
        "outputId": "5e38799b-aa3f-482b-c79f-d4905174988d"
      },
      "execution_count": 94,
      "outputs": [
        {
          "output_type": "stream",
          "name": "stdout",
          "text": [
            "\u001b[1m1/1\u001b[0m \u001b[32m━━━━━━━━━━━━━━━━━━━━\u001b[0m\u001b[37m\u001b[0m \u001b[1m0s\u001b[0m 24ms/step\n",
            "\u001b[1m1/1\u001b[0m \u001b[32m━━━━━━━━━━━━━━━━━━━━\u001b[0m\u001b[37m\u001b[0m \u001b[1m0s\u001b[0m 23ms/step\n",
            "\u001b[1m1/1\u001b[0m \u001b[32m━━━━━━━━━━━━━━━━━━━━\u001b[0m\u001b[37m\u001b[0m \u001b[1m0s\u001b[0m 23ms/step\n",
            "\u001b[1m1/1\u001b[0m \u001b[32m━━━━━━━━━━━━━━━━━━━━\u001b[0m\u001b[37m\u001b[0m \u001b[1m0s\u001b[0m 23ms/step\n",
            "\u001b[1m1/1\u001b[0m \u001b[32m━━━━━━━━━━━━━━━━━━━━\u001b[0m\u001b[37m\u001b[0m \u001b[1m0s\u001b[0m 24ms/step\n",
            "\u001b[1m1/1\u001b[0m \u001b[32m━━━━━━━━━━━━━━━━━━━━\u001b[0m\u001b[37m\u001b[0m \u001b[1m0s\u001b[0m 23ms/step\n",
            "\u001b[1m1/1\u001b[0m \u001b[32m━━━━━━━━━━━━━━━━━━━━\u001b[0m\u001b[37m\u001b[0m \u001b[1m0s\u001b[0m 22ms/step\n",
            "\u001b[1m1/1\u001b[0m \u001b[32m━━━━━━━━━━━━━━━━━━━━\u001b[0m\u001b[37m\u001b[0m \u001b[1m0s\u001b[0m 29ms/step\n",
            "\u001b[1m1/1\u001b[0m \u001b[32m━━━━━━━━━━━━━━━━━━━━\u001b[0m\u001b[37m\u001b[0m \u001b[1m0s\u001b[0m 23ms/step\n",
            "\u001b[1m1/1\u001b[0m \u001b[32m━━━━━━━━━━━━━━━━━━━━\u001b[0m\u001b[37m\u001b[0m \u001b[1m0s\u001b[0m 22ms/step\n"
          ]
        }
      ]
    },
    {
      "cell_type": "markdown",
      "source": [
        "**Model Accuracy**"
      ],
      "metadata": {
        "id": "1nlAa_cBP757"
      }
    },
    {
      "cell_type": "code",
      "source": [
        "# ARIMA Model Accuracy\n",
        "arima_mae = mean_absolute_error(data['Close'][-future_steps:], arima_forecast)\n",
        "arima_rmse = math.sqrt(mean_squared_error(data['Close'][-future_steps:], arima_forecast))\n",
        "print(f\"ARIMA Model - MAE: {arima_mae:.2f}, RMSE: {arima_rmse:.2f}\")\n",
        "\n",
        "# LSTM Model Accuracy\n",
        "lstm_mae = mean_absolute_error(data['Close'][-future_steps:], lstm_forecast)\n",
        "lstm_rmse = math.sqrt(mean_squared_error(data['Close'][-future_steps:], lstm_forecast))\n",
        "print(f\"LSTM Model - MAE: {lstm_mae:.2f}, RMSE: {lstm_rmse:.2f}\")"
      ],
      "metadata": {
        "colab": {
          "base_uri": "https://localhost:8080/"
        },
        "id": "_rP8o0AxO-iR",
        "outputId": "ad5d2433-fdce-4e81-fbf3-e323c24f4591"
      },
      "execution_count": 95,
      "outputs": [
        {
          "output_type": "stream",
          "name": "stdout",
          "text": [
            "ARIMA Model - MAE: 3.43, RMSE: 3.78\n",
            "LSTM Model - MAE: 1.76, RMSE: 2.01\n"
          ]
        }
      ]
    },
    {
      "cell_type": "code",
      "source": [
        "!pip install prophet\n"
      ],
      "metadata": {
        "colab": {
          "base_uri": "https://localhost:8080/"
        },
        "id": "BLoMSCOMqfkz",
        "outputId": "5a0f366f-26bd-4599-a223-b86f4c20d07f"
      },
      "execution_count": 44,
      "outputs": [
        {
          "output_type": "stream",
          "name": "stdout",
          "text": [
            "Requirement already satisfied: prophet in /usr/local/lib/python3.10/dist-packages (1.1.5)\n",
            "Requirement already satisfied: cmdstanpy>=1.0.4 in /usr/local/lib/python3.10/dist-packages (from prophet) (1.2.4)\n",
            "Requirement already satisfied: numpy>=1.15.4 in /usr/local/lib/python3.10/dist-packages (from prophet) (1.26.4)\n",
            "Requirement already satisfied: matplotlib>=2.0.0 in /usr/local/lib/python3.10/dist-packages (from prophet) (3.7.1)\n",
            "Requirement already satisfied: pandas>=1.0.4 in /usr/local/lib/python3.10/dist-packages (from prophet) (2.1.4)\n",
            "Requirement already satisfied: holidays>=0.25 in /usr/local/lib/python3.10/dist-packages (from prophet) (0.55)\n",
            "Requirement already satisfied: tqdm>=4.36.1 in /usr/local/lib/python3.10/dist-packages (from prophet) (4.66.5)\n",
            "Requirement already satisfied: importlib-resources in /usr/local/lib/python3.10/dist-packages (from prophet) (6.4.4)\n",
            "Requirement already satisfied: stanio<2.0.0,>=0.4.0 in /usr/local/lib/python3.10/dist-packages (from cmdstanpy>=1.0.4->prophet) (0.5.1)\n",
            "Requirement already satisfied: python-dateutil in /usr/local/lib/python3.10/dist-packages (from holidays>=0.25->prophet) (2.8.2)\n",
            "Requirement already satisfied: contourpy>=1.0.1 in /usr/local/lib/python3.10/dist-packages (from matplotlib>=2.0.0->prophet) (1.3.0)\n",
            "Requirement already satisfied: cycler>=0.10 in /usr/local/lib/python3.10/dist-packages (from matplotlib>=2.0.0->prophet) (0.12.1)\n",
            "Requirement already satisfied: fonttools>=4.22.0 in /usr/local/lib/python3.10/dist-packages (from matplotlib>=2.0.0->prophet) (4.53.1)\n",
            "Requirement already satisfied: kiwisolver>=1.0.1 in /usr/local/lib/python3.10/dist-packages (from matplotlib>=2.0.0->prophet) (1.4.5)\n",
            "Requirement already satisfied: packaging>=20.0 in /usr/local/lib/python3.10/dist-packages (from matplotlib>=2.0.0->prophet) (24.1)\n",
            "Requirement already satisfied: pillow>=6.2.0 in /usr/local/lib/python3.10/dist-packages (from matplotlib>=2.0.0->prophet) (9.4.0)\n",
            "Requirement already satisfied: pyparsing>=2.3.1 in /usr/local/lib/python3.10/dist-packages (from matplotlib>=2.0.0->prophet) (3.1.4)\n",
            "Requirement already satisfied: pytz>=2020.1 in /usr/local/lib/python3.10/dist-packages (from pandas>=1.0.4->prophet) (2024.1)\n",
            "Requirement already satisfied: tzdata>=2022.1 in /usr/local/lib/python3.10/dist-packages (from pandas>=1.0.4->prophet) (2024.1)\n",
            "Requirement already satisfied: six>=1.5 in /usr/local/lib/python3.10/dist-packages (from python-dateutil->holidays>=0.25->prophet) (1.16.0)\n"
          ]
        }
      ]
    },
    {
      "cell_type": "code",
      "source": [
        "\n",
        "from prophet import Prophet\n",
        "\n",
        "# Convert the index to datetime, if not already done\n",
        "data.index = pd.to_datetime(data.index)\n",
        "\n",
        "# Function to prepare data for Prophet\n",
        "def prepare_data_for_prophet(data):\n",
        "    prophet_data = data[['Close']].reset_index()  # Reset index to convert Datetime from index to a column\n",
        "    prophet_data[prophet_data.columns[0]] = prophet_data[prophet_data.columns[0]].dt.tz_localize(None)\n",
        "    prophet_data.rename(columns={prophet_data.columns[0]: 'ds', 'Close': 'y'}, inplace=True)  # Rename columns for Prophet\n",
        "    return prophet_data\n",
        "\n",
        "# Prepare the data\n",
        "prophet_data = prepare_data_for_prophet(data)\n",
        "\n",
        "def train_prophet_model(data):\n",
        "    model = Prophet(daily_seasonality=False)\n",
        "    model.add_seasonality(name='monthly', period=30.5, fourier_order=5)\n",
        "    model.fit(data)\n",
        "    return model\n",
        "\n",
        "# Train the Prophet model\n",
        "prophet_model = train_prophet_model(prophet_data)\n",
        "\n",
        "def predict_with_prophet(model, periods=10):\n",
        "    future = model.make_future_dataframe(periods=periods, freq='D')\n",
        "    forecast = model.predict(future)\n",
        "    return forecast[['ds', 'yhat']].tail(periods)\n",
        "\n",
        "# Make predictions using Prophet\n",
        "prophet_forecast = predict_with_prophet(prophet_model, periods=10)\n",
        "print(f\"Prophet Model - Predicted future prices:\\n{prophet_forecast}\")"
      ],
      "metadata": {
        "colab": {
          "base_uri": "https://localhost:8080/"
        },
        "id": "ze8_KorjvdmP",
        "outputId": "ff63bbce-f218-47ef-fd11-3ff2a6fa70b6"
      },
      "execution_count": 96,
      "outputs": [
        {
          "output_type": "stream",
          "name": "stderr",
          "text": [
            "INFO:prophet:Disabling yearly seasonality. Run prophet with yearly_seasonality=True to override this.\n",
            "INFO:prophet:Disabling weekly seasonality. Run prophet with weekly_seasonality=True to override this.\n",
            "DEBUG:cmdstanpy:input tempfile: /tmp/tmp3elfujud/rhlkgbpf.json\n",
            "DEBUG:cmdstanpy:input tempfile: /tmp/tmp3elfujud/5r81lrza.json\n",
            "DEBUG:cmdstanpy:idx 0\n",
            "DEBUG:cmdstanpy:running CmdStan, num_threads: None\n",
            "DEBUG:cmdstanpy:CmdStan args: ['/usr/local/lib/python3.10/dist-packages/prophet/stan_model/prophet_model.bin', 'random', 'seed=5666', 'data', 'file=/tmp/tmp3elfujud/rhlkgbpf.json', 'init=/tmp/tmp3elfujud/5r81lrza.json', 'output', 'file=/tmp/tmp3elfujud/prophet_modelegczhc63/prophet_model-20240904233139.csv', 'method=optimize', 'algorithm=lbfgs', 'iter=10000']\n",
            "23:31:39 - cmdstanpy - INFO - Chain [1] start processing\n",
            "INFO:cmdstanpy:Chain [1] start processing\n",
            "23:31:39 - cmdstanpy - INFO - Chain [1] done processing\n",
            "INFO:cmdstanpy:Chain [1] done processing\n"
          ]
        },
        {
          "output_type": "stream",
          "name": "stdout",
          "text": [
            "Prophet Model - Predicted future prices:\n",
            "                     ds          yhat\n",
            "490 2024-09-05 16:28:00   8602.649200\n",
            "491 2024-09-06 16:28:00   9294.771136\n",
            "492 2024-09-07 16:28:00  10138.330849\n",
            "493 2024-09-08 16:28:00  10823.692407\n",
            "494 2024-09-09 16:28:00  11220.233725\n",
            "495 2024-09-10 16:28:00  11470.695566\n",
            "496 2024-09-11 16:28:00  11831.535084\n",
            "497 2024-09-12 16:28:00  12424.881260\n",
            "498 2024-09-13 16:28:00  13138.890616\n",
            "499 2024-09-14 16:28:00  13758.522605\n"
          ]
        }
      ]
    },
    {
      "cell_type": "markdown",
      "source": [
        "**SHAP Explanation for LSTM**"
      ],
      "metadata": {
        "id": "gKdxKYyxkLlp"
      }
    },
    {
      "cell_type": "code",
      "source": [
        "import shap\n",
        "\n",
        "def get_reshaped_lstm_data(X_lstm):\n",
        "    return X_lstm.reshape(X_lstm.shape[0], X_lstm.shape[1] * X_lstm.shape[2])\n",
        "\n",
        "reshaped_X_lstm = get_reshaped_lstm_data(X_lstm)\n",
        "\n",
        "# Train a simple Dense model on reshaped data for SHAP explanation\n",
        "def train_dense_model(X, y):\n",
        "    model = Sequential()\n",
        "    model.add(Dense(units=50, input_dim=X.shape[1], activation='relu'))\n",
        "    model.add(Dense(units=1))\n",
        "    model.compile(optimizer='adam', loss='mean_squared_error')\n",
        "    model.fit(X, y, epochs=5, batch_size=32, verbose=0)\n",
        "    return model\n",
        "\n",
        "dense_model = train_dense_model(reshaped_X_lstm, y_lstm)\n",
        "\n",
        "#SHAP Explanation for LSTM (Flattened Input)\n",
        "\n",
        "explainer_lstm = shap.KernelExplainer(dense_model.predict, reshaped_X_lstm[:100])\n",
        "shap_values_lstm = explainer_lstm.shap_values(reshaped_X_lstm[:10], nsamples=100)\n",
        "\n",
        "# SHAP summary plot for the Dense model\n",
        "shap.summary_plot(shap_values_lstm, reshaped_X_lstm[:10])\n"
      ],
      "metadata": {
        "colab": {
          "base_uri": "https://localhost:8080/",
          "height": 1000,
          "referenced_widgets": [
            "67db82e95c2c4e4bb65cf681c4d50fdf",
            "e78f065639be4938b469a2a2485965f7",
            "ba4623125911458f8fda1a076be52446",
            "abc8cd5eca444a54a69ba75721cc85fd",
            "552922da7c6d4400aa8cb55e420e2d78",
            "562cb629a1cc454daa6c9e9f21f06f89",
            "8e31c81ce25c407b8adf8d8a228dfbfd",
            "55caf836a84a4152ac795c781314aeb4",
            "0ee8376e27c9461498a35f7962e802ed",
            "34be5c7f013a4ac7b355a582be7ad069",
            "03bba56fdf3d499e810c10f7554a692f"
          ]
        },
        "id": "g3sIqdpFkNAH",
        "outputId": "0fd172fa-a9ca-4fd8-c839-0db9b4def73b"
      },
      "execution_count": 97,
      "outputs": [
        {
          "output_type": "stream",
          "name": "stderr",
          "text": [
            "/usr/local/lib/python3.10/dist-packages/keras/src/layers/core/dense.py:87: UserWarning:\n",
            "\n",
            "Do not pass an `input_shape`/`input_dim` argument to a layer. When using Sequential models, prefer using an `Input(shape)` object as the first layer in the model instead.\n",
            "\n"
          ]
        },
        {
          "output_type": "stream",
          "name": "stdout",
          "text": [
            "\u001b[1m4/4\u001b[0m \u001b[32m━━━━━━━━━━━━━━━━━━━━\u001b[0m\u001b[37m\u001b[0m \u001b[1m0s\u001b[0m 10ms/step\n"
          ]
        },
        {
          "output_type": "display_data",
          "data": {
            "text/plain": [
              "  0%|          | 0/10 [00:00<?, ?it/s]"
            ],
            "application/vnd.jupyter.widget-view+json": {
              "version_major": 2,
              "version_minor": 0,
              "model_id": "67db82e95c2c4e4bb65cf681c4d50fdf"
            }
          },
          "metadata": {}
        },
        {
          "output_type": "stream",
          "name": "stdout",
          "text": [
            "\u001b[1m1/1\u001b[0m \u001b[32m━━━━━━━━━━━━━━━━━━━━\u001b[0m\u001b[37m\u001b[0m \u001b[1m0s\u001b[0m 23ms/step\n",
            "\u001b[1m313/313\u001b[0m \u001b[32m━━━━━━━━━━━━━━━━━━━━\u001b[0m\u001b[37m\u001b[0m \u001b[1m0s\u001b[0m 1ms/step\n",
            "\u001b[1m1/1\u001b[0m \u001b[32m━━━━━━━━━━━━━━━━━━━━\u001b[0m\u001b[37m\u001b[0m \u001b[1m0s\u001b[0m 19ms/step\n",
            "\u001b[1m313/313\u001b[0m \u001b[32m━━━━━━━━━━━━━━━━━━━━\u001b[0m\u001b[37m\u001b[0m \u001b[1m0s\u001b[0m 1ms/step\n",
            "\u001b[1m1/1\u001b[0m \u001b[32m━━━━━━━━━━━━━━━━━━━━\u001b[0m\u001b[37m\u001b[0m \u001b[1m0s\u001b[0m 18ms/step\n",
            "\u001b[1m313/313\u001b[0m \u001b[32m━━━━━━━━━━━━━━━━━━━━\u001b[0m\u001b[37m\u001b[0m \u001b[1m0s\u001b[0m 1ms/step\n",
            "\u001b[1m1/1\u001b[0m \u001b[32m━━━━━━━━━━━━━━━━━━━━\u001b[0m\u001b[37m\u001b[0m \u001b[1m0s\u001b[0m 27ms/step\n",
            "\u001b[1m313/313\u001b[0m \u001b[32m━━━━━━━━━━━━━━━━━━━━\u001b[0m\u001b[37m\u001b[0m \u001b[1m1s\u001b[0m 2ms/step\n",
            "\u001b[1m1/1\u001b[0m \u001b[32m━━━━━━━━━━━━━━━━━━━━\u001b[0m\u001b[37m\u001b[0m \u001b[1m0s\u001b[0m 28ms/step\n",
            "\u001b[1m313/313\u001b[0m \u001b[32m━━━━━━━━━━━━━━━━━━━━\u001b[0m\u001b[37m\u001b[0m \u001b[1m1s\u001b[0m 2ms/step\n",
            "\u001b[1m1/1\u001b[0m \u001b[32m━━━━━━━━━━━━━━━━━━━━\u001b[0m\u001b[37m\u001b[0m \u001b[1m0s\u001b[0m 19ms/step\n",
            "\u001b[1m313/313\u001b[0m \u001b[32m━━━━━━━━━━━━━━━━━━━━\u001b[0m\u001b[37m\u001b[0m \u001b[1m0s\u001b[0m 1ms/step\n",
            "\u001b[1m1/1\u001b[0m \u001b[32m━━━━━━━━━━━━━━━━━━━━\u001b[0m\u001b[37m\u001b[0m \u001b[1m0s\u001b[0m 18ms/step\n",
            "\u001b[1m313/313\u001b[0m \u001b[32m━━━━━━━━━━━━━━━━━━━━\u001b[0m\u001b[37m\u001b[0m \u001b[1m0s\u001b[0m 1ms/step\n",
            "\u001b[1m1/1\u001b[0m \u001b[32m━━━━━━━━━━━━━━━━━━━━\u001b[0m\u001b[37m\u001b[0m \u001b[1m0s\u001b[0m 19ms/step\n",
            "\u001b[1m313/313\u001b[0m \u001b[32m━━━━━━━━━━━━━━━━━━━━\u001b[0m\u001b[37m\u001b[0m \u001b[1m0s\u001b[0m 1ms/step\n",
            "\u001b[1m1/1\u001b[0m \u001b[32m━━━━━━━━━━━━━━━━━━━━\u001b[0m\u001b[37m\u001b[0m \u001b[1m0s\u001b[0m 20ms/step\n",
            "\u001b[1m313/313\u001b[0m \u001b[32m━━━━━━━━━━━━━━━━━━━━\u001b[0m\u001b[37m\u001b[0m \u001b[1m0s\u001b[0m 1ms/step\n",
            "\u001b[1m1/1\u001b[0m \u001b[32m━━━━━━━━━━━━━━━━━━━━\u001b[0m\u001b[37m\u001b[0m \u001b[1m0s\u001b[0m 21ms/step\n",
            "\u001b[1m313/313\u001b[0m \u001b[32m━━━━━━━━━━━━━━━━━━━━\u001b[0m\u001b[37m\u001b[0m \u001b[1m0s\u001b[0m 1ms/step\n"
          ]
        },
        {
          "output_type": "display_data",
          "data": {
            "text/plain": [
              "<Figure size 1150x660 with 1 Axes>"
            ],
            "image/png": "[encoded data removed]"
          },
          "metadata": {}
        }
      ]
    },
    {
      "cell_type": "markdown",
      "source": [
        "**Visualization**\n",
        "*Line Chart*"
      ],
      "metadata": {
        "id": "SAJK-0XnP2-4"
      }
    },
    {
      "cell_type": "code",
      "source": [
        "line_fig = go.Figure()\n",
        "line_fig.add_trace(go.Scatter(x=data.index, y=data['Close'], mode='lines', name='FTSE100 Line'))\n",
        "line_fig.add_trace(go.Scatter(x=[data.index[-1] + pd.Timedelta(minutes=1)], y=[today_price_lr], mode='markers', name='Predicted LR Price'))\n",
        "line_fig.add_trace(go.Scatter(x=[data.index[-1] + pd.Timedelta(minutes=1)], y=[today_price_lstm], mode='markers', name='Predicted LSTM Price'))\n",
        "line_fig.update_layout(title='FTSE100 Index - Line Chart with Predicted Price', xaxis_title='Time', yaxis_title='Price')\n",
        "line_fig.show()"
      ],
      "metadata": {
        "colab": {
          "base_uri": "https://localhost:8080/",
          "height": 542
        },
        "id": "9HqzJgSPPI6P",
        "outputId": "df0925c8-fa37-4ae9-c136-de4b6d4d1ec1"
      },
      "execution_count": 98,
      "outputs": [
        {
          "output_type": "display_data",
          "data": {
            "text/html": [
              "<html>\n",
              "<head><meta charset=\"utf-8\" /></head>\n",
              "<body>\n",
              "    <div>            <script src=\"https://cdnjs.cloudflare.com/ajax/libs/mathjax/2.7.5/MathJax.js?config=TeX-AMS-MML_SVG\"></script><script type=\"text/javascript\">if (window.MathJax && window.MathJax.Hub && window.MathJax.Hub.Config) {window.MathJax.Hub.Config({SVG: {font: \"STIX-Web\"}});}</script>                <script type=\"text/javascript\">window.PlotlyConfig = {MathJaxConfig: 'local'};</script>\n",
              "        <script charset=\"utf-8\" src=\"https://cdn.plot.ly/plotly-2.24.1.min.js\"></script>                <div id=\"74032e01-c80e-4679-873f-ecbc314c36bc\" class=\"plotly-graph-div\" style=\"height:525px; width:100%;\"></div>            <script type=\"text/javascript\">                                    window.PLOTLYENV=window.PLOTLYENV || {};                                    if (document.getElementById(\"74032e01-c80e-4679-873f-ecbc314c36bc\")) {                    Plotly.newPlot(                        \"74032e01-c80e-4679-873f-ecbc314c36bc\",                        [{\"mode\":\"lines\",\"name\":\"FTSE100 Line\",\"x\":[\"2024-09-04T08:19:00+01:00\",\"2024-09-04T08:20:00+01:00\",\"2024-09-04T08:21:00+01:00\",\"2024-09-04T08:22:00+01:00\",\"2024-09-04T08:23:00+01:00\",\"2024-09-04T08:24:00+01:00\",\"2024-09-04T08:25:00+01:00\",\"2024-09-04T08:26:00+01:00\",\"2024-09-04T08:27:00+01:00\",\"2024-09-04T08:28:00+01:00\",\"2024-09-04T08:29:00+01:00\",\"2024-09-04T08:30:00+01:00\",\"2024-09-04T08:31:00+01:00\",\"2024-09-04T08:32:00+01:00\",\"2024-09-04T08:33:00+01:00\",\"2024-09-04T08:34:00+01:00\",\"2024-09-04T08:35:00+01:00\",\"2024-09-04T08:36:00+01:00\",\"2024-09-04T08:37:00+01:00\",\"2024-09-04T08:38:00+01:00\",\"2024-09-04T08:39:00+01:00\",\"2024-09-04T08:40:00+01:00\",\"2024-09-04T08:41:00+01:00\",\"2024-09-04T08:42:00+01:00\",\"2024-09-04T08:43:00+01:00\",\"2024-09-04T08:44:00+01:00\",\"2024-09-04T08:45:00+01:00\",\"2024-09-04T08:46:00+01:00\",\"2024-09-04T08:47:00+01:00\",\"2024-09-04T08:48:00+01:00\",\"2024-09-04T08:49:00+01:00\",\"2024-09-04T08:50:00+01:00\",\"2024-09-04T08:51:00+01:00\",\"2024-09-04T08:52:00+01:00\",\"2024-09-04T08:53:00+01:00\",\"2024-09-04T08:54:00+01:00\",\"2024-09-04T08:55:00+01:00\",\"2024-09-04T08:56:00+01:00\",\"2024-09-04T08:57:00+01:00\",\"2024-09-04T08:58:00+01:00\",\"2024-09-04T08:59:00+01:00\",\"2024-09-04T09:00:00+01:00\",\"2024-09-04T09:01:00+01:00\",\"2024-09-04T09:02:00+01:00\",\"2024-09-04T09:03:00+01:00\",\"2024-09-04T09:04:00+01:00\",\"2024-09-04T09:05:00+01:00\",\"2024-09-04T09:06:00+01:00\",\"2024-09-04T09:07:00+01:00\",\"2024-09-04T09:08:00+01:00\",\"2024-09-04T09:09:00+01:00\",\"2024-09-04T09:10:00+01:00\",\"2024-09-04T09:11:00+01:00\",\"2024-09-04T09:12:00+01:00\",\"2024-09-04T09:13:00+01:00\",\"2024-09-04T09:14:00+01:00\",\"2024-09-04T09:15:00+01:00\",\"2024-09-04T09:16:00+01:00\",\"2024-09-04T09:17:00+01:00\",\"2024-09-04T09:18:00+01:00\",\"2024-09-04T09:19:00+01:00\",\"2024-09-04T09:20:00+01:00\",\"2024-09-04T09:21:00+01:00\",\"2024-09-04T09:22:00+01:00\",\"2024-09-04T09:23:00+01:00\",\"2024-09-04T09:24:00+01:00\",\"2024-09-04T09:25:00+01:00\",\"2024-09-04T09:26:00+01:00\",\"2024-09-04T09:27:00+01:00\",\"2024-09-04T09:28:00+01:00\",\"2024-09-04T09:29:00+01:00\",\"2024-09-04T09:30:00+01:00\",\"2024-09-04T09:31:00+01:00\",\"2024-09-04T09:32:00+01:00\",\"2024-09-04T09:33:00+01:00\",\"2024-09-04T09:34:00+01:00\",\"2024-09-04T09:35:00+01:00\",\"2024-09-04T09:36:00+01:00\",\"2024-09-04T09:37:00+01:00\",\"2024-09-04T09:38:00+01:00\",\"2024-09-04T09:39:00+01:00\",\"2024-09-04T09:40:00+01:00\",\"2024-09-04T09:41:00+01:00\",\"2024-09-04T09:42:00+01:00\",\"2024-09-04T09:43:00+01:00\",\"2024-09-04T09:44:00+01:00\",\"2024-09-04T09:45:00+01:00\",\"2024-09-04T09:46:00+01:00\",\"2024-09-04T09:47:00+01:00\",\"2024-09-04T09:48:00+01:00\",\"2024-09-04T09:49:00+01:00\",\"2024-09-04T09:50:00+01:00\",\"2024-09-04T09:51:00+01:00\",\"2024-09-04T09:52:00+01:00\",\"2024-09-04T09:53:00+01:00\",\"2024-09-04T09:54:00+01:00\",\"2024-09-04T09:55:00+01:00\",\"2024-09-04T09:56:00+01:00\",\"2024-09-04T09:57:00+01:00\",\"2024-09-04T09:58:00+01:00\",\"2024-09-04T09:59:00+01:00\",\"2024-09-04T10:00:00+01:00\",\"2024-09-04T10:01:00+01:00\",\"2024-09-04T10:02:00+01:00\",\"2024-09-04T10:03:00+01:00\",\"2024-09-04T10:04:00+01:00\",\"2024-09-04T10:05:00+01:00\",\"2024-09-04T10:06:00+01:00\",\"2024-09-04T10:07:00+01:00\",\"2024-09-04T10:08:00+01:00\",\"2024-09-04T10:09:00+01:00\",\"2024-09-04T10:10:00+01:00\",\"2024-09-04T10:11:00+01:00\",\"2024-09-04T10:12:00+01:00\",\"2024-09-04T10:13:00+01:00\",\"2024-09-04T10:14:00+01:00\",\"2024-09-04T10:15:00+01:00\",\"2024-09-04T10:16:00+01:00\",\"2024-09-04T10:17:00+01:00\",\"2024-09-04T10:18:00+01:00\",\"2024-09-04T10:19:00+01:00\",\"2024-09-04T10:20:00+01:00\",\"2024-09-04T10:21:00+01:00\",\"2024-09-04T10:22:00+01:00\",\"2024-09-04T10:23:00+01:00\",\"2024-09-04T10:24:00+01:00\",\"2024-09-04T10:25:00+01:00\",\"2024-09-04T10:26:00+01:00\",\"2024-09-04T10:27:00+01:00\",\"2024-09-04T10:28:00+01:00\",\"2024-09-04T10:29:00+01:00\",\"2024-09-04T10:30:00+01:00\",\"2024-09-04T10:31:00+01:00\",\"2024-09-04T10:32:00+01:00\",\"2024-09-04T10:33:00+01:00\",\"2024-09-04T10:34:00+01:00\",\"2024-09-04T10:35:00+01:00\",\"2024-09-04T10:36:00+01:00\",\"2024-09-04T10:37:00+01:00\",\"2024-09-04T10:38:00+01:00\",\"2024-09-04T10:39:00+01:00\",\"2024-09-04T10:40:00+01:00\",\"2024-09-04T10:41:00+01:00\",\"2024-09-04T10:42:00+01:00\",\"2024-09-04T10:43:00+01:00\",\"2024-09-04T10:44:00+01:00\",\"2024-09-04T10:45:00+01:00\",\"2024-09-04T10:46:00+01:00\",\"2024-09-04T10:47:00+01:00\",\"2024-09-04T10:48:00+01:00\",\"2024-09-04T10:49:00+01:00\",\"2024-09-04T10:50:00+01:00\",\"2024-09-04T10:51:00+01:00\",\"2024-09-04T10:52:00+01:00\",\"2024-09-04T10:53:00+01:00\",\"2024-09-04T10:54:00+01:00\",\"2024-09-04T10:55:00+01:00\",\"2024-09-04T10:56:00+01:00\",\"2024-09-04T10:57:00+01:00\",\"2024-09-04T10:58:00+01:00\",\"2024-09-04T10:59:00+01:00\",\"2024-09-04T11:00:00+01:00\",\"2024-09-04T11:01:00+01:00\",\"2024-09-04T11:02:00+01:00\",\"2024-09-04T11:03:00+01:00\",\"2024-09-04T11:04:00+01:00\",\"2024-09-04T11:05:00+01:00\",\"2024-09-04T11:06:00+01:00\",\"2024-09-04T11:07:00+01:00\",\"2024-09-04T11:08:00+01:00\",\"2024-09-04T11:09:00+01:00\",\"2024-09-04T11:10:00+01:00\",\"2024-09-04T11:11:00+01:00\",\"2024-09-04T11:12:00+01:00\",\"2024-09-04T11:13:00+01:00\",\"2024-09-04T11:14:00+01:00\",\"2024-09-04T11:15:00+01:00\",\"2024-09-04T11:16:00+01:00\",\"2024-09-04T11:17:00+01:00\",\"2024-09-04T11:18:00+01:00\",\"2024-09-04T11:19:00+01:00\",\"2024-09-04T11:20:00+01:00\",\"2024-09-04T11:21:00+01:00\",\"2024-09-04T11:22:00+01:00\",\"2024-09-04T11:23:00+01:00\",\"2024-09-04T11:24:00+01:00\",\"2024-09-04T11:25:00+01:00\",\"2024-09-04T11:26:00+01:00\",\"2024-09-04T11:27:00+01:00\",\"2024-09-04T11:28:00+01:00\",\"2024-09-04T11:29:00+01:00\",\"2024-09-04T11:30:00+01:00\",\"2024-09-04T11:31:00+01:00\",\"2024-09-04T11:32:00+01:00\",\"2024-09-04T11:33:00+01:00\",\"2024-09-04T11:34:00+01:00\",\"2024-09-04T11:35:00+01:00\",\"2024-09-04T11:36:00+01:00\",\"2024-09-04T11:37:00+01:00\",\"2024-09-04T11:38:00+01:00\",\"2024-09-04T11:39:00+01:00\",\"2024-09-04T11:40:00+01:00\",\"2024-09-04T11:41:00+01:00\",\"2024-09-04T11:42:00+01:00\",\"2024-09-04T11:43:00+01:00\",\"2024-09-04T11:44:00+01:00\",\"2024-09-04T11:45:00+01:00\",\"2024-09-04T11:46:00+01:00\",\"2024-09-04T11:47:00+01:00\",\"2024-09-04T11:48:00+01:00\",\"2024-09-04T11:49:00+01:00\",\"2024-09-04T11:50:00+01:00\",\"2024-09-04T11:51:00+01:00\",\"2024-09-04T11:52:00+01:00\",\"2024-09-04T11:53:00+01:00\",\"2024-09-04T11:54:00+01:00\",\"2024-09-04T11:55:00+01:00\",\"2024-09-04T11:56:00+01:00\",\"2024-09-04T11:57:00+01:00\",\"2024-09-04T11:58:00+01:00\",\"2024-09-04T11:59:00+01:00\",\"2024-09-04T12:00:00+01:00\",\"2024-09-04T12:01:00+01:00\",\"2024-09-04T12:02:00+01:00\",\"2024-09-04T12:03:00+01:00\",\"2024-09-04T12:04:00+01:00\",\"2024-09-04T12:05:00+01:00\",\"2024-09-04T12:06:00+01:00\",\"2024-09-04T12:07:00+01:00\",\"2024-09-04T12:08:00+01:00\",\"2024-09-04T12:09:00+01:00\",\"2024-09-04T12:10:00+01:00\",\"2024-09-04T12:11:00+01:00\",\"2024-09-04T12:12:00+01:00\",\"2024-09-04T12:13:00+01:00\",\"2024-09-04T12:14:00+01:00\",\"2024-09-04T12:15:00+01:00\",\"2024-09-04T12:16:00+01:00\",\"2024-09-04T12:17:00+01:00\",\"2024-09-04T12:18:00+01:00\",\"2024-09-04T12:19:00+01:00\",\"2024-09-04T12:20:00+01:00\",\"2024-09-04T12:21:00+01:00\",\"2024-09-04T12:22:00+01:00\",\"2024-09-04T12:23:00+01:00\",\"2024-09-04T12:24:00+01:00\",\"2024-09-04T12:25:00+01:00\",\"2024-09-04T12:26:00+01:00\",\"2024-09-04T12:27:00+01:00\",\"2024-09-04T12:28:00+01:00\",\"2024-09-04T12:29:00+01:00\",\"2024-09-04T12:30:00+01:00\",\"2024-09-04T12:31:00+01:00\",\"2024-09-04T12:32:00+01:00\",\"2024-09-04T12:33:00+01:00\",\"2024-09-04T12:34:00+01:00\",\"2024-09-04T12:35:00+01:00\",\"2024-09-04T12:36:00+01:00\",\"2024-09-04T12:37:00+01:00\",\"2024-09-04T12:38:00+01:00\",\"2024-09-04T12:39:00+01:00\",\"2024-09-04T12:40:00+01:00\",\"2024-09-04T12:41:00+01:00\",\"2024-09-04T12:42:00+01:00\",\"2024-09-04T12:43:00+01:00\",\"2024-09-04T12:44:00+01:00\",\"2024-09-04T12:45:00+01:00\",\"2024-09-04T12:46:00+01:00\",\"2024-09-04T12:47:00+01:00\",\"2024-09-04T12:48:00+01:00\",\"2024-09-04T12:49:00+01:00\",\"2024-09-04T12:50:00+01:00\",\"2024-09-04T12:51:00+01:00\",\"2024-09-04T12:52:00+01:00\",\"2024-09-04T12:53:00+01:00\",\"2024-09-04T12:54:00+01:00\",\"2024-09-04T12:55:00+01:00\",\"2024-09-04T12:56:00+01:00\",\"2024-09-04T12:57:00+01:00\",\"2024-09-04T12:58:00+01:00\",\"2024-09-04T12:59:00+01:00\",\"2024-09-04T13:00:00+01:00\",\"2024-09-04T13:01:00+01:00\",\"2024-09-04T13:02:00+01:00\",\"2024-09-04T13:03:00+01:00\",\"2024-09-04T13:04:00+01:00\",\"2024-09-04T13:05:00+01:00\",\"2024-09-04T13:06:00+01:00\",\"2024-09-04T13:07:00+01:00\",\"2024-09-04T13:08:00+01:00\",\"2024-09-04T13:09:00+01:00\",\"2024-09-04T13:10:00+01:00\",\"2024-09-04T13:11:00+01:00\",\"2024-09-04T13:12:00+01:00\",\"2024-09-04T13:13:00+01:00\",\"2024-09-04T13:14:00+01:00\",\"2024-09-04T13:15:00+01:00\",\"2024-09-04T13:16:00+01:00\",\"2024-09-04T13:17:00+01:00\",\"2024-09-04T13:18:00+01:00\",\"2024-09-04T13:19:00+01:00\",\"2024-09-04T13:20:00+01:00\",\"2024-09-04T13:21:00+01:00\",\"2024-09-04T13:22:00+01:00\",\"2024-09-04T13:23:00+01:00\",\"2024-09-04T13:24:00+01:00\",\"2024-09-04T13:25:00+01:00\",\"2024-09-04T13:26:00+01:00\",\"2024-09-04T13:27:00+01:00\",\"2024-09-04T13:28:00+01:00\",\"2024-09-04T13:29:00+01:00\",\"2024-09-04T13:30:00+01:00\",\"2024-09-04T13:31:00+01:00\",\"2024-09-04T13:32:00+01:00\",\"2024-09-04T13:33:00+01:00\",\"2024-09-04T13:34:00+01:00\",\"2024-09-04T13:35:00+01:00\",\"2024-09-04T13:36:00+01:00\",\"2024-09-04T13:37:00+01:00\",\"2024-09-04T13:38:00+01:00\",\"2024-09-04T13:39:00+01:00\",\"2024-09-04T13:40:00+01:00\",\"2024-09-04T13:41:00+01:00\",\"2024-09-04T13:42:00+01:00\",\"2024-09-04T13:43:00+01:00\",\"2024-09-04T13:44:00+01:00\",\"2024-09-04T13:45:00+01:00\",\"2024-09-04T13:46:00+01:00\",\"2024-09-04T13:47:00+01:00\",\"2024-09-04T13:48:00+01:00\",\"2024-09-04T13:49:00+01:00\",\"2024-09-04T13:50:00+01:00\",\"2024-09-04T13:51:00+01:00\",\"2024-09-04T13:52:00+01:00\",\"2024-09-04T13:53:00+01:00\",\"2024-09-04T13:54:00+01:00\",\"2024-09-04T13:55:00+01:00\",\"2024-09-04T13:56:00+01:00\",\"2024-09-04T13:57:00+01:00\",\"2024-09-04T13:58:00+01:00\",\"2024-09-04T13:59:00+01:00\",\"2024-09-04T14:00:00+01:00\",\"2024-09-04T14:01:00+01:00\",\"2024-09-04T14:02:00+01:00\",\"2024-09-04T14:03:00+01:00\",\"2024-09-04T14:04:00+01:00\",\"2024-09-04T14:05:00+01:00\",\"2024-09-04T14:06:00+01:00\",\"2024-09-04T14:07:00+01:00\",\"2024-09-04T14:08:00+01:00\",\"2024-09-04T14:09:00+01:00\",\"2024-09-04T14:10:00+01:00\",\"2024-09-04T14:11:00+01:00\",\"2024-09-04T14:12:00+01:00\",\"2024-09-04T14:13:00+01:00\",\"2024-09-04T14:14:00+01:00\",\"2024-09-04T14:15:00+01:00\",\"2024-09-04T14:16:00+01:00\",\"2024-09-04T14:17:00+01:00\",\"2024-09-04T14:18:00+01:00\",\"2024-09-04T14:19:00+01:00\",\"2024-09-04T14:20:00+01:00\",\"2024-09-04T14:21:00+01:00\",\"2024-09-04T14:22:00+01:00\",\"2024-09-04T14:23:00+01:00\",\"2024-09-04T14:24:00+01:00\",\"2024-09-04T14:25:00+01:00\",\"2024-09-04T14:26:00+01:00\",\"2024-09-04T14:27:00+01:00\",\"2024-09-04T14:28:00+01:00\",\"2024-09-04T14:29:00+01:00\",\"2024-09-04T14:30:00+01:00\",\"2024-09-04T14:31:00+01:00\",\"2024-09-04T14:32:00+01:00\",\"2024-09-04T14:33:00+01:00\",\"2024-09-04T14:34:00+01:00\",\"2024-09-04T14:35:00+01:00\",\"2024-09-04T14:36:00+01:00\",\"2024-09-04T14:37:00+01:00\",\"2024-09-04T14:38:00+01:00\",\"2024-09-04T14:39:00+01:00\",\"2024-09-04T14:40:00+01:00\",\"2024-09-04T14:41:00+01:00\",\"2024-09-04T14:42:00+01:00\",\"2024-09-04T14:43:00+01:00\",\"2024-09-04T14:44:00+01:00\",\"2024-09-04T14:45:00+01:00\",\"2024-09-04T14:46:00+01:00\",\"2024-09-04T14:47:00+01:00\",\"2024-09-04T14:48:00+01:00\",\"2024-09-04T14:49:00+01:00\",\"2024-09-04T14:50:00+01:00\",\"2024-09-04T14:51:00+01:00\",\"2024-09-04T14:52:00+01:00\",\"2024-09-04T14:53:00+01:00\",\"2024-09-04T14:54:00+01:00\",\"2024-09-04T14:55:00+01:00\",\"2024-09-04T14:56:00+01:00\",\"2024-09-04T14:57:00+01:00\",\"2024-09-04T14:58:00+01:00\",\"2024-09-04T14:59:00+01:00\",\"2024-09-04T15:00:00+01:00\",\"2024-09-04T15:01:00+01:00\",\"2024-09-04T15:02:00+01:00\",\"2024-09-04T15:03:00+01:00\",\"2024-09-04T15:04:00+01:00\",\"2024-09-04T15:05:00+01:00\",\"2024-09-04T15:06:00+01:00\",\"2024-09-04T15:07:00+01:00\",\"2024-09-04T15:08:00+01:00\",\"2024-09-04T15:09:00+01:00\",\"2024-09-04T15:10:00+01:00\",\"2024-09-04T15:11:00+01:00\",\"2024-09-04T15:12:00+01:00\",\"2024-09-04T15:13:00+01:00\",\"2024-09-04T15:14:00+01:00\",\"2024-09-04T15:15:00+01:00\",\"2024-09-04T15:16:00+01:00\",\"2024-09-04T15:17:00+01:00\",\"2024-09-04T15:18:00+01:00\",\"2024-09-04T15:19:00+01:00\",\"2024-09-04T15:20:00+01:00\",\"2024-09-04T15:21:00+01:00\",\"2024-09-04T15:22:00+01:00\",\"2024-09-04T15:23:00+01:00\",\"2024-09-04T15:24:00+01:00\",\"2024-09-04T15:25:00+01:00\",\"2024-09-04T15:26:00+01:00\",\"2024-09-04T15:27:00+01:00\",\"2024-09-04T15:28:00+01:00\",\"2024-09-04T15:29:00+01:00\",\"2024-09-04T15:30:00+01:00\",\"2024-09-04T15:31:00+01:00\",\"2024-09-04T15:32:00+01:00\",\"2024-09-04T15:33:00+01:00\",\"2024-09-04T15:34:00+01:00\",\"2024-09-04T15:35:00+01:00\",\"2024-09-04T15:36:00+01:00\",\"2024-09-04T15:37:00+01:00\",\"2024-09-04T15:38:00+01:00\",\"2024-09-04T15:39:00+01:00\",\"2024-09-04T15:40:00+01:00\",\"2024-09-04T15:41:00+01:00\",\"2024-09-04T15:42:00+01:00\",\"2024-09-04T15:43:00+01:00\",\"2024-09-04T15:44:00+01:00\",\"2024-09-04T15:45:00+01:00\",\"2024-09-04T15:46:00+01:00\",\"2024-09-04T15:47:00+01:00\",\"2024-09-04T15:48:00+01:00\",\"2024-09-04T15:49:00+01:00\",\"2024-09-04T15:50:00+01:00\",\"2024-09-04T15:51:00+01:00\",\"2024-09-04T15:52:00+01:00\",\"2024-09-04T15:53:00+01:00\",\"2024-09-04T15:54:00+01:00\",\"2024-09-04T15:55:00+01:00\",\"2024-09-04T15:56:00+01:00\",\"2024-09-04T15:57:00+01:00\",\"2024-09-04T15:58:00+01:00\",\"2024-09-04T15:59:00+01:00\",\"2024-09-04T16:00:00+01:00\",\"2024-09-04T16:01:00+01:00\",\"2024-09-04T16:02:00+01:00\",\"2024-09-04T16:03:00+01:00\",\"2024-09-04T16:04:00+01:00\",\"2024-09-04T16:05:00+01:00\",\"2024-09-04T16:06:00+01:00\",\"2024-09-04T16:07:00+01:00\",\"2024-09-04T16:08:00+01:00\",\"2024-09-04T16:09:00+01:00\",\"2024-09-04T16:10:00+01:00\",\"2024-09-04T16:11:00+01:00\",\"2024-09-04T16:12:00+01:00\",\"2024-09-04T16:13:00+01:00\",\"2024-09-04T16:14:00+01:00\",\"2024-09-04T16:15:00+01:00\",\"2024-09-04T16:16:00+01:00\",\"2024-09-04T16:17:00+01:00\",\"2024-09-04T16:18:00+01:00\",\"2024-09-04T16:19:00+01:00\",\"2024-09-04T16:20:00+01:00\",\"2024-09-04T16:21:00+01:00\",\"2024-09-04T16:22:00+01:00\",\"2024-09-04T16:23:00+01:00\",\"2024-09-04T16:24:00+01:00\",\"2024-09-04T16:25:00+01:00\",\"2024-09-04T16:26:00+01:00\",\"2024-09-04T16:27:00+01:00\",\"2024-09-04T16:28:00+01:00\"],\"y\":[8254.1396484375,8251.759765625,8253.1201171875,8247.900390625,8247.849609375,8248.5400390625,8246.08984375,8241.900390625,8237.919921875,8236.490234375,8235.650390625,8235.16015625,8234.8798828125,8235.2802734375,8234.580078125,8235.349609375,8232.080078125,8233.8896484375,8235.349609375,8237.48046875,8236.8896484375,8237.3701171875,8238.2998046875,8239.48046875,8240.5,8240.6396484375,8237.9501953125,8237.1201171875,8237.8896484375,8240.6201171875,8241.7001953125,8240.490234375,8238.099609375,8238.7802734375,8237.509765625,8238.66015625,8237.009765625,8234.3896484375,8235.4697265625,8235.2998046875,8233.7197265625,8235.9697265625,8236.5595703125,8237.5498046875,8237.1904296875,8237.75,8233.9404296875,8234.16015625,8231.6201171875,8229.8701171875,8226.1904296875,8224.1201171875,8226.5400390625,8227.01953125,8227.2099609375,8226.8203125,8225.9404296875,8225.2802734375,8225.8603515625,8227.58984375,8231.2001953125,8234.349609375,8234.5703125,8232.6298828125,8233.4697265625,8231.8701171875,8233.7900390625,8236.4404296875,8237.1904296875,8235.3701171875,8235.990234375,8242.669921875,8246.2001953125,8245.2802734375,8245.169921875,8246.0595703125,8243.7900390625,8240.98046875,8238.2802734375,8234.990234375,8232.6904296875,8231.900390625,8228.8095703125,8227.8095703125,8227.4404296875,8226.150390625,8227.240234375,8227.01953125,8226.9599609375,8225.25,8223.3095703125,8223.2900390625,8223.7099609375,8227.0595703125,8228.1201171875,8229.2099609375,8229.849609375,8226.490234375,8228.240234375,8227.7998046875,8226.650390625,8227.2001953125,8229.2001953125,8230.41015625,8231.6201171875,8232.099609375,8231.080078125,8231.0595703125,8230.669921875,8230.6201171875,8229.7998046875,8229.1396484375,8228.669921875,8227.41015625,8227.6298828125,8227.150390625,8227.3798828125,8229.73046875,8231.7900390625,8234.2099609375,8234.76953125,8235.48046875,8235.990234375,8234.76953125,8233.48046875,8234.1298828125,8234.25,8234.919921875,8235.66015625,8236.240234375,8236.3798828125,8235.169921875,8234.83984375,8235.8798828125,8236.8203125,8238.2099609375,8238.830078125,8239.6904296875,8241.169921875,8241.5595703125,8242.08984375,8241.7001953125,8242.8896484375,8242.1201171875,8241.6201171875,8241.73046875,8244.33984375,8245.830078125,8247.41015625,8247.58984375,8248.91015625,8247.8701171875,8248.5400390625,8247.5595703125,8246.8095703125,8247.6298828125,8247.3603515625,8247.009765625,8247.0400390625,8246.009765625,8245.8798828125,8246.8798828125,8247.23046875,8248.5302734375,8248.080078125,8245.3203125,8245.6796875,8246.1796875,8246.0595703125,8246.259765625,8245.7802734375,8244.8203125,8245.33984375,8243.41015625,8241.7802734375,8240.75,8239.080078125,8239.509765625,8240.51953125,8241.419921875,8242.0,8243.8203125,8243.9501953125,8244.009765625,8247.98046875,8250.6796875,8250.8896484375,8251.0498046875,8248.2802734375,8249.2197265625,8247.51953125,8248.5,8246.7099609375,8247.1298828125,8247.0,8248.3095703125,8250.5,8250.1201171875,8250.6298828125,8248.4296875,8247.9599609375,8248.080078125,8247.26953125,8247.9599609375,8249.599609375,8251.2998046875,8250.0400390625,8248.0498046875,8247.9296875,8249.3896484375,8249.41015625,8248.9697265625,8248.5703125,8250.1796875,8250.5595703125,8251.1103515625,8250.5,8250.4296875,8250.3603515625,8250.41015625,8251.3798828125,8250.9404296875,8249.830078125,8249.83984375,8250.23046875,8250.169921875,8250.8701171875,8251.7197265625,8252.6103515625,8254.6201171875,8254.9697265625,8256.33984375,8255.16015625,8256.6796875,8255.6396484375,8253.6201171875,8252.48046875,8251.8798828125,8249.51953125,8250.2099609375,8250.830078125,8252.01953125,8250.9296875,8250.91015625,8249.919921875,8248.75,8247.9296875,8249.16015625,8249.7900390625,8250.1796875,8250.5703125,8251.169921875,8250.509765625,8251.8603515625,8252.7001953125,8254.3896484375,8256.669921875,8258.8603515625,8258.3701171875,8259.1103515625,8259.58984375,8258.8798828125,8257.0498046875,8255.7802734375,8254.490234375,8254.1298828125,8253.490234375,8254.3203125,8256.41015625,8255.919921875,8255.419921875,8253.9404296875,8253.0703125,8253.1103515625,8253.66015625,8253.3095703125,8253.9404296875,8254.6796875,8256.2197265625,8255.98046875,8255.2802734375,8255.51953125,8256.2197265625,8256.330078125,8258.2900390625,8259.509765625,8259.41015625,8260.6298828125,8261.5400390625,8262.48046875,8262.08984375,8262.400390625,8260.650390625,8260.08984375,8260.419921875,8258.7099609375,8259.41015625,8258.2197265625,8258.51953125,8259.3798828125,8259.2197265625,8258.51953125,8258.4404296875,8258.240234375,8258.6201171875,8258.1396484375,8257.7001953125,8256.259765625,8256.009765625,8258.740234375,8259.8603515625,8258.3603515625,8256.4599609375,8255.150390625,8253.91015625,8253.990234375,8253.2900390625,8252.080078125,8252.1796875,8253.3095703125,8254.76953125,8254.3896484375,8255.2099609375,8256.4296875,8256.3203125,8257.2197265625,8257.6904296875,8257.33984375,8255.23046875,8253.7998046875,8255.0595703125,8254.73046875,8254.8203125,8255.669921875,8256.23046875,8256.51953125,8257.9296875,8259.2998046875,8260.5400390625,8261.73046875,8262.580078125,8260.900390625,8261.6396484375,8260.3798828125,8260.6201171875,8260.7197265625,8261.400390625,8261.0703125,8258.7998046875,8258.16015625,8258.25,8257.2001953125,8257.6396484375,8257.6396484375,8255.740234375,8254.0,8252.0498046875,8252.150390625,8255.1103515625,8255.2001953125,8252.23046875,8250.75,8251.740234375,8251.0,8251.650390625,8250.349609375,8250.2001953125,8251.16015625,8252.5400390625,8250.76953125,8251.0,8256.1103515625,8259.76953125,8261.490234375,8263.919921875,8265.7900390625,8268.0400390625,8270.740234375,8269.990234375,8272.01953125,8273.080078125,8272.51953125,8273.6396484375,8272.5302734375,8270.259765625,8270.2099609375,8270.3896484375,8271.0,8271.75,8274.33984375,8272.4599609375,8274.419921875,8275.759765625,8274.1396484375,8274.1298828125,8271.8896484375,8267.650390625,8270.1396484375,8272.259765625,8271.4599609375,8273.2197265625,8252.26953125,8249.009765625,8255.6103515625,8255.2802734375,8254.1103515625,8254.3701171875,8255.8798828125,8258.01953125,8261.7197265625,8264.66015625,8268.2001953125,8267.0498046875,8266.01953125,8264.1103515625,8265.2900390625,8267.3701171875,8269.509765625,8264.169921875,8261.0,8260.599609375,8262.2099609375,8260.740234375,8264.009765625,8263.509765625,8263.259765625,8259.7998046875,8259.1796875,8258.490234375,8260.25,8264.1201171875,8264.9501953125,8263.7197265625,8262.4501953125,8263.240234375,8264.26953125,8264.3603515625,8266.4296875,8266.400390625,8266.4599609375,8267.75,8266.4501953125,8266.490234375,8266.419921875,8268.3603515625,8272.3095703125,8272.9296875,8272.240234375,8272.5400390625,8272.849609375,8271.9599609375,8272.2099609375,8272.51953125,8274.099609375,8274.400390625,8275.8896484375,8276.6904296875,8276.3701171875,8276.349609375,8275.240234375,8277.009765625,8278.8798828125,8278.849609375,8279.3896484375,8279.91015625,8280.08984375,8279.08984375,8279.740234375,8279.48046875,8278.330078125,8278.6796875,8277.4599609375,8277.4697265625,8275.900390625,8274.8896484375,8273.009765625,8270.080078125,8270.900390625,8270.4599609375,8270.5595703125,8272.5,8270.5302734375,8270.150390625,8269.8798828125,8269.830078125,8269.9599609375,8270.099609375,8267.849609375,8267.509765625,8266.419921875],\"type\":\"scatter\"},{\"mode\":\"markers\",\"name\":\"Predicted LR Price\",\"x\":[\"2024-09-04T16:29:00+01:00\"],\"y\":[8266.25232748445],\"type\":\"scatter\"},{\"mode\":\"markers\",\"name\":\"Predicted LSTM Price\",\"x\":[\"2024-09-04T16:29:00+01:00\"],\"y\":[8268.8720703125],\"type\":\"scatter\"}],                        {\"template\":{\"data\":{\"histogram2dcontour\":[{\"type\":\"histogram2dcontour\",\"colorbar\":{\"outlinewidth\":0,\"ticks\":\"\"},\"colorscale\":[[0.0,\"#0d0887\"],[0.1111111111111111,\"#46039f\"],[0.2222222222222222,\"#7201a8\"],[0.3333333333333333,\"#9c179e\"],[0.4444444444444444,\"#bd3786\"],[0.5555555555555556,\"#d8576b\"],[0.6666666666666666,\"#ed7953\"],[0.7777777777777778,\"#fb9f3a\"],[0.8888888888888888,\"#fdca26\"],[1.0,\"#f0f921\"]]}],\"choropleth\":[{\"type\":\"choropleth\",\"colorbar\":{\"outlinewidth\":0,\"ticks\":\"\"}}],\"histogram2d\":[{\"type\":\"histogram2d\",\"colorbar\":{\"outlinewidth\":0,\"ticks\":\"\"},\"colorscale\":[[0.0,\"#0d0887\"],[0.1111111111111111,\"#46039f\"],[0.2222222222222222,\"#7201a8\"],[0.3333333333333333,\"#9c179e\"],[0.4444444444444444,\"#bd3786\"],[0.5555555555555556,\"#d8576b\"],[0.6666666666666666,\"#ed7953\"],[0.7777777777777778,\"#fb9f3a\"],[0.8888888888888888,\"#fdca26\"],[1.0,\"#f0f921\"]]}],\"heatmap\":[{\"type\":\"heatmap\",\"colorbar\":{\"outlinewidth\":0,\"ticks\":\"\"},\"colorscale\":[[0.0,\"#0d0887\"],[0.1111111111111111,\"#46039f\"],[0.2222222222222222,\"#7201a8\"],[0.3333333333333333,\"#9c179e\"],[0.4444444444444444,\"#bd3786\"],[0.5555555555555556,\"#d8576b\"],[0.6666666666666666,\"#ed7953\"],[0.7777777777777778,\"#fb9f3a\"],[0.8888888888888888,\"#fdca26\"],[1.0,\"#f0f921\"]]}],\"heatmapgl\":[{\"type\":\"heatmapgl\",\"colorbar\":{\"outlinewidth\":0,\"ticks\":\"\"},\"colorscale\":[[0.0,\"#0d0887\"],[0.1111111111111111,\"#46039f\"],[0.2222222222222222,\"#7201a8\"],[0.3333333333333333,\"#9c179e\"],[0.4444444444444444,\"#bd3786\"],[0.5555555555555556,\"#d8576b\"],[0.6666666666666666,\"#ed7953\"],[0.7777777777777778,\"#fb9f3a\"],[0.8888888888888888,\"#fdca26\"],[1.0,\"#f0f921\"]]}],\"contourcarpet\":[{\"type\":\"contourcarpet\",\"colorbar\":{\"outlinewidth\":0,\"ticks\":\"\"}}],\"contour\":[{\"type\":\"contour\",\"colorbar\":{\"outlinewidth\":0,\"ticks\":\"\"},\"colorscale\":[[0.0,\"#0d0887\"],[0.1111111111111111,\"#46039f\"],[0.2222222222222222,\"#7201a8\"],[0.3333333333333333,\"#9c179e\"],[0.4444444444444444,\"#bd3786\"],[0.5555555555555556,\"#d8576b\"],[0.6666666666666666,\"#ed7953\"],[0.7777777777777778,\"#fb9f3a\"],[0.8888888888888888,\"#fdca26\"],[1.0,\"#f0f921\"]]}],\"surface\":[{\"type\":\"surface\",\"colorbar\":{\"outlinewidth\":0,\"ticks\":\"\"},\"colorscale\":[[0.0,\"#0d0887\"],[0.1111111111111111,\"#46039f\"],[0.2222222222222222,\"#7201a8\"],[0.3333333333333333,\"#9c179e\"],[0.4444444444444444,\"#bd3786\"],[0.5555555555555556,\"#d8576b\"],[0.6666666666666666,\"#ed7953\"],[0.7777777777777778,\"#fb9f3a\"],[0.8888888888888888,\"#fdca26\"],[1.0,\"#f0f921\"]]}],\"mesh3d\":[{\"type\":\"mesh3d\",\"colorbar\":{\"outlinewidth\":0,\"ticks\":\"\"}}],\"scatter\":[{\"fillpattern\":{\"fillmode\":\"overlay\",\"size\":10,\"solidity\":0.2},\"type\":\"scatter\"}],\"parcoords\":[{\"type\":\"parcoords\",\"line\":{\"colorbar\":{\"outlinewidth\":0,\"ticks\":\"\"}}}],\"scatterpolargl\":[{\"type\":\"scatterpolargl\",\"marker\":{\"colorbar\":{\"outlinewidth\":0,\"ticks\":\"\"}}}],\"bar\":[{\"error_x\":{\"color\":\"#2a3f5f\"},\"error_y\":{\"color\":\"#2a3f5f\"},\"marker\":{\"line\":{\"color\":\"#E5ECF6\",\"width\":0.5},\"pattern\":{\"fillmode\":\"overlay\",\"size\":10,\"solidity\":0.2}},\"type\":\"bar\"}],\"scattergeo\":[{\"type\":\"scattergeo\",\"marker\":{\"colorbar\":{\"outlinewidth\":0,\"ticks\":\"\"}}}],\"scatterpolar\":[{\"type\":\"scatterpolar\",\"marker\":{\"colorbar\":{\"outlinewidth\":0,\"ticks\":\"\"}}}],\"histogram\":[{\"marker\":{\"pattern\":{\"fillmode\":\"overlay\",\"size\":10,\"solidity\":0.2}},\"type\":\"histogram\"}],\"scattergl\":[{\"type\":\"scattergl\",\"marker\":{\"colorbar\":{\"outlinewidth\":0,\"ticks\":\"\"}}}],\"scatter3d\":[{\"type\":\"scatter3d\",\"line\":{\"colorbar\":{\"outlinewidth\":0,\"ticks\":\"\"}},\"marker\":{\"colorbar\":{\"outlinewidth\":0,\"ticks\":\"\"}}}],\"scattermapbox\":[{\"type\":\"scattermapbox\",\"marker\":{\"colorbar\":{\"outlinewidth\":0,\"ticks\":\"\"}}}],\"scatterternary\":[{\"type\":\"scatterternary\",\"marker\":{\"colorbar\":{\"outlinewidth\":0,\"ticks\":\"\"}}}],\"scattercarpet\":[{\"type\":\"scattercarpet\",\"marker\":{\"colorbar\":{\"outlinewidth\":0,\"ticks\":\"\"}}}],\"carpet\":[{\"aaxis\":{\"endlinecolor\":\"#2a3f5f\",\"gridcolor\":\"white\",\"linecolor\":\"white\",\"minorgridcolor\":\"white\",\"startlinecolor\":\"#2a3f5f\"},\"baxis\":{\"endlinecolor\":\"#2a3f5f\",\"gridcolor\":\"white\",\"linecolor\":\"white\",\"minorgridcolor\":\"white\",\"startlinecolor\":\"#2a3f5f\"},\"type\":\"carpet\"}],\"table\":[{\"cells\":{\"fill\":{\"color\":\"#EBF0F8\"},\"line\":{\"color\":\"white\"}},\"header\":{\"fill\":{\"color\":\"#C8D4E3\"},\"line\":{\"color\":\"white\"}},\"type\":\"table\"}],\"barpolar\":[{\"marker\":{\"line\":{\"color\":\"#E5ECF6\",\"width\":0.5},\"pattern\":{\"fillmode\":\"overlay\",\"size\":10,\"solidity\":0.2}},\"type\":\"barpolar\"}],\"pie\":[{\"automargin\":true,\"type\":\"pie\"}]},\"layout\":{\"autotypenumbers\":\"strict\",\"colorway\":[\"#636efa\",\"#EF553B\",\"#00cc96\",\"#ab63fa\",\"#FFA15A\",\"#19d3f3\",\"#FF6692\",\"#B6E880\",\"#FF97FF\",\"#FECB52\"],\"font\":{\"color\":\"#2a3f5f\"},\"hovermode\":\"closest\",\"hoverlabel\":{\"align\":\"left\"},\"paper_bgcolor\":\"white\",\"plot_bgcolor\":\"#E5ECF6\",\"polar\":{\"bgcolor\":\"#E5ECF6\",\"angularaxis\":{\"gridcolor\":\"white\",\"linecolor\":\"white\",\"ticks\":\"\"},\"radialaxis\":{\"gridcolor\":\"white\",\"linecolor\":\"white\",\"ticks\":\"\"}},\"ternary\":{\"bgcolor\":\"#E5ECF6\",\"aaxis\":{\"gridcolor\":\"white\",\"linecolor\":\"white\",\"ticks\":\"\"},\"baxis\":{\"gridcolor\":\"white\",\"linecolor\":\"white\",\"ticks\":\"\"},\"caxis\":{\"gridcolor\":\"white\",\"linecolor\":\"white\",\"ticks\":\"\"}},\"coloraxis\":{\"colorbar\":{\"outlinewidth\":0,\"ticks\":\"\"}},\"colorscale\":{\"sequential\":[[0.0,\"#0d0887\"],[0.1111111111111111,\"#46039f\"],[0.2222222222222222,\"#7201a8\"],[0.3333333333333333,\"#9c179e\"],[0.4444444444444444,\"#bd3786\"],[0.5555555555555556,\"#d8576b\"],[0.6666666666666666,\"#ed7953\"],[0.7777777777777778,\"#fb9f3a\"],[0.8888888888888888,\"#fdca26\"],[1.0,\"#f0f921\"]],\"sequentialminus\":[[0.0,\"#0d0887\"],[0.1111111111111111,\"#46039f\"],[0.2222222222222222,\"#7201a8\"],[0.3333333333333333,\"#9c179e\"],[0.4444444444444444,\"#bd3786\"],[0.5555555555555556,\"#d8576b\"],[0.6666666666666666,\"#ed7953\"],[0.7777777777777778,\"#fb9f3a\"],[0.8888888888888888,\"#fdca26\"],[1.0,\"#f0f921\"]],\"diverging\":[[0,\"#8e0152\"],[0.1,\"#c51b7d\"],[0.2,\"#de77ae\"],[0.3,\"#f1b6da\"],[0.4,\"#fde0ef\"],[0.5,\"#f7f7f7\"],[0.6,\"#e6f5d0\"],[0.7,\"#b8e186\"],[0.8,\"#7fbc41\"],[0.9,\"#4d9221\"],[1,\"#276419\"]]},\"xaxis\":{\"gridcolor\":\"white\",\"linecolor\":\"white\",\"ticks\":\"\",\"title\":{\"standoff\":15},\"zerolinecolor\":\"white\",\"automargin\":true,\"zerolinewidth\":2},\"yaxis\":{\"gridcolor\":\"white\",\"linecolor\":\"white\",\"ticks\":\"\",\"title\":{\"standoff\":15},\"zerolinecolor\":\"white\",\"automargin\":true,\"zerolinewidth\":2},\"scene\":{\"xaxis\":{\"backgroundcolor\":\"#E5ECF6\",\"gridcolor\":\"white\",\"linecolor\":\"white\",\"showbackground\":true,\"ticks\":\"\",\"zerolinecolor\":\"white\",\"gridwidth\":2},\"yaxis\":{\"backgroundcolor\":\"#E5ECF6\",\"gridcolor\":\"white\",\"linecolor\":\"white\",\"showbackground\":true,\"ticks\":\"\",\"zerolinecolor\":\"white\",\"gridwidth\":2},\"zaxis\":{\"backgroundcolor\":\"#E5ECF6\",\"gridcolor\":\"white\",\"linecolor\":\"white\",\"showbackground\":true,\"ticks\":\"\",\"zerolinecolor\":\"white\",\"gridwidth\":2}},\"shapedefaults\":{\"line\":{\"color\":\"#2a3f5f\"}},\"annotationdefaults\":{\"arrowcolor\":\"#2a3f5f\",\"arrowhead\":0,\"arrowwidth\":1},\"geo\":{\"bgcolor\":\"white\",\"landcolor\":\"#E5ECF6\",\"subunitcolor\":\"white\",\"showland\":true,\"showlakes\":true,\"lakecolor\":\"white\"},\"title\":{\"x\":0.05},\"mapbox\":{\"style\":\"light\"}}},\"title\":{\"text\":\"FTSE100 Index - Line Chart with Predicted Price\"},\"xaxis\":{\"title\":{\"text\":\"Time\"}},\"yaxis\":{\"title\":{\"text\":\"Price\"}}},                        {\"responsive\": true}                    ).then(function(){\n",
              "                            \n",
              "var gd = document.getElementById('74032e01-c80e-4679-873f-ecbc314c36bc');\n",
              "var x = new MutationObserver(function (mutations, observer) {{\n",
              "        var display = window.getComputedStyle(gd).display;\n",
              "        if (!display || display === 'none') {{\n",
              "            console.log([gd, 'removed!']);\n",
              "            Plotly.purge(gd);\n",
              "            observer.disconnect();\n",
              "        }}\n",
              "}});\n",
              "\n",
              "// Listen for the removal of the full notebook cells\n",
              "var notebookContainer = gd.closest('#notebook-container');\n",
              "if (notebookContainer) {{\n",
              "    x.observe(notebookContainer, {childList: true});\n",
              "}}\n",
              "\n",
              "// Listen for the clearing of the current output cell\n",
              "var outputEl = gd.closest('.output');\n",
              "if (outputEl) {{\n",
              "    x.observe(outputEl, {childList: true});\n",
              "}}\n",
              "\n",
              "                        })                };                            </script>        </div>\n",
              "</body>\n",
              "</html>"
            ]
          },
          "metadata": {}
        }
      ]
    },
    {
      "cell_type": "markdown",
      "source": [
        "*Candlestick Chart*"
      ],
      "metadata": {
        "id": "1MY3FMtPPvNo"
      }
    },
    {
      "cell_type": "code",
      "source": [
        "candle_fig = go.Figure()\n",
        "candle_fig.add_trace(go.Candlestick(x=data.index, open=data['Open'], high=data['High'], low=data['Low'], close=data['Close'], name='FTSE100 Candlestick'))\n",
        "candle_fig.update_layout(title='FTSE100 Index - Candlestick Chart', xaxis_title='Time', yaxis_title='Price')\n",
        "candle_fig.show()"
      ],
      "metadata": {
        "colab": {
          "base_uri": "https://localhost:8080/",
          "height": 542
        },
        "id": "rGvkbur1PNZ_",
        "outputId": "17b7c7bc-a46f-4e87-cc3f-870a5bfec8a2"
      },
      "execution_count": 20,
      "outputs": [
        {
          "output_type": "display_data",
          "data": {
            "text/html": [
              "<html>\n",
              "<head><meta charset=\"utf-8\" /></head>\n",
              "<body>\n",
              "    <div>            <script src=\"https://cdnjs.cloudflare.com/ajax/libs/mathjax/2.7.5/MathJax.js?config=TeX-AMS-MML_SVG\"></script><script type=\"text/javascript\">if (window.MathJax && window.MathJax.Hub && window.MathJax.Hub.Config) {window.MathJax.Hub.Config({SVG: {font: \"STIX-Web\"}});}</script>                <script type=\"text/javascript\">window.PlotlyConfig = {MathJaxConfig: 'local'};</script>\n",
              "        <script charset=\"utf-8\" src=\"https://cdn.plot.ly/plotly-2.24.1.min.js\"></script>                <div id=\"3c877537-940c-4753-8b02-136d85d24bd6\" class=\"plotly-graph-div\" style=\"height:525px; width:100%;\"></div>            <script type=\"text/javascript\">                                    window.PLOTLYENV=window.PLOTLYENV || {};                                    if (document.getElementById(\"3c877537-940c-4753-8b02-136d85d24bd6\")) {                    Plotly.newPlot(                        \"3c877537-940c-4753-8b02-136d85d24bd6\",                        [{\"close\":[8254.1396484375,8251.759765625,8253.1201171875,8247.900390625,8247.849609375,8248.5400390625,8246.08984375,8241.900390625,8237.919921875,8236.490234375,8235.650390625,8235.16015625,8234.8798828125,8235.2802734375,8234.580078125,8235.349609375,8232.080078125,8233.8896484375,8235.349609375,8237.48046875,8236.8896484375,8237.3701171875,8238.2998046875,8239.48046875,8240.5,8240.6396484375,8237.9501953125,8237.1201171875,8237.8896484375,8240.6201171875,8241.7001953125,8240.490234375,8238.099609375,8238.7802734375,8237.509765625,8238.66015625,8237.009765625,8234.3896484375,8235.4697265625,8235.2998046875,8233.7197265625,8235.9697265625,8236.5595703125,8237.5498046875,8237.1904296875,8237.75,8233.9404296875,8234.16015625,8231.6201171875,8229.8701171875,8226.1904296875,8224.1201171875,8226.5400390625,8227.01953125,8227.2099609375,8226.8203125,8225.9404296875,8225.2802734375,8225.8603515625,8227.58984375,8231.2001953125,8234.349609375,8234.5703125,8232.6298828125,8233.4697265625,8231.8701171875,8233.7900390625,8236.4404296875,8237.1904296875,8235.3701171875,8235.990234375,8242.669921875,8246.2001953125,8245.2802734375,8245.169921875,8246.0595703125,8243.7900390625,8240.98046875,8238.2802734375,8234.990234375,8232.6904296875,8231.900390625,8228.8095703125,8227.8095703125,8227.4404296875,8226.150390625,8227.240234375,8227.01953125,8226.9599609375,8225.25,8223.3095703125,8223.2900390625,8223.7099609375,8227.0595703125,8228.1201171875,8229.2099609375,8229.849609375,8226.490234375,8228.240234375,8227.7998046875,8226.650390625,8227.2001953125,8229.2001953125,8230.41015625,8231.6201171875,8232.099609375,8231.080078125,8231.0595703125,8230.669921875,8230.6201171875,8229.7998046875,8229.1396484375,8228.669921875,8227.41015625,8227.6298828125,8227.150390625,8227.3798828125,8229.73046875,8231.7900390625,8234.2099609375,8234.76953125,8235.48046875,8235.990234375,8234.76953125,8233.48046875,8234.1298828125,8234.25,8234.919921875,8235.66015625,8236.240234375,8236.3798828125,8235.169921875,8234.83984375,8235.8798828125,8236.8203125,8238.2099609375,8238.830078125,8239.6904296875,8241.169921875,8241.5595703125,8242.08984375,8241.7001953125,8242.8896484375,8242.1201171875,8241.6201171875,8241.73046875,8244.33984375,8245.830078125,8247.41015625,8247.58984375,8248.91015625,8247.8701171875,8248.5400390625,8247.5595703125,8246.8095703125,8247.6298828125,8247.3603515625,8247.009765625,8247.0400390625,8246.009765625,8245.8798828125,8246.8798828125,8247.23046875,8248.5302734375,8248.080078125,8245.3203125,8245.6796875,8246.1796875,8246.0595703125,8246.259765625,8245.7802734375,8244.8203125,8245.33984375,8243.41015625,8241.7802734375,8240.75,8239.080078125,8239.509765625,8240.51953125,8241.419921875,8242.0,8243.8203125,8243.9501953125,8244.009765625,8247.98046875,8250.6796875,8250.8896484375,8251.0498046875,8248.2802734375,8249.2197265625,8247.51953125,8248.5,8246.7099609375,8247.1298828125,8247.0,8248.3095703125,8250.5,8250.1201171875,8250.6298828125,8248.4296875,8247.9599609375,8248.080078125,8247.26953125,8247.9599609375,8249.599609375,8251.2998046875,8250.0400390625,8248.0498046875,8247.9296875,8249.3896484375,8249.41015625,8248.9697265625,8248.5703125,8250.1796875,8250.5595703125,8251.1103515625,8250.5,8250.4296875,8250.3603515625,8250.41015625,8251.3798828125,8250.9404296875,8249.830078125,8249.83984375,8250.23046875,8250.169921875,8250.8701171875,8251.7197265625,8252.6103515625,8254.6201171875,8254.9697265625,8256.33984375,8255.16015625,8256.6796875,8255.6396484375,8253.6201171875,8252.48046875,8251.8798828125,8249.51953125,8250.2099609375,8250.830078125,8252.01953125,8250.9296875,8250.91015625,8249.919921875,8248.75,8247.9296875,8249.16015625,8249.7900390625,8250.1796875,8250.5703125,8251.169921875,8250.509765625,8251.8603515625,8252.7001953125,8254.3896484375,8256.669921875,8258.8603515625,8258.3701171875,8259.1103515625,8259.58984375,8258.8798828125,8257.0498046875,8255.7802734375,8254.490234375,8254.1298828125,8253.490234375,8254.3203125,8256.41015625,8255.919921875,8255.419921875,8253.9404296875,8253.0703125,8253.1103515625,8253.66015625,8253.3095703125,8253.9404296875,8254.6796875,8256.2197265625,8255.98046875,8255.2802734375,8255.51953125,8256.2197265625,8256.330078125,8258.2900390625,8259.509765625,8259.41015625,8260.6298828125,8261.5400390625,8262.48046875,8262.08984375,8262.400390625,8260.650390625,8260.08984375,8260.419921875,8258.7099609375,8259.41015625,8258.2197265625,8258.51953125,8259.3798828125,8259.2197265625,8258.51953125,8258.4404296875,8258.240234375,8258.6201171875,8258.1396484375,8257.7001953125,8256.259765625,8256.009765625,8258.740234375,8259.8603515625,8258.3603515625,8256.4599609375,8255.150390625,8253.91015625,8253.990234375,8253.2900390625,8252.080078125,8252.1796875,8253.3095703125,8254.76953125,8254.3896484375,8255.2099609375,8256.4296875,8256.3203125,8257.2197265625,8257.6904296875,8257.33984375,8255.23046875,8253.7998046875,8255.0595703125,8254.73046875,8254.8203125,8255.669921875,8256.23046875,8256.51953125,8257.9296875,8259.2998046875,8260.5400390625,8261.73046875,8262.580078125,8260.900390625,8261.6396484375,8260.3798828125,8260.6201171875,8260.7197265625,8261.400390625,8261.0703125,8258.7998046875,8258.16015625,8258.25,8257.2001953125,8257.6396484375,8257.6396484375,8255.740234375,8254.0,8252.0498046875,8252.150390625,8255.1103515625,8255.2001953125,8252.23046875,8250.75,8251.740234375,8251.0,8251.650390625,8250.349609375,8250.2001953125,8251.16015625,8252.5400390625,8250.76953125,8251.0,8256.1103515625,8259.76953125,8261.490234375,8263.919921875,8265.7900390625,8268.0400390625,8270.740234375,8269.990234375,8272.01953125,8273.080078125,8272.51953125,8273.6396484375,8272.5302734375,8270.259765625,8270.2099609375,8270.3896484375,8271.0,8271.75,8274.33984375,8272.4599609375,8274.419921875,8275.759765625,8274.1396484375,8274.1298828125,8271.8896484375,8267.650390625,8270.1396484375,8272.259765625,8271.4599609375,8273.2197265625,8252.26953125,8249.009765625,8255.6103515625,8255.2802734375,8254.1103515625,8254.3701171875,8255.8798828125,8258.01953125,8261.7197265625,8264.66015625,8268.2001953125,8267.0498046875,8266.01953125,8264.1103515625,8265.2900390625,8267.3701171875,8269.509765625,8264.169921875,8261.0,8260.599609375,8262.2099609375,8260.740234375,8264.009765625,8263.509765625,8263.259765625,8259.7998046875,8259.1796875,8258.490234375,8260.25,8264.1201171875,8264.9501953125,8263.7197265625,8262.4501953125,8263.240234375,8264.26953125,8264.3603515625,8266.4296875,8266.400390625,8266.4599609375,8267.75,8266.4501953125,8266.490234375,8266.419921875,8268.3603515625,8272.3095703125,8272.9296875,8272.240234375,8272.5400390625,8272.849609375,8271.9599609375,8272.2099609375,8272.51953125,8274.099609375,8274.400390625,8275.8896484375,8276.6904296875,8276.3701171875,8276.349609375,8275.240234375,8277.009765625,8278.8798828125,8278.849609375,8279.3896484375,8279.91015625,8280.08984375,8279.08984375,8279.740234375,8279.48046875,8278.330078125,8278.6796875,8277.4599609375,8277.4697265625,8275.900390625,8274.8896484375,8273.009765625,8270.080078125,8270.900390625,8270.4599609375,8270.5595703125,8272.5,8270.5302734375,8270.150390625,8269.8798828125,8269.830078125,8269.9599609375,8270.099609375,8267.849609375,8267.509765625,8266.419921875],\"high\":[8255.0400390625,8254.990234375,8254.8798828125,8253.08984375,8248.6796875,8248.5400390625,8249.0400390625,8245.8896484375,8241.900390625,8237.8701171875,8236.4697265625,8235.7099609375,8235.73046875,8236.6201171875,8235.5302734375,8235.51953125,8235.4599609375,8234.1298828125,8235.51953125,8237.83984375,8237.5595703125,8237.3701171875,8238.349609375,8239.7001953125,8240.9697265625,8240.6396484375,8240.7099609375,8237.9697265625,8237.9296875,8240.6201171875,8242.490234375,8241.83984375,8240.599609375,8238.7802734375,8239.259765625,8238.8798828125,8238.5703125,8237.08984375,8235.599609375,8235.8701171875,8235.3798828125,8235.9697265625,8237.2900390625,8237.6904296875,8238.009765625,8238.3798828125,8237.7802734375,8234.4697265625,8234.419921875,8231.8203125,8229.58984375,8226.48046875,8226.5400390625,8227.2099609375,8227.7099609375,8227.5302734375,8226.7998046875,8225.7802734375,8226.099609375,8227.7802734375,8231.41015625,8234.349609375,8234.8203125,8234.48046875,8233.669921875,8233.830078125,8233.7900390625,8236.5703125,8237.33984375,8237.23046875,8236.01953125,8242.669921875,8246.2001953125,8247.23046875,8245.240234375,8246.4404296875,8245.6103515625,8243.6796875,8241.2099609375,8238.2802734375,8234.919921875,8232.98046875,8231.9599609375,8229.26953125,8227.73046875,8227.3701171875,8227.7900390625,8228.0595703125,8227.1298828125,8227.01953125,8225.349609375,8223.7099609375,8223.7197265625,8227.0595703125,8228.150390625,8229.240234375,8230.240234375,8229.8798828125,8228.240234375,8228.2001953125,8227.8095703125,8227.26953125,8229.2001953125,8230.4697265625,8231.6201171875,8233.1904296875,8232.490234375,8231.349609375,8231.349609375,8231.099609375,8231.4296875,8230.0595703125,8229.4404296875,8228.66015625,8228.23046875,8227.66015625,8227.75,8229.759765625,8231.7900390625,8234.23046875,8234.76953125,8235.48046875,8236.3095703125,8236.83984375,8234.7197265625,8234.5595703125,8234.4697265625,8234.9296875,8235.7197265625,8236.9501953125,8236.7802734375,8236.4404296875,8235.1201171875,8235.8798828125,8236.83984375,8238.2099609375,8239.2001953125,8239.8095703125,8241.33984375,8241.83984375,8242.08984375,8242.58984375,8242.8896484375,8243.0703125,8242.25,8242.08984375,8244.4697265625,8245.830078125,8247.41015625,8247.58984375,8248.91015625,8248.8798828125,8248.650390625,8248.490234375,8247.5498046875,8247.6298828125,8248.41015625,8247.6904296875,8247.4404296875,8247.169921875,8247.1298828125,8247.48046875,8247.3095703125,8248.830078125,8248.3603515625,8248.0703125,8245.91015625,8246.2998046875,8246.41015625,8246.58984375,8246.26953125,8245.9697265625,8245.6396484375,8245.330078125,8243.419921875,8242.169921875,8240.73046875,8239.759765625,8240.650390625,8241.6396484375,8242.0,8243.8203125,8244.3896484375,8244.33984375,8248.9404296875,8250.740234375,8252.0302734375,8251.1103515625,8251.2900390625,8249.2900390625,8249.419921875,8248.740234375,8248.5703125,8247.509765625,8247.25,8248.3095703125,8250.5703125,8250.83984375,8250.8798828125,8250.759765625,8248.58984375,8248.849609375,8248.0703125,8247.9599609375,8249.599609375,8251.3203125,8251.3603515625,8250.01953125,8248.33984375,8249.3896484375,8249.5703125,8249.25,8248.849609375,8250.1904296875,8250.9501953125,8251.1103515625,8251.169921875,8251.3896484375,8250.580078125,8250.41015625,8251.3798828125,8251.5498046875,8251.2001953125,8250.080078125,8250.23046875,8250.849609375,8251.169921875,8251.7197265625,8252.98046875,8254.7802734375,8254.98046875,8256.3701171875,8256.4501953125,8256.7001953125,8256.7099609375,8255.5595703125,8253.5400390625,8252.3798828125,8251.8896484375,8250.2099609375,8250.83984375,8252.3701171875,8252.01953125,8251.2802734375,8250.8896484375,8250.66015625,8248.8203125,8249.490234375,8249.7998046875,8250.3896484375,8250.5703125,8251.76953125,8251.5400390625,8251.8603515625,8252.7001953125,8254.6796875,8256.669921875,8258.8798828125,8259.580078125,8259.5595703125,8259.599609375,8259.6904296875,8258.8203125,8257.25,8255.76953125,8254.6298828125,8254.48046875,8254.490234375,8256.41015625,8256.419921875,8256.2802734375,8255.5703125,8253.8798828125,8253.400390625,8253.669921875,8253.669921875,8254.0595703125,8254.849609375,8256.4501953125,8257.1396484375,8256.08984375,8255.599609375,8256.5498046875,8256.419921875,8258.2900390625,8259.51953125,8259.8701171875,8260.6796875,8261.7001953125,8262.509765625,8262.4599609375,8262.5400390625,8262.3896484375,8260.91015625,8261.1298828125,8260.3896484375,8259.7197265625,8259.3896484375,8259.0302734375,8259.3798828125,8259.7099609375,8259.330078125,8258.5,8258.75,8258.73046875,8258.66015625,8258.76953125,8257.599609375,8256.3603515625,8258.76953125,8259.8603515625,8260.4404296875,8258.259765625,8256.8896484375,8255.650390625,8254.330078125,8254.5400390625,8253.25,8252.3798828125,8253.3095703125,8254.8798828125,8254.8798828125,8255.2099609375,8256.4296875,8257.5302734375,8257.51953125,8257.7099609375,8257.91015625,8257.240234375,8255.75,8255.1396484375,8255.490234375,8255.3701171875,8255.9501953125,8256.240234375,8256.58984375,8257.9296875,8259.3798828125,8260.5703125,8261.73046875,8262.650390625,8262.51953125,8262.0400390625,8261.759765625,8260.8203125,8261.169921875,8261.400390625,8261.6396484375,8260.9501953125,8259.16015625,8258.25,8258.5400390625,8258.0302734375,8258.259765625,8257.919921875,8255.4404296875,8254.0703125,8252.33984375,8255.240234375,8255.3603515625,8255.1796875,8252.2197265625,8251.740234375,8251.9599609375,8251.7998046875,8251.990234375,8250.580078125,8251.169921875,8252.6396484375,8253.25,8251.3095703125,8257.7099609375,8259.76953125,8262.91015625,8264.3896484375,8265.7900390625,8268.490234375,8271.669921875,8272.01953125,8272.7998046875,8273.080078125,8274.23046875,8274.25,8274.080078125,8271.66015625,8270.900390625,8272.01953125,8272.2900390625,8271.830078125,8274.599609375,8274.3701171875,8274.76953125,8276.2802734375,8275.669921875,8274.849609375,8274.73046875,8271.740234375,8270.66015625,8272.48046875,8272.349609375,8273.7001953125,8273.330078125,8253.0302734375,8255.6396484375,8255.6396484375,8255.4599609375,8254.650390625,8255.919921875,8258.01953125,8261.740234375,8264.66015625,8268.830078125,8268.23046875,8268.0595703125,8265.6796875,8265.3798828125,8267.3701171875,8269.76953125,8269.3896484375,8264.9599609375,8262.1904296875,8262.5,8262.150390625,8264.009765625,8265.419921875,8263.5498046875,8263.580078125,8259.76953125,8258.98046875,8260.25,8264.1201171875,8265.6396484375,8265.26953125,8264.3203125,8263.98046875,8264.26953125,8264.580078125,8266.580078125,8267.2099609375,8266.66015625,8268.0703125,8268.1796875,8267.7802734375,8267.4697265625,8268.3603515625,8272.33984375,8273.3701171875,8273.5498046875,8272.5400390625,8273.330078125,8272.83984375,8273.0302734375,8273.009765625,8274.6396484375,8274.400390625,8275.8896484375,8276.900390625,8276.7900390625,8276.5498046875,8275.2998046875,8277.009765625,8279.3603515625,8279.23046875,8279.5703125,8280.6904296875,8280.08984375,8280.98046875,8279.919921875,8279.91015625,8279.5498046875,8279.5703125,8278.669921875,8277.6796875,8277.48046875,8275.400390625,8274.9296875,8273.009765625,8271.0498046875,8271.509765625,8270.6298828125,8272.51953125,8272.7900390625,8270.5498046875,8271.0,8270.2001953125,8270.080078125,8270.099609375,8270.259765625,8268.0400390625,8267.3701171875],\"low\":[8251.73046875,8251.740234375,8251.650390625,8247.900390625,8247.41015625,8246.650390625,8246.08984375,8241.900390625,8237.330078125,8236.490234375,8235.6396484375,8234.3701171875,8233.0302734375,8234.740234375,8234.2900390625,8234.1103515625,8232.080078125,8230.3701171875,8233.6396484375,8235.259765625,8236.3203125,8235.1201171875,8237.41015625,8238.08984375,8236.8095703125,8239.6904296875,8237.7099609375,8236.400390625,8237.0703125,8237.66015625,8241.1201171875,8240.4404296875,8238.099609375,8238.0400390625,8237.4404296875,8237.2900390625,8237.009765625,8234.3896484375,8233.7197265625,8235.240234375,8233.7197265625,8233.759765625,8235.8798828125,8236.330078125,8236.8701171875,8236.8896484375,8233.9404296875,8233.5595703125,8231.6201171875,8229.490234375,8226.08984375,8224.1201171875,8223.98046875,8226.5595703125,8226.8798828125,8226.3095703125,8225.3603515625,8224.900390625,8225.26953125,8225.7197265625,8227.6298828125,8231.33984375,8234.3701171875,8232.4697265625,8232.5498046875,8231.419921875,8231.830078125,8233.8095703125,8235.5498046875,8235.3603515625,8235.2197265625,8235.4404296875,8242.8701171875,8245.2802734375,8244.1904296875,8245.2998046875,8243.7900390625,8240.98046875,8238.240234375,8234.990234375,8232.5703125,8231.740234375,8228.8095703125,8227.8095703125,8227.1796875,8226.080078125,8225.8896484375,8227.01953125,8226.6796875,8225.080078125,8223.3095703125,8223.0,8222.51953125,8223.7197265625,8226.740234375,8228.0595703125,8228.7001953125,8226.3798828125,8226.509765625,8227.76953125,8226.3798828125,8226.3603515625,8227.0703125,8229.0703125,8230.419921875,8231.4599609375,8231.0498046875,8230.5498046875,8230.58984375,8230.400390625,8229.7998046875,8229.0400390625,8228.4501953125,8226.900390625,8227.5,8227.080078125,8227.16015625,8227.419921875,8229.599609375,8231.830078125,8234.0703125,8234.759765625,8235.6201171875,8234.76953125,8233.2998046875,8232.51953125,8233.849609375,8234.33984375,8234.6298828125,8235.6396484375,8236.2197265625,8235.1396484375,8234.830078125,8234.8701171875,8235.8203125,8236.8798828125,8238.240234375,8238.830078125,8239.58984375,8241.33984375,8241.6904296875,8241.599609375,8241.5400390625,8242.0595703125,8241.6201171875,8241.4697265625,8241.6904296875,8244.419921875,8245.900390625,8247.23046875,8247.599609375,8247.5498046875,8247.8203125,8247.169921875,8246.8095703125,8246.8603515625,8247.349609375,8246.9501953125,8246.9697265625,8245.990234375,8245.8798828125,8245.7998046875,8246.490234375,8247.2197265625,8248.0400390625,8245.2998046875,8245.3095703125,8245.66015625,8245.990234375,8246.1103515625,8245.2998046875,8244.8095703125,8244.849609375,8243.3603515625,8241.7802734375,8240.73046875,8238.98046875,8238.740234375,8239.76953125,8240.490234375,8241.33984375,8242.080078125,8243.7998046875,8243.400390625,8242.4501953125,8246.23046875,8249.3701171875,8249.4599609375,8248.0703125,8247.419921875,8247.2802734375,8247.400390625,8246.3203125,8247.0400390625,8246.7099609375,8246.9599609375,8247.9599609375,8250.1201171875,8248.6796875,8248.4296875,8247.51953125,8247.7998046875,8247.16015625,8247.2802734375,8247.9697265625,8249.6103515625,8250.0400390625,8247.91015625,8247.509765625,8247.8095703125,8249.1201171875,8248.4296875,8248.259765625,8248.7900390625,8250.2802734375,8250.48046875,8250.01953125,8250.400390625,8250.2001953125,8249.5302734375,8250.1201171875,8250.7998046875,8249.76953125,8249.0595703125,8249.330078125,8250.1201171875,8249.900390625,8250.849609375,8251.759765625,8252.6904296875,8254.5,8254.990234375,8255.1103515625,8255.169921875,8255.2998046875,8253.490234375,8252.4501953125,8251.669921875,8249.51953125,8249.1201171875,8250.0302734375,8250.8896484375,8250.75,8250.599609375,8249.75,8248.580078125,8247.8798828125,8247.5703125,8249.3798828125,8249.66015625,8249.6103515625,8250.650390625,8250.26953125,8250.5302734375,8251.8701171875,8252.8095703125,8254.419921875,8256.6201171875,8258.3701171875,8258.580078125,8258.8701171875,8258.83984375,8257.0302734375,8255.7802734375,8254.16015625,8254.1201171875,8253.490234375,8253.4501953125,8254.2998046875,8255.759765625,8255.330078125,8253.76953125,8252.919921875,8253.08984375,8252.830078125,8252.5703125,8253.33984375,8253.990234375,8254.6796875,8255.98046875,8255.259765625,8254.2197265625,8255.48046875,8255.7998046875,8256.6103515625,8258.4599609375,8259.23046875,8259.4697265625,8260.48046875,8261.7001953125,8261.990234375,8261.900390625,8260.349609375,8260.0595703125,8260.08984375,8258.6796875,8258.7802734375,8258.2001953125,8258.2099609375,8258.5,8259.1904296875,8258.51953125,8257.3203125,8258.23046875,8257.849609375,8257.98046875,8257.599609375,8256.259765625,8255.5400390625,8255.91015625,8258.76953125,8258.3603515625,8256.4599609375,8254.8603515625,8253.83984375,8253.2900390625,8253.2900390625,8252.080078125,8251.6904296875,8252.0498046875,8253.2099609375,8254.16015625,8253.830078125,8255.330078125,8256.3203125,8256.509765625,8256.91015625,8256.9296875,8255.2099609375,8253.7998046875,8253.6396484375,8254.669921875,8254.2900390625,8254.830078125,8255.330078125,8255.6298828125,8255.9697265625,8257.900390625,8259.3203125,8260.6201171875,8261.8603515625,8260.900390625,8260.7998046875,8260.25,8260.240234375,8260.4501953125,8260.1796875,8260.6298828125,8258.7998046875,8257.91015625,8257.6298828125,8257.2001953125,8257.0595703125,8257.4404296875,8255.7099609375,8253.599609375,8252.0498046875,8251.4697265625,8252.1103515625,8254.8203125,8252.23046875,8250.6201171875,8250.76953125,8251.0,8251.009765625,8250.240234375,8249.919921875,8249.6904296875,8251.2001953125,8250.73046875,8250.1796875,8250.9296875,8255.990234375,8259.849609375,8261.0,8262.5302734375,8265.900390625,8268.1298828125,8269.8896484375,8269.73046875,8271.1201171875,8272.51953125,8272.6298828125,8272.3203125,8269.7802734375,8269.8203125,8269.900390625,8270.26953125,8270.58984375,8271.75,8272.009765625,8271.650390625,8273.830078125,8273.849609375,8273.240234375,8271.8798828125,8267.41015625,8267.7099609375,8270.1904296875,8271.4404296875,8270.580078125,8252.169921875,8247.48046875,8248.990234375,8251.9697265625,8252.6298828125,8252.8203125,8253.0703125,8252.259765625,8258.0302734375,8261.4404296875,8264.6904296875,8267.0498046875,8265.2900390625,8262.9599609375,8263.4501953125,8265.3896484375,8267.490234375,8264.150390625,8261.0,8260.259765625,8260.6396484375,8260.5703125,8260.669921875,8263.509765625,8262.23046875,8259.7802734375,8257.8798828125,8257.599609375,8258.48046875,8259.919921875,8264.2001953125,8263.0595703125,8262.1298828125,8262.4501953125,8262.7099609375,8263.1103515625,8264.4697265625,8266.400390625,8265.580078125,8266.5703125,8266.419921875,8265.849609375,8265.9296875,8266.0595703125,8268.51953125,8271.8896484375,8272.240234375,8271.5400390625,8272.7001953125,8271.4697265625,8272.0498046875,8272.1396484375,8272.6201171875,8273.650390625,8274.4697265625,8275.75,8275.6103515625,8276.2998046875,8274.900390625,8274.490234375,8277.1103515625,8278.1396484375,8278.5302734375,8279.3203125,8278.8896484375,8278.990234375,8278.8701171875,8278.2900390625,8278.330078125,8278.3203125,8277.25,8277.1298828125,8275.8701171875,8274.73046875,8272.8203125,8270.0595703125,8270.0498046875,8270.4599609375,8269.9296875,8270.650390625,8270.5302734375,8269.0498046875,8269.83984375,8269.66015625,8269.3701171875,8268.7900390625,8267.8203125,8267.4501953125,8265.6396484375],\"name\":\"FTSE100 Candlestick\",\"open\":[8251.8095703125,8254.169921875,8251.8095703125,8253.08984375,8247.9599609375,8247.7099609375,8248.5498046875,8245.83984375,8241.900390625,8237.849609375,8236.4697265625,8235.599609375,8235.1103515625,8235.1904296875,8235.2900390625,8234.599609375,8235.3701171875,8231.9296875,8233.849609375,8235.259765625,8237.1103515625,8236.7900390625,8237.7099609375,8238.25,8239.4501953125,8240.3798828125,8240.3095703125,8237.8798828125,8237.1201171875,8237.76953125,8241.2900390625,8241.7197265625,8240.4697265625,8238.1298828125,8238.7998046875,8237.7099609375,8238.5703125,8237.08984375,8234.2998046875,8235.3203125,8235.1904296875,8233.759765625,8235.8798828125,8236.4599609375,8237.669921875,8237.1904296875,8237.7802734375,8234.0302734375,8234.1201171875,8231.650390625,8229.58984375,8226.2197265625,8224.1298828125,8226.5595703125,8227.01953125,8227.2001953125,8226.7900390625,8225.7802734375,8225.26953125,8225.8095703125,8227.6396484375,8231.33984375,8234.3701171875,8234.48046875,8232.66015625,8233.5703125,8231.830078125,8233.8095703125,8236.400390625,8237.2001953125,8235.2197265625,8235.7998046875,8242.8701171875,8246.259765625,8245.240234375,8245.2998046875,8245.6103515625,8243.6796875,8240.9697265625,8238.26953125,8234.8798828125,8232.58984375,8231.9404296875,8229.0,8227.66015625,8227.3701171875,8226.1298828125,8227.240234375,8226.9296875,8227.01953125,8225.240234375,8223.3798828125,8223.2099609375,8223.7197265625,8227.0703125,8228.150390625,8229.25,8229.6904296875,8226.509765625,8228.2001953125,8227.8095703125,8226.5703125,8227.330078125,8229.1796875,8230.4296875,8231.75,8232.2099609375,8231.1103515625,8230.9599609375,8230.6201171875,8230.580078125,8229.73046875,8229.0498046875,8228.66015625,8227.5,8227.66015625,8227.2197265625,8227.4404296875,8229.8203125,8231.830078125,8234.1904296875,8234.759765625,8235.6201171875,8236.0302734375,8234.7197265625,8233.3798828125,8234.169921875,8234.33984375,8234.91015625,8235.650390625,8236.240234375,8236.330078125,8235.099609375,8234.8701171875,8235.8203125,8236.8798828125,8238.240234375,8238.830078125,8239.6904296875,8241.33984375,8241.6904296875,8242.0400390625,8241.6298828125,8242.849609375,8242.1103515625,8241.5595703125,8241.73046875,8244.419921875,8245.900390625,8247.2802734375,8247.599609375,8248.8798828125,8247.9296875,8248.490234375,8247.4296875,8246.8603515625,8247.759765625,8247.3896484375,8246.9697265625,8247.0400390625,8245.990234375,8245.7998046875,8246.900390625,8247.2197265625,8248.33984375,8248.0703125,8245.3095703125,8245.66015625,8246.2099609375,8246.1298828125,8246.26953125,8245.75,8244.8701171875,8245.330078125,8243.419921875,8241.8095703125,8240.73046875,8239.099609375,8239.7998046875,8240.490234375,8241.41015625,8242.080078125,8243.7998046875,8243.919921875,8244.01953125,8247.849609375,8250.6396484375,8250.7802734375,8251.1396484375,8248.2900390625,8249.259765625,8247.5595703125,8248.490234375,8247.0400390625,8247.1103515625,8247.0302734375,8248.330078125,8250.5498046875,8250.0498046875,8250.6396484375,8248.3095703125,8247.98046875,8248.0703125,8247.2802734375,8248.009765625,8249.6103515625,8251.3095703125,8250.0,8248.0498046875,8247.919921875,8249.4296875,8249.25,8248.8095703125,8248.8896484375,8250.2802734375,8250.580078125,8250.98046875,8250.8798828125,8250.349609375,8250.3896484375,8250.4296875,8251.2998046875,8250.9599609375,8249.7099609375,8249.83984375,8250.490234375,8250.099609375,8250.8798828125,8251.7998046875,8252.7099609375,8254.66015625,8254.990234375,8256.330078125,8255.169921875,8256.7099609375,8255.5595703125,8253.5,8252.3798828125,8251.8701171875,8249.4697265625,8250.2001953125,8250.9501953125,8251.919921875,8251.009765625,8250.8896484375,8249.919921875,8248.6201171875,8247.9501953125,8249.3798828125,8249.8203125,8250.2802734375,8250.650390625,8251.4501953125,8250.5302734375,8251.91015625,8252.8095703125,8254.419921875,8256.6396484375,8258.91015625,8258.580078125,8259.080078125,8259.6103515625,8258.8095703125,8257.0498046875,8255.76953125,8254.41015625,8254.1201171875,8253.4599609375,8254.2998046875,8256.419921875,8255.8896484375,8255.4296875,8253.8798828125,8253.169921875,8253.01953125,8253.669921875,8253.4404296875,8253.990234375,8254.6796875,8256.240234375,8256.01953125,8255.3701171875,8255.6103515625,8256.2099609375,8256.6103515625,8258.4599609375,8259.509765625,8259.4697265625,8260.5400390625,8261.7001953125,8262.4599609375,8262.150390625,8262.3896484375,8260.6396484375,8260.08984375,8260.3896484375,8258.7802734375,8259.3896484375,8258.2099609375,8258.5,8259.3896484375,8259.1396484375,8258.5,8258.3896484375,8258.2099609375,8258.66015625,8258.169921875,8257.599609375,8256.3203125,8256.0498046875,8258.76953125,8259.8603515625,8258.1298828125,8256.419921875,8255.16015625,8253.919921875,8254.1103515625,8253.25,8252.1904296875,8252.1796875,8253.2099609375,8254.8798828125,8254.3603515625,8255.330078125,8256.5,8256.5498046875,8257.259765625,8257.7998046875,8257.240234375,8255.2197265625,8253.7900390625,8255.1103515625,8254.7900390625,8254.9404296875,8255.6796875,8256.1396484375,8256.5703125,8257.990234375,8259.3203125,8260.6201171875,8261.8603515625,8262.51953125,8260.9501953125,8261.6298828125,8260.26953125,8260.5595703125,8260.66015625,8261.41015625,8260.9501953125,8258.9599609375,8258.150390625,8258.5,8257.16015625,8257.6396484375,8257.669921875,8255.4404296875,8254.0703125,8252.0400390625,8252.1201171875,8255.009765625,8255.1796875,8252.2197265625,8250.76953125,8251.759765625,8251.009765625,8251.6396484375,8250.150390625,8250.2099609375,8251.2001953125,8252.6103515625,8250.7998046875,8251.0302734375,8255.990234375,8259.849609375,8261.33984375,8263.8095703125,8266.349609375,8268.1298828125,8270.849609375,8270.2802734375,8272.1103515625,8273.0302734375,8272.6298828125,8273.6298828125,8271.66015625,8270.099609375,8270.2900390625,8270.4404296875,8271.1396484375,8271.76953125,8274.3701171875,8272.490234375,8274.41015625,8275.669921875,8274.0498046875,8274.1103515625,8271.740234375,8267.7099609375,8270.2802734375,8272.23046875,8271.5302734375,8273.330078125,8252.349609375,8248.990234375,8255.6396484375,8255.330078125,8254.1298828125,8254.48046875,8255.900390625,8258.1396484375,8261.9296875,8264.6904296875,8268.23046875,8267.169921875,8265.6796875,8264.169921875,8265.5400390625,8267.66015625,8269.3896484375,8264.1103515625,8261.08984375,8260.6396484375,8262.150390625,8260.669921875,8264.2900390625,8263.48046875,8263.330078125,8259.73046875,8258.8896484375,8258.48046875,8260.169921875,8264.2001953125,8265.150390625,8263.7802734375,8262.4501953125,8263.2099609375,8264.2900390625,8264.4697265625,8266.4599609375,8266.26953125,8266.5703125,8267.5498046875,8266.349609375,8266.509765625,8266.0595703125,8268.51953125,8272.25,8272.9501953125,8272.16015625,8272.7001953125,8272.83984375,8272.0703125,8272.259765625,8272.6201171875,8274.08984375,8274.4697265625,8275.8095703125,8276.6904296875,8276.3203125,8274.900390625,8275.0703125,8277.1103515625,8278.9599609375,8278.759765625,8279.3896484375,8279.849609375,8280.1201171875,8279.099609375,8279.8603515625,8279.3603515625,8278.5,8278.669921875,8277.419921875,8277.48046875,8275.3798828125,8274.8798828125,8273.009765625,8270.0498046875,8270.990234375,8270.419921875,8270.650390625,8272.5,8270.5302734375,8270.23046875,8269.8798828125,8269.8603515625,8269.9404296875,8270.1298828125,8267.8095703125,8267.3701171875],\"x\":[\"2024-09-04T08:19:00+01:00\",\"2024-09-04T08:20:00+01:00\",\"2024-09-04T08:21:00+01:00\",\"2024-09-04T08:22:00+01:00\",\"2024-09-04T08:23:00+01:00\",\"2024-09-04T08:24:00+01:00\",\"2024-09-04T08:25:00+01:00\",\"2024-09-04T08:26:00+01:00\",\"2024-09-04T08:27:00+01:00\",\"2024-09-04T08:28:00+01:00\",\"2024-09-04T08:29:00+01:00\",\"2024-09-04T08:30:00+01:00\",\"2024-09-04T08:31:00+01:00\",\"2024-09-04T08:32:00+01:00\",\"2024-09-04T08:33:00+01:00\",\"2024-09-04T08:34:00+01:00\",\"2024-09-04T08:35:00+01:00\",\"2024-09-04T08:36:00+01:00\",\"2024-09-04T08:37:00+01:00\",\"2024-09-04T08:38:00+01:00\",\"2024-09-04T08:39:00+01:00\",\"2024-09-04T08:40:00+01:00\",\"2024-09-04T08:41:00+01:00\",\"2024-09-04T08:42:00+01:00\",\"2024-09-04T08:43:00+01:00\",\"2024-09-04T08:44:00+01:00\",\"2024-09-04T08:45:00+01:00\",\"2024-09-04T08:46:00+01:00\",\"2024-09-04T08:47:00+01:00\",\"2024-09-04T08:48:00+01:00\",\"2024-09-04T08:49:00+01:00\",\"2024-09-04T08:50:00+01:00\",\"2024-09-04T08:51:00+01:00\",\"2024-09-04T08:52:00+01:00\",\"2024-09-04T08:53:00+01:00\",\"2024-09-04T08:54:00+01:00\",\"2024-09-04T08:55:00+01:00\",\"2024-09-04T08:56:00+01:00\",\"2024-09-04T08:57:00+01:00\",\"2024-09-04T08:58:00+01:00\",\"2024-09-04T08:59:00+01:00\",\"2024-09-04T09:00:00+01:00\",\"2024-09-04T09:01:00+01:00\",\"2024-09-04T09:02:00+01:00\",\"2024-09-04T09:03:00+01:00\",\"2024-09-04T09:04:00+01:00\",\"2024-09-04T09:05:00+01:00\",\"2024-09-04T09:06:00+01:00\",\"2024-09-04T09:07:00+01:00\",\"2024-09-04T09:08:00+01:00\",\"2024-09-04T09:09:00+01:00\",\"2024-09-04T09:10:00+01:00\",\"2024-09-04T09:11:00+01:00\",\"2024-09-04T09:12:00+01:00\",\"2024-09-04T09:13:00+01:00\",\"2024-09-04T09:14:00+01:00\",\"2024-09-04T09:15:00+01:00\",\"2024-09-04T09:16:00+01:00\",\"2024-09-04T09:17:00+01:00\",\"2024-09-04T09:18:00+01:00\",\"2024-09-04T09:19:00+01:00\",\"2024-09-04T09:20:00+01:00\",\"2024-09-04T09:21:00+01:00\",\"2024-09-04T09:22:00+01:00\",\"2024-09-04T09:23:00+01:00\",\"2024-09-04T09:24:00+01:00\",\"2024-09-04T09:25:00+01:00\",\"2024-09-04T09:26:00+01:00\",\"2024-09-04T09:27:00+01:00\",\"2024-09-04T09:28:00+01:00\",\"2024-09-04T09:29:00+01:00\",\"2024-09-04T09:30:00+01:00\",\"2024-09-04T09:31:00+01:00\",\"2024-09-04T09:32:00+01:00\",\"2024-09-04T09:33:00+01:00\",\"2024-09-04T09:34:00+01:00\",\"2024-09-04T09:35:00+01:00\",\"2024-09-04T09:36:00+01:00\",\"2024-09-04T09:37:00+01:00\",\"2024-09-04T09:38:00+01:00\",\"2024-09-04T09:39:00+01:00\",\"2024-09-04T09:40:00+01:00\",\"2024-09-04T09:41:00+01:00\",\"2024-09-04T09:42:00+01:00\",\"2024-09-04T09:43:00+01:00\",\"2024-09-04T09:44:00+01:00\",\"2024-09-04T09:45:00+01:00\",\"2024-09-04T09:46:00+01:00\",\"2024-09-04T09:47:00+01:00\",\"2024-09-04T09:48:00+01:00\",\"2024-09-04T09:49:00+01:00\",\"2024-09-04T09:50:00+01:00\",\"2024-09-04T09:51:00+01:00\",\"2024-09-04T09:52:00+01:00\",\"2024-09-04T09:53:00+01:00\",\"2024-09-04T09:54:00+01:00\",\"2024-09-04T09:55:00+01:00\",\"2024-09-04T09:56:00+01:00\",\"2024-09-04T09:57:00+01:00\",\"2024-09-04T09:58:00+01:00\",\"2024-09-04T09:59:00+01:00\",\"2024-09-04T10:00:00+01:00\",\"2024-09-04T10:01:00+01:00\",\"2024-09-04T10:02:00+01:00\",\"2024-09-04T10:03:00+01:00\",\"2024-09-04T10:04:00+01:00\",\"2024-09-04T10:05:00+01:00\",\"2024-09-04T10:06:00+01:00\",\"2024-09-04T10:07:00+01:00\",\"2024-09-04T10:08:00+01:00\",\"2024-09-04T10:09:00+01:00\",\"2024-09-04T10:10:00+01:00\",\"2024-09-04T10:11:00+01:00\",\"2024-09-04T10:12:00+01:00\",\"2024-09-04T10:13:00+01:00\",\"2024-09-04T10:14:00+01:00\",\"2024-09-04T10:15:00+01:00\",\"2024-09-04T10:16:00+01:00\",\"2024-09-04T10:17:00+01:00\",\"2024-09-04T10:18:00+01:00\",\"2024-09-04T10:19:00+01:00\",\"2024-09-04T10:20:00+01:00\",\"2024-09-04T10:21:00+01:00\",\"2024-09-04T10:22:00+01:00\",\"2024-09-04T10:23:00+01:00\",\"2024-09-04T10:24:00+01:00\",\"2024-09-04T10:25:00+01:00\",\"2024-09-04T10:26:00+01:00\",\"2024-09-04T10:27:00+01:00\",\"2024-09-04T10:28:00+01:00\",\"2024-09-04T10:29:00+01:00\",\"2024-09-04T10:30:00+01:00\",\"2024-09-04T10:31:00+01:00\",\"2024-09-04T10:32:00+01:00\",\"2024-09-04T10:33:00+01:00\",\"2024-09-04T10:34:00+01:00\",\"2024-09-04T10:35:00+01:00\",\"2024-09-04T10:36:00+01:00\",\"2024-09-04T10:37:00+01:00\",\"2024-09-04T10:38:00+01:00\",\"2024-09-04T10:39:00+01:00\",\"2024-09-04T10:40:00+01:00\",\"2024-09-04T10:41:00+01:00\",\"2024-09-04T10:42:00+01:00\",\"2024-09-04T10:43:00+01:00\",\"2024-09-04T10:44:00+01:00\",\"2024-09-04T10:45:00+01:00\",\"2024-09-04T10:46:00+01:00\",\"2024-09-04T10:47:00+01:00\",\"2024-09-04T10:48:00+01:00\",\"2024-09-04T10:49:00+01:00\",\"2024-09-04T10:50:00+01:00\",\"2024-09-04T10:51:00+01:00\",\"2024-09-04T10:52:00+01:00\",\"2024-09-04T10:53:00+01:00\",\"2024-09-04T10:54:00+01:00\",\"2024-09-04T10:55:00+01:00\",\"2024-09-04T10:56:00+01:00\",\"2024-09-04T10:57:00+01:00\",\"2024-09-04T10:58:00+01:00\",\"2024-09-04T10:59:00+01:00\",\"2024-09-04T11:00:00+01:00\",\"2024-09-04T11:01:00+01:00\",\"2024-09-04T11:02:00+01:00\",\"2024-09-04T11:03:00+01:00\",\"2024-09-04T11:04:00+01:00\",\"2024-09-04T11:05:00+01:00\",\"2024-09-04T11:06:00+01:00\",\"2024-09-04T11:07:00+01:00\",\"2024-09-04T11:08:00+01:00\",\"2024-09-04T11:09:00+01:00\",\"2024-09-04T11:10:00+01:00\",\"2024-09-04T11:11:00+01:00\",\"2024-09-04T11:12:00+01:00\",\"2024-09-04T11:13:00+01:00\",\"2024-09-04T11:14:00+01:00\",\"2024-09-04T11:15:00+01:00\",\"2024-09-04T11:16:00+01:00\",\"2024-09-04T11:17:00+01:00\",\"2024-09-04T11:18:00+01:00\",\"2024-09-04T11:19:00+01:00\",\"2024-09-04T11:20:00+01:00\",\"2024-09-04T11:21:00+01:00\",\"2024-09-04T11:22:00+01:00\",\"2024-09-04T11:23:00+01:00\",\"2024-09-04T11:24:00+01:00\",\"2024-09-04T11:25:00+01:00\",\"2024-09-04T11:26:00+01:00\",\"2024-09-04T11:27:00+01:00\",\"2024-09-04T11:28:00+01:00\",\"2024-09-04T11:29:00+01:00\",\"2024-09-04T11:30:00+01:00\",\"2024-09-04T11:31:00+01:00\",\"2024-09-04T11:32:00+01:00\",\"2024-09-04T11:33:00+01:00\",\"2024-09-04T11:34:00+01:00\",\"2024-09-04T11:35:00+01:00\",\"2024-09-04T11:36:00+01:00\",\"2024-09-04T11:37:00+01:00\",\"2024-09-04T11:38:00+01:00\",\"2024-09-04T11:39:00+01:00\",\"2024-09-04T11:40:00+01:00\",\"2024-09-04T11:41:00+01:00\",\"2024-09-04T11:42:00+01:00\",\"2024-09-04T11:43:00+01:00\",\"2024-09-04T11:44:00+01:00\",\"2024-09-04T11:45:00+01:00\",\"2024-09-04T11:46:00+01:00\",\"2024-09-04T11:47:00+01:00\",\"2024-09-04T11:48:00+01:00\",\"2024-09-04T11:49:00+01:00\",\"2024-09-04T11:50:00+01:00\",\"2024-09-04T11:51:00+01:00\",\"2024-09-04T11:52:00+01:00\",\"2024-09-04T11:53:00+01:00\",\"2024-09-04T11:54:00+01:00\",\"2024-09-04T11:55:00+01:00\",\"2024-09-04T11:56:00+01:00\",\"2024-09-04T11:57:00+01:00\",\"2024-09-04T11:58:00+01:00\",\"2024-09-04T11:59:00+01:00\",\"2024-09-04T12:00:00+01:00\",\"2024-09-04T12:01:00+01:00\",\"2024-09-04T12:02:00+01:00\",\"2024-09-04T12:03:00+01:00\",\"2024-09-04T12:04:00+01:00\",\"2024-09-04T12:05:00+01:00\",\"2024-09-04T12:06:00+01:00\",\"2024-09-04T12:07:00+01:00\",\"2024-09-04T12:08:00+01:00\",\"2024-09-04T12:09:00+01:00\",\"2024-09-04T12:10:00+01:00\",\"2024-09-04T12:11:00+01:00\",\"2024-09-04T12:12:00+01:00\",\"2024-09-04T12:13:00+01:00\",\"2024-09-04T12:14:00+01:00\",\"2024-09-04T12:15:00+01:00\",\"2024-09-04T12:16:00+01:00\",\"2024-09-04T12:17:00+01:00\",\"2024-09-04T12:18:00+01:00\",\"2024-09-04T12:19:00+01:00\",\"2024-09-04T12:20:00+01:00\",\"2024-09-04T12:21:00+01:00\",\"2024-09-04T12:22:00+01:00\",\"2024-09-04T12:23:00+01:00\",\"2024-09-04T12:24:00+01:00\",\"2024-09-04T12:25:00+01:00\",\"2024-09-04T12:26:00+01:00\",\"2024-09-04T12:27:00+01:00\",\"2024-09-04T12:28:00+01:00\",\"2024-09-04T12:29:00+01:00\",\"2024-09-04T12:30:00+01:00\",\"2024-09-04T12:31:00+01:00\",\"2024-09-04T12:32:00+01:00\",\"2024-09-04T12:33:00+01:00\",\"2024-09-04T12:34:00+01:00\",\"2024-09-04T12:35:00+01:00\",\"2024-09-04T12:36:00+01:00\",\"2024-09-04T12:37:00+01:00\",\"2024-09-04T12:38:00+01:00\",\"2024-09-04T12:39:00+01:00\",\"2024-09-04T12:40:00+01:00\",\"2024-09-04T12:41:00+01:00\",\"2024-09-04T12:42:00+01:00\",\"2024-09-04T12:43:00+01:00\",\"2024-09-04T12:44:00+01:00\",\"2024-09-04T12:45:00+01:00\",\"2024-09-04T12:46:00+01:00\",\"2024-09-04T12:47:00+01:00\",\"2024-09-04T12:48:00+01:00\",\"2024-09-04T12:49:00+01:00\",\"2024-09-04T12:50:00+01:00\",\"2024-09-04T12:51:00+01:00\",\"2024-09-04T12:52:00+01:00\",\"2024-09-04T12:53:00+01:00\",\"2024-09-04T12:54:00+01:00\",\"2024-09-04T12:55:00+01:00\",\"2024-09-04T12:56:00+01:00\",\"2024-09-04T12:57:00+01:00\",\"2024-09-04T12:58:00+01:00\",\"2024-09-04T12:59:00+01:00\",\"2024-09-04T13:00:00+01:00\",\"2024-09-04T13:01:00+01:00\",\"2024-09-04T13:02:00+01:00\",\"2024-09-04T13:03:00+01:00\",\"2024-09-04T13:04:00+01:00\",\"2024-09-04T13:05:00+01:00\",\"2024-09-04T13:06:00+01:00\",\"2024-09-04T13:07:00+01:00\",\"2024-09-04T13:08:00+01:00\",\"2024-09-04T13:09:00+01:00\",\"2024-09-04T13:10:00+01:00\",\"2024-09-04T13:11:00+01:00\",\"2024-09-04T13:12:00+01:00\",\"2024-09-04T13:13:00+01:00\",\"2024-09-04T13:14:00+01:00\",\"2024-09-04T13:15:00+01:00\",\"2024-09-04T13:16:00+01:00\",\"2024-09-04T13:17:00+01:00\",\"2024-09-04T13:18:00+01:00\",\"2024-09-04T13:19:00+01:00\",\"2024-09-04T13:20:00+01:00\",\"2024-09-04T13:21:00+01:00\",\"2024-09-04T13:22:00+01:00\",\"2024-09-04T13:23:00+01:00\",\"2024-09-04T13:24:00+01:00\",\"2024-09-04T13:25:00+01:00\",\"2024-09-04T13:26:00+01:00\",\"2024-09-04T13:27:00+01:00\",\"2024-09-04T13:28:00+01:00\",\"2024-09-04T13:29:00+01:00\",\"2024-09-04T13:30:00+01:00\",\"2024-09-04T13:31:00+01:00\",\"2024-09-04T13:32:00+01:00\",\"2024-09-04T13:33:00+01:00\",\"2024-09-04T13:34:00+01:00\",\"2024-09-04T13:35:00+01:00\",\"2024-09-04T13:36:00+01:00\",\"2024-09-04T13:37:00+01:00\",\"2024-09-04T13:38:00+01:00\",\"2024-09-04T13:39:00+01:00\",\"2024-09-04T13:40:00+01:00\",\"2024-09-04T13:41:00+01:00\",\"2024-09-04T13:42:00+01:00\",\"2024-09-04T13:43:00+01:00\",\"2024-09-04T13:44:00+01:00\",\"2024-09-04T13:45:00+01:00\",\"2024-09-04T13:46:00+01:00\",\"2024-09-04T13:47:00+01:00\",\"2024-09-04T13:48:00+01:00\",\"2024-09-04T13:49:00+01:00\",\"2024-09-04T13:50:00+01:00\",\"2024-09-04T13:51:00+01:00\",\"2024-09-04T13:52:00+01:00\",\"2024-09-04T13:53:00+01:00\",\"2024-09-04T13:54:00+01:00\",\"2024-09-04T13:55:00+01:00\",\"2024-09-04T13:56:00+01:00\",\"2024-09-04T13:57:00+01:00\",\"2024-09-04T13:58:00+01:00\",\"2024-09-04T13:59:00+01:00\",\"2024-09-04T14:00:00+01:00\",\"2024-09-04T14:01:00+01:00\",\"2024-09-04T14:02:00+01:00\",\"2024-09-04T14:03:00+01:00\",\"2024-09-04T14:04:00+01:00\",\"2024-09-04T14:05:00+01:00\",\"2024-09-04T14:06:00+01:00\",\"2024-09-04T14:07:00+01:00\",\"2024-09-04T14:08:00+01:00\",\"2024-09-04T14:09:00+01:00\",\"2024-09-04T14:10:00+01:00\",\"2024-09-04T14:11:00+01:00\",\"2024-09-04T14:12:00+01:00\",\"2024-09-04T14:13:00+01:00\",\"2024-09-04T14:14:00+01:00\",\"2024-09-04T14:15:00+01:00\",\"2024-09-04T14:16:00+01:00\",\"2024-09-04T14:17:00+01:00\",\"2024-09-04T14:18:00+01:00\",\"2024-09-04T14:19:00+01:00\",\"2024-09-04T14:20:00+01:00\",\"2024-09-04T14:21:00+01:00\",\"2024-09-04T14:22:00+01:00\",\"2024-09-04T14:23:00+01:00\",\"2024-09-04T14:24:00+01:00\",\"2024-09-04T14:25:00+01:00\",\"2024-09-04T14:26:00+01:00\",\"2024-09-04T14:27:00+01:00\",\"2024-09-04T14:28:00+01:00\",\"2024-09-04T14:29:00+01:00\",\"2024-09-04T14:30:00+01:00\",\"2024-09-04T14:31:00+01:00\",\"2024-09-04T14:32:00+01:00\",\"2024-09-04T14:33:00+01:00\",\"2024-09-04T14:34:00+01:00\",\"2024-09-04T14:35:00+01:00\",\"2024-09-04T14:36:00+01:00\",\"2024-09-04T14:37:00+01:00\",\"2024-09-04T14:38:00+01:00\",\"2024-09-04T14:39:00+01:00\",\"2024-09-04T14:40:00+01:00\",\"2024-09-04T14:41:00+01:00\",\"2024-09-04T14:42:00+01:00\",\"2024-09-04T14:43:00+01:00\",\"2024-09-04T14:44:00+01:00\",\"2024-09-04T14:45:00+01:00\",\"2024-09-04T14:46:00+01:00\",\"2024-09-04T14:47:00+01:00\",\"2024-09-04T14:48:00+01:00\",\"2024-09-04T14:49:00+01:00\",\"2024-09-04T14:50:00+01:00\",\"2024-09-04T14:51:00+01:00\",\"2024-09-04T14:52:00+01:00\",\"2024-09-04T14:53:00+01:00\",\"2024-09-04T14:54:00+01:00\",\"2024-09-04T14:55:00+01:00\",\"2024-09-04T14:56:00+01:00\",\"2024-09-04T14:57:00+01:00\",\"2024-09-04T14:58:00+01:00\",\"2024-09-04T14:59:00+01:00\",\"2024-09-04T15:00:00+01:00\",\"2024-09-04T15:01:00+01:00\",\"2024-09-04T15:02:00+01:00\",\"2024-09-04T15:03:00+01:00\",\"2024-09-04T15:04:00+01:00\",\"2024-09-04T15:05:00+01:00\",\"2024-09-04T15:06:00+01:00\",\"2024-09-04T15:07:00+01:00\",\"2024-09-04T15:08:00+01:00\",\"2024-09-04T15:09:00+01:00\",\"2024-09-04T15:10:00+01:00\",\"2024-09-04T15:11:00+01:00\",\"2024-09-04T15:12:00+01:00\",\"2024-09-04T15:13:00+01:00\",\"2024-09-04T15:14:00+01:00\",\"2024-09-04T15:15:00+01:00\",\"2024-09-04T15:16:00+01:00\",\"2024-09-04T15:17:00+01:00\",\"2024-09-04T15:18:00+01:00\",\"2024-09-04T15:19:00+01:00\",\"2024-09-04T15:20:00+01:00\",\"2024-09-04T15:21:00+01:00\",\"2024-09-04T15:22:00+01:00\",\"2024-09-04T15:23:00+01:00\",\"2024-09-04T15:24:00+01:00\",\"2024-09-04T15:25:00+01:00\",\"2024-09-04T15:26:00+01:00\",\"2024-09-04T15:27:00+01:00\",\"2024-09-04T15:28:00+01:00\",\"2024-09-04T15:29:00+01:00\",\"2024-09-04T15:30:00+01:00\",\"2024-09-04T15:31:00+01:00\",\"2024-09-04T15:32:00+01:00\",\"2024-09-04T15:33:00+01:00\",\"2024-09-04T15:34:00+01:00\",\"2024-09-04T15:35:00+01:00\",\"2024-09-04T15:36:00+01:00\",\"2024-09-04T15:37:00+01:00\",\"2024-09-04T15:38:00+01:00\",\"2024-09-04T15:39:00+01:00\",\"2024-09-04T15:40:00+01:00\",\"2024-09-04T15:41:00+01:00\",\"2024-09-04T15:42:00+01:00\",\"2024-09-04T15:43:00+01:00\",\"2024-09-04T15:44:00+01:00\",\"2024-09-04T15:45:00+01:00\",\"2024-09-04T15:46:00+01:00\",\"2024-09-04T15:47:00+01:00\",\"2024-09-04T15:48:00+01:00\",\"2024-09-04T15:49:00+01:00\",\"2024-09-04T15:50:00+01:00\",\"2024-09-04T15:51:00+01:00\",\"2024-09-04T15:52:00+01:00\",\"2024-09-04T15:53:00+01:00\",\"2024-09-04T15:54:00+01:00\",\"2024-09-04T15:55:00+01:00\",\"2024-09-04T15:56:00+01:00\",\"2024-09-04T15:57:00+01:00\",\"2024-09-04T15:58:00+01:00\",\"2024-09-04T15:59:00+01:00\",\"2024-09-04T16:00:00+01:00\",\"2024-09-04T16:01:00+01:00\",\"2024-09-04T16:02:00+01:00\",\"2024-09-04T16:03:00+01:00\",\"2024-09-04T16:04:00+01:00\",\"2024-09-04T16:05:00+01:00\",\"2024-09-04T16:06:00+01:00\",\"2024-09-04T16:07:00+01:00\",\"2024-09-04T16:08:00+01:00\",\"2024-09-04T16:09:00+01:00\",\"2024-09-04T16:10:00+01:00\",\"2024-09-04T16:11:00+01:00\",\"2024-09-04T16:12:00+01:00\",\"2024-09-04T16:13:00+01:00\",\"2024-09-04T16:14:00+01:00\",\"2024-09-04T16:15:00+01:00\",\"2024-09-04T16:16:00+01:00\",\"2024-09-04T16:17:00+01:00\",\"2024-09-04T16:18:00+01:00\",\"2024-09-04T16:19:00+01:00\",\"2024-09-04T16:20:00+01:00\",\"2024-09-04T16:21:00+01:00\",\"2024-09-04T16:22:00+01:00\",\"2024-09-04T16:23:00+01:00\",\"2024-09-04T16:24:00+01:00\",\"2024-09-04T16:25:00+01:00\",\"2024-09-04T16:26:00+01:00\",\"2024-09-04T16:27:00+01:00\",\"2024-09-04T16:28:00+01:00\"],\"type\":\"candlestick\"}],                        {\"template\":{\"data\":{\"histogram2dcontour\":[{\"type\":\"histogram2dcontour\",\"colorbar\":{\"outlinewidth\":0,\"ticks\":\"\"},\"colorscale\":[[0.0,\"#0d0887\"],[0.1111111111111111,\"#46039f\"],[0.2222222222222222,\"#7201a8\"],[0.3333333333333333,\"#9c179e\"],[0.4444444444444444,\"#bd3786\"],[0.5555555555555556,\"#d8576b\"],[0.6666666666666666,\"#ed7953\"],[0.7777777777777778,\"#fb9f3a\"],[0.8888888888888888,\"#fdca26\"],[1.0,\"#f0f921\"]]}],\"choropleth\":[{\"type\":\"choropleth\",\"colorbar\":{\"outlinewidth\":0,\"ticks\":\"\"}}],\"histogram2d\":[{\"type\":\"histogram2d\",\"colorbar\":{\"outlinewidth\":0,\"ticks\":\"\"},\"colorscale\":[[0.0,\"#0d0887\"],[0.1111111111111111,\"#46039f\"],[0.2222222222222222,\"#7201a8\"],[0.3333333333333333,\"#9c179e\"],[0.4444444444444444,\"#bd3786\"],[0.5555555555555556,\"#d8576b\"],[0.6666666666666666,\"#ed7953\"],[0.7777777777777778,\"#fb9f3a\"],[0.8888888888888888,\"#fdca26\"],[1.0,\"#f0f921\"]]}],\"heatmap\":[{\"type\":\"heatmap\",\"colorbar\":{\"outlinewidth\":0,\"ticks\":\"\"},\"colorscale\":[[0.0,\"#0d0887\"],[0.1111111111111111,\"#46039f\"],[0.2222222222222222,\"#7201a8\"],[0.3333333333333333,\"#9c179e\"],[0.4444444444444444,\"#bd3786\"],[0.5555555555555556,\"#d8576b\"],[0.6666666666666666,\"#ed7953\"],[0.7777777777777778,\"#fb9f3a\"],[0.8888888888888888,\"#fdca26\"],[1.0,\"#f0f921\"]]}],\"heatmapgl\":[{\"type\":\"heatmapgl\",\"colorbar\":{\"outlinewidth\":0,\"ticks\":\"\"},\"colorscale\":[[0.0,\"#0d0887\"],[0.1111111111111111,\"#46039f\"],[0.2222222222222222,\"#7201a8\"],[0.3333333333333333,\"#9c179e\"],[0.4444444444444444,\"#bd3786\"],[0.5555555555555556,\"#d8576b\"],[0.6666666666666666,\"#ed7953\"],[0.7777777777777778,\"#fb9f3a\"],[0.8888888888888888,\"#fdca26\"],[1.0,\"#f0f921\"]]}],\"contourcarpet\":[{\"type\":\"contourcarpet\",\"colorbar\":{\"outlinewidth\":0,\"ticks\":\"\"}}],\"contour\":[{\"type\":\"contour\",\"colorbar\":{\"outlinewidth\":0,\"ticks\":\"\"},\"colorscale\":[[0.0,\"#0d0887\"],[0.1111111111111111,\"#46039f\"],[0.2222222222222222,\"#7201a8\"],[0.3333333333333333,\"#9c179e\"],[0.4444444444444444,\"#bd3786\"],[0.5555555555555556,\"#d8576b\"],[0.6666666666666666,\"#ed7953\"],[0.7777777777777778,\"#fb9f3a\"],[0.8888888888888888,\"#fdca26\"],[1.0,\"#f0f921\"]]}],\"surface\":[{\"type\":\"surface\",\"colorbar\":{\"outlinewidth\":0,\"ticks\":\"\"},\"colorscale\":[[0.0,\"#0d0887\"],[0.1111111111111111,\"#46039f\"],[0.2222222222222222,\"#7201a8\"],[0.3333333333333333,\"#9c179e\"],[0.4444444444444444,\"#bd3786\"],[0.5555555555555556,\"#d8576b\"],[0.6666666666666666,\"#ed7953\"],[0.7777777777777778,\"#fb9f3a\"],[0.8888888888888888,\"#fdca26\"],[1.0,\"#f0f921\"]]}],\"mesh3d\":[{\"type\":\"mesh3d\",\"colorbar\":{\"outlinewidth\":0,\"ticks\":\"\"}}],\"scatter\":[{\"fillpattern\":{\"fillmode\":\"overlay\",\"size\":10,\"solidity\":0.2},\"type\":\"scatter\"}],\"parcoords\":[{\"type\":\"parcoords\",\"line\":{\"colorbar\":{\"outlinewidth\":0,\"ticks\":\"\"}}}],\"scatterpolargl\":[{\"type\":\"scatterpolargl\",\"marker\":{\"colorbar\":{\"outlinewidth\":0,\"ticks\":\"\"}}}],\"bar\":[{\"error_x\":{\"color\":\"#2a3f5f\"},\"error_y\":{\"color\":\"#2a3f5f\"},\"marker\":{\"line\":{\"color\":\"#E5ECF6\",\"width\":0.5},\"pattern\":{\"fillmode\":\"overlay\",\"size\":10,\"solidity\":0.2}},\"type\":\"bar\"}],\"scattergeo\":[{\"type\":\"scattergeo\",\"marker\":{\"colorbar\":{\"outlinewidth\":0,\"ticks\":\"\"}}}],\"scatterpolar\":[{\"type\":\"scatterpolar\",\"marker\":{\"colorbar\":{\"outlinewidth\":0,\"ticks\":\"\"}}}],\"histogram\":[{\"marker\":{\"pattern\":{\"fillmode\":\"overlay\",\"size\":10,\"solidity\":0.2}},\"type\":\"histogram\"}],\"scattergl\":[{\"type\":\"scattergl\",\"marker\":{\"colorbar\":{\"outlinewidth\":0,\"ticks\":\"\"}}}],\"scatter3d\":[{\"type\":\"scatter3d\",\"line\":{\"colorbar\":{\"outlinewidth\":0,\"ticks\":\"\"}},\"marker\":{\"colorbar\":{\"outlinewidth\":0,\"ticks\":\"\"}}}],\"scattermapbox\":[{\"type\":\"scattermapbox\",\"marker\":{\"colorbar\":{\"outlinewidth\":0,\"ticks\":\"\"}}}],\"scatterternary\":[{\"type\":\"scatterternary\",\"marker\":{\"colorbar\":{\"outlinewidth\":0,\"ticks\":\"\"}}}],\"scattercarpet\":[{\"type\":\"scattercarpet\",\"marker\":{\"colorbar\":{\"outlinewidth\":0,\"ticks\":\"\"}}}],\"carpet\":[{\"aaxis\":{\"endlinecolor\":\"#2a3f5f\",\"gridcolor\":\"white\",\"linecolor\":\"white\",\"minorgridcolor\":\"white\",\"startlinecolor\":\"#2a3f5f\"},\"baxis\":{\"endlinecolor\":\"#2a3f5f\",\"gridcolor\":\"white\",\"linecolor\":\"white\",\"minorgridcolor\":\"white\",\"startlinecolor\":\"#2a3f5f\"},\"type\":\"carpet\"}],\"table\":[{\"cells\":{\"fill\":{\"color\":\"#EBF0F8\"},\"line\":{\"color\":\"white\"}},\"header\":{\"fill\":{\"color\":\"#C8D4E3\"},\"line\":{\"color\":\"white\"}},\"type\":\"table\"}],\"barpolar\":[{\"marker\":{\"line\":{\"color\":\"#E5ECF6\",\"width\":0.5},\"pattern\":{\"fillmode\":\"overlay\",\"size\":10,\"solidity\":0.2}},\"type\":\"barpolar\"}],\"pie\":[{\"automargin\":true,\"type\":\"pie\"}]},\"layout\":{\"autotypenumbers\":\"strict\",\"colorway\":[\"#636efa\",\"#EF553B\",\"#00cc96\",\"#ab63fa\",\"#FFA15A\",\"#19d3f3\",\"#FF6692\",\"#B6E880\",\"#FF97FF\",\"#FECB52\"],\"font\":{\"color\":\"#2a3f5f\"},\"hovermode\":\"closest\",\"hoverlabel\":{\"align\":\"left\"},\"paper_bgcolor\":\"white\",\"plot_bgcolor\":\"#E5ECF6\",\"polar\":{\"bgcolor\":\"#E5ECF6\",\"angularaxis\":{\"gridcolor\":\"white\",\"linecolor\":\"white\",\"ticks\":\"\"},\"radialaxis\":{\"gridcolor\":\"white\",\"linecolor\":\"white\",\"ticks\":\"\"}},\"ternary\":{\"bgcolor\":\"#E5ECF6\",\"aaxis\":{\"gridcolor\":\"white\",\"linecolor\":\"white\",\"ticks\":\"\"},\"baxis\":{\"gridcolor\":\"white\",\"linecolor\":\"white\",\"ticks\":\"\"},\"caxis\":{\"gridcolor\":\"white\",\"linecolor\":\"white\",\"ticks\":\"\"}},\"coloraxis\":{\"colorbar\":{\"outlinewidth\":0,\"ticks\":\"\"}},\"colorscale\":{\"sequential\":[[0.0,\"#0d0887\"],[0.1111111111111111,\"#46039f\"],[0.2222222222222222,\"#7201a8\"],[0.3333333333333333,\"#9c179e\"],[0.4444444444444444,\"#bd3786\"],[0.5555555555555556,\"#d8576b\"],[0.6666666666666666,\"#ed7953\"],[0.7777777777777778,\"#fb9f3a\"],[0.8888888888888888,\"#fdca26\"],[1.0,\"#f0f921\"]],\"sequentialminus\":[[0.0,\"#0d0887\"],[0.1111111111111111,\"#46039f\"],[0.2222222222222222,\"#7201a8\"],[0.3333333333333333,\"#9c179e\"],[0.4444444444444444,\"#bd3786\"],[0.5555555555555556,\"#d8576b\"],[0.6666666666666666,\"#ed7953\"],[0.7777777777777778,\"#fb9f3a\"],[0.8888888888888888,\"#fdca26\"],[1.0,\"#f0f921\"]],\"diverging\":[[0,\"#8e0152\"],[0.1,\"#c51b7d\"],[0.2,\"#de77ae\"],[0.3,\"#f1b6da\"],[0.4,\"#fde0ef\"],[0.5,\"#f7f7f7\"],[0.6,\"#e6f5d0\"],[0.7,\"#b8e186\"],[0.8,\"#7fbc41\"],[0.9,\"#4d9221\"],[1,\"#276419\"]]},\"xaxis\":{\"gridcolor\":\"white\",\"linecolor\":\"white\",\"ticks\":\"\",\"title\":{\"standoff\":15},\"zerolinecolor\":\"white\",\"automargin\":true,\"zerolinewidth\":2},\"yaxis\":{\"gridcolor\":\"white\",\"linecolor\":\"white\",\"ticks\":\"\",\"title\":{\"standoff\":15},\"zerolinecolor\":\"white\",\"automargin\":true,\"zerolinewidth\":2},\"scene\":{\"xaxis\":{\"backgroundcolor\":\"#E5ECF6\",\"gridcolor\":\"white\",\"linecolor\":\"white\",\"showbackground\":true,\"ticks\":\"\",\"zerolinecolor\":\"white\",\"gridwidth\":2},\"yaxis\":{\"backgroundcolor\":\"#E5ECF6\",\"gridcolor\":\"white\",\"linecolor\":\"white\",\"showbackground\":true,\"ticks\":\"\",\"zerolinecolor\":\"white\",\"gridwidth\":2},\"zaxis\":{\"backgroundcolor\":\"#E5ECF6\",\"gridcolor\":\"white\",\"linecolor\":\"white\",\"showbackground\":true,\"ticks\":\"\",\"zerolinecolor\":\"white\",\"gridwidth\":2}},\"shapedefaults\":{\"line\":{\"color\":\"#2a3f5f\"}},\"annotationdefaults\":{\"arrowcolor\":\"#2a3f5f\",\"arrowhead\":0,\"arrowwidth\":1},\"geo\":{\"bgcolor\":\"white\",\"landcolor\":\"#E5ECF6\",\"subunitcolor\":\"white\",\"showland\":true,\"showlakes\":true,\"lakecolor\":\"white\"},\"title\":{\"x\":0.05},\"mapbox\":{\"style\":\"light\"}}},\"title\":{\"text\":\"FTSE100 Index - Candlestick Chart\"},\"xaxis\":{\"title\":{\"text\":\"Time\"}},\"yaxis\":{\"title\":{\"text\":\"Price\"}}},                        {\"responsive\": true}                    ).then(function(){\n",
              "                            \n",
              "var gd = document.getElementById('3c877537-940c-4753-8b02-136d85d24bd6');\n",
              "var x = new MutationObserver(function (mutations, observer) {{\n",
              "        var display = window.getComputedStyle(gd).display;\n",
              "        if (!display || display === 'none') {{\n",
              "            console.log([gd, 'removed!']);\n",
              "            Plotly.purge(gd);\n",
              "            observer.disconnect();\n",
              "        }}\n",
              "}});\n",
              "\n",
              "// Listen for the removal of the full notebook cells\n",
              "var notebookContainer = gd.closest('#notebook-container');\n",
              "if (notebookContainer) {{\n",
              "    x.observe(notebookContainer, {childList: true});\n",
              "}}\n",
              "\n",
              "// Listen for the clearing of the current output cell\n",
              "var outputEl = gd.closest('.output');\n",
              "if (outputEl) {{\n",
              "    x.observe(outputEl, {childList: true});\n",
              "}}\n",
              "\n",
              "                        })                };                            </script>        </div>\n",
              "</body>\n",
              "</html>"
            ]
          },
          "metadata": {}
        }
      ]
    },
    {
      "cell_type": "markdown",
      "source": [
        "*Moving Average*"
      ],
      "metadata": {
        "id": "-fAJQ1AsPqbL"
      }
    },
    {
      "cell_type": "code",
      "source": [
        "ma_fig = go.Figure()\n",
        "ma_fig.add_trace(go.Scatter(x=data.index, y=data['Moving Average'], mode='lines', name='Moving Average'))\n",
        "ma_fig.update_layout(title='FTSE100 Index - 20-Period Moving Average', xaxis_title='Time', yaxis_title='Price')\n",
        "ma_fig.show()"
      ],
      "metadata": {
        "colab": {
          "base_uri": "https://localhost:8080/",
          "height": 542
        },
        "id": "djKG0HgVPPik",
        "outputId": "3921f007-8d80-476d-f4bc-7d5738a25465"
      },
      "execution_count": 21,
      "outputs": [
        {
          "output_type": "display_data",
          "data": {
            "text/html": [
              "<html>\n",
              "<head><meta charset=\"utf-8\" /></head>\n",
              "<body>\n",
              "    <div>            <script src=\"https://cdnjs.cloudflare.com/ajax/libs/mathjax/2.7.5/MathJax.js?config=TeX-AMS-MML_SVG\"></script><script type=\"text/javascript\">if (window.MathJax && window.MathJax.Hub && window.MathJax.Hub.Config) {window.MathJax.Hub.Config({SVG: {font: \"STIX-Web\"}});}</script>                <script type=\"text/javascript\">window.PlotlyConfig = {MathJaxConfig: 'local'};</script>\n",
              "        <script charset=\"utf-8\" src=\"https://cdn.plot.ly/plotly-2.24.1.min.js\"></script>                <div id=\"059f15a3-9278-46f3-9e0c-0f6ebb3f480e\" class=\"plotly-graph-div\" style=\"height:525px; width:100%;\"></div>            <script type=\"text/javascript\">                                    window.PLOTLYENV=window.PLOTLYENV || {};                                    if (document.getElementById(\"059f15a3-9278-46f3-9e0c-0f6ebb3f480e\")) {                    Plotly.newPlot(                        \"059f15a3-9278-46f3-9e0c-0f6ebb3f480e\",                        [{\"mode\":\"lines\",\"name\":\"Moving Average\",\"x\":[\"2024-09-04T08:19:00+01:00\",\"2024-09-04T08:20:00+01:00\",\"2024-09-04T08:21:00+01:00\",\"2024-09-04T08:22:00+01:00\",\"2024-09-04T08:23:00+01:00\",\"2024-09-04T08:24:00+01:00\",\"2024-09-04T08:25:00+01:00\",\"2024-09-04T08:26:00+01:00\",\"2024-09-04T08:27:00+01:00\",\"2024-09-04T08:28:00+01:00\",\"2024-09-04T08:29:00+01:00\",\"2024-09-04T08:30:00+01:00\",\"2024-09-04T08:31:00+01:00\",\"2024-09-04T08:32:00+01:00\",\"2024-09-04T08:33:00+01:00\",\"2024-09-04T08:34:00+01:00\",\"2024-09-04T08:35:00+01:00\",\"2024-09-04T08:36:00+01:00\",\"2024-09-04T08:37:00+01:00\",\"2024-09-04T08:38:00+01:00\",\"2024-09-04T08:39:00+01:00\",\"2024-09-04T08:40:00+01:00\",\"2024-09-04T08:41:00+01:00\",\"2024-09-04T08:42:00+01:00\",\"2024-09-04T08:43:00+01:00\",\"2024-09-04T08:44:00+01:00\",\"2024-09-04T08:45:00+01:00\",\"2024-09-04T08:46:00+01:00\",\"2024-09-04T08:47:00+01:00\",\"2024-09-04T08:48:00+01:00\",\"2024-09-04T08:49:00+01:00\",\"2024-09-04T08:50:00+01:00\",\"2024-09-04T08:51:00+01:00\",\"2024-09-04T08:52:00+01:00\",\"2024-09-04T08:53:00+01:00\",\"2024-09-04T08:54:00+01:00\",\"2024-09-04T08:55:00+01:00\",\"2024-09-04T08:56:00+01:00\",\"2024-09-04T08:57:00+01:00\",\"2024-09-04T08:58:00+01:00\",\"2024-09-04T08:59:00+01:00\",\"2024-09-04T09:00:00+01:00\",\"2024-09-04T09:01:00+01:00\",\"2024-09-04T09:02:00+01:00\",\"2024-09-04T09:03:00+01:00\",\"2024-09-04T09:04:00+01:00\",\"2024-09-04T09:05:00+01:00\",\"2024-09-04T09:06:00+01:00\",\"2024-09-04T09:07:00+01:00\",\"2024-09-04T09:08:00+01:00\",\"2024-09-04T09:09:00+01:00\",\"2024-09-04T09:10:00+01:00\",\"2024-09-04T09:11:00+01:00\",\"2024-09-04T09:12:00+01:00\",\"2024-09-04T09:13:00+01:00\",\"2024-09-04T09:14:00+01:00\",\"2024-09-04T09:15:00+01:00\",\"2024-09-04T09:16:00+01:00\",\"2024-09-04T09:17:00+01:00\",\"2024-09-04T09:18:00+01:00\",\"2024-09-04T09:19:00+01:00\",\"2024-09-04T09:20:00+01:00\",\"2024-09-04T09:21:00+01:00\",\"2024-09-04T09:22:00+01:00\",\"2024-09-04T09:23:00+01:00\",\"2024-09-04T09:24:00+01:00\",\"2024-09-04T09:25:00+01:00\",\"2024-09-04T09:26:00+01:00\",\"2024-09-04T09:27:00+01:00\",\"2024-09-04T09:28:00+01:00\",\"2024-09-04T09:29:00+01:00\",\"2024-09-04T09:30:00+01:00\",\"2024-09-04T09:31:00+01:00\",\"2024-09-04T09:32:00+01:00\",\"2024-09-04T09:33:00+01:00\",\"2024-09-04T09:34:00+01:00\",\"2024-09-04T09:35:00+01:00\",\"2024-09-04T09:36:00+01:00\",\"2024-09-04T09:37:00+01:00\",\"2024-09-04T09:38:00+01:00\",\"2024-09-04T09:39:00+01:00\",\"2024-09-04T09:40:00+01:00\",\"2024-09-04T09:41:00+01:00\",\"2024-09-04T09:42:00+01:00\",\"2024-09-04T09:43:00+01:00\",\"2024-09-04T09:44:00+01:00\",\"2024-09-04T09:45:00+01:00\",\"2024-09-04T09:46:00+01:00\",\"2024-09-04T09:47:00+01:00\",\"2024-09-04T09:48:00+01:00\",\"2024-09-04T09:49:00+01:00\",\"2024-09-04T09:50:00+01:00\",\"2024-09-04T09:51:00+01:00\",\"2024-09-04T09:52:00+01:00\",\"2024-09-04T09:53:00+01:00\",\"2024-09-04T09:54:00+01:00\",\"2024-09-04T09:55:00+01:00\",\"2024-09-04T09:56:00+01:00\",\"2024-09-04T09:57:00+01:00\",\"2024-09-04T09:58:00+01:00\",\"2024-09-04T09:59:00+01:00\",\"2024-09-04T10:00:00+01:00\",\"2024-09-04T10:01:00+01:00\",\"2024-09-04T10:02:00+01:00\",\"2024-09-04T10:03:00+01:00\",\"2024-09-04T10:04:00+01:00\",\"2024-09-04T10:05:00+01:00\",\"2024-09-04T10:06:00+01:00\",\"2024-09-04T10:07:00+01:00\",\"2024-09-04T10:08:00+01:00\",\"2024-09-04T10:09:00+01:00\",\"2024-09-04T10:10:00+01:00\",\"2024-09-04T10:11:00+01:00\",\"2024-09-04T10:12:00+01:00\",\"2024-09-04T10:13:00+01:00\",\"2024-09-04T10:14:00+01:00\",\"2024-09-04T10:15:00+01:00\",\"2024-09-04T10:16:00+01:00\",\"2024-09-04T10:17:00+01:00\",\"2024-09-04T10:18:00+01:00\",\"2024-09-04T10:19:00+01:00\",\"2024-09-04T10:20:00+01:00\",\"2024-09-04T10:21:00+01:00\",\"2024-09-04T10:22:00+01:00\",\"2024-09-04T10:23:00+01:00\",\"2024-09-04T10:24:00+01:00\",\"2024-09-04T10:25:00+01:00\",\"2024-09-04T10:26:00+01:00\",\"2024-09-04T10:27:00+01:00\",\"2024-09-04T10:28:00+01:00\",\"2024-09-04T10:29:00+01:00\",\"2024-09-04T10:30:00+01:00\",\"2024-09-04T10:31:00+01:00\",\"2024-09-04T10:32:00+01:00\",\"2024-09-04T10:33:00+01:00\",\"2024-09-04T10:34:00+01:00\",\"2024-09-04T10:35:00+01:00\",\"2024-09-04T10:36:00+01:00\",\"2024-09-04T10:37:00+01:00\",\"2024-09-04T10:38:00+01:00\",\"2024-09-04T10:39:00+01:00\",\"2024-09-04T10:40:00+01:00\",\"2024-09-04T10:41:00+01:00\",\"2024-09-04T10:42:00+01:00\",\"2024-09-04T10:43:00+01:00\",\"2024-09-04T10:44:00+01:00\",\"2024-09-04T10:45:00+01:00\",\"2024-09-04T10:46:00+01:00\",\"2024-09-04T10:47:00+01:00\",\"2024-09-04T10:48:00+01:00\",\"2024-09-04T10:49:00+01:00\",\"2024-09-04T10:50:00+01:00\",\"2024-09-04T10:51:00+01:00\",\"2024-09-04T10:52:00+01:00\",\"2024-09-04T10:53:00+01:00\",\"2024-09-04T10:54:00+01:00\",\"2024-09-04T10:55:00+01:00\",\"2024-09-04T10:56:00+01:00\",\"2024-09-04T10:57:00+01:00\",\"2024-09-04T10:58:00+01:00\",\"2024-09-04T10:59:00+01:00\",\"2024-09-04T11:00:00+01:00\",\"2024-09-04T11:01:00+01:00\",\"2024-09-04T11:02:00+01:00\",\"2024-09-04T11:03:00+01:00\",\"2024-09-04T11:04:00+01:00\",\"2024-09-04T11:05:00+01:00\",\"2024-09-04T11:06:00+01:00\",\"2024-09-04T11:07:00+01:00\",\"2024-09-04T11:08:00+01:00\",\"2024-09-04T11:09:00+01:00\",\"2024-09-04T11:10:00+01:00\",\"2024-09-04T11:11:00+01:00\",\"2024-09-04T11:12:00+01:00\",\"2024-09-04T11:13:00+01:00\",\"2024-09-04T11:14:00+01:00\",\"2024-09-04T11:15:00+01:00\",\"2024-09-04T11:16:00+01:00\",\"2024-09-04T11:17:00+01:00\",\"2024-09-04T11:18:00+01:00\",\"2024-09-04T11:19:00+01:00\",\"2024-09-04T11:20:00+01:00\",\"2024-09-04T11:21:00+01:00\",\"2024-09-04T11:22:00+01:00\",\"2024-09-04T11:23:00+01:00\",\"2024-09-04T11:24:00+01:00\",\"2024-09-04T11:25:00+01:00\",\"2024-09-04T11:26:00+01:00\",\"2024-09-04T11:27:00+01:00\",\"2024-09-04T11:28:00+01:00\",\"2024-09-04T11:29:00+01:00\",\"2024-09-04T11:30:00+01:00\",\"2024-09-04T11:31:00+01:00\",\"2024-09-04T11:32:00+01:00\",\"2024-09-04T11:33:00+01:00\",\"2024-09-04T11:34:00+01:00\",\"2024-09-04T11:35:00+01:00\",\"2024-09-04T11:36:00+01:00\",\"2024-09-04T11:37:00+01:00\",\"2024-09-04T11:38:00+01:00\",\"2024-09-04T11:39:00+01:00\",\"2024-09-04T11:40:00+01:00\",\"2024-09-04T11:41:00+01:00\",\"2024-09-04T11:42:00+01:00\",\"2024-09-04T11:43:00+01:00\",\"2024-09-04T11:44:00+01:00\",\"2024-09-04T11:45:00+01:00\",\"2024-09-04T11:46:00+01:00\",\"2024-09-04T11:47:00+01:00\",\"2024-09-04T11:48:00+01:00\",\"2024-09-04T11:49:00+01:00\",\"2024-09-04T11:50:00+01:00\",\"2024-09-04T11:51:00+01:00\",\"2024-09-04T11:52:00+01:00\",\"2024-09-04T11:53:00+01:00\",\"2024-09-04T11:54:00+01:00\",\"2024-09-04T11:55:00+01:00\",\"2024-09-04T11:56:00+01:00\",\"2024-09-04T11:57:00+01:00\",\"2024-09-04T11:58:00+01:00\",\"2024-09-04T11:59:00+01:00\",\"2024-09-04T12:00:00+01:00\",\"2024-09-04T12:01:00+01:00\",\"2024-09-04T12:02:00+01:00\",\"2024-09-04T12:03:00+01:00\",\"2024-09-04T12:04:00+01:00\",\"2024-09-04T12:05:00+01:00\",\"2024-09-04T12:06:00+01:00\",\"2024-09-04T12:07:00+01:00\",\"2024-09-04T12:08:00+01:00\",\"2024-09-04T12:09:00+01:00\",\"2024-09-04T12:10:00+01:00\",\"2024-09-04T12:11:00+01:00\",\"2024-09-04T12:12:00+01:00\",\"2024-09-04T12:13:00+01:00\",\"2024-09-04T12:14:00+01:00\",\"2024-09-04T12:15:00+01:00\",\"2024-09-04T12:16:00+01:00\",\"2024-09-04T12:17:00+01:00\",\"2024-09-04T12:18:00+01:00\",\"2024-09-04T12:19:00+01:00\",\"2024-09-04T12:20:00+01:00\",\"2024-09-04T12:21:00+01:00\",\"2024-09-04T12:22:00+01:00\",\"2024-09-04T12:23:00+01:00\",\"2024-09-04T12:24:00+01:00\",\"2024-09-04T12:25:00+01:00\",\"2024-09-04T12:26:00+01:00\",\"2024-09-04T12:27:00+01:00\",\"2024-09-04T12:28:00+01:00\",\"2024-09-04T12:29:00+01:00\",\"2024-09-04T12:30:00+01:00\",\"2024-09-04T12:31:00+01:00\",\"2024-09-04T12:32:00+01:00\",\"2024-09-04T12:33:00+01:00\",\"2024-09-04T12:34:00+01:00\",\"2024-09-04T12:35:00+01:00\",\"2024-09-04T12:36:00+01:00\",\"2024-09-04T12:37:00+01:00\",\"2024-09-04T12:38:00+01:00\",\"2024-09-04T12:39:00+01:00\",\"2024-09-04T12:40:00+01:00\",\"2024-09-04T12:41:00+01:00\",\"2024-09-04T12:42:00+01:00\",\"2024-09-04T12:43:00+01:00\",\"2024-09-04T12:44:00+01:00\",\"2024-09-04T12:45:00+01:00\",\"2024-09-04T12:46:00+01:00\",\"2024-09-04T12:47:00+01:00\",\"2024-09-04T12:48:00+01:00\",\"2024-09-04T12:49:00+01:00\",\"2024-09-04T12:50:00+01:00\",\"2024-09-04T12:51:00+01:00\",\"2024-09-04T12:52:00+01:00\",\"2024-09-04T12:53:00+01:00\",\"2024-09-04T12:54:00+01:00\",\"2024-09-04T12:55:00+01:00\",\"2024-09-04T12:56:00+01:00\",\"2024-09-04T12:57:00+01:00\",\"2024-09-04T12:58:00+01:00\",\"2024-09-04T12:59:00+01:00\",\"2024-09-04T13:00:00+01:00\",\"2024-09-04T13:01:00+01:00\",\"2024-09-04T13:02:00+01:00\",\"2024-09-04T13:03:00+01:00\",\"2024-09-04T13:04:00+01:00\",\"2024-09-04T13:05:00+01:00\",\"2024-09-04T13:06:00+01:00\",\"2024-09-04T13:07:00+01:00\",\"2024-09-04T13:08:00+01:00\",\"2024-09-04T13:09:00+01:00\",\"2024-09-04T13:10:00+01:00\",\"2024-09-04T13:11:00+01:00\",\"2024-09-04T13:12:00+01:00\",\"2024-09-04T13:13:00+01:00\",\"2024-09-04T13:14:00+01:00\",\"2024-09-04T13:15:00+01:00\",\"2024-09-04T13:16:00+01:00\",\"2024-09-04T13:17:00+01:00\",\"2024-09-04T13:18:00+01:00\",\"2024-09-04T13:19:00+01:00\",\"2024-09-04T13:20:00+01:00\",\"2024-09-04T13:21:00+01:00\",\"2024-09-04T13:22:00+01:00\",\"2024-09-04T13:23:00+01:00\",\"2024-09-04T13:24:00+01:00\",\"2024-09-04T13:25:00+01:00\",\"2024-09-04T13:26:00+01:00\",\"2024-09-04T13:27:00+01:00\",\"2024-09-04T13:28:00+01:00\",\"2024-09-04T13:29:00+01:00\",\"2024-09-04T13:30:00+01:00\",\"2024-09-04T13:31:00+01:00\",\"2024-09-04T13:32:00+01:00\",\"2024-09-04T13:33:00+01:00\",\"2024-09-04T13:34:00+01:00\",\"2024-09-04T13:35:00+01:00\",\"2024-09-04T13:36:00+01:00\",\"2024-09-04T13:37:00+01:00\",\"2024-09-04T13:38:00+01:00\",\"2024-09-04T13:39:00+01:00\",\"2024-09-04T13:40:00+01:00\",\"2024-09-04T13:41:00+01:00\",\"2024-09-04T13:42:00+01:00\",\"2024-09-04T13:43:00+01:00\",\"2024-09-04T13:44:00+01:00\",\"2024-09-04T13:45:00+01:00\",\"2024-09-04T13:46:00+01:00\",\"2024-09-04T13:47:00+01:00\",\"2024-09-04T13:48:00+01:00\",\"2024-09-04T13:49:00+01:00\",\"2024-09-04T13:50:00+01:00\",\"2024-09-04T13:51:00+01:00\",\"2024-09-04T13:52:00+01:00\",\"2024-09-04T13:53:00+01:00\",\"2024-09-04T13:54:00+01:00\",\"2024-09-04T13:55:00+01:00\",\"2024-09-04T13:56:00+01:00\",\"2024-09-04T13:57:00+01:00\",\"2024-09-04T13:58:00+01:00\",\"2024-09-04T13:59:00+01:00\",\"2024-09-04T14:00:00+01:00\",\"2024-09-04T14:01:00+01:00\",\"2024-09-04T14:02:00+01:00\",\"2024-09-04T14:03:00+01:00\",\"2024-09-04T14:04:00+01:00\",\"2024-09-04T14:05:00+01:00\",\"2024-09-04T14:06:00+01:00\",\"2024-09-04T14:07:00+01:00\",\"2024-09-04T14:08:00+01:00\",\"2024-09-04T14:09:00+01:00\",\"2024-09-04T14:10:00+01:00\",\"2024-09-04T14:11:00+01:00\",\"2024-09-04T14:12:00+01:00\",\"2024-09-04T14:13:00+01:00\",\"2024-09-04T14:14:00+01:00\",\"2024-09-04T14:15:00+01:00\",\"2024-09-04T14:16:00+01:00\",\"2024-09-04T14:17:00+01:00\",\"2024-09-04T14:18:00+01:00\",\"2024-09-04T14:19:00+01:00\",\"2024-09-04T14:20:00+01:00\",\"2024-09-04T14:21:00+01:00\",\"2024-09-04T14:22:00+01:00\",\"2024-09-04T14:23:00+01:00\",\"2024-09-04T14:24:00+01:00\",\"2024-09-04T14:25:00+01:00\",\"2024-09-04T14:26:00+01:00\",\"2024-09-04T14:27:00+01:00\",\"2024-09-04T14:28:00+01:00\",\"2024-09-04T14:29:00+01:00\",\"2024-09-04T14:30:00+01:00\",\"2024-09-04T14:31:00+01:00\",\"2024-09-04T14:32:00+01:00\",\"2024-09-04T14:33:00+01:00\",\"2024-09-04T14:34:00+01:00\",\"2024-09-04T14:35:00+01:00\",\"2024-09-04T14:36:00+01:00\",\"2024-09-04T14:37:00+01:00\",\"2024-09-04T14:38:00+01:00\",\"2024-09-04T14:39:00+01:00\",\"2024-09-04T14:40:00+01:00\",\"2024-09-04T14:41:00+01:00\",\"2024-09-04T14:42:00+01:00\",\"2024-09-04T14:43:00+01:00\",\"2024-09-04T14:44:00+01:00\",\"2024-09-04T14:45:00+01:00\",\"2024-09-04T14:46:00+01:00\",\"2024-09-04T14:47:00+01:00\",\"2024-09-04T14:48:00+01:00\",\"2024-09-04T14:49:00+01:00\",\"2024-09-04T14:50:00+01:00\",\"2024-09-04T14:51:00+01:00\",\"2024-09-04T14:52:00+01:00\",\"2024-09-04T14:53:00+01:00\",\"2024-09-04T14:54:00+01:00\",\"2024-09-04T14:55:00+01:00\",\"2024-09-04T14:56:00+01:00\",\"2024-09-04T14:57:00+01:00\",\"2024-09-04T14:58:00+01:00\",\"2024-09-04T14:59:00+01:00\",\"2024-09-04T15:00:00+01:00\",\"2024-09-04T15:01:00+01:00\",\"2024-09-04T15:02:00+01:00\",\"2024-09-04T15:03:00+01:00\",\"2024-09-04T15:04:00+01:00\",\"2024-09-04T15:05:00+01:00\",\"2024-09-04T15:06:00+01:00\",\"2024-09-04T15:07:00+01:00\",\"2024-09-04T15:08:00+01:00\",\"2024-09-04T15:09:00+01:00\",\"2024-09-04T15:10:00+01:00\",\"2024-09-04T15:11:00+01:00\",\"2024-09-04T15:12:00+01:00\",\"2024-09-04T15:13:00+01:00\",\"2024-09-04T15:14:00+01:00\",\"2024-09-04T15:15:00+01:00\",\"2024-09-04T15:16:00+01:00\",\"2024-09-04T15:17:00+01:00\",\"2024-09-04T15:18:00+01:00\",\"2024-09-04T15:19:00+01:00\",\"2024-09-04T15:20:00+01:00\",\"2024-09-04T15:21:00+01:00\",\"2024-09-04T15:22:00+01:00\",\"2024-09-04T15:23:00+01:00\",\"2024-09-04T15:24:00+01:00\",\"2024-09-04T15:25:00+01:00\",\"2024-09-04T15:26:00+01:00\",\"2024-09-04T15:27:00+01:00\",\"2024-09-04T15:28:00+01:00\",\"2024-09-04T15:29:00+01:00\",\"2024-09-04T15:30:00+01:00\",\"2024-09-04T15:31:00+01:00\",\"2024-09-04T15:32:00+01:00\",\"2024-09-04T15:33:00+01:00\",\"2024-09-04T15:34:00+01:00\",\"2024-09-04T15:35:00+01:00\",\"2024-09-04T15:36:00+01:00\",\"2024-09-04T15:37:00+01:00\",\"2024-09-04T15:38:00+01:00\",\"2024-09-04T15:39:00+01:00\",\"2024-09-04T15:40:00+01:00\",\"2024-09-04T15:41:00+01:00\",\"2024-09-04T15:42:00+01:00\",\"2024-09-04T15:43:00+01:00\",\"2024-09-04T15:44:00+01:00\",\"2024-09-04T15:45:00+01:00\",\"2024-09-04T15:46:00+01:00\",\"2024-09-04T15:47:00+01:00\",\"2024-09-04T15:48:00+01:00\",\"2024-09-04T15:49:00+01:00\",\"2024-09-04T15:50:00+01:00\",\"2024-09-04T15:51:00+01:00\",\"2024-09-04T15:52:00+01:00\",\"2024-09-04T15:53:00+01:00\",\"2024-09-04T15:54:00+01:00\",\"2024-09-04T15:55:00+01:00\",\"2024-09-04T15:56:00+01:00\",\"2024-09-04T15:57:00+01:00\",\"2024-09-04T15:58:00+01:00\",\"2024-09-04T15:59:00+01:00\",\"2024-09-04T16:00:00+01:00\",\"2024-09-04T16:01:00+01:00\",\"2024-09-04T16:02:00+01:00\",\"2024-09-04T16:03:00+01:00\",\"2024-09-04T16:04:00+01:00\",\"2024-09-04T16:05:00+01:00\",\"2024-09-04T16:06:00+01:00\",\"2024-09-04T16:07:00+01:00\",\"2024-09-04T16:08:00+01:00\",\"2024-09-04T16:09:00+01:00\",\"2024-09-04T16:10:00+01:00\",\"2024-09-04T16:11:00+01:00\",\"2024-09-04T16:12:00+01:00\",\"2024-09-04T16:13:00+01:00\",\"2024-09-04T16:14:00+01:00\",\"2024-09-04T16:15:00+01:00\",\"2024-09-04T16:16:00+01:00\",\"2024-09-04T16:17:00+01:00\",\"2024-09-04T16:18:00+01:00\",\"2024-09-04T16:19:00+01:00\",\"2024-09-04T16:20:00+01:00\",\"2024-09-04T16:21:00+01:00\",\"2024-09-04T16:22:00+01:00\",\"2024-09-04T16:23:00+01:00\",\"2024-09-04T16:24:00+01:00\",\"2024-09-04T16:25:00+01:00\",\"2024-09-04T16:26:00+01:00\",\"2024-09-04T16:27:00+01:00\",\"2024-09-04T16:28:00+01:00\"],\"y\":[8241.7625,8243.310986328124,8244.39248046875,8245.327001953125,8246.211962890626,8246.98994140625,8247.70693359375,8248.007470703125,8247.891943359375,8247.5349609375,8247.127001953126,8246.68701171875,8246.24951171875,8245.722509765625,8244.84453125,8244.143994140624,8243.18349609375,8242.28798828125,8241.502978515626,8240.7705078125,8239.9080078125,8239.188525390626,8238.447509765625,8238.026513671875,8237.659033203125,8237.264013671875,8236.85703125,8236.618017578125,8236.61650390625,8236.822998046875,8237.12548828125,8237.3919921875,8237.552978515625,8237.727978515624,8237.874462890624,8238.039990234374,8238.286474609375,8238.311474609374,8238.31748046875,8238.208447265624,8238.049951171875,8237.979931640624,8237.892919921875,8237.79638671875,8237.630908203126,8237.48642578125,8237.2859375,8237.137939453125,8236.824462890625,8236.286962890625,8235.511474609375,8234.69296875,8234.114990234375,8233.526953125,8233.011962890625,8232.419970703126,8231.86650390625,8231.41103515625,8230.93056640625,8230.545068359375,8230.419091796875,8230.3380859375,8230.238623046875,8229.992626953124,8229.806591796874,8229.51259765625,8229.505078125,8229.619091796874,8229.897607421875,8230.172607421875,8230.66259765625,8231.590087890625,8232.573095703125,8233.4861328125,8234.384130859375,8235.34609375,8236.23857421875,8237.023583984375,8237.644580078126,8238.014599609374,8238.089111328125,8237.966650390625,8237.67861328125,8237.43759765625,8237.1361328125,8236.850146484376,8236.52265625,8236.051611328125,8235.540087890626,8235.03408203125,8234.400048828125,8233.4310546875,8232.30654296875,8231.3955078125,8230.543017578126,8229.700537109375,8229.003515625,8228.27900390625,8227.777001953125,8227.41748046875,8227.115478515625,8226.88046875,8226.9,8227.030029296875,8227.239013671875,8227.536474609375,8227.728466796874,8227.93046875,8228.115966796875,8228.38447265625,8228.708984375,8229.00146484375,8229.249462890624,8229.2669921875,8229.24248046875,8229.139501953125,8229.016015625,8229.17802734375,8229.355517578126,8229.676025390625,8230.081982421874,8230.49599609375,8230.835498046876,8231.053466796875,8231.146484375,8231.247998046874,8231.406494140625,8231.59951171875,8231.8490234375,8232.130029296875,8232.459033203126,8232.760546875,8233.06904296875,8233.492529296875,8233.95205078125,8234.505029296875,8235.0775390625,8235.575537109375,8236.04453125,8236.41201171875,8236.77802734375,8237.089013671875,8237.433984375,8237.801513671875,8238.20849609375,8238.588525390625,8239.093017578125,8239.638525390625,8240.226025390624,8240.793505859376,8241.42001953125,8242.055029296875,8242.7400390625,8243.3240234375,8243.823486328125,8244.294482421876,8244.72099609375,8245.086962890626,8245.38046875,8245.602978515624,8245.79248046875,8246.05146484375,8246.268505859374,8246.589013671875,8246.91201171875,8247.09150390625,8247.15849609375,8247.1759765625,8247.108447265626,8247.041943359374,8246.88544921875,8246.732958984376,8246.57294921875,8246.365478515625,8246.114013671875,8245.77001953125,8245.356005859376,8244.981005859376,8244.65498046875,8244.42548828125,8244.231494140626,8244.078515625,8243.914501953124,8243.6884765625,8243.68349609375,8243.95146484375,8244.211962890626,8244.45546875,8244.56650390625,8244.714501953125,8244.80146484375,8244.98544921875,8245.053955078125,8245.23994140625,8245.500927734374,8245.87890625,8246.44990234375,8246.980419921874,8247.4859375,8247.83642578125,8248.134423828125,8248.347412109375,8248.51337890625,8248.710888671874,8248.791845703125,8248.8228515625,8248.78037109375,8248.63037109375,8248.612841796876,8248.621337890625,8248.715869140626,8248.73935546875,8248.832373046875,8248.98486328125,8249.162841796875,8249.302880859375,8249.302880859375,8249.318359375,8249.3048828125,8249.40390625,8249.57490234375,8249.717919921875,8249.845947265625,8249.93994140625,8249.971484375,8249.914990234374,8249.956494140624,8250.139990234375,8250.3740234375,8250.635546875,8250.913525390624,8251.28203125,8251.6115234375,8251.9365234375,8252.19052734375,8252.316015625,8252.4150390625,8252.487548828125,8252.4455078125,8252.435498046874,8252.4080078125,8252.461962890626,8252.516943359375,8252.570458984375,8252.554931640625,8252.483935546876,8252.3369140625,8252.208935546874,8252.067919921876,8251.8458984375,8251.625927734374,8251.367431640625,8251.134912109375,8250.8939453125,8250.74697265625,8250.78544921875,8250.994921875,8251.3439453125,8251.786474609375,8252.231494140626,8252.669482421876,8253.0125,8253.318505859375,8253.56201171875,8253.79052734375,8254.059521484374,8254.337548828125,8254.595556640625,8254.9265625,8255.21357421875,8255.4560546875,8255.594580078125,8255.722607421874,8255.785107421874,8255.83310546875,8255.7791015625,8255.642626953126,8255.43359375,8255.32607421875,8255.169580078125,8254.9541015625,8254.786083984374,8254.744580078124,8254.7720703125,8254.962060546875,8255.2310546875,8255.52705078125,8255.842529296875,8256.0990234375,8256.42705078125,8256.760546875,8257.183544921874,8257.562548828126,8257.9115234375,8258.24951171875,8258.51953125,8258.793017578126,8258.97001953125,8259.085009765626,8259.25498046875,8259.451953125,8259.601953125,8259.71298828125,8259.80849609375,8259.825,8259.756494140625,8259.67099609375,8259.452490234375,8259.1759765625,8258.98896484375,8258.877490234376,8258.67548828125,8258.465966796875,8258.218994140625,8257.893505859374,8257.65751953125,8257.351513671874,8257.04453125,8256.7275390625,8256.4240234375,8256.201513671875,8255.99501953125,8255.83349609375,8255.74296875,8255.627978515626,8255.581982421874,8255.581494140624,8255.635498046875,8255.596533203125,8255.34951171875,8255.10947265625,8254.927978515625,8254.84599609375,8254.87197265625,8254.98798828125,8255.114453125,8255.346435546875,8255.707421875,8256.125439453124,8256.546484375,8256.93701171875,8257.262548828125,8257.584033203126,8257.78154296875,8257.996533203124,8258.171533203125,8258.35703125,8258.5435546875,8258.722021484375,8258.9400390625,8259.099560546874,8259.223046875,8259.364013671875,8259.4625,8259.43798828125,8259.31201171875,8259.018017578124,8258.660546875,8258.3890625,8258.062548828126,8257.545068359375,8257.037548828124,8256.542578125,8256.073583984375,8255.62509765625,8255.106591796875,8254.54658203125,8254.05107421875,8253.7380859375,8253.3685546875,8253.0060546875,8252.9515625,8253.058056640624,8253.2505859375,8253.6595703125,8254.249072265626,8255.048583984375,8255.978076171876,8256.7220703125,8257.563037109376,8258.605517578126,8259.693994140625,8260.78896484375,8261.865478515625,8262.795947265626,8263.78896484375,8264.7984375,8265.7904296875,8266.750927734374,8267.929443359375,8269.00244140625,8269.917919921874,8270.717431640625,8271.34990234375,8271.860400390626,8272.165380859375,8272.1458984375,8272.115869140625,8272.229345703125,8272.2013671875,8272.208349609375,8271.195849609376,8269.96435546875,8269.118359375,8268.369384765625,8267.564404296874,8266.763427734375,8266.007421875,8265.3208984375,8264.689892578124,8264.29990234375,8263.988916015625,8263.55341796875,8263.147412109374,8262.646435546874,8262.316455078126,8262.30244140625,8262.270947265624,8261.866455078125,8261.34345703125,8260.712451171876,8261.20947265625,8261.79599609375,8262.215966796875,8262.62744140625,8263.084912109374,8263.356396484374,8263.52138671875,8263.544921875,8263.471435546875,8263.44443359375,8263.28193359375,8263.1154296875,8262.936962890624,8262.89345703125,8262.842431640625,8262.691943359376,8262.537939453125,8262.649462890626,8262.9224609375,8263.27998046875,8263.4919921875,8263.7794921875,8263.9,8264.142529296874,8264.59501953125,8265.251513671876,8265.904541015625,8266.60703125,8267.23701171875,8267.62900390625,8267.9919921875,8268.431982421875,8269.014453125,8269.5724609375,8270.153466796875,8270.769970703124,8271.2669921875,8271.764453125,8272.203466796875,8272.666455078124,8273.287939453125,8273.905908203125,8274.55439453125,8275.131884765626,8275.5208984375,8275.82890625,8276.20390625,8276.550927734375,8276.824951171875,8277.1609375,8277.4234375,8277.670947265626,8277.760986328125,8277.78544921875,8277.641455078125,8277.3109375,8277.037451171875,8276.74296875,8276.508935546875,8276.283447265625,8275.865966796875,8275.431005859375,8274.955517578124,8274.451513671875,8273.94501953125,8273.4955078125,8272.9009765625,8272.30244140625,8271.70693359375],\"type\":\"scatter\"}],                        {\"template\":{\"data\":{\"histogram2dcontour\":[{\"type\":\"histogram2dcontour\",\"colorbar\":{\"outlinewidth\":0,\"ticks\":\"\"},\"colorscale\":[[0.0,\"#0d0887\"],[0.1111111111111111,\"#46039f\"],[0.2222222222222222,\"#7201a8\"],[0.3333333333333333,\"#9c179e\"],[0.4444444444444444,\"#bd3786\"],[0.5555555555555556,\"#d8576b\"],[0.6666666666666666,\"#ed7953\"],[0.7777777777777778,\"#fb9f3a\"],[0.8888888888888888,\"#fdca26\"],[1.0,\"#f0f921\"]]}],\"choropleth\":[{\"type\":\"choropleth\",\"colorbar\":{\"outlinewidth\":0,\"ticks\":\"\"}}],\"histogram2d\":[{\"type\":\"histogram2d\",\"colorbar\":{\"outlinewidth\":0,\"ticks\":\"\"},\"colorscale\":[[0.0,\"#0d0887\"],[0.1111111111111111,\"#46039f\"],[0.2222222222222222,\"#7201a8\"],[0.3333333333333333,\"#9c179e\"],[0.4444444444444444,\"#bd3786\"],[0.5555555555555556,\"#d8576b\"],[0.6666666666666666,\"#ed7953\"],[0.7777777777777778,\"#fb9f3a\"],[0.8888888888888888,\"#fdca26\"],[1.0,\"#f0f921\"]]}],\"heatmap\":[{\"type\":\"heatmap\",\"colorbar\":{\"outlinewidth\":0,\"ticks\":\"\"},\"colorscale\":[[0.0,\"#0d0887\"],[0.1111111111111111,\"#46039f\"],[0.2222222222222222,\"#7201a8\"],[0.3333333333333333,\"#9c179e\"],[0.4444444444444444,\"#bd3786\"],[0.5555555555555556,\"#d8576b\"],[0.6666666666666666,\"#ed7953\"],[0.7777777777777778,\"#fb9f3a\"],[0.8888888888888888,\"#fdca26\"],[1.0,\"#f0f921\"]]}],\"heatmapgl\":[{\"type\":\"heatmapgl\",\"colorbar\":{\"outlinewidth\":0,\"ticks\":\"\"},\"colorscale\":[[0.0,\"#0d0887\"],[0.1111111111111111,\"#46039f\"],[0.2222222222222222,\"#7201a8\"],[0.3333333333333333,\"#9c179e\"],[0.4444444444444444,\"#bd3786\"],[0.5555555555555556,\"#d8576b\"],[0.6666666666666666,\"#ed7953\"],[0.7777777777777778,\"#fb9f3a\"],[0.8888888888888888,\"#fdca26\"],[1.0,\"#f0f921\"]]}],\"contourcarpet\":[{\"type\":\"contourcarpet\",\"colorbar\":{\"outlinewidth\":0,\"ticks\":\"\"}}],\"contour\":[{\"type\":\"contour\",\"colorbar\":{\"outlinewidth\":0,\"ticks\":\"\"},\"colorscale\":[[0.0,\"#0d0887\"],[0.1111111111111111,\"#46039f\"],[0.2222222222222222,\"#7201a8\"],[0.3333333333333333,\"#9c179e\"],[0.4444444444444444,\"#bd3786\"],[0.5555555555555556,\"#d8576b\"],[0.6666666666666666,\"#ed7953\"],[0.7777777777777778,\"#fb9f3a\"],[0.8888888888888888,\"#fdca26\"],[1.0,\"#f0f921\"]]}],\"surface\":[{\"type\":\"surface\",\"colorbar\":{\"outlinewidth\":0,\"ticks\":\"\"},\"colorscale\":[[0.0,\"#0d0887\"],[0.1111111111111111,\"#46039f\"],[0.2222222222222222,\"#7201a8\"],[0.3333333333333333,\"#9c179e\"],[0.4444444444444444,\"#bd3786\"],[0.5555555555555556,\"#d8576b\"],[0.6666666666666666,\"#ed7953\"],[0.7777777777777778,\"#fb9f3a\"],[0.8888888888888888,\"#fdca26\"],[1.0,\"#f0f921\"]]}],\"mesh3d\":[{\"type\":\"mesh3d\",\"colorbar\":{\"outlinewidth\":0,\"ticks\":\"\"}}],\"scatter\":[{\"fillpattern\":{\"fillmode\":\"overlay\",\"size\":10,\"solidity\":0.2},\"type\":\"scatter\"}],\"parcoords\":[{\"type\":\"parcoords\",\"line\":{\"colorbar\":{\"outlinewidth\":0,\"ticks\":\"\"}}}],\"scatterpolargl\":[{\"type\":\"scatterpolargl\",\"marker\":{\"colorbar\":{\"outlinewidth\":0,\"ticks\":\"\"}}}],\"bar\":[{\"error_x\":{\"color\":\"#2a3f5f\"},\"error_y\":{\"color\":\"#2a3f5f\"},\"marker\":{\"line\":{\"color\":\"#E5ECF6\",\"width\":0.5},\"pattern\":{\"fillmode\":\"overlay\",\"size\":10,\"solidity\":0.2}},\"type\":\"bar\"}],\"scattergeo\":[{\"type\":\"scattergeo\",\"marker\":{\"colorbar\":{\"outlinewidth\":0,\"ticks\":\"\"}}}],\"scatterpolar\":[{\"type\":\"scatterpolar\",\"marker\":{\"colorbar\":{\"outlinewidth\":0,\"ticks\":\"\"}}}],\"histogram\":[{\"marker\":{\"pattern\":{\"fillmode\":\"overlay\",\"size\":10,\"solidity\":0.2}},\"type\":\"histogram\"}],\"scattergl\":[{\"type\":\"scattergl\",\"marker\":{\"colorbar\":{\"outlinewidth\":0,\"ticks\":\"\"}}}],\"scatter3d\":[{\"type\":\"scatter3d\",\"line\":{\"colorbar\":{\"outlinewidth\":0,\"ticks\":\"\"}},\"marker\":{\"colorbar\":{\"outlinewidth\":0,\"ticks\":\"\"}}}],\"scattermapbox\":[{\"type\":\"scattermapbox\",\"marker\":{\"colorbar\":{\"outlinewidth\":0,\"ticks\":\"\"}}}],\"scatterternary\":[{\"type\":\"scatterternary\",\"marker\":{\"colorbar\":{\"outlinewidth\":0,\"ticks\":\"\"}}}],\"scattercarpet\":[{\"type\":\"scattercarpet\",\"marker\":{\"colorbar\":{\"outlinewidth\":0,\"ticks\":\"\"}}}],\"carpet\":[{\"aaxis\":{\"endlinecolor\":\"#2a3f5f\",\"gridcolor\":\"white\",\"linecolor\":\"white\",\"minorgridcolor\":\"white\",\"startlinecolor\":\"#2a3f5f\"},\"baxis\":{\"endlinecolor\":\"#2a3f5f\",\"gridcolor\":\"white\",\"linecolor\":\"white\",\"minorgridcolor\":\"white\",\"startlinecolor\":\"#2a3f5f\"},\"type\":\"carpet\"}],\"table\":[{\"cells\":{\"fill\":{\"color\":\"#EBF0F8\"},\"line\":{\"color\":\"white\"}},\"header\":{\"fill\":{\"color\":\"#C8D4E3\"},\"line\":{\"color\":\"white\"}},\"type\":\"table\"}],\"barpolar\":[{\"marker\":{\"line\":{\"color\":\"#E5ECF6\",\"width\":0.5},\"pattern\":{\"fillmode\":\"overlay\",\"size\":10,\"solidity\":0.2}},\"type\":\"barpolar\"}],\"pie\":[{\"automargin\":true,\"type\":\"pie\"}]},\"layout\":{\"autotypenumbers\":\"strict\",\"colorway\":[\"#636efa\",\"#EF553B\",\"#00cc96\",\"#ab63fa\",\"#FFA15A\",\"#19d3f3\",\"#FF6692\",\"#B6E880\",\"#FF97FF\",\"#FECB52\"],\"font\":{\"color\":\"#2a3f5f\"},\"hovermode\":\"closest\",\"hoverlabel\":{\"align\":\"left\"},\"paper_bgcolor\":\"white\",\"plot_bgcolor\":\"#E5ECF6\",\"polar\":{\"bgcolor\":\"#E5ECF6\",\"angularaxis\":{\"gridcolor\":\"white\",\"linecolor\":\"white\",\"ticks\":\"\"},\"radialaxis\":{\"gridcolor\":\"white\",\"linecolor\":\"white\",\"ticks\":\"\"}},\"ternary\":{\"bgcolor\":\"#E5ECF6\",\"aaxis\":{\"gridcolor\":\"white\",\"linecolor\":\"white\",\"ticks\":\"\"},\"baxis\":{\"gridcolor\":\"white\",\"linecolor\":\"white\",\"ticks\":\"\"},\"caxis\":{\"gridcolor\":\"white\",\"linecolor\":\"white\",\"ticks\":\"\"}},\"coloraxis\":{\"colorbar\":{\"outlinewidth\":0,\"ticks\":\"\"}},\"colorscale\":{\"sequential\":[[0.0,\"#0d0887\"],[0.1111111111111111,\"#46039f\"],[0.2222222222222222,\"#7201a8\"],[0.3333333333333333,\"#9c179e\"],[0.4444444444444444,\"#bd3786\"],[0.5555555555555556,\"#d8576b\"],[0.6666666666666666,\"#ed7953\"],[0.7777777777777778,\"#fb9f3a\"],[0.8888888888888888,\"#fdca26\"],[1.0,\"#f0f921\"]],\"sequentialminus\":[[0.0,\"#0d0887\"],[0.1111111111111111,\"#46039f\"],[0.2222222222222222,\"#7201a8\"],[0.3333333333333333,\"#9c179e\"],[0.4444444444444444,\"#bd3786\"],[0.5555555555555556,\"#d8576b\"],[0.6666666666666666,\"#ed7953\"],[0.7777777777777778,\"#fb9f3a\"],[0.8888888888888888,\"#fdca26\"],[1.0,\"#f0f921\"]],\"diverging\":[[0,\"#8e0152\"],[0.1,\"#c51b7d\"],[0.2,\"#de77ae\"],[0.3,\"#f1b6da\"],[0.4,\"#fde0ef\"],[0.5,\"#f7f7f7\"],[0.6,\"#e6f5d0\"],[0.7,\"#b8e186\"],[0.8,\"#7fbc41\"],[0.9,\"#4d9221\"],[1,\"#276419\"]]},\"xaxis\":{\"gridcolor\":\"white\",\"linecolor\":\"white\",\"ticks\":\"\",\"title\":{\"standoff\":15},\"zerolinecolor\":\"white\",\"automargin\":true,\"zerolinewidth\":2},\"yaxis\":{\"gridcolor\":\"white\",\"linecolor\":\"white\",\"ticks\":\"\",\"title\":{\"standoff\":15},\"zerolinecolor\":\"white\",\"automargin\":true,\"zerolinewidth\":2},\"scene\":{\"xaxis\":{\"backgroundcolor\":\"#E5ECF6\",\"gridcolor\":\"white\",\"linecolor\":\"white\",\"showbackground\":true,\"ticks\":\"\",\"zerolinecolor\":\"white\",\"gridwidth\":2},\"yaxis\":{\"backgroundcolor\":\"#E5ECF6\",\"gridcolor\":\"white\",\"linecolor\":\"white\",\"showbackground\":true,\"ticks\":\"\",\"zerolinecolor\":\"white\",\"gridwidth\":2},\"zaxis\":{\"backgroundcolor\":\"#E5ECF6\",\"gridcolor\":\"white\",\"linecolor\":\"white\",\"showbackground\":true,\"ticks\":\"\",\"zerolinecolor\":\"white\",\"gridwidth\":2}},\"shapedefaults\":{\"line\":{\"color\":\"#2a3f5f\"}},\"annotationdefaults\":{\"arrowcolor\":\"#2a3f5f\",\"arrowhead\":0,\"arrowwidth\":1},\"geo\":{\"bgcolor\":\"white\",\"landcolor\":\"#E5ECF6\",\"subunitcolor\":\"white\",\"showland\":true,\"showlakes\":true,\"lakecolor\":\"white\"},\"title\":{\"x\":0.05},\"mapbox\":{\"style\":\"light\"}}},\"title\":{\"text\":\"FTSE100 Index - 20-Period Moving Average\"},\"xaxis\":{\"title\":{\"text\":\"Time\"}},\"yaxis\":{\"title\":{\"text\":\"Price\"}}},                        {\"responsive\": true}                    ).then(function(){\n",
              "                            \n",
              "var gd = document.getElementById('059f15a3-9278-46f3-9e0c-0f6ebb3f480e');\n",
              "var x = new MutationObserver(function (mutations, observer) {{\n",
              "        var display = window.getComputedStyle(gd).display;\n",
              "        if (!display || display === 'none') {{\n",
              "            console.log([gd, 'removed!']);\n",
              "            Plotly.purge(gd);\n",
              "            observer.disconnect();\n",
              "        }}\n",
              "}});\n",
              "\n",
              "// Listen for the removal of the full notebook cells\n",
              "var notebookContainer = gd.closest('#notebook-container');\n",
              "if (notebookContainer) {{\n",
              "    x.observe(notebookContainer, {childList: true});\n",
              "}}\n",
              "\n",
              "// Listen for the clearing of the current output cell\n",
              "var outputEl = gd.closest('.output');\n",
              "if (outputEl) {{\n",
              "    x.observe(outputEl, {childList: true});\n",
              "}}\n",
              "\n",
              "                        })                };                            </script>        </div>\n",
              "</body>\n",
              "</html>"
            ]
          },
          "metadata": {}
        }
      ]
    },
    {
      "cell_type": "markdown",
      "source": [
        "*Linear Regression Prediction Plot*"
      ],
      "metadata": {
        "id": "fCct-wQaPle7"
      }
    },
    {
      "cell_type": "code",
      "source": [
        "data['Predicted Close'] = linear_model.predict(data[['Close']])\n",
        "lr_fig = go.Figure()\n",
        "lr_fig.add_trace(go.Scatter(x=data.index, y=data['Predicted Close'], mode='lines', name='Linear Regression Prediction'))\n",
        "lr_fig.update_layout(title='FTSE100 Index - Linear Regression Prediction', xaxis_title='Time', yaxis_title='Price')\n",
        "lr_fig.show()"
      ],
      "metadata": {
        "colab": {
          "base_uri": "https://localhost:8080/",
          "height": 542
        },
        "id": "hAANREpmPRkM",
        "outputId": "de708a9a-bf51-4bb7-e09f-4e3c3a1c2a7d"
      },
      "execution_count": 22,
      "outputs": [
        {
          "output_type": "display_data",
          "data": {
            "text/html": [
              "<html>\n",
              "<head><meta charset=\"utf-8\" /></head>\n",
              "<body>\n",
              "    <div>            <script src=\"https://cdnjs.cloudflare.com/ajax/libs/mathjax/2.7.5/MathJax.js?config=TeX-AMS-MML_SVG\"></script><script type=\"text/javascript\">if (window.MathJax && window.MathJax.Hub && window.MathJax.Hub.Config) {window.MathJax.Hub.Config({SVG: {font: \"STIX-Web\"}});}</script>                <script type=\"text/javascript\">window.PlotlyConfig = {MathJaxConfig: 'local'};</script>\n",
              "        <script charset=\"utf-8\" src=\"https://cdn.plot.ly/plotly-2.24.1.min.js\"></script>                <div id=\"30b89724-829b-4567-8cc3-e12e89a4d6fd\" class=\"plotly-graph-div\" style=\"height:525px; width:100%;\"></div>            <script type=\"text/javascript\">                                    window.PLOTLYENV=window.PLOTLYENV || {};                                    if (document.getElementById(\"30b89724-829b-4567-8cc3-e12e89a4d6fd\")) {                    Plotly.newPlot(                        \"30b89724-829b-4567-8cc3-e12e89a4d6fd\",                        [{\"mode\":\"lines\",\"name\":\"Linear Regression Prediction\",\"x\":[\"2024-09-04T08:19:00+01:00\",\"2024-09-04T08:20:00+01:00\",\"2024-09-04T08:21:00+01:00\",\"2024-09-04T08:22:00+01:00\",\"2024-09-04T08:23:00+01:00\",\"2024-09-04T08:24:00+01:00\",\"2024-09-04T08:25:00+01:00\",\"2024-09-04T08:26:00+01:00\",\"2024-09-04T08:27:00+01:00\",\"2024-09-04T08:28:00+01:00\",\"2024-09-04T08:29:00+01:00\",\"2024-09-04T08:30:00+01:00\",\"2024-09-04T08:31:00+01:00\",\"2024-09-04T08:32:00+01:00\",\"2024-09-04T08:33:00+01:00\",\"2024-09-04T08:34:00+01:00\",\"2024-09-04T08:35:00+01:00\",\"2024-09-04T08:36:00+01:00\",\"2024-09-04T08:37:00+01:00\",\"2024-09-04T08:38:00+01:00\",\"2024-09-04T08:39:00+01:00\",\"2024-09-04T08:40:00+01:00\",\"2024-09-04T08:41:00+01:00\",\"2024-09-04T08:42:00+01:00\",\"2024-09-04T08:43:00+01:00\",\"2024-09-04T08:44:00+01:00\",\"2024-09-04T08:45:00+01:00\",\"2024-09-04T08:46:00+01:00\",\"2024-09-04T08:47:00+01:00\",\"2024-09-04T08:48:00+01:00\",\"2024-09-04T08:49:00+01:00\",\"2024-09-04T08:50:00+01:00\",\"2024-09-04T08:51:00+01:00\",\"2024-09-04T08:52:00+01:00\",\"2024-09-04T08:53:00+01:00\",\"2024-09-04T08:54:00+01:00\",\"2024-09-04T08:55:00+01:00\",\"2024-09-04T08:56:00+01:00\",\"2024-09-04T08:57:00+01:00\",\"2024-09-04T08:58:00+01:00\",\"2024-09-04T08:59:00+01:00\",\"2024-09-04T09:00:00+01:00\",\"2024-09-04T09:01:00+01:00\",\"2024-09-04T09:02:00+01:00\",\"2024-09-04T09:03:00+01:00\",\"2024-09-04T09:04:00+01:00\",\"2024-09-04T09:05:00+01:00\",\"2024-09-04T09:06:00+01:00\",\"2024-09-04T09:07:00+01:00\",\"2024-09-04T09:08:00+01:00\",\"2024-09-04T09:09:00+01:00\",\"2024-09-04T09:10:00+01:00\",\"2024-09-04T09:11:00+01:00\",\"2024-09-04T09:12:00+01:00\",\"2024-09-04T09:13:00+01:00\",\"2024-09-04T09:14:00+01:00\",\"2024-09-04T09:15:00+01:00\",\"2024-09-04T09:16:00+01:00\",\"2024-09-04T09:17:00+01:00\",\"2024-09-04T09:18:00+01:00\",\"2024-09-04T09:19:00+01:00\",\"2024-09-04T09:20:00+01:00\",\"2024-09-04T09:21:00+01:00\",\"2024-09-04T09:22:00+01:00\",\"2024-09-04T09:23:00+01:00\",\"2024-09-04T09:24:00+01:00\",\"2024-09-04T09:25:00+01:00\",\"2024-09-04T09:26:00+01:00\",\"2024-09-04T09:27:00+01:00\",\"2024-09-04T09:28:00+01:00\",\"2024-09-04T09:29:00+01:00\",\"2024-09-04T09:30:00+01:00\",\"2024-09-04T09:31:00+01:00\",\"2024-09-04T09:32:00+01:00\",\"2024-09-04T09:33:00+01:00\",\"2024-09-04T09:34:00+01:00\",\"2024-09-04T09:35:00+01:00\",\"2024-09-04T09:36:00+01:00\",\"2024-09-04T09:37:00+01:00\",\"2024-09-04T09:38:00+01:00\",\"2024-09-04T09:39:00+01:00\",\"2024-09-04T09:40:00+01:00\",\"2024-09-04T09:41:00+01:00\",\"2024-09-04T09:42:00+01:00\",\"2024-09-04T09:43:00+01:00\",\"2024-09-04T09:44:00+01:00\",\"2024-09-04T09:45:00+01:00\",\"2024-09-04T09:46:00+01:00\",\"2024-09-04T09:47:00+01:00\",\"2024-09-04T09:48:00+01:00\",\"2024-09-04T09:49:00+01:00\",\"2024-09-04T09:50:00+01:00\",\"2024-09-04T09:51:00+01:00\",\"2024-09-04T09:52:00+01:00\",\"2024-09-04T09:53:00+01:00\",\"2024-09-04T09:54:00+01:00\",\"2024-09-04T09:55:00+01:00\",\"2024-09-04T09:56:00+01:00\",\"2024-09-04T09:57:00+01:00\",\"2024-09-04T09:58:00+01:00\",\"2024-09-04T09:59:00+01:00\",\"2024-09-04T10:00:00+01:00\",\"2024-09-04T10:01:00+01:00\",\"2024-09-04T10:02:00+01:00\",\"2024-09-04T10:03:00+01:00\",\"2024-09-04T10:04:00+01:00\",\"2024-09-04T10:05:00+01:00\",\"2024-09-04T10:06:00+01:00\",\"2024-09-04T10:07:00+01:00\",\"2024-09-04T10:08:00+01:00\",\"2024-09-04T10:09:00+01:00\",\"2024-09-04T10:10:00+01:00\",\"2024-09-04T10:11:00+01:00\",\"2024-09-04T10:12:00+01:00\",\"2024-09-04T10:13:00+01:00\",\"2024-09-04T10:14:00+01:00\",\"2024-09-04T10:15:00+01:00\",\"2024-09-04T10:16:00+01:00\",\"2024-09-04T10:17:00+01:00\",\"2024-09-04T10:18:00+01:00\",\"2024-09-04T10:19:00+01:00\",\"2024-09-04T10:20:00+01:00\",\"2024-09-04T10:21:00+01:00\",\"2024-09-04T10:22:00+01:00\",\"2024-09-04T10:23:00+01:00\",\"2024-09-04T10:24:00+01:00\",\"2024-09-04T10:25:00+01:00\",\"2024-09-04T10:26:00+01:00\",\"2024-09-04T10:27:00+01:00\",\"2024-09-04T10:28:00+01:00\",\"2024-09-04T10:29:00+01:00\",\"2024-09-04T10:30:00+01:00\",\"2024-09-04T10:31:00+01:00\",\"2024-09-04T10:32:00+01:00\",\"2024-09-04T10:33:00+01:00\",\"2024-09-04T10:34:00+01:00\",\"2024-09-04T10:35:00+01:00\",\"2024-09-04T10:36:00+01:00\",\"2024-09-04T10:37:00+01:00\",\"2024-09-04T10:38:00+01:00\",\"2024-09-04T10:39:00+01:00\",\"2024-09-04T10:40:00+01:00\",\"2024-09-04T10:41:00+01:00\",\"2024-09-04T10:42:00+01:00\",\"2024-09-04T10:43:00+01:00\",\"2024-09-04T10:44:00+01:00\",\"2024-09-04T10:45:00+01:00\",\"2024-09-04T10:46:00+01:00\",\"2024-09-04T10:47:00+01:00\",\"2024-09-04T10:48:00+01:00\",\"2024-09-04T10:49:00+01:00\",\"2024-09-04T10:50:00+01:00\",\"2024-09-04T10:51:00+01:00\",\"2024-09-04T10:52:00+01:00\",\"2024-09-04T10:53:00+01:00\",\"2024-09-04T10:54:00+01:00\",\"2024-09-04T10:55:00+01:00\",\"2024-09-04T10:56:00+01:00\",\"2024-09-04T10:57:00+01:00\",\"2024-09-04T10:58:00+01:00\",\"2024-09-04T10:59:00+01:00\",\"2024-09-04T11:00:00+01:00\",\"2024-09-04T11:01:00+01:00\",\"2024-09-04T11:02:00+01:00\",\"2024-09-04T11:03:00+01:00\",\"2024-09-04T11:04:00+01:00\",\"2024-09-04T11:05:00+01:00\",\"2024-09-04T11:06:00+01:00\",\"2024-09-04T11:07:00+01:00\",\"2024-09-04T11:08:00+01:00\",\"2024-09-04T11:09:00+01:00\",\"2024-09-04T11:10:00+01:00\",\"2024-09-04T11:11:00+01:00\",\"2024-09-04T11:12:00+01:00\",\"2024-09-04T11:13:00+01:00\",\"2024-09-04T11:14:00+01:00\",\"2024-09-04T11:15:00+01:00\",\"2024-09-04T11:16:00+01:00\",\"2024-09-04T11:17:00+01:00\",\"2024-09-04T11:18:00+01:00\",\"2024-09-04T11:19:00+01:00\",\"2024-09-04T11:20:00+01:00\",\"2024-09-04T11:21:00+01:00\",\"2024-09-04T11:22:00+01:00\",\"2024-09-04T11:23:00+01:00\",\"2024-09-04T11:24:00+01:00\",\"2024-09-04T11:25:00+01:00\",\"2024-09-04T11:26:00+01:00\",\"2024-09-04T11:27:00+01:00\",\"2024-09-04T11:28:00+01:00\",\"2024-09-04T11:29:00+01:00\",\"2024-09-04T11:30:00+01:00\",\"2024-09-04T11:31:00+01:00\",\"2024-09-04T11:32:00+01:00\",\"2024-09-04T11:33:00+01:00\",\"2024-09-04T11:34:00+01:00\",\"2024-09-04T11:35:00+01:00\",\"2024-09-04T11:36:00+01:00\",\"2024-09-04T11:37:00+01:00\",\"2024-09-04T11:38:00+01:00\",\"2024-09-04T11:39:00+01:00\",\"2024-09-04T11:40:00+01:00\",\"2024-09-04T11:41:00+01:00\",\"2024-09-04T11:42:00+01:00\",\"2024-09-04T11:43:00+01:00\",\"2024-09-04T11:44:00+01:00\",\"2024-09-04T11:45:00+01:00\",\"2024-09-04T11:46:00+01:00\",\"2024-09-04T11:47:00+01:00\",\"2024-09-04T11:48:00+01:00\",\"2024-09-04T11:49:00+01:00\",\"2024-09-04T11:50:00+01:00\",\"2024-09-04T11:51:00+01:00\",\"2024-09-04T11:52:00+01:00\",\"2024-09-04T11:53:00+01:00\",\"2024-09-04T11:54:00+01:00\",\"2024-09-04T11:55:00+01:00\",\"2024-09-04T11:56:00+01:00\",\"2024-09-04T11:57:00+01:00\",\"2024-09-04T11:58:00+01:00\",\"2024-09-04T11:59:00+01:00\",\"2024-09-04T12:00:00+01:00\",\"2024-09-04T12:01:00+01:00\",\"2024-09-04T12:02:00+01:00\",\"2024-09-04T12:03:00+01:00\",\"2024-09-04T12:04:00+01:00\",\"2024-09-04T12:05:00+01:00\",\"2024-09-04T12:06:00+01:00\",\"2024-09-04T12:07:00+01:00\",\"2024-09-04T12:08:00+01:00\",\"2024-09-04T12:09:00+01:00\",\"2024-09-04T12:10:00+01:00\",\"2024-09-04T12:11:00+01:00\",\"2024-09-04T12:12:00+01:00\",\"2024-09-04T12:13:00+01:00\",\"2024-09-04T12:14:00+01:00\",\"2024-09-04T12:15:00+01:00\",\"2024-09-04T12:16:00+01:00\",\"2024-09-04T12:17:00+01:00\",\"2024-09-04T12:18:00+01:00\",\"2024-09-04T12:19:00+01:00\",\"2024-09-04T12:20:00+01:00\",\"2024-09-04T12:21:00+01:00\",\"2024-09-04T12:22:00+01:00\",\"2024-09-04T12:23:00+01:00\",\"2024-09-04T12:24:00+01:00\",\"2024-09-04T12:25:00+01:00\",\"2024-09-04T12:26:00+01:00\",\"2024-09-04T12:27:00+01:00\",\"2024-09-04T12:28:00+01:00\",\"2024-09-04T12:29:00+01:00\",\"2024-09-04T12:30:00+01:00\",\"2024-09-04T12:31:00+01:00\",\"2024-09-04T12:32:00+01:00\",\"2024-09-04T12:33:00+01:00\",\"2024-09-04T12:34:00+01:00\",\"2024-09-04T12:35:00+01:00\",\"2024-09-04T12:36:00+01:00\",\"2024-09-04T12:37:00+01:00\",\"2024-09-04T12:38:00+01:00\",\"2024-09-04T12:39:00+01:00\",\"2024-09-04T12:40:00+01:00\",\"2024-09-04T12:41:00+01:00\",\"2024-09-04T12:42:00+01:00\",\"2024-09-04T12:43:00+01:00\",\"2024-09-04T12:44:00+01:00\",\"2024-09-04T12:45:00+01:00\",\"2024-09-04T12:46:00+01:00\",\"2024-09-04T12:47:00+01:00\",\"2024-09-04T12:48:00+01:00\",\"2024-09-04T12:49:00+01:00\",\"2024-09-04T12:50:00+01:00\",\"2024-09-04T12:51:00+01:00\",\"2024-09-04T12:52:00+01:00\",\"2024-09-04T12:53:00+01:00\",\"2024-09-04T12:54:00+01:00\",\"2024-09-04T12:55:00+01:00\",\"2024-09-04T12:56:00+01:00\",\"2024-09-04T12:57:00+01:00\",\"2024-09-04T12:58:00+01:00\",\"2024-09-04T12:59:00+01:00\",\"2024-09-04T13:00:00+01:00\",\"2024-09-04T13:01:00+01:00\",\"2024-09-04T13:02:00+01:00\",\"2024-09-04T13:03:00+01:00\",\"2024-09-04T13:04:00+01:00\",\"2024-09-04T13:05:00+01:00\",\"2024-09-04T13:06:00+01:00\",\"2024-09-04T13:07:00+01:00\",\"2024-09-04T13:08:00+01:00\",\"2024-09-04T13:09:00+01:00\",\"2024-09-04T13:10:00+01:00\",\"2024-09-04T13:11:00+01:00\",\"2024-09-04T13:12:00+01:00\",\"2024-09-04T13:13:00+01:00\",\"2024-09-04T13:14:00+01:00\",\"2024-09-04T13:15:00+01:00\",\"2024-09-04T13:16:00+01:00\",\"2024-09-04T13:17:00+01:00\",\"2024-09-04T13:18:00+01:00\",\"2024-09-04T13:19:00+01:00\",\"2024-09-04T13:20:00+01:00\",\"2024-09-04T13:21:00+01:00\",\"2024-09-04T13:22:00+01:00\",\"2024-09-04T13:23:00+01:00\",\"2024-09-04T13:24:00+01:00\",\"2024-09-04T13:25:00+01:00\",\"2024-09-04T13:26:00+01:00\",\"2024-09-04T13:27:00+01:00\",\"2024-09-04T13:28:00+01:00\",\"2024-09-04T13:29:00+01:00\",\"2024-09-04T13:30:00+01:00\",\"2024-09-04T13:31:00+01:00\",\"2024-09-04T13:32:00+01:00\",\"2024-09-04T13:33:00+01:00\",\"2024-09-04T13:34:00+01:00\",\"2024-09-04T13:35:00+01:00\",\"2024-09-04T13:36:00+01:00\",\"2024-09-04T13:37:00+01:00\",\"2024-09-04T13:38:00+01:00\",\"2024-09-04T13:39:00+01:00\",\"2024-09-04T13:40:00+01:00\",\"2024-09-04T13:41:00+01:00\",\"2024-09-04T13:42:00+01:00\",\"2024-09-04T13:43:00+01:00\",\"2024-09-04T13:44:00+01:00\",\"2024-09-04T13:45:00+01:00\",\"2024-09-04T13:46:00+01:00\",\"2024-09-04T13:47:00+01:00\",\"2024-09-04T13:48:00+01:00\",\"2024-09-04T13:49:00+01:00\",\"2024-09-04T13:50:00+01:00\",\"2024-09-04T13:51:00+01:00\",\"2024-09-04T13:52:00+01:00\",\"2024-09-04T13:53:00+01:00\",\"2024-09-04T13:54:00+01:00\",\"2024-09-04T13:55:00+01:00\",\"2024-09-04T13:56:00+01:00\",\"2024-09-04T13:57:00+01:00\",\"2024-09-04T13:58:00+01:00\",\"2024-09-04T13:59:00+01:00\",\"2024-09-04T14:00:00+01:00\",\"2024-09-04T14:01:00+01:00\",\"2024-09-04T14:02:00+01:00\",\"2024-09-04T14:03:00+01:00\",\"2024-09-04T14:04:00+01:00\",\"2024-09-04T14:05:00+01:00\",\"2024-09-04T14:06:00+01:00\",\"2024-09-04T14:07:00+01:00\",\"2024-09-04T14:08:00+01:00\",\"2024-09-04T14:09:00+01:00\",\"2024-09-04T14:10:00+01:00\",\"2024-09-04T14:11:00+01:00\",\"2024-09-04T14:12:00+01:00\",\"2024-09-04T14:13:00+01:00\",\"2024-09-04T14:14:00+01:00\",\"2024-09-04T14:15:00+01:00\",\"2024-09-04T14:16:00+01:00\",\"2024-09-04T14:17:00+01:00\",\"2024-09-04T14:18:00+01:00\",\"2024-09-04T14:19:00+01:00\",\"2024-09-04T14:20:00+01:00\",\"2024-09-04T14:21:00+01:00\",\"2024-09-04T14:22:00+01:00\",\"2024-09-04T14:23:00+01:00\",\"2024-09-04T14:24:00+01:00\",\"2024-09-04T14:25:00+01:00\",\"2024-09-04T14:26:00+01:00\",\"2024-09-04T14:27:00+01:00\",\"2024-09-04T14:28:00+01:00\",\"2024-09-04T14:29:00+01:00\",\"2024-09-04T14:30:00+01:00\",\"2024-09-04T14:31:00+01:00\",\"2024-09-04T14:32:00+01:00\",\"2024-09-04T14:33:00+01:00\",\"2024-09-04T14:34:00+01:00\",\"2024-09-04T14:35:00+01:00\",\"2024-09-04T14:36:00+01:00\",\"2024-09-04T14:37:00+01:00\",\"2024-09-04T14:38:00+01:00\",\"2024-09-04T14:39:00+01:00\",\"2024-09-04T14:40:00+01:00\",\"2024-09-04T14:41:00+01:00\",\"2024-09-04T14:42:00+01:00\",\"2024-09-04T14:43:00+01:00\",\"2024-09-04T14:44:00+01:00\",\"2024-09-04T14:45:00+01:00\",\"2024-09-04T14:46:00+01:00\",\"2024-09-04T14:47:00+01:00\",\"2024-09-04T14:48:00+01:00\",\"2024-09-04T14:49:00+01:00\",\"2024-09-04T14:50:00+01:00\",\"2024-09-04T14:51:00+01:00\",\"2024-09-04T14:52:00+01:00\",\"2024-09-04T14:53:00+01:00\",\"2024-09-04T14:54:00+01:00\",\"2024-09-04T14:55:00+01:00\",\"2024-09-04T14:56:00+01:00\",\"2024-09-04T14:57:00+01:00\",\"2024-09-04T14:58:00+01:00\",\"2024-09-04T14:59:00+01:00\",\"2024-09-04T15:00:00+01:00\",\"2024-09-04T15:01:00+01:00\",\"2024-09-04T15:02:00+01:00\",\"2024-09-04T15:03:00+01:00\",\"2024-09-04T15:04:00+01:00\",\"2024-09-04T15:05:00+01:00\",\"2024-09-04T15:06:00+01:00\",\"2024-09-04T15:07:00+01:00\",\"2024-09-04T15:08:00+01:00\",\"2024-09-04T15:09:00+01:00\",\"2024-09-04T15:10:00+01:00\",\"2024-09-04T15:11:00+01:00\",\"2024-09-04T15:12:00+01:00\",\"2024-09-04T15:13:00+01:00\",\"2024-09-04T15:14:00+01:00\",\"2024-09-04T15:15:00+01:00\",\"2024-09-04T15:16:00+01:00\",\"2024-09-04T15:17:00+01:00\",\"2024-09-04T15:18:00+01:00\",\"2024-09-04T15:19:00+01:00\",\"2024-09-04T15:20:00+01:00\",\"2024-09-04T15:21:00+01:00\",\"2024-09-04T15:22:00+01:00\",\"2024-09-04T15:23:00+01:00\",\"2024-09-04T15:24:00+01:00\",\"2024-09-04T15:25:00+01:00\",\"2024-09-04T15:26:00+01:00\",\"2024-09-04T15:27:00+01:00\",\"2024-09-04T15:28:00+01:00\",\"2024-09-04T15:29:00+01:00\",\"2024-09-04T15:30:00+01:00\",\"2024-09-04T15:31:00+01:00\",\"2024-09-04T15:32:00+01:00\",\"2024-09-04T15:33:00+01:00\",\"2024-09-04T15:34:00+01:00\",\"2024-09-04T15:35:00+01:00\",\"2024-09-04T15:36:00+01:00\",\"2024-09-04T15:37:00+01:00\",\"2024-09-04T15:38:00+01:00\",\"2024-09-04T15:39:00+01:00\",\"2024-09-04T15:40:00+01:00\",\"2024-09-04T15:41:00+01:00\",\"2024-09-04T15:42:00+01:00\",\"2024-09-04T15:43:00+01:00\",\"2024-09-04T15:44:00+01:00\",\"2024-09-04T15:45:00+01:00\",\"2024-09-04T15:46:00+01:00\",\"2024-09-04T15:47:00+01:00\",\"2024-09-04T15:48:00+01:00\",\"2024-09-04T15:49:00+01:00\",\"2024-09-04T15:50:00+01:00\",\"2024-09-04T15:51:00+01:00\",\"2024-09-04T15:52:00+01:00\",\"2024-09-04T15:53:00+01:00\",\"2024-09-04T15:54:00+01:00\",\"2024-09-04T15:55:00+01:00\",\"2024-09-04T15:56:00+01:00\",\"2024-09-04T15:57:00+01:00\",\"2024-09-04T15:58:00+01:00\",\"2024-09-04T15:59:00+01:00\",\"2024-09-04T16:00:00+01:00\",\"2024-09-04T16:01:00+01:00\",\"2024-09-04T16:02:00+01:00\",\"2024-09-04T16:03:00+01:00\",\"2024-09-04T16:04:00+01:00\",\"2024-09-04T16:05:00+01:00\",\"2024-09-04T16:06:00+01:00\",\"2024-09-04T16:07:00+01:00\",\"2024-09-04T16:08:00+01:00\",\"2024-09-04T16:09:00+01:00\",\"2024-09-04T16:10:00+01:00\",\"2024-09-04T16:11:00+01:00\",\"2024-09-04T16:12:00+01:00\",\"2024-09-04T16:13:00+01:00\",\"2024-09-04T16:14:00+01:00\",\"2024-09-04T16:15:00+01:00\",\"2024-09-04T16:16:00+01:00\",\"2024-09-04T16:17:00+01:00\",\"2024-09-04T16:18:00+01:00\",\"2024-09-04T16:19:00+01:00\",\"2024-09-04T16:20:00+01:00\",\"2024-09-04T16:21:00+01:00\",\"2024-09-04T16:22:00+01:00\",\"2024-09-04T16:23:00+01:00\",\"2024-09-04T16:24:00+01:00\",\"2024-09-04T16:25:00+01:00\",\"2024-09-04T16:26:00+01:00\",\"2024-09-04T16:27:00+01:00\",\"2024-09-04T16:28:00+01:00\"],\"y\":[8254.135293725138,8251.787046307925,8253.12931493828,8247.978973352314,8247.928867129214,8248.610119047135,8246.192493782553,8242.05873037679,8238.13117335071,8236.7204904542,8235.891810610621,8235.40809284146,8235.131545033197,8235.526613330716,8234.835725600664,8235.595027596872,8232.368957694194,8234.154473682744,8235.595027596872,8237.697561804653,8237.114595170506,8237.588677127529,8238.506006442749,8239.670976129826,8240.676954916682,8240.814747030208,8238.161044368328,8237.342000336885,8238.101302333092,8240.79547540594,8241.86119622803,8240.667319104548,8238.30847229399,8238.980088399772,8237.726469241055,8238.861567910517,8237.233115659761,8234.647827264038,8235.713548086129,8235.545884954987,8233.986810551602,8236.206901667423,8236.788904720355,8237.765976070808,8237.411378184253,8237.963510219568,8234.204579905843,8234.421385678874,8231.915110942653,8230.188373408126,8226.557599395792,8224.514807223248,8226.902561470211,8227.375679846024,8227.56357818265,8227.179109278477,8226.310922605146,8225.659541704845,8226.231908945641,8227.938411274687,8231.500771020863,8234.608320434287,8234.826089788528,8232.911453917375,8233.740133760955,8232.161787733301,8234.05618839897,8236.671347812313,8237.411378184253,8235.615262802356,8236.227136872905,8242.818032373001,8246.301378459673,8245.39368495659,8245.284800279469,8246.162622764936,8243.923260024843,8241.151036873707,8238.486734818478,8235.240429710318,8232.97119595261,8232.191658750919,8229.141924210304,8228.155217047715,8227.790983349027,8226.51809256604,8227.593449200267,8227.375679846024,8227.316901392001,8225.629670687227,8223.715034816072,8223.695763191805,8224.110103113593,8227.415186675775,8228.461635873598,8229.536992507823,8230.168138202644,8226.853418828327,8228.580156362854,8228.145581235582,8227.011446147335,8227.553942370514,8229.52735669569,8230.721233819171,8231.915110942653,8232.388229318465,8231.382250531607,8231.362015326125,8230.977546421953,8230.928403780066,8230.118995560755,8229.467614660454,8229.004132096778,8227.76111233141,8227.97791810444,8227.504799728627,8227.731241313792,8230.0505812946,8232.082774073795,8234.47052832076,8235.022660356075,8235.724147479477,8236.227136872905,8235.022660356075,8233.750733154302,8234.391514661256,8234.510035150513,8235.171051862948,8235.901446422755,8236.473813663553,8236.611605777078,8235.417728653596,8235.092038203446,8236.118252195785,8237.04618090435,8238.41735697111,8239.029231041659,8239.878146090721,8241.33797162912,8241.722440533293,8242.245665132203,8241.86119622803,8243.03483814603,8242.27553614982,8241.782182568528,8241.891067245648,8244.465756248024,8245.936181179772,8247.495255583155,8247.672554526434,8248.975316327036,8247.949102334696,8248.610119047135,8247.642683508817,8246.902653136876,8247.712061356186,8247.44611294127,8247.100187285636,8247.130058303253,8246.113480123047,8245.985323821656,8246.972030984245,8247.31795663988,8248.600483234999,8248.156272295593,8245.433191786342,8245.787789672897,8246.281143254191,8246.162622764936,8246.360156913695,8245.887038537883,8244.93983820505,8245.452463410613,8243.548426932806,8241.940209887534,8240.92363170733,8239.275907832307,8239.69988356623,8240.696226540953,8241.584648419766,8242.157015660563,8243.95313104246,8244.081287343852,8244.140065797874,8248.05798701182,8250.721325485834,8250.92849544673,8251.086522765738,8248.353806444353,8249.280771571706,8247.603176679064,8248.570612217381,8246.804367853103,8247.218707774891,8247.0905514735,8248.382713880757,8250.544026542557,8250.169193450518,8250.672182843948,8248.501234370013,8248.037751806336,8248.156272295593,8247.356499888418,8248.037751806336,8249.655604663742,8251.333199556384,8250.090179791016,8248.126401277976,8248.007880788718,8249.448434702848,8249.46866990833,8249.034094781058,8248.639990064752,8250.22797190454,8250.602804996579,8251.146264800973,8250.544026542557,8250.474648695188,8250.406234429032,8250.455377070917,8251.412213215888,8250.978601669829,8249.88300983012,8249.892645642256,8250.278078127641,8250.218336092406,8250.909223822458,8251.747539478172,8252.626325544854,8254.609375682161,8254.954337756582,8256.306242199073,8255.142236093208,8256.641568461357,8255.615354469019,8253.622668519574,8252.498169243463,8251.90556679718,8249.57659100424,8250.257842922158,8250.869716992707,8252.043358910707,8250.96800227648,8250.948730652211,8249.971659301758,8248.817289008028,8248.007880788718,8249.221993117684,8249.843503000367,8250.22797190454,8250.613404389926,8251.205043254993,8250.55366235469,8251.886295172913,8252.714975016492,8254.381970515784,8256.631932649223,8258.793245311022,8258.309527541864,8259.03992210167,8259.51304047748,8258.812516935293,8257.006765741262,8255.754110163758,8254.48121938077,8254.125657913002,8253.494512218185,8254.313556249628,8256.375620046441,8255.891902277282,8255.39854869599,8253.938723157591,8253.080172296395,8253.119679126146,8253.662175349327,8253.316249693693,8253.938723157591,8254.668154136183,8256.187721709815,8255.951644312518,8255.260756582464,8255.496833979763,8256.187721709815,8256.296606386939,8258.230513882361,8259.434026817977,8259.335741534203,8260.53925446982,8261.43731216077,8262.365240869334,8261.979808383949,8262.286227209832,8260.559489675303,8260.006394058775,8260.332084508926,8258.644853804151,8259.335741534203,8258.16113603499,8258.456955467525,8259.305870516586,8259.147843197577,8258.456955467525,8258.378905389234,8258.181371240473,8258.556204332512,8258.082122375487,8257.64851082943,8256.227228539568,8255.980551748922,8258.674724821767,8259.779952473611,8258.29989172973,8256.42476268833,8255.132600281073,8253.908852139974,8253.987865799478,8253.296978069424,8252.103100945942,8252.201386229715,8253.316249693693,8254.756803607823,8254.381970515784,8255.191378735093,8256.394891670712,8256.286970574803,8257.174428872404,8257.638875017294,8257.292949361661,8255.211613940577,8253.799967462852,8255.042987228222,8254.718260359285,8254.806909830922,8255.645225486636,8256.198321103166,8256.48354114235,8257.874952414593,8259.226856857083,8260.450604998183,8261.625210497394,8262.463526153108,8260.80616646595,8261.535597444543,8260.292577679174,8260.529618657685,8260.627903941458,8261.299520047243,8260.973829597093,8258.73350327579,8258.10235758097,8258.191007052608,8257.155157248135,8257.588768794194,8257.588768794194,8255.714603334005,8253.997501611611,8252.073229928325,8252.17247879331,8255.09309345132,8255.18174292296,8252.251492452815,8250.790703333203,8251.767774683656,8251.03738012385,8251.679125212017,8250.395635035682,8250.248207110024,8251.195407442858,8252.556947697483,8250.809974957472,8251.03738012385,8256.079800613908,8259.690339420758,8261.388169518883,8263.785559577982,8265.630817601766,8267.850908717588,8270.515210772815,8269.775180400875,8271.777502162455,8272.823951360275,8272.270855743747,8273.376083395591,8272.281455137096,8270.041128815792,8269.991986173904,8270.169285117183,8270.771523375597,8271.511553747538,8274.066971125645,8272.212077289725,8274.145984785147,8275.468018210022,8273.869436976885,8273.85980116475,8271.649345861064,8267.466439813415,8269.922608326535,8272.014543140966,8271.225370127138,8272.961743473801,8252.290035701353,8249.07360161081,8255.586447032616,8255.260756582464,8254.106386288735,8254.362698891515,8255.852395447531,8257.963601886231,8261.614611104047,8264.515954137787,8268.008936036596,8266.873837367133,8265.85725918693,8263.973457914606,8265.137464020472,8267.18989200515,8269.301098443852,8264.032236368628,8260.904451749724,8260.509383452203,8262.098328873206,8260.648139146942,8263.87420904962,8263.380855468327,8263.13417867768,8259.720210438376,8259.108336367826,8258.42804803112,8260.164421377784,8263.983093726742,8264.802137758186,8263.58802542922,8262.335369851717,8263.11490705341,8264.130521652402,8264.220134705254,8266.261963296583,8266.23305586018,8266.291834314201,8267.564725097189,8266.282198502067,8266.321705331819,8266.25232748445,8268.166963355603,8272.063685782852,8272.675559853402,8271.995271516696,8272.291090949231,8272.596546193898,8271.718723708433,8271.965400499079,8272.270855743747,8273.829930147132,8274.12671316088,8275.596174511411,8276.386311106453,8276.070256468436,8276.050021262954,8274.955393004459,8276.701402163257,8278.54666018704,8278.516789169422,8279.04964958047,8279.563238367246,8279.740537310521,8278.753830147934,8279.395575236102,8279.13926263332,8278.004163963858,8278.34912603828,8277.145613102663,8277.155248914798,8275.606773904761,8274.609467348826,8272.754573512906,8269.863829872513,8270.673238091824,8270.238662964552,8270.336948248325,8272.251584119478,8270.30804081192,8269.933207719883,8269.666295723753,8269.617153081866,8269.745309383257,8269.883101496784,8267.663010380962,8267.327684118676,8266.25232748445],\"type\":\"scatter\"}],                        {\"template\":{\"data\":{\"histogram2dcontour\":[{\"type\":\"histogram2dcontour\",\"colorbar\":{\"outlinewidth\":0,\"ticks\":\"\"},\"colorscale\":[[0.0,\"#0d0887\"],[0.1111111111111111,\"#46039f\"],[0.2222222222222222,\"#7201a8\"],[0.3333333333333333,\"#9c179e\"],[0.4444444444444444,\"#bd3786\"],[0.5555555555555556,\"#d8576b\"],[0.6666666666666666,\"#ed7953\"],[0.7777777777777778,\"#fb9f3a\"],[0.8888888888888888,\"#fdca26\"],[1.0,\"#f0f921\"]]}],\"choropleth\":[{\"type\":\"choropleth\",\"colorbar\":{\"outlinewidth\":0,\"ticks\":\"\"}}],\"histogram2d\":[{\"type\":\"histogram2d\",\"colorbar\":{\"outlinewidth\":0,\"ticks\":\"\"},\"colorscale\":[[0.0,\"#0d0887\"],[0.1111111111111111,\"#46039f\"],[0.2222222222222222,\"#7201a8\"],[0.3333333333333333,\"#9c179e\"],[0.4444444444444444,\"#bd3786\"],[0.5555555555555556,\"#d8576b\"],[0.6666666666666666,\"#ed7953\"],[0.7777777777777778,\"#fb9f3a\"],[0.8888888888888888,\"#fdca26\"],[1.0,\"#f0f921\"]]}],\"heatmap\":[{\"type\":\"heatmap\",\"colorbar\":{\"outlinewidth\":0,\"ticks\":\"\"},\"colorscale\":[[0.0,\"#0d0887\"],[0.1111111111111111,\"#46039f\"],[0.2222222222222222,\"#7201a8\"],[0.3333333333333333,\"#9c179e\"],[0.4444444444444444,\"#bd3786\"],[0.5555555555555556,\"#d8576b\"],[0.6666666666666666,\"#ed7953\"],[0.7777777777777778,\"#fb9f3a\"],[0.8888888888888888,\"#fdca26\"],[1.0,\"#f0f921\"]]}],\"heatmapgl\":[{\"type\":\"heatmapgl\",\"colorbar\":{\"outlinewidth\":0,\"ticks\":\"\"},\"colorscale\":[[0.0,\"#0d0887\"],[0.1111111111111111,\"#46039f\"],[0.2222222222222222,\"#7201a8\"],[0.3333333333333333,\"#9c179e\"],[0.4444444444444444,\"#bd3786\"],[0.5555555555555556,\"#d8576b\"],[0.6666666666666666,\"#ed7953\"],[0.7777777777777778,\"#fb9f3a\"],[0.8888888888888888,\"#fdca26\"],[1.0,\"#f0f921\"]]}],\"contourcarpet\":[{\"type\":\"contourcarpet\",\"colorbar\":{\"outlinewidth\":0,\"ticks\":\"\"}}],\"contour\":[{\"type\":\"contour\",\"colorbar\":{\"outlinewidth\":0,\"ticks\":\"\"},\"colorscale\":[[0.0,\"#0d0887\"],[0.1111111111111111,\"#46039f\"],[0.2222222222222222,\"#7201a8\"],[0.3333333333333333,\"#9c179e\"],[0.4444444444444444,\"#bd3786\"],[0.5555555555555556,\"#d8576b\"],[0.6666666666666666,\"#ed7953\"],[0.7777777777777778,\"#fb9f3a\"],[0.8888888888888888,\"#fdca26\"],[1.0,\"#f0f921\"]]}],\"surface\":[{\"type\":\"surface\",\"colorbar\":{\"outlinewidth\":0,\"ticks\":\"\"},\"colorscale\":[[0.0,\"#0d0887\"],[0.1111111111111111,\"#46039f\"],[0.2222222222222222,\"#7201a8\"],[0.3333333333333333,\"#9c179e\"],[0.4444444444444444,\"#bd3786\"],[0.5555555555555556,\"#d8576b\"],[0.6666666666666666,\"#ed7953\"],[0.7777777777777778,\"#fb9f3a\"],[0.8888888888888888,\"#fdca26\"],[1.0,\"#f0f921\"]]}],\"mesh3d\":[{\"type\":\"mesh3d\",\"colorbar\":{\"outlinewidth\":0,\"ticks\":\"\"}}],\"scatter\":[{\"fillpattern\":{\"fillmode\":\"overlay\",\"size\":10,\"solidity\":0.2},\"type\":\"scatter\"}],\"parcoords\":[{\"type\":\"parcoords\",\"line\":{\"colorbar\":{\"outlinewidth\":0,\"ticks\":\"\"}}}],\"scatterpolargl\":[{\"type\":\"scatterpolargl\",\"marker\":{\"colorbar\":{\"outlinewidth\":0,\"ticks\":\"\"}}}],\"bar\":[{\"error_x\":{\"color\":\"#2a3f5f\"},\"error_y\":{\"color\":\"#2a3f5f\"},\"marker\":{\"line\":{\"color\":\"#E5ECF6\",\"width\":0.5},\"pattern\":{\"fillmode\":\"overlay\",\"size\":10,\"solidity\":0.2}},\"type\":\"bar\"}],\"scattergeo\":[{\"type\":\"scattergeo\",\"marker\":{\"colorbar\":{\"outlinewidth\":0,\"ticks\":\"\"}}}],\"scatterpolar\":[{\"type\":\"scatterpolar\",\"marker\":{\"colorbar\":{\"outlinewidth\":0,\"ticks\":\"\"}}}],\"histogram\":[{\"marker\":{\"pattern\":{\"fillmode\":\"overlay\",\"size\":10,\"solidity\":0.2}},\"type\":\"histogram\"}],\"scattergl\":[{\"type\":\"scattergl\",\"marker\":{\"colorbar\":{\"outlinewidth\":0,\"ticks\":\"\"}}}],\"scatter3d\":[{\"type\":\"scatter3d\",\"line\":{\"colorbar\":{\"outlinewidth\":0,\"ticks\":\"\"}},\"marker\":{\"colorbar\":{\"outlinewidth\":0,\"ticks\":\"\"}}}],\"scattermapbox\":[{\"type\":\"scattermapbox\",\"marker\":{\"colorbar\":{\"outlinewidth\":0,\"ticks\":\"\"}}}],\"scatterternary\":[{\"type\":\"scatterternary\",\"marker\":{\"colorbar\":{\"outlinewidth\":0,\"ticks\":\"\"}}}],\"scattercarpet\":[{\"type\":\"scattercarpet\",\"marker\":{\"colorbar\":{\"outlinewidth\":0,\"ticks\":\"\"}}}],\"carpet\":[{\"aaxis\":{\"endlinecolor\":\"#2a3f5f\",\"gridcolor\":\"white\",\"linecolor\":\"white\",\"minorgridcolor\":\"white\",\"startlinecolor\":\"#2a3f5f\"},\"baxis\":{\"endlinecolor\":\"#2a3f5f\",\"gridcolor\":\"white\",\"linecolor\":\"white\",\"minorgridcolor\":\"white\",\"startlinecolor\":\"#2a3f5f\"},\"type\":\"carpet\"}],\"table\":[{\"cells\":{\"fill\":{\"color\":\"#EBF0F8\"},\"line\":{\"color\":\"white\"}},\"header\":{\"fill\":{\"color\":\"#C8D4E3\"},\"line\":{\"color\":\"white\"}},\"type\":\"table\"}],\"barpolar\":[{\"marker\":{\"line\":{\"color\":\"#E5ECF6\",\"width\":0.5},\"pattern\":{\"fillmode\":\"overlay\",\"size\":10,\"solidity\":0.2}},\"type\":\"barpolar\"}],\"pie\":[{\"automargin\":true,\"type\":\"pie\"}]},\"layout\":{\"autotypenumbers\":\"strict\",\"colorway\":[\"#636efa\",\"#EF553B\",\"#00cc96\",\"#ab63fa\",\"#FFA15A\",\"#19d3f3\",\"#FF6692\",\"#B6E880\",\"#FF97FF\",\"#FECB52\"],\"font\":{\"color\":\"#2a3f5f\"},\"hovermode\":\"closest\",\"hoverlabel\":{\"align\":\"left\"},\"paper_bgcolor\":\"white\",\"plot_bgcolor\":\"#E5ECF6\",\"polar\":{\"bgcolor\":\"#E5ECF6\",\"angularaxis\":{\"gridcolor\":\"white\",\"linecolor\":\"white\",\"ticks\":\"\"},\"radialaxis\":{\"gridcolor\":\"white\",\"linecolor\":\"white\",\"ticks\":\"\"}},\"ternary\":{\"bgcolor\":\"#E5ECF6\",\"aaxis\":{\"gridcolor\":\"white\",\"linecolor\":\"white\",\"ticks\":\"\"},\"baxis\":{\"gridcolor\":\"white\",\"linecolor\":\"white\",\"ticks\":\"\"},\"caxis\":{\"gridcolor\":\"white\",\"linecolor\":\"white\",\"ticks\":\"\"}},\"coloraxis\":{\"colorbar\":{\"outlinewidth\":0,\"ticks\":\"\"}},\"colorscale\":{\"sequential\":[[0.0,\"#0d0887\"],[0.1111111111111111,\"#46039f\"],[0.2222222222222222,\"#7201a8\"],[0.3333333333333333,\"#9c179e\"],[0.4444444444444444,\"#bd3786\"],[0.5555555555555556,\"#d8576b\"],[0.6666666666666666,\"#ed7953\"],[0.7777777777777778,\"#fb9f3a\"],[0.8888888888888888,\"#fdca26\"],[1.0,\"#f0f921\"]],\"sequentialminus\":[[0.0,\"#0d0887\"],[0.1111111111111111,\"#46039f\"],[0.2222222222222222,\"#7201a8\"],[0.3333333333333333,\"#9c179e\"],[0.4444444444444444,\"#bd3786\"],[0.5555555555555556,\"#d8576b\"],[0.6666666666666666,\"#ed7953\"],[0.7777777777777778,\"#fb9f3a\"],[0.8888888888888888,\"#fdca26\"],[1.0,\"#f0f921\"]],\"diverging\":[[0,\"#8e0152\"],[0.1,\"#c51b7d\"],[0.2,\"#de77ae\"],[0.3,\"#f1b6da\"],[0.4,\"#fde0ef\"],[0.5,\"#f7f7f7\"],[0.6,\"#e6f5d0\"],[0.7,\"#b8e186\"],[0.8,\"#7fbc41\"],[0.9,\"#4d9221\"],[1,\"#276419\"]]},\"xaxis\":{\"gridcolor\":\"white\",\"linecolor\":\"white\",\"ticks\":\"\",\"title\":{\"standoff\":15},\"zerolinecolor\":\"white\",\"automargin\":true,\"zerolinewidth\":2},\"yaxis\":{\"gridcolor\":\"white\",\"linecolor\":\"white\",\"ticks\":\"\",\"title\":{\"standoff\":15},\"zerolinecolor\":\"white\",\"automargin\":true,\"zerolinewidth\":2},\"scene\":{\"xaxis\":{\"backgroundcolor\":\"#E5ECF6\",\"gridcolor\":\"white\",\"linecolor\":\"white\",\"showbackground\":true,\"ticks\":\"\",\"zerolinecolor\":\"white\",\"gridwidth\":2},\"yaxis\":{\"backgroundcolor\":\"#E5ECF6\",\"gridcolor\":\"white\",\"linecolor\":\"white\",\"showbackground\":true,\"ticks\":\"\",\"zerolinecolor\":\"white\",\"gridwidth\":2},\"zaxis\":{\"backgroundcolor\":\"#E5ECF6\",\"gridcolor\":\"white\",\"linecolor\":\"white\",\"showbackground\":true,\"ticks\":\"\",\"zerolinecolor\":\"white\",\"gridwidth\":2}},\"shapedefaults\":{\"line\":{\"color\":\"#2a3f5f\"}},\"annotationdefaults\":{\"arrowcolor\":\"#2a3f5f\",\"arrowhead\":0,\"arrowwidth\":1},\"geo\":{\"bgcolor\":\"white\",\"landcolor\":\"#E5ECF6\",\"subunitcolor\":\"white\",\"showland\":true,\"showlakes\":true,\"lakecolor\":\"white\"},\"title\":{\"x\":0.05},\"mapbox\":{\"style\":\"light\"}}},\"title\":{\"text\":\"FTSE100 Index - Linear Regression Prediction\"},\"xaxis\":{\"title\":{\"text\":\"Time\"}},\"yaxis\":{\"title\":{\"text\":\"Price\"}}},                        {\"responsive\": true}                    ).then(function(){\n",
              "                            \n",
              "var gd = document.getElementById('30b89724-829b-4567-8cc3-e12e89a4d6fd');\n",
              "var x = new MutationObserver(function (mutations, observer) {{\n",
              "        var display = window.getComputedStyle(gd).display;\n",
              "        if (!display || display === 'none') {{\n",
              "            console.log([gd, 'removed!']);\n",
              "            Plotly.purge(gd);\n",
              "            observer.disconnect();\n",
              "        }}\n",
              "}});\n",
              "\n",
              "// Listen for the removal of the full notebook cells\n",
              "var notebookContainer = gd.closest('#notebook-container');\n",
              "if (notebookContainer) {{\n",
              "    x.observe(notebookContainer, {childList: true});\n",
              "}}\n",
              "\n",
              "// Listen for the clearing of the current output cell\n",
              "var outputEl = gd.closest('.output');\n",
              "if (outputEl) {{\n",
              "    x.observe(outputEl, {childList: true});\n",
              "}}\n",
              "\n",
              "                        })                };                            </script>        </div>\n",
              "</body>\n",
              "</html>"
            ]
          },
          "metadata": {}
        }
      ]
    },
    {
      "cell_type": "markdown",
      "source": [
        "*ARIMA Forecast Plot*"
      ],
      "metadata": {
        "id": "bD7gAtWgPgGS"
      }
    },
    {
      "cell_type": "code",
      "source": [
        "arima_fig = go.Figure()\n",
        "arima_fig.add_trace(go.Scatter(x=forecast_index, y=arima_forecast, mode='lines', name='ARIMA Forecast'))\n",
        "arima_fig.update_layout(title=f'FTSE100 Index - ARIMA Forecast (MAE: {arima_mae:.2f}, RMSE: {arima_rmse:.2f})', xaxis_title='Time', yaxis_title='Price')\n",
        "arima_fig.show()"
      ],
      "metadata": {
        "colab": {
          "base_uri": "https://localhost:8080/",
          "height": 542
        },
        "id": "kP5AKtt7PTmX",
        "outputId": "687c52cb-c146-42a8-8039-39976dac2278"
      },
      "execution_count": 23,
      "outputs": [
        {
          "output_type": "display_data",
          "data": {
            "text/html": [
              "<html>\n",
              "<head><meta charset=\"utf-8\" /></head>\n",
              "<body>\n",
              "    <div>            <script src=\"https://cdnjs.cloudflare.com/ajax/libs/mathjax/2.7.5/MathJax.js?config=TeX-AMS-MML_SVG\"></script><script type=\"text/javascript\">if (window.MathJax && window.MathJax.Hub && window.MathJax.Hub.Config) {window.MathJax.Hub.Config({SVG: {font: \"STIX-Web\"}});}</script>                <script type=\"text/javascript\">window.PlotlyConfig = {MathJaxConfig: 'local'};</script>\n",
              "        <script charset=\"utf-8\" src=\"https://cdn.plot.ly/plotly-2.24.1.min.js\"></script>                <div id=\"4e8b8a44-eeaf-4ded-9871-41ca140dd567\" class=\"plotly-graph-div\" style=\"height:525px; width:100%;\"></div>            <script type=\"text/javascript\">                                    window.PLOTLYENV=window.PLOTLYENV || {};                                    if (document.getElementById(\"4e8b8a44-eeaf-4ded-9871-41ca140dd567\")) {                    Plotly.newPlot(                        \"4e8b8a44-eeaf-4ded-9871-41ca140dd567\",                        [{\"mode\":\"lines\",\"name\":\"ARIMA Forecast\",\"x\":[\"2024-09-04T16:29:00+01:00\",\"2024-09-04T16:30:00+01:00\",\"2024-09-04T16:31:00+01:00\",\"2024-09-04T16:32:00+01:00\",\"2024-09-04T16:33:00+01:00\",\"2024-09-04T16:34:00+01:00\",\"2024-09-04T16:35:00+01:00\",\"2024-09-04T16:36:00+01:00\",\"2024-09-04T16:37:00+01:00\",\"2024-09-04T16:38:00+01:00\"],\"y\":[8266.159659598028,8266.28665625089,8266.11374054734,8266.077841805043,8265.997907678144,8265.949603244833,8265.9634240775,8265.953592580534,8265.949479295106,8265.944497794051],\"type\":\"scatter\"}],                        {\"template\":{\"data\":{\"histogram2dcontour\":[{\"type\":\"histogram2dcontour\",\"colorbar\":{\"outlinewidth\":0,\"ticks\":\"\"},\"colorscale\":[[0.0,\"#0d0887\"],[0.1111111111111111,\"#46039f\"],[0.2222222222222222,\"#7201a8\"],[0.3333333333333333,\"#9c179e\"],[0.4444444444444444,\"#bd3786\"],[0.5555555555555556,\"#d8576b\"],[0.6666666666666666,\"#ed7953\"],[0.7777777777777778,\"#fb9f3a\"],[0.8888888888888888,\"#fdca26\"],[1.0,\"#f0f921\"]]}],\"choropleth\":[{\"type\":\"choropleth\",\"colorbar\":{\"outlinewidth\":0,\"ticks\":\"\"}}],\"histogram2d\":[{\"type\":\"histogram2d\",\"colorbar\":{\"outlinewidth\":0,\"ticks\":\"\"},\"colorscale\":[[0.0,\"#0d0887\"],[0.1111111111111111,\"#46039f\"],[0.2222222222222222,\"#7201a8\"],[0.3333333333333333,\"#9c179e\"],[0.4444444444444444,\"#bd3786\"],[0.5555555555555556,\"#d8576b\"],[0.6666666666666666,\"#ed7953\"],[0.7777777777777778,\"#fb9f3a\"],[0.8888888888888888,\"#fdca26\"],[1.0,\"#f0f921\"]]}],\"heatmap\":[{\"type\":\"heatmap\",\"colorbar\":{\"outlinewidth\":0,\"ticks\":\"\"},\"colorscale\":[[0.0,\"#0d0887\"],[0.1111111111111111,\"#46039f\"],[0.2222222222222222,\"#7201a8\"],[0.3333333333333333,\"#9c179e\"],[0.4444444444444444,\"#bd3786\"],[0.5555555555555556,\"#d8576b\"],[0.6666666666666666,\"#ed7953\"],[0.7777777777777778,\"#fb9f3a\"],[0.8888888888888888,\"#fdca26\"],[1.0,\"#f0f921\"]]}],\"heatmapgl\":[{\"type\":\"heatmapgl\",\"colorbar\":{\"outlinewidth\":0,\"ticks\":\"\"},\"colorscale\":[[0.0,\"#0d0887\"],[0.1111111111111111,\"#46039f\"],[0.2222222222222222,\"#7201a8\"],[0.3333333333333333,\"#9c179e\"],[0.4444444444444444,\"#bd3786\"],[0.5555555555555556,\"#d8576b\"],[0.6666666666666666,\"#ed7953\"],[0.7777777777777778,\"#fb9f3a\"],[0.8888888888888888,\"#fdca26\"],[1.0,\"#f0f921\"]]}],\"contourcarpet\":[{\"type\":\"contourcarpet\",\"colorbar\":{\"outlinewidth\":0,\"ticks\":\"\"}}],\"contour\":[{\"type\":\"contour\",\"colorbar\":{\"outlinewidth\":0,\"ticks\":\"\"},\"colorscale\":[[0.0,\"#0d0887\"],[0.1111111111111111,\"#46039f\"],[0.2222222222222222,\"#7201a8\"],[0.3333333333333333,\"#9c179e\"],[0.4444444444444444,\"#bd3786\"],[0.5555555555555556,\"#d8576b\"],[0.6666666666666666,\"#ed7953\"],[0.7777777777777778,\"#fb9f3a\"],[0.8888888888888888,\"#fdca26\"],[1.0,\"#f0f921\"]]}],\"surface\":[{\"type\":\"surface\",\"colorbar\":{\"outlinewidth\":0,\"ticks\":\"\"},\"colorscale\":[[0.0,\"#0d0887\"],[0.1111111111111111,\"#46039f\"],[0.2222222222222222,\"#7201a8\"],[0.3333333333333333,\"#9c179e\"],[0.4444444444444444,\"#bd3786\"],[0.5555555555555556,\"#d8576b\"],[0.6666666666666666,\"#ed7953\"],[0.7777777777777778,\"#fb9f3a\"],[0.8888888888888888,\"#fdca26\"],[1.0,\"#f0f921\"]]}],\"mesh3d\":[{\"type\":\"mesh3d\",\"colorbar\":{\"outlinewidth\":0,\"ticks\":\"\"}}],\"scatter\":[{\"fillpattern\":{\"fillmode\":\"overlay\",\"size\":10,\"solidity\":0.2},\"type\":\"scatter\"}],\"parcoords\":[{\"type\":\"parcoords\",\"line\":{\"colorbar\":{\"outlinewidth\":0,\"ticks\":\"\"}}}],\"scatterpolargl\":[{\"type\":\"scatterpolargl\",\"marker\":{\"colorbar\":{\"outlinewidth\":0,\"ticks\":\"\"}}}],\"bar\":[{\"error_x\":{\"color\":\"#2a3f5f\"},\"error_y\":{\"color\":\"#2a3f5f\"},\"marker\":{\"line\":{\"color\":\"#E5ECF6\",\"width\":0.5},\"pattern\":{\"fillmode\":\"overlay\",\"size\":10,\"solidity\":0.2}},\"type\":\"bar\"}],\"scattergeo\":[{\"type\":\"scattergeo\",\"marker\":{\"colorbar\":{\"outlinewidth\":0,\"ticks\":\"\"}}}],\"scatterpolar\":[{\"type\":\"scatterpolar\",\"marker\":{\"colorbar\":{\"outlinewidth\":0,\"ticks\":\"\"}}}],\"histogram\":[{\"marker\":{\"pattern\":{\"fillmode\":\"overlay\",\"size\":10,\"solidity\":0.2}},\"type\":\"histogram\"}],\"scattergl\":[{\"type\":\"scattergl\",\"marker\":{\"colorbar\":{\"outlinewidth\":0,\"ticks\":\"\"}}}],\"scatter3d\":[{\"type\":\"scatter3d\",\"line\":{\"colorbar\":{\"outlinewidth\":0,\"ticks\":\"\"}},\"marker\":{\"colorbar\":{\"outlinewidth\":0,\"ticks\":\"\"}}}],\"scattermapbox\":[{\"type\":\"scattermapbox\",\"marker\":{\"colorbar\":{\"outlinewidth\":0,\"ticks\":\"\"}}}],\"scatterternary\":[{\"type\":\"scatterternary\",\"marker\":{\"colorbar\":{\"outlinewidth\":0,\"ticks\":\"\"}}}],\"scattercarpet\":[{\"type\":\"scattercarpet\",\"marker\":{\"colorbar\":{\"outlinewidth\":0,\"ticks\":\"\"}}}],\"carpet\":[{\"aaxis\":{\"endlinecolor\":\"#2a3f5f\",\"gridcolor\":\"white\",\"linecolor\":\"white\",\"minorgridcolor\":\"white\",\"startlinecolor\":\"#2a3f5f\"},\"baxis\":{\"endlinecolor\":\"#2a3f5f\",\"gridcolor\":\"white\",\"linecolor\":\"white\",\"minorgridcolor\":\"white\",\"startlinecolor\":\"#2a3f5f\"},\"type\":\"carpet\"}],\"table\":[{\"cells\":{\"fill\":{\"color\":\"#EBF0F8\"},\"line\":{\"color\":\"white\"}},\"header\":{\"fill\":{\"color\":\"#C8D4E3\"},\"line\":{\"color\":\"white\"}},\"type\":\"table\"}],\"barpolar\":[{\"marker\":{\"line\":{\"color\":\"#E5ECF6\",\"width\":0.5},\"pattern\":{\"fillmode\":\"overlay\",\"size\":10,\"solidity\":0.2}},\"type\":\"barpolar\"}],\"pie\":[{\"automargin\":true,\"type\":\"pie\"}]},\"layout\":{\"autotypenumbers\":\"strict\",\"colorway\":[\"#636efa\",\"#EF553B\",\"#00cc96\",\"#ab63fa\",\"#FFA15A\",\"#19d3f3\",\"#FF6692\",\"#B6E880\",\"#FF97FF\",\"#FECB52\"],\"font\":{\"color\":\"#2a3f5f\"},\"hovermode\":\"closest\",\"hoverlabel\":{\"align\":\"left\"},\"paper_bgcolor\":\"white\",\"plot_bgcolor\":\"#E5ECF6\",\"polar\":{\"bgcolor\":\"#E5ECF6\",\"angularaxis\":{\"gridcolor\":\"white\",\"linecolor\":\"white\",\"ticks\":\"\"},\"radialaxis\":{\"gridcolor\":\"white\",\"linecolor\":\"white\",\"ticks\":\"\"}},\"ternary\":{\"bgcolor\":\"#E5ECF6\",\"aaxis\":{\"gridcolor\":\"white\",\"linecolor\":\"white\",\"ticks\":\"\"},\"baxis\":{\"gridcolor\":\"white\",\"linecolor\":\"white\",\"ticks\":\"\"},\"caxis\":{\"gridcolor\":\"white\",\"linecolor\":\"white\",\"ticks\":\"\"}},\"coloraxis\":{\"colorbar\":{\"outlinewidth\":0,\"ticks\":\"\"}},\"colorscale\":{\"sequential\":[[0.0,\"#0d0887\"],[0.1111111111111111,\"#46039f\"],[0.2222222222222222,\"#7201a8\"],[0.3333333333333333,\"#9c179e\"],[0.4444444444444444,\"#bd3786\"],[0.5555555555555556,\"#d8576b\"],[0.6666666666666666,\"#ed7953\"],[0.7777777777777778,\"#fb9f3a\"],[0.8888888888888888,\"#fdca26\"],[1.0,\"#f0f921\"]],\"sequentialminus\":[[0.0,\"#0d0887\"],[0.1111111111111111,\"#46039f\"],[0.2222222222222222,\"#7201a8\"],[0.3333333333333333,\"#9c179e\"],[0.4444444444444444,\"#bd3786\"],[0.5555555555555556,\"#d8576b\"],[0.6666666666666666,\"#ed7953\"],[0.7777777777777778,\"#fb9f3a\"],[0.8888888888888888,\"#fdca26\"],[1.0,\"#f0f921\"]],\"diverging\":[[0,\"#8e0152\"],[0.1,\"#c51b7d\"],[0.2,\"#de77ae\"],[0.3,\"#f1b6da\"],[0.4,\"#fde0ef\"],[0.5,\"#f7f7f7\"],[0.6,\"#e6f5d0\"],[0.7,\"#b8e186\"],[0.8,\"#7fbc41\"],[0.9,\"#4d9221\"],[1,\"#276419\"]]},\"xaxis\":{\"gridcolor\":\"white\",\"linecolor\":\"white\",\"ticks\":\"\",\"title\":{\"standoff\":15},\"zerolinecolor\":\"white\",\"automargin\":true,\"zerolinewidth\":2},\"yaxis\":{\"gridcolor\":\"white\",\"linecolor\":\"white\",\"ticks\":\"\",\"title\":{\"standoff\":15},\"zerolinecolor\":\"white\",\"automargin\":true,\"zerolinewidth\":2},\"scene\":{\"xaxis\":{\"backgroundcolor\":\"#E5ECF6\",\"gridcolor\":\"white\",\"linecolor\":\"white\",\"showbackground\":true,\"ticks\":\"\",\"zerolinecolor\":\"white\",\"gridwidth\":2},\"yaxis\":{\"backgroundcolor\":\"#E5ECF6\",\"gridcolor\":\"white\",\"linecolor\":\"white\",\"showbackground\":true,\"ticks\":\"\",\"zerolinecolor\":\"white\",\"gridwidth\":2},\"zaxis\":{\"backgroundcolor\":\"#E5ECF6\",\"gridcolor\":\"white\",\"linecolor\":\"white\",\"showbackground\":true,\"ticks\":\"\",\"zerolinecolor\":\"white\",\"gridwidth\":2}},\"shapedefaults\":{\"line\":{\"color\":\"#2a3f5f\"}},\"annotationdefaults\":{\"arrowcolor\":\"#2a3f5f\",\"arrowhead\":0,\"arrowwidth\":1},\"geo\":{\"bgcolor\":\"white\",\"landcolor\":\"#E5ECF6\",\"subunitcolor\":\"white\",\"showland\":true,\"showlakes\":true,\"lakecolor\":\"white\"},\"title\":{\"x\":0.05},\"mapbox\":{\"style\":\"light\"}}},\"title\":{\"text\":\"FTSE100 Index - ARIMA Forecast (MAE: 3.43, RMSE: 3.78)\"},\"xaxis\":{\"title\":{\"text\":\"Time\"}},\"yaxis\":{\"title\":{\"text\":\"Price\"}}},                        {\"responsive\": true}                    ).then(function(){\n",
              "                            \n",
              "var gd = document.getElementById('4e8b8a44-eeaf-4ded-9871-41ca140dd567');\n",
              "var x = new MutationObserver(function (mutations, observer) {{\n",
              "        var display = window.getComputedStyle(gd).display;\n",
              "        if (!display || display === 'none') {{\n",
              "            console.log([gd, 'removed!']);\n",
              "            Plotly.purge(gd);\n",
              "            observer.disconnect();\n",
              "        }}\n",
              "}});\n",
              "\n",
              "// Listen for the removal of the full notebook cells\n",
              "var notebookContainer = gd.closest('#notebook-container');\n",
              "if (notebookContainer) {{\n",
              "    x.observe(notebookContainer, {childList: true});\n",
              "}}\n",
              "\n",
              "// Listen for the clearing of the current output cell\n",
              "var outputEl = gd.closest('.output');\n",
              "if (outputEl) {{\n",
              "    x.observe(outputEl, {childList: true});\n",
              "}}\n",
              "\n",
              "                        })                };                            </script>        </div>\n",
              "</body>\n",
              "</html>"
            ]
          },
          "metadata": {}
        }
      ]
    },
    {
      "cell_type": "markdown",
      "source": [
        "*LSTM Forecast Plot*"
      ],
      "metadata": {
        "id": "BYEMYIkyPX9x"
      }
    },
    {
      "cell_type": "code",
      "source": [
        "lstm_fig = go.Figure()\n",
        "lstm_fig.add_trace(go.Scatter(x=forecast_index, y=lstm_forecast, mode='lines', name='LSTM Forecast'))\n",
        "lstm_fig.update_layout(title=f'FTSE100 Index - LSTM Forecast (MAE: {lstm_mae:.2f}, RMSE: {lstm_rmse:.2f})', xaxis_title='Time', yaxis_title='Price')\n",
        "lstm_fig.show()"
      ],
      "metadata": {
        "colab": {
          "base_uri": "https://localhost:8080/",
          "height": 542
        },
        "id": "CPEu9uQ4PVnE",
        "outputId": "bc5bcc03-b134-49cf-8838-44f16ea2703f"
      },
      "execution_count": 24,
      "outputs": [
        {
          "output_type": "display_data",
          "data": {
            "text/html": [
              "<html>\n",
              "<head><meta charset=\"utf-8\" /></head>\n",
              "<body>\n",
              "    <div>            <script src=\"https://cdnjs.cloudflare.com/ajax/libs/mathjax/2.7.5/MathJax.js?config=TeX-AMS-MML_SVG\"></script><script type=\"text/javascript\">if (window.MathJax && window.MathJax.Hub && window.MathJax.Hub.Config) {window.MathJax.Hub.Config({SVG: {font: \"STIX-Web\"}});}</script>                <script type=\"text/javascript\">window.PlotlyConfig = {MathJaxConfig: 'local'};</script>\n",
              "        <script charset=\"utf-8\" src=\"https://cdn.plot.ly/plotly-2.24.1.min.js\"></script>                <div id=\"528d4ef5-d810-4c7e-b983-48b3fe477f22\" class=\"plotly-graph-div\" style=\"height:525px; width:100%;\"></div>            <script type=\"text/javascript\">                                    window.PLOTLYENV=window.PLOTLYENV || {};                                    if (document.getElementById(\"528d4ef5-d810-4c7e-b983-48b3fe477f22\")) {                    Plotly.newPlot(                        \"528d4ef5-d810-4c7e-b983-48b3fe477f22\",                        [{\"mode\":\"lines\",\"name\":\"LSTM Forecast\",\"x\":[\"2024-09-04T16:29:00+01:00\",\"2024-09-04T16:30:00+01:00\",\"2024-09-04T16:31:00+01:00\",\"2024-09-04T16:32:00+01:00\",\"2024-09-04T16:33:00+01:00\",\"2024-09-04T16:34:00+01:00\",\"2024-09-04T16:35:00+01:00\",\"2024-09-04T16:36:00+01:00\",\"2024-09-04T16:37:00+01:00\",\"2024-09-04T16:38:00+01:00\"],\"y\":[8270.234375,8269.953125,8269.744140625,8269.5869140625,8269.466796875,8269.3720703125,8269.2958984375,8269.234375,8269.1826171875,8269.138671875],\"type\":\"scatter\"}],                        {\"template\":{\"data\":{\"histogram2dcontour\":[{\"type\":\"histogram2dcontour\",\"colorbar\":{\"outlinewidth\":0,\"ticks\":\"\"},\"colorscale\":[[0.0,\"#0d0887\"],[0.1111111111111111,\"#46039f\"],[0.2222222222222222,\"#7201a8\"],[0.3333333333333333,\"#9c179e\"],[0.4444444444444444,\"#bd3786\"],[0.5555555555555556,\"#d8576b\"],[0.6666666666666666,\"#ed7953\"],[0.7777777777777778,\"#fb9f3a\"],[0.8888888888888888,\"#fdca26\"],[1.0,\"#f0f921\"]]}],\"choropleth\":[{\"type\":\"choropleth\",\"colorbar\":{\"outlinewidth\":0,\"ticks\":\"\"}}],\"histogram2d\":[{\"type\":\"histogram2d\",\"colorbar\":{\"outlinewidth\":0,\"ticks\":\"\"},\"colorscale\":[[0.0,\"#0d0887\"],[0.1111111111111111,\"#46039f\"],[0.2222222222222222,\"#7201a8\"],[0.3333333333333333,\"#9c179e\"],[0.4444444444444444,\"#bd3786\"],[0.5555555555555556,\"#d8576b\"],[0.6666666666666666,\"#ed7953\"],[0.7777777777777778,\"#fb9f3a\"],[0.8888888888888888,\"#fdca26\"],[1.0,\"#f0f921\"]]}],\"heatmap\":[{\"type\":\"heatmap\",\"colorbar\":{\"outlinewidth\":0,\"ticks\":\"\"},\"colorscale\":[[0.0,\"#0d0887\"],[0.1111111111111111,\"#46039f\"],[0.2222222222222222,\"#7201a8\"],[0.3333333333333333,\"#9c179e\"],[0.4444444444444444,\"#bd3786\"],[0.5555555555555556,\"#d8576b\"],[0.6666666666666666,\"#ed7953\"],[0.7777777777777778,\"#fb9f3a\"],[0.8888888888888888,\"#fdca26\"],[1.0,\"#f0f921\"]]}],\"heatmapgl\":[{\"type\":\"heatmapgl\",\"colorbar\":{\"outlinewidth\":0,\"ticks\":\"\"},\"colorscale\":[[0.0,\"#0d0887\"],[0.1111111111111111,\"#46039f\"],[0.2222222222222222,\"#7201a8\"],[0.3333333333333333,\"#9c179e\"],[0.4444444444444444,\"#bd3786\"],[0.5555555555555556,\"#d8576b\"],[0.6666666666666666,\"#ed7953\"],[0.7777777777777778,\"#fb9f3a\"],[0.8888888888888888,\"#fdca26\"],[1.0,\"#f0f921\"]]}],\"contourcarpet\":[{\"type\":\"contourcarpet\",\"colorbar\":{\"outlinewidth\":0,\"ticks\":\"\"}}],\"contour\":[{\"type\":\"contour\",\"colorbar\":{\"outlinewidth\":0,\"ticks\":\"\"},\"colorscale\":[[0.0,\"#0d0887\"],[0.1111111111111111,\"#46039f\"],[0.2222222222222222,\"#7201a8\"],[0.3333333333333333,\"#9c179e\"],[0.4444444444444444,\"#bd3786\"],[0.5555555555555556,\"#d8576b\"],[0.6666666666666666,\"#ed7953\"],[0.7777777777777778,\"#fb9f3a\"],[0.8888888888888888,\"#fdca26\"],[1.0,\"#f0f921\"]]}],\"surface\":[{\"type\":\"surface\",\"colorbar\":{\"outlinewidth\":0,\"ticks\":\"\"},\"colorscale\":[[0.0,\"#0d0887\"],[0.1111111111111111,\"#46039f\"],[0.2222222222222222,\"#7201a8\"],[0.3333333333333333,\"#9c179e\"],[0.4444444444444444,\"#bd3786\"],[0.5555555555555556,\"#d8576b\"],[0.6666666666666666,\"#ed7953\"],[0.7777777777777778,\"#fb9f3a\"],[0.8888888888888888,\"#fdca26\"],[1.0,\"#f0f921\"]]}],\"mesh3d\":[{\"type\":\"mesh3d\",\"colorbar\":{\"outlinewidth\":0,\"ticks\":\"\"}}],\"scatter\":[{\"fillpattern\":{\"fillmode\":\"overlay\",\"size\":10,\"solidity\":0.2},\"type\":\"scatter\"}],\"parcoords\":[{\"type\":\"parcoords\",\"line\":{\"colorbar\":{\"outlinewidth\":0,\"ticks\":\"\"}}}],\"scatterpolargl\":[{\"type\":\"scatterpolargl\",\"marker\":{\"colorbar\":{\"outlinewidth\":0,\"ticks\":\"\"}}}],\"bar\":[{\"error_x\":{\"color\":\"#2a3f5f\"},\"error_y\":{\"color\":\"#2a3f5f\"},\"marker\":{\"line\":{\"color\":\"#E5ECF6\",\"width\":0.5},\"pattern\":{\"fillmode\":\"overlay\",\"size\":10,\"solidity\":0.2}},\"type\":\"bar\"}],\"scattergeo\":[{\"type\":\"scattergeo\",\"marker\":{\"colorbar\":{\"outlinewidth\":0,\"ticks\":\"\"}}}],\"scatterpolar\":[{\"type\":\"scatterpolar\",\"marker\":{\"colorbar\":{\"outlinewidth\":0,\"ticks\":\"\"}}}],\"histogram\":[{\"marker\":{\"pattern\":{\"fillmode\":\"overlay\",\"size\":10,\"solidity\":0.2}},\"type\":\"histogram\"}],\"scattergl\":[{\"type\":\"scattergl\",\"marker\":{\"colorbar\":{\"outlinewidth\":0,\"ticks\":\"\"}}}],\"scatter3d\":[{\"type\":\"scatter3d\",\"line\":{\"colorbar\":{\"outlinewidth\":0,\"ticks\":\"\"}},\"marker\":{\"colorbar\":{\"outlinewidth\":0,\"ticks\":\"\"}}}],\"scattermapbox\":[{\"type\":\"scattermapbox\",\"marker\":{\"colorbar\":{\"outlinewidth\":0,\"ticks\":\"\"}}}],\"scatterternary\":[{\"type\":\"scatterternary\",\"marker\":{\"colorbar\":{\"outlinewidth\":0,\"ticks\":\"\"}}}],\"scattercarpet\":[{\"type\":\"scattercarpet\",\"marker\":{\"colorbar\":{\"outlinewidth\":0,\"ticks\":\"\"}}}],\"carpet\":[{\"aaxis\":{\"endlinecolor\":\"#2a3f5f\",\"gridcolor\":\"white\",\"linecolor\":\"white\",\"minorgridcolor\":\"white\",\"startlinecolor\":\"#2a3f5f\"},\"baxis\":{\"endlinecolor\":\"#2a3f5f\",\"gridcolor\":\"white\",\"linecolor\":\"white\",\"minorgridcolor\":\"white\",\"startlinecolor\":\"#2a3f5f\"},\"type\":\"carpet\"}],\"table\":[{\"cells\":{\"fill\":{\"color\":\"#EBF0F8\"},\"line\":{\"color\":\"white\"}},\"header\":{\"fill\":{\"color\":\"#C8D4E3\"},\"line\":{\"color\":\"white\"}},\"type\":\"table\"}],\"barpolar\":[{\"marker\":{\"line\":{\"color\":\"#E5ECF6\",\"width\":0.5},\"pattern\":{\"fillmode\":\"overlay\",\"size\":10,\"solidity\":0.2}},\"type\":\"barpolar\"}],\"pie\":[{\"automargin\":true,\"type\":\"pie\"}]},\"layout\":{\"autotypenumbers\":\"strict\",\"colorway\":[\"#636efa\",\"#EF553B\",\"#00cc96\",\"#ab63fa\",\"#FFA15A\",\"#19d3f3\",\"#FF6692\",\"#B6E880\",\"#FF97FF\",\"#FECB52\"],\"font\":{\"color\":\"#2a3f5f\"},\"hovermode\":\"closest\",\"hoverlabel\":{\"align\":\"left\"},\"paper_bgcolor\":\"white\",\"plot_bgcolor\":\"#E5ECF6\",\"polar\":{\"bgcolor\":\"#E5ECF6\",\"angularaxis\":{\"gridcolor\":\"white\",\"linecolor\":\"white\",\"ticks\":\"\"},\"radialaxis\":{\"gridcolor\":\"white\",\"linecolor\":\"white\",\"ticks\":\"\"}},\"ternary\":{\"bgcolor\":\"#E5ECF6\",\"aaxis\":{\"gridcolor\":\"white\",\"linecolor\":\"white\",\"ticks\":\"\"},\"baxis\":{\"gridcolor\":\"white\",\"linecolor\":\"white\",\"ticks\":\"\"},\"caxis\":{\"gridcolor\":\"white\",\"linecolor\":\"white\",\"ticks\":\"\"}},\"coloraxis\":{\"colorbar\":{\"outlinewidth\":0,\"ticks\":\"\"}},\"colorscale\":{\"sequential\":[[0.0,\"#0d0887\"],[0.1111111111111111,\"#46039f\"],[0.2222222222222222,\"#7201a8\"],[0.3333333333333333,\"#9c179e\"],[0.4444444444444444,\"#bd3786\"],[0.5555555555555556,\"#d8576b\"],[0.6666666666666666,\"#ed7953\"],[0.7777777777777778,\"#fb9f3a\"],[0.8888888888888888,\"#fdca26\"],[1.0,\"#f0f921\"]],\"sequentialminus\":[[0.0,\"#0d0887\"],[0.1111111111111111,\"#46039f\"],[0.2222222222222222,\"#7201a8\"],[0.3333333333333333,\"#9c179e\"],[0.4444444444444444,\"#bd3786\"],[0.5555555555555556,\"#d8576b\"],[0.6666666666666666,\"#ed7953\"],[0.7777777777777778,\"#fb9f3a\"],[0.8888888888888888,\"#fdca26\"],[1.0,\"#f0f921\"]],\"diverging\":[[0,\"#8e0152\"],[0.1,\"#c51b7d\"],[0.2,\"#de77ae\"],[0.3,\"#f1b6da\"],[0.4,\"#fde0ef\"],[0.5,\"#f7f7f7\"],[0.6,\"#e6f5d0\"],[0.7,\"#b8e186\"],[0.8,\"#7fbc41\"],[0.9,\"#4d9221\"],[1,\"#276419\"]]},\"xaxis\":{\"gridcolor\":\"white\",\"linecolor\":\"white\",\"ticks\":\"\",\"title\":{\"standoff\":15},\"zerolinecolor\":\"white\",\"automargin\":true,\"zerolinewidth\":2},\"yaxis\":{\"gridcolor\":\"white\",\"linecolor\":\"white\",\"ticks\":\"\",\"title\":{\"standoff\":15},\"zerolinecolor\":\"white\",\"automargin\":true,\"zerolinewidth\":2},\"scene\":{\"xaxis\":{\"backgroundcolor\":\"#E5ECF6\",\"gridcolor\":\"white\",\"linecolor\":\"white\",\"showbackground\":true,\"ticks\":\"\",\"zerolinecolor\":\"white\",\"gridwidth\":2},\"yaxis\":{\"backgroundcolor\":\"#E5ECF6\",\"gridcolor\":\"white\",\"linecolor\":\"white\",\"showbackground\":true,\"ticks\":\"\",\"zerolinecolor\":\"white\",\"gridwidth\":2},\"zaxis\":{\"backgroundcolor\":\"#E5ECF6\",\"gridcolor\":\"white\",\"linecolor\":\"white\",\"showbackground\":true,\"ticks\":\"\",\"zerolinecolor\":\"white\",\"gridwidth\":2}},\"shapedefaults\":{\"line\":{\"color\":\"#2a3f5f\"}},\"annotationdefaults\":{\"arrowcolor\":\"#2a3f5f\",\"arrowhead\":0,\"arrowwidth\":1},\"geo\":{\"bgcolor\":\"white\",\"landcolor\":\"#E5ECF6\",\"subunitcolor\":\"white\",\"showland\":true,\"showlakes\":true,\"lakecolor\":\"white\"},\"title\":{\"x\":0.05},\"mapbox\":{\"style\":\"light\"}}},\"title\":{\"text\":\"FTSE100 Index - LSTM Forecast (MAE: 1.11, RMSE: 1.38)\"},\"xaxis\":{\"title\":{\"text\":\"Time\"}},\"yaxis\":{\"title\":{\"text\":\"Price\"}}},                        {\"responsive\": true}                    ).then(function(){\n",
              "                            \n",
              "var gd = document.getElementById('528d4ef5-d810-4c7e-b983-48b3fe477f22');\n",
              "var x = new MutationObserver(function (mutations, observer) {{\n",
              "        var display = window.getComputedStyle(gd).display;\n",
              "        if (!display || display === 'none') {{\n",
              "            console.log([gd, 'removed!']);\n",
              "            Plotly.purge(gd);\n",
              "            observer.disconnect();\n",
              "        }}\n",
              "}});\n",
              "\n",
              "// Listen for the removal of the full notebook cells\n",
              "var notebookContainer = gd.closest('#notebook-container');\n",
              "if (notebookContainer) {{\n",
              "    x.observe(notebookContainer, {childList: true});\n",
              "}}\n",
              "\n",
              "// Listen for the clearing of the current output cell\n",
              "var outputEl = gd.closest('.output');\n",
              "if (outputEl) {{\n",
              "    x.observe(outputEl, {childList: true});\n",
              "}}\n",
              "\n",
              "                        })                };                            </script>        </div>\n",
              "</body>\n",
              "</html>"
            ]
          },
          "metadata": {}
        }
      ]
    },
    {
      "cell_type": "code",
      "source": [
        "prophet_forecast['ds'] = pd.to_datetime(prophet_forecast['ds'])\n",
        "prophet_fig = go.Figure()\n",
        "prophet_fig.add_trace(go.Scatter(x=prophet_forecast['ds'], y=prophet_forecast['yhat'], mode='lines', name='Prophet Forecast'))\n",
        "prophet_fig.update_layout(title='FTSE100 Index - Prophet Forecast (Long-Term)', xaxis_title='Date', yaxis_title='Predicted Price')\n",
        "prophet_fig.show()"
      ],
      "metadata": {
        "colab": {
          "base_uri": "https://localhost:8080/",
          "height": 631
        },
        "id": "m0UxRQ-momsw",
        "outputId": "e6570ddf-917b-474a-9741-afe60c718396"
      },
      "execution_count": 48,
      "outputs": [
        {
          "output_type": "stream",
          "name": "stderr",
          "text": [
            "/usr/local/lib/python3.10/dist-packages/_plotly_utils/basevalidators.py:105: FutureWarning:\n",
            "\n",
            "The behavior of DatetimeProperties.to_pydatetime is deprecated, in a future version this will return a Series containing python datetime objects instead of an ndarray. To retain the old behavior, call `np.array` on the result\n",
            "\n"
          ]
        },
        {
          "output_type": "display_data",
          "data": {
            "text/html": [
              "<html>\n",
              "<head><meta charset=\"utf-8\" /></head>\n",
              "<body>\n",
              "    <div>            <script src=\"https://cdnjs.cloudflare.com/ajax/libs/mathjax/2.7.5/MathJax.js?config=TeX-AMS-MML_SVG\"></script><script type=\"text/javascript\">if (window.MathJax && window.MathJax.Hub && window.MathJax.Hub.Config) {window.MathJax.Hub.Config({SVG: {font: \"STIX-Web\"}});}</script>                <script type=\"text/javascript\">window.PlotlyConfig = {MathJaxConfig: 'local'};</script>\n",
              "        <script charset=\"utf-8\" src=\"https://cdn.plot.ly/plotly-2.24.1.min.js\"></script>                <div id=\"83c96e73-86db-46dd-80eb-6e1fa7c285be\" class=\"plotly-graph-div\" style=\"height:525px; width:100%;\"></div>            <script type=\"text/javascript\">                                    window.PLOTLYENV=window.PLOTLYENV || {};                                    if (document.getElementById(\"83c96e73-86db-46dd-80eb-6e1fa7c285be\")) {                    Plotly.newPlot(                        \"83c96e73-86db-46dd-80eb-6e1fa7c285be\",                        [{\"mode\":\"lines\",\"name\":\"Prophet Forecast\",\"x\":[\"2024-09-05T16:28:00\",\"2024-09-06T16:28:00\",\"2024-09-07T16:28:00\",\"2024-09-08T16:28:00\",\"2024-09-09T16:28:00\",\"2024-09-10T16:28:00\",\"2024-09-11T16:28:00\",\"2024-09-12T16:28:00\",\"2024-09-13T16:28:00\",\"2024-09-14T16:28:00\"],\"y\":[8602.649200213837,9294.77113581266,10138.33084928747,10823.692407245158,11220.233724710555,11470.695566446191,11831.535084148818,12424.88126046358,13138.890615720005,13758.52260511678],\"type\":\"scatter\"}],                        {\"template\":{\"data\":{\"histogram2dcontour\":[{\"type\":\"histogram2dcontour\",\"colorbar\":{\"outlinewidth\":0,\"ticks\":\"\"},\"colorscale\":[[0.0,\"#0d0887\"],[0.1111111111111111,\"#46039f\"],[0.2222222222222222,\"#7201a8\"],[0.3333333333333333,\"#9c179e\"],[0.4444444444444444,\"#bd3786\"],[0.5555555555555556,\"#d8576b\"],[0.6666666666666666,\"#ed7953\"],[0.7777777777777778,\"#fb9f3a\"],[0.8888888888888888,\"#fdca26\"],[1.0,\"#f0f921\"]]}],\"choropleth\":[{\"type\":\"choropleth\",\"colorbar\":{\"outlinewidth\":0,\"ticks\":\"\"}}],\"histogram2d\":[{\"type\":\"histogram2d\",\"colorbar\":{\"outlinewidth\":0,\"ticks\":\"\"},\"colorscale\":[[0.0,\"#0d0887\"],[0.1111111111111111,\"#46039f\"],[0.2222222222222222,\"#7201a8\"],[0.3333333333333333,\"#9c179e\"],[0.4444444444444444,\"#bd3786\"],[0.5555555555555556,\"#d8576b\"],[0.6666666666666666,\"#ed7953\"],[0.7777777777777778,\"#fb9f3a\"],[0.8888888888888888,\"#fdca26\"],[1.0,\"#f0f921\"]]}],\"heatmap\":[{\"type\":\"heatmap\",\"colorbar\":{\"outlinewidth\":0,\"ticks\":\"\"},\"colorscale\":[[0.0,\"#0d0887\"],[0.1111111111111111,\"#46039f\"],[0.2222222222222222,\"#7201a8\"],[0.3333333333333333,\"#9c179e\"],[0.4444444444444444,\"#bd3786\"],[0.5555555555555556,\"#d8576b\"],[0.6666666666666666,\"#ed7953\"],[0.7777777777777778,\"#fb9f3a\"],[0.8888888888888888,\"#fdca26\"],[1.0,\"#f0f921\"]]}],\"heatmapgl\":[{\"type\":\"heatmapgl\",\"colorbar\":{\"outlinewidth\":0,\"ticks\":\"\"},\"colorscale\":[[0.0,\"#0d0887\"],[0.1111111111111111,\"#46039f\"],[0.2222222222222222,\"#7201a8\"],[0.3333333333333333,\"#9c179e\"],[0.4444444444444444,\"#bd3786\"],[0.5555555555555556,\"#d8576b\"],[0.6666666666666666,\"#ed7953\"],[0.7777777777777778,\"#fb9f3a\"],[0.8888888888888888,\"#fdca26\"],[1.0,\"#f0f921\"]]}],\"contourcarpet\":[{\"type\":\"contourcarpet\",\"colorbar\":{\"outlinewidth\":0,\"ticks\":\"\"}}],\"contour\":[{\"type\":\"contour\",\"colorbar\":{\"outlinewidth\":0,\"ticks\":\"\"},\"colorscale\":[[0.0,\"#0d0887\"],[0.1111111111111111,\"#46039f\"],[0.2222222222222222,\"#7201a8\"],[0.3333333333333333,\"#9c179e\"],[0.4444444444444444,\"#bd3786\"],[0.5555555555555556,\"#d8576b\"],[0.6666666666666666,\"#ed7953\"],[0.7777777777777778,\"#fb9f3a\"],[0.8888888888888888,\"#fdca26\"],[1.0,\"#f0f921\"]]}],\"surface\":[{\"type\":\"surface\",\"colorbar\":{\"outlinewidth\":0,\"ticks\":\"\"},\"colorscale\":[[0.0,\"#0d0887\"],[0.1111111111111111,\"#46039f\"],[0.2222222222222222,\"#7201a8\"],[0.3333333333333333,\"#9c179e\"],[0.4444444444444444,\"#bd3786\"],[0.5555555555555556,\"#d8576b\"],[0.6666666666666666,\"#ed7953\"],[0.7777777777777778,\"#fb9f3a\"],[0.8888888888888888,\"#fdca26\"],[1.0,\"#f0f921\"]]}],\"mesh3d\":[{\"type\":\"mesh3d\",\"colorbar\":{\"outlinewidth\":0,\"ticks\":\"\"}}],\"scatter\":[{\"fillpattern\":{\"fillmode\":\"overlay\",\"size\":10,\"solidity\":0.2},\"type\":\"scatter\"}],\"parcoords\":[{\"type\":\"parcoords\",\"line\":{\"colorbar\":{\"outlinewidth\":0,\"ticks\":\"\"}}}],\"scatterpolargl\":[{\"type\":\"scatterpolargl\",\"marker\":{\"colorbar\":{\"outlinewidth\":0,\"ticks\":\"\"}}}],\"bar\":[{\"error_x\":{\"color\":\"#2a3f5f\"},\"error_y\":{\"color\":\"#2a3f5f\"},\"marker\":{\"line\":{\"color\":\"#E5ECF6\",\"width\":0.5},\"pattern\":{\"fillmode\":\"overlay\",\"size\":10,\"solidity\":0.2}},\"type\":\"bar\"}],\"scattergeo\":[{\"type\":\"scattergeo\",\"marker\":{\"colorbar\":{\"outlinewidth\":0,\"ticks\":\"\"}}}],\"scatterpolar\":[{\"type\":\"scatterpolar\",\"marker\":{\"colorbar\":{\"outlinewidth\":0,\"ticks\":\"\"}}}],\"histogram\":[{\"marker\":{\"pattern\":{\"fillmode\":\"overlay\",\"size\":10,\"solidity\":0.2}},\"type\":\"histogram\"}],\"scattergl\":[{\"type\":\"scattergl\",\"marker\":{\"colorbar\":{\"outlinewidth\":0,\"ticks\":\"\"}}}],\"scatter3d\":[{\"type\":\"scatter3d\",\"line\":{\"colorbar\":{\"outlinewidth\":0,\"ticks\":\"\"}},\"marker\":{\"colorbar\":{\"outlinewidth\":0,\"ticks\":\"\"}}}],\"scattermapbox\":[{\"type\":\"scattermapbox\",\"marker\":{\"colorbar\":{\"outlinewidth\":0,\"ticks\":\"\"}}}],\"scatterternary\":[{\"type\":\"scatterternary\",\"marker\":{\"colorbar\":{\"outlinewidth\":0,\"ticks\":\"\"}}}],\"scattercarpet\":[{\"type\":\"scattercarpet\",\"marker\":{\"colorbar\":{\"outlinewidth\":0,\"ticks\":\"\"}}}],\"carpet\":[{\"aaxis\":{\"endlinecolor\":\"#2a3f5f\",\"gridcolor\":\"white\",\"linecolor\":\"white\",\"minorgridcolor\":\"white\",\"startlinecolor\":\"#2a3f5f\"},\"baxis\":{\"endlinecolor\":\"#2a3f5f\",\"gridcolor\":\"white\",\"linecolor\":\"white\",\"minorgridcolor\":\"white\",\"startlinecolor\":\"#2a3f5f\"},\"type\":\"carpet\"}],\"table\":[{\"cells\":{\"fill\":{\"color\":\"#EBF0F8\"},\"line\":{\"color\":\"white\"}},\"header\":{\"fill\":{\"color\":\"#C8D4E3\"},\"line\":{\"color\":\"white\"}},\"type\":\"table\"}],\"barpolar\":[{\"marker\":{\"line\":{\"color\":\"#E5ECF6\",\"width\":0.5},\"pattern\":{\"fillmode\":\"overlay\",\"size\":10,\"solidity\":0.2}},\"type\":\"barpolar\"}],\"pie\":[{\"automargin\":true,\"type\":\"pie\"}]},\"layout\":{\"autotypenumbers\":\"strict\",\"colorway\":[\"#636efa\",\"#EF553B\",\"#00cc96\",\"#ab63fa\",\"#FFA15A\",\"#19d3f3\",\"#FF6692\",\"#B6E880\",\"#FF97FF\",\"#FECB52\"],\"font\":{\"color\":\"#2a3f5f\"},\"hovermode\":\"closest\",\"hoverlabel\":{\"align\":\"left\"},\"paper_bgcolor\":\"white\",\"plot_bgcolor\":\"#E5ECF6\",\"polar\":{\"bgcolor\":\"#E5ECF6\",\"angularaxis\":{\"gridcolor\":\"white\",\"linecolor\":\"white\",\"ticks\":\"\"},\"radialaxis\":{\"gridcolor\":\"white\",\"linecolor\":\"white\",\"ticks\":\"\"}},\"ternary\":{\"bgcolor\":\"#E5ECF6\",\"aaxis\":{\"gridcolor\":\"white\",\"linecolor\":\"white\",\"ticks\":\"\"},\"baxis\":{\"gridcolor\":\"white\",\"linecolor\":\"white\",\"ticks\":\"\"},\"caxis\":{\"gridcolor\":\"white\",\"linecolor\":\"white\",\"ticks\":\"\"}},\"coloraxis\":{\"colorbar\":{\"outlinewidth\":0,\"ticks\":\"\"}},\"colorscale\":{\"sequential\":[[0.0,\"#0d0887\"],[0.1111111111111111,\"#46039f\"],[0.2222222222222222,\"#7201a8\"],[0.3333333333333333,\"#9c179e\"],[0.4444444444444444,\"#bd3786\"],[0.5555555555555556,\"#d8576b\"],[0.6666666666666666,\"#ed7953\"],[0.7777777777777778,\"#fb9f3a\"],[0.8888888888888888,\"#fdca26\"],[1.0,\"#f0f921\"]],\"sequentialminus\":[[0.0,\"#0d0887\"],[0.1111111111111111,\"#46039f\"],[0.2222222222222222,\"#7201a8\"],[0.3333333333333333,\"#9c179e\"],[0.4444444444444444,\"#bd3786\"],[0.5555555555555556,\"#d8576b\"],[0.6666666666666666,\"#ed7953\"],[0.7777777777777778,\"#fb9f3a\"],[0.8888888888888888,\"#fdca26\"],[1.0,\"#f0f921\"]],\"diverging\":[[0,\"#8e0152\"],[0.1,\"#c51b7d\"],[0.2,\"#de77ae\"],[0.3,\"#f1b6da\"],[0.4,\"#fde0ef\"],[0.5,\"#f7f7f7\"],[0.6,\"#e6f5d0\"],[0.7,\"#b8e186\"],[0.8,\"#7fbc41\"],[0.9,\"#4d9221\"],[1,\"#276419\"]]},\"xaxis\":{\"gridcolor\":\"white\",\"linecolor\":\"white\",\"ticks\":\"\",\"title\":{\"standoff\":15},\"zerolinecolor\":\"white\",\"automargin\":true,\"zerolinewidth\":2},\"yaxis\":{\"gridcolor\":\"white\",\"linecolor\":\"white\",\"ticks\":\"\",\"title\":{\"standoff\":15},\"zerolinecolor\":\"white\",\"automargin\":true,\"zerolinewidth\":2},\"scene\":{\"xaxis\":{\"backgroundcolor\":\"#E5ECF6\",\"gridcolor\":\"white\",\"linecolor\":\"white\",\"showbackground\":true,\"ticks\":\"\",\"zerolinecolor\":\"white\",\"gridwidth\":2},\"yaxis\":{\"backgroundcolor\":\"#E5ECF6\",\"gridcolor\":\"white\",\"linecolor\":\"white\",\"showbackground\":true,\"ticks\":\"\",\"zerolinecolor\":\"white\",\"gridwidth\":2},\"zaxis\":{\"backgroundcolor\":\"#E5ECF6\",\"gridcolor\":\"white\",\"linecolor\":\"white\",\"showbackground\":true,\"ticks\":\"\",\"zerolinecolor\":\"white\",\"gridwidth\":2}},\"shapedefaults\":{\"line\":{\"color\":\"#2a3f5f\"}},\"annotationdefaults\":{\"arrowcolor\":\"#2a3f5f\",\"arrowhead\":0,\"arrowwidth\":1},\"geo\":{\"bgcolor\":\"white\",\"landcolor\":\"#E5ECF6\",\"subunitcolor\":\"white\",\"showland\":true,\"showlakes\":true,\"lakecolor\":\"white\"},\"title\":{\"x\":0.05},\"mapbox\":{\"style\":\"light\"}}},\"title\":{\"text\":\"FTSE100 Index - Prophet Forecast (Long-Term)\"},\"xaxis\":{\"title\":{\"text\":\"Date\"}},\"yaxis\":{\"title\":{\"text\":\"Predicted Price\"}}},                        {\"responsive\": true}                    ).then(function(){\n",
              "                            \n",
              "var gd = document.getElementById('83c96e73-86db-46dd-80eb-6e1fa7c285be');\n",
              "var x = new MutationObserver(function (mutations, observer) {{\n",
              "        var display = window.getComputedStyle(gd).display;\n",
              "        if (!display || display === 'none') {{\n",
              "            console.log([gd, 'removed!']);\n",
              "            Plotly.purge(gd);\n",
              "            observer.disconnect();\n",
              "        }}\n",
              "}});\n",
              "\n",
              "// Listen for the removal of the full notebook cells\n",
              "var notebookContainer = gd.closest('#notebook-container');\n",
              "if (notebookContainer) {{\n",
              "    x.observe(notebookContainer, {childList: true});\n",
              "}}\n",
              "\n",
              "// Listen for the clearing of the current output cell\n",
              "var outputEl = gd.closest('.output');\n",
              "if (outputEl) {{\n",
              "    x.observe(outputEl, {childList: true});\n",
              "}}\n",
              "\n",
              "                        })                };                            </script>        </div>\n",
              "</body>\n",
              "</html>"
            ]
          },
          "metadata": {}
        }
      ]
    }
  ]
}